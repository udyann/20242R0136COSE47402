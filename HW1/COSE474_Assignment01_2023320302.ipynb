{
  "nbformat": 4,
  "nbformat_minor": 0,
  "metadata": {
    "colab": {
      "provenance": [],
      "toc_visible": true,
      "collapsed_sections": [
        "6uiZSm3DFyIK"
      ]
    },
    "kernelspec": {
      "name": "python3",
      "display_name": "Python 3"
    },
    "language_info": {
      "name": "python"
    }
  },
  "cells": [
    {
      "cell_type": "markdown",
      "source": [
        "# libraries"
      ],
      "metadata": {
        "id": "6uiZSm3DFyIK"
      }
    },
    {
      "cell_type": "code",
      "execution_count": null,
      "metadata": {
        "colab": {
          "base_uri": "https://localhost:8080/"
        },
        "id": "egIph94ZN2sK",
        "outputId": "0fe78eb7-b280-464d-baa8-df6bd8194394",
        "collapsed": true
      },
      "outputs": [
        {
          "output_type": "stream",
          "name": "stdout",
          "text": [
            "Requirement already satisfied: d2l==1.0.3 in /usr/local/lib/python3.10/dist-packages (1.0.3)\n",
            "Requirement already satisfied: jupyter==1.0.0 in /usr/local/lib/python3.10/dist-packages (from d2l==1.0.3) (1.0.0)\n",
            "Requirement already satisfied: numpy==1.23.5 in /usr/local/lib/python3.10/dist-packages (from d2l==1.0.3) (1.23.5)\n",
            "Requirement already satisfied: matplotlib==3.7.2 in /usr/local/lib/python3.10/dist-packages (from d2l==1.0.3) (3.7.2)\n",
            "Requirement already satisfied: matplotlib-inline==0.1.6 in /usr/local/lib/python3.10/dist-packages (from d2l==1.0.3) (0.1.6)\n",
            "Requirement already satisfied: requests==2.31.0 in /usr/local/lib/python3.10/dist-packages (from d2l==1.0.3) (2.31.0)\n",
            "Requirement already satisfied: pandas==2.0.3 in /usr/local/lib/python3.10/dist-packages (from d2l==1.0.3) (2.0.3)\n",
            "Requirement already satisfied: scipy==1.10.1 in /usr/local/lib/python3.10/dist-packages (from d2l==1.0.3) (1.10.1)\n",
            "Requirement already satisfied: notebook in /usr/local/lib/python3.10/dist-packages (from jupyter==1.0.0->d2l==1.0.3) (6.5.5)\n",
            "Requirement already satisfied: qtconsole in /usr/local/lib/python3.10/dist-packages (from jupyter==1.0.0->d2l==1.0.3) (5.6.0)\n",
            "Requirement already satisfied: jupyter-console in /usr/local/lib/python3.10/dist-packages (from jupyter==1.0.0->d2l==1.0.3) (6.1.0)\n",
            "Requirement already satisfied: nbconvert in /usr/local/lib/python3.10/dist-packages (from jupyter==1.0.0->d2l==1.0.3) (6.5.4)\n",
            "Requirement already satisfied: ipykernel in /usr/local/lib/python3.10/dist-packages (from jupyter==1.0.0->d2l==1.0.3) (5.5.6)\n",
            "Requirement already satisfied: ipywidgets in /usr/local/lib/python3.10/dist-packages (from jupyter==1.0.0->d2l==1.0.3) (7.7.1)\n",
            "Requirement already satisfied: contourpy>=1.0.1 in /usr/local/lib/python3.10/dist-packages (from matplotlib==3.7.2->d2l==1.0.3) (1.3.0)\n",
            "Requirement already satisfied: cycler>=0.10 in /usr/local/lib/python3.10/dist-packages (from matplotlib==3.7.2->d2l==1.0.3) (0.12.1)\n",
            "Requirement already satisfied: fonttools>=4.22.0 in /usr/local/lib/python3.10/dist-packages (from matplotlib==3.7.2->d2l==1.0.3) (4.53.1)\n",
            "Requirement already satisfied: kiwisolver>=1.0.1 in /usr/local/lib/python3.10/dist-packages (from matplotlib==3.7.2->d2l==1.0.3) (1.4.7)\n",
            "Requirement already satisfied: packaging>=20.0 in /usr/local/lib/python3.10/dist-packages (from matplotlib==3.7.2->d2l==1.0.3) (24.1)\n",
            "Requirement already satisfied: pillow>=6.2.0 in /usr/local/lib/python3.10/dist-packages (from matplotlib==3.7.2->d2l==1.0.3) (10.4.0)\n",
            "Requirement already satisfied: pyparsing<3.1,>=2.3.1 in /usr/local/lib/python3.10/dist-packages (from matplotlib==3.7.2->d2l==1.0.3) (3.0.9)\n",
            "Requirement already satisfied: python-dateutil>=2.7 in /usr/local/lib/python3.10/dist-packages (from matplotlib==3.7.2->d2l==1.0.3) (2.8.2)\n",
            "Requirement already satisfied: traitlets in /usr/local/lib/python3.10/dist-packages (from matplotlib-inline==0.1.6->d2l==1.0.3) (5.7.1)\n",
            "Requirement already satisfied: pytz>=2020.1 in /usr/local/lib/python3.10/dist-packages (from pandas==2.0.3->d2l==1.0.3) (2024.2)\n",
            "Requirement already satisfied: tzdata>=2022.1 in /usr/local/lib/python3.10/dist-packages (from pandas==2.0.3->d2l==1.0.3) (2024.1)\n",
            "Requirement already satisfied: charset-normalizer<4,>=2 in /usr/local/lib/python3.10/dist-packages (from requests==2.31.0->d2l==1.0.3) (3.3.2)\n",
            "Requirement already satisfied: idna<4,>=2.5 in /usr/local/lib/python3.10/dist-packages (from requests==2.31.0->d2l==1.0.3) (3.10)\n",
            "Requirement already satisfied: urllib3<3,>=1.21.1 in /usr/local/lib/python3.10/dist-packages (from requests==2.31.0->d2l==1.0.3) (2.2.3)\n",
            "Requirement already satisfied: certifi>=2017.4.17 in /usr/local/lib/python3.10/dist-packages (from requests==2.31.0->d2l==1.0.3) (2024.8.30)\n",
            "Requirement already satisfied: six>=1.5 in /usr/local/lib/python3.10/dist-packages (from python-dateutil>=2.7->matplotlib==3.7.2->d2l==1.0.3) (1.16.0)\n",
            "Requirement already satisfied: ipython-genutils in /usr/local/lib/python3.10/dist-packages (from ipykernel->jupyter==1.0.0->d2l==1.0.3) (0.2.0)\n",
            "Requirement already satisfied: ipython>=5.0.0 in /usr/local/lib/python3.10/dist-packages (from ipykernel->jupyter==1.0.0->d2l==1.0.3) (7.34.0)\n",
            "Requirement already satisfied: jupyter-client in /usr/local/lib/python3.10/dist-packages (from ipykernel->jupyter==1.0.0->d2l==1.0.3) (6.1.12)\n",
            "Requirement already satisfied: tornado>=4.2 in /usr/local/lib/python3.10/dist-packages (from ipykernel->jupyter==1.0.0->d2l==1.0.3) (6.3.3)\n",
            "Requirement already satisfied: widgetsnbextension~=3.6.0 in /usr/local/lib/python3.10/dist-packages (from ipywidgets->jupyter==1.0.0->d2l==1.0.3) (3.6.9)\n",
            "Requirement already satisfied: jupyterlab-widgets>=1.0.0 in /usr/local/lib/python3.10/dist-packages (from ipywidgets->jupyter==1.0.0->d2l==1.0.3) (3.0.13)\n",
            "Requirement already satisfied: prompt-toolkit!=3.0.0,!=3.0.1,<3.1.0,>=2.0.0 in /usr/local/lib/python3.10/dist-packages (from jupyter-console->jupyter==1.0.0->d2l==1.0.3) (3.0.47)\n",
            "Requirement already satisfied: pygments in /usr/local/lib/python3.10/dist-packages (from jupyter-console->jupyter==1.0.0->d2l==1.0.3) (2.18.0)\n",
            "Requirement already satisfied: lxml in /usr/local/lib/python3.10/dist-packages (from nbconvert->jupyter==1.0.0->d2l==1.0.3) (4.9.4)\n",
            "Requirement already satisfied: beautifulsoup4 in /usr/local/lib/python3.10/dist-packages (from nbconvert->jupyter==1.0.0->d2l==1.0.3) (4.12.3)\n",
            "Requirement already satisfied: bleach in /usr/local/lib/python3.10/dist-packages (from nbconvert->jupyter==1.0.0->d2l==1.0.3) (6.1.0)\n",
            "Requirement already satisfied: defusedxml in /usr/local/lib/python3.10/dist-packages (from nbconvert->jupyter==1.0.0->d2l==1.0.3) (0.7.1)\n",
            "Requirement already satisfied: entrypoints>=0.2.2 in /usr/local/lib/python3.10/dist-packages (from nbconvert->jupyter==1.0.0->d2l==1.0.3) (0.4)\n",
            "Requirement already satisfied: jinja2>=3.0 in /usr/local/lib/python3.10/dist-packages (from nbconvert->jupyter==1.0.0->d2l==1.0.3) (3.1.4)\n",
            "Requirement already satisfied: jupyter-core>=4.7 in /usr/local/lib/python3.10/dist-packages (from nbconvert->jupyter==1.0.0->d2l==1.0.3) (5.7.2)\n",
            "Requirement already satisfied: jupyterlab-pygments in /usr/local/lib/python3.10/dist-packages (from nbconvert->jupyter==1.0.0->d2l==1.0.3) (0.3.0)\n",
            "Requirement already satisfied: MarkupSafe>=2.0 in /usr/local/lib/python3.10/dist-packages (from nbconvert->jupyter==1.0.0->d2l==1.0.3) (2.1.5)\n",
            "Requirement already satisfied: mistune<2,>=0.8.1 in /usr/local/lib/python3.10/dist-packages (from nbconvert->jupyter==1.0.0->d2l==1.0.3) (0.8.4)\n",
            "Requirement already satisfied: nbclient>=0.5.0 in /usr/local/lib/python3.10/dist-packages (from nbconvert->jupyter==1.0.0->d2l==1.0.3) (0.10.0)\n",
            "Requirement already satisfied: nbformat>=5.1 in /usr/local/lib/python3.10/dist-packages (from nbconvert->jupyter==1.0.0->d2l==1.0.3) (5.10.4)\n",
            "Requirement already satisfied: pandocfilters>=1.4.1 in /usr/local/lib/python3.10/dist-packages (from nbconvert->jupyter==1.0.0->d2l==1.0.3) (1.5.1)\n",
            "Requirement already satisfied: tinycss2 in /usr/local/lib/python3.10/dist-packages (from nbconvert->jupyter==1.0.0->d2l==1.0.3) (1.3.0)\n",
            "Requirement already satisfied: pyzmq<25,>=17 in /usr/local/lib/python3.10/dist-packages (from notebook->jupyter==1.0.0->d2l==1.0.3) (24.0.1)\n",
            "Requirement already satisfied: argon2-cffi in /usr/local/lib/python3.10/dist-packages (from notebook->jupyter==1.0.0->d2l==1.0.3) (23.1.0)\n",
            "Requirement already satisfied: nest-asyncio>=1.5 in /usr/local/lib/python3.10/dist-packages (from notebook->jupyter==1.0.0->d2l==1.0.3) (1.6.0)\n",
            "Requirement already satisfied: Send2Trash>=1.8.0 in /usr/local/lib/python3.10/dist-packages (from notebook->jupyter==1.0.0->d2l==1.0.3) (1.8.3)\n",
            "Requirement already satisfied: terminado>=0.8.3 in /usr/local/lib/python3.10/dist-packages (from notebook->jupyter==1.0.0->d2l==1.0.3) (0.18.1)\n",
            "Requirement already satisfied: prometheus-client in /usr/local/lib/python3.10/dist-packages (from notebook->jupyter==1.0.0->d2l==1.0.3) (0.20.0)\n",
            "Requirement already satisfied: nbclassic>=0.4.7 in /usr/local/lib/python3.10/dist-packages (from notebook->jupyter==1.0.0->d2l==1.0.3) (1.1.0)\n",
            "Requirement already satisfied: qtpy>=2.4.0 in /usr/local/lib/python3.10/dist-packages (from qtconsole->jupyter==1.0.0->d2l==1.0.3) (2.4.1)\n",
            "Requirement already satisfied: setuptools>=18.5 in /usr/local/lib/python3.10/dist-packages (from ipython>=5.0.0->ipykernel->jupyter==1.0.0->d2l==1.0.3) (71.0.4)\n",
            "Requirement already satisfied: jedi>=0.16 in /usr/local/lib/python3.10/dist-packages (from ipython>=5.0.0->ipykernel->jupyter==1.0.0->d2l==1.0.3) (0.19.1)\n",
            "Requirement already satisfied: decorator in /usr/local/lib/python3.10/dist-packages (from ipython>=5.0.0->ipykernel->jupyter==1.0.0->d2l==1.0.3) (4.4.2)\n",
            "Requirement already satisfied: pickleshare in /usr/local/lib/python3.10/dist-packages (from ipython>=5.0.0->ipykernel->jupyter==1.0.0->d2l==1.0.3) (0.7.5)\n",
            "Requirement already satisfied: backcall in /usr/local/lib/python3.10/dist-packages (from ipython>=5.0.0->ipykernel->jupyter==1.0.0->d2l==1.0.3) (0.2.0)\n",
            "Requirement already satisfied: pexpect>4.3 in /usr/local/lib/python3.10/dist-packages (from ipython>=5.0.0->ipykernel->jupyter==1.0.0->d2l==1.0.3) (4.9.0)\n",
            "Requirement already satisfied: platformdirs>=2.5 in /usr/local/lib/python3.10/dist-packages (from jupyter-core>=4.7->nbconvert->jupyter==1.0.0->d2l==1.0.3) (4.3.6)\n",
            "Requirement already satisfied: notebook-shim>=0.2.3 in /usr/local/lib/python3.10/dist-packages (from nbclassic>=0.4.7->notebook->jupyter==1.0.0->d2l==1.0.3) (0.2.4)\n",
            "Requirement already satisfied: fastjsonschema>=2.15 in /usr/local/lib/python3.10/dist-packages (from nbformat>=5.1->nbconvert->jupyter==1.0.0->d2l==1.0.3) (2.20.0)\n",
            "Requirement already satisfied: jsonschema>=2.6 in /usr/local/lib/python3.10/dist-packages (from nbformat>=5.1->nbconvert->jupyter==1.0.0->d2l==1.0.3) (4.23.0)\n",
            "Requirement already satisfied: wcwidth in /usr/local/lib/python3.10/dist-packages (from prompt-toolkit!=3.0.0,!=3.0.1,<3.1.0,>=2.0.0->jupyter-console->jupyter==1.0.0->d2l==1.0.3) (0.2.13)\n",
            "Requirement already satisfied: ptyprocess in /usr/local/lib/python3.10/dist-packages (from terminado>=0.8.3->notebook->jupyter==1.0.0->d2l==1.0.3) (0.7.0)\n",
            "Requirement already satisfied: argon2-cffi-bindings in /usr/local/lib/python3.10/dist-packages (from argon2-cffi->notebook->jupyter==1.0.0->d2l==1.0.3) (21.2.0)\n",
            "Requirement already satisfied: soupsieve>1.2 in /usr/local/lib/python3.10/dist-packages (from beautifulsoup4->nbconvert->jupyter==1.0.0->d2l==1.0.3) (2.6)\n",
            "Requirement already satisfied: webencodings in /usr/local/lib/python3.10/dist-packages (from bleach->nbconvert->jupyter==1.0.0->d2l==1.0.3) (0.5.1)\n",
            "Requirement already satisfied: parso<0.9.0,>=0.8.3 in /usr/local/lib/python3.10/dist-packages (from jedi>=0.16->ipython>=5.0.0->ipykernel->jupyter==1.0.0->d2l==1.0.3) (0.8.4)\n",
            "Requirement already satisfied: attrs>=22.2.0 in /usr/local/lib/python3.10/dist-packages (from jsonschema>=2.6->nbformat>=5.1->nbconvert->jupyter==1.0.0->d2l==1.0.3) (24.2.0)\n",
            "Requirement already satisfied: jsonschema-specifications>=2023.03.6 in /usr/local/lib/python3.10/dist-packages (from jsonschema>=2.6->nbformat>=5.1->nbconvert->jupyter==1.0.0->d2l==1.0.3) (2023.12.1)\n",
            "Requirement already satisfied: referencing>=0.28.4 in /usr/local/lib/python3.10/dist-packages (from jsonschema>=2.6->nbformat>=5.1->nbconvert->jupyter==1.0.0->d2l==1.0.3) (0.35.1)\n",
            "Requirement already satisfied: rpds-py>=0.7.1 in /usr/local/lib/python3.10/dist-packages (from jsonschema>=2.6->nbformat>=5.1->nbconvert->jupyter==1.0.0->d2l==1.0.3) (0.20.0)\n",
            "Requirement already satisfied: jupyter-server<3,>=1.8 in /usr/local/lib/python3.10/dist-packages (from notebook-shim>=0.2.3->nbclassic>=0.4.7->notebook->jupyter==1.0.0->d2l==1.0.3) (1.24.0)\n",
            "Requirement already satisfied: cffi>=1.0.1 in /usr/local/lib/python3.10/dist-packages (from argon2-cffi-bindings->argon2-cffi->notebook->jupyter==1.0.0->d2l==1.0.3) (1.17.1)\n",
            "Requirement already satisfied: pycparser in /usr/local/lib/python3.10/dist-packages (from cffi>=1.0.1->argon2-cffi-bindings->argon2-cffi->notebook->jupyter==1.0.0->d2l==1.0.3) (2.22)\n",
            "Requirement already satisfied: anyio<4,>=3.1.0 in /usr/local/lib/python3.10/dist-packages (from jupyter-server<3,>=1.8->notebook-shim>=0.2.3->nbclassic>=0.4.7->notebook->jupyter==1.0.0->d2l==1.0.3) (3.7.1)\n",
            "Requirement already satisfied: websocket-client in /usr/local/lib/python3.10/dist-packages (from jupyter-server<3,>=1.8->notebook-shim>=0.2.3->nbclassic>=0.4.7->notebook->jupyter==1.0.0->d2l==1.0.3) (1.8.0)\n",
            "Requirement already satisfied: sniffio>=1.1 in /usr/local/lib/python3.10/dist-packages (from anyio<4,>=3.1.0->jupyter-server<3,>=1.8->notebook-shim>=0.2.3->nbclassic>=0.4.7->notebook->jupyter==1.0.0->d2l==1.0.3) (1.3.1)\n",
            "Requirement already satisfied: exceptiongroup in /usr/local/lib/python3.10/dist-packages (from anyio<4,>=3.1.0->jupyter-server<3,>=1.8->notebook-shim>=0.2.3->nbclassic>=0.4.7->notebook->jupyter==1.0.0->d2l==1.0.3) (1.2.2)\n"
          ]
        }
      ],
      "source": [
        "!pip install d2l==1.0.3"
      ]
    },
    {
      "cell_type": "markdown",
      "source": [
        "# 2.1"
      ],
      "metadata": {
        "id": "q0pAcS1COCEJ"
      }
    },
    {
      "cell_type": "markdown",
      "source": [
        "## code"
      ],
      "metadata": {
        "id": "Pvtwm15dNPYS"
      }
    },
    {
      "cell_type": "code",
      "source": [
        "import torch"
      ],
      "metadata": {
        "id": "UxFQDN8FF4EM"
      },
      "execution_count": null,
      "outputs": []
    },
    {
      "cell_type": "code",
      "source": [
        "x = torch.arange(12, dtype=torch.float32)\n",
        "x"
      ],
      "metadata": {
        "colab": {
          "base_uri": "https://localhost:8080/"
        },
        "id": "EXa7DFvzGMK3",
        "outputId": "7affb52c-7163-497b-8c58-96523a80a6b2"
      },
      "execution_count": null,
      "outputs": [
        {
          "output_type": "execute_result",
          "data": {
            "text/plain": [
              "tensor([ 0.,  1.,  2.,  3.,  4.,  5.,  6.,  7.,  8.,  9., 10., 11.])"
            ]
          },
          "metadata": {},
          "execution_count": 3
        }
      ]
    },
    {
      "cell_type": "code",
      "source": [
        "x.numel()"
      ],
      "metadata": {
        "colab": {
          "base_uri": "https://localhost:8080/"
        },
        "id": "E17Eu7u_GvyZ",
        "outputId": "b64374b1-5bba-4feb-fa63-679a7c7f5042"
      },
      "execution_count": null,
      "outputs": [
        {
          "output_type": "execute_result",
          "data": {
            "text/plain": [
              "12"
            ]
          },
          "metadata": {},
          "execution_count": 5
        }
      ]
    },
    {
      "cell_type": "code",
      "source": [
        "x.shape"
      ],
      "metadata": {
        "colab": {
          "base_uri": "https://localhost:8080/"
        },
        "id": "SBEQvligGw-l",
        "outputId": "9d3cccf5-9187-450b-d454-4bced858e62a"
      },
      "execution_count": null,
      "outputs": [
        {
          "output_type": "execute_result",
          "data": {
            "text/plain": [
              "torch.Size([12])"
            ]
          },
          "metadata": {},
          "execution_count": 6
        }
      ]
    },
    {
      "cell_type": "code",
      "source": [
        "X = x.reshape(3, 4)\n",
        "print('X:', X)\n",
        "print('shape:', X.shape)"
      ],
      "metadata": {
        "colab": {
          "base_uri": "https://localhost:8080/"
        },
        "id": "RAj97wUBG3QI",
        "outputId": "279cda39-ba87-4a7a-e6dd-a6a7ebafff85"
      },
      "execution_count": null,
      "outputs": [
        {
          "output_type": "stream",
          "name": "stdout",
          "text": [
            "X: tensor([[ 0.,  1.,  2.,  3.],\n",
            "        [ 4.,  5.,  6.,  7.],\n",
            "        [ 8.,  9., 10., 11.]])\n",
            "shape: torch.Size([3, 4])\n"
          ]
        }
      ]
    },
    {
      "cell_type": "code",
      "source": [
        "torch.zeros((2,3,4))"
      ],
      "metadata": {
        "colab": {
          "base_uri": "https://localhost:8080/"
        },
        "id": "3LZpylJVG5hS",
        "outputId": "b57efcc9-3a2d-416b-bda5-6e4e567b95d4"
      },
      "execution_count": null,
      "outputs": [
        {
          "output_type": "execute_result",
          "data": {
            "text/plain": [
              "tensor([[[0., 0., 0., 0.],\n",
              "         [0., 0., 0., 0.],\n",
              "         [0., 0., 0., 0.]],\n",
              "\n",
              "        [[0., 0., 0., 0.],\n",
              "         [0., 0., 0., 0.],\n",
              "         [0., 0., 0., 0.]]])"
            ]
          },
          "metadata": {},
          "execution_count": 9
        }
      ]
    },
    {
      "cell_type": "code",
      "source": [
        "torch.ones((2, 3, 4))"
      ],
      "metadata": {
        "colab": {
          "base_uri": "https://localhost:8080/"
        },
        "id": "CGrPcNIJHLWA",
        "outputId": "8c2d97e6-3ebd-4f54-df31-a0e09294507c"
      },
      "execution_count": null,
      "outputs": [
        {
          "output_type": "execute_result",
          "data": {
            "text/plain": [
              "tensor([[[1., 1., 1., 1.],\n",
              "         [1., 1., 1., 1.],\n",
              "         [1., 1., 1., 1.]],\n",
              "\n",
              "        [[1., 1., 1., 1.],\n",
              "         [1., 1., 1., 1.],\n",
              "         [1., 1., 1., 1.]]])"
            ]
          },
          "metadata": {},
          "execution_count": 10
        }
      ]
    },
    {
      "cell_type": "code",
      "source": [
        "torch.randn(3, 4)"
      ],
      "metadata": {
        "colab": {
          "base_uri": "https://localhost:8080/"
        },
        "id": "a0BX6FDTHWH5",
        "outputId": "63583a0e-e227-43df-8b65-a9883c15453a"
      },
      "execution_count": null,
      "outputs": [
        {
          "output_type": "execute_result",
          "data": {
            "text/plain": [
              "tensor([[ 0.1192,  2.0568, -0.9890,  1.2199],\n",
              "        [ 0.7317, -1.8817, -1.0907,  1.7333],\n",
              "        [-0.4530,  0.6989,  1.0457, -0.5593]])"
            ]
          },
          "metadata": {},
          "execution_count": 11
        }
      ]
    },
    {
      "cell_type": "code",
      "source": [
        "a = torch.tensor([[2, 1, 4, 3], [1, 2, 3, 4], [4, 3, 2, 1]])\n",
        "print(a)"
      ],
      "metadata": {
        "colab": {
          "base_uri": "https://localhost:8080/"
        },
        "id": "nWvvUuXZHZNm",
        "outputId": "f47cca16-4a90-48c7-ee2d-40231b677b52"
      },
      "execution_count": null,
      "outputs": [
        {
          "output_type": "stream",
          "name": "stdout",
          "text": [
            "tensor([[2, 1, 4, 3],\n",
            "        [1, 2, 3, 4],\n",
            "        [4, 3, 2, 1]])\n"
          ]
        }
      ]
    },
    {
      "cell_type": "code",
      "source": [
        "X[1, 2] = 20\n",
        "X"
      ],
      "metadata": {
        "colab": {
          "base_uri": "https://localhost:8080/"
        },
        "id": "0a2APnLyHeuY",
        "outputId": "776e23c1-1540-4380-ce9f-5cec1db930c4"
      },
      "execution_count": null,
      "outputs": [
        {
          "output_type": "execute_result",
          "data": {
            "text/plain": [
              "tensor([[ 0.,  1.,  2.,  3.],\n",
              "        [ 4.,  5., 20.,  7.],\n",
              "        [ 8.,  9., 10., 11.]])"
            ]
          },
          "metadata": {},
          "execution_count": 14
        }
      ]
    },
    {
      "cell_type": "code",
      "source": [
        "X[:2, :] = 12\n",
        "X"
      ],
      "metadata": {
        "colab": {
          "base_uri": "https://localhost:8080/"
        },
        "id": "GzymayiaH_CA",
        "outputId": "d9f544e4-c91d-40f2-fce0-b0dd1ee34e71"
      },
      "execution_count": null,
      "outputs": [
        {
          "output_type": "execute_result",
          "data": {
            "text/plain": [
              "tensor([[12., 12., 12., 12.],\n",
              "        [12., 12., 12., 12.],\n",
              "        [ 8.,  9., 10., 11.]])"
            ]
          },
          "metadata": {},
          "execution_count": 15
        }
      ]
    },
    {
      "cell_type": "code",
      "source": [
        "torch.exp(x)"
      ],
      "metadata": {
        "colab": {
          "base_uri": "https://localhost:8080/"
        },
        "id": "oKpmPHpMIBdX",
        "outputId": "23fd651b-0493-49f8-a913-c55be383841b"
      },
      "execution_count": null,
      "outputs": [
        {
          "output_type": "execute_result",
          "data": {
            "text/plain": [
              "tensor([162754.7969, 162754.7969, 162754.7969, 162754.7969, 162754.7969,\n",
              "        162754.7969, 162754.7969, 162754.7969,   2980.9580,   8103.0840,\n",
              "         22026.4648,  59874.1406])"
            ]
          },
          "metadata": {},
          "execution_count": 16
        }
      ]
    },
    {
      "cell_type": "code",
      "source": [
        "x = torch.tensor([1.0, 2, 4, 8])\n",
        "y = torch.tensor([2, 2, 2, 2])\n",
        "x + y, x - y, x * y, x / y, x ** y"
      ],
      "metadata": {
        "colab": {
          "base_uri": "https://localhost:8080/"
        },
        "id": "mvKkUWQQK1-V",
        "outputId": "7d240919-b1f9-47c0-8d6c-f1f284fdb9b1"
      },
      "execution_count": null,
      "outputs": [
        {
          "output_type": "execute_result",
          "data": {
            "text/plain": [
              "(tensor([ 3.,  4.,  6., 10.]),\n",
              " tensor([-1.,  0.,  2.,  6.]),\n",
              " tensor([ 2.,  4.,  8., 16.]),\n",
              " tensor([0.5000, 1.0000, 2.0000, 4.0000]),\n",
              " tensor([ 1.,  4., 16., 64.]))"
            ]
          },
          "metadata": {},
          "execution_count": 17
        }
      ]
    },
    {
      "cell_type": "code",
      "source": [
        "X = torch.arange(12, dtype=torch.float32).reshape((-1,4))\n",
        "Y = torch.tensor([[2.0, 1, 4, 3], [1, 2, 3, 4], [4, 3, 2, 1]])\n",
        "torch.cat((X, Y), dim=0), torch.cat((X, Y), dim=1)"
      ],
      "metadata": {
        "colab": {
          "base_uri": "https://localhost:8080/"
        },
        "id": "LbZ25w-mK3JG",
        "outputId": "65d5d268-2ce5-4fe5-e3f9-24931abd894f"
      },
      "execution_count": null,
      "outputs": [
        {
          "output_type": "execute_result",
          "data": {
            "text/plain": [
              "(tensor([[ 0.,  1.,  2.,  3.],\n",
              "         [ 4.,  5.,  6.,  7.],\n",
              "         [ 8.,  9., 10., 11.],\n",
              "         [ 2.,  1.,  4.,  3.],\n",
              "         [ 1.,  2.,  3.,  4.],\n",
              "         [ 4.,  3.,  2.,  1.]]),\n",
              " tensor([[ 0.,  1.,  2.,  3.,  2.,  1.,  4.,  3.],\n",
              "         [ 4.,  5.,  6.,  7.,  1.,  2.,  3.,  4.],\n",
              "         [ 8.,  9., 10., 11.,  4.,  3.,  2.,  1.]]))"
            ]
          },
          "metadata": {},
          "execution_count": 19
        }
      ]
    },
    {
      "cell_type": "code",
      "source": [
        "X == Y"
      ],
      "metadata": {
        "colab": {
          "base_uri": "https://localhost:8080/"
        },
        "id": "htSWCV4fK_6o",
        "outputId": "81250e79-5487-4cad-c698-f6a33a737d98"
      },
      "execution_count": null,
      "outputs": [
        {
          "output_type": "execute_result",
          "data": {
            "text/plain": [
              "tensor([[False,  True, False,  True],\n",
              "        [False, False, False, False],\n",
              "        [False, False, False, False]])"
            ]
          },
          "metadata": {},
          "execution_count": 20
        }
      ]
    },
    {
      "cell_type": "code",
      "source": [
        "X.sum()"
      ],
      "metadata": {
        "colab": {
          "base_uri": "https://localhost:8080/"
        },
        "id": "T8iWkut_LVcS",
        "outputId": "5dd57077-0ccf-4f5d-bf69-fe134e1b931a"
      },
      "execution_count": null,
      "outputs": [
        {
          "output_type": "execute_result",
          "data": {
            "text/plain": [
              "tensor(66.)"
            ]
          },
          "metadata": {},
          "execution_count": 21
        }
      ]
    },
    {
      "cell_type": "code",
      "source": [
        "a = torch.arange(3).reshape((3, 1))\n",
        "a = a + 1\n",
        "b = torch.arange(2).reshape((1, 2))\n",
        "a, b"
      ],
      "metadata": {
        "colab": {
          "base_uri": "https://localhost:8080/"
        },
        "id": "4iYekcxiLXKK",
        "outputId": "b15eb4c6-a4f8-43f3-d3b7-22caa16ebb1d"
      },
      "execution_count": null,
      "outputs": [
        {
          "output_type": "execute_result",
          "data": {
            "text/plain": [
              "(tensor([[1],\n",
              "         [2],\n",
              "         [3]]),\n",
              " tensor([[0, 1]]))"
            ]
          },
          "metadata": {},
          "execution_count": 24
        }
      ]
    },
    {
      "cell_type": "code",
      "source": [
        "a+b"
      ],
      "metadata": {
        "colab": {
          "base_uri": "https://localhost:8080/"
        },
        "id": "WKJ9d6maLn6a",
        "outputId": "17803998-71ba-4e2a-9d9d-db48f346e94d"
      },
      "execution_count": null,
      "outputs": [
        {
          "output_type": "execute_result",
          "data": {
            "text/plain": [
              "tensor([[1, 2],\n",
              "        [2, 3],\n",
              "        [3, 4]])"
            ]
          },
          "metadata": {},
          "execution_count": 25
        }
      ]
    },
    {
      "cell_type": "code",
      "source": [
        "Z = torch.zeros_like(Y)\n",
        "print('id(Z):', id(Z))\n",
        "Z[:] = X + Y\n",
        "print('id(Z):', id(Z))"
      ],
      "metadata": {
        "colab": {
          "base_uri": "https://localhost:8080/"
        },
        "id": "mFIMyxLzLpWX",
        "outputId": "1b2729b2-3df9-49a8-9726-9ea4fb68ed3f"
      },
      "execution_count": null,
      "outputs": [
        {
          "output_type": "stream",
          "name": "stdout",
          "text": [
            "id(Z): 133832996897312\n",
            "id(Z): 133832996897312\n"
          ]
        }
      ]
    },
    {
      "cell_type": "code",
      "source": [
        "before = id(X)\n",
        "X += Y\n",
        "id(X) == before"
      ],
      "metadata": {
        "colab": {
          "base_uri": "https://localhost:8080/"
        },
        "id": "HGD3cF8HMq8b",
        "outputId": "bf647e9d-f873-4606-919d-9c6b57361d96"
      },
      "execution_count": null,
      "outputs": [
        {
          "output_type": "execute_result",
          "data": {
            "text/plain": [
              "True"
            ]
          },
          "metadata": {},
          "execution_count": 27
        }
      ]
    },
    {
      "cell_type": "code",
      "source": [
        "A = X.numpy()\n",
        "B = torch.from_numpy(A)\n",
        "type(A), type(B)"
      ],
      "metadata": {
        "colab": {
          "base_uri": "https://localhost:8080/"
        },
        "id": "HVkfNTdzMr4f",
        "outputId": "392ef3e2-13f9-4782-f455-035ae2329b44"
      },
      "execution_count": null,
      "outputs": [
        {
          "output_type": "execute_result",
          "data": {
            "text/plain": [
              "(numpy.ndarray, torch.Tensor)"
            ]
          },
          "metadata": {},
          "execution_count": 28
        }
      ]
    },
    {
      "cell_type": "code",
      "source": [
        "a = torch.tensor([3.5])\n",
        "a, a.item(), float(a), int(a)"
      ],
      "metadata": {
        "colab": {
          "base_uri": "https://localhost:8080/"
        },
        "id": "tIV9Vn8VM1YN",
        "outputId": "c8f5dc8b-ba54-4254-edf5-9e0f57a39f79"
      },
      "execution_count": null,
      "outputs": [
        {
          "output_type": "execute_result",
          "data": {
            "text/plain": [
              "(tensor([3.5000]), 3.5, 3.5, 3)"
            ]
          },
          "metadata": {},
          "execution_count": 29
        }
      ]
    },
    {
      "cell_type": "markdown",
      "source": [
        "## exercise"
      ],
      "metadata": {
        "id": "ZUZdwEdlNTee"
      }
    },
    {
      "cell_type": "code",
      "source": [
        "X = torch.arange(12, dtype=torch.float32).reshape((-1,4))\n",
        "Y = torch.tensor([[2.0, 1, 4, 3], [1, 2, 3, 4], [4, 3, 2, 1]])\n",
        "torch.cat((X, Y), dim=0), torch.cat((X, Y), dim=1)\n",
        "X, Y, X>Y, X>=Y"
      ],
      "metadata": {
        "colab": {
          "base_uri": "https://localhost:8080/"
        },
        "id": "9IVk0dzoM2Dy",
        "outputId": "df78f3be-f46a-4a06-de08-1bed2a874894"
      },
      "execution_count": null,
      "outputs": [
        {
          "output_type": "execute_result",
          "data": {
            "text/plain": [
              "(tensor([[ 0.,  1.,  2.,  3.],\n",
              "         [ 4.,  5.,  6.,  7.],\n",
              "         [ 8.,  9., 10., 11.]]),\n",
              " tensor([[2., 1., 4., 3.],\n",
              "         [1., 2., 3., 4.],\n",
              "         [4., 3., 2., 1.]]),\n",
              " tensor([[False, False, False, False],\n",
              "         [ True,  True,  True,  True],\n",
              "         [ True,  True,  True,  True]]),\n",
              " tensor([[False,  True, False,  True],\n",
              "         [ True,  True,  True,  True],\n",
              "         [ True,  True,  True,  True]]))"
            ]
          },
          "metadata": {},
          "execution_count": 30
        }
      ]
    },
    {
      "cell_type": "code",
      "source": [
        "X = torch.tensor([[[1,2],[3,4]],[[5,6],[7,8]]])\n",
        "Y = torch.tensor(2)\n",
        "X+Y"
      ],
      "metadata": {
        "colab": {
          "base_uri": "https://localhost:8080/"
        },
        "id": "90vpTU53NVl1",
        "outputId": "d17891c2-9ce7-4cac-a0e8-46cecf1282dd"
      },
      "execution_count": null,
      "outputs": [
        {
          "output_type": "execute_result",
          "data": {
            "text/plain": [
              "tensor([[[ 3,  4],\n",
              "         [ 5,  6]],\n",
              "\n",
              "        [[ 7,  8],\n",
              "         [ 9, 10]]])"
            ]
          },
          "metadata": {},
          "execution_count": 31
        }
      ]
    },
    {
      "cell_type": "markdown",
      "source": [
        "# 2.2"
      ],
      "metadata": {
        "id": "1GmAkBr0N8Z4"
      }
    },
    {
      "cell_type": "markdown",
      "source": [
        "## code"
      ],
      "metadata": {
        "id": "WGgJDiOGN-hv"
      }
    },
    {
      "cell_type": "code",
      "source": [
        "import os\n",
        "import pandas as pd\n",
        "import torch"
      ],
      "metadata": {
        "id": "h815Z6VlN983"
      },
      "execution_count": null,
      "outputs": []
    },
    {
      "cell_type": "code",
      "source": [
        "os.makedirs(os.path.join('..', 'data'), exist_ok=True)\n",
        "data_file = os.path.join('..', 'data', 'house_tiny.csv')\n",
        "with open(data_file, 'w') as f:\n",
        "    f.write('''NumRooms,RoofType,Price\n",
        "NA,NA,127500\n",
        "2,NA,106000\n",
        "4,Slate,178100\n",
        "NA,NA,140000''')"
      ],
      "metadata": {
        "id": "HJB-fp_9OJX_"
      },
      "execution_count": null,
      "outputs": []
    },
    {
      "cell_type": "code",
      "source": [
        "data = pd.read_csv(data_file)\n",
        "print(data)"
      ],
      "metadata": {
        "colab": {
          "base_uri": "https://localhost:8080/"
        },
        "id": "Bu5mw69YOPrk",
        "outputId": "1363f07f-7b26-4e0b-e635-4ea5d810916c"
      },
      "execution_count": null,
      "outputs": [
        {
          "output_type": "stream",
          "name": "stdout",
          "text": [
            "   NumRooms RoofType   Price\n",
            "0       NaN      NaN  127500\n",
            "1       2.0      NaN  106000\n",
            "2       4.0    Slate  178100\n",
            "3       NaN      NaN  140000\n"
          ]
        }
      ]
    },
    {
      "cell_type": "code",
      "source": [
        "inputs, targets = data.iloc[:, 0:2], data.iloc[:, 2]\n",
        "inputs = pd.get_dummies(inputs, dummy_na=True)\n",
        "print(inputs)"
      ],
      "metadata": {
        "colab": {
          "base_uri": "https://localhost:8080/"
        },
        "id": "0MbFQ2-4OTI5",
        "outputId": "9355beb8-c7dc-41ef-da0e-b32a4a0f5b5c"
      },
      "execution_count": null,
      "outputs": [
        {
          "output_type": "stream",
          "name": "stdout",
          "text": [
            "   NumRooms  RoofType_Slate  RoofType_nan\n",
            "0       NaN           False          True\n",
            "1       2.0           False          True\n",
            "2       4.0            True         False\n",
            "3       NaN           False          True\n"
          ]
        }
      ]
    },
    {
      "cell_type": "code",
      "source": [
        "inputs = inputs.fillna(inputs.mean())\n",
        "print(inputs)"
      ],
      "metadata": {
        "colab": {
          "base_uri": "https://localhost:8080/"
        },
        "id": "_o0HPQujOxwq",
        "outputId": "34b9cc14-25b9-4105-d4f1-c650dc4e8e1f"
      },
      "execution_count": null,
      "outputs": [
        {
          "output_type": "stream",
          "name": "stdout",
          "text": [
            "   NumRooms  RoofType_Slate  RoofType_nan\n",
            "0       3.0           False          True\n",
            "1       2.0           False          True\n",
            "2       4.0            True         False\n",
            "3       3.0           False          True\n"
          ]
        }
      ]
    },
    {
      "cell_type": "code",
      "source": [
        "X = torch.tensor(inputs.to_numpy(dtype=float))\n",
        "y = torch.tensor(targets.to_numpy(dtype=float))\n",
        "X, y"
      ],
      "metadata": {
        "colab": {
          "base_uri": "https://localhost:8080/"
        },
        "id": "iSVnn0dyOyuP",
        "outputId": "962e6d34-932b-4a97-fcd3-698bda1171f4"
      },
      "execution_count": null,
      "outputs": [
        {
          "output_type": "execute_result",
          "data": {
            "text/plain": [
              "(tensor([[3., 0., 1.],\n",
              "         [2., 0., 1.],\n",
              "         [4., 1., 0.],\n",
              "         [3., 0., 1.]], dtype=torch.float64),\n",
              " tensor([127500., 106000., 178100., 140000.], dtype=torch.float64))"
            ]
          },
          "metadata": {},
          "execution_count": 38
        }
      ]
    },
    {
      "cell_type": "markdown",
      "source": [
        "## exercise"
      ],
      "metadata": {
        "id": "-2370RIoQNeF"
      }
    },
    {
      "cell_type": "code",
      "source": [
        "!pip install ucimlrepo"
      ],
      "metadata": {
        "colab": {
          "base_uri": "https://localhost:8080/"
        },
        "collapsed": true,
        "id": "aih_7nUJO5C5",
        "outputId": "345a8a50-adb8-4298-959b-cef80eecf6fa"
      },
      "execution_count": null,
      "outputs": [
        {
          "output_type": "stream",
          "name": "stdout",
          "text": [
            "Requirement already satisfied: ucimlrepo in /usr/local/lib/python3.10/dist-packages (0.0.7)\n",
            "Requirement already satisfied: pandas>=1.0.0 in /usr/local/lib/python3.10/dist-packages (from ucimlrepo) (2.0.3)\n",
            "Requirement already satisfied: certifi>=2020.12.5 in /usr/local/lib/python3.10/dist-packages (from ucimlrepo) (2024.8.30)\n",
            "Requirement already satisfied: python-dateutil>=2.8.2 in /usr/local/lib/python3.10/dist-packages (from pandas>=1.0.0->ucimlrepo) (2.8.2)\n",
            "Requirement already satisfied: pytz>=2020.1 in /usr/local/lib/python3.10/dist-packages (from pandas>=1.0.0->ucimlrepo) (2024.2)\n",
            "Requirement already satisfied: tzdata>=2022.1 in /usr/local/lib/python3.10/dist-packages (from pandas>=1.0.0->ucimlrepo) (2024.1)\n",
            "Requirement already satisfied: numpy>=1.21.0 in /usr/local/lib/python3.10/dist-packages (from pandas>=1.0.0->ucimlrepo) (1.23.5)\n",
            "Requirement already satisfied: six>=1.5 in /usr/local/lib/python3.10/dist-packages (from python-dateutil>=2.8.2->pandas>=1.0.0->ucimlrepo) (1.16.0)\n"
          ]
        }
      ]
    },
    {
      "cell_type": "code",
      "source": [
        "from ucimlrepo import fetch_ucirepo\n",
        "\n",
        "# fetch dataset\n",
        "wine = fetch_ucirepo(id=109)\n",
        "\n",
        "# data (as pandas dataframes)\n",
        "X = wine.data.features\n",
        "y = wine.data.targets\n",
        "\n",
        "wine.data"
      ],
      "metadata": {
        "colab": {
          "base_uri": "https://localhost:8080/"
        },
        "id": "vquzkBu7QRSN",
        "outputId": "01aba217-c99c-46cc-c6a7-5f863af891b2",
        "collapsed": true
      },
      "execution_count": null,
      "outputs": [
        {
          "output_type": "execute_result",
          "data": {
            "text/plain": [
              "{'ids': None,\n",
              " 'features':      Alcohol  Malicacid   Ash  Alcalinity_of_ash  Magnesium  Total_phenols  \\\n",
              " 0      14.23       1.71  2.43               15.6        127           2.80   \n",
              " 1      13.20       1.78  2.14               11.2        100           2.65   \n",
              " 2      13.16       2.36  2.67               18.6        101           2.80   \n",
              " 3      14.37       1.95  2.50               16.8        113           3.85   \n",
              " 4      13.24       2.59  2.87               21.0        118           2.80   \n",
              " ..       ...        ...   ...                ...        ...            ...   \n",
              " 173    13.71       5.65  2.45               20.5         95           1.68   \n",
              " 174    13.40       3.91  2.48               23.0        102           1.80   \n",
              " 175    13.27       4.28  2.26               20.0        120           1.59   \n",
              " 176    13.17       2.59  2.37               20.0        120           1.65   \n",
              " 177    14.13       4.10  2.74               24.5         96           2.05   \n",
              " \n",
              "      Flavanoids  Nonflavanoid_phenols  Proanthocyanins  Color_intensity   Hue  \\\n",
              " 0          3.06                  0.28             2.29             5.64  1.04   \n",
              " 1          2.76                  0.26             1.28             4.38  1.05   \n",
              " 2          3.24                  0.30             2.81             5.68  1.03   \n",
              " 3          3.49                  0.24             2.18             7.80  0.86   \n",
              " 4          2.69                  0.39             1.82             4.32  1.04   \n",
              " ..          ...                   ...              ...              ...   ...   \n",
              " 173        0.61                  0.52             1.06             7.70  0.64   \n",
              " 174        0.75                  0.43             1.41             7.30  0.70   \n",
              " 175        0.69                  0.43             1.35            10.20  0.59   \n",
              " 176        0.68                  0.53             1.46             9.30  0.60   \n",
              " 177        0.76                  0.56             1.35             9.20  0.61   \n",
              " \n",
              "      0D280_0D315_of_diluted_wines  Proline  \n",
              " 0                            3.92     1065  \n",
              " 1                            3.40     1050  \n",
              " 2                            3.17     1185  \n",
              " 3                            3.45     1480  \n",
              " 4                            2.93      735  \n",
              " ..                            ...      ...  \n",
              " 173                          1.74      740  \n",
              " 174                          1.56      750  \n",
              " 175                          1.56      835  \n",
              " 176                          1.62      840  \n",
              " 177                          1.60      560  \n",
              " \n",
              " [178 rows x 13 columns],\n",
              " 'targets':      class\n",
              " 0        1\n",
              " 1        1\n",
              " 2        1\n",
              " 3        1\n",
              " 4        1\n",
              " ..     ...\n",
              " 173      3\n",
              " 174      3\n",
              " 175      3\n",
              " 176      3\n",
              " 177      3\n",
              " \n",
              " [178 rows x 1 columns],\n",
              " 'original':      Alcohol  Malicacid   Ash  Alcalinity_of_ash  Magnesium  Total_phenols  \\\n",
              " 0      14.23       1.71  2.43               15.6        127           2.80   \n",
              " 1      13.20       1.78  2.14               11.2        100           2.65   \n",
              " 2      13.16       2.36  2.67               18.6        101           2.80   \n",
              " 3      14.37       1.95  2.50               16.8        113           3.85   \n",
              " 4      13.24       2.59  2.87               21.0        118           2.80   \n",
              " ..       ...        ...   ...                ...        ...            ...   \n",
              " 173    13.71       5.65  2.45               20.5         95           1.68   \n",
              " 174    13.40       3.91  2.48               23.0        102           1.80   \n",
              " 175    13.27       4.28  2.26               20.0        120           1.59   \n",
              " 176    13.17       2.59  2.37               20.0        120           1.65   \n",
              " 177    14.13       4.10  2.74               24.5         96           2.05   \n",
              " \n",
              "      Flavanoids  Nonflavanoid_phenols  Proanthocyanins  Color_intensity   Hue  \\\n",
              " 0          3.06                  0.28             2.29             5.64  1.04   \n",
              " 1          2.76                  0.26             1.28             4.38  1.05   \n",
              " 2          3.24                  0.30             2.81             5.68  1.03   \n",
              " 3          3.49                  0.24             2.18             7.80  0.86   \n",
              " 4          2.69                  0.39             1.82             4.32  1.04   \n",
              " ..          ...                   ...              ...              ...   ...   \n",
              " 173        0.61                  0.52             1.06             7.70  0.64   \n",
              " 174        0.75                  0.43             1.41             7.30  0.70   \n",
              " 175        0.69                  0.43             1.35            10.20  0.59   \n",
              " 176        0.68                  0.53             1.46             9.30  0.60   \n",
              " 177        0.76                  0.56             1.35             9.20  0.61   \n",
              " \n",
              "      0D280_0D315_of_diluted_wines  Proline  class  \n",
              " 0                            3.92     1065      1  \n",
              " 1                            3.40     1050      1  \n",
              " 2                            3.17     1185      1  \n",
              " 3                            3.45     1480      1  \n",
              " 4                            2.93      735      1  \n",
              " ..                            ...      ...    ...  \n",
              " 173                          1.74      740      3  \n",
              " 174                          1.56      750      3  \n",
              " 175                          1.56      835      3  \n",
              " 176                          1.62      840      3  \n",
              " 177                          1.60      560      3  \n",
              " \n",
              " [178 rows x 14 columns],\n",
              " 'headers': Index(['Alcohol', 'Malicacid', 'Ash', 'Alcalinity_of_ash', 'Magnesium',\n",
              "        'Total_phenols', 'Flavanoids', 'Nonflavanoid_phenols',\n",
              "        'Proanthocyanins', 'Color_intensity', 'Hue',\n",
              "        '0D280_0D315_of_diluted_wines', 'Proline', 'class'],\n",
              "       dtype='object')}"
            ]
          },
          "metadata": {},
          "execution_count": 55
        }
      ]
    },
    {
      "cell_type": "code",
      "source": [
        "wine.data.features[\"Ash\"]"
      ],
      "metadata": {
        "colab": {
          "base_uri": "https://localhost:8080/",
          "height": 458
        },
        "id": "FQF0-r-4QbOO",
        "outputId": "379e61e3-f599-4091-ecf8-a0d2a704f636"
      },
      "execution_count": null,
      "outputs": [
        {
          "output_type": "execute_result",
          "data": {
            "text/plain": [
              "0      2.43\n",
              "1      2.14\n",
              "2      2.67\n",
              "3      2.50\n",
              "4      2.87\n",
              "       ... \n",
              "173    2.45\n",
              "174    2.48\n",
              "175    2.26\n",
              "176    2.37\n",
              "177    2.74\n",
              "Name: Ash, Length: 178, dtype: float64"
            ],
            "text/html": [
              "<div>\n",
              "<style scoped>\n",
              "    .dataframe tbody tr th:only-of-type {\n",
              "        vertical-align: middle;\n",
              "    }\n",
              "\n",
              "    .dataframe tbody tr th {\n",
              "        vertical-align: top;\n",
              "    }\n",
              "\n",
              "    .dataframe thead th {\n",
              "        text-align: right;\n",
              "    }\n",
              "</style>\n",
              "<table border=\"1\" class=\"dataframe\">\n",
              "  <thead>\n",
              "    <tr style=\"text-align: right;\">\n",
              "      <th></th>\n",
              "      <th>Ash</th>\n",
              "    </tr>\n",
              "  </thead>\n",
              "  <tbody>\n",
              "    <tr>\n",
              "      <th>0</th>\n",
              "      <td>2.43</td>\n",
              "    </tr>\n",
              "    <tr>\n",
              "      <th>1</th>\n",
              "      <td>2.14</td>\n",
              "    </tr>\n",
              "    <tr>\n",
              "      <th>2</th>\n",
              "      <td>2.67</td>\n",
              "    </tr>\n",
              "    <tr>\n",
              "      <th>3</th>\n",
              "      <td>2.50</td>\n",
              "    </tr>\n",
              "    <tr>\n",
              "      <th>4</th>\n",
              "      <td>2.87</td>\n",
              "    </tr>\n",
              "    <tr>\n",
              "      <th>...</th>\n",
              "      <td>...</td>\n",
              "    </tr>\n",
              "    <tr>\n",
              "      <th>173</th>\n",
              "      <td>2.45</td>\n",
              "    </tr>\n",
              "    <tr>\n",
              "      <th>174</th>\n",
              "      <td>2.48</td>\n",
              "    </tr>\n",
              "    <tr>\n",
              "      <th>175</th>\n",
              "      <td>2.26</td>\n",
              "    </tr>\n",
              "    <tr>\n",
              "      <th>176</th>\n",
              "      <td>2.37</td>\n",
              "    </tr>\n",
              "    <tr>\n",
              "      <th>177</th>\n",
              "      <td>2.74</td>\n",
              "    </tr>\n",
              "  </tbody>\n",
              "</table>\n",
              "<p>178 rows × 1 columns</p>\n",
              "</div><br><label><b>dtype:</b> float64</label>"
            ]
          },
          "metadata": {},
          "execution_count": 54
        }
      ]
    },
    {
      "cell_type": "markdown",
      "source": [
        "Loading time issue: it'll depend a lot in hardware performance.\n",
        "\n",
        "If the number of categories is large: only use certain categories after checking their characteristics. e.g.) relevance(상관관계), number of missing values, uniquity, etc"
      ],
      "metadata": {
        "id": "v-O8kLeAS5Ep"
      }
    },
    {
      "cell_type": "markdown",
      "source": [
        "# 2.3"
      ],
      "metadata": {
        "id": "10fBncIjUXHl"
      }
    },
    {
      "cell_type": "markdown",
      "source": [
        "## code"
      ],
      "metadata": {
        "id": "xwPzbJg-UYdi"
      }
    },
    {
      "cell_type": "code",
      "source": [
        "import torch"
      ],
      "metadata": {
        "id": "7tCBEh1jUYKi"
      },
      "execution_count": null,
      "outputs": []
    },
    {
      "cell_type": "code",
      "source": [
        "x = torch.tensor(3.0)\n",
        "y = torch.tensor(2.0)\n",
        "\n",
        "x + y, x * y, x / y, x**y"
      ],
      "metadata": {
        "colab": {
          "base_uri": "https://localhost:8080/"
        },
        "id": "diX0o_ZtUfhK",
        "outputId": "2fde79de-a8a2-4ff6-ec9c-331912dd4fee"
      },
      "execution_count": null,
      "outputs": [
        {
          "output_type": "execute_result",
          "data": {
            "text/plain": [
              "(tensor(5.), tensor(6.), tensor(1.5000), tensor(9.))"
            ]
          },
          "metadata": {},
          "execution_count": 58
        }
      ]
    },
    {
      "cell_type": "code",
      "source": [
        "x = torch.arange(3)\n",
        "x, x[2], len(x), x.shape"
      ],
      "metadata": {
        "colab": {
          "base_uri": "https://localhost:8080/"
        },
        "id": "1gPT3cG9Up31",
        "outputId": "4f9880d3-5b3a-4312-ce70-0cb37390c59f"
      },
      "execution_count": null,
      "outputs": [
        {
          "output_type": "execute_result",
          "data": {
            "text/plain": [
              "(tensor([0, 1, 2]), tensor(2), 3, torch.Size([3]))"
            ]
          },
          "metadata": {},
          "execution_count": 59
        }
      ]
    },
    {
      "cell_type": "code",
      "source": [
        "A = torch.arange(6).reshape(3, -1)\n",
        "A, A.T"
      ],
      "metadata": {
        "colab": {
          "base_uri": "https://localhost:8080/"
        },
        "id": "6899SUW5U4q7",
        "outputId": "9ff4e424-0b83-4156-c740-7ad2d1ec3202"
      },
      "execution_count": null,
      "outputs": [
        {
          "output_type": "execute_result",
          "data": {
            "text/plain": [
              "(tensor([[0, 1],\n",
              "         [2, 3],\n",
              "         [4, 5]]),\n",
              " tensor([[0, 2, 4],\n",
              "         [1, 3, 5]]))"
            ]
          },
          "metadata": {},
          "execution_count": 60
        }
      ]
    },
    {
      "cell_type": "code",
      "source": [
        "torch.arange(24).reshape(2, 3, 4)"
      ],
      "metadata": {
        "colab": {
          "base_uri": "https://localhost:8080/"
        },
        "id": "MhOEkmhgVEZq",
        "outputId": "4b56873d-231d-4eda-9a99-e1581fbfdf69"
      },
      "execution_count": null,
      "outputs": [
        {
          "output_type": "execute_result",
          "data": {
            "text/plain": [
              "tensor([[[ 0,  1,  2,  3],\n",
              "         [ 4,  5,  6,  7],\n",
              "         [ 8,  9, 10, 11]],\n",
              "\n",
              "        [[12, 13, 14, 15],\n",
              "         [16, 17, 18, 19],\n",
              "         [20, 21, 22, 23]]])"
            ]
          },
          "metadata": {},
          "execution_count": 61
        }
      ]
    },
    {
      "cell_type": "code",
      "source": [
        "A = torch.arange(6, dtype=torch.float32).reshape(2, 3)\n",
        "B = A.clone()\n",
        "A, A + B, A * B"
      ],
      "metadata": {
        "colab": {
          "base_uri": "https://localhost:8080/"
        },
        "id": "NdKwQYNXVWZH",
        "outputId": "e938ae27-2dcd-45c5-fe80-b476b3ae560b"
      },
      "execution_count": null,
      "outputs": [
        {
          "output_type": "execute_result",
          "data": {
            "text/plain": [
              "(tensor([[0., 1., 2.],\n",
              "         [3., 4., 5.]]),\n",
              " tensor([[ 0.,  2.,  4.],\n",
              "         [ 6.,  8., 10.]]),\n",
              " tensor([[ 0.,  1.,  4.],\n",
              "         [ 9., 16., 25.]]))"
            ]
          },
          "metadata": {},
          "execution_count": 65
        }
      ]
    },
    {
      "cell_type": "code",
      "source": [
        "a = 2\n",
        "X = torch.arange(24).reshape(2, 3, 4)\n",
        "a + X, (a * X).shape"
      ],
      "metadata": {
        "colab": {
          "base_uri": "https://localhost:8080/"
        },
        "id": "W8Z0oItZVeRo",
        "outputId": "0c7f6f53-5525-483d-e4bd-9d3f59914485"
      },
      "execution_count": null,
      "outputs": [
        {
          "output_type": "execute_result",
          "data": {
            "text/plain": [
              "(tensor([[[ 2,  3,  4,  5],\n",
              "          [ 6,  7,  8,  9],\n",
              "          [10, 11, 12, 13]],\n",
              " \n",
              "         [[14, 15, 16, 17],\n",
              "          [18, 19, 20, 21],\n",
              "          [22, 23, 24, 25]]]),\n",
              " torch.Size([2, 3, 4]))"
            ]
          },
          "metadata": {},
          "execution_count": 87
        }
      ]
    },
    {
      "cell_type": "code",
      "source": [
        "A.shape, A.sum()"
      ],
      "metadata": {
        "colab": {
          "base_uri": "https://localhost:8080/"
        },
        "id": "kDP3RCPeVhPG",
        "outputId": "575ced6b-8170-4da0-90d0-884e094cdc58"
      },
      "execution_count": null,
      "outputs": [
        {
          "output_type": "execute_result",
          "data": {
            "text/plain": [
              "(torch.Size([2, 3]), tensor(15.))"
            ]
          },
          "metadata": {},
          "execution_count": 67
        }
      ]
    },
    {
      "cell_type": "code",
      "source": [
        "A.sum(axis=0), A.sum(axis=0).shape"
      ],
      "metadata": {
        "colab": {
          "base_uri": "https://localhost:8080/"
        },
        "id": "yuEq8rwiV8F6",
        "outputId": "8b3d6805-bbc8-4f49-be6a-b055daa8a041"
      },
      "execution_count": null,
      "outputs": [
        {
          "output_type": "execute_result",
          "data": {
            "text/plain": [
              "(tensor([3., 5., 7.]), torch.Size([3]))"
            ]
          },
          "metadata": {},
          "execution_count": 70
        }
      ]
    },
    {
      "cell_type": "code",
      "source": [
        "A.mean(axis=0), A.sum(axis=0) / A.shape[0]"
      ],
      "metadata": {
        "colab": {
          "base_uri": "https://localhost:8080/"
        },
        "id": "jAP_o9IbWJEX",
        "outputId": "e074a1b5-d539-4af9-de79-eedb41675be4"
      },
      "execution_count": null,
      "outputs": [
        {
          "output_type": "execute_result",
          "data": {
            "text/plain": [
              "(tensor([1.5000, 2.5000, 3.5000]), tensor([1.5000, 2.5000, 3.5000]))"
            ]
          },
          "metadata": {},
          "execution_count": 69
        }
      ]
    },
    {
      "cell_type": "code",
      "source": [
        "sum_A = A.sum(axis=0, keepdims=True)\n",
        "sum_A, sum_A.shape"
      ],
      "metadata": {
        "colab": {
          "base_uri": "https://localhost:8080/"
        },
        "id": "RL2ifUKRWTJy",
        "outputId": "7ed31f49-0fab-4fb0-bb30-55ce6882ba91"
      },
      "execution_count": null,
      "outputs": [
        {
          "output_type": "execute_result",
          "data": {
            "text/plain": [
              "(tensor([[3., 5., 7.]]), torch.Size([1, 3]))"
            ]
          },
          "metadata": {},
          "execution_count": 73
        }
      ]
    },
    {
      "cell_type": "code",
      "source": [
        "A / sum_A"
      ],
      "metadata": {
        "colab": {
          "base_uri": "https://localhost:8080/"
        },
        "id": "9jJLvluQZiHk",
        "outputId": "c0ab65df-49ee-4df1-94bd-10a9e1de764b"
      },
      "execution_count": null,
      "outputs": [
        {
          "output_type": "execute_result",
          "data": {
            "text/plain": [
              "tensor([[0.0000, 0.2000, 0.2857],\n",
              "        [1.0000, 0.8000, 0.7143]])"
            ]
          },
          "metadata": {},
          "execution_count": 74
        }
      ]
    },
    {
      "cell_type": "code",
      "source": [
        "A.cumsum(axis=0)"
      ],
      "metadata": {
        "colab": {
          "base_uri": "https://localhost:8080/"
        },
        "id": "fPKwaAhshfnn",
        "outputId": "ffb5736e-9246-477d-cde5-f2e68e5bda68"
      },
      "execution_count": null,
      "outputs": [
        {
          "output_type": "execute_result",
          "data": {
            "text/plain": [
              "tensor([[0., 1., 2.],\n",
              "        [3., 5., 7.]])"
            ]
          },
          "metadata": {},
          "execution_count": 75
        }
      ]
    },
    {
      "cell_type": "code",
      "source": [
        "x = torch.arange(3, dtype=torch.float32)\n",
        "y = torch.ones(3, dtype = torch.float32)\n",
        "x, y, torch.dot(x, y), torch.sum(x * y)"
      ],
      "metadata": {
        "colab": {
          "base_uri": "https://localhost:8080/"
        },
        "id": "-fuJfIZUhq8q",
        "outputId": "ae3d4f49-dcd3-4f2e-af13-b76ab48049a8"
      },
      "execution_count": null,
      "outputs": [
        {
          "output_type": "execute_result",
          "data": {
            "text/plain": [
              "(tensor([0., 1., 2.]), tensor([1., 1., 1.]), tensor(3.), tensor(3.))"
            ]
          },
          "metadata": {},
          "execution_count": 77
        }
      ]
    },
    {
      "cell_type": "code",
      "source": [
        "A.shape, x.shape, torch.mv(A, x), A@x"
      ],
      "metadata": {
        "colab": {
          "base_uri": "https://localhost:8080/"
        },
        "id": "KRRT-EsAjz_p",
        "outputId": "5e714575-ab6d-41eb-e5ed-aeed1228e007"
      },
      "execution_count": null,
      "outputs": [
        {
          "output_type": "execute_result",
          "data": {
            "text/plain": [
              "(torch.Size([2, 3]), torch.Size([3]), tensor([ 5., 14.]), tensor([ 5., 14.]))"
            ]
          },
          "metadata": {},
          "execution_count": 78
        }
      ]
    },
    {
      "cell_type": "code",
      "source": [
        "B = torch.ones(3, 4)\n",
        "torch.mm(A, B), A@B"
      ],
      "metadata": {
        "colab": {
          "base_uri": "https://localhost:8080/"
        },
        "id": "lDnGUcuQkFn-",
        "outputId": "f14e6732-f814-4579-c2cb-fa90a42c7685"
      },
      "execution_count": null,
      "outputs": [
        {
          "output_type": "execute_result",
          "data": {
            "text/plain": [
              "(tensor([[ 3.,  3.,  3.,  3.],\n",
              "         [12., 12., 12., 12.]]),\n",
              " tensor([[ 3.,  3.,  3.,  3.],\n",
              "         [12., 12., 12., 12.]]))"
            ]
          },
          "metadata": {},
          "execution_count": 79
        }
      ]
    },
    {
      "cell_type": "code",
      "source": [
        "u = torch.tensor([3.0, -4.0])\n",
        "torch.norm(u)"
      ],
      "metadata": {
        "colab": {
          "base_uri": "https://localhost:8080/"
        },
        "id": "3PLXUGjhkJAe",
        "outputId": "699d9451-f1db-45a9-8ff2-e31c6873213e"
      },
      "execution_count": null,
      "outputs": [
        {
          "output_type": "execute_result",
          "data": {
            "text/plain": [
              "tensor(5.)"
            ]
          },
          "metadata": {},
          "execution_count": 80
        }
      ]
    },
    {
      "cell_type": "code",
      "source": [
        "torch.abs(u).sum()"
      ],
      "metadata": {
        "colab": {
          "base_uri": "https://localhost:8080/"
        },
        "id": "JYvod0NYkLJO",
        "outputId": "b20d578a-7160-43f2-ad01-237cb48a59aa"
      },
      "execution_count": null,
      "outputs": [
        {
          "output_type": "execute_result",
          "data": {
            "text/plain": [
              "tensor(7.)"
            ]
          },
          "metadata": {},
          "execution_count": 81
        }
      ]
    },
    {
      "cell_type": "code",
      "source": [
        "torch.ones((4,9)), torch.norm(torch.ones((4, 9)))"
      ],
      "metadata": {
        "colab": {
          "base_uri": "https://localhost:8080/"
        },
        "id": "DqGQQ-6SkMt9",
        "outputId": "ecf7206f-28cc-430b-f954-b4dd761f0dad"
      },
      "execution_count": null,
      "outputs": [
        {
          "output_type": "execute_result",
          "data": {
            "text/plain": [
              "(tensor([[1., 1., 1., 1., 1., 1., 1., 1., 1.],\n",
              "         [1., 1., 1., 1., 1., 1., 1., 1., 1.],\n",
              "         [1., 1., 1., 1., 1., 1., 1., 1., 1.],\n",
              "         [1., 1., 1., 1., 1., 1., 1., 1., 1.]]),\n",
              " tensor(6.))"
            ]
          },
          "metadata": {},
          "execution_count": 82
        }
      ]
    },
    {
      "cell_type": "markdown",
      "source": [
        "## exercise"
      ],
      "metadata": {
        "id": "Qt1Z7GrQk7qK"
      }
    },
    {
      "cell_type": "markdown",
      "source": [
        "number 3. (A + A^T)^T = A^T + A, therefore symmetric\n",
        "\n",
        "number 4. 2, yes\n",
        "\n",
        "number 6.  A / A.sum(axis=1) invokes runtime error, since size doesn't match. Should do A / A.sum(axis=1,keepdims=True)\n",
        "\n",
        "number 10. computing A(BC) will have smaller memory footprint compared to (AB)C, because BC is smaller tham AB."
      ],
      "metadata": {
        "id": "2ZRZO-lok92I"
      }
    },
    {
      "cell_type": "code",
      "source": [
        "A / A.sum(axis=1,keepdims=True)"
      ],
      "metadata": {
        "colab": {
          "base_uri": "https://localhost:8080/"
        },
        "id": "wNjopPVlkel1",
        "outputId": "88e9a006-68fe-48ad-98ba-b9352e714d3c"
      },
      "execution_count": null,
      "outputs": [
        {
          "output_type": "execute_result",
          "data": {
            "text/plain": [
              "tensor([[0.0000, 0.3333, 0.6667],\n",
              "        [0.2500, 0.3333, 0.4167]])"
            ]
          },
          "metadata": {},
          "execution_count": 91
        }
      ]
    },
    {
      "cell_type": "markdown",
      "source": [
        "# 2.5"
      ],
      "metadata": {
        "id": "lqbsGMfyoDey"
      }
    },
    {
      "cell_type": "markdown",
      "source": [
        "## code"
      ],
      "metadata": {
        "id": "ptKouphfoS23"
      }
    },
    {
      "cell_type": "code",
      "source": [
        "import torch"
      ],
      "metadata": {
        "id": "atw7dnWflKN2"
      },
      "execution_count": null,
      "outputs": []
    },
    {
      "cell_type": "code",
      "source": [
        "x = torch.arange(4.0, requires_grad=True)\n",
        "x"
      ],
      "metadata": {
        "colab": {
          "base_uri": "https://localhost:8080/"
        },
        "id": "YiRRmfPloKXr",
        "outputId": "829d2874-03c0-4c2e-c800-7dbf1ecf5803"
      },
      "execution_count": null,
      "outputs": [
        {
          "output_type": "execute_result",
          "data": {
            "text/plain": [
              "tensor([0., 1., 2., 3.], requires_grad=True)"
            ]
          },
          "metadata": {},
          "execution_count": 95
        }
      ]
    },
    {
      "cell_type": "code",
      "source": [
        "y = 2 * torch.dot(x, x)\n",
        "y"
      ],
      "metadata": {
        "colab": {
          "base_uri": "https://localhost:8080/"
        },
        "id": "Ms3pLO8loK5y",
        "outputId": "c1662683-50d2-4a5f-b8ac-43973d8b2ea1"
      },
      "execution_count": null,
      "outputs": [
        {
          "output_type": "execute_result",
          "data": {
            "text/plain": [
              "tensor(28., grad_fn=<MulBackward0>)"
            ]
          },
          "metadata": {},
          "execution_count": 96
        }
      ]
    },
    {
      "cell_type": "code",
      "source": [
        "y.backward()\n",
        "x.grad"
      ],
      "metadata": {
        "colab": {
          "base_uri": "https://localhost:8080/"
        },
        "id": "QuHonfiHoaZN",
        "outputId": "37e1785f-eac1-4fda-dcdf-a07b1b2bbc90"
      },
      "execution_count": null,
      "outputs": [
        {
          "output_type": "execute_result",
          "data": {
            "text/plain": [
              "tensor([ 0.,  4.,  8., 12.])"
            ]
          },
          "metadata": {},
          "execution_count": 97
        }
      ]
    },
    {
      "cell_type": "code",
      "source": [
        "x.grad.zero_()\n",
        "x.grad"
      ],
      "metadata": {
        "colab": {
          "base_uri": "https://localhost:8080/"
        },
        "id": "KZAVBEIHonl1",
        "outputId": "1e3179df-49cc-420d-81c9-e479dd9e3536"
      },
      "execution_count": null,
      "outputs": [
        {
          "output_type": "execute_result",
          "data": {
            "text/plain": [
              "tensor([0., 0., 0., 0.])"
            ]
          },
          "metadata": {},
          "execution_count": 100
        }
      ]
    },
    {
      "cell_type": "code",
      "source": [
        "y = x.sum()\n",
        "y.backward()\n",
        "x.grad"
      ],
      "metadata": {
        "colab": {
          "base_uri": "https://localhost:8080/"
        },
        "id": "_RVFrYvioytN",
        "outputId": "c059882e-1844-496f-de8a-09c5a6f62245"
      },
      "execution_count": null,
      "outputs": [
        {
          "output_type": "execute_result",
          "data": {
            "text/plain": [
              "tensor([1., 1., 1., 1.])"
            ]
          },
          "metadata": {},
          "execution_count": 101
        }
      ]
    },
    {
      "cell_type": "code",
      "source": [
        "x.grad.zero_()\n",
        "y = x * x\n",
        "y.sum().backward()\n",
        "x.grad"
      ],
      "metadata": {
        "colab": {
          "base_uri": "https://localhost:8080/"
        },
        "id": "Jrd9IeN5pZyu",
        "outputId": "446c2a3c-bfd4-459b-9e1a-13478211edbf"
      },
      "execution_count": null,
      "outputs": [
        {
          "output_type": "execute_result",
          "data": {
            "text/plain": [
              "tensor([0., 2., 4., 6.])"
            ]
          },
          "metadata": {},
          "execution_count": 102
        }
      ]
    },
    {
      "cell_type": "markdown",
      "source": [
        "[backward function](https://zhang-yang.medium.com/the-gradient-argument-in-pytorchs-backward-function-explained-by-examples-68f266950c29 )\n"
      ],
      "metadata": {
        "id": "KlAv0cbFp5if"
      }
    },
    {
      "cell_type": "code",
      "source": [
        "#detaching provenance of derivative\n",
        "x.grad.zero_()\n",
        "y = x * x\n",
        "u = y.detach()\n",
        "z = u * x\n",
        "\n",
        "z.sum().backward()\n",
        "x.grad == u"
      ],
      "metadata": {
        "colab": {
          "base_uri": "https://localhost:8080/"
        },
        "id": "NOQylw9Tp7G1",
        "outputId": "d385f06f-e954-4add-dda1-9f313547de08"
      },
      "execution_count": null,
      "outputs": [
        {
          "output_type": "execute_result",
          "data": {
            "text/plain": [
              "tensor([True, True, True, True])"
            ]
          },
          "metadata": {},
          "execution_count": 111
        }
      ]
    },
    {
      "cell_type": "code",
      "source": [
        "x.grad.zero_()\n",
        "y.sum().backward()\n",
        "x.grad == 2 * x"
      ],
      "metadata": {
        "colab": {
          "base_uri": "https://localhost:8080/"
        },
        "id": "CVBZr-P1qhDf",
        "outputId": "14ba4b5d-aa86-4181-fe5b-a11849690059"
      },
      "execution_count": null,
      "outputs": [
        {
          "output_type": "execute_result",
          "data": {
            "text/plain": [
              "tensor([True, True, True, True])"
            ]
          },
          "metadata": {},
          "execution_count": 112
        }
      ]
    },
    {
      "cell_type": "code",
      "source": [
        "def f(a):\n",
        "    b = a * 2\n",
        "    while b.norm() < 1000:\n",
        "        b = b * 2\n",
        "    if b.sum() > 0:\n",
        "        c = b\n",
        "    else:\n",
        "        c = 100 * b\n",
        "    return c"
      ],
      "metadata": {
        "id": "TUaKyD3YqltR"
      },
      "execution_count": null,
      "outputs": []
    },
    {
      "cell_type": "code",
      "source": [
        "a = torch.randn(size=(), requires_grad=True)\n",
        "d = f(a)\n",
        "d.backward()\n",
        "a.grad == d/a"
      ],
      "metadata": {
        "colab": {
          "base_uri": "https://localhost:8080/"
        },
        "id": "52XPITNQrAZK",
        "outputId": "54820556-fbcf-4b13-d089-598bc21a2b49"
      },
      "execution_count": null,
      "outputs": [
        {
          "output_type": "execute_result",
          "data": {
            "text/plain": [
              "tensor(True)"
            ]
          },
          "metadata": {},
          "execution_count": 114
        }
      ]
    },
    {
      "cell_type": "markdown",
      "source": [
        "## exercise"
      ],
      "metadata": {
        "id": "fxCTY998r4U2"
      }
    },
    {
      "cell_type": "markdown",
      "source": [
        "1. the second derivative much more expensive to compute than the first derivative, since second derivatvie computes based on the first derivative, thus leading to n^2 computations."
      ],
      "metadata": {
        "id": "_4QysH--r5dX"
      }
    },
    {
      "cell_type": "markdown",
      "source": [
        "# 3.1"
      ],
      "metadata": {
        "id": "x824vtSatTx9"
      }
    },
    {
      "cell_type": "markdown",
      "source": [
        "##  code"
      ],
      "metadata": {
        "id": "GmLsC8XctVLC"
      }
    },
    {
      "cell_type": "code",
      "source": [
        "%matplotlib inline\n",
        "import math\n",
        "import time\n",
        "import numpy as np\n",
        "import torch\n",
        "from d2l import torch as d2l"
      ],
      "metadata": {
        "id": "U-_I-zddrDQJ"
      },
      "execution_count": null,
      "outputs": []
    },
    {
      "cell_type": "code",
      "source": [
        "n = 10000\n",
        "a = torch.ones(n)\n",
        "b = torch.ones(n)"
      ],
      "metadata": {
        "id": "VhbNa727tcmE"
      },
      "execution_count": null,
      "outputs": []
    },
    {
      "cell_type": "code",
      "source": [
        "c = torch.zeros(n)\n",
        "t = time.time()\n",
        "for i in range(n):\n",
        "    c[i] = a[i] + b[i]\n",
        "f'{time.time() - t:.5f} sec'"
      ],
      "metadata": {
        "colab": {
          "base_uri": "https://localhost:8080/",
          "height": 35
        },
        "id": "Er-BNGUWzMwA",
        "outputId": "18d5e4fc-492c-4e7e-d2fc-cd9edc4f02b3"
      },
      "execution_count": null,
      "outputs": [
        {
          "output_type": "execute_result",
          "data": {
            "text/plain": [
              "'0.13002 sec'"
            ],
            "application/vnd.google.colaboratory.intrinsic+json": {
              "type": "string"
            }
          },
          "metadata": {},
          "execution_count": 117
        }
      ]
    },
    {
      "cell_type": "code",
      "source": [
        "t = time.time()\n",
        "d = a + b\n",
        "f'{time.time() - t:.5f} sec'"
      ],
      "metadata": {
        "colab": {
          "base_uri": "https://localhost:8080/",
          "height": 35
        },
        "id": "wCIUnU65zNos",
        "outputId": "3a7a7867-6e25-49af-b3d6-8c95c7e0bc37"
      },
      "execution_count": null,
      "outputs": [
        {
          "output_type": "execute_result",
          "data": {
            "text/plain": [
              "'0.00122 sec'"
            ],
            "application/vnd.google.colaboratory.intrinsic+json": {
              "type": "string"
            }
          },
          "metadata": {},
          "execution_count": 118
        }
      ]
    },
    {
      "cell_type": "code",
      "source": [
        "def normal(x, mu, sigma):\n",
        "    p = 1 / math.sqrt(2 * math.pi * sigma**2)\n",
        "    return p * np.exp(-0.5 * (x - mu)**2 / sigma**2)"
      ],
      "metadata": {
        "id": "QCi3ebIEzPXr"
      },
      "execution_count": null,
      "outputs": []
    },
    {
      "cell_type": "code",
      "source": [
        "x = np.arange(-7, 7, 0.01)\n",
        "params = [(0, 1), (0, 2), (3, 1)]\n",
        "d2l.plot(x, [normal(x, mu, sigma) for mu, sigma in params], xlabel='x',\n",
        "         ylabel='p(x)', figsize=(4.5, 2.5),\n",
        "         legend=[f'mean {mu}, std {sigma}' for mu, sigma in params])"
      ],
      "metadata": {
        "colab": {
          "base_uri": "https://localhost:8080/",
          "height": 265
        },
        "id": "DjzVRGH3zTlO",
        "outputId": "45a96c16-2a3c-4976-f60b-070492845b69"
      },
      "execution_count": null,
      "outputs": [
        {
          "output_type": "display_data",
          "data": {
            "text/plain": [
              "<Figure size 450x250 with 1 Axes>"
            ],
            "image/svg+xml": "<?xml version=\"1.0\" encoding=\"utf-8\" standalone=\"no\"?>\n<!DOCTYPE svg PUBLIC \"-//W3C//DTD SVG 1.1//EN\"\n  \"http://www.w3.org/Graphics/SVG/1.1/DTD/svg11.dtd\">\n<svg xmlns:xlink=\"http://www.w3.org/1999/xlink\" width=\"302.08125pt\" height=\"183.35625pt\" viewBox=\"0 0 302.08125 183.35625\" xmlns=\"http://www.w3.org/2000/svg\" version=\"1.1\">\n <metadata>\n  <rdf:RDF xmlns:dc=\"http://purl.org/dc/elements/1.1/\" xmlns:cc=\"http://creativecommons.org/ns#\" xmlns:rdf=\"http://www.w3.org/1999/02/22-rdf-syntax-ns#\">\n   <cc:Work>\n    <dc:type rdf:resource=\"http://purl.org/dc/dcmitype/StillImage\"/>\n    <dc:date>2024-09-23T16:53:26.436231</dc:date>\n    <dc:format>image/svg+xml</dc:format>\n    <dc:creator>\n     <cc:Agent>\n      <dc:title>Matplotlib v3.7.2, https://matplotlib.org/</dc:title>\n     </cc:Agent>\n    </dc:creator>\n   </cc:Work>\n  </rdf:RDF>\n </metadata>\n <defs>\n  <style type=\"text/css\">*{stroke-linejoin: round; stroke-linecap: butt}</style>\n </defs>\n <g id=\"figure_1\">\n  <g id=\"patch_1\">\n   <path d=\"M 0 183.35625 \nL 302.08125 183.35625 \nL 302.08125 0 \nL 0 0 \nz\n\" style=\"fill: #ffffff\"/>\n  </g>\n  <g id=\"axes_1\">\n   <g id=\"patch_2\">\n    <path d=\"M 43.78125 145.8 \nL 294.88125 145.8 \nL 294.88125 7.2 \nL 43.78125 7.2 \nz\n\" style=\"fill: #ffffff\"/>\n   </g>\n   <g id=\"matplotlib.axis_1\">\n    <g id=\"xtick_1\">\n     <g id=\"line2d_1\">\n      <path d=\"M 71.511736 145.8 \nL 71.511736 7.2 \n\" clip-path=\"url(#pa85a988bee)\" style=\"fill: none; stroke: #b0b0b0; stroke-width: 0.8; stroke-linecap: square\"/>\n     </g>\n     <g id=\"line2d_2\">\n      <defs>\n       <path id=\"m8bfc09e0da\" d=\"M 0 0 \nL 0 3.5 \n\" style=\"stroke: #000000; stroke-width: 0.8\"/>\n      </defs>\n      <g>\n       <use xlink:href=\"#m8bfc09e0da\" x=\"71.511736\" y=\"145.8\" style=\"stroke: #000000; stroke-width: 0.8\"/>\n      </g>\n     </g>\n     <g id=\"text_1\">\n      <!-- −6 -->\n      <g transform=\"translate(64.140642 160.398438) scale(0.1 -0.1)\">\n       <defs>\n        <path id=\"DejaVuSans-2212\" d=\"M 678 2272 \nL 4684 2272 \nL 4684 1741 \nL 678 1741 \nL 678 2272 \nz\n\" transform=\"scale(0.015625)\"/>\n        <path id=\"DejaVuSans-36\" d=\"M 2113 2584 \nQ 1688 2584 1439 2293 \nQ 1191 2003 1191 1497 \nQ 1191 994 1439 701 \nQ 1688 409 2113 409 \nQ 2538 409 2786 701 \nQ 3034 994 3034 1497 \nQ 3034 2003 2786 2293 \nQ 2538 2584 2113 2584 \nz\nM 3366 4563 \nL 3366 3988 \nQ 3128 4100 2886 4159 \nQ 2644 4219 2406 4219 \nQ 1781 4219 1451 3797 \nQ 1122 3375 1075 2522 \nQ 1259 2794 1537 2939 \nQ 1816 3084 2150 3084 \nQ 2853 3084 3261 2657 \nQ 3669 2231 3669 1497 \nQ 3669 778 3244 343 \nQ 2819 -91 2113 -91 \nQ 1303 -91 875 529 \nQ 447 1150 447 2328 \nQ 447 3434 972 4092 \nQ 1497 4750 2381 4750 \nQ 2619 4750 2861 4703 \nQ 3103 4656 3366 4563 \nz\n\" transform=\"scale(0.015625)\"/>\n       </defs>\n       <use xlink:href=\"#DejaVuSans-2212\"/>\n       <use xlink:href=\"#DejaVuSans-36\" x=\"83.789062\"/>\n      </g>\n     </g>\n    </g>\n    <g id=\"xtick_2\">\n     <g id=\"line2d_3\">\n      <path d=\"M 104.145435 145.8 \nL 104.145435 7.2 \n\" clip-path=\"url(#pa85a988bee)\" style=\"fill: none; stroke: #b0b0b0; stroke-width: 0.8; stroke-linecap: square\"/>\n     </g>\n     <g id=\"line2d_4\">\n      <g>\n       <use xlink:href=\"#m8bfc09e0da\" x=\"104.145435\" y=\"145.8\" style=\"stroke: #000000; stroke-width: 0.8\"/>\n      </g>\n     </g>\n     <g id=\"text_2\">\n      <!-- −4 -->\n      <g transform=\"translate(96.774342 160.398438) scale(0.1 -0.1)\">\n       <defs>\n        <path id=\"DejaVuSans-34\" d=\"M 2419 4116 \nL 825 1625 \nL 2419 1625 \nL 2419 4116 \nz\nM 2253 4666 \nL 3047 4666 \nL 3047 1625 \nL 3713 1625 \nL 3713 1100 \nL 3047 1100 \nL 3047 0 \nL 2419 0 \nL 2419 1100 \nL 313 1100 \nL 313 1709 \nL 2253 4666 \nz\n\" transform=\"scale(0.015625)\"/>\n       </defs>\n       <use xlink:href=\"#DejaVuSans-2212\"/>\n       <use xlink:href=\"#DejaVuSans-34\" x=\"83.789062\"/>\n      </g>\n     </g>\n    </g>\n    <g id=\"xtick_3\">\n     <g id=\"line2d_5\">\n      <path d=\"M 136.779135 145.8 \nL 136.779135 7.2 \n\" clip-path=\"url(#pa85a988bee)\" style=\"fill: none; stroke: #b0b0b0; stroke-width: 0.8; stroke-linecap: square\"/>\n     </g>\n     <g id=\"line2d_6\">\n      <g>\n       <use xlink:href=\"#m8bfc09e0da\" x=\"136.779135\" y=\"145.8\" style=\"stroke: #000000; stroke-width: 0.8\"/>\n      </g>\n     </g>\n     <g id=\"text_3\">\n      <!-- −2 -->\n      <g transform=\"translate(129.408041 160.398438) scale(0.1 -0.1)\">\n       <defs>\n        <path id=\"DejaVuSans-32\" d=\"M 1228 531 \nL 3431 531 \nL 3431 0 \nL 469 0 \nL 469 531 \nQ 828 903 1448 1529 \nQ 2069 2156 2228 2338 \nQ 2531 2678 2651 2914 \nQ 2772 3150 2772 3378 \nQ 2772 3750 2511 3984 \nQ 2250 4219 1831 4219 \nQ 1534 4219 1204 4116 \nQ 875 4013 500 3803 \nL 500 4441 \nQ 881 4594 1212 4672 \nQ 1544 4750 1819 4750 \nQ 2544 4750 2975 4387 \nQ 3406 4025 3406 3419 \nQ 3406 3131 3298 2873 \nQ 3191 2616 2906 2266 \nQ 2828 2175 2409 1742 \nQ 1991 1309 1228 531 \nz\n\" transform=\"scale(0.015625)\"/>\n       </defs>\n       <use xlink:href=\"#DejaVuSans-2212\"/>\n       <use xlink:href=\"#DejaVuSans-32\" x=\"83.789062\"/>\n      </g>\n     </g>\n    </g>\n    <g id=\"xtick_4\">\n     <g id=\"line2d_7\">\n      <path d=\"M 169.412834 145.8 \nL 169.412834 7.2 \n\" clip-path=\"url(#pa85a988bee)\" style=\"fill: none; stroke: #b0b0b0; stroke-width: 0.8; stroke-linecap: square\"/>\n     </g>\n     <g id=\"line2d_8\">\n      <g>\n       <use xlink:href=\"#m8bfc09e0da\" x=\"169.412834\" y=\"145.8\" style=\"stroke: #000000; stroke-width: 0.8\"/>\n      </g>\n     </g>\n     <g id=\"text_4\">\n      <!-- 0 -->\n      <g transform=\"translate(166.231584 160.398438) scale(0.1 -0.1)\">\n       <defs>\n        <path id=\"DejaVuSans-30\" d=\"M 2034 4250 \nQ 1547 4250 1301 3770 \nQ 1056 3291 1056 2328 \nQ 1056 1369 1301 889 \nQ 1547 409 2034 409 \nQ 2525 409 2770 889 \nQ 3016 1369 3016 2328 \nQ 3016 3291 2770 3770 \nQ 2525 4250 2034 4250 \nz\nM 2034 4750 \nQ 2819 4750 3233 4129 \nQ 3647 3509 3647 2328 \nQ 3647 1150 3233 529 \nQ 2819 -91 2034 -91 \nQ 1250 -91 836 529 \nQ 422 1150 422 2328 \nQ 422 3509 836 4129 \nQ 1250 4750 2034 4750 \nz\n\" transform=\"scale(0.015625)\"/>\n       </defs>\n       <use xlink:href=\"#DejaVuSans-30\"/>\n      </g>\n     </g>\n    </g>\n    <g id=\"xtick_5\">\n     <g id=\"line2d_9\">\n      <path d=\"M 202.046534 145.8 \nL 202.046534 7.2 \n\" clip-path=\"url(#pa85a988bee)\" style=\"fill: none; stroke: #b0b0b0; stroke-width: 0.8; stroke-linecap: square\"/>\n     </g>\n     <g id=\"line2d_10\">\n      <g>\n       <use xlink:href=\"#m8bfc09e0da\" x=\"202.046534\" y=\"145.8\" style=\"stroke: #000000; stroke-width: 0.8\"/>\n      </g>\n     </g>\n     <g id=\"text_5\">\n      <!-- 2 -->\n      <g transform=\"translate(198.865284 160.398438) scale(0.1 -0.1)\">\n       <use xlink:href=\"#DejaVuSans-32\"/>\n      </g>\n     </g>\n    </g>\n    <g id=\"xtick_6\">\n     <g id=\"line2d_11\">\n      <path d=\"M 234.680233 145.8 \nL 234.680233 7.2 \n\" clip-path=\"url(#pa85a988bee)\" style=\"fill: none; stroke: #b0b0b0; stroke-width: 0.8; stroke-linecap: square\"/>\n     </g>\n     <g id=\"line2d_12\">\n      <g>\n       <use xlink:href=\"#m8bfc09e0da\" x=\"234.680233\" y=\"145.8\" style=\"stroke: #000000; stroke-width: 0.8\"/>\n      </g>\n     </g>\n     <g id=\"text_6\">\n      <!-- 4 -->\n      <g transform=\"translate(231.498983 160.398438) scale(0.1 -0.1)\">\n       <use xlink:href=\"#DejaVuSans-34\"/>\n      </g>\n     </g>\n    </g>\n    <g id=\"xtick_7\">\n     <g id=\"line2d_13\">\n      <path d=\"M 267.313932 145.8 \nL 267.313932 7.2 \n\" clip-path=\"url(#pa85a988bee)\" style=\"fill: none; stroke: #b0b0b0; stroke-width: 0.8; stroke-linecap: square\"/>\n     </g>\n     <g id=\"line2d_14\">\n      <g>\n       <use xlink:href=\"#m8bfc09e0da\" x=\"267.313932\" y=\"145.8\" style=\"stroke: #000000; stroke-width: 0.8\"/>\n      </g>\n     </g>\n     <g id=\"text_7\">\n      <!-- 6 -->\n      <g transform=\"translate(264.132682 160.398438) scale(0.1 -0.1)\">\n       <use xlink:href=\"#DejaVuSans-36\"/>\n      </g>\n     </g>\n    </g>\n    <g id=\"text_8\">\n     <!-- x -->\n     <g transform=\"translate(166.371875 174.076563) scale(0.1 -0.1)\">\n      <defs>\n       <path id=\"DejaVuSans-78\" d=\"M 3513 3500 \nL 2247 1797 \nL 3578 0 \nL 2900 0 \nL 1881 1375 \nL 863 0 \nL 184 0 \nL 1544 1831 \nL 300 3500 \nL 978 3500 \nL 1906 2253 \nL 2834 3500 \nL 3513 3500 \nz\n\" transform=\"scale(0.015625)\"/>\n      </defs>\n      <use xlink:href=\"#DejaVuSans-78\"/>\n     </g>\n    </g>\n   </g>\n   <g id=\"matplotlib.axis_2\">\n    <g id=\"ytick_1\">\n     <g id=\"line2d_15\">\n      <path d=\"M 43.78125 139.5 \nL 294.88125 139.5 \n\" clip-path=\"url(#pa85a988bee)\" style=\"fill: none; stroke: #b0b0b0; stroke-width: 0.8; stroke-linecap: square\"/>\n     </g>\n     <g id=\"line2d_16\">\n      <defs>\n       <path id=\"mbce1dae2b8\" d=\"M 0 0 \nL -3.5 0 \n\" style=\"stroke: #000000; stroke-width: 0.8\"/>\n      </defs>\n      <g>\n       <use xlink:href=\"#mbce1dae2b8\" x=\"43.78125\" y=\"139.5\" style=\"stroke: #000000; stroke-width: 0.8\"/>\n      </g>\n     </g>\n     <g id=\"text_9\">\n      <!-- 0.0 -->\n      <g transform=\"translate(20.878125 143.299219) scale(0.1 -0.1)\">\n       <defs>\n        <path id=\"DejaVuSans-2e\" d=\"M 684 794 \nL 1344 794 \nL 1344 0 \nL 684 0 \nL 684 794 \nz\n\" transform=\"scale(0.015625)\"/>\n       </defs>\n       <use xlink:href=\"#DejaVuSans-30\"/>\n       <use xlink:href=\"#DejaVuSans-2e\" x=\"63.623047\"/>\n       <use xlink:href=\"#DejaVuSans-30\" x=\"95.410156\"/>\n      </g>\n     </g>\n    </g>\n    <g id=\"ytick_2\">\n     <g id=\"line2d_17\">\n      <path d=\"M 43.78125 107.916484 \nL 294.88125 107.916484 \n\" clip-path=\"url(#pa85a988bee)\" style=\"fill: none; stroke: #b0b0b0; stroke-width: 0.8; stroke-linecap: square\"/>\n     </g>\n     <g id=\"line2d_18\">\n      <g>\n       <use xlink:href=\"#mbce1dae2b8\" x=\"43.78125\" y=\"107.916484\" style=\"stroke: #000000; stroke-width: 0.8\"/>\n      </g>\n     </g>\n     <g id=\"text_10\">\n      <!-- 0.1 -->\n      <g transform=\"translate(20.878125 111.715702) scale(0.1 -0.1)\">\n       <defs>\n        <path id=\"DejaVuSans-31\" d=\"M 794 531 \nL 1825 531 \nL 1825 4091 \nL 703 3866 \nL 703 4441 \nL 1819 4666 \nL 2450 4666 \nL 2450 531 \nL 3481 531 \nL 3481 0 \nL 794 0 \nL 794 531 \nz\n\" transform=\"scale(0.015625)\"/>\n       </defs>\n       <use xlink:href=\"#DejaVuSans-30\"/>\n       <use xlink:href=\"#DejaVuSans-2e\" x=\"63.623047\"/>\n       <use xlink:href=\"#DejaVuSans-31\" x=\"95.410156\"/>\n      </g>\n     </g>\n    </g>\n    <g id=\"ytick_3\">\n     <g id=\"line2d_19\">\n      <path d=\"M 43.78125 76.332967 \nL 294.88125 76.332967 \n\" clip-path=\"url(#pa85a988bee)\" style=\"fill: none; stroke: #b0b0b0; stroke-width: 0.8; stroke-linecap: square\"/>\n     </g>\n     <g id=\"line2d_20\">\n      <g>\n       <use xlink:href=\"#mbce1dae2b8\" x=\"43.78125\" y=\"76.332967\" style=\"stroke: #000000; stroke-width: 0.8\"/>\n      </g>\n     </g>\n     <g id=\"text_11\">\n      <!-- 0.2 -->\n      <g transform=\"translate(20.878125 80.132186) scale(0.1 -0.1)\">\n       <use xlink:href=\"#DejaVuSans-30\"/>\n       <use xlink:href=\"#DejaVuSans-2e\" x=\"63.623047\"/>\n       <use xlink:href=\"#DejaVuSans-32\" x=\"95.410156\"/>\n      </g>\n     </g>\n    </g>\n    <g id=\"ytick_4\">\n     <g id=\"line2d_21\">\n      <path d=\"M 43.78125 44.749451 \nL 294.88125 44.749451 \n\" clip-path=\"url(#pa85a988bee)\" style=\"fill: none; stroke: #b0b0b0; stroke-width: 0.8; stroke-linecap: square\"/>\n     </g>\n     <g id=\"line2d_22\">\n      <g>\n       <use xlink:href=\"#mbce1dae2b8\" x=\"43.78125\" y=\"44.749451\" style=\"stroke: #000000; stroke-width: 0.8\"/>\n      </g>\n     </g>\n     <g id=\"text_12\">\n      <!-- 0.3 -->\n      <g transform=\"translate(20.878125 48.54867) scale(0.1 -0.1)\">\n       <defs>\n        <path id=\"DejaVuSans-33\" d=\"M 2597 2516 \nQ 3050 2419 3304 2112 \nQ 3559 1806 3559 1356 \nQ 3559 666 3084 287 \nQ 2609 -91 1734 -91 \nQ 1441 -91 1130 -33 \nQ 819 25 488 141 \nL 488 750 \nQ 750 597 1062 519 \nQ 1375 441 1716 441 \nQ 2309 441 2620 675 \nQ 2931 909 2931 1356 \nQ 2931 1769 2642 2001 \nQ 2353 2234 1838 2234 \nL 1294 2234 \nL 1294 2753 \nL 1863 2753 \nQ 2328 2753 2575 2939 \nQ 2822 3125 2822 3475 \nQ 2822 3834 2567 4026 \nQ 2313 4219 1838 4219 \nQ 1578 4219 1281 4162 \nQ 984 4106 628 3988 \nL 628 4550 \nQ 988 4650 1302 4700 \nQ 1616 4750 1894 4750 \nQ 2613 4750 3031 4423 \nQ 3450 4097 3450 3541 \nQ 3450 3153 3228 2886 \nQ 3006 2619 2597 2516 \nz\n\" transform=\"scale(0.015625)\"/>\n       </defs>\n       <use xlink:href=\"#DejaVuSans-30\"/>\n       <use xlink:href=\"#DejaVuSans-2e\" x=\"63.623047\"/>\n       <use xlink:href=\"#DejaVuSans-33\" x=\"95.410156\"/>\n      </g>\n     </g>\n    </g>\n    <g id=\"ytick_5\">\n     <g id=\"line2d_23\">\n      <path d=\"M 43.78125 13.165935 \nL 294.88125 13.165935 \n\" clip-path=\"url(#pa85a988bee)\" style=\"fill: none; stroke: #b0b0b0; stroke-width: 0.8; stroke-linecap: square\"/>\n     </g>\n     <g id=\"line2d_24\">\n      <g>\n       <use xlink:href=\"#mbce1dae2b8\" x=\"43.78125\" y=\"13.165935\" style=\"stroke: #000000; stroke-width: 0.8\"/>\n      </g>\n     </g>\n     <g id=\"text_13\">\n      <!-- 0.4 -->\n      <g transform=\"translate(20.878125 16.965154) scale(0.1 -0.1)\">\n       <use xlink:href=\"#DejaVuSans-30\"/>\n       <use xlink:href=\"#DejaVuSans-2e\" x=\"63.623047\"/>\n       <use xlink:href=\"#DejaVuSans-34\" x=\"95.410156\"/>\n      </g>\n     </g>\n    </g>\n    <g id=\"text_14\">\n     <!-- p(x) -->\n     <g transform=\"translate(14.798438 86.535156) rotate(-90) scale(0.1 -0.1)\">\n      <defs>\n       <path id=\"DejaVuSans-70\" d=\"M 1159 525 \nL 1159 -1331 \nL 581 -1331 \nL 581 3500 \nL 1159 3500 \nL 1159 2969 \nQ 1341 3281 1617 3432 \nQ 1894 3584 2278 3584 \nQ 2916 3584 3314 3078 \nQ 3713 2572 3713 1747 \nQ 3713 922 3314 415 \nQ 2916 -91 2278 -91 \nQ 1894 -91 1617 61 \nQ 1341 213 1159 525 \nz\nM 3116 1747 \nQ 3116 2381 2855 2742 \nQ 2594 3103 2138 3103 \nQ 1681 3103 1420 2742 \nQ 1159 2381 1159 1747 \nQ 1159 1113 1420 752 \nQ 1681 391 2138 391 \nQ 2594 391 2855 752 \nQ 3116 1113 3116 1747 \nz\n\" transform=\"scale(0.015625)\"/>\n       <path id=\"DejaVuSans-28\" d=\"M 1984 4856 \nQ 1566 4138 1362 3434 \nQ 1159 2731 1159 2009 \nQ 1159 1288 1364 580 \nQ 1569 -128 1984 -844 \nL 1484 -844 \nQ 1016 -109 783 600 \nQ 550 1309 550 2009 \nQ 550 2706 781 3412 \nQ 1013 4119 1484 4856 \nL 1984 4856 \nz\n\" transform=\"scale(0.015625)\"/>\n       <path id=\"DejaVuSans-29\" d=\"M 513 4856 \nL 1013 4856 \nQ 1481 4119 1714 3412 \nQ 1947 2706 1947 2009 \nQ 1947 1309 1714 600 \nQ 1481 -109 1013 -844 \nL 513 -844 \nQ 928 -128 1133 580 \nQ 1338 1288 1338 2009 \nQ 1338 2731 1133 3434 \nQ 928 4138 513 4856 \nz\n\" transform=\"scale(0.015625)\"/>\n      </defs>\n      <use xlink:href=\"#DejaVuSans-70\"/>\n      <use xlink:href=\"#DejaVuSans-28\" x=\"63.476562\"/>\n      <use xlink:href=\"#DejaVuSans-78\" x=\"102.490234\"/>\n      <use xlink:href=\"#DejaVuSans-29\" x=\"161.669922\"/>\n     </g>\n    </g>\n   </g>\n   <g id=\"line2d_25\">\n    <path d=\"M 55.194886 139.5 \nL 108.061479 139.392742 \nL 113.44604 139.148719 \nL 117.035747 138.770771 \nL 119.809611 138.25954 \nL 122.09397 137.619981 \nL 124.051992 136.856558 \nL 125.846846 135.932618 \nL 127.478531 134.864093 \nL 129.110215 133.53546 \nL 130.7419 131.902404 \nL 132.373585 129.918522 \nL 133.842102 127.79423 \nL 135.473787 125.01546 \nL 137.105472 121.755388 \nL 138.737157 117.977866 \nL 140.368842 113.655911 \nL 142.163695 108.255858 \nL 144.121717 101.596938 \nL 146.242908 93.525729 \nL 148.690435 83.248545 \nL 151.790637 69.178196 \nL 157.827871 41.57206 \nL 159.949061 33.006718 \nL 161.743915 26.675681 \nL 163.212431 22.276554 \nL 164.517779 19.044317 \nL 165.659959 16.789011 \nL 166.63897 15.307609 \nL 167.454812 14.403942 \nL 168.270655 13.808322 \nL 168.923329 13.556687 \nL 169.576003 13.5063 \nL 170.228677 13.657402 \nL 170.881351 14.009268 \nL 171.697193 14.728769 \nL 172.513036 15.753897 \nL 173.492047 17.376612 \nL 174.634226 19.788832 \nL 175.776406 22.726997 \nL 177.081754 26.675681 \nL 178.713439 32.392617 \nL 180.671461 40.191426 \nL 183.118988 50.957567 \nL 192.256424 92.210802 \nL 194.540783 101.006788 \nL 196.498805 107.731288 \nL 198.456827 113.655911 \nL 200.25168 118.379758 \nL 201.883365 122.104146 \nL 203.51505 125.314336 \nL 205.146735 128.047227 \nL 206.77842 130.345625 \nL 208.410105 132.255577 \nL 210.04179 133.824084 \nL 211.673475 135.097239 \nL 213.468328 136.208702 \nL 215.42635 137.136646 \nL 217.547541 137.875773 \nL 219.8319 138.435791 \nL 222.605764 138.879679 \nL 226.032303 139.193999 \nL 230.927358 139.396705 \nL 239.412119 139.487295 \nL 277.104042 139.5 \nL 283.467614 139.5 \nL 283.467614 139.5 \n\" clip-path=\"url(#pa85a988bee)\" style=\"fill: none; stroke: #1f77b4; stroke-width: 1.5; stroke-linecap: square\"/>\n   </g>\n   <g id=\"line2d_26\">\n    <path d=\"M 55.194886 139.362188 \nL 65.63767 139.098708 \nL 72.980253 138.699787 \nL 78.69115 138.178279 \nL 83.586205 137.516853 \nL 87.991754 136.697191 \nL 91.907798 135.745999 \nL 95.497505 134.654637 \nL 98.924044 133.387507 \nL 102.187413 131.951607 \nL 105.450783 130.271147 \nL 108.714153 128.328848 \nL 111.977523 126.112322 \nL 115.240893 123.615644 \nL 118.504263 120.840886 \nL 121.930802 117.640793 \nL 125.683677 113.829699 \nL 130.089226 109.01843 \nL 136.126461 102.052696 \nL 144.448054 92.482389 \nL 148.364098 88.331596 \nL 151.627468 85.194678 \nL 154.401333 82.824913 \nL 157.012028 80.888277 \nL 159.296387 79.455574 \nL 161.580746 78.288522 \nL 163.701937 77.457339 \nL 165.659959 76.915213 \nL 167.617981 76.595215 \nL 169.576003 76.500787 \nL 171.534025 76.632947 \nL 173.492047 76.99027 \nL 175.450069 77.568916 \nL 177.571259 78.438306 \nL 179.69245 79.54932 \nL 181.976809 81.000265 \nL 184.424336 82.824913 \nL 187.035032 85.047175 \nL 189.972065 87.839952 \nL 193.398603 91.412502 \nL 197.804153 96.3499 \nL 212.978823 113.657453 \nL 216.894867 117.640793 \nL 220.484574 120.986092 \nL 223.911112 123.877929 \nL 227.174482 126.346542 \nL 230.437852 128.535259 \nL 233.701222 130.450724 \nL 236.964592 132.105883 \nL 240.227962 133.51842 \nL 243.6545 134.763387 \nL 247.244207 135.834289 \nL 251.160251 136.766392 \nL 255.402632 137.542786 \nL 260.134519 138.178279 \nL 265.682247 138.687887 \nL 272.372156 139.065638 \nL 281.020086 139.318239 \nL 283.467614 139.359757 \nL 283.467614 139.359757 \n\" clip-path=\"url(#pa85a988bee)\" style=\"fill: none; stroke-dasharray: 5.55,2.4; stroke-dashoffset: 0; stroke: #bf00bf; stroke-width: 1.5\"/>\n   </g>\n   <g id=\"line2d_27\">\n    <path d=\"M 55.194886 139.5 \nL 157.012028 139.392742 \nL 162.396589 139.148719 \nL 165.986296 138.770771 \nL 168.76016 138.25954 \nL 171.044519 137.619981 \nL 173.002541 136.856558 \nL 174.797395 135.932618 \nL 176.42908 134.864093 \nL 178.060765 133.53546 \nL 179.69245 131.902404 \nL 181.324135 129.918522 \nL 182.792651 127.79423 \nL 184.424336 125.01546 \nL 186.056021 121.755388 \nL 187.687706 117.977866 \nL 189.319391 113.655911 \nL 191.114244 108.255858 \nL 193.072266 101.596938 \nL 195.193457 93.525729 \nL 197.640984 83.248545 \nL 200.741186 69.178196 \nL 206.77842 41.57206 \nL 208.899611 33.006718 \nL 210.694464 26.675681 \nL 212.16298 22.276554 \nL 213.468328 19.044317 \nL 214.610508 16.789011 \nL 215.589519 15.307609 \nL 216.405361 14.403942 \nL 217.221204 13.808322 \nL 217.873878 13.556687 \nL 218.526552 13.5063 \nL 219.179226 13.657402 \nL 219.8319 14.009268 \nL 220.647742 14.728769 \nL 221.463585 15.753897 \nL 222.442596 17.376612 \nL 223.584775 19.788832 \nL 224.726955 22.726997 \nL 226.032303 26.675681 \nL 227.663988 32.392617 \nL 229.62201 40.191426 \nL 232.069537 50.957567 \nL 241.206973 92.210802 \nL 243.491332 101.006788 \nL 245.449354 107.731288 \nL 247.407376 113.655911 \nL 249.202229 118.379758 \nL 250.833914 122.104146 \nL 252.465599 125.314336 \nL 254.097284 128.047227 \nL 255.728969 130.345625 \nL 257.360654 132.255577 \nL 258.992339 133.824084 \nL 260.624024 135.097239 \nL 262.418878 136.208702 \nL 264.376899 137.136646 \nL 266.49809 137.875773 \nL 268.782449 138.435791 \nL 271.556313 138.879679 \nL 274.982852 139.193999 \nL 279.877907 139.396705 \nL 283.467614 139.456009 \nL 283.467614 139.456009 \n\" clip-path=\"url(#pa85a988bee)\" style=\"fill: none; stroke-dasharray: 9.6,2.4,1.5,2.4; stroke-dashoffset: 0; stroke: #008000; stroke-width: 1.5\"/>\n   </g>\n   <g id=\"patch_3\">\n    <path d=\"M 43.78125 145.8 \nL 43.78125 7.2 \n\" style=\"fill: none; stroke: #000000; stroke-width: 0.8; stroke-linejoin: miter; stroke-linecap: square\"/>\n   </g>\n   <g id=\"patch_4\">\n    <path d=\"M 294.88125 145.8 \nL 294.88125 7.2 \n\" style=\"fill: none; stroke: #000000; stroke-width: 0.8; stroke-linejoin: miter; stroke-linecap: square\"/>\n   </g>\n   <g id=\"patch_5\">\n    <path d=\"M 43.78125 145.8 \nL 294.88125 145.8 \n\" style=\"fill: none; stroke: #000000; stroke-width: 0.8; stroke-linejoin: miter; stroke-linecap: square\"/>\n   </g>\n   <g id=\"patch_6\">\n    <path d=\"M 43.78125 7.2 \nL 294.88125 7.2 \n\" style=\"fill: none; stroke: #000000; stroke-width: 0.8; stroke-linejoin: miter; stroke-linecap: square\"/>\n   </g>\n   <g id=\"legend_1\">\n    <g id=\"patch_7\">\n     <path d=\"M 50.78125 59.234375 \nL 152.05625 59.234375 \nQ 154.05625 59.234375 154.05625 57.234375 \nL 154.05625 14.2 \nQ 154.05625 12.2 152.05625 12.2 \nL 50.78125 12.2 \nQ 48.78125 12.2 48.78125 14.2 \nL 48.78125 57.234375 \nQ 48.78125 59.234375 50.78125 59.234375 \nz\n\" style=\"fill: #ffffff; opacity: 0.8; stroke: #cccccc; stroke-linejoin: miter\"/>\n    </g>\n    <g id=\"line2d_28\">\n     <path d=\"M 52.78125 20.298438 \nL 62.78125 20.298438 \nL 72.78125 20.298438 \n\" style=\"fill: none; stroke: #1f77b4; stroke-width: 1.5; stroke-linecap: square\"/>\n    </g>\n    <g id=\"text_15\">\n     <!-- mean 0, std 1 -->\n     <g transform=\"translate(80.78125 23.798438) scale(0.1 -0.1)\">\n      <defs>\n       <path id=\"DejaVuSans-6d\" d=\"M 3328 2828 \nQ 3544 3216 3844 3400 \nQ 4144 3584 4550 3584 \nQ 5097 3584 5394 3201 \nQ 5691 2819 5691 2113 \nL 5691 0 \nL 5113 0 \nL 5113 2094 \nQ 5113 2597 4934 2840 \nQ 4756 3084 4391 3084 \nQ 3944 3084 3684 2787 \nQ 3425 2491 3425 1978 \nL 3425 0 \nL 2847 0 \nL 2847 2094 \nQ 2847 2600 2669 2842 \nQ 2491 3084 2119 3084 \nQ 1678 3084 1418 2786 \nQ 1159 2488 1159 1978 \nL 1159 0 \nL 581 0 \nL 581 3500 \nL 1159 3500 \nL 1159 2956 \nQ 1356 3278 1631 3431 \nQ 1906 3584 2284 3584 \nQ 2666 3584 2933 3390 \nQ 3200 3197 3328 2828 \nz\n\" transform=\"scale(0.015625)\"/>\n       <path id=\"DejaVuSans-65\" d=\"M 3597 1894 \nL 3597 1613 \nL 953 1613 \nQ 991 1019 1311 708 \nQ 1631 397 2203 397 \nQ 2534 397 2845 478 \nQ 3156 559 3463 722 \nL 3463 178 \nQ 3153 47 2828 -22 \nQ 2503 -91 2169 -91 \nQ 1331 -91 842 396 \nQ 353 884 353 1716 \nQ 353 2575 817 3079 \nQ 1281 3584 2069 3584 \nQ 2775 3584 3186 3129 \nQ 3597 2675 3597 1894 \nz\nM 3022 2063 \nQ 3016 2534 2758 2815 \nQ 2500 3097 2075 3097 \nQ 1594 3097 1305 2825 \nQ 1016 2553 972 2059 \nL 3022 2063 \nz\n\" transform=\"scale(0.015625)\"/>\n       <path id=\"DejaVuSans-61\" d=\"M 2194 1759 \nQ 1497 1759 1228 1600 \nQ 959 1441 959 1056 \nQ 959 750 1161 570 \nQ 1363 391 1709 391 \nQ 2188 391 2477 730 \nQ 2766 1069 2766 1631 \nL 2766 1759 \nL 2194 1759 \nz\nM 3341 1997 \nL 3341 0 \nL 2766 0 \nL 2766 531 \nQ 2569 213 2275 61 \nQ 1981 -91 1556 -91 \nQ 1019 -91 701 211 \nQ 384 513 384 1019 \nQ 384 1609 779 1909 \nQ 1175 2209 1959 2209 \nL 2766 2209 \nL 2766 2266 \nQ 2766 2663 2505 2880 \nQ 2244 3097 1772 3097 \nQ 1472 3097 1187 3025 \nQ 903 2953 641 2809 \nL 641 3341 \nQ 956 3463 1253 3523 \nQ 1550 3584 1831 3584 \nQ 2591 3584 2966 3190 \nQ 3341 2797 3341 1997 \nz\n\" transform=\"scale(0.015625)\"/>\n       <path id=\"DejaVuSans-6e\" d=\"M 3513 2113 \nL 3513 0 \nL 2938 0 \nL 2938 2094 \nQ 2938 2591 2744 2837 \nQ 2550 3084 2163 3084 \nQ 1697 3084 1428 2787 \nQ 1159 2491 1159 1978 \nL 1159 0 \nL 581 0 \nL 581 3500 \nL 1159 3500 \nL 1159 2956 \nQ 1366 3272 1645 3428 \nQ 1925 3584 2291 3584 \nQ 2894 3584 3203 3211 \nQ 3513 2838 3513 2113 \nz\n\" transform=\"scale(0.015625)\"/>\n       <path id=\"DejaVuSans-20\" transform=\"scale(0.015625)\"/>\n       <path id=\"DejaVuSans-2c\" d=\"M 750 794 \nL 1409 794 \nL 1409 256 \nL 897 -744 \nL 494 -744 \nL 750 256 \nL 750 794 \nz\n\" transform=\"scale(0.015625)\"/>\n       <path id=\"DejaVuSans-73\" d=\"M 2834 3397 \nL 2834 2853 \nQ 2591 2978 2328 3040 \nQ 2066 3103 1784 3103 \nQ 1356 3103 1142 2972 \nQ 928 2841 928 2578 \nQ 928 2378 1081 2264 \nQ 1234 2150 1697 2047 \nL 1894 2003 \nQ 2506 1872 2764 1633 \nQ 3022 1394 3022 966 \nQ 3022 478 2636 193 \nQ 2250 -91 1575 -91 \nQ 1294 -91 989 -36 \nQ 684 19 347 128 \nL 347 722 \nQ 666 556 975 473 \nQ 1284 391 1588 391 \nQ 1994 391 2212 530 \nQ 2431 669 2431 922 \nQ 2431 1156 2273 1281 \nQ 2116 1406 1581 1522 \nL 1381 1569 \nQ 847 1681 609 1914 \nQ 372 2147 372 2553 \nQ 372 3047 722 3315 \nQ 1072 3584 1716 3584 \nQ 2034 3584 2315 3537 \nQ 2597 3491 2834 3397 \nz\n\" transform=\"scale(0.015625)\"/>\n       <path id=\"DejaVuSans-74\" d=\"M 1172 4494 \nL 1172 3500 \nL 2356 3500 \nL 2356 3053 \nL 1172 3053 \nL 1172 1153 \nQ 1172 725 1289 603 \nQ 1406 481 1766 481 \nL 2356 481 \nL 2356 0 \nL 1766 0 \nQ 1100 0 847 248 \nQ 594 497 594 1153 \nL 594 3053 \nL 172 3053 \nL 172 3500 \nL 594 3500 \nL 594 4494 \nL 1172 4494 \nz\n\" transform=\"scale(0.015625)\"/>\n       <path id=\"DejaVuSans-64\" d=\"M 2906 2969 \nL 2906 4863 \nL 3481 4863 \nL 3481 0 \nL 2906 0 \nL 2906 525 \nQ 2725 213 2448 61 \nQ 2172 -91 1784 -91 \nQ 1150 -91 751 415 \nQ 353 922 353 1747 \nQ 353 2572 751 3078 \nQ 1150 3584 1784 3584 \nQ 2172 3584 2448 3432 \nQ 2725 3281 2906 2969 \nz\nM 947 1747 \nQ 947 1113 1208 752 \nQ 1469 391 1925 391 \nQ 2381 391 2643 752 \nQ 2906 1113 2906 1747 \nQ 2906 2381 2643 2742 \nQ 2381 3103 1925 3103 \nQ 1469 3103 1208 2742 \nQ 947 2381 947 1747 \nz\n\" transform=\"scale(0.015625)\"/>\n      </defs>\n      <use xlink:href=\"#DejaVuSans-6d\"/>\n      <use xlink:href=\"#DejaVuSans-65\" x=\"97.412109\"/>\n      <use xlink:href=\"#DejaVuSans-61\" x=\"158.935547\"/>\n      <use xlink:href=\"#DejaVuSans-6e\" x=\"220.214844\"/>\n      <use xlink:href=\"#DejaVuSans-20\" x=\"283.59375\"/>\n      <use xlink:href=\"#DejaVuSans-30\" x=\"315.380859\"/>\n      <use xlink:href=\"#DejaVuSans-2c\" x=\"379.003906\"/>\n      <use xlink:href=\"#DejaVuSans-20\" x=\"410.791016\"/>\n      <use xlink:href=\"#DejaVuSans-73\" x=\"442.578125\"/>\n      <use xlink:href=\"#DejaVuSans-74\" x=\"494.677734\"/>\n      <use xlink:href=\"#DejaVuSans-64\" x=\"533.886719\"/>\n      <use xlink:href=\"#DejaVuSans-20\" x=\"597.363281\"/>\n      <use xlink:href=\"#DejaVuSans-31\" x=\"629.150391\"/>\n     </g>\n    </g>\n    <g id=\"line2d_29\">\n     <path d=\"M 52.78125 34.976563 \nL 62.78125 34.976563 \nL 72.78125 34.976563 \n\" style=\"fill: none; stroke-dasharray: 5.55,2.4; stroke-dashoffset: 0; stroke: #bf00bf; stroke-width: 1.5\"/>\n    </g>\n    <g id=\"text_16\">\n     <!-- mean 0, std 2 -->\n     <g transform=\"translate(80.78125 38.476563) scale(0.1 -0.1)\">\n      <use xlink:href=\"#DejaVuSans-6d\"/>\n      <use xlink:href=\"#DejaVuSans-65\" x=\"97.412109\"/>\n      <use xlink:href=\"#DejaVuSans-61\" x=\"158.935547\"/>\n      <use xlink:href=\"#DejaVuSans-6e\" x=\"220.214844\"/>\n      <use xlink:href=\"#DejaVuSans-20\" x=\"283.59375\"/>\n      <use xlink:href=\"#DejaVuSans-30\" x=\"315.380859\"/>\n      <use xlink:href=\"#DejaVuSans-2c\" x=\"379.003906\"/>\n      <use xlink:href=\"#DejaVuSans-20\" x=\"410.791016\"/>\n      <use xlink:href=\"#DejaVuSans-73\" x=\"442.578125\"/>\n      <use xlink:href=\"#DejaVuSans-74\" x=\"494.677734\"/>\n      <use xlink:href=\"#DejaVuSans-64\" x=\"533.886719\"/>\n      <use xlink:href=\"#DejaVuSans-20\" x=\"597.363281\"/>\n      <use xlink:href=\"#DejaVuSans-32\" x=\"629.150391\"/>\n     </g>\n    </g>\n    <g id=\"line2d_30\">\n     <path d=\"M 52.78125 49.654688 \nL 62.78125 49.654688 \nL 72.78125 49.654688 \n\" style=\"fill: none; stroke-dasharray: 9.6,2.4,1.5,2.4; stroke-dashoffset: 0; stroke: #008000; stroke-width: 1.5\"/>\n    </g>\n    <g id=\"text_17\">\n     <!-- mean 3, std 1 -->\n     <g transform=\"translate(80.78125 53.154688) scale(0.1 -0.1)\">\n      <use xlink:href=\"#DejaVuSans-6d\"/>\n      <use xlink:href=\"#DejaVuSans-65\" x=\"97.412109\"/>\n      <use xlink:href=\"#DejaVuSans-61\" x=\"158.935547\"/>\n      <use xlink:href=\"#DejaVuSans-6e\" x=\"220.214844\"/>\n      <use xlink:href=\"#DejaVuSans-20\" x=\"283.59375\"/>\n      <use xlink:href=\"#DejaVuSans-33\" x=\"315.380859\"/>\n      <use xlink:href=\"#DejaVuSans-2c\" x=\"379.003906\"/>\n      <use xlink:href=\"#DejaVuSans-20\" x=\"410.791016\"/>\n      <use xlink:href=\"#DejaVuSans-73\" x=\"442.578125\"/>\n      <use xlink:href=\"#DejaVuSans-74\" x=\"494.677734\"/>\n      <use xlink:href=\"#DejaVuSans-64\" x=\"533.886719\"/>\n      <use xlink:href=\"#DejaVuSans-20\" x=\"597.363281\"/>\n      <use xlink:href=\"#DejaVuSans-31\" x=\"629.150391\"/>\n     </g>\n    </g>\n   </g>\n  </g>\n </g>\n <defs>\n  <clipPath id=\"pa85a988bee\">\n   <rect x=\"43.78125\" y=\"7.2\" width=\"251.1\" height=\"138.6\"/>\n  </clipPath>\n </defs>\n</svg>\n"
          },
          "metadata": {}
        }
      ]
    },
    {
      "cell_type": "markdown",
      "source": [
        "## exercise"
      ],
      "metadata": {
        "id": "-Yi0eGZgoaap"
      }
    },
    {
      "cell_type": "markdown",
      "source": [
        "6. It still will be a linear function, therefore leading to only simple pattern recognition."
      ],
      "metadata": {
        "id": "d8l0AW6spril"
      }
    },
    {
      "cell_type": "markdown",
      "source": [
        "# 3.2"
      ],
      "metadata": {
        "id": "IpnZE7Tfzcyb"
      }
    },
    {
      "cell_type": "markdown",
      "source": [
        "## code"
      ],
      "metadata": {
        "id": "5kr1FZolzeXP"
      }
    },
    {
      "cell_type": "code",
      "source": [
        "import time\n",
        "import numpy as np\n",
        "import torch\n",
        "from torch import nn\n",
        "from d2l import torch as d2l"
      ],
      "metadata": {
        "id": "Si9H7xa0zd4C"
      },
      "execution_count": null,
      "outputs": []
    },
    {
      "cell_type": "code",
      "source": [
        "def add_to_class(Class):\n",
        "    def wrapper(obj):\n",
        "        setattr(Class, obj.__name__, obj)\n",
        "    return wrapper"
      ],
      "metadata": {
        "id": "rjDOYJ4_zgPx"
      },
      "execution_count": null,
      "outputs": []
    },
    {
      "cell_type": "code",
      "source": [
        "class A:\n",
        "    def __init__(self):\n",
        "        self.b = 1\n",
        "\n",
        "a = A()"
      ],
      "metadata": {
        "id": "8X-XaaqsziVF"
      },
      "execution_count": null,
      "outputs": []
    },
    {
      "cell_type": "code",
      "source": [
        "@add_to_class(A)\n",
        "def do(self):\n",
        "    print('Class attribute \"b\" is', self.b)\n",
        "\n",
        "a.do()"
      ],
      "metadata": {
        "colab": {
          "base_uri": "https://localhost:8080/"
        },
        "id": "hdyltZazzql9",
        "outputId": "d82b38ec-d852-4b2a-f5f5-2647469770c7"
      },
      "execution_count": null,
      "outputs": [
        {
          "output_type": "stream",
          "name": "stdout",
          "text": [
            "Class attribute \"b\" is 1\n"
          ]
        }
      ]
    },
    {
      "cell_type": "code",
      "source": [
        "class HyperParameters:\n",
        "    def save_hyperparameters(self, ignore=[]):\n",
        "        raise NotImplemented"
      ],
      "metadata": {
        "id": "NZvA04kfzq6i"
      },
      "execution_count": null,
      "outputs": []
    },
    {
      "cell_type": "code",
      "source": [
        "class B(d2l.HyperParameters):\n",
        "    def __init__(self, a, b, c):\n",
        "        self.save_hyperparameters(ignore=['c'])\n",
        "        print('self.a =', self.a, 'self.b =', self.b)\n",
        "        print('There is no self.c =', not hasattr(self, 'c'))\n",
        "\n",
        "b = B(a=1, b=2, c=3)"
      ],
      "metadata": {
        "colab": {
          "base_uri": "https://localhost:8080/"
        },
        "id": "dYKeYxE1zt_k",
        "outputId": "8f20bafc-3c76-4f07-c44c-b98030a69e36"
      },
      "execution_count": null,
      "outputs": [
        {
          "output_type": "stream",
          "name": "stdout",
          "text": [
            "self.a = 1 self.b = 2\n",
            "There is no self.c = True\n"
          ]
        }
      ]
    },
    {
      "cell_type": "code",
      "source": [
        "class ProgressBoard(d2l.HyperParameters):\n",
        "    \"\"\"The board that plots data points in animation.\"\"\"\n",
        "    def __init__(self, xlabel=None, ylabel=None, xlim=None,\n",
        "                 ylim=None, xscale='linear', yscale='linear',\n",
        "                 ls=['-', '--', '-.', ':'], colors=['C0', 'C1', 'C2', 'C3'],\n",
        "                 fig=None, axes=None, figsize=(3.5, 2.5), display=True):\n",
        "        self.save_hyperparameters()\n",
        "\n",
        "    def draw(self, x, y, label, every_n=1):\n",
        "        raise NotImplemented"
      ],
      "metadata": {
        "id": "o0lLw8wQ0INK"
      },
      "execution_count": null,
      "outputs": []
    },
    {
      "cell_type": "code",
      "source": [
        "board = d2l.ProgressBoard('x')\n",
        "for x in np.arange(0, 10, 0.1):\n",
        "    board.draw(x, np.sin(x), 'sin', every_n=2)\n",
        "    board.draw(x, np.cos(x), 'cos', every_n=10)"
      ],
      "metadata": {
        "colab": {
          "base_uri": "https://localhost:8080/",
          "height": 265
        },
        "id": "VQyS6u8q0KmL",
        "outputId": "c7763849-ce00-430c-cacd-7a1f38895984"
      },
      "execution_count": null,
      "outputs": [
        {
          "output_type": "display_data",
          "data": {
            "text/plain": [
              "<Figure size 350x250 with 1 Axes>"
            ],
            "image/svg+xml": "<?xml version=\"1.0\" encoding=\"utf-8\" standalone=\"no\"?>\n<!DOCTYPE svg PUBLIC \"-//W3C//DTD SVG 1.1//EN\"\n  \"http://www.w3.org/Graphics/SVG/1.1/DTD/svg11.dtd\">\n<svg xmlns:xlink=\"http://www.w3.org/1999/xlink\" width=\"241.185572pt\" height=\"183.35625pt\" viewBox=\"0 0 241.185572 183.35625\" xmlns=\"http://www.w3.org/2000/svg\" version=\"1.1\">\n <metadata>\n  <rdf:RDF xmlns:dc=\"http://purl.org/dc/elements/1.1/\" xmlns:cc=\"http://creativecommons.org/ns#\" xmlns:rdf=\"http://www.w3.org/1999/02/22-rdf-syntax-ns#\">\n   <cc:Work>\n    <dc:type rdf:resource=\"http://purl.org/dc/dcmitype/StillImage\"/>\n    <dc:date>2024-09-23T16:57:35.030368</dc:date>\n    <dc:format>image/svg+xml</dc:format>\n    <dc:creator>\n     <cc:Agent>\n      <dc:title>Matplotlib v3.7.2, https://matplotlib.org/</dc:title>\n     </cc:Agent>\n    </dc:creator>\n   </cc:Work>\n  </rdf:RDF>\n </metadata>\n <defs>\n  <style type=\"text/css\">*{stroke-linejoin: round; stroke-linecap: butt}</style>\n </defs>\n <g id=\"figure_1\">\n  <g id=\"patch_1\">\n   <path d=\"M -0 183.35625 \nL 241.185572 183.35625 \nL 241.185572 0 \nL -0 0 \nz\n\" style=\"fill: #ffffff\"/>\n  </g>\n  <g id=\"axes_1\">\n   <g id=\"patch_2\">\n    <path d=\"M 38.482813 145.8 \nL 233.782813 145.8 \nL 233.782813 7.2 \nL 38.482813 7.2 \nz\n\" style=\"fill: #ffffff\"/>\n   </g>\n   <g id=\"matplotlib.axis_1\">\n    <g id=\"xtick_1\">\n     <g id=\"line2d_1\">\n      <defs>\n       <path id=\"m9f5805da7a\" d=\"M 0 0 \nL 0 3.5 \n\" style=\"stroke: #000000; stroke-width: 0.8\"/>\n      </defs>\n      <g>\n       <use xlink:href=\"#m9f5805da7a\" x=\"46.454241\" y=\"145.8\" style=\"stroke: #000000; stroke-width: 0.8\"/>\n      </g>\n     </g>\n     <g id=\"text_1\">\n      <!-- 0 -->\n      <g transform=\"translate(43.272991 160.398438) scale(0.1 -0.1)\">\n       <defs>\n        <path id=\"DejaVuSans-30\" d=\"M 2034 4250 \nQ 1547 4250 1301 3770 \nQ 1056 3291 1056 2328 \nQ 1056 1369 1301 889 \nQ 1547 409 2034 409 \nQ 2525 409 2770 889 \nQ 3016 1369 3016 2328 \nQ 3016 3291 2770 3770 \nQ 2525 4250 2034 4250 \nz\nM 2034 4750 \nQ 2819 4750 3233 4129 \nQ 3647 3509 3647 2328 \nQ 3647 1150 3233 529 \nQ 2819 -91 2034 -91 \nQ 1250 -91 836 529 \nQ 422 1150 422 2328 \nQ 422 3509 836 4129 \nQ 1250 4750 2034 4750 \nz\n\" transform=\"scale(0.015625)\"/>\n       </defs>\n       <use xlink:href=\"#DejaVuSans-30\"/>\n      </g>\n     </g>\n    </g>\n    <g id=\"xtick_2\">\n     <g id=\"line2d_2\">\n      <g>\n       <use xlink:href=\"#m9f5805da7a\" x=\"82.688007\" y=\"145.8\" style=\"stroke: #000000; stroke-width: 0.8\"/>\n      </g>\n     </g>\n     <g id=\"text_2\">\n      <!-- 2 -->\n      <g transform=\"translate(79.506757 160.398438) scale(0.1 -0.1)\">\n       <defs>\n        <path id=\"DejaVuSans-32\" d=\"M 1228 531 \nL 3431 531 \nL 3431 0 \nL 469 0 \nL 469 531 \nQ 828 903 1448 1529 \nQ 2069 2156 2228 2338 \nQ 2531 2678 2651 2914 \nQ 2772 3150 2772 3378 \nQ 2772 3750 2511 3984 \nQ 2250 4219 1831 4219 \nQ 1534 4219 1204 4116 \nQ 875 4013 500 3803 \nL 500 4441 \nQ 881 4594 1212 4672 \nQ 1544 4750 1819 4750 \nQ 2544 4750 2975 4387 \nQ 3406 4025 3406 3419 \nQ 3406 3131 3298 2873 \nQ 3191 2616 2906 2266 \nQ 2828 2175 2409 1742 \nQ 1991 1309 1228 531 \nz\n\" transform=\"scale(0.015625)\"/>\n       </defs>\n       <use xlink:href=\"#DejaVuSans-32\"/>\n      </g>\n     </g>\n    </g>\n    <g id=\"xtick_3\">\n     <g id=\"line2d_3\">\n      <g>\n       <use xlink:href=\"#m9f5805da7a\" x=\"118.921774\" y=\"145.8\" style=\"stroke: #000000; stroke-width: 0.8\"/>\n      </g>\n     </g>\n     <g id=\"text_3\">\n      <!-- 4 -->\n      <g transform=\"translate(115.740524 160.398438) scale(0.1 -0.1)\">\n       <defs>\n        <path id=\"DejaVuSans-34\" d=\"M 2419 4116 \nL 825 1625 \nL 2419 1625 \nL 2419 4116 \nz\nM 2253 4666 \nL 3047 4666 \nL 3047 1625 \nL 3713 1625 \nL 3713 1100 \nL 3047 1100 \nL 3047 0 \nL 2419 0 \nL 2419 1100 \nL 313 1100 \nL 313 1709 \nL 2253 4666 \nz\n\" transform=\"scale(0.015625)\"/>\n       </defs>\n       <use xlink:href=\"#DejaVuSans-34\"/>\n      </g>\n     </g>\n    </g>\n    <g id=\"xtick_4\">\n     <g id=\"line2d_4\">\n      <g>\n       <use xlink:href=\"#m9f5805da7a\" x=\"155.15554\" y=\"145.8\" style=\"stroke: #000000; stroke-width: 0.8\"/>\n      </g>\n     </g>\n     <g id=\"text_4\">\n      <!-- 6 -->\n      <g transform=\"translate(151.97429 160.398438) scale(0.1 -0.1)\">\n       <defs>\n        <path id=\"DejaVuSans-36\" d=\"M 2113 2584 \nQ 1688 2584 1439 2293 \nQ 1191 2003 1191 1497 \nQ 1191 994 1439 701 \nQ 1688 409 2113 409 \nQ 2538 409 2786 701 \nQ 3034 994 3034 1497 \nQ 3034 2003 2786 2293 \nQ 2538 2584 2113 2584 \nz\nM 3366 4563 \nL 3366 3988 \nQ 3128 4100 2886 4159 \nQ 2644 4219 2406 4219 \nQ 1781 4219 1451 3797 \nQ 1122 3375 1075 2522 \nQ 1259 2794 1537 2939 \nQ 1816 3084 2150 3084 \nQ 2853 3084 3261 2657 \nQ 3669 2231 3669 1497 \nQ 3669 778 3244 343 \nQ 2819 -91 2113 -91 \nQ 1303 -91 875 529 \nQ 447 1150 447 2328 \nQ 447 3434 972 4092 \nQ 1497 4750 2381 4750 \nQ 2619 4750 2861 4703 \nQ 3103 4656 3366 4563 \nz\n\" transform=\"scale(0.015625)\"/>\n       </defs>\n       <use xlink:href=\"#DejaVuSans-36\"/>\n      </g>\n     </g>\n    </g>\n    <g id=\"xtick_5\">\n     <g id=\"line2d_5\">\n      <g>\n       <use xlink:href=\"#m9f5805da7a\" x=\"191.389306\" y=\"145.8\" style=\"stroke: #000000; stroke-width: 0.8\"/>\n      </g>\n     </g>\n     <g id=\"text_5\">\n      <!-- 8 -->\n      <g transform=\"translate(188.208056 160.398438) scale(0.1 -0.1)\">\n       <defs>\n        <path id=\"DejaVuSans-38\" d=\"M 2034 2216 \nQ 1584 2216 1326 1975 \nQ 1069 1734 1069 1313 \nQ 1069 891 1326 650 \nQ 1584 409 2034 409 \nQ 2484 409 2743 651 \nQ 3003 894 3003 1313 \nQ 3003 1734 2745 1975 \nQ 2488 2216 2034 2216 \nz\nM 1403 2484 \nQ 997 2584 770 2862 \nQ 544 3141 544 3541 \nQ 544 4100 942 4425 \nQ 1341 4750 2034 4750 \nQ 2731 4750 3128 4425 \nQ 3525 4100 3525 3541 \nQ 3525 3141 3298 2862 \nQ 3072 2584 2669 2484 \nQ 3125 2378 3379 2068 \nQ 3634 1759 3634 1313 \nQ 3634 634 3220 271 \nQ 2806 -91 2034 -91 \nQ 1263 -91 848 271 \nQ 434 634 434 1313 \nQ 434 1759 690 2068 \nQ 947 2378 1403 2484 \nz\nM 1172 3481 \nQ 1172 3119 1398 2916 \nQ 1625 2713 2034 2713 \nQ 2441 2713 2670 2916 \nQ 2900 3119 2900 3481 \nQ 2900 3844 2670 4047 \nQ 2441 4250 2034 4250 \nQ 1625 4250 1398 4047 \nQ 1172 3844 1172 3481 \nz\n\" transform=\"scale(0.015625)\"/>\n       </defs>\n       <use xlink:href=\"#DejaVuSans-38\"/>\n      </g>\n     </g>\n    </g>\n    <g id=\"xtick_6\">\n     <g id=\"line2d_6\">\n      <g>\n       <use xlink:href=\"#m9f5805da7a\" x=\"227.623072\" y=\"145.8\" style=\"stroke: #000000; stroke-width: 0.8\"/>\n      </g>\n     </g>\n     <g id=\"text_6\">\n      <!-- 10 -->\n      <g transform=\"translate(221.260572 160.398438) scale(0.1 -0.1)\">\n       <defs>\n        <path id=\"DejaVuSans-31\" d=\"M 794 531 \nL 1825 531 \nL 1825 4091 \nL 703 3866 \nL 703 4441 \nL 1819 4666 \nL 2450 4666 \nL 2450 531 \nL 3481 531 \nL 3481 0 \nL 794 0 \nL 794 531 \nz\n\" transform=\"scale(0.015625)\"/>\n       </defs>\n       <use xlink:href=\"#DejaVuSans-31\"/>\n       <use xlink:href=\"#DejaVuSans-30\" x=\"63.623047\"/>\n      </g>\n     </g>\n    </g>\n    <g id=\"text_7\">\n     <!-- x -->\n     <g transform=\"translate(133.173438 174.076563) scale(0.1 -0.1)\">\n      <defs>\n       <path id=\"DejaVuSans-78\" d=\"M 3513 3500 \nL 2247 1797 \nL 3578 0 \nL 2900 0 \nL 1881 1375 \nL 863 0 \nL 184 0 \nL 1544 1831 \nL 300 3500 \nL 978 3500 \nL 1906 2253 \nL 2834 3500 \nL 3513 3500 \nz\n\" transform=\"scale(0.015625)\"/>\n      </defs>\n      <use xlink:href=\"#DejaVuSans-78\"/>\n     </g>\n    </g>\n   </g>\n   <g id=\"matplotlib.axis_2\">\n    <g id=\"ytick_1\">\n     <g id=\"line2d_7\">\n      <defs>\n       <path id=\"m073bde0e6d\" d=\"M 0 0 \nL -3.5 0 \n\" style=\"stroke: #000000; stroke-width: 0.8\"/>\n      </defs>\n      <g>\n       <use xlink:href=\"#m073bde0e6d\" x=\"38.482813\" y=\"139.701599\" style=\"stroke: #000000; stroke-width: 0.8\"/>\n      </g>\n     </g>\n     <g id=\"text_8\">\n      <!-- −1.0 -->\n      <g transform=\"translate(7.2 143.500818) scale(0.1 -0.1)\">\n       <defs>\n        <path id=\"DejaVuSans-2212\" d=\"M 678 2272 \nL 4684 2272 \nL 4684 1741 \nL 678 1741 \nL 678 2272 \nz\n\" transform=\"scale(0.015625)\"/>\n        <path id=\"DejaVuSans-2e\" d=\"M 684 794 \nL 1344 794 \nL 1344 0 \nL 684 0 \nL 684 794 \nz\n\" transform=\"scale(0.015625)\"/>\n       </defs>\n       <use xlink:href=\"#DejaVuSans-2212\"/>\n       <use xlink:href=\"#DejaVuSans-31\" x=\"83.789062\"/>\n       <use xlink:href=\"#DejaVuSans-2e\" x=\"147.412109\"/>\n       <use xlink:href=\"#DejaVuSans-30\" x=\"179.199219\"/>\n      </g>\n     </g>\n    </g>\n    <g id=\"ytick_2\">\n     <g id=\"line2d_8\">\n      <g>\n       <use xlink:href=\"#m073bde0e6d\" x=\"38.482813\" y=\"108.131347\" style=\"stroke: #000000; stroke-width: 0.8\"/>\n      </g>\n     </g>\n     <g id=\"text_9\">\n      <!-- −0.5 -->\n      <g transform=\"translate(7.2 111.930566) scale(0.1 -0.1)\">\n       <defs>\n        <path id=\"DejaVuSans-35\" d=\"M 691 4666 \nL 3169 4666 \nL 3169 4134 \nL 1269 4134 \nL 1269 2991 \nQ 1406 3038 1543 3061 \nQ 1681 3084 1819 3084 \nQ 2600 3084 3056 2656 \nQ 3513 2228 3513 1497 \nQ 3513 744 3044 326 \nQ 2575 -91 1722 -91 \nQ 1428 -91 1123 -41 \nQ 819 9 494 109 \nL 494 744 \nQ 775 591 1075 516 \nQ 1375 441 1709 441 \nQ 2250 441 2565 725 \nQ 2881 1009 2881 1497 \nQ 2881 1984 2565 2268 \nQ 2250 2553 1709 2553 \nQ 1456 2553 1204 2497 \nQ 953 2441 691 2322 \nL 691 4666 \nz\n\" transform=\"scale(0.015625)\"/>\n       </defs>\n       <use xlink:href=\"#DejaVuSans-2212\"/>\n       <use xlink:href=\"#DejaVuSans-30\" x=\"83.789062\"/>\n       <use xlink:href=\"#DejaVuSans-2e\" x=\"147.412109\"/>\n       <use xlink:href=\"#DejaVuSans-35\" x=\"179.199219\"/>\n      </g>\n     </g>\n    </g>\n    <g id=\"ytick_3\">\n     <g id=\"line2d_9\">\n      <g>\n       <use xlink:href=\"#m073bde0e6d\" x=\"38.482813\" y=\"76.561095\" style=\"stroke: #000000; stroke-width: 0.8\"/>\n      </g>\n     </g>\n     <g id=\"text_10\">\n      <!-- 0.0 -->\n      <g transform=\"translate(15.579688 80.360314) scale(0.1 -0.1)\">\n       <use xlink:href=\"#DejaVuSans-30\"/>\n       <use xlink:href=\"#DejaVuSans-2e\" x=\"63.623047\"/>\n       <use xlink:href=\"#DejaVuSans-30\" x=\"95.410156\"/>\n      </g>\n     </g>\n    </g>\n    <g id=\"ytick_4\">\n     <g id=\"line2d_10\">\n      <g>\n       <use xlink:href=\"#m073bde0e6d\" x=\"38.482813\" y=\"44.990843\" style=\"stroke: #000000; stroke-width: 0.8\"/>\n      </g>\n     </g>\n     <g id=\"text_11\">\n      <!-- 0.5 -->\n      <g transform=\"translate(15.579688 48.790062) scale(0.1 -0.1)\">\n       <use xlink:href=\"#DejaVuSans-30\"/>\n       <use xlink:href=\"#DejaVuSans-2e\" x=\"63.623047\"/>\n       <use xlink:href=\"#DejaVuSans-35\" x=\"95.410156\"/>\n      </g>\n     </g>\n    </g>\n    <g id=\"ytick_5\">\n     <g id=\"line2d_11\">\n      <g>\n       <use xlink:href=\"#m073bde0e6d\" x=\"38.482813\" y=\"13.420591\" style=\"stroke: #000000; stroke-width: 0.8\"/>\n      </g>\n     </g>\n     <g id=\"text_12\">\n      <!-- 1.0 -->\n      <g transform=\"translate(15.579688 17.21981) scale(0.1 -0.1)\">\n       <use xlink:href=\"#DejaVuSans-31\"/>\n       <use xlink:href=\"#DejaVuSans-2e\" x=\"63.623047\"/>\n       <use xlink:href=\"#DejaVuSans-30\" x=\"95.410156\"/>\n      </g>\n     </g>\n    </g>\n   </g>\n   <g id=\"line2d_12\">\n    <path d=\"M 47.360085 73.409329 \n\" clip-path=\"url(#pc20113639d)\" style=\"fill: none; stroke: #1f77b4; stroke-width: 1.5; stroke-linecap: square\"/>\n   </g>\n   <g id=\"line2d_13\"/>\n   <g id=\"line2d_14\">\n    <path d=\"M 47.360085 73.409329 \nL 50.983462 60.959407 \n\" clip-path=\"url(#pc20113639d)\" style=\"fill: none; stroke: #1f77b4; stroke-width: 1.5; stroke-linecap: square\"/>\n   </g>\n   <g id=\"line2d_15\"/>\n   <g id=\"line2d_16\">\n    <path d=\"M 47.360085 73.409329 \nL 50.983462 60.959407 \nL 54.606838 49.131475 \n\" clip-path=\"url(#pc20113639d)\" style=\"fill: none; stroke: #1f77b4; stroke-width: 1.5; stroke-linecap: square\"/>\n   </g>\n   <g id=\"line2d_17\"/>\n   <g id=\"line2d_18\">\n    <path d=\"M 47.360085 73.409329 \nL 50.983462 60.959407 \nL 54.606838 49.131475 \nL 58.230215 38.397075 \n\" clip-path=\"url(#pc20113639d)\" style=\"fill: none; stroke: #1f77b4; stroke-width: 1.5; stroke-linecap: square\"/>\n   </g>\n   <g id=\"line2d_19\"/>\n   <g id=\"line2d_20\">\n    <path d=\"M 47.360085 73.409329 \nL 50.983462 60.959407 \nL 54.606838 49.131475 \nL 58.230215 38.397075 \nL 61.853592 29.184154 \n\" clip-path=\"url(#pc20113639d)\" style=\"fill: none; stroke: #1f77b4; stroke-width: 1.5; stroke-linecap: square\"/>\n   </g>\n   <g id=\"line2d_21\"/>\n   <g id=\"line2d_22\">\n    <path d=\"M 47.360085 73.409329 \nL 50.983462 60.959407 \nL 54.606838 49.131475 \nL 58.230215 38.397075 \nL 61.853592 29.184154 \n\" clip-path=\"url(#pc20113639d)\" style=\"fill: none; stroke: #1f77b4; stroke-width: 1.5; stroke-linecap: square\"/>\n   </g>\n   <g id=\"line2d_23\">\n    <path d=\"M 54.606838 22.023199 \n\" clip-path=\"url(#pc20113639d)\" style=\"fill: none; stroke-dasharray: 5.55,2.4; stroke-dashoffset: 0; stroke: #ff7f0e; stroke-width: 1.5\"/>\n   </g>\n   <g id=\"line2d_24\">\n    <path d=\"M 47.360085 73.409329 \nL 50.983462 60.959407 \nL 54.606838 49.131475 \nL 58.230215 38.397075 \nL 61.853592 29.184154 \nL 65.476968 21.860003 \n\" clip-path=\"url(#pc20113639d)\" style=\"fill: none; stroke: #1f77b4; stroke-width: 1.5; stroke-linecap: square\"/>\n   </g>\n   <g id=\"line2d_25\">\n    <path d=\"M 54.606838 22.023199 \n\" clip-path=\"url(#pc20113639d)\" style=\"fill: none; stroke-dasharray: 5.55,2.4; stroke-dashoffset: 0; stroke: #ff7f0e; stroke-width: 1.5\"/>\n   </g>\n   <g id=\"line2d_26\">\n    <path d=\"M 47.360085 73.409329 \nL 50.983462 60.959407 \nL 54.606838 49.131475 \nL 58.230215 38.397075 \nL 61.853592 29.184154 \nL 65.476968 21.860003 \nL 69.100345 16.716611 \n\" clip-path=\"url(#pc20113639d)\" style=\"fill: none; stroke: #1f77b4; stroke-width: 1.5; stroke-linecap: square\"/>\n   </g>\n   <g id=\"line2d_27\">\n    <path d=\"M 54.606838 22.023199 \n\" clip-path=\"url(#pc20113639d)\" style=\"fill: none; stroke-dasharray: 5.55,2.4; stroke-dashoffset: 0; stroke: #ff7f0e; stroke-width: 1.5\"/>\n   </g>\n   <g id=\"line2d_28\">\n    <path d=\"M 47.360085 73.409329 \nL 50.983462 60.959407 \nL 54.606838 49.131475 \nL 58.230215 38.397075 \nL 61.853592 29.184154 \nL 65.476968 21.860003 \nL 69.100345 16.716611 \nL 72.723722 13.959031 \n\" clip-path=\"url(#pc20113639d)\" style=\"fill: none; stroke: #1f77b4; stroke-width: 1.5; stroke-linecap: square\"/>\n   </g>\n   <g id=\"line2d_29\">\n    <path d=\"M 54.606838 22.023199 \n\" clip-path=\"url(#pc20113639d)\" style=\"fill: none; stroke-dasharray: 5.55,2.4; stroke-dashoffset: 0; stroke: #ff7f0e; stroke-width: 1.5\"/>\n   </g>\n   <g id=\"line2d_30\">\n    <path d=\"M 47.360085 73.409329 \nL 50.983462 60.959407 \nL 54.606838 49.131475 \nL 58.230215 38.397075 \nL 61.853592 29.184154 \nL 65.476968 21.860003 \nL 69.100345 16.716611 \nL 72.723722 13.959031 \nL 76.347098 13.697196 \n\" clip-path=\"url(#pc20113639d)\" style=\"fill: none; stroke: #1f77b4; stroke-width: 1.5; stroke-linecap: square\"/>\n   </g>\n   <g id=\"line2d_31\">\n    <path d=\"M 54.606838 22.023199 \n\" clip-path=\"url(#pc20113639d)\" style=\"fill: none; stroke-dasharray: 5.55,2.4; stroke-dashoffset: 0; stroke: #ff7f0e; stroke-width: 1.5\"/>\n   </g>\n   <g id=\"line2d_32\">\n    <path d=\"M 47.360085 73.409329 \nL 50.983462 60.959407 \nL 54.606838 49.131475 \nL 58.230215 38.397075 \nL 61.853592 29.184154 \nL 65.476968 21.860003 \nL 69.100345 16.716611 \nL 72.723722 13.959031 \nL 76.347098 13.697196 \nL 79.970475 15.941548 \n\" clip-path=\"url(#pc20113639d)\" style=\"fill: none; stroke: #1f77b4; stroke-width: 1.5; stroke-linecap: square\"/>\n   </g>\n   <g id=\"line2d_33\">\n    <path d=\"M 54.606838 22.023199 \n\" clip-path=\"url(#pc20113639d)\" style=\"fill: none; stroke-dasharray: 5.55,2.4; stroke-dashoffset: 0; stroke: #ff7f0e; stroke-width: 1.5\"/>\n   </g>\n   <g id=\"line2d_34\">\n    <path d=\"M 47.360085 73.409329 \nL 50.983462 60.959407 \nL 54.606838 49.131475 \nL 58.230215 38.397075 \nL 61.853592 29.184154 \nL 65.476968 21.860003 \nL 69.100345 16.716611 \nL 72.723722 13.959031 \nL 76.347098 13.697196 \nL 79.970475 15.941548 \n\" clip-path=\"url(#pc20113639d)\" style=\"fill: none; stroke: #1f77b4; stroke-width: 1.5; stroke-linecap: square\"/>\n   </g>\n   <g id=\"line2d_35\">\n    <path d=\"M 54.606838 22.023199 \nL 72.723722 69.262535 \n\" clip-path=\"url(#pc20113639d)\" style=\"fill: none; stroke-dasharray: 5.55,2.4; stroke-dashoffset: 0; stroke: #ff7f0e; stroke-width: 1.5\"/>\n   </g>\n   <g id=\"line2d_36\">\n    <path d=\"M 47.360085 73.409329 \nL 50.983462 60.959407 \nL 54.606838 49.131475 \nL 58.230215 38.397075 \nL 61.853592 29.184154 \nL 65.476968 21.860003 \nL 69.100345 16.716611 \nL 72.723722 13.959031 \nL 76.347098 13.697196 \nL 79.970475 15.941548 \nL 83.593851 20.602609 \n\" clip-path=\"url(#pc20113639d)\" style=\"fill: none; stroke: #1f77b4; stroke-width: 1.5; stroke-linecap: square\"/>\n   </g>\n   <g id=\"line2d_37\">\n    <path d=\"M 54.606838 22.023199 \nL 72.723722 69.262535 \n\" clip-path=\"url(#pc20113639d)\" style=\"fill: none; stroke-dasharray: 5.55,2.4; stroke-dashoffset: 0; stroke: #ff7f0e; stroke-width: 1.5\"/>\n   </g>\n   <g id=\"line2d_38\">\n    <path d=\"M 47.360085 73.409329 \nL 50.983462 60.959407 \nL 54.606838 49.131475 \nL 58.230215 38.397075 \nL 61.853592 29.184154 \nL 65.476968 21.860003 \nL 69.100345 16.716611 \nL 72.723722 13.959031 \nL 76.347098 13.697196 \nL 79.970475 15.941548 \nL 83.593851 20.602609 \nL 87.217228 27.494558 \n\" clip-path=\"url(#pc20113639d)\" style=\"fill: none; stroke: #1f77b4; stroke-width: 1.5; stroke-linecap: square\"/>\n   </g>\n   <g id=\"line2d_39\">\n    <path d=\"M 54.606838 22.023199 \nL 72.723722 69.262535 \n\" clip-path=\"url(#pc20113639d)\" style=\"fill: none; stroke-dasharray: 5.55,2.4; stroke-dashoffset: 0; stroke: #ff7f0e; stroke-width: 1.5\"/>\n   </g>\n   <g id=\"line2d_40\">\n    <path d=\"M 47.360085 73.409329 \nL 50.983462 60.959407 \nL 54.606838 49.131475 \nL 58.230215 38.397075 \nL 61.853592 29.184154 \nL 65.476968 21.860003 \nL 69.100345 16.716611 \nL 72.723722 13.959031 \nL 76.347098 13.697196 \nL 79.970475 15.941548 \nL 83.593851 20.602609 \nL 87.217228 27.494558 \nL 90.840605 36.342636 \n\" clip-path=\"url(#pc20113639d)\" style=\"fill: none; stroke: #1f77b4; stroke-width: 1.5; stroke-linecap: square\"/>\n   </g>\n   <g id=\"line2d_41\">\n    <path d=\"M 54.606838 22.023199 \nL 72.723722 69.262535 \n\" clip-path=\"url(#pc20113639d)\" style=\"fill: none; stroke-dasharray: 5.55,2.4; stroke-dashoffset: 0; stroke: #ff7f0e; stroke-width: 1.5\"/>\n   </g>\n   <g id=\"line2d_42\">\n    <path d=\"M 47.360085 73.409329 \nL 50.983462 60.959407 \nL 54.606838 49.131475 \nL 58.230215 38.397075 \nL 61.853592 29.184154 \nL 65.476968 21.860003 \nL 69.100345 16.716611 \nL 72.723722 13.959031 \nL 76.347098 13.697196 \nL 79.970475 15.941548 \nL 83.593851 20.602609 \nL 87.217228 27.494558 \nL 90.840605 36.342636 \nL 94.463981 46.794096 \n\" clip-path=\"url(#pc20113639d)\" style=\"fill: none; stroke: #1f77b4; stroke-width: 1.5; stroke-linecap: square\"/>\n   </g>\n   <g id=\"line2d_43\">\n    <path d=\"M 54.606838 22.023199 \nL 72.723722 69.262535 \n\" clip-path=\"url(#pc20113639d)\" style=\"fill: none; stroke-dasharray: 5.55,2.4; stroke-dashoffset: 0; stroke: #ff7f0e; stroke-width: 1.5\"/>\n   </g>\n   <g id=\"line2d_44\">\n    <path d=\"M 47.360085 73.409329 \nL 50.983462 60.959407 \nL 54.606838 49.131475 \nL 58.230215 38.397075 \nL 61.853592 29.184154 \nL 65.476968 21.860003 \nL 69.100345 16.716611 \nL 72.723722 13.959031 \nL 76.347098 13.697196 \nL 79.970475 15.941548 \nL 83.593851 20.602609 \nL 87.217228 27.494558 \nL 90.840605 36.342636 \nL 94.463981 46.794096 \nL 98.087358 58.432273 \n\" clip-path=\"url(#pc20113639d)\" style=\"fill: none; stroke: #1f77b4; stroke-width: 1.5; stroke-linecap: square\"/>\n   </g>\n   <g id=\"line2d_45\">\n    <path d=\"M 54.606838 22.023199 \nL 72.723722 69.262535 \n\" clip-path=\"url(#pc20113639d)\" style=\"fill: none; stroke-dasharray: 5.55,2.4; stroke-dashoffset: 0; stroke: #ff7f0e; stroke-width: 1.5\"/>\n   </g>\n   <g id=\"line2d_46\">\n    <path d=\"M 47.360085 73.409329 \nL 50.983462 60.959407 \nL 54.606838 49.131475 \nL 58.230215 38.397075 \nL 61.853592 29.184154 \nL 65.476968 21.860003 \nL 69.100345 16.716611 \nL 72.723722 13.959031 \nL 76.347098 13.697196 \nL 79.970475 15.941548 \nL 83.593851 20.602609 \nL 87.217228 27.494558 \nL 90.840605 36.342636 \nL 94.463981 46.794096 \nL 98.087358 58.432273 \n\" clip-path=\"url(#pc20113639d)\" style=\"fill: none; stroke: #1f77b4; stroke-width: 1.5; stroke-linecap: square\"/>\n   </g>\n   <g id=\"line2d_47\">\n    <path d=\"M 54.606838 22.023199 \nL 72.723722 69.262535 \nL 90.840605 123.212134 \n\" clip-path=\"url(#pc20113639d)\" style=\"fill: none; stroke-dasharray: 5.55,2.4; stroke-dashoffset: 0; stroke: #ff7f0e; stroke-width: 1.5\"/>\n   </g>\n   <g id=\"line2d_48\">\n    <path d=\"M 47.360085 73.409329 \nL 50.983462 60.959407 \nL 54.606838 49.131475 \nL 58.230215 38.397075 \nL 61.853592 29.184154 \nL 65.476968 21.860003 \nL 69.100345 16.716611 \nL 72.723722 13.959031 \nL 76.347098 13.697196 \nL 79.970475 15.941548 \nL 83.593851 20.602609 \nL 87.217228 27.494558 \nL 90.840605 36.342636 \nL 94.463981 46.794096 \nL 98.087358 58.432273 \nL 101.710735 70.793189 \n\" clip-path=\"url(#pc20113639d)\" style=\"fill: none; stroke: #1f77b4; stroke-width: 1.5; stroke-linecap: square\"/>\n   </g>\n   <g id=\"line2d_49\">\n    <path d=\"M 54.606838 22.023199 \nL 72.723722 69.262535 \nL 90.840605 123.212134 \n\" clip-path=\"url(#pc20113639d)\" style=\"fill: none; stroke-dasharray: 5.55,2.4; stroke-dashoffset: 0; stroke: #ff7f0e; stroke-width: 1.5\"/>\n   </g>\n   <g id=\"line2d_50\">\n    <path d=\"M 47.360085 73.409329 \nL 50.983462 60.959407 \nL 54.606838 49.131475 \nL 58.230215 38.397075 \nL 61.853592 29.184154 \nL 65.476968 21.860003 \nL 69.100345 16.716611 \nL 72.723722 13.959031 \nL 76.347098 13.697196 \nL 79.970475 15.941548 \nL 83.593851 20.602609 \nL 87.217228 27.494558 \nL 90.840605 36.342636 \nL 94.463981 46.794096 \nL 98.087358 58.432273 \nL 101.710735 70.793189 \nL 105.334111 83.384053 \n\" clip-path=\"url(#pc20113639d)\" style=\"fill: none; stroke: #1f77b4; stroke-width: 1.5; stroke-linecap: square\"/>\n   </g>\n   <g id=\"line2d_51\">\n    <path d=\"M 54.606838 22.023199 \nL 72.723722 69.262535 \nL 90.840605 123.212134 \n\" clip-path=\"url(#pc20113639d)\" style=\"fill: none; stroke-dasharray: 5.55,2.4; stroke-dashoffset: 0; stroke: #ff7f0e; stroke-width: 1.5\"/>\n   </g>\n   <g id=\"line2d_52\">\n    <path d=\"M 47.360085 73.409329 \nL 50.983462 60.959407 \nL 54.606838 49.131475 \nL 58.230215 38.397075 \nL 61.853592 29.184154 \nL 65.476968 21.860003 \nL 69.100345 16.716611 \nL 72.723722 13.959031 \nL 76.347098 13.697196 \nL 79.970475 15.941548 \nL 83.593851 20.602609 \nL 87.217228 27.494558 \nL 90.840605 36.342636 \nL 94.463981 46.794096 \nL 98.087358 58.432273 \nL 101.710735 70.793189 \nL 105.334111 83.384053 \nL 108.957488 95.702907 \n\" clip-path=\"url(#pc20113639d)\" style=\"fill: none; stroke: #1f77b4; stroke-width: 1.5; stroke-linecap: square\"/>\n   </g>\n   <g id=\"line2d_53\">\n    <path d=\"M 54.606838 22.023199 \nL 72.723722 69.262535 \nL 90.840605 123.212134 \n\" clip-path=\"url(#pc20113639d)\" style=\"fill: none; stroke-dasharray: 5.55,2.4; stroke-dashoffset: 0; stroke: #ff7f0e; stroke-width: 1.5\"/>\n   </g>\n   <g id=\"line2d_54\">\n    <path d=\"M 47.360085 73.409329 \nL 50.983462 60.959407 \nL 54.606838 49.131475 \nL 58.230215 38.397075 \nL 61.853592 29.184154 \nL 65.476968 21.860003 \nL 69.100345 16.716611 \nL 72.723722 13.959031 \nL 76.347098 13.697196 \nL 79.970475 15.941548 \nL 83.593851 20.602609 \nL 87.217228 27.494558 \nL 90.840605 36.342636 \nL 94.463981 46.794096 \nL 98.087358 58.432273 \nL 101.710735 70.793189 \nL 105.334111 83.384053 \nL 108.957488 95.702907 \nL 112.580864 107.258638 \n\" clip-path=\"url(#pc20113639d)\" style=\"fill: none; stroke: #1f77b4; stroke-width: 1.5; stroke-linecap: square\"/>\n   </g>\n   <g id=\"line2d_55\">\n    <path d=\"M 54.606838 22.023199 \nL 72.723722 69.262535 \nL 90.840605 123.212134 \n\" clip-path=\"url(#pc20113639d)\" style=\"fill: none; stroke-dasharray: 5.55,2.4; stroke-dashoffset: 0; stroke: #ff7f0e; stroke-width: 1.5\"/>\n   </g>\n   <g id=\"line2d_56\">\n    <path d=\"M 47.360085 73.409329 \nL 50.983462 60.959407 \nL 54.606838 49.131475 \nL 58.230215 38.397075 \nL 61.853592 29.184154 \nL 65.476968 21.860003 \nL 69.100345 16.716611 \nL 72.723722 13.959031 \nL 76.347098 13.697196 \nL 79.970475 15.941548 \nL 83.593851 20.602609 \nL 87.217228 27.494558 \nL 90.840605 36.342636 \nL 94.463981 46.794096 \nL 98.087358 58.432273 \nL 101.710735 70.793189 \nL 105.334111 83.384053 \nL 108.957488 95.702907 \nL 112.580864 107.258638 \nL 116.204241 117.590554 \n\" clip-path=\"url(#pc20113639d)\" style=\"fill: none; stroke: #1f77b4; stroke-width: 1.5; stroke-linecap: square\"/>\n   </g>\n   <g id=\"line2d_57\">\n    <path d=\"M 54.606838 22.023199 \nL 72.723722 69.262535 \nL 90.840605 123.212134 \n\" clip-path=\"url(#pc20113639d)\" style=\"fill: none; stroke-dasharray: 5.55,2.4; stroke-dashoffset: 0; stroke: #ff7f0e; stroke-width: 1.5\"/>\n   </g>\n   <g id=\"line2d_58\">\n    <path d=\"M 47.360085 73.409329 \nL 50.983462 60.959407 \nL 54.606838 49.131475 \nL 58.230215 38.397075 \nL 61.853592 29.184154 \nL 65.476968 21.860003 \nL 69.100345 16.716611 \nL 72.723722 13.959031 \nL 76.347098 13.697196 \nL 79.970475 15.941548 \nL 83.593851 20.602609 \nL 87.217228 27.494558 \nL 90.840605 36.342636 \nL 94.463981 46.794096 \nL 98.087358 58.432273 \nL 101.710735 70.793189 \nL 105.334111 83.384053 \nL 108.957488 95.702907 \nL 112.580864 107.258638 \nL 116.204241 117.590554 \n\" clip-path=\"url(#pc20113639d)\" style=\"fill: none; stroke: #1f77b4; stroke-width: 1.5; stroke-linecap: square\"/>\n   </g>\n   <g id=\"line2d_59\">\n    <path d=\"M 54.606838 22.023199 \nL 72.723722 69.262535 \nL 90.840605 123.212134 \nL 108.957488 134.270983 \n\" clip-path=\"url(#pc20113639d)\" style=\"fill: none; stroke-dasharray: 5.55,2.4; stroke-dashoffset: 0; stroke: #ff7f0e; stroke-width: 1.5\"/>\n   </g>\n   <g id=\"line2d_60\">\n    <path d=\"M 47.360085 73.409329 \nL 50.983462 60.959407 \nL 54.606838 49.131475 \nL 58.230215 38.397075 \nL 61.853592 29.184154 \nL 65.476968 21.860003 \nL 69.100345 16.716611 \nL 72.723722 13.959031 \nL 76.347098 13.697196 \nL 79.970475 15.941548 \nL 83.593851 20.602609 \nL 87.217228 27.494558 \nL 90.840605 36.342636 \nL 94.463981 46.794096 \nL 98.087358 58.432273 \nL 101.710735 70.793189 \nL 105.334111 83.384053 \nL 108.957488 95.702907 \nL 112.580864 107.258638 \nL 116.204241 117.590554 \nL 119.827618 126.286755 \n\" clip-path=\"url(#pc20113639d)\" style=\"fill: none; stroke: #1f77b4; stroke-width: 1.5; stroke-linecap: square\"/>\n   </g>\n   <g id=\"line2d_61\">\n    <path d=\"M 54.606838 22.023199 \nL 72.723722 69.262535 \nL 90.840605 123.212134 \nL 108.957488 134.270983 \n\" clip-path=\"url(#pc20113639d)\" style=\"fill: none; stroke-dasharray: 5.55,2.4; stroke-dashoffset: 0; stroke: #ff7f0e; stroke-width: 1.5\"/>\n   </g>\n   <g id=\"line2d_62\">\n    <path d=\"M 47.360085 73.409329 \nL 50.983462 60.959407 \nL 54.606838 49.131475 \nL 58.230215 38.397075 \nL 61.853592 29.184154 \nL 65.476968 21.860003 \nL 69.100345 16.716611 \nL 72.723722 13.959031 \nL 76.347098 13.697196 \nL 79.970475 15.941548 \nL 83.593851 20.602609 \nL 87.217228 27.494558 \nL 90.840605 36.342636 \nL 94.463981 46.794096 \nL 98.087358 58.432273 \nL 101.710735 70.793189 \nL 105.334111 83.384053 \nL 108.957488 95.702907 \nL 112.580864 107.258638 \nL 116.204241 117.590554 \nL 119.827618 126.286755 \nL 123.450994 133.000552 \n\" clip-path=\"url(#pc20113639d)\" style=\"fill: none; stroke: #1f77b4; stroke-width: 1.5; stroke-linecap: square\"/>\n   </g>\n   <g id=\"line2d_63\">\n    <path d=\"M 54.606838 22.023199 \nL 72.723722 69.262535 \nL 90.840605 123.212134 \nL 108.957488 134.270983 \n\" clip-path=\"url(#pc20113639d)\" style=\"fill: none; stroke-dasharray: 5.55,2.4; stroke-dashoffset: 0; stroke: #ff7f0e; stroke-width: 1.5\"/>\n   </g>\n   <g id=\"line2d_64\">\n    <path d=\"M 47.360085 73.409329 \nL 50.983462 60.959407 \nL 54.606838 49.131475 \nL 58.230215 38.397075 \nL 61.853592 29.184154 \nL 65.476968 21.860003 \nL 69.100345 16.716611 \nL 72.723722 13.959031 \nL 76.347098 13.697196 \nL 79.970475 15.941548 \nL 83.593851 20.602609 \nL 87.217228 27.494558 \nL 90.840605 36.342636 \nL 94.463981 46.794096 \nL 98.087358 58.432273 \nL 101.710735 70.793189 \nL 105.334111 83.384053 \nL 108.957488 95.702907 \nL 112.580864 107.258638 \nL 116.204241 117.590554 \nL 119.827618 126.286755 \nL 123.450994 133.000552 \nL 127.074371 137.464285 \n\" clip-path=\"url(#pc20113639d)\" style=\"fill: none; stroke: #1f77b4; stroke-width: 1.5; stroke-linecap: square\"/>\n   </g>\n   <g id=\"line2d_65\">\n    <path d=\"M 54.606838 22.023199 \nL 72.723722 69.262535 \nL 90.840605 123.212134 \nL 108.957488 134.270983 \n\" clip-path=\"url(#pc20113639d)\" style=\"fill: none; stroke-dasharray: 5.55,2.4; stroke-dashoffset: 0; stroke: #ff7f0e; stroke-width: 1.5\"/>\n   </g>\n   <g id=\"line2d_66\">\n    <path d=\"M 47.360085 73.409329 \nL 50.983462 60.959407 \nL 54.606838 49.131475 \nL 58.230215 38.397075 \nL 61.853592 29.184154 \nL 65.476968 21.860003 \nL 69.100345 16.716611 \nL 72.723722 13.959031 \nL 76.347098 13.697196 \nL 79.970475 15.941548 \nL 83.593851 20.602609 \nL 87.217228 27.494558 \nL 90.840605 36.342636 \nL 94.463981 46.794096 \nL 98.087358 58.432273 \nL 101.710735 70.793189 \nL 105.334111 83.384053 \nL 108.957488 95.702907 \nL 112.580864 107.258638 \nL 116.204241 117.590554 \nL 119.827618 126.286755 \nL 123.450994 133.000552 \nL 127.074371 137.464285 \nL 130.697748 139.5 \n\" clip-path=\"url(#pc20113639d)\" style=\"fill: none; stroke: #1f77b4; stroke-width: 1.5; stroke-linecap: square\"/>\n   </g>\n   <g id=\"line2d_67\">\n    <path d=\"M 54.606838 22.023199 \nL 72.723722 69.262535 \nL 90.840605 123.212134 \nL 108.957488 134.270983 \n\" clip-path=\"url(#pc20113639d)\" style=\"fill: none; stroke-dasharray: 5.55,2.4; stroke-dashoffset: 0; stroke: #ff7f0e; stroke-width: 1.5\"/>\n   </g>\n   <g id=\"line2d_68\">\n    <path d=\"M 47.360085 73.409329 \nL 50.983462 60.959407 \nL 54.606838 49.131475 \nL 58.230215 38.397075 \nL 61.853592 29.184154 \nL 65.476968 21.860003 \nL 69.100345 16.716611 \nL 72.723722 13.959031 \nL 76.347098 13.697196 \nL 79.970475 15.941548 \nL 83.593851 20.602609 \nL 87.217228 27.494558 \nL 90.840605 36.342636 \nL 94.463981 46.794096 \nL 98.087358 58.432273 \nL 101.710735 70.793189 \nL 105.334111 83.384053 \nL 108.957488 95.702907 \nL 112.580864 107.258638 \nL 116.204241 117.590554 \nL 119.827618 126.286755 \nL 123.450994 133.000552 \nL 127.074371 137.464285 \nL 130.697748 139.5 \nL 134.321124 139.02654 \n\" clip-path=\"url(#pc20113639d)\" style=\"fill: none; stroke: #1f77b4; stroke-width: 1.5; stroke-linecap: square\"/>\n   </g>\n   <g id=\"line2d_69\">\n    <path d=\"M 54.606838 22.023199 \nL 72.723722 69.262535 \nL 90.840605 123.212134 \nL 108.957488 134.270983 \n\" clip-path=\"url(#pc20113639d)\" style=\"fill: none; stroke-dasharray: 5.55,2.4; stroke-dashoffset: 0; stroke: #ff7f0e; stroke-width: 1.5\"/>\n   </g>\n   <g id=\"line2d_70\">\n    <path d=\"M 47.360085 73.409329 \nL 50.983462 60.959407 \nL 54.606838 49.131475 \nL 58.230215 38.397075 \nL 61.853592 29.184154 \nL 65.476968 21.860003 \nL 69.100345 16.716611 \nL 72.723722 13.959031 \nL 76.347098 13.697196 \nL 79.970475 15.941548 \nL 83.593851 20.602609 \nL 87.217228 27.494558 \nL 90.840605 36.342636 \nL 94.463981 46.794096 \nL 98.087358 58.432273 \nL 101.710735 70.793189 \nL 105.334111 83.384053 \nL 108.957488 95.702907 \nL 112.580864 107.258638 \nL 116.204241 117.590554 \nL 119.827618 126.286755 \nL 123.450994 133.000552 \nL 127.074371 137.464285 \nL 130.697748 139.5 \nL 134.321124 139.02654 \n\" clip-path=\"url(#pc20113639d)\" style=\"fill: none; stroke: #1f77b4; stroke-width: 1.5; stroke-linecap: square\"/>\n   </g>\n   <g id=\"line2d_71\">\n    <path d=\"M 54.606838 22.023199 \nL 72.723722 69.262535 \nL 90.840605 123.212134 \nL 108.957488 134.270983 \nL 127.074371 92.271627 \n\" clip-path=\"url(#pc20113639d)\" style=\"fill: none; stroke-dasharray: 5.55,2.4; stroke-dashoffset: 0; stroke: #ff7f0e; stroke-width: 1.5\"/>\n   </g>\n   <g id=\"line2d_72\">\n    <path d=\"M 47.360085 73.409329 \nL 50.983462 60.959407 \nL 54.606838 49.131475 \nL 58.230215 38.397075 \nL 61.853592 29.184154 \nL 65.476968 21.860003 \nL 69.100345 16.716611 \nL 72.723722 13.959031 \nL 76.347098 13.697196 \nL 79.970475 15.941548 \nL 83.593851 20.602609 \nL 87.217228 27.494558 \nL 90.840605 36.342636 \nL 94.463981 46.794096 \nL 98.087358 58.432273 \nL 101.710735 70.793189 \nL 105.334111 83.384053 \nL 108.957488 95.702907 \nL 112.580864 107.258638 \nL 116.204241 117.590554 \nL 119.827618 126.286755 \nL 123.450994 133.000552 \nL 127.074371 137.464285 \nL 130.697748 139.5 \nL 134.321124 139.02654 \nL 137.944501 136.062779 \n\" clip-path=\"url(#pc20113639d)\" style=\"fill: none; stroke: #1f77b4; stroke-width: 1.5; stroke-linecap: square\"/>\n   </g>\n   <g id=\"line2d_73\">\n    <path d=\"M 54.606838 22.023199 \nL 72.723722 69.262535 \nL 90.840605 123.212134 \nL 108.957488 134.270983 \nL 127.074371 92.271627 \n\" clip-path=\"url(#pc20113639d)\" style=\"fill: none; stroke-dasharray: 5.55,2.4; stroke-dashoffset: 0; stroke: #ff7f0e; stroke-width: 1.5\"/>\n   </g>\n   <g id=\"line2d_74\">\n    <path d=\"M 47.360085 73.409329 \nL 50.983462 60.959407 \nL 54.606838 49.131475 \nL 58.230215 38.397075 \nL 61.853592 29.184154 \nL 65.476968 21.860003 \nL 69.100345 16.716611 \nL 72.723722 13.959031 \nL 76.347098 13.697196 \nL 79.970475 15.941548 \nL 83.593851 20.602609 \nL 87.217228 27.494558 \nL 90.840605 36.342636 \nL 94.463981 46.794096 \nL 98.087358 58.432273 \nL 101.710735 70.793189 \nL 105.334111 83.384053 \nL 108.957488 95.702907 \nL 112.580864 107.258638 \nL 116.204241 117.590554 \nL 119.827618 126.286755 \nL 123.450994 133.000552 \nL 127.074371 137.464285 \nL 130.697748 139.5 \nL 134.321124 139.02654 \nL 137.944501 136.062779 \nL 141.567877 130.726874 \n\" clip-path=\"url(#pc20113639d)\" style=\"fill: none; stroke: #1f77b4; stroke-width: 1.5; stroke-linecap: square\"/>\n   </g>\n   <g id=\"line2d_75\">\n    <path d=\"M 54.606838 22.023199 \nL 72.723722 69.262535 \nL 90.840605 123.212134 \nL 108.957488 134.270983 \nL 127.074371 92.271627 \n\" clip-path=\"url(#pc20113639d)\" style=\"fill: none; stroke-dasharray: 5.55,2.4; stroke-dashoffset: 0; stroke: #ff7f0e; stroke-width: 1.5\"/>\n   </g>\n   <g id=\"line2d_76\">\n    <path d=\"M 47.360085 73.409329 \nL 50.983462 60.959407 \nL 54.606838 49.131475 \nL 58.230215 38.397075 \nL 61.853592 29.184154 \nL 65.476968 21.860003 \nL 69.100345 16.716611 \nL 72.723722 13.959031 \nL 76.347098 13.697196 \nL 79.970475 15.941548 \nL 83.593851 20.602609 \nL 87.217228 27.494558 \nL 90.840605 36.342636 \nL 94.463981 46.794096 \nL 98.087358 58.432273 \nL 101.710735 70.793189 \nL 105.334111 83.384053 \nL 108.957488 95.702907 \nL 112.580864 107.258638 \nL 116.204241 117.590554 \nL 119.827618 126.286755 \nL 123.450994 133.000552 \nL 127.074371 137.464285 \nL 130.697748 139.5 \nL 134.321124 139.02654 \nL 137.944501 136.062779 \nL 141.567877 130.726874 \nL 145.191254 123.231551 \n\" clip-path=\"url(#pc20113639d)\" style=\"fill: none; stroke: #1f77b4; stroke-width: 1.5; stroke-linecap: square\"/>\n   </g>\n   <g id=\"line2d_77\">\n    <path d=\"M 54.606838 22.023199 \nL 72.723722 69.262535 \nL 90.840605 123.212134 \nL 108.957488 134.270983 \nL 127.074371 92.271627 \n\" clip-path=\"url(#pc20113639d)\" style=\"fill: none; stroke-dasharray: 5.55,2.4; stroke-dashoffset: 0; stroke: #ff7f0e; stroke-width: 1.5\"/>\n   </g>\n   <g id=\"line2d_78\">\n    <path d=\"M 47.360085 73.409329 \nL 50.983462 60.959407 \nL 54.606838 49.131475 \nL 58.230215 38.397075 \nL 61.853592 29.184154 \nL 65.476968 21.860003 \nL 69.100345 16.716611 \nL 72.723722 13.959031 \nL 76.347098 13.697196 \nL 79.970475 15.941548 \nL 83.593851 20.602609 \nL 87.217228 27.494558 \nL 90.840605 36.342636 \nL 94.463981 46.794096 \nL 98.087358 58.432273 \nL 101.710735 70.793189 \nL 105.334111 83.384053 \nL 108.957488 95.702907 \nL 112.580864 107.258638 \nL 116.204241 117.590554 \nL 119.827618 126.286755 \nL 123.450994 133.000552 \nL 127.074371 137.464285 \nL 130.697748 139.5 \nL 134.321124 139.02654 \nL 137.944501 136.062779 \nL 141.567877 130.726874 \nL 145.191254 123.231551 \nL 148.814631 113.875623 \n\" clip-path=\"url(#pc20113639d)\" style=\"fill: none; stroke: #1f77b4; stroke-width: 1.5; stroke-linecap: square\"/>\n   </g>\n   <g id=\"line2d_79\">\n    <path d=\"M 54.606838 22.023199 \nL 72.723722 69.262535 \nL 90.840605 123.212134 \nL 108.957488 134.270983 \nL 127.074371 92.271627 \n\" clip-path=\"url(#pc20113639d)\" style=\"fill: none; stroke-dasharray: 5.55,2.4; stroke-dashoffset: 0; stroke: #ff7f0e; stroke-width: 1.5\"/>\n   </g>\n   <g id=\"line2d_80\">\n    <path d=\"M 47.360085 73.409329 \nL 50.983462 60.959407 \nL 54.606838 49.131475 \nL 58.230215 38.397075 \nL 61.853592 29.184154 \nL 65.476968 21.860003 \nL 69.100345 16.716611 \nL 72.723722 13.959031 \nL 76.347098 13.697196 \nL 79.970475 15.941548 \nL 83.593851 20.602609 \nL 87.217228 27.494558 \nL 90.840605 36.342636 \nL 94.463981 46.794096 \nL 98.087358 58.432273 \nL 101.710735 70.793189 \nL 105.334111 83.384053 \nL 108.957488 95.702907 \nL 112.580864 107.258638 \nL 116.204241 117.590554 \nL 119.827618 126.286755 \nL 123.450994 133.000552 \nL 127.074371 137.464285 \nL 130.697748 139.5 \nL 134.321124 139.02654 \nL 137.944501 136.062779 \nL 141.567877 130.726874 \nL 145.191254 123.231551 \nL 148.814631 113.875623 \nL 152.438007 103.032084 \n\" clip-path=\"url(#pc20113639d)\" style=\"fill: none; stroke: #1f77b4; stroke-width: 1.5; stroke-linecap: square\"/>\n   </g>\n   <g id=\"line2d_81\">\n    <path d=\"M 54.606838 22.023199 \nL 72.723722 69.262535 \nL 90.840605 123.212134 \nL 108.957488 134.270983 \nL 127.074371 92.271627 \n\" clip-path=\"url(#pc20113639d)\" style=\"fill: none; stroke-dasharray: 5.55,2.4; stroke-dashoffset: 0; stroke: #ff7f0e; stroke-width: 1.5\"/>\n   </g>\n   <g id=\"line2d_82\">\n    <path d=\"M 47.360085 73.409329 \nL 50.983462 60.959407 \nL 54.606838 49.131475 \nL 58.230215 38.397075 \nL 61.853592 29.184154 \nL 65.476968 21.860003 \nL 69.100345 16.716611 \nL 72.723722 13.959031 \nL 76.347098 13.697196 \nL 79.970475 15.941548 \nL 83.593851 20.602609 \nL 87.217228 27.494558 \nL 90.840605 36.342636 \nL 94.463981 46.794096 \nL 98.087358 58.432273 \nL 101.710735 70.793189 \nL 105.334111 83.384053 \nL 108.957488 95.702907 \nL 112.580864 107.258638 \nL 116.204241 117.590554 \nL 119.827618 126.286755 \nL 123.450994 133.000552 \nL 127.074371 137.464285 \nL 130.697748 139.5 \nL 134.321124 139.02654 \nL 137.944501 136.062779 \nL 141.567877 130.726874 \nL 145.191254 123.231551 \nL 148.814631 113.875623 \nL 152.438007 103.032084 \n\" clip-path=\"url(#pc20113639d)\" style=\"fill: none; stroke: #1f77b4; stroke-width: 1.5; stroke-linecap: square\"/>\n   </g>\n   <g id=\"line2d_83\">\n    <path d=\"M 54.606838 22.023199 \nL 72.723722 69.262535 \nL 90.840605 123.212134 \nL 108.957488 134.270983 \nL 127.074371 92.271627 \nL 145.191254 35.828081 \n\" clip-path=\"url(#pc20113639d)\" style=\"fill: none; stroke-dasharray: 5.55,2.4; stroke-dashoffset: 0; stroke: #ff7f0e; stroke-width: 1.5\"/>\n   </g>\n   <g id=\"line2d_84\">\n    <path d=\"M 47.360085 73.409329 \nL 50.983462 60.959407 \nL 54.606838 49.131475 \nL 58.230215 38.397075 \nL 61.853592 29.184154 \nL 65.476968 21.860003 \nL 69.100345 16.716611 \nL 72.723722 13.959031 \nL 76.347098 13.697196 \nL 79.970475 15.941548 \nL 83.593851 20.602609 \nL 87.217228 27.494558 \nL 90.840605 36.342636 \nL 94.463981 46.794096 \nL 98.087358 58.432273 \nL 101.710735 70.793189 \nL 105.334111 83.384053 \nL 108.957488 95.702907 \nL 112.580864 107.258638 \nL 116.204241 117.590554 \nL 119.827618 126.286755 \nL 123.450994 133.000552 \nL 127.074371 137.464285 \nL 130.697748 139.5 \nL 134.321124 139.02654 \nL 137.944501 136.062779 \nL 141.567877 130.726874 \nL 145.191254 123.231551 \nL 148.814631 113.875623 \nL 152.438007 103.032084 \nL 156.061384 91.133229 \n\" clip-path=\"url(#pc20113639d)\" style=\"fill: none; stroke: #1f77b4; stroke-width: 1.5; stroke-linecap: square\"/>\n   </g>\n   <g id=\"line2d_85\">\n    <path d=\"M 54.606838 22.023199 \nL 72.723722 69.262535 \nL 90.840605 123.212134 \nL 108.957488 134.270983 \nL 127.074371 92.271627 \nL 145.191254 35.828081 \n\" clip-path=\"url(#pc20113639d)\" style=\"fill: none; stroke-dasharray: 5.55,2.4; stroke-dashoffset: 0; stroke: #ff7f0e; stroke-width: 1.5\"/>\n   </g>\n   <g id=\"line2d_86\">\n    <path d=\"M 47.360085 73.409329 \nL 50.983462 60.959407 \nL 54.606838 49.131475 \nL 58.230215 38.397075 \nL 61.853592 29.184154 \nL 65.476968 21.860003 \nL 69.100345 16.716611 \nL 72.723722 13.959031 \nL 76.347098 13.697196 \nL 79.970475 15.941548 \nL 83.593851 20.602609 \nL 87.217228 27.494558 \nL 90.840605 36.342636 \nL 94.463981 46.794096 \nL 98.087358 58.432273 \nL 101.710735 70.793189 \nL 105.334111 83.384053 \nL 108.957488 95.702907 \nL 112.580864 107.258638 \nL 116.204241 117.590554 \nL 119.827618 126.286755 \nL 123.450994 133.000552 \nL 127.074371 137.464285 \nL 130.697748 139.5 \nL 134.321124 139.02654 \nL 137.944501 136.062779 \nL 141.567877 130.726874 \nL 145.191254 123.231551 \nL 148.814631 113.875623 \nL 152.438007 103.032084 \nL 156.061384 91.133229 \nL 159.684761 78.653429 \n\" clip-path=\"url(#pc20113639d)\" style=\"fill: none; stroke: #1f77b4; stroke-width: 1.5; stroke-linecap: square\"/>\n   </g>\n   <g id=\"line2d_87\">\n    <path d=\"M 54.606838 22.023199 \nL 72.723722 69.262535 \nL 90.840605 123.212134 \nL 108.957488 134.270983 \nL 127.074371 92.271627 \nL 145.191254 35.828081 \n\" clip-path=\"url(#pc20113639d)\" style=\"fill: none; stroke-dasharray: 5.55,2.4; stroke-dashoffset: 0; stroke: #ff7f0e; stroke-width: 1.5\"/>\n   </g>\n   <g id=\"line2d_88\">\n    <path d=\"M 47.360085 73.409329 \nL 50.983462 60.959407 \nL 54.606838 49.131475 \nL 58.230215 38.397075 \nL 61.853592 29.184154 \nL 65.476968 21.860003 \nL 69.100345 16.716611 \nL 72.723722 13.959031 \nL 76.347098 13.697196 \nL 79.970475 15.941548 \nL 83.593851 20.602609 \nL 87.217228 27.494558 \nL 90.840605 36.342636 \nL 94.463981 46.794096 \nL 98.087358 58.432273 \nL 101.710735 70.793189 \nL 105.334111 83.384053 \nL 108.957488 95.702907 \nL 112.580864 107.258638 \nL 116.204241 117.590554 \nL 119.827618 126.286755 \nL 123.450994 133.000552 \nL 127.074371 137.464285 \nL 130.697748 139.5 \nL 134.321124 139.02654 \nL 137.944501 136.062779 \nL 141.567877 130.726874 \nL 145.191254 123.231551 \nL 148.814631 113.875623 \nL 152.438007 103.032084 \nL 156.061384 91.133229 \nL 159.684761 78.653429 \nL 163.308137 66.090215 \n\" clip-path=\"url(#pc20113639d)\" style=\"fill: none; stroke: #1f77b4; stroke-width: 1.5; stroke-linecap: square\"/>\n   </g>\n   <g id=\"line2d_89\">\n    <path d=\"M 54.606838 22.023199 \nL 72.723722 69.262535 \nL 90.840605 123.212134 \nL 108.957488 134.270983 \nL 127.074371 92.271627 \nL 145.191254 35.828081 \n\" clip-path=\"url(#pc20113639d)\" style=\"fill: none; stroke-dasharray: 5.55,2.4; stroke-dashoffset: 0; stroke: #ff7f0e; stroke-width: 1.5\"/>\n   </g>\n   <g id=\"line2d_90\">\n    <path d=\"M 47.360085 73.409329 \nL 50.983462 60.959407 \nL 54.606838 49.131475 \nL 58.230215 38.397075 \nL 61.853592 29.184154 \nL 65.476968 21.860003 \nL 69.100345 16.716611 \nL 72.723722 13.959031 \nL 76.347098 13.697196 \nL 79.970475 15.941548 \nL 83.593851 20.602609 \nL 87.217228 27.494558 \nL 90.840605 36.342636 \nL 94.463981 46.794096 \nL 98.087358 58.432273 \nL 101.710735 70.793189 \nL 105.334111 83.384053 \nL 108.957488 95.702907 \nL 112.580864 107.258638 \nL 116.204241 117.590554 \nL 119.827618 126.286755 \nL 123.450994 133.000552 \nL 127.074371 137.464285 \nL 130.697748 139.5 \nL 134.321124 139.02654 \nL 137.944501 136.062779 \nL 141.567877 130.726874 \nL 145.191254 123.231551 \nL 148.814631 113.875623 \nL 152.438007 103.032084 \nL 156.061384 91.133229 \nL 159.684761 78.653429 \nL 163.308137 66.090215 \nL 166.931514 53.944442 \n\" clip-path=\"url(#pc20113639d)\" style=\"fill: none; stroke: #1f77b4; stroke-width: 1.5; stroke-linecap: square\"/>\n   </g>\n   <g id=\"line2d_91\">\n    <path d=\"M 54.606838 22.023199 \nL 72.723722 69.262535 \nL 90.840605 123.212134 \nL 108.957488 134.270983 \nL 127.074371 92.271627 \nL 145.191254 35.828081 \n\" clip-path=\"url(#pc20113639d)\" style=\"fill: none; stroke-dasharray: 5.55,2.4; stroke-dashoffset: 0; stroke: #ff7f0e; stroke-width: 1.5\"/>\n   </g>\n   <g id=\"line2d_92\">\n    <path d=\"M 47.360085 73.409329 \nL 50.983462 60.959407 \nL 54.606838 49.131475 \nL 58.230215 38.397075 \nL 61.853592 29.184154 \nL 65.476968 21.860003 \nL 69.100345 16.716611 \nL 72.723722 13.959031 \nL 76.347098 13.697196 \nL 79.970475 15.941548 \nL 83.593851 20.602609 \nL 87.217228 27.494558 \nL 90.840605 36.342636 \nL 94.463981 46.794096 \nL 98.087358 58.432273 \nL 101.710735 70.793189 \nL 105.334111 83.384053 \nL 108.957488 95.702907 \nL 112.580864 107.258638 \nL 116.204241 117.590554 \nL 119.827618 126.286755 \nL 123.450994 133.000552 \nL 127.074371 137.464285 \nL 130.697748 139.5 \nL 134.321124 139.02654 \nL 137.944501 136.062779 \nL 141.567877 130.726874 \nL 145.191254 123.231551 \nL 148.814631 113.875623 \nL 152.438007 103.032084 \nL 156.061384 91.133229 \nL 159.684761 78.653429 \nL 163.308137 66.090215 \nL 166.931514 53.944442 \nL 170.55489 42.700323 \n\" clip-path=\"url(#pc20113639d)\" style=\"fill: none; stroke: #1f77b4; stroke-width: 1.5; stroke-linecap: square\"/>\n   </g>\n   <g id=\"line2d_93\">\n    <path d=\"M 54.606838 22.023199 \nL 72.723722 69.262535 \nL 90.840605 123.212134 \nL 108.957488 134.270983 \nL 127.074371 92.271627 \nL 145.191254 35.828081 \n\" clip-path=\"url(#pc20113639d)\" style=\"fill: none; stroke-dasharray: 5.55,2.4; stroke-dashoffset: 0; stroke: #ff7f0e; stroke-width: 1.5\"/>\n   </g>\n   <g id=\"line2d_94\">\n    <path d=\"M 47.360085 73.409329 \nL 50.983462 60.959407 \nL 54.606838 49.131475 \nL 58.230215 38.397075 \nL 61.853592 29.184154 \nL 65.476968 21.860003 \nL 69.100345 16.716611 \nL 72.723722 13.959031 \nL 76.347098 13.697196 \nL 79.970475 15.941548 \nL 83.593851 20.602609 \nL 87.217228 27.494558 \nL 90.840605 36.342636 \nL 94.463981 46.794096 \nL 98.087358 58.432273 \nL 101.710735 70.793189 \nL 105.334111 83.384053 \nL 108.957488 95.702907 \nL 112.580864 107.258638 \nL 116.204241 117.590554 \nL 119.827618 126.286755 \nL 123.450994 133.000552 \nL 127.074371 137.464285 \nL 130.697748 139.5 \nL 134.321124 139.02654 \nL 137.944501 136.062779 \nL 141.567877 130.726874 \nL 145.191254 123.231551 \nL 148.814631 113.875623 \nL 152.438007 103.032084 \nL 156.061384 91.133229 \nL 159.684761 78.653429 \nL 163.308137 66.090215 \nL 166.931514 53.944442 \nL 170.55489 42.700323 \n\" clip-path=\"url(#pc20113639d)\" style=\"fill: none; stroke: #1f77b4; stroke-width: 1.5; stroke-linecap: square\"/>\n   </g>\n   <g id=\"line2d_95\">\n    <path d=\"M 54.606838 22.023199 \nL 72.723722 69.262535 \nL 90.840605 123.212134 \nL 108.957488 134.270983 \nL 127.074371 92.271627 \nL 145.191254 35.828081 \nL 163.308137 16.83428 \n\" clip-path=\"url(#pc20113639d)\" style=\"fill: none; stroke-dasharray: 5.55,2.4; stroke-dashoffset: 0; stroke: #ff7f0e; stroke-width: 1.5\"/>\n   </g>\n   <g id=\"line2d_96\">\n    <path d=\"M 47.360085 73.409329 \nL 50.983462 60.959407 \nL 54.606838 49.131475 \nL 58.230215 38.397075 \nL 61.853592 29.184154 \nL 65.476968 21.860003 \nL 69.100345 16.716611 \nL 72.723722 13.959031 \nL 76.347098 13.697196 \nL 79.970475 15.941548 \nL 83.593851 20.602609 \nL 87.217228 27.494558 \nL 90.840605 36.342636 \nL 94.463981 46.794096 \nL 98.087358 58.432273 \nL 101.710735 70.793189 \nL 105.334111 83.384053 \nL 108.957488 95.702907 \nL 112.580864 107.258638 \nL 116.204241 117.590554 \nL 119.827618 126.286755 \nL 123.450994 133.000552 \nL 127.074371 137.464285 \nL 130.697748 139.5 \nL 134.321124 139.02654 \nL 137.944501 136.062779 \nL 141.567877 130.726874 \nL 145.191254 123.231551 \nL 148.814631 113.875623 \nL 152.438007 103.032084 \nL 156.061384 91.133229 \nL 159.684761 78.653429 \nL 163.308137 66.090215 \nL 166.931514 53.944442 \nL 170.55489 42.700323 \nL 174.178267 32.806126 \n\" clip-path=\"url(#pc20113639d)\" style=\"fill: none; stroke: #1f77b4; stroke-width: 1.5; stroke-linecap: square\"/>\n   </g>\n   <g id=\"line2d_97\">\n    <path d=\"M 54.606838 22.023199 \nL 72.723722 69.262535 \nL 90.840605 123.212134 \nL 108.957488 134.270983 \nL 127.074371 92.271627 \nL 145.191254 35.828081 \nL 163.308137 16.83428 \n\" clip-path=\"url(#pc20113639d)\" style=\"fill: none; stroke-dasharray: 5.55,2.4; stroke-dashoffset: 0; stroke: #ff7f0e; stroke-width: 1.5\"/>\n   </g>\n   <g id=\"line2d_98\">\n    <path d=\"M 47.360085 73.409329 \nL 50.983462 60.959407 \nL 54.606838 49.131475 \nL 58.230215 38.397075 \nL 61.853592 29.184154 \nL 65.476968 21.860003 \nL 69.100345 16.716611 \nL 72.723722 13.959031 \nL 76.347098 13.697196 \nL 79.970475 15.941548 \nL 83.593851 20.602609 \nL 87.217228 27.494558 \nL 90.840605 36.342636 \nL 94.463981 46.794096 \nL 98.087358 58.432273 \nL 101.710735 70.793189 \nL 105.334111 83.384053 \nL 108.957488 95.702907 \nL 112.580864 107.258638 \nL 116.204241 117.590554 \nL 119.827618 126.286755 \nL 123.450994 133.000552 \nL 127.074371 137.464285 \nL 130.697748 139.5 \nL 134.321124 139.02654 \nL 137.944501 136.062779 \nL 141.567877 130.726874 \nL 145.191254 123.231551 \nL 148.814631 113.875623 \nL 152.438007 103.032084 \nL 156.061384 91.133229 \nL 159.684761 78.653429 \nL 163.308137 66.090215 \nL 166.931514 53.944442 \nL 170.55489 42.700323 \nL 174.178267 32.806126 \nL 177.801644 24.656302 \n\" clip-path=\"url(#pc20113639d)\" style=\"fill: none; stroke: #1f77b4; stroke-width: 1.5; stroke-linecap: square\"/>\n   </g>\n   <g id=\"line2d_99\">\n    <path d=\"M 54.606838 22.023199 \nL 72.723722 69.262535 \nL 90.840605 123.212134 \nL 108.957488 134.270983 \nL 127.074371 92.271627 \nL 145.191254 35.828081 \nL 163.308137 16.83428 \n\" clip-path=\"url(#pc20113639d)\" style=\"fill: none; stroke-dasharray: 5.55,2.4; stroke-dashoffset: 0; stroke: #ff7f0e; stroke-width: 1.5\"/>\n   </g>\n   <g id=\"line2d_100\">\n    <path d=\"M 47.360085 73.409329 \nL 50.983462 60.959407 \nL 54.606838 49.131475 \nL 58.230215 38.397075 \nL 61.853592 29.184154 \nL 65.476968 21.860003 \nL 69.100345 16.716611 \nL 72.723722 13.959031 \nL 76.347098 13.697196 \nL 79.970475 15.941548 \nL 83.593851 20.602609 \nL 87.217228 27.494558 \nL 90.840605 36.342636 \nL 94.463981 46.794096 \nL 98.087358 58.432273 \nL 101.710735 70.793189 \nL 105.334111 83.384053 \nL 108.957488 95.702907 \nL 112.580864 107.258638 \nL 116.204241 117.590554 \nL 119.827618 126.286755 \nL 123.450994 133.000552 \nL 127.074371 137.464285 \nL 130.697748 139.5 \nL 134.321124 139.02654 \nL 137.944501 136.062779 \nL 141.567877 130.726874 \nL 145.191254 123.231551 \nL 148.814631 113.875623 \nL 152.438007 103.032084 \nL 156.061384 91.133229 \nL 159.684761 78.653429 \nL 163.308137 66.090215 \nL 166.931514 53.944442 \nL 170.55489 42.700323 \nL 174.178267 32.806126 \nL 177.801644 24.656302 \nL 181.42502 18.575758 \n\" clip-path=\"url(#pc20113639d)\" style=\"fill: none; stroke: #1f77b4; stroke-width: 1.5; stroke-linecap: square\"/>\n   </g>\n   <g id=\"line2d_101\">\n    <path d=\"M 54.606838 22.023199 \nL 72.723722 69.262535 \nL 90.840605 123.212134 \nL 108.957488 134.270983 \nL 127.074371 92.271627 \nL 145.191254 35.828081 \nL 163.308137 16.83428 \n\" clip-path=\"url(#pc20113639d)\" style=\"fill: none; stroke-dasharray: 5.55,2.4; stroke-dashoffset: 0; stroke: #ff7f0e; stroke-width: 1.5\"/>\n   </g>\n   <g id=\"line2d_102\">\n    <path d=\"M 47.360085 73.409329 \nL 50.983462 60.959407 \nL 54.606838 49.131475 \nL 58.230215 38.397075 \nL 61.853592 29.184154 \nL 65.476968 21.860003 \nL 69.100345 16.716611 \nL 72.723722 13.959031 \nL 76.347098 13.697196 \nL 79.970475 15.941548 \nL 83.593851 20.602609 \nL 87.217228 27.494558 \nL 90.840605 36.342636 \nL 94.463981 46.794096 \nL 98.087358 58.432273 \nL 101.710735 70.793189 \nL 105.334111 83.384053 \nL 108.957488 95.702907 \nL 112.580864 107.258638 \nL 116.204241 117.590554 \nL 119.827618 126.286755 \nL 123.450994 133.000552 \nL 127.074371 137.464285 \nL 130.697748 139.5 \nL 134.321124 139.02654 \nL 137.944501 136.062779 \nL 141.567877 130.726874 \nL 145.191254 123.231551 \nL 148.814631 113.875623 \nL 152.438007 103.032084 \nL 156.061384 91.133229 \nL 159.684761 78.653429 \nL 163.308137 66.090215 \nL 166.931514 53.944442 \nL 170.55489 42.700323 \nL 174.178267 32.806126 \nL 177.801644 24.656302 \nL 181.42502 18.575758 \nL 185.048397 14.806907 \n\" clip-path=\"url(#pc20113639d)\" style=\"fill: none; stroke: #1f77b4; stroke-width: 1.5; stroke-linecap: square\"/>\n   </g>\n   <g id=\"line2d_103\">\n    <path d=\"M 54.606838 22.023199 \nL 72.723722 69.262535 \nL 90.840605 123.212134 \nL 108.957488 134.270983 \nL 127.074371 92.271627 \nL 145.191254 35.828081 \nL 163.308137 16.83428 \n\" clip-path=\"url(#pc20113639d)\" style=\"fill: none; stroke-dasharray: 5.55,2.4; stroke-dashoffset: 0; stroke: #ff7f0e; stroke-width: 1.5\"/>\n   </g>\n   <g id=\"line2d_104\">\n    <path d=\"M 47.360085 73.409329 \nL 50.983462 60.959407 \nL 54.606838 49.131475 \nL 58.230215 38.397075 \nL 61.853592 29.184154 \nL 65.476968 21.860003 \nL 69.100345 16.716611 \nL 72.723722 13.959031 \nL 76.347098 13.697196 \nL 79.970475 15.941548 \nL 83.593851 20.602609 \nL 87.217228 27.494558 \nL 90.840605 36.342636 \nL 94.463981 46.794096 \nL 98.087358 58.432273 \nL 101.710735 70.793189 \nL 105.334111 83.384053 \nL 108.957488 95.702907 \nL 112.580864 107.258638 \nL 116.204241 117.590554 \nL 119.827618 126.286755 \nL 123.450994 133.000552 \nL 127.074371 137.464285 \nL 130.697748 139.5 \nL 134.321124 139.02654 \nL 137.944501 136.062779 \nL 141.567877 130.726874 \nL 145.191254 123.231551 \nL 148.814631 113.875623 \nL 152.438007 103.032084 \nL 156.061384 91.133229 \nL 159.684761 78.653429 \nL 163.308137 66.090215 \nL 166.931514 53.944442 \nL 170.55489 42.700323 \nL 174.178267 32.806126 \nL 177.801644 24.656302 \nL 181.42502 18.575758 \nL 185.048397 14.806907 \nL 188.671774 13.5 \n\" clip-path=\"url(#pc20113639d)\" style=\"fill: none; stroke: #1f77b4; stroke-width: 1.5; stroke-linecap: square\"/>\n   </g>\n   <g id=\"line2d_105\">\n    <path d=\"M 54.606838 22.023199 \nL 72.723722 69.262535 \nL 90.840605 123.212134 \nL 108.957488 134.270983 \nL 127.074371 92.271627 \nL 145.191254 35.828081 \nL 163.308137 16.83428 \n\" clip-path=\"url(#pc20113639d)\" style=\"fill: none; stroke-dasharray: 5.55,2.4; stroke-dashoffset: 0; stroke: #ff7f0e; stroke-width: 1.5\"/>\n   </g>\n   <g id=\"line2d_106\">\n    <path d=\"M 47.360085 73.409329 \nL 50.983462 60.959407 \nL 54.606838 49.131475 \nL 58.230215 38.397075 \nL 61.853592 29.184154 \nL 65.476968 21.860003 \nL 69.100345 16.716611 \nL 72.723722 13.959031 \nL 76.347098 13.697196 \nL 79.970475 15.941548 \nL 83.593851 20.602609 \nL 87.217228 27.494558 \nL 90.840605 36.342636 \nL 94.463981 46.794096 \nL 98.087358 58.432273 \nL 101.710735 70.793189 \nL 105.334111 83.384053 \nL 108.957488 95.702907 \nL 112.580864 107.258638 \nL 116.204241 117.590554 \nL 119.827618 126.286755 \nL 123.450994 133.000552 \nL 127.074371 137.464285 \nL 130.697748 139.5 \nL 134.321124 139.02654 \nL 137.944501 136.062779 \nL 141.567877 130.726874 \nL 145.191254 123.231551 \nL 148.814631 113.875623 \nL 152.438007 103.032084 \nL 156.061384 91.133229 \nL 159.684761 78.653429 \nL 163.308137 66.090215 \nL 166.931514 53.944442 \nL 170.55489 42.700323 \nL 174.178267 32.806126 \nL 177.801644 24.656302 \nL 181.42502 18.575758 \nL 185.048397 14.806907 \nL 188.671774 13.5 \n\" clip-path=\"url(#pc20113639d)\" style=\"fill: none; stroke: #1f77b4; stroke-width: 1.5; stroke-linecap: square\"/>\n   </g>\n   <g id=\"line2d_107\">\n    <path d=\"M 54.606838 22.023199 \nL 72.723722 69.262535 \nL 90.840605 123.212134 \nL 108.957488 134.270983 \nL 127.074371 92.271627 \nL 145.191254 35.828081 \nL 163.308137 16.83428 \nL 181.42502 52.753037 \n\" clip-path=\"url(#pc20113639d)\" style=\"fill: none; stroke-dasharray: 5.55,2.4; stroke-dashoffset: 0; stroke: #ff7f0e; stroke-width: 1.5\"/>\n   </g>\n   <g id=\"line2d_108\">\n    <path d=\"M 47.360085 73.409329 \nL 50.983462 60.959407 \nL 54.606838 49.131475 \nL 58.230215 38.397075 \nL 61.853592 29.184154 \nL 65.476968 21.860003 \nL 69.100345 16.716611 \nL 72.723722 13.959031 \nL 76.347098 13.697196 \nL 79.970475 15.941548 \nL 83.593851 20.602609 \nL 87.217228 27.494558 \nL 90.840605 36.342636 \nL 94.463981 46.794096 \nL 98.087358 58.432273 \nL 101.710735 70.793189 \nL 105.334111 83.384053 \nL 108.957488 95.702907 \nL 112.580864 107.258638 \nL 116.204241 117.590554 \nL 119.827618 126.286755 \nL 123.450994 133.000552 \nL 127.074371 137.464285 \nL 130.697748 139.5 \nL 134.321124 139.02654 \nL 137.944501 136.062779 \nL 141.567877 130.726874 \nL 145.191254 123.231551 \nL 148.814631 113.875623 \nL 152.438007 103.032084 \nL 156.061384 91.133229 \nL 159.684761 78.653429 \nL 163.308137 66.090215 \nL 166.931514 53.944442 \nL 170.55489 42.700323 \nL 174.178267 32.806126 \nL 177.801644 24.656302 \nL 181.42502 18.575758 \nL 185.048397 14.806907 \nL 188.671774 13.5 \nL 192.29515 14.70714 \n\" clip-path=\"url(#pc20113639d)\" style=\"fill: none; stroke: #1f77b4; stroke-width: 1.5; stroke-linecap: square\"/>\n   </g>\n   <g id=\"line2d_109\">\n    <path d=\"M 54.606838 22.023199 \nL 72.723722 69.262535 \nL 90.840605 123.212134 \nL 108.957488 134.270983 \nL 127.074371 92.271627 \nL 145.191254 35.828081 \nL 163.308137 16.83428 \nL 181.42502 52.753037 \n\" clip-path=\"url(#pc20113639d)\" style=\"fill: none; stroke-dasharray: 5.55,2.4; stroke-dashoffset: 0; stroke: #ff7f0e; stroke-width: 1.5\"/>\n   </g>\n   <g id=\"line2d_110\">\n    <path d=\"M 47.360085 73.409329 \nL 50.983462 60.959407 \nL 54.606838 49.131475 \nL 58.230215 38.397075 \nL 61.853592 29.184154 \nL 65.476968 21.860003 \nL 69.100345 16.716611 \nL 72.723722 13.959031 \nL 76.347098 13.697196 \nL 79.970475 15.941548 \nL 83.593851 20.602609 \nL 87.217228 27.494558 \nL 90.840605 36.342636 \nL 94.463981 46.794096 \nL 98.087358 58.432273 \nL 101.710735 70.793189 \nL 105.334111 83.384053 \nL 108.957488 95.702907 \nL 112.580864 107.258638 \nL 116.204241 117.590554 \nL 119.827618 126.286755 \nL 123.450994 133.000552 \nL 127.074371 137.464285 \nL 130.697748 139.5 \nL 134.321124 139.02654 \nL 137.944501 136.062779 \nL 141.567877 130.726874 \nL 145.191254 123.231551 \nL 148.814631 113.875623 \nL 152.438007 103.032084 \nL 156.061384 91.133229 \nL 159.684761 78.653429 \nL 163.308137 66.090215 \nL 166.931514 53.944442 \nL 170.55489 42.700323 \nL 174.178267 32.806126 \nL 177.801644 24.656302 \nL 181.42502 18.575758 \nL 185.048397 14.806907 \nL 188.671774 13.5 \nL 192.29515 14.70714 \nL 195.918527 18.380202 \n\" clip-path=\"url(#pc20113639d)\" style=\"fill: none; stroke: #1f77b4; stroke-width: 1.5; stroke-linecap: square\"/>\n   </g>\n   <g id=\"line2d_111\">\n    <path d=\"M 54.606838 22.023199 \nL 72.723722 69.262535 \nL 90.840605 123.212134 \nL 108.957488 134.270983 \nL 127.074371 92.271627 \nL 145.191254 35.828081 \nL 163.308137 16.83428 \nL 181.42502 52.753037 \n\" clip-path=\"url(#pc20113639d)\" style=\"fill: none; stroke-dasharray: 5.55,2.4; stroke-dashoffset: 0; stroke: #ff7f0e; stroke-width: 1.5\"/>\n   </g>\n   <g id=\"line2d_112\">\n    <path d=\"M 47.360085 73.409329 \nL 50.983462 60.959407 \nL 54.606838 49.131475 \nL 58.230215 38.397075 \nL 61.853592 29.184154 \nL 65.476968 21.860003 \nL 69.100345 16.716611 \nL 72.723722 13.959031 \nL 76.347098 13.697196 \nL 79.970475 15.941548 \nL 83.593851 20.602609 \nL 87.217228 27.494558 \nL 90.840605 36.342636 \nL 94.463981 46.794096 \nL 98.087358 58.432273 \nL 101.710735 70.793189 \nL 105.334111 83.384053 \nL 108.957488 95.702907 \nL 112.580864 107.258638 \nL 116.204241 117.590554 \nL 119.827618 126.286755 \nL 123.450994 133.000552 \nL 127.074371 137.464285 \nL 130.697748 139.5 \nL 134.321124 139.02654 \nL 137.944501 136.062779 \nL 141.567877 130.726874 \nL 145.191254 123.231551 \nL 148.814631 113.875623 \nL 152.438007 103.032084 \nL 156.061384 91.133229 \nL 159.684761 78.653429 \nL 163.308137 66.090215 \nL 166.931514 53.944442 \nL 170.55489 42.700323 \nL 174.178267 32.806126 \nL 177.801644 24.656302 \nL 181.42502 18.575758 \nL 185.048397 14.806907 \nL 188.671774 13.5 \nL 192.29515 14.70714 \nL 195.918527 18.380202 \nL 199.541903 24.372753 \n\" clip-path=\"url(#pc20113639d)\" style=\"fill: none; stroke: #1f77b4; stroke-width: 1.5; stroke-linecap: square\"/>\n   </g>\n   <g id=\"line2d_113\">\n    <path d=\"M 54.606838 22.023199 \nL 72.723722 69.262535 \nL 90.840605 123.212134 \nL 108.957488 134.270983 \nL 127.074371 92.271627 \nL 145.191254 35.828081 \nL 163.308137 16.83428 \nL 181.42502 52.753037 \n\" clip-path=\"url(#pc20113639d)\" style=\"fill: none; stroke-dasharray: 5.55,2.4; stroke-dashoffset: 0; stroke: #ff7f0e; stroke-width: 1.5\"/>\n   </g>\n   <g id=\"line2d_114\">\n    <path d=\"M 47.360085 73.409329 \nL 50.983462 60.959407 \nL 54.606838 49.131475 \nL 58.230215 38.397075 \nL 61.853592 29.184154 \nL 65.476968 21.860003 \nL 69.100345 16.716611 \nL 72.723722 13.959031 \nL 76.347098 13.697196 \nL 79.970475 15.941548 \nL 83.593851 20.602609 \nL 87.217228 27.494558 \nL 90.840605 36.342636 \nL 94.463981 46.794096 \nL 98.087358 58.432273 \nL 101.710735 70.793189 \nL 105.334111 83.384053 \nL 108.957488 95.702907 \nL 112.580864 107.258638 \nL 116.204241 117.590554 \nL 119.827618 126.286755 \nL 123.450994 133.000552 \nL 127.074371 137.464285 \nL 130.697748 139.5 \nL 134.321124 139.02654 \nL 137.944501 136.062779 \nL 141.567877 130.726874 \nL 145.191254 123.231551 \nL 148.814631 113.875623 \nL 152.438007 103.032084 \nL 156.061384 91.133229 \nL 159.684761 78.653429 \nL 163.308137 66.090215 \nL 166.931514 53.944442 \nL 170.55489 42.700323 \nL 174.178267 32.806126 \nL 177.801644 24.656302 \nL 181.42502 18.575758 \nL 185.048397 14.806907 \nL 188.671774 13.5 \nL 192.29515 14.70714 \nL 195.918527 18.380202 \nL 199.541903 24.372753 \nL 203.16528 32.445888 \n\" clip-path=\"url(#pc20113639d)\" style=\"fill: none; stroke: #1f77b4; stroke-width: 1.5; stroke-linecap: square\"/>\n   </g>\n   <g id=\"line2d_115\">\n    <path d=\"M 54.606838 22.023199 \nL 72.723722 69.262535 \nL 90.840605 123.212134 \nL 108.957488 134.270983 \nL 127.074371 92.271627 \nL 145.191254 35.828081 \nL 163.308137 16.83428 \nL 181.42502 52.753037 \n\" clip-path=\"url(#pc20113639d)\" style=\"fill: none; stroke-dasharray: 5.55,2.4; stroke-dashoffset: 0; stroke: #ff7f0e; stroke-width: 1.5\"/>\n   </g>\n   <g id=\"line2d_116\">\n    <path d=\"M 47.360085 73.409329 \nL 50.983462 60.959407 \nL 54.606838 49.131475 \nL 58.230215 38.397075 \nL 61.853592 29.184154 \nL 65.476968 21.860003 \nL 69.100345 16.716611 \nL 72.723722 13.959031 \nL 76.347098 13.697196 \nL 79.970475 15.941548 \nL 83.593851 20.602609 \nL 87.217228 27.494558 \nL 90.840605 36.342636 \nL 94.463981 46.794096 \nL 98.087358 58.432273 \nL 101.710735 70.793189 \nL 105.334111 83.384053 \nL 108.957488 95.702907 \nL 112.580864 107.258638 \nL 116.204241 117.590554 \nL 119.827618 126.286755 \nL 123.450994 133.000552 \nL 127.074371 137.464285 \nL 130.697748 139.5 \nL 134.321124 139.02654 \nL 137.944501 136.062779 \nL 141.567877 130.726874 \nL 145.191254 123.231551 \nL 148.814631 113.875623 \nL 152.438007 103.032084 \nL 156.061384 91.133229 \nL 159.684761 78.653429 \nL 163.308137 66.090215 \nL 166.931514 53.944442 \nL 170.55489 42.700323 \nL 174.178267 32.806126 \nL 177.801644 24.656302 \nL 181.42502 18.575758 \nL 185.048397 14.806907 \nL 188.671774 13.5 \nL 192.29515 14.70714 \nL 195.918527 18.380202 \nL 199.541903 24.372753 \nL 203.16528 32.445888 \nL 206.788657 42.277757 \n\" clip-path=\"url(#pc20113639d)\" style=\"fill: none; stroke: #1f77b4; stroke-width: 1.5; stroke-linecap: square\"/>\n   </g>\n   <g id=\"line2d_117\">\n    <path d=\"M 54.606838 22.023199 \nL 72.723722 69.262535 \nL 90.840605 123.212134 \nL 108.957488 134.270983 \nL 127.074371 92.271627 \nL 145.191254 35.828081 \nL 163.308137 16.83428 \nL 181.42502 52.753037 \n\" clip-path=\"url(#pc20113639d)\" style=\"fill: none; stroke-dasharray: 5.55,2.4; stroke-dashoffset: 0; stroke: #ff7f0e; stroke-width: 1.5\"/>\n   </g>\n   <g id=\"line2d_118\">\n    <path d=\"M 47.360085 73.409329 \nL 50.983462 60.959407 \nL 54.606838 49.131475 \nL 58.230215 38.397075 \nL 61.853592 29.184154 \nL 65.476968 21.860003 \nL 69.100345 16.716611 \nL 72.723722 13.959031 \nL 76.347098 13.697196 \nL 79.970475 15.941548 \nL 83.593851 20.602609 \nL 87.217228 27.494558 \nL 90.840605 36.342636 \nL 94.463981 46.794096 \nL 98.087358 58.432273 \nL 101.710735 70.793189 \nL 105.334111 83.384053 \nL 108.957488 95.702907 \nL 112.580864 107.258638 \nL 116.204241 117.590554 \nL 119.827618 126.286755 \nL 123.450994 133.000552 \nL 127.074371 137.464285 \nL 130.697748 139.5 \nL 134.321124 139.02654 \nL 137.944501 136.062779 \nL 141.567877 130.726874 \nL 145.191254 123.231551 \nL 148.814631 113.875623 \nL 152.438007 103.032084 \nL 156.061384 91.133229 \nL 159.684761 78.653429 \nL 163.308137 66.090215 \nL 166.931514 53.944442 \nL 170.55489 42.700323 \nL 174.178267 32.806126 \nL 177.801644 24.656302 \nL 181.42502 18.575758 \nL 185.048397 14.806907 \nL 188.671774 13.5 \nL 192.29515 14.70714 \nL 195.918527 18.380202 \nL 199.541903 24.372753 \nL 203.16528 32.445888 \nL 206.788657 42.277757 \n\" clip-path=\"url(#pc20113639d)\" style=\"fill: none; stroke: #1f77b4; stroke-width: 1.5; stroke-linecap: square\"/>\n   </g>\n   <g id=\"line2d_119\">\n    <path d=\"M 54.606838 22.023199 \nL 72.723722 69.262535 \nL 90.840605 123.212134 \nL 108.957488 134.270983 \nL 127.074371 92.271627 \nL 145.191254 35.828081 \nL 163.308137 16.83428 \nL 181.42502 52.753037 \nL 199.541903 110.560813 \n\" clip-path=\"url(#pc20113639d)\" style=\"fill: none; stroke-dasharray: 5.55,2.4; stroke-dashoffset: 0; stroke: #ff7f0e; stroke-width: 1.5\"/>\n   </g>\n   <g id=\"line2d_120\">\n    <path d=\"M 47.360085 73.409329 \nL 50.983462 60.959407 \nL 54.606838 49.131475 \nL 58.230215 38.397075 \nL 61.853592 29.184154 \nL 65.476968 21.860003 \nL 69.100345 16.716611 \nL 72.723722 13.959031 \nL 76.347098 13.697196 \nL 79.970475 15.941548 \nL 83.593851 20.602609 \nL 87.217228 27.494558 \nL 90.840605 36.342636 \nL 94.463981 46.794096 \nL 98.087358 58.432273 \nL 101.710735 70.793189 \nL 105.334111 83.384053 \nL 108.957488 95.702907 \nL 112.580864 107.258638 \nL 116.204241 117.590554 \nL 119.827618 126.286755 \nL 123.450994 133.000552 \nL 127.074371 137.464285 \nL 130.697748 139.5 \nL 134.321124 139.02654 \nL 137.944501 136.062779 \nL 141.567877 130.726874 \nL 145.191254 123.231551 \nL 148.814631 113.875623 \nL 152.438007 103.032084 \nL 156.061384 91.133229 \nL 159.684761 78.653429 \nL 163.308137 66.090215 \nL 166.931514 53.944442 \nL 170.55489 42.700323 \nL 174.178267 32.806126 \nL 177.801644 24.656302 \nL 181.42502 18.575758 \nL 185.048397 14.806907 \nL 188.671774 13.5 \nL 192.29515 14.70714 \nL 195.918527 18.380202 \nL 199.541903 24.372753 \nL 203.16528 32.445888 \nL 206.788657 42.277757 \nL 210.412033 53.476395 \n\" clip-path=\"url(#pc20113639d)\" style=\"fill: none; stroke: #1f77b4; stroke-width: 1.5; stroke-linecap: square\"/>\n   </g>\n   <g id=\"line2d_121\">\n    <path d=\"M 54.606838 22.023199 \nL 72.723722 69.262535 \nL 90.840605 123.212134 \nL 108.957488 134.270983 \nL 127.074371 92.271627 \nL 145.191254 35.828081 \nL 163.308137 16.83428 \nL 181.42502 52.753037 \nL 199.541903 110.560813 \n\" clip-path=\"url(#pc20113639d)\" style=\"fill: none; stroke-dasharray: 5.55,2.4; stroke-dashoffset: 0; stroke: #ff7f0e; stroke-width: 1.5\"/>\n   </g>\n   <g id=\"line2d_122\">\n    <path d=\"M 47.360085 73.409329 \nL 50.983462 60.959407 \nL 54.606838 49.131475 \nL 58.230215 38.397075 \nL 61.853592 29.184154 \nL 65.476968 21.860003 \nL 69.100345 16.716611 \nL 72.723722 13.959031 \nL 76.347098 13.697196 \nL 79.970475 15.941548 \nL 83.593851 20.602609 \nL 87.217228 27.494558 \nL 90.840605 36.342636 \nL 94.463981 46.794096 \nL 98.087358 58.432273 \nL 101.710735 70.793189 \nL 105.334111 83.384053 \nL 108.957488 95.702907 \nL 112.580864 107.258638 \nL 116.204241 117.590554 \nL 119.827618 126.286755 \nL 123.450994 133.000552 \nL 127.074371 137.464285 \nL 130.697748 139.5 \nL 134.321124 139.02654 \nL 137.944501 136.062779 \nL 141.567877 130.726874 \nL 145.191254 123.231551 \nL 148.814631 113.875623 \nL 152.438007 103.032084 \nL 156.061384 91.133229 \nL 159.684761 78.653429 \nL 163.308137 66.090215 \nL 166.931514 53.944442 \nL 170.55489 42.700323 \nL 174.178267 32.806126 \nL 177.801644 24.656302 \nL 181.42502 18.575758 \nL 185.048397 14.806907 \nL 188.671774 13.5 \nL 192.29515 14.70714 \nL 195.918527 18.380202 \nL 199.541903 24.372753 \nL 203.16528 32.445888 \nL 206.788657 42.277757 \nL 210.412033 53.476395 \nL 214.03541 65.595347 \n\" clip-path=\"url(#pc20113639d)\" style=\"fill: none; stroke: #1f77b4; stroke-width: 1.5; stroke-linecap: square\"/>\n   </g>\n   <g id=\"line2d_123\">\n    <path d=\"M 54.606838 22.023199 \nL 72.723722 69.262535 \nL 90.840605 123.212134 \nL 108.957488 134.270983 \nL 127.074371 92.271627 \nL 145.191254 35.828081 \nL 163.308137 16.83428 \nL 181.42502 52.753037 \nL 199.541903 110.560813 \n\" clip-path=\"url(#pc20113639d)\" style=\"fill: none; stroke-dasharray: 5.55,2.4; stroke-dashoffset: 0; stroke: #ff7f0e; stroke-width: 1.5\"/>\n   </g>\n   <g id=\"line2d_124\">\n    <path d=\"M 47.360085 73.409329 \nL 50.983462 60.959407 \nL 54.606838 49.131475 \nL 58.230215 38.397075 \nL 61.853592 29.184154 \nL 65.476968 21.860003 \nL 69.100345 16.716611 \nL 72.723722 13.959031 \nL 76.347098 13.697196 \nL 79.970475 15.941548 \nL 83.593851 20.602609 \nL 87.217228 27.494558 \nL 90.840605 36.342636 \nL 94.463981 46.794096 \nL 98.087358 58.432273 \nL 101.710735 70.793189 \nL 105.334111 83.384053 \nL 108.957488 95.702907 \nL 112.580864 107.258638 \nL 116.204241 117.590554 \nL 119.827618 126.286755 \nL 123.450994 133.000552 \nL 127.074371 137.464285 \nL 130.697748 139.5 \nL 134.321124 139.02654 \nL 137.944501 136.062779 \nL 141.567877 130.726874 \nL 145.191254 123.231551 \nL 148.814631 113.875623 \nL 152.438007 103.032084 \nL 156.061384 91.133229 \nL 159.684761 78.653429 \nL 163.308137 66.090215 \nL 166.931514 53.944442 \nL 170.55489 42.700323 \nL 174.178267 32.806126 \nL 177.801644 24.656302 \nL 181.42502 18.575758 \nL 185.048397 14.806907 \nL 188.671774 13.5 \nL 192.29515 14.70714 \nL 195.918527 18.380202 \nL 199.541903 24.372753 \nL 203.16528 32.445888 \nL 206.788657 42.277757 \nL 210.412033 53.476395 \nL 214.03541 65.595347 \nL 217.658787 78.151469 \n\" clip-path=\"url(#pc20113639d)\" style=\"fill: none; stroke: #1f77b4; stroke-width: 1.5; stroke-linecap: square\"/>\n   </g>\n   <g id=\"line2d_125\">\n    <path d=\"M 54.606838 22.023199 \nL 72.723722 69.262535 \nL 90.840605 123.212134 \nL 108.957488 134.270983 \nL 127.074371 92.271627 \nL 145.191254 35.828081 \nL 163.308137 16.83428 \nL 181.42502 52.753037 \nL 199.541903 110.560813 \n\" clip-path=\"url(#pc20113639d)\" style=\"fill: none; stroke-dasharray: 5.55,2.4; stroke-dashoffset: 0; stroke: #ff7f0e; stroke-width: 1.5\"/>\n   </g>\n   <g id=\"line2d_126\">\n    <path d=\"M 47.360085 73.409329 \nL 50.983462 60.959407 \nL 54.606838 49.131475 \nL 58.230215 38.397075 \nL 61.853592 29.184154 \nL 65.476968 21.860003 \nL 69.100345 16.716611 \nL 72.723722 13.959031 \nL 76.347098 13.697196 \nL 79.970475 15.941548 \nL 83.593851 20.602609 \nL 87.217228 27.494558 \nL 90.840605 36.342636 \nL 94.463981 46.794096 \nL 98.087358 58.432273 \nL 101.710735 70.793189 \nL 105.334111 83.384053 \nL 108.957488 95.702907 \nL 112.580864 107.258638 \nL 116.204241 117.590554 \nL 119.827618 126.286755 \nL 123.450994 133.000552 \nL 127.074371 137.464285 \nL 130.697748 139.5 \nL 134.321124 139.02654 \nL 137.944501 136.062779 \nL 141.567877 130.726874 \nL 145.191254 123.231551 \nL 148.814631 113.875623 \nL 152.438007 103.032084 \nL 156.061384 91.133229 \nL 159.684761 78.653429 \nL 163.308137 66.090215 \nL 166.931514 53.944442 \nL 170.55489 42.700323 \nL 174.178267 32.806126 \nL 177.801644 24.656302 \nL 181.42502 18.575758 \nL 185.048397 14.806907 \nL 188.671774 13.5 \nL 192.29515 14.70714 \nL 195.918527 18.380202 \nL 199.541903 24.372753 \nL 203.16528 32.445888 \nL 206.788657 42.277757 \nL 210.412033 53.476395 \nL 214.03541 65.595347 \nL 217.658787 78.151469 \nL 221.282163 90.644187 \n\" clip-path=\"url(#pc20113639d)\" style=\"fill: none; stroke: #1f77b4; stroke-width: 1.5; stroke-linecap: square\"/>\n   </g>\n   <g id=\"line2d_127\">\n    <path d=\"M 54.606838 22.023199 \nL 72.723722 69.262535 \nL 90.840605 123.212134 \nL 108.957488 134.270983 \nL 127.074371 92.271627 \nL 145.191254 35.828081 \nL 163.308137 16.83428 \nL 181.42502 52.753037 \nL 199.541903 110.560813 \n\" clip-path=\"url(#pc20113639d)\" style=\"fill: none; stroke-dasharray: 5.55,2.4; stroke-dashoffset: 0; stroke: #ff7f0e; stroke-width: 1.5\"/>\n   </g>\n   <g id=\"line2d_128\">\n    <path d=\"M 47.360085 73.409329 \nL 50.983462 60.959407 \nL 54.606838 49.131475 \nL 58.230215 38.397075 \nL 61.853592 29.184154 \nL 65.476968 21.860003 \nL 69.100345 16.716611 \nL 72.723722 13.959031 \nL 76.347098 13.697196 \nL 79.970475 15.941548 \nL 83.593851 20.602609 \nL 87.217228 27.494558 \nL 90.840605 36.342636 \nL 94.463981 46.794096 \nL 98.087358 58.432273 \nL 101.710735 70.793189 \nL 105.334111 83.384053 \nL 108.957488 95.702907 \nL 112.580864 107.258638 \nL 116.204241 117.590554 \nL 119.827618 126.286755 \nL 123.450994 133.000552 \nL 127.074371 137.464285 \nL 130.697748 139.5 \nL 134.321124 139.02654 \nL 137.944501 136.062779 \nL 141.567877 130.726874 \nL 145.191254 123.231551 \nL 148.814631 113.875623 \nL 152.438007 103.032084 \nL 156.061384 91.133229 \nL 159.684761 78.653429 \nL 163.308137 66.090215 \nL 166.931514 53.944442 \nL 170.55489 42.700323 \nL 174.178267 32.806126 \nL 177.801644 24.656302 \nL 181.42502 18.575758 \nL 185.048397 14.806907 \nL 188.671774 13.5 \nL 192.29515 14.70714 \nL 195.918527 18.380202 \nL 199.541903 24.372753 \nL 203.16528 32.445888 \nL 206.788657 42.277757 \nL 210.412033 53.476395 \nL 214.03541 65.595347 \nL 217.658787 78.151469 \nL 221.282163 90.644187 \nL 224.90554 102.575457 \n\" clip-path=\"url(#pc20113639d)\" style=\"fill: none; stroke: #1f77b4; stroke-width: 1.5; stroke-linecap: square\"/>\n   </g>\n   <g id=\"line2d_129\">\n    <path d=\"M 54.606838 22.023199 \nL 72.723722 69.262535 \nL 90.840605 123.212134 \nL 108.957488 134.270983 \nL 127.074371 92.271627 \nL 145.191254 35.828081 \nL 163.308137 16.83428 \nL 181.42502 52.753037 \nL 199.541903 110.560813 \n\" clip-path=\"url(#pc20113639d)\" style=\"fill: none; stroke-dasharray: 5.55,2.4; stroke-dashoffset: 0; stroke: #ff7f0e; stroke-width: 1.5\"/>\n   </g>\n   <g id=\"line2d_130\">\n    <path d=\"M 47.360085 73.409329 \nL 50.983462 60.959407 \nL 54.606838 49.131475 \nL 58.230215 38.397075 \nL 61.853592 29.184154 \nL 65.476968 21.860003 \nL 69.100345 16.716611 \nL 72.723722 13.959031 \nL 76.347098 13.697196 \nL 79.970475 15.941548 \nL 83.593851 20.602609 \nL 87.217228 27.494558 \nL 90.840605 36.342636 \nL 94.463981 46.794096 \nL 98.087358 58.432273 \nL 101.710735 70.793189 \nL 105.334111 83.384053 \nL 108.957488 95.702907 \nL 112.580864 107.258638 \nL 116.204241 117.590554 \nL 119.827618 126.286755 \nL 123.450994 133.000552 \nL 127.074371 137.464285 \nL 130.697748 139.5 \nL 134.321124 139.02654 \nL 137.944501 136.062779 \nL 141.567877 130.726874 \nL 145.191254 123.231551 \nL 148.814631 113.875623 \nL 152.438007 103.032084 \nL 156.061384 91.133229 \nL 159.684761 78.653429 \nL 163.308137 66.090215 \nL 166.931514 53.944442 \nL 170.55489 42.700323 \nL 174.178267 32.806126 \nL 177.801644 24.656302 \nL 181.42502 18.575758 \nL 185.048397 14.806907 \nL 188.671774 13.5 \nL 192.29515 14.70714 \nL 195.918527 18.380202 \nL 199.541903 24.372753 \nL 203.16528 32.445888 \nL 206.788657 42.277757 \nL 210.412033 53.476395 \nL 214.03541 65.595347 \nL 217.658787 78.151469 \nL 221.282163 90.644187 \nL 224.90554 102.575457 \n\" clip-path=\"url(#pc20113639d)\" style=\"fill: none; stroke: #1f77b4; stroke-width: 1.5; stroke-linecap: square\"/>\n   </g>\n   <g id=\"line2d_131\">\n    <path d=\"M 54.606838 22.023199 \nL 72.723722 69.262535 \nL 90.840605 123.212134 \nL 108.957488 134.270983 \nL 127.074371 92.271627 \nL 145.191254 35.828081 \nL 163.308137 16.83428 \nL 181.42502 52.753037 \nL 199.541903 110.560813 \nL 217.658787 137.109405 \n\" clip-path=\"url(#pc20113639d)\" style=\"fill: none; stroke-dasharray: 5.55,2.4; stroke-dashoffset: 0; stroke: #ff7f0e; stroke-width: 1.5\"/>\n   </g>\n   <g id=\"patch_3\">\n    <path d=\"M 38.482813 145.8 \nL 38.482813 7.2 \n\" style=\"fill: none; stroke: #000000; stroke-width: 0.8; stroke-linejoin: miter; stroke-linecap: square\"/>\n   </g>\n   <g id=\"patch_4\">\n    <path d=\"M 233.782813 145.8 \nL 233.782813 7.2 \n\" style=\"fill: none; stroke: #000000; stroke-width: 0.8; stroke-linejoin: miter; stroke-linecap: square\"/>\n   </g>\n   <g id=\"patch_5\">\n    <path d=\"M 38.482813 145.8 \nL 233.782813 145.8 \n\" style=\"fill: none; stroke: #000000; stroke-width: 0.8; stroke-linejoin: miter; stroke-linecap: square\"/>\n   </g>\n   <g id=\"patch_6\">\n    <path d=\"M 38.482813 7.2 \nL 233.782813 7.2 \n\" style=\"fill: none; stroke: #000000; stroke-width: 0.8; stroke-linejoin: miter; stroke-linecap: square\"/>\n   </g>\n   <g id=\"legend_1\">\n    <g id=\"patch_7\">\n     <path d=\"M 177.95625 140.8 \nL 226.782813 140.8 \nQ 228.782813 140.8 228.782813 138.8 \nL 228.782813 110.44375 \nQ 228.782813 108.44375 226.782813 108.44375 \nL 177.95625 108.44375 \nQ 175.95625 108.44375 175.95625 110.44375 \nL 175.95625 138.8 \nQ 175.95625 140.8 177.95625 140.8 \nz\n\" style=\"fill: #ffffff; opacity: 0.8; stroke: #cccccc; stroke-linejoin: miter\"/>\n    </g>\n    <g id=\"line2d_132\">\n     <path d=\"M 179.95625 116.542188 \nL 189.95625 116.542188 \nL 199.95625 116.542188 \n\" style=\"fill: none; stroke: #1f77b4; stroke-width: 1.5; stroke-linecap: square\"/>\n    </g>\n    <g id=\"text_13\">\n     <!-- sin -->\n     <g transform=\"translate(207.95625 120.042188) scale(0.1 -0.1)\">\n      <defs>\n       <path id=\"DejaVuSans-73\" d=\"M 2834 3397 \nL 2834 2853 \nQ 2591 2978 2328 3040 \nQ 2066 3103 1784 3103 \nQ 1356 3103 1142 2972 \nQ 928 2841 928 2578 \nQ 928 2378 1081 2264 \nQ 1234 2150 1697 2047 \nL 1894 2003 \nQ 2506 1872 2764 1633 \nQ 3022 1394 3022 966 \nQ 3022 478 2636 193 \nQ 2250 -91 1575 -91 \nQ 1294 -91 989 -36 \nQ 684 19 347 128 \nL 347 722 \nQ 666 556 975 473 \nQ 1284 391 1588 391 \nQ 1994 391 2212 530 \nQ 2431 669 2431 922 \nQ 2431 1156 2273 1281 \nQ 2116 1406 1581 1522 \nL 1381 1569 \nQ 847 1681 609 1914 \nQ 372 2147 372 2553 \nQ 372 3047 722 3315 \nQ 1072 3584 1716 3584 \nQ 2034 3584 2315 3537 \nQ 2597 3491 2834 3397 \nz\n\" transform=\"scale(0.015625)\"/>\n       <path id=\"DejaVuSans-69\" d=\"M 603 3500 \nL 1178 3500 \nL 1178 0 \nL 603 0 \nL 603 3500 \nz\nM 603 4863 \nL 1178 4863 \nL 1178 4134 \nL 603 4134 \nL 603 4863 \nz\n\" transform=\"scale(0.015625)\"/>\n       <path id=\"DejaVuSans-6e\" d=\"M 3513 2113 \nL 3513 0 \nL 2938 0 \nL 2938 2094 \nQ 2938 2591 2744 2837 \nQ 2550 3084 2163 3084 \nQ 1697 3084 1428 2787 \nQ 1159 2491 1159 1978 \nL 1159 0 \nL 581 0 \nL 581 3500 \nL 1159 3500 \nL 1159 2956 \nQ 1366 3272 1645 3428 \nQ 1925 3584 2291 3584 \nQ 2894 3584 3203 3211 \nQ 3513 2838 3513 2113 \nz\n\" transform=\"scale(0.015625)\"/>\n      </defs>\n      <use xlink:href=\"#DejaVuSans-73\"/>\n      <use xlink:href=\"#DejaVuSans-69\" x=\"52.099609\"/>\n      <use xlink:href=\"#DejaVuSans-6e\" x=\"79.882812\"/>\n     </g>\n    </g>\n    <g id=\"line2d_133\">\n     <path d=\"M 179.95625 131.220313 \nL 189.95625 131.220313 \nL 199.95625 131.220313 \n\" style=\"fill: none; stroke-dasharray: 5.55,2.4; stroke-dashoffset: 0; stroke: #ff7f0e; stroke-width: 1.5\"/>\n    </g>\n    <g id=\"text_14\">\n     <!-- cos -->\n     <g transform=\"translate(207.95625 134.720313) scale(0.1 -0.1)\">\n      <defs>\n       <path id=\"DejaVuSans-63\" d=\"M 3122 3366 \nL 3122 2828 \nQ 2878 2963 2633 3030 \nQ 2388 3097 2138 3097 \nQ 1578 3097 1268 2742 \nQ 959 2388 959 1747 \nQ 959 1106 1268 751 \nQ 1578 397 2138 397 \nQ 2388 397 2633 464 \nQ 2878 531 3122 666 \nL 3122 134 \nQ 2881 22 2623 -34 \nQ 2366 -91 2075 -91 \nQ 1284 -91 818 406 \nQ 353 903 353 1747 \nQ 353 2603 823 3093 \nQ 1294 3584 2113 3584 \nQ 2378 3584 2631 3529 \nQ 2884 3475 3122 3366 \nz\n\" transform=\"scale(0.015625)\"/>\n       <path id=\"DejaVuSans-6f\" d=\"M 1959 3097 \nQ 1497 3097 1228 2736 \nQ 959 2375 959 1747 \nQ 959 1119 1226 758 \nQ 1494 397 1959 397 \nQ 2419 397 2687 759 \nQ 2956 1122 2956 1747 \nQ 2956 2369 2687 2733 \nQ 2419 3097 1959 3097 \nz\nM 1959 3584 \nQ 2709 3584 3137 3096 \nQ 3566 2609 3566 1747 \nQ 3566 888 3137 398 \nQ 2709 -91 1959 -91 \nQ 1206 -91 779 398 \nQ 353 888 353 1747 \nQ 353 2609 779 3096 \nQ 1206 3584 1959 3584 \nz\n\" transform=\"scale(0.015625)\"/>\n      </defs>\n      <use xlink:href=\"#DejaVuSans-63\"/>\n      <use xlink:href=\"#DejaVuSans-6f\" x=\"54.980469\"/>\n      <use xlink:href=\"#DejaVuSans-73\" x=\"116.162109\"/>\n     </g>\n    </g>\n   </g>\n  </g>\n </g>\n <defs>\n  <clipPath id=\"pc20113639d\">\n   <rect x=\"38.482813\" y=\"7.2\" width=\"195.3\" height=\"138.6\"/>\n  </clipPath>\n </defs>\n</svg>\n"
          },
          "metadata": {}
        }
      ]
    },
    {
      "cell_type": "code",
      "source": [
        "class Module(nn.Module, d2l.HyperParameters):\n",
        "    def __init__(self, plot_train_per_epoch=2, plot_valid_per_epoch=1):\n",
        "        super().__init__()\n",
        "        self.save_hyperparameters()\n",
        "        self.board = ProgressBoard()\n",
        "\n",
        "    def loss(self, y_hat, y):\n",
        "        raise NotImplementedError\n",
        "\n",
        "    def forward(self, X):\n",
        "        assert hasattr(self, 'net'), 'Neural network is defined'\n",
        "        return self.net(X)\n",
        "\n",
        "    def plot(self, key, value, train):\n",
        "        assert hasattr(self, 'trainer'), 'Trainer is not inited'\n",
        "        self.board.xlabel = 'epoch'\n",
        "        if train:\n",
        "            x = self.trainer.train_batch_idx / \\\n",
        "                self.trainer.num_train_batches\n",
        "            n = self.trainer.num_train_batches / \\\n",
        "                self.plot_train_per_epoch\n",
        "        else:\n",
        "            x = self.trainer.epoch + 1\n",
        "            n = self.trainer.num_val_batches / \\\n",
        "                self.plot_valid_per_epoch\n",
        "        self.board.draw(x, value.to(d2l.cpu()).detach().numpy(),\n",
        "                        ('train_' if train else 'val_') + key,\n",
        "                        every_n=int(n))\n",
        "\n",
        "    def training_step(self, batch):\n",
        "        l = self.loss(self(*batch[:-1]), batch[-1])\n",
        "        self.plot('loss', l, train=True)\n",
        "        return l\n",
        "\n",
        "    def validation_step(self, batch):\n",
        "        l = self.loss(self(*batch[:-1]), batch[-1])\n",
        "        self.plot('loss', l, train=False)\n",
        "\n",
        "    def configure_optimizers(self):\n",
        "        raise NotImplementedError"
      ],
      "metadata": {
        "id": "O-8aFL7U0Lqs"
      },
      "execution_count": null,
      "outputs": []
    },
    {
      "cell_type": "code",
      "source": [
        "class DataModule(d2l.HyperParameters):\n",
        "    def __init__(self, root='../data', num_workers=4):\n",
        "        self.save_hyperparameters()\n",
        "\n",
        "    def get_dataloader(self, train):\n",
        "        raise NotImplementedError\n",
        "\n",
        "    def train_dataloader(self):\n",
        "        return self.get_dataloader(train=True)\n",
        "\n",
        "    def val_dataloader(self):\n",
        "        return self.get_dataloader(train=False)"
      ],
      "metadata": {
        "id": "JLbpEj68vLSL"
      },
      "execution_count": null,
      "outputs": []
    },
    {
      "cell_type": "code",
      "source": [
        "class Trainer(d2l.HyperParameters):\n",
        "    def __init__(self, max_epochs, num_gpus=0, gradient_clip_val=0):\n",
        "        self.save_hyperparameters()\n",
        "        assert num_gpus == 0,\n",
        "\n",
        "    def prepare_data(self, data):\n",
        "        self.train_dataloader = data.train_dataloader()\n",
        "        self.val_dataloader = data.val_dataloader()\n",
        "        self.num_train_batches = len(self.train_dataloader)\n",
        "        self.num_val_batches = (len(self.val_dataloader)\n",
        "                                if self.val_dataloader is not None else 0)\n",
        "\n",
        "    def prepare_model(self, model):\n",
        "        model.trainer = self\n",
        "        model.board.xlim = [0, self.max_epochs]\n",
        "        self.model = model\n",
        "\n",
        "    def fit(self, model, data):\n",
        "        self.prepare_data(data)\n",
        "        self.prepare_model(model)\n",
        "        self.optim = model.configure_optimizers()\n",
        "        self.epoch = 0\n",
        "        self.train_batch_idx = 0\n",
        "        self.val_batch_idx = 0\n",
        "        for self.epoch in range(self.max_epochs):\n",
        "            self.fit_epoch()\n",
        "\n",
        "    def fit_epoch(self):\n",
        "        raise NotImplementedError"
      ],
      "metadata": {
        "id": "atpQ6eXGvM4O"
      },
      "execution_count": null,
      "outputs": []
    },
    {
      "cell_type": "markdown",
      "source": [
        "## memo"
      ],
      "metadata": {
        "id": "H7C7M3wlvyxr"
      }
    },
    {
      "cell_type": "markdown",
      "source": [
        "### Maybe these object oriented coding can come in handy when making multi-layered perceptrons?"
      ],
      "metadata": {
        "id": "pDWxwJyCwICJ"
      }
    },
    {
      "cell_type": "markdown",
      "source": [
        "# 3.4"
      ],
      "metadata": {
        "id": "OlsGDTGg0haY"
      }
    },
    {
      "cell_type": "markdown",
      "source": [
        "## code"
      ],
      "metadata": {
        "id": "333XfUq-0jtk"
      }
    },
    {
      "cell_type": "code",
      "source": [
        "%matplotlib inline\n",
        "import torch\n",
        "from d2l import torch as d2l"
      ],
      "metadata": {
        "id": "rgwcO5cv0jS4"
      },
      "execution_count": null,
      "outputs": []
    },
    {
      "cell_type": "code",
      "source": [
        "class SyntheticRegressionData(d2l.DataModule):\n",
        "    def __init__(self, w, b, noise=0.01, num_train=1000, num_val=1000,\n",
        "                 batch_size=32):\n",
        "        super().__init__()\n",
        "        self.save_hyperparameters()\n",
        "        n = num_train + num_val\n",
        "        self.X = torch.randn(n, len(w))\n",
        "        noise = torch.randn(n, 1) * noise\n",
        "        self.y = torch.matmul(self.X, w.reshape((-1, 1))) + b + noise"
      ],
      "metadata": {
        "id": "SWV6Y6rX2ZJy"
      },
      "execution_count": null,
      "outputs": []
    },
    {
      "cell_type": "code",
      "source": [
        "class LinearRegressionScratch(d2l.Module):\n",
        "    def __init__(self, num_inputs, lr, sigma=0.01):\n",
        "        super().__init__()\n",
        "        self.save_hyperparameters()\n",
        "        self.w = torch.normal(0, sigma, (num_inputs, 1), requires_grad=True)\n",
        "        self.b = torch.zeros(1, requires_grad=True)"
      ],
      "metadata": {
        "id": "9zaxLI-h0ozG"
      },
      "execution_count": null,
      "outputs": []
    },
    {
      "cell_type": "code",
      "source": [
        "@d2l.add_to_class(LinearRegressionScratch)\n",
        "def forward(self, X):\n",
        "    return torch.matmul(X, self.w) + self.b"
      ],
      "metadata": {
        "id": "RqGd_qec1Bm-"
      },
      "execution_count": null,
      "outputs": []
    },
    {
      "cell_type": "code",
      "source": [
        "@d2l.add_to_class(LinearRegressionScratch)\n",
        "def loss(self, y_hat, y):\n",
        "    l = (y_hat - y) ** 2 / 2\n",
        "    return l.mean()"
      ],
      "metadata": {
        "id": "HtnBaGwt1FVM"
      },
      "execution_count": null,
      "outputs": []
    },
    {
      "cell_type": "code",
      "source": [
        "class SGD(d2l.HyperParameters):\n",
        "    def __init__(self, params, lr):\n",
        "        self.save_hyperparameters()\n",
        "\n",
        "    def step(self):\n",
        "        for param in self.params:\n",
        "            param -= self.lr * param.grad\n",
        "\n",
        "    def zero_grad(self):\n",
        "        for param in self.params:\n",
        "            if param.grad is not None:\n",
        "                param.grad.zero_()"
      ],
      "metadata": {
        "id": "J5lsorsr1Hq8"
      },
      "execution_count": null,
      "outputs": []
    },
    {
      "cell_type": "code",
      "source": [
        "@d2l.add_to_class(LinearRegressionScratch)\n",
        "def configure_optimizers(self):\n",
        "    return SGD([self.w, self.b], self.lr)"
      ],
      "metadata": {
        "id": "WdzO5_Y-1I0U"
      },
      "execution_count": null,
      "outputs": []
    },
    {
      "cell_type": "code",
      "source": [
        "@d2l.add_to_class(d2l.Trainer)\n",
        "def prepare_batch(self, batch):\n",
        "    return batch\n",
        "\n",
        "@d2l.add_to_class(d2l.Trainer)\n",
        "def fit_epoch(self):\n",
        "    self.model.train()\n",
        "    for batch in self.train_dataloader:\n",
        "        loss = self.model.training_step(self.prepare_batch(batch))\n",
        "        self.optim.zero_grad()\n",
        "        with torch.no_grad():\n",
        "            loss.backward()\n",
        "            if self.gradient_clip_val > 0:  # later?\n",
        "                self.clip_gradients(self.gradient_clip_val, self.model)\n",
        "            self.optim.step()\n",
        "        self.train_batch_idx += 1\n",
        "    if self.val_dataloader is None:\n",
        "        return\n",
        "    self.model.eval()\n",
        "    for batch in self.val_dataloader:\n",
        "        with torch.no_grad():\n",
        "            self.model.validation_step(self.prepare_batch(batch))\n",
        "        self.val_batch_idx += 1"
      ],
      "metadata": {
        "id": "Xqzz1a9x1KBE"
      },
      "execution_count": null,
      "outputs": []
    },
    {
      "cell_type": "code",
      "source": [
        "model = LinearRegressionScratch(2, lr=0.03)\n",
        "data = d2l.SyntheticRegressionData(w=torch.tensor([2, -3.4]), b=4.2)\n",
        "trainer = d2l.Trainer(max_epochs=3)\n",
        "trainer.fit(model, data)"
      ],
      "metadata": {
        "colab": {
          "base_uri": "https://localhost:8080/",
          "height": 265
        },
        "id": "d5oOGHd-1N3q",
        "outputId": "2f5043c6-8df5-4d67-c9b2-971d18fb85c8"
      },
      "execution_count": null,
      "outputs": [
        {
          "output_type": "display_data",
          "data": {
            "text/plain": [
              "<Figure size 350x250 with 1 Axes>"
            ],
            "image/svg+xml": "<?xml version=\"1.0\" encoding=\"utf-8\" standalone=\"no\"?>\n<!DOCTYPE svg PUBLIC \"-//W3C//DTD SVG 1.1//EN\"\n  \"http://www.w3.org/Graphics/SVG/1.1/DTD/svg11.dtd\">\n<svg xmlns:xlink=\"http://www.w3.org/1999/xlink\" width=\"237.376562pt\" height=\"183.35625pt\" viewBox=\"0 0 237.376562 183.35625\" xmlns=\"http://www.w3.org/2000/svg\" version=\"1.1\">\n <metadata>\n  <rdf:RDF xmlns:dc=\"http://purl.org/dc/elements/1.1/\" xmlns:cc=\"http://creativecommons.org/ns#\" xmlns:rdf=\"http://www.w3.org/1999/02/22-rdf-syntax-ns#\">\n   <cc:Work>\n    <dc:type rdf:resource=\"http://purl.org/dc/dcmitype/StillImage\"/>\n    <dc:date>2024-09-24T11:21:50.039016</dc:date>\n    <dc:format>image/svg+xml</dc:format>\n    <dc:creator>\n     <cc:Agent>\n      <dc:title>Matplotlib v3.7.2, https://matplotlib.org/</dc:title>\n     </cc:Agent>\n    </dc:creator>\n   </cc:Work>\n  </rdf:RDF>\n </metadata>\n <defs>\n  <style type=\"text/css\">*{stroke-linejoin: round; stroke-linecap: butt}</style>\n </defs>\n <g id=\"figure_1\">\n  <g id=\"patch_1\">\n   <path d=\"M 0 183.35625 \nL 237.376562 183.35625 \nL 237.376562 0 \nL 0 0 \nz\n\" style=\"fill: #ffffff\"/>\n  </g>\n  <g id=\"axes_1\">\n   <g id=\"patch_2\">\n    <path d=\"M 26.925 145.8 \nL 222.225 145.8 \nL 222.225 7.2 \nL 26.925 7.2 \nz\n\" style=\"fill: #ffffff\"/>\n   </g>\n   <g id=\"matplotlib.axis_1\">\n    <g id=\"xtick_1\">\n     <g id=\"line2d_1\">\n      <defs>\n       <path id=\"ma90e0dc586\" d=\"M 0 0 \nL 0 3.5 \n\" style=\"stroke: #000000; stroke-width: 0.8\"/>\n      </defs>\n      <g>\n       <use xlink:href=\"#ma90e0dc586\" x=\"26.925\" y=\"145.8\" style=\"stroke: #000000; stroke-width: 0.8\"/>\n      </g>\n     </g>\n     <g id=\"text_1\">\n      <!-- 0.0 -->\n      <g transform=\"translate(18.973438 160.398438) scale(0.1 -0.1)\">\n       <defs>\n        <path id=\"DejaVuSans-30\" d=\"M 2034 4250 \nQ 1547 4250 1301 3770 \nQ 1056 3291 1056 2328 \nQ 1056 1369 1301 889 \nQ 1547 409 2034 409 \nQ 2525 409 2770 889 \nQ 3016 1369 3016 2328 \nQ 3016 3291 2770 3770 \nQ 2525 4250 2034 4250 \nz\nM 2034 4750 \nQ 2819 4750 3233 4129 \nQ 3647 3509 3647 2328 \nQ 3647 1150 3233 529 \nQ 2819 -91 2034 -91 \nQ 1250 -91 836 529 \nQ 422 1150 422 2328 \nQ 422 3509 836 4129 \nQ 1250 4750 2034 4750 \nz\n\" transform=\"scale(0.015625)\"/>\n        <path id=\"DejaVuSans-2e\" d=\"M 684 794 \nL 1344 794 \nL 1344 0 \nL 684 0 \nL 684 794 \nz\n\" transform=\"scale(0.015625)\"/>\n       </defs>\n       <use xlink:href=\"#DejaVuSans-30\"/>\n       <use xlink:href=\"#DejaVuSans-2e\" x=\"63.623047\"/>\n       <use xlink:href=\"#DejaVuSans-30\" x=\"95.410156\"/>\n      </g>\n     </g>\n    </g>\n    <g id=\"xtick_2\">\n     <g id=\"line2d_2\">\n      <g>\n       <use xlink:href=\"#ma90e0dc586\" x=\"59.475\" y=\"145.8\" style=\"stroke: #000000; stroke-width: 0.8\"/>\n      </g>\n     </g>\n     <g id=\"text_2\">\n      <!-- 0.5 -->\n      <g transform=\"translate(51.523438 160.398438) scale(0.1 -0.1)\">\n       <defs>\n        <path id=\"DejaVuSans-35\" d=\"M 691 4666 \nL 3169 4666 \nL 3169 4134 \nL 1269 4134 \nL 1269 2991 \nQ 1406 3038 1543 3061 \nQ 1681 3084 1819 3084 \nQ 2600 3084 3056 2656 \nQ 3513 2228 3513 1497 \nQ 3513 744 3044 326 \nQ 2575 -91 1722 -91 \nQ 1428 -91 1123 -41 \nQ 819 9 494 109 \nL 494 744 \nQ 775 591 1075 516 \nQ 1375 441 1709 441 \nQ 2250 441 2565 725 \nQ 2881 1009 2881 1497 \nQ 2881 1984 2565 2268 \nQ 2250 2553 1709 2553 \nQ 1456 2553 1204 2497 \nQ 953 2441 691 2322 \nL 691 4666 \nz\n\" transform=\"scale(0.015625)\"/>\n       </defs>\n       <use xlink:href=\"#DejaVuSans-30\"/>\n       <use xlink:href=\"#DejaVuSans-2e\" x=\"63.623047\"/>\n       <use xlink:href=\"#DejaVuSans-35\" x=\"95.410156\"/>\n      </g>\n     </g>\n    </g>\n    <g id=\"xtick_3\">\n     <g id=\"line2d_3\">\n      <g>\n       <use xlink:href=\"#ma90e0dc586\" x=\"92.025\" y=\"145.8\" style=\"stroke: #000000; stroke-width: 0.8\"/>\n      </g>\n     </g>\n     <g id=\"text_3\">\n      <!-- 1.0 -->\n      <g transform=\"translate(84.073438 160.398438) scale(0.1 -0.1)\">\n       <defs>\n        <path id=\"DejaVuSans-31\" d=\"M 794 531 \nL 1825 531 \nL 1825 4091 \nL 703 3866 \nL 703 4441 \nL 1819 4666 \nL 2450 4666 \nL 2450 531 \nL 3481 531 \nL 3481 0 \nL 794 0 \nL 794 531 \nz\n\" transform=\"scale(0.015625)\"/>\n       </defs>\n       <use xlink:href=\"#DejaVuSans-31\"/>\n       <use xlink:href=\"#DejaVuSans-2e\" x=\"63.623047\"/>\n       <use xlink:href=\"#DejaVuSans-30\" x=\"95.410156\"/>\n      </g>\n     </g>\n    </g>\n    <g id=\"xtick_4\">\n     <g id=\"line2d_4\">\n      <g>\n       <use xlink:href=\"#ma90e0dc586\" x=\"124.575\" y=\"145.8\" style=\"stroke: #000000; stroke-width: 0.8\"/>\n      </g>\n     </g>\n     <g id=\"text_4\">\n      <!-- 1.5 -->\n      <g transform=\"translate(116.623437 160.398438) scale(0.1 -0.1)\">\n       <use xlink:href=\"#DejaVuSans-31\"/>\n       <use xlink:href=\"#DejaVuSans-2e\" x=\"63.623047\"/>\n       <use xlink:href=\"#DejaVuSans-35\" x=\"95.410156\"/>\n      </g>\n     </g>\n    </g>\n    <g id=\"xtick_5\">\n     <g id=\"line2d_5\">\n      <g>\n       <use xlink:href=\"#ma90e0dc586\" x=\"157.125\" y=\"145.8\" style=\"stroke: #000000; stroke-width: 0.8\"/>\n      </g>\n     </g>\n     <g id=\"text_5\">\n      <!-- 2.0 -->\n      <g transform=\"translate(149.173438 160.398438) scale(0.1 -0.1)\">\n       <defs>\n        <path id=\"DejaVuSans-32\" d=\"M 1228 531 \nL 3431 531 \nL 3431 0 \nL 469 0 \nL 469 531 \nQ 828 903 1448 1529 \nQ 2069 2156 2228 2338 \nQ 2531 2678 2651 2914 \nQ 2772 3150 2772 3378 \nQ 2772 3750 2511 3984 \nQ 2250 4219 1831 4219 \nQ 1534 4219 1204 4116 \nQ 875 4013 500 3803 \nL 500 4441 \nQ 881 4594 1212 4672 \nQ 1544 4750 1819 4750 \nQ 2544 4750 2975 4387 \nQ 3406 4025 3406 3419 \nQ 3406 3131 3298 2873 \nQ 3191 2616 2906 2266 \nQ 2828 2175 2409 1742 \nQ 1991 1309 1228 531 \nz\n\" transform=\"scale(0.015625)\"/>\n       </defs>\n       <use xlink:href=\"#DejaVuSans-32\"/>\n       <use xlink:href=\"#DejaVuSans-2e\" x=\"63.623047\"/>\n       <use xlink:href=\"#DejaVuSans-30\" x=\"95.410156\"/>\n      </g>\n     </g>\n    </g>\n    <g id=\"xtick_6\">\n     <g id=\"line2d_6\">\n      <g>\n       <use xlink:href=\"#ma90e0dc586\" x=\"189.675\" y=\"145.8\" style=\"stroke: #000000; stroke-width: 0.8\"/>\n      </g>\n     </g>\n     <g id=\"text_6\">\n      <!-- 2.5 -->\n      <g transform=\"translate(181.723438 160.398438) scale(0.1 -0.1)\">\n       <use xlink:href=\"#DejaVuSans-32\"/>\n       <use xlink:href=\"#DejaVuSans-2e\" x=\"63.623047\"/>\n       <use xlink:href=\"#DejaVuSans-35\" x=\"95.410156\"/>\n      </g>\n     </g>\n    </g>\n    <g id=\"xtick_7\">\n     <g id=\"line2d_7\">\n      <g>\n       <use xlink:href=\"#ma90e0dc586\" x=\"222.225\" y=\"145.8\" style=\"stroke: #000000; stroke-width: 0.8\"/>\n      </g>\n     </g>\n     <g id=\"text_7\">\n      <!-- 3.0 -->\n      <g transform=\"translate(214.273438 160.398438) scale(0.1 -0.1)\">\n       <defs>\n        <path id=\"DejaVuSans-33\" d=\"M 2597 2516 \nQ 3050 2419 3304 2112 \nQ 3559 1806 3559 1356 \nQ 3559 666 3084 287 \nQ 2609 -91 1734 -91 \nQ 1441 -91 1130 -33 \nQ 819 25 488 141 \nL 488 750 \nQ 750 597 1062 519 \nQ 1375 441 1716 441 \nQ 2309 441 2620 675 \nQ 2931 909 2931 1356 \nQ 2931 1769 2642 2001 \nQ 2353 2234 1838 2234 \nL 1294 2234 \nL 1294 2753 \nL 1863 2753 \nQ 2328 2753 2575 2939 \nQ 2822 3125 2822 3475 \nQ 2822 3834 2567 4026 \nQ 2313 4219 1838 4219 \nQ 1578 4219 1281 4162 \nQ 984 4106 628 3988 \nL 628 4550 \nQ 988 4650 1302 4700 \nQ 1616 4750 1894 4750 \nQ 2613 4750 3031 4423 \nQ 3450 4097 3450 3541 \nQ 3450 3153 3228 2886 \nQ 3006 2619 2597 2516 \nz\n\" transform=\"scale(0.015625)\"/>\n       </defs>\n       <use xlink:href=\"#DejaVuSans-33\"/>\n       <use xlink:href=\"#DejaVuSans-2e\" x=\"63.623047\"/>\n       <use xlink:href=\"#DejaVuSans-30\" x=\"95.410156\"/>\n      </g>\n     </g>\n    </g>\n    <g id=\"text_8\">\n     <!-- epoch -->\n     <g transform=\"translate(109.346875 174.076563) scale(0.1 -0.1)\">\n      <defs>\n       <path id=\"DejaVuSans-65\" d=\"M 3597 1894 \nL 3597 1613 \nL 953 1613 \nQ 991 1019 1311 708 \nQ 1631 397 2203 397 \nQ 2534 397 2845 478 \nQ 3156 559 3463 722 \nL 3463 178 \nQ 3153 47 2828 -22 \nQ 2503 -91 2169 -91 \nQ 1331 -91 842 396 \nQ 353 884 353 1716 \nQ 353 2575 817 3079 \nQ 1281 3584 2069 3584 \nQ 2775 3584 3186 3129 \nQ 3597 2675 3597 1894 \nz\nM 3022 2063 \nQ 3016 2534 2758 2815 \nQ 2500 3097 2075 3097 \nQ 1594 3097 1305 2825 \nQ 1016 2553 972 2059 \nL 3022 2063 \nz\n\" transform=\"scale(0.015625)\"/>\n       <path id=\"DejaVuSans-70\" d=\"M 1159 525 \nL 1159 -1331 \nL 581 -1331 \nL 581 3500 \nL 1159 3500 \nL 1159 2969 \nQ 1341 3281 1617 3432 \nQ 1894 3584 2278 3584 \nQ 2916 3584 3314 3078 \nQ 3713 2572 3713 1747 \nQ 3713 922 3314 415 \nQ 2916 -91 2278 -91 \nQ 1894 -91 1617 61 \nQ 1341 213 1159 525 \nz\nM 3116 1747 \nQ 3116 2381 2855 2742 \nQ 2594 3103 2138 3103 \nQ 1681 3103 1420 2742 \nQ 1159 2381 1159 1747 \nQ 1159 1113 1420 752 \nQ 1681 391 2138 391 \nQ 2594 391 2855 752 \nQ 3116 1113 3116 1747 \nz\n\" transform=\"scale(0.015625)\"/>\n       <path id=\"DejaVuSans-6f\" d=\"M 1959 3097 \nQ 1497 3097 1228 2736 \nQ 959 2375 959 1747 \nQ 959 1119 1226 758 \nQ 1494 397 1959 397 \nQ 2419 397 2687 759 \nQ 2956 1122 2956 1747 \nQ 2956 2369 2687 2733 \nQ 2419 3097 1959 3097 \nz\nM 1959 3584 \nQ 2709 3584 3137 3096 \nQ 3566 2609 3566 1747 \nQ 3566 888 3137 398 \nQ 2709 -91 1959 -91 \nQ 1206 -91 779 398 \nQ 353 888 353 1747 \nQ 353 2609 779 3096 \nQ 1206 3584 1959 3584 \nz\n\" transform=\"scale(0.015625)\"/>\n       <path id=\"DejaVuSans-63\" d=\"M 3122 3366 \nL 3122 2828 \nQ 2878 2963 2633 3030 \nQ 2388 3097 2138 3097 \nQ 1578 3097 1268 2742 \nQ 959 2388 959 1747 \nQ 959 1106 1268 751 \nQ 1578 397 2138 397 \nQ 2388 397 2633 464 \nQ 2878 531 3122 666 \nL 3122 134 \nQ 2881 22 2623 -34 \nQ 2366 -91 2075 -91 \nQ 1284 -91 818 406 \nQ 353 903 353 1747 \nQ 353 2603 823 3093 \nQ 1294 3584 2113 3584 \nQ 2378 3584 2631 3529 \nQ 2884 3475 3122 3366 \nz\n\" transform=\"scale(0.015625)\"/>\n       <path id=\"DejaVuSans-68\" d=\"M 3513 2113 \nL 3513 0 \nL 2938 0 \nL 2938 2094 \nQ 2938 2591 2744 2837 \nQ 2550 3084 2163 3084 \nQ 1697 3084 1428 2787 \nQ 1159 2491 1159 1978 \nL 1159 0 \nL 581 0 \nL 581 4863 \nL 1159 4863 \nL 1159 2956 \nQ 1366 3272 1645 3428 \nQ 1925 3584 2291 3584 \nQ 2894 3584 3203 3211 \nQ 3513 2838 3513 2113 \nz\n\" transform=\"scale(0.015625)\"/>\n      </defs>\n      <use xlink:href=\"#DejaVuSans-65\"/>\n      <use xlink:href=\"#DejaVuSans-70\" x=\"61.523438\"/>\n      <use xlink:href=\"#DejaVuSans-6f\" x=\"125\"/>\n      <use xlink:href=\"#DejaVuSans-63\" x=\"186.181641\"/>\n      <use xlink:href=\"#DejaVuSans-68\" x=\"241.162109\"/>\n     </g>\n    </g>\n   </g>\n   <g id=\"matplotlib.axis_2\">\n    <g id=\"ytick_1\">\n     <g id=\"line2d_8\">\n      <defs>\n       <path id=\"maed70bae87\" d=\"M 0 0 \nL -3.5 0 \n\" style=\"stroke: #000000; stroke-width: 0.8\"/>\n      </defs>\n      <g>\n       <use xlink:href=\"#maed70bae87\" x=\"26.925\" y=\"140.183915\" style=\"stroke: #000000; stroke-width: 0.8\"/>\n      </g>\n     </g>\n     <g id=\"text_9\">\n      <!-- 0 -->\n      <g transform=\"translate(13.5625 143.983134) scale(0.1 -0.1)\">\n       <use xlink:href=\"#DejaVuSans-30\"/>\n      </g>\n     </g>\n    </g>\n    <g id=\"ytick_2\">\n     <g id=\"line2d_9\">\n      <g>\n       <use xlink:href=\"#maed70bae87\" x=\"26.925\" y=\"116.753981\" style=\"stroke: #000000; stroke-width: 0.8\"/>\n      </g>\n     </g>\n     <g id=\"text_10\">\n      <!-- 2 -->\n      <g transform=\"translate(13.5625 120.553199) scale(0.1 -0.1)\">\n       <use xlink:href=\"#DejaVuSans-32\"/>\n      </g>\n     </g>\n    </g>\n    <g id=\"ytick_3\">\n     <g id=\"line2d_10\">\n      <g>\n       <use xlink:href=\"#maed70bae87\" x=\"26.925\" y=\"93.324046\" style=\"stroke: #000000; stroke-width: 0.8\"/>\n      </g>\n     </g>\n     <g id=\"text_11\">\n      <!-- 4 -->\n      <g transform=\"translate(13.5625 97.123265) scale(0.1 -0.1)\">\n       <defs>\n        <path id=\"DejaVuSans-34\" d=\"M 2419 4116 \nL 825 1625 \nL 2419 1625 \nL 2419 4116 \nz\nM 2253 4666 \nL 3047 4666 \nL 3047 1625 \nL 3713 1625 \nL 3713 1100 \nL 3047 1100 \nL 3047 0 \nL 2419 0 \nL 2419 1100 \nL 313 1100 \nL 313 1709 \nL 2253 4666 \nz\n\" transform=\"scale(0.015625)\"/>\n       </defs>\n       <use xlink:href=\"#DejaVuSans-34\"/>\n      </g>\n     </g>\n    </g>\n    <g id=\"ytick_4\">\n     <g id=\"line2d_11\">\n      <g>\n       <use xlink:href=\"#maed70bae87\" x=\"26.925\" y=\"69.894112\" style=\"stroke: #000000; stroke-width: 0.8\"/>\n      </g>\n     </g>\n     <g id=\"text_12\">\n      <!-- 6 -->\n      <g transform=\"translate(13.5625 73.693331) scale(0.1 -0.1)\">\n       <defs>\n        <path id=\"DejaVuSans-36\" d=\"M 2113 2584 \nQ 1688 2584 1439 2293 \nQ 1191 2003 1191 1497 \nQ 1191 994 1439 701 \nQ 1688 409 2113 409 \nQ 2538 409 2786 701 \nQ 3034 994 3034 1497 \nQ 3034 2003 2786 2293 \nQ 2538 2584 2113 2584 \nz\nM 3366 4563 \nL 3366 3988 \nQ 3128 4100 2886 4159 \nQ 2644 4219 2406 4219 \nQ 1781 4219 1451 3797 \nQ 1122 3375 1075 2522 \nQ 1259 2794 1537 2939 \nQ 1816 3084 2150 3084 \nQ 2853 3084 3261 2657 \nQ 3669 2231 3669 1497 \nQ 3669 778 3244 343 \nQ 2819 -91 2113 -91 \nQ 1303 -91 875 529 \nQ 447 1150 447 2328 \nQ 447 3434 972 4092 \nQ 1497 4750 2381 4750 \nQ 2619 4750 2861 4703 \nQ 3103 4656 3366 4563 \nz\n\" transform=\"scale(0.015625)\"/>\n       </defs>\n       <use xlink:href=\"#DejaVuSans-36\"/>\n      </g>\n     </g>\n    </g>\n    <g id=\"ytick_5\">\n     <g id=\"line2d_12\">\n      <g>\n       <use xlink:href=\"#maed70bae87\" x=\"26.925\" y=\"46.464178\" style=\"stroke: #000000; stroke-width: 0.8\"/>\n      </g>\n     </g>\n     <g id=\"text_13\">\n      <!-- 8 -->\n      <g transform=\"translate(13.5625 50.263396) scale(0.1 -0.1)\">\n       <defs>\n        <path id=\"DejaVuSans-38\" d=\"M 2034 2216 \nQ 1584 2216 1326 1975 \nQ 1069 1734 1069 1313 \nQ 1069 891 1326 650 \nQ 1584 409 2034 409 \nQ 2484 409 2743 651 \nQ 3003 894 3003 1313 \nQ 3003 1734 2745 1975 \nQ 2488 2216 2034 2216 \nz\nM 1403 2484 \nQ 997 2584 770 2862 \nQ 544 3141 544 3541 \nQ 544 4100 942 4425 \nQ 1341 4750 2034 4750 \nQ 2731 4750 3128 4425 \nQ 3525 4100 3525 3541 \nQ 3525 3141 3298 2862 \nQ 3072 2584 2669 2484 \nQ 3125 2378 3379 2068 \nQ 3634 1759 3634 1313 \nQ 3634 634 3220 271 \nQ 2806 -91 2034 -91 \nQ 1263 -91 848 271 \nQ 434 634 434 1313 \nQ 434 1759 690 2068 \nQ 947 2378 1403 2484 \nz\nM 1172 3481 \nQ 1172 3119 1398 2916 \nQ 1625 2713 2034 2713 \nQ 2441 2713 2670 2916 \nQ 2900 3119 2900 3481 \nQ 2900 3844 2670 4047 \nQ 2441 4250 2034 4250 \nQ 1625 4250 1398 4047 \nQ 1172 3844 1172 3481 \nz\n\" transform=\"scale(0.015625)\"/>\n       </defs>\n       <use xlink:href=\"#DejaVuSans-38\"/>\n      </g>\n     </g>\n    </g>\n    <g id=\"ytick_6\">\n     <g id=\"line2d_13\">\n      <g>\n       <use xlink:href=\"#maed70bae87\" x=\"26.925\" y=\"23.034243\" style=\"stroke: #000000; stroke-width: 0.8\"/>\n      </g>\n     </g>\n     <g id=\"text_14\">\n      <!-- 10 -->\n      <g transform=\"translate(7.2 26.833462) scale(0.1 -0.1)\">\n       <use xlink:href=\"#DejaVuSans-31\"/>\n       <use xlink:href=\"#DejaVuSans-30\" x=\"63.623047\"/>\n      </g>\n     </g>\n    </g>\n   </g>\n   <g id=\"line2d_14\">\n    <path d=\"M 42.182813 13.5 \n\" clip-path=\"url(#pc405f770c3)\" style=\"fill: none; stroke: #1f77b4; stroke-width: 1.5; stroke-linecap: square\"/>\n   </g>\n   <g id=\"line2d_15\">\n    <path d=\"M 42.182813 13.5 \nL 74.732812 92.922826 \n\" clip-path=\"url(#pc405f770c3)\" style=\"fill: none; stroke: #1f77b4; stroke-width: 1.5; stroke-linecap: square\"/>\n   </g>\n   <g id=\"line2d_16\">\n    <path d=\"M 42.182813 13.5 \nL 74.732812 92.922826 \n\" clip-path=\"url(#pc405f770c3)\" style=\"fill: none; stroke: #1f77b4; stroke-width: 1.5; stroke-linecap: square\"/>\n   </g>\n   <g id=\"line2d_17\">\n    <path d=\"M 92.025 109.923182 \n\" clip-path=\"url(#pc405f770c3)\" style=\"fill: none; stroke-dasharray: 5.55,2.4; stroke-dashoffset: 0; stroke: #ff7f0e; stroke-width: 1.5\"/>\n   </g>\n   <g id=\"line2d_18\">\n    <path d=\"M 42.182813 13.5 \nL 74.732812 92.922826 \nL 107.282813 120.85509 \n\" clip-path=\"url(#pc405f770c3)\" style=\"fill: none; stroke: #1f77b4; stroke-width: 1.5; stroke-linecap: square\"/>\n   </g>\n   <g id=\"line2d_19\">\n    <path d=\"M 92.025 109.923182 \n\" clip-path=\"url(#pc405f770c3)\" style=\"fill: none; stroke-dasharray: 5.55,2.4; stroke-dashoffset: 0; stroke: #ff7f0e; stroke-width: 1.5\"/>\n   </g>\n   <g id=\"line2d_20\">\n    <path d=\"M 42.182813 13.5 \nL 74.732812 92.922826 \nL 107.282813 120.85509 \nL 139.832812 131.949357 \n\" clip-path=\"url(#pc405f770c3)\" style=\"fill: none; stroke: #1f77b4; stroke-width: 1.5; stroke-linecap: square\"/>\n   </g>\n   <g id=\"line2d_21\">\n    <path d=\"M 92.025 109.923182 \n\" clip-path=\"url(#pc405f770c3)\" style=\"fill: none; stroke-dasharray: 5.55,2.4; stroke-dashoffset: 0; stroke: #ff7f0e; stroke-width: 1.5\"/>\n   </g>\n   <g id=\"line2d_22\">\n    <path d=\"M 42.182813 13.5 \nL 74.732812 92.922826 \nL 107.282813 120.85509 \nL 139.832812 131.949357 \n\" clip-path=\"url(#pc405f770c3)\" style=\"fill: none; stroke: #1f77b4; stroke-width: 1.5; stroke-linecap: square\"/>\n   </g>\n   <g id=\"line2d_23\">\n    <path d=\"M 92.025 109.923182 \nL 157.125 135.682561 \n\" clip-path=\"url(#pc405f770c3)\" style=\"fill: none; stroke-dasharray: 5.55,2.4; stroke-dashoffset: 0; stroke: #ff7f0e; stroke-width: 1.5\"/>\n   </g>\n   <g id=\"line2d_24\">\n    <path d=\"M 42.182813 13.5 \nL 74.732812 92.922826 \nL 107.282813 120.85509 \nL 139.832812 131.949357 \nL 172.382812 137.218546 \n\" clip-path=\"url(#pc405f770c3)\" style=\"fill: none; stroke: #1f77b4; stroke-width: 1.5; stroke-linecap: square\"/>\n   </g>\n   <g id=\"line2d_25\">\n    <path d=\"M 92.025 109.923182 \nL 157.125 135.682561 \n\" clip-path=\"url(#pc405f770c3)\" style=\"fill: none; stroke-dasharray: 5.55,2.4; stroke-dashoffset: 0; stroke: #ff7f0e; stroke-width: 1.5\"/>\n   </g>\n   <g id=\"line2d_26\">\n    <path d=\"M 42.182813 13.5 \nL 74.732812 92.922826 \nL 107.282813 120.85509 \nL 139.832812 131.949357 \nL 172.382812 137.218546 \nL 204.932812 139.058434 \n\" clip-path=\"url(#pc405f770c3)\" style=\"fill: none; stroke: #1f77b4; stroke-width: 1.5; stroke-linecap: square\"/>\n   </g>\n   <g id=\"line2d_27\">\n    <path d=\"M 92.025 109.923182 \nL 157.125 135.682561 \n\" clip-path=\"url(#pc405f770c3)\" style=\"fill: none; stroke-dasharray: 5.55,2.4; stroke-dashoffset: 0; stroke: #ff7f0e; stroke-width: 1.5\"/>\n   </g>\n   <g id=\"line2d_28\">\n    <path d=\"M 42.182813 13.5 \nL 74.732812 92.922826 \nL 107.282813 120.85509 \nL 139.832812 131.949357 \nL 172.382812 137.218546 \nL 204.932812 139.058434 \n\" clip-path=\"url(#pc405f770c3)\" style=\"fill: none; stroke: #1f77b4; stroke-width: 1.5; stroke-linecap: square\"/>\n   </g>\n   <g id=\"line2d_29\">\n    <path d=\"M 92.025 109.923182 \nL 157.125 135.682561 \nL 222.225 139.5 \n\" clip-path=\"url(#pc405f770c3)\" style=\"fill: none; stroke-dasharray: 5.55,2.4; stroke-dashoffset: 0; stroke: #ff7f0e; stroke-width: 1.5\"/>\n   </g>\n   <g id=\"patch_3\">\n    <path d=\"M 26.925 145.8 \nL 26.925 7.2 \n\" style=\"fill: none; stroke: #000000; stroke-width: 0.8; stroke-linejoin: miter; stroke-linecap: square\"/>\n   </g>\n   <g id=\"patch_4\">\n    <path d=\"M 222.225 145.8 \nL 222.225 7.2 \n\" style=\"fill: none; stroke: #000000; stroke-width: 0.8; stroke-linejoin: miter; stroke-linecap: square\"/>\n   </g>\n   <g id=\"patch_5\">\n    <path d=\"M 26.925 145.8 \nL 222.225 145.8 \n\" style=\"fill: none; stroke: #000000; stroke-width: 0.8; stroke-linejoin: miter; stroke-linecap: square\"/>\n   </g>\n   <g id=\"patch_6\">\n    <path d=\"M 26.925 7.2 \nL 222.225 7.2 \n\" style=\"fill: none; stroke: #000000; stroke-width: 0.8; stroke-linejoin: miter; stroke-linecap: square\"/>\n   </g>\n   <g id=\"legend_1\">\n    <g id=\"patch_7\">\n     <path d=\"M 135.634375 45.1125 \nL 215.225 45.1125 \nQ 217.225 45.1125 217.225 43.1125 \nL 217.225 14.2 \nQ 217.225 12.2 215.225 12.2 \nL 135.634375 12.2 \nQ 133.634375 12.2 133.634375 14.2 \nL 133.634375 43.1125 \nQ 133.634375 45.1125 135.634375 45.1125 \nz\n\" style=\"fill: #ffffff; opacity: 0.8; stroke: #cccccc; stroke-linejoin: miter\"/>\n    </g>\n    <g id=\"line2d_30\">\n     <path d=\"M 137.634375 20.298438 \nL 147.634375 20.298438 \nL 157.634375 20.298438 \n\" style=\"fill: none; stroke: #1f77b4; stroke-width: 1.5; stroke-linecap: square\"/>\n    </g>\n    <g id=\"text_15\">\n     <!-- train_loss -->\n     <g transform=\"translate(165.634375 23.798438) scale(0.1 -0.1)\">\n      <defs>\n       <path id=\"DejaVuSans-74\" d=\"M 1172 4494 \nL 1172 3500 \nL 2356 3500 \nL 2356 3053 \nL 1172 3053 \nL 1172 1153 \nQ 1172 725 1289 603 \nQ 1406 481 1766 481 \nL 2356 481 \nL 2356 0 \nL 1766 0 \nQ 1100 0 847 248 \nQ 594 497 594 1153 \nL 594 3053 \nL 172 3053 \nL 172 3500 \nL 594 3500 \nL 594 4494 \nL 1172 4494 \nz\n\" transform=\"scale(0.015625)\"/>\n       <path id=\"DejaVuSans-72\" d=\"M 2631 2963 \nQ 2534 3019 2420 3045 \nQ 2306 3072 2169 3072 \nQ 1681 3072 1420 2755 \nQ 1159 2438 1159 1844 \nL 1159 0 \nL 581 0 \nL 581 3500 \nL 1159 3500 \nL 1159 2956 \nQ 1341 3275 1631 3429 \nQ 1922 3584 2338 3584 \nQ 2397 3584 2469 3576 \nQ 2541 3569 2628 3553 \nL 2631 2963 \nz\n\" transform=\"scale(0.015625)\"/>\n       <path id=\"DejaVuSans-61\" d=\"M 2194 1759 \nQ 1497 1759 1228 1600 \nQ 959 1441 959 1056 \nQ 959 750 1161 570 \nQ 1363 391 1709 391 \nQ 2188 391 2477 730 \nQ 2766 1069 2766 1631 \nL 2766 1759 \nL 2194 1759 \nz\nM 3341 1997 \nL 3341 0 \nL 2766 0 \nL 2766 531 \nQ 2569 213 2275 61 \nQ 1981 -91 1556 -91 \nQ 1019 -91 701 211 \nQ 384 513 384 1019 \nQ 384 1609 779 1909 \nQ 1175 2209 1959 2209 \nL 2766 2209 \nL 2766 2266 \nQ 2766 2663 2505 2880 \nQ 2244 3097 1772 3097 \nQ 1472 3097 1187 3025 \nQ 903 2953 641 2809 \nL 641 3341 \nQ 956 3463 1253 3523 \nQ 1550 3584 1831 3584 \nQ 2591 3584 2966 3190 \nQ 3341 2797 3341 1997 \nz\n\" transform=\"scale(0.015625)\"/>\n       <path id=\"DejaVuSans-69\" d=\"M 603 3500 \nL 1178 3500 \nL 1178 0 \nL 603 0 \nL 603 3500 \nz\nM 603 4863 \nL 1178 4863 \nL 1178 4134 \nL 603 4134 \nL 603 4863 \nz\n\" transform=\"scale(0.015625)\"/>\n       <path id=\"DejaVuSans-6e\" d=\"M 3513 2113 \nL 3513 0 \nL 2938 0 \nL 2938 2094 \nQ 2938 2591 2744 2837 \nQ 2550 3084 2163 3084 \nQ 1697 3084 1428 2787 \nQ 1159 2491 1159 1978 \nL 1159 0 \nL 581 0 \nL 581 3500 \nL 1159 3500 \nL 1159 2956 \nQ 1366 3272 1645 3428 \nQ 1925 3584 2291 3584 \nQ 2894 3584 3203 3211 \nQ 3513 2838 3513 2113 \nz\n\" transform=\"scale(0.015625)\"/>\n       <path id=\"DejaVuSans-5f\" d=\"M 3263 -1063 \nL 3263 -1509 \nL -63 -1509 \nL -63 -1063 \nL 3263 -1063 \nz\n\" transform=\"scale(0.015625)\"/>\n       <path id=\"DejaVuSans-6c\" d=\"M 603 4863 \nL 1178 4863 \nL 1178 0 \nL 603 0 \nL 603 4863 \nz\n\" transform=\"scale(0.015625)\"/>\n       <path id=\"DejaVuSans-73\" d=\"M 2834 3397 \nL 2834 2853 \nQ 2591 2978 2328 3040 \nQ 2066 3103 1784 3103 \nQ 1356 3103 1142 2972 \nQ 928 2841 928 2578 \nQ 928 2378 1081 2264 \nQ 1234 2150 1697 2047 \nL 1894 2003 \nQ 2506 1872 2764 1633 \nQ 3022 1394 3022 966 \nQ 3022 478 2636 193 \nQ 2250 -91 1575 -91 \nQ 1294 -91 989 -36 \nQ 684 19 347 128 \nL 347 722 \nQ 666 556 975 473 \nQ 1284 391 1588 391 \nQ 1994 391 2212 530 \nQ 2431 669 2431 922 \nQ 2431 1156 2273 1281 \nQ 2116 1406 1581 1522 \nL 1381 1569 \nQ 847 1681 609 1914 \nQ 372 2147 372 2553 \nQ 372 3047 722 3315 \nQ 1072 3584 1716 3584 \nQ 2034 3584 2315 3537 \nQ 2597 3491 2834 3397 \nz\n\" transform=\"scale(0.015625)\"/>\n      </defs>\n      <use xlink:href=\"#DejaVuSans-74\"/>\n      <use xlink:href=\"#DejaVuSans-72\" x=\"39.208984\"/>\n      <use xlink:href=\"#DejaVuSans-61\" x=\"80.322266\"/>\n      <use xlink:href=\"#DejaVuSans-69\" x=\"141.601562\"/>\n      <use xlink:href=\"#DejaVuSans-6e\" x=\"169.384766\"/>\n      <use xlink:href=\"#DejaVuSans-5f\" x=\"232.763672\"/>\n      <use xlink:href=\"#DejaVuSans-6c\" x=\"282.763672\"/>\n      <use xlink:href=\"#DejaVuSans-6f\" x=\"310.546875\"/>\n      <use xlink:href=\"#DejaVuSans-73\" x=\"371.728516\"/>\n      <use xlink:href=\"#DejaVuSans-73\" x=\"423.828125\"/>\n     </g>\n    </g>\n    <g id=\"line2d_31\">\n     <path d=\"M 137.634375 35.254688 \nL 147.634375 35.254688 \nL 157.634375 35.254688 \n\" style=\"fill: none; stroke-dasharray: 5.55,2.4; stroke-dashoffset: 0; stroke: #ff7f0e; stroke-width: 1.5\"/>\n    </g>\n    <g id=\"text_16\">\n     <!-- val_loss -->\n     <g transform=\"translate(165.634375 38.754688) scale(0.1 -0.1)\">\n      <defs>\n       <path id=\"DejaVuSans-76\" d=\"M 191 3500 \nL 800 3500 \nL 1894 563 \nL 2988 3500 \nL 3597 3500 \nL 2284 0 \nL 1503 0 \nL 191 3500 \nz\n\" transform=\"scale(0.015625)\"/>\n      </defs>\n      <use xlink:href=\"#DejaVuSans-76\"/>\n      <use xlink:href=\"#DejaVuSans-61\" x=\"59.179688\"/>\n      <use xlink:href=\"#DejaVuSans-6c\" x=\"120.458984\"/>\n      <use xlink:href=\"#DejaVuSans-5f\" x=\"148.242188\"/>\n      <use xlink:href=\"#DejaVuSans-6c\" x=\"198.242188\"/>\n      <use xlink:href=\"#DejaVuSans-6f\" x=\"226.025391\"/>\n      <use xlink:href=\"#DejaVuSans-73\" x=\"287.207031\"/>\n      <use xlink:href=\"#DejaVuSans-73\" x=\"339.306641\"/>\n     </g>\n    </g>\n   </g>\n  </g>\n </g>\n <defs>\n  <clipPath id=\"pc405f770c3\">\n   <rect x=\"26.925\" y=\"7.2\" width=\"195.3\" height=\"138.6\"/>\n  </clipPath>\n </defs>\n</svg>\n"
          },
          "metadata": {}
        }
      ]
    },
    {
      "cell_type": "code",
      "source": [
        "with torch.no_grad():\n",
        "    print(f'error in estimating w: {data.w - model.w.reshape(data.w.shape)}')\n",
        "    print(f'error in estimating b: {data.b - model.b}')"
      ],
      "metadata": {
        "colab": {
          "base_uri": "https://localhost:8080/"
        },
        "id": "76flMLtf1PvA",
        "outputId": "d5bf7f69-acc8-4907-d8e7-0503b0bcc509"
      },
      "execution_count": null,
      "outputs": [
        {
          "output_type": "stream",
          "name": "stdout",
          "text": [
            "error in estimating w: tensor([ 0.1403, -0.2150])\n",
            "error in estimating b: tensor([0.2295])\n"
          ]
        }
      ]
    },
    {
      "cell_type": "markdown",
      "source": [
        "## exercise"
      ],
      "metadata": {
        "id": "M8LN3f0y2kBu"
      }
    },
    {
      "cell_type": "markdown",
      "source": [
        "number 1. If we initialize weights to zero, or initialize the parameter with variance 1000, it will take much longer time to converge, but still work.\n",
        "\n",
        "number 4. If we tend to use second derivative, too much computation may occur. According to research, approximation of those derivatives might help. Ex) Gauss-Newton approximation, limited-memory quasi-Newton method"
      ],
      "metadata": {
        "id": "_E3-QVsy2lyL"
      }
    },
    {
      "cell_type": "markdown",
      "source": [
        "# 4.2"
      ],
      "metadata": {
        "id": "e3gMKNCC2hL-"
      }
    },
    {
      "cell_type": "markdown",
      "source": [
        "## code"
      ],
      "metadata": {
        "id": "a0K9Eojr2mjE"
      }
    },
    {
      "cell_type": "code",
      "source": [
        "%matplotlib inline\n",
        "import time\n",
        "import torch\n",
        "import torchvision\n",
        "from torchvision import transforms\n",
        "from d2l import torch as d2l\n",
        "\n",
        "d2l.use_svg_display()"
      ],
      "metadata": {
        "id": "stIxQhCy2Ct7"
      },
      "execution_count": null,
      "outputs": []
    },
    {
      "cell_type": "code",
      "source": [
        "class FashionMNIST(d2l.DataModule):\n",
        "    def __init__(self, batch_size=64, resize=(28, 28)):\n",
        "        super().__init__()\n",
        "        self.save_hyperparameters()\n",
        "        trans = transforms.Compose([transforms.Resize(resize),\n",
        "                                    transforms.ToTensor()])\n",
        "        self.train = torchvision.datasets.FashionMNIST(\n",
        "            root=self.root, train=True, transform=trans, download=True)\n",
        "        self.val = torchvision.datasets.FashionMNIST(\n",
        "            root=self.root, train=False, transform=trans, download=True)"
      ],
      "metadata": {
        "id": "wXcClcAa2oAZ"
      },
      "execution_count": null,
      "outputs": []
    },
    {
      "cell_type": "code",
      "source": [
        "data = FashionMNIST(resize=(32, 32))\n",
        "len(data.train), len(data.val)"
      ],
      "metadata": {
        "id": "C9kf6Fqb2oxU"
      },
      "execution_count": null,
      "outputs": []
    },
    {
      "cell_type": "code",
      "source": [
        "data.train[0][0].shape"
      ],
      "metadata": {
        "colab": {
          "base_uri": "https://localhost:8080/"
        },
        "id": "pv-j_GBp2qGM",
        "outputId": "e1ac760c-a7b0-4f27-ef01-8fddcad3e2ed"
      },
      "execution_count": null,
      "outputs": [
        {
          "output_type": "execute_result",
          "data": {
            "text/plain": [
              "torch.Size([1, 32, 32])"
            ]
          },
          "metadata": {},
          "execution_count": 170
        }
      ]
    },
    {
      "cell_type": "code",
      "source": [
        "@d2l.add_to_class(FashionMNIST)\n",
        "def text_labels(self, indices):\n",
        "    labels = ['t-shirt', 'trouser', 'pullover', 'dress', 'coat',\n",
        "              'sandal', 'shirt', 'sneaker', 'bag', 'ankle boot']\n",
        "    return [labels[int(i)] for i in indices]"
      ],
      "metadata": {
        "id": "XVWY3ktM2r6X"
      },
      "execution_count": null,
      "outputs": []
    },
    {
      "cell_type": "code",
      "source": [
        "@d2l.add_to_class(FashionMNIST)\n",
        "def get_dataloader(self, train):\n",
        "    data = self.train if train else self.val\n",
        "    return torch.utils.data.DataLoader(data, self.batch_size, shuffle=train,\n",
        "                                       num_workers=self.num_workers)"
      ],
      "metadata": {
        "id": "tOMhgRBA2uca"
      },
      "execution_count": null,
      "outputs": []
    },
    {
      "cell_type": "code",
      "source": [
        "X, y = next(iter(data.train_dataloader()))\n",
        "print(X.shape, X.dtype, y.shape, y.dtype)"
      ],
      "metadata": {
        "colab": {
          "base_uri": "https://localhost:8080/"
        },
        "id": "xIGg3b2Z2v8K",
        "outputId": "6fc87106-13bd-40af-c268-b0b54714d065"
      },
      "execution_count": null,
      "outputs": [
        {
          "output_type": "stream",
          "name": "stderr",
          "text": [
            "/usr/local/lib/python3.10/dist-packages/torch/utils/data/dataloader.py:557: UserWarning: This DataLoader will create 4 worker processes in total. Our suggested max number of worker in current system is 2, which is smaller than what this DataLoader is going to create. Please be aware that excessive worker creation might get DataLoader running slow or even freeze, lower the worker number to avoid potential slowness/freeze if necessary.\n",
            "  warnings.warn(_create_warning_msg(\n"
          ]
        },
        {
          "output_type": "stream",
          "name": "stdout",
          "text": [
            "torch.Size([64, 1, 32, 32]) torch.float32 torch.Size([64]) torch.int64\n"
          ]
        }
      ]
    },
    {
      "cell_type": "code",
      "source": [
        "tic = time.time()\n",
        "for X, y in data.train_dataloader():\n",
        "    continue\n",
        "f'{time.time() - tic:.2f} sec'"
      ],
      "metadata": {
        "colab": {
          "base_uri": "https://localhost:8080/",
          "height": 35
        },
        "id": "TacOv3ai2w6v",
        "outputId": "aec2a930-5dc7-4594-cda9-55bef43414bd"
      },
      "execution_count": null,
      "outputs": [
        {
          "output_type": "execute_result",
          "data": {
            "text/plain": [
              "'17.40 sec'"
            ],
            "application/vnd.google.colaboratory.intrinsic+json": {
              "type": "string"
            }
          },
          "metadata": {},
          "execution_count": 174
        }
      ]
    },
    {
      "cell_type": "code",
      "source": [
        "def show_images(imgs, num_rows, num_cols, titles=None, scale=1.5):\n",
        "    raise NotImplementedError"
      ],
      "metadata": {
        "id": "FFnTkS5l2x-X"
      },
      "execution_count": null,
      "outputs": []
    },
    {
      "cell_type": "code",
      "source": [
        "@d2l.add_to_class(FashionMNIST)\n",
        "def visualize(self, batch, nrows=1, ncols=8, labels=[]):\n",
        "    X, y = batch\n",
        "    if not labels:\n",
        "        labels = self.text_labels(y)\n",
        "    d2l.show_images(X.squeeze(1), nrows, ncols, titles=labels)\n",
        "batch = next(iter(data.val_dataloader()))\n",
        "data.visualize(batch)"
      ],
      "metadata": {
        "colab": {
          "base_uri": "https://localhost:8080/",
          "height": 154
        },
        "id": "KSuiM9XZ2zml",
        "outputId": "acd19233-58cd-450c-d48c-29411b57ff9c"
      },
      "execution_count": null,
      "outputs": [
        {
          "output_type": "display_data",
          "data": {
            "text/plain": [
              "<Figure size 1200x150 with 8 Axes>"
            ],
            "image/svg+xml": "<?xml version=\"1.0\" encoding=\"utf-8\" standalone=\"no\"?>\n<!DOCTYPE svg PUBLIC \"-//W3C//DTD SVG 1.1//EN\"\n  \"http://www.w3.org/Graphics/SVG/1.1/DTD/svg11.dtd\">\n<svg xmlns:xlink=\"http://www.w3.org/1999/xlink\" width=\"684pt\" height=\"100.752168pt\" viewBox=\"0 0 684 100.752168\" xmlns=\"http://www.w3.org/2000/svg\" version=\"1.1\">\n <metadata>\n  <rdf:RDF xmlns:dc=\"http://purl.org/dc/elements/1.1/\" xmlns:cc=\"http://creativecommons.org/ns#\" xmlns:rdf=\"http://www.w3.org/1999/02/22-rdf-syntax-ns#\">\n   <cc:Work>\n    <dc:type rdf:resource=\"http://purl.org/dc/dcmitype/StillImage\"/>\n    <dc:date>2024-09-23T17:08:45.895937</dc:date>\n    <dc:format>image/svg+xml</dc:format>\n    <dc:creator>\n     <cc:Agent>\n      <dc:title>Matplotlib v3.7.2, https://matplotlib.org/</dc:title>\n     </cc:Agent>\n    </dc:creator>\n   </cc:Work>\n  </rdf:RDF>\n </metadata>\n <defs>\n  <style type=\"text/css\">*{stroke-linejoin: round; stroke-linecap: butt}</style>\n </defs>\n <g id=\"figure_1\">\n  <g id=\"patch_1\">\n   <path d=\"M 0 100.752168 \nL 684 100.752168 \nL 684 0 \nL 0 0 \nz\n\" style=\"fill: #ffffff\"/>\n  </g>\n  <g id=\"axes_1\">\n   <g id=\"patch_2\">\n    <path d=\"M 7.2 93.552168 \nL 78.434043 93.552168 \nL 78.434043 22.318125 \nL 7.2 22.318125 \nz\n\" style=\"fill: #ffffff\"/>\n   </g>\n   <g clip-path=\"url(#pd862fe37e8)\">\n    <image xlink:href=\"data:image/png;base64,\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\" id=\"imagede38d31661\" transform=\"scale(1 -1) translate(0 -71.28)\" x=\"7.2\" y=\"-22.272168\" width=\"71.28\" height=\"71.28\"/>\n   </g>\n   <g id=\"patch_3\">\n    <path d=\"M 7.2 93.552168 \nL 7.2 22.318125 \n\" style=\"fill: none; stroke: #000000; stroke-width: 0.8; stroke-linejoin: miter; stroke-linecap: square\"/>\n   </g>\n   <g id=\"patch_4\">\n    <path d=\"M 78.434043 93.552168 \nL 78.434043 22.318125 \n\" style=\"fill: none; stroke: #000000; stroke-width: 0.8; stroke-linejoin: miter; stroke-linecap: square\"/>\n   </g>\n   <g id=\"patch_5\">\n    <path d=\"M 7.2 93.552168 \nL 78.434043 93.552168 \n\" style=\"fill: none; stroke: #000000; stroke-width: 0.8; stroke-linejoin: miter; stroke-linecap: square\"/>\n   </g>\n   <g id=\"patch_6\">\n    <path d=\"M 7.2 22.318125 \nL 78.434043 22.318125 \n\" style=\"fill: none; stroke: #000000; stroke-width: 0.8; stroke-linejoin: miter; stroke-linecap: square\"/>\n   </g>\n   <g id=\"text_1\">\n    <!-- ankle boot -->\n    <g transform=\"translate(11.093896 16.318125) scale(0.12 -0.12)\">\n     <defs>\n      <path id=\"DejaVuSans-61\" d=\"M 2194 1759 \nQ 1497 1759 1228 1600 \nQ 959 1441 959 1056 \nQ 959 750 1161 570 \nQ 1363 391 1709 391 \nQ 2188 391 2477 730 \nQ 2766 1069 2766 1631 \nL 2766 1759 \nL 2194 1759 \nz\nM 3341 1997 \nL 3341 0 \nL 2766 0 \nL 2766 531 \nQ 2569 213 2275 61 \nQ 1981 -91 1556 -91 \nQ 1019 -91 701 211 \nQ 384 513 384 1019 \nQ 384 1609 779 1909 \nQ 1175 2209 1959 2209 \nL 2766 2209 \nL 2766 2266 \nQ 2766 2663 2505 2880 \nQ 2244 3097 1772 3097 \nQ 1472 3097 1187 3025 \nQ 903 2953 641 2809 \nL 641 3341 \nQ 956 3463 1253 3523 \nQ 1550 3584 1831 3584 \nQ 2591 3584 2966 3190 \nQ 3341 2797 3341 1997 \nz\n\" transform=\"scale(0.015625)\"/>\n      <path id=\"DejaVuSans-6e\" d=\"M 3513 2113 \nL 3513 0 \nL 2938 0 \nL 2938 2094 \nQ 2938 2591 2744 2837 \nQ 2550 3084 2163 3084 \nQ 1697 3084 1428 2787 \nQ 1159 2491 1159 1978 \nL 1159 0 \nL 581 0 \nL 581 3500 \nL 1159 3500 \nL 1159 2956 \nQ 1366 3272 1645 3428 \nQ 1925 3584 2291 3584 \nQ 2894 3584 3203 3211 \nQ 3513 2838 3513 2113 \nz\n\" transform=\"scale(0.015625)\"/>\n      <path id=\"DejaVuSans-6b\" d=\"M 581 4863 \nL 1159 4863 \nL 1159 1991 \nL 2875 3500 \nL 3609 3500 \nL 1753 1863 \nL 3688 0 \nL 2938 0 \nL 1159 1709 \nL 1159 0 \nL 581 0 \nL 581 4863 \nz\n\" transform=\"scale(0.015625)\"/>\n      <path id=\"DejaVuSans-6c\" d=\"M 603 4863 \nL 1178 4863 \nL 1178 0 \nL 603 0 \nL 603 4863 \nz\n\" transform=\"scale(0.015625)\"/>\n      <path id=\"DejaVuSans-65\" d=\"M 3597 1894 \nL 3597 1613 \nL 953 1613 \nQ 991 1019 1311 708 \nQ 1631 397 2203 397 \nQ 2534 397 2845 478 \nQ 3156 559 3463 722 \nL 3463 178 \nQ 3153 47 2828 -22 \nQ 2503 -91 2169 -91 \nQ 1331 -91 842 396 \nQ 353 884 353 1716 \nQ 353 2575 817 3079 \nQ 1281 3584 2069 3584 \nQ 2775 3584 3186 3129 \nQ 3597 2675 3597 1894 \nz\nM 3022 2063 \nQ 3016 2534 2758 2815 \nQ 2500 3097 2075 3097 \nQ 1594 3097 1305 2825 \nQ 1016 2553 972 2059 \nL 3022 2063 \nz\n\" transform=\"scale(0.015625)\"/>\n      <path id=\"DejaVuSans-20\" transform=\"scale(0.015625)\"/>\n      <path id=\"DejaVuSans-62\" d=\"M 3116 1747 \nQ 3116 2381 2855 2742 \nQ 2594 3103 2138 3103 \nQ 1681 3103 1420 2742 \nQ 1159 2381 1159 1747 \nQ 1159 1113 1420 752 \nQ 1681 391 2138 391 \nQ 2594 391 2855 752 \nQ 3116 1113 3116 1747 \nz\nM 1159 2969 \nQ 1341 3281 1617 3432 \nQ 1894 3584 2278 3584 \nQ 2916 3584 3314 3078 \nQ 3713 2572 3713 1747 \nQ 3713 922 3314 415 \nQ 2916 -91 2278 -91 \nQ 1894 -91 1617 61 \nQ 1341 213 1159 525 \nL 1159 0 \nL 581 0 \nL 581 4863 \nL 1159 4863 \nL 1159 2969 \nz\n\" transform=\"scale(0.015625)\"/>\n      <path id=\"DejaVuSans-6f\" d=\"M 1959 3097 \nQ 1497 3097 1228 2736 \nQ 959 2375 959 1747 \nQ 959 1119 1226 758 \nQ 1494 397 1959 397 \nQ 2419 397 2687 759 \nQ 2956 1122 2956 1747 \nQ 2956 2369 2687 2733 \nQ 2419 3097 1959 3097 \nz\nM 1959 3584 \nQ 2709 3584 3137 3096 \nQ 3566 2609 3566 1747 \nQ 3566 888 3137 398 \nQ 2709 -91 1959 -91 \nQ 1206 -91 779 398 \nQ 353 888 353 1747 \nQ 353 2609 779 3096 \nQ 1206 3584 1959 3584 \nz\n\" transform=\"scale(0.015625)\"/>\n      <path id=\"DejaVuSans-74\" d=\"M 1172 4494 \nL 1172 3500 \nL 2356 3500 \nL 2356 3053 \nL 1172 3053 \nL 1172 1153 \nQ 1172 725 1289 603 \nQ 1406 481 1766 481 \nL 2356 481 \nL 2356 0 \nL 1766 0 \nQ 1100 0 847 248 \nQ 594 497 594 1153 \nL 594 3053 \nL 172 3053 \nL 172 3500 \nL 594 3500 \nL 594 4494 \nL 1172 4494 \nz\n\" transform=\"scale(0.015625)\"/>\n     </defs>\n     <use xlink:href=\"#DejaVuSans-61\"/>\n     <use xlink:href=\"#DejaVuSans-6e\" x=\"61.279297\"/>\n     <use xlink:href=\"#DejaVuSans-6b\" x=\"124.658203\"/>\n     <use xlink:href=\"#DejaVuSans-6c\" x=\"182.568359\"/>\n     <use xlink:href=\"#DejaVuSans-65\" x=\"210.351562\"/>\n     <use xlink:href=\"#DejaVuSans-20\" x=\"271.875\"/>\n     <use xlink:href=\"#DejaVuSans-62\" x=\"303.662109\"/>\n     <use xlink:href=\"#DejaVuSans-6f\" x=\"367.138672\"/>\n     <use xlink:href=\"#DejaVuSans-6f\" x=\"428.320312\"/>\n     <use xlink:href=\"#DejaVuSans-74\" x=\"489.501953\"/>\n    </g>\n   </g>\n  </g>\n  <g id=\"axes_2\">\n   <g id=\"patch_7\">\n    <path d=\"M 92.680851 93.552168 \nL 163.914894 93.552168 \nL 163.914894 22.318125 \nL 92.680851 22.318125 \nz\n\" style=\"fill: #ffffff\"/>\n   </g>\n   <g clip-path=\"url(#pe1ea083c6a)\">\n    <image xlink:href=\"data:image/png;base64,\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\" id=\"image2c18980d90\" transform=\"scale(1 -1) translate(0 -71.28)\" x=\"92.680851\" y=\"-22.272168\" width=\"71.28\" height=\"71.28\"/>\n   </g>\n   <g id=\"patch_8\">\n    <path d=\"M 92.680851 93.552168 \nL 92.680851 22.318125 \n\" style=\"fill: none; stroke: #000000; stroke-width: 0.8; stroke-linejoin: miter; stroke-linecap: square\"/>\n   </g>\n   <g id=\"patch_9\">\n    <path d=\"M 163.914894 93.552168 \nL 163.914894 22.318125 \n\" style=\"fill: none; stroke: #000000; stroke-width: 0.8; stroke-linejoin: miter; stroke-linecap: square\"/>\n   </g>\n   <g id=\"patch_10\">\n    <path d=\"M 92.680851 93.552168 \nL 163.914894 93.552168 \n\" style=\"fill: none; stroke: #000000; stroke-width: 0.8; stroke-linejoin: miter; stroke-linecap: square\"/>\n   </g>\n   <g id=\"patch_11\">\n    <path d=\"M 92.680851 22.318125 \nL 163.914894 22.318125 \n\" style=\"fill: none; stroke: #000000; stroke-width: 0.8; stroke-linejoin: miter; stroke-linecap: square\"/>\n   </g>\n   <g id=\"text_2\">\n    <!-- pullover -->\n    <g transform=\"translate(103.971622 16.318125) scale(0.12 -0.12)\">\n     <defs>\n      <path id=\"DejaVuSans-70\" d=\"M 1159 525 \nL 1159 -1331 \nL 581 -1331 \nL 581 3500 \nL 1159 3500 \nL 1159 2969 \nQ 1341 3281 1617 3432 \nQ 1894 3584 2278 3584 \nQ 2916 3584 3314 3078 \nQ 3713 2572 3713 1747 \nQ 3713 922 3314 415 \nQ 2916 -91 2278 -91 \nQ 1894 -91 1617 61 \nQ 1341 213 1159 525 \nz\nM 3116 1747 \nQ 3116 2381 2855 2742 \nQ 2594 3103 2138 3103 \nQ 1681 3103 1420 2742 \nQ 1159 2381 1159 1747 \nQ 1159 1113 1420 752 \nQ 1681 391 2138 391 \nQ 2594 391 2855 752 \nQ 3116 1113 3116 1747 \nz\n\" transform=\"scale(0.015625)\"/>\n      <path id=\"DejaVuSans-75\" d=\"M 544 1381 \nL 544 3500 \nL 1119 3500 \nL 1119 1403 \nQ 1119 906 1312 657 \nQ 1506 409 1894 409 \nQ 2359 409 2629 706 \nQ 2900 1003 2900 1516 \nL 2900 3500 \nL 3475 3500 \nL 3475 0 \nL 2900 0 \nL 2900 538 \nQ 2691 219 2414 64 \nQ 2138 -91 1772 -91 \nQ 1169 -91 856 284 \nQ 544 659 544 1381 \nz\nM 1991 3584 \nL 1991 3584 \nz\n\" transform=\"scale(0.015625)\"/>\n      <path id=\"DejaVuSans-76\" d=\"M 191 3500 \nL 800 3500 \nL 1894 563 \nL 2988 3500 \nL 3597 3500 \nL 2284 0 \nL 1503 0 \nL 191 3500 \nz\n\" transform=\"scale(0.015625)\"/>\n      <path id=\"DejaVuSans-72\" d=\"M 2631 2963 \nQ 2534 3019 2420 3045 \nQ 2306 3072 2169 3072 \nQ 1681 3072 1420 2755 \nQ 1159 2438 1159 1844 \nL 1159 0 \nL 581 0 \nL 581 3500 \nL 1159 3500 \nL 1159 2956 \nQ 1341 3275 1631 3429 \nQ 1922 3584 2338 3584 \nQ 2397 3584 2469 3576 \nQ 2541 3569 2628 3553 \nL 2631 2963 \nz\n\" transform=\"scale(0.015625)\"/>\n     </defs>\n     <use xlink:href=\"#DejaVuSans-70\"/>\n     <use xlink:href=\"#DejaVuSans-75\" x=\"63.476562\"/>\n     <use xlink:href=\"#DejaVuSans-6c\" x=\"126.855469\"/>\n     <use xlink:href=\"#DejaVuSans-6c\" x=\"154.638672\"/>\n     <use xlink:href=\"#DejaVuSans-6f\" x=\"182.421875\"/>\n     <use xlink:href=\"#DejaVuSans-76\" x=\"243.603516\"/>\n     <use xlink:href=\"#DejaVuSans-65\" x=\"302.783203\"/>\n     <use xlink:href=\"#DejaVuSans-72\" x=\"364.306641\"/>\n    </g>\n   </g>\n  </g>\n  <g id=\"axes_3\">\n   <g id=\"patch_12\">\n    <path d=\"M 178.161702 93.552168 \nL 249.395745 93.552168 \nL 249.395745 22.318125 \nL 178.161702 22.318125 \nz\n\" style=\"fill: #ffffff\"/>\n   </g>\n   <g clip-path=\"url(#pfa6df88b82)\">\n    <image xlink:href=\"data:image/png;base64,\niVBORw0KGgoAAAANSUhEUgAAAGMAAABjCAYAAACPO76VAAAHAklEQVR4nO1dS48UVRS+VdXvoaZ7pucJwjDAgMYgTliARkOCGnUDGzXGhYS1O3+IC6N7tyyMccHGEAwqgYVKIKIoMDDMIzMOzIOebrq7uqrcne/UWAVtzHSdxflW31Ru1a2eU/erc88595b1pvVeaIQhfPUI8funSsQ74y3i4+dzxN1vfo2e77WJByemid99H+dMHFpCH7dHiR845xG3L137z/f+f2D3tDfFU6HGEIRMz3u0LPAwXiHXnoc0ffDOT8Q/HrhK/NujLxE/Xz8ZOb/4wy3iC8eLxD967UfinwxeIf5Z9XXiF26+QnzkUvxP2C7oyBAENYYgpCBT3P4BKJOs5iCk7FQZnpJroU3JhsdUurcR6SJ48oR4B4pn9uQfER9yIF87HHhplp+ec6kjQxDUGILQe5lKQGbvHuL1CZ/4biYhtRDytdAawMnLDyPXCjsd4u0KpLDi1IlvBrjucrufeGFdZUph1BiiIEamakfGiI9PrRAv24gnrXQgORcWDxEf8v9OvG7YB8kacWrEPQM5avn4NzhtlSmFUWOIQu9lKoyf6K2+gFs589x14p6BZzXXgQdVvzxMvNpeSO6PhcJsC33zp7DoIGzeybMTegwdGYKgxhAENYYgpPDOiHcdG7vxbjjt3sDxAO3n2lXiw9eh86EH93UrnAKu22+1Ytv0ZXC8U9R3hsKoMUQh3Rk4T8Eyj7cRsBmxDTmabw8SL82sE/d9SNFW9LsN4oPMhXXtPPHR7GPcEruPXkNHhiCoMQQhVZnK7NpJ3K7CoykzaVoNECi834A35f85gwsFyTKVcaA72YQ2Ppumq0wpjDFqDFFIVaYaL44TnxxdJu7akA3HQhXI/j7kOVaCJNGJoi+H8107/ucGIZ5JK9B8hsKoMUQhVZlaOwRP6e3BOeJZVui27kOyrj6cZGfPd9VHzo73tHwWI+N5jtDS2JTCqDFEIVWZqk1CHqZLs7FtFjtl4n/NooLkYJcyZbH6XI+nfFkwzGGVIkGK/xEdGYKgxhCEVGXKGkE8aiqHSV/APJ0HHuJRhQfwvp4K2wFlMuWbZ0/orBSXm+rIEAQ1hiCkKlPlfpToDzuIITWZVGz6BeIOFiQ9FXYOcSu7C93RELriX1BjCEKqMjXcB5lyWTyqxiZnQxkUC7QGunN1LNclnrNRU+Ul1GzxxZqdQmyTnkBHhiCoMQRBzMolPiHjS7F3ZddwfKxtukHrMBZr7iv+RrzBrpu1OEeY3dclAQpj1BiioMYQBDHvDJ5qDdjSsaqNWtmp3cumGywdQx3tGfdubJsUtwhJhI4MQVBjCIIYmXJYsK7Nisp4Gf/xoXvEryZWzhrTHMUMfiyzEdvGSc+DTYSODEFQYwiCGJniCEy8hgxlNolbeVSKhK3owklrGH9X2bZGPG9hs6BhgdXz+tigrefQkSEIagxBSFWm+NZCvMDMC1Hd0WTHR7PrxMPpE8Stn3+PXPflPajbPZDFBHKZld3y7GrFwcTS26FLAhRGjSEKqcrUxhPkOHmq1WZxKp9tErk/i5VLc2/sID5xI1rcdmwAk8OyDfdovoPyEp7DyDGutbYKY4waQxRSlanNOmRqnelD1sRXku1khW4jJxaJW19G41QFCxUhaz7zlJiXVmArmpohzndamnZVGDWGKKQqU14d8rAeQLL2shgUly+H1c1+Ovkd8c+nP4xct+zcRB9dLAOQAh0ZgqDGEIRUZSq3BJm63UJIfCpzh7jHsn71AF7SuyVspT3zxcXIdd8q3Wfn4HibPXsea59l3pfGphTGGDWGKKQqUy5CSOba5gTxkyXIVI15WXx101rQJH62/EfkuvMdHoIHDyKSB55ldVrBcHf1vNsBHRmCoMYQhFRlqn8WkjCzifXelTE8Iys2igs85ujUA8SQvC0FDNwDS0KLyZdnwDP55N2jtxs6MgRBjSEIqcpUcQZflFx8jM+z8Yr0HAunc8/INny3nOgzxUPlfGMvP6Eey2fne830/iU6MgRBjSEIagxBSPWdESzh+3q1+kHiWQuan7cQ0uM1uDy3wStIjNlSU5vQd4kt1ufVIdbj7vbL3Q7oyBAENYYgpCtTDVRu+E1edwvZ4HK04WPhpMv2+3C2pFZ5roJXfkSqQ6xGbJv8anrPp44MQVBjCELvZYpvb81WD1kNSMiyD0+nwr4Y0Az5N5MgZYUwusV2O2RpVJ5qZTPtAruPBQ+fKS0tadpVYdQYopCCTHH7I4jXNwuZOrdxlPjZyi/EeQ0u327iljcU6aJqY1HloIP0bMAmh4/Y1wcurx0gXrmtaVeFUWOIgpiPs+/6HhtDfjVwkvjXh48QX12oEM9WID/hbF+kC7/IPk7iwrOybPRXcpHObd1BLmXfxSvP/AnbBR0ZgqDGEIR/AGCUDexJ4eRHAAAAAElFTkSuQmCC\" id=\"image7d2d6c5698\" transform=\"scale(1 -1) translate(0 -71.28)\" x=\"178.161702\" y=\"-22.272168\" width=\"71.28\" height=\"71.28\"/>\n   </g>\n   <g id=\"patch_13\">\n    <path d=\"M 178.161702 93.552168 \nL 178.161702 22.318125 \n\" style=\"fill: none; stroke: #000000; stroke-width: 0.8; stroke-linejoin: miter; stroke-linecap: square\"/>\n   </g>\n   <g id=\"patch_14\">\n    <path d=\"M 249.395745 93.552168 \nL 249.395745 22.318125 \n\" style=\"fill: none; stroke: #000000; stroke-width: 0.8; stroke-linejoin: miter; stroke-linecap: square\"/>\n   </g>\n   <g id=\"patch_15\">\n    <path d=\"M 178.161702 93.552168 \nL 249.395745 93.552168 \n\" style=\"fill: none; stroke: #000000; stroke-width: 0.8; stroke-linejoin: miter; stroke-linecap: square\"/>\n   </g>\n   <g id=\"patch_16\">\n    <path d=\"M 178.161702 22.318125 \nL 249.395745 22.318125 \n\" style=\"fill: none; stroke: #000000; stroke-width: 0.8; stroke-linejoin: miter; stroke-linecap: square\"/>\n   </g>\n   <g id=\"text_3\">\n    <!-- trouser -->\n    <g transform=\"translate(192.337161 16.318125) scale(0.12 -0.12)\">\n     <defs>\n      <path id=\"DejaVuSans-73\" d=\"M 2834 3397 \nL 2834 2853 \nQ 2591 2978 2328 3040 \nQ 2066 3103 1784 3103 \nQ 1356 3103 1142 2972 \nQ 928 2841 928 2578 \nQ 928 2378 1081 2264 \nQ 1234 2150 1697 2047 \nL 1894 2003 \nQ 2506 1872 2764 1633 \nQ 3022 1394 3022 966 \nQ 3022 478 2636 193 \nQ 2250 -91 1575 -91 \nQ 1294 -91 989 -36 \nQ 684 19 347 128 \nL 347 722 \nQ 666 556 975 473 \nQ 1284 391 1588 391 \nQ 1994 391 2212 530 \nQ 2431 669 2431 922 \nQ 2431 1156 2273 1281 \nQ 2116 1406 1581 1522 \nL 1381 1569 \nQ 847 1681 609 1914 \nQ 372 2147 372 2553 \nQ 372 3047 722 3315 \nQ 1072 3584 1716 3584 \nQ 2034 3584 2315 3537 \nQ 2597 3491 2834 3397 \nz\n\" transform=\"scale(0.015625)\"/>\n     </defs>\n     <use xlink:href=\"#DejaVuSans-74\"/>\n     <use xlink:href=\"#DejaVuSans-72\" x=\"39.208984\"/>\n     <use xlink:href=\"#DejaVuSans-6f\" x=\"78.072266\"/>\n     <use xlink:href=\"#DejaVuSans-75\" x=\"139.253906\"/>\n     <use xlink:href=\"#DejaVuSans-73\" x=\"202.632812\"/>\n     <use xlink:href=\"#DejaVuSans-65\" x=\"254.732422\"/>\n     <use xlink:href=\"#DejaVuSans-72\" x=\"316.255859\"/>\n    </g>\n   </g>\n  </g>\n  <g id=\"axes_4\">\n   <g id=\"patch_17\">\n    <path d=\"M 263.642553 93.552168 \nL 334.876596 93.552168 \nL 334.876596 22.318125 \nL 263.642553 22.318125 \nz\n\" style=\"fill: #ffffff\"/>\n   </g>\n   <g clip-path=\"url(#pb044379857)\">\n    <image xlink:href=\"data:image/png;base64,\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\" id=\"image7035bd748b\" transform=\"scale(1 -1) translate(0 -71.28)\" x=\"263.642553\" y=\"-22.272168\" width=\"71.28\" height=\"71.28\"/>\n   </g>\n   <g id=\"patch_18\">\n    <path d=\"M 263.642553 93.552168 \nL 263.642553 22.318125 \n\" style=\"fill: none; stroke: #000000; stroke-width: 0.8; stroke-linejoin: miter; stroke-linecap: square\"/>\n   </g>\n   <g id=\"patch_19\">\n    <path d=\"M 334.876596 93.552168 \nL 334.876596 22.318125 \n\" style=\"fill: none; stroke: #000000; stroke-width: 0.8; stroke-linejoin: miter; stroke-linecap: square\"/>\n   </g>\n   <g id=\"patch_20\">\n    <path d=\"M 263.642553 93.552168 \nL 334.876596 93.552168 \n\" style=\"fill: none; stroke: #000000; stroke-width: 0.8; stroke-linejoin: miter; stroke-linecap: square\"/>\n   </g>\n   <g id=\"patch_21\">\n    <path d=\"M 263.642553 22.318125 \nL 334.876596 22.318125 \n\" style=\"fill: none; stroke: #000000; stroke-width: 0.8; stroke-linejoin: miter; stroke-linecap: square\"/>\n   </g>\n   <g id=\"text_4\">\n    <!-- trouser -->\n    <g transform=\"translate(277.818012 16.318125) scale(0.12 -0.12)\">\n     <use xlink:href=\"#DejaVuSans-74\"/>\n     <use xlink:href=\"#DejaVuSans-72\" x=\"39.208984\"/>\n     <use xlink:href=\"#DejaVuSans-6f\" x=\"78.072266\"/>\n     <use xlink:href=\"#DejaVuSans-75\" x=\"139.253906\"/>\n     <use xlink:href=\"#DejaVuSans-73\" x=\"202.632812\"/>\n     <use xlink:href=\"#DejaVuSans-65\" x=\"254.732422\"/>\n     <use xlink:href=\"#DejaVuSans-72\" x=\"316.255859\"/>\n    </g>\n   </g>\n  </g>\n  <g id=\"axes_5\">\n   <g id=\"patch_22\">\n    <path d=\"M 349.123404 93.552168 \nL 420.357447 93.552168 \nL 420.357447 22.318125 \nL 349.123404 22.318125 \nz\n\" style=\"fill: #ffffff\"/>\n   </g>\n   <g clip-path=\"url(#p49b539a021)\">\n    <image xlink:href=\"data:image/png;base64,\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\" id=\"image370115e87d\" transform=\"scale(1 -1) translate(0 -71.28)\" x=\"349.123404\" y=\"-22.272168\" width=\"71.28\" height=\"71.28\"/>\n   </g>\n   <g id=\"patch_23\">\n    <path d=\"M 349.123404 93.552168 \nL 349.123404 22.318125 \n\" style=\"fill: none; stroke: #000000; stroke-width: 0.8; stroke-linejoin: miter; stroke-linecap: square\"/>\n   </g>\n   <g id=\"patch_24\">\n    <path d=\"M 420.357447 93.552168 \nL 420.357447 22.318125 \n\" style=\"fill: none; stroke: #000000; stroke-width: 0.8; stroke-linejoin: miter; stroke-linecap: square\"/>\n   </g>\n   <g id=\"patch_25\">\n    <path d=\"M 349.123404 93.552168 \nL 420.357447 93.552168 \n\" style=\"fill: none; stroke: #000000; stroke-width: 0.8; stroke-linejoin: miter; stroke-linecap: square\"/>\n   </g>\n   <g id=\"patch_26\">\n    <path d=\"M 349.123404 22.318125 \nL 420.357447 22.318125 \n\" style=\"fill: none; stroke: #000000; stroke-width: 0.8; stroke-linejoin: miter; stroke-linecap: square\"/>\n   </g>\n   <g id=\"text_5\">\n    <!-- shirt -->\n    <g transform=\"translate(371.326676 16.318125) scale(0.12 -0.12)\">\n     <defs>\n      <path id=\"DejaVuSans-68\" d=\"M 3513 2113 \nL 3513 0 \nL 2938 0 \nL 2938 2094 \nQ 2938 2591 2744 2837 \nQ 2550 3084 2163 3084 \nQ 1697 3084 1428 2787 \nQ 1159 2491 1159 1978 \nL 1159 0 \nL 581 0 \nL 581 4863 \nL 1159 4863 \nL 1159 2956 \nQ 1366 3272 1645 3428 \nQ 1925 3584 2291 3584 \nQ 2894 3584 3203 3211 \nQ 3513 2838 3513 2113 \nz\n\" transform=\"scale(0.015625)\"/>\n      <path id=\"DejaVuSans-69\" d=\"M 603 3500 \nL 1178 3500 \nL 1178 0 \nL 603 0 \nL 603 3500 \nz\nM 603 4863 \nL 1178 4863 \nL 1178 4134 \nL 603 4134 \nL 603 4863 \nz\n\" transform=\"scale(0.015625)\"/>\n     </defs>\n     <use xlink:href=\"#DejaVuSans-73\"/>\n     <use xlink:href=\"#DejaVuSans-68\" x=\"52.099609\"/>\n     <use xlink:href=\"#DejaVuSans-69\" x=\"115.478516\"/>\n     <use xlink:href=\"#DejaVuSans-72\" x=\"143.261719\"/>\n     <use xlink:href=\"#DejaVuSans-74\" x=\"184.375\"/>\n    </g>\n   </g>\n  </g>\n  <g id=\"axes_6\">\n   <g id=\"patch_27\">\n    <path d=\"M 434.604255 93.552168 \nL 505.838298 93.552168 \nL 505.838298 22.318125 \nL 434.604255 22.318125 \nz\n\" style=\"fill: #ffffff\"/>\n   </g>\n   <g clip-path=\"url(#pa708c1d32e)\">\n    <image xlink:href=\"data:image/png;base64,\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\" id=\"imagea7e8b14713\" transform=\"scale(1 -1) translate(0 -71.28)\" x=\"434.604255\" y=\"-22.272168\" width=\"71.28\" height=\"71.28\"/>\n   </g>\n   <g id=\"patch_28\">\n    <path d=\"M 434.604255 93.552168 \nL 434.604255 22.318125 \n\" style=\"fill: none; stroke: #000000; stroke-width: 0.8; stroke-linejoin: miter; stroke-linecap: square\"/>\n   </g>\n   <g id=\"patch_29\">\n    <path d=\"M 505.838298 93.552168 \nL 505.838298 22.318125 \n\" style=\"fill: none; stroke: #000000; stroke-width: 0.8; stroke-linejoin: miter; stroke-linecap: square\"/>\n   </g>\n   <g id=\"patch_30\">\n    <path d=\"M 434.604255 93.552168 \nL 505.838298 93.552168 \n\" style=\"fill: none; stroke: #000000; stroke-width: 0.8; stroke-linejoin: miter; stroke-linecap: square\"/>\n   </g>\n   <g id=\"patch_31\">\n    <path d=\"M 434.604255 22.318125 \nL 505.838298 22.318125 \n\" style=\"fill: none; stroke: #000000; stroke-width: 0.8; stroke-linejoin: miter; stroke-linecap: square\"/>\n   </g>\n   <g id=\"text_6\">\n    <!-- trouser -->\n    <g transform=\"translate(448.779714 16.318125) scale(0.12 -0.12)\">\n     <use xlink:href=\"#DejaVuSans-74\"/>\n     <use xlink:href=\"#DejaVuSans-72\" x=\"39.208984\"/>\n     <use xlink:href=\"#DejaVuSans-6f\" x=\"78.072266\"/>\n     <use xlink:href=\"#DejaVuSans-75\" x=\"139.253906\"/>\n     <use xlink:href=\"#DejaVuSans-73\" x=\"202.632812\"/>\n     <use xlink:href=\"#DejaVuSans-65\" x=\"254.732422\"/>\n     <use xlink:href=\"#DejaVuSans-72\" x=\"316.255859\"/>\n    </g>\n   </g>\n  </g>\n  <g id=\"axes_7\">\n   <g id=\"patch_32\">\n    <path d=\"M 520.085106 93.552168 \nL 591.319149 93.552168 \nL 591.319149 22.318125 \nL 520.085106 22.318125 \nz\n\" style=\"fill: #ffffff\"/>\n   </g>\n   <g clip-path=\"url(#pe91a5c3cc4)\">\n    <image xlink:href=\"data:image/png;base64,\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\" id=\"imageaa8680a3b6\" transform=\"scale(1 -1) translate(0 -71.28)\" x=\"520.085106\" y=\"-22.272168\" width=\"71.28\" height=\"71.28\"/>\n   </g>\n   <g id=\"patch_33\">\n    <path d=\"M 520.085106 93.552168 \nL 520.085106 22.318125 \n\" style=\"fill: none; stroke: #000000; stroke-width: 0.8; stroke-linejoin: miter; stroke-linecap: square\"/>\n   </g>\n   <g id=\"patch_34\">\n    <path d=\"M 591.319149 93.552168 \nL 591.319149 22.318125 \n\" style=\"fill: none; stroke: #000000; stroke-width: 0.8; stroke-linejoin: miter; stroke-linecap: square\"/>\n   </g>\n   <g id=\"patch_35\">\n    <path d=\"M 520.085106 93.552168 \nL 591.319149 93.552168 \n\" style=\"fill: none; stroke: #000000; stroke-width: 0.8; stroke-linejoin: miter; stroke-linecap: square\"/>\n   </g>\n   <g id=\"patch_36\">\n    <path d=\"M 520.085106 22.318125 \nL 591.319149 22.318125 \n\" style=\"fill: none; stroke: #000000; stroke-width: 0.8; stroke-linejoin: miter; stroke-linecap: square\"/>\n   </g>\n   <g id=\"text_7\">\n    <!-- coat -->\n    <g transform=\"translate(542.702753 16.318125) scale(0.12 -0.12)\">\n     <defs>\n      <path id=\"DejaVuSans-63\" d=\"M 3122 3366 \nL 3122 2828 \nQ 2878 2963 2633 3030 \nQ 2388 3097 2138 3097 \nQ 1578 3097 1268 2742 \nQ 959 2388 959 1747 \nQ 959 1106 1268 751 \nQ 1578 397 2138 397 \nQ 2388 397 2633 464 \nQ 2878 531 3122 666 \nL 3122 134 \nQ 2881 22 2623 -34 \nQ 2366 -91 2075 -91 \nQ 1284 -91 818 406 \nQ 353 903 353 1747 \nQ 353 2603 823 3093 \nQ 1294 3584 2113 3584 \nQ 2378 3584 2631 3529 \nQ 2884 3475 3122 3366 \nz\n\" transform=\"scale(0.015625)\"/>\n     </defs>\n     <use xlink:href=\"#DejaVuSans-63\"/>\n     <use xlink:href=\"#DejaVuSans-6f\" x=\"54.980469\"/>\n     <use xlink:href=\"#DejaVuSans-61\" x=\"116.162109\"/>\n     <use xlink:href=\"#DejaVuSans-74\" x=\"177.441406\"/>\n    </g>\n   </g>\n  </g>\n  <g id=\"axes_8\">\n   <g id=\"patch_37\">\n    <path d=\"M 605.565957 93.552168 \nL 676.8 93.552168 \nL 676.8 22.318125 \nL 605.565957 22.318125 \nz\n\" style=\"fill: #ffffff\"/>\n   </g>\n   <g clip-path=\"url(#p48a44a30ba)\">\n    <image xlink:href=\"data:image/png;base64,\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\" id=\"image9de42091a4\" transform=\"scale(1 -1) translate(0 -71.28)\" x=\"605.565957\" y=\"-22.272168\" width=\"71.28\" height=\"71.28\"/>\n   </g>\n   <g id=\"patch_38\">\n    <path d=\"M 605.565957 93.552168 \nL 605.565957 22.318125 \n\" style=\"fill: none; stroke: #000000; stroke-width: 0.8; stroke-linejoin: miter; stroke-linecap: square\"/>\n   </g>\n   <g id=\"patch_39\">\n    <path d=\"M 676.8 93.552168 \nL 676.8 22.318125 \n\" style=\"fill: none; stroke: #000000; stroke-width: 0.8; stroke-linejoin: miter; stroke-linecap: square\"/>\n   </g>\n   <g id=\"patch_40\">\n    <path d=\"M 605.565957 93.552168 \nL 676.8 93.552168 \n\" style=\"fill: none; stroke: #000000; stroke-width: 0.8; stroke-linejoin: miter; stroke-linecap: square\"/>\n   </g>\n   <g id=\"patch_41\">\n    <path d=\"M 605.565957 22.318125 \nL 676.8 22.318125 \n\" style=\"fill: none; stroke: #000000; stroke-width: 0.8; stroke-linejoin: miter; stroke-linecap: square\"/>\n   </g>\n   <g id=\"text_8\">\n    <!-- shirt -->\n    <g transform=\"translate(627.769229 16.318125) scale(0.12 -0.12)\">\n     <use xlink:href=\"#DejaVuSans-73\"/>\n     <use xlink:href=\"#DejaVuSans-68\" x=\"52.099609\"/>\n     <use xlink:href=\"#DejaVuSans-69\" x=\"115.478516\"/>\n     <use xlink:href=\"#DejaVuSans-72\" x=\"143.261719\"/>\n     <use xlink:href=\"#DejaVuSans-74\" x=\"184.375\"/>\n    </g>\n   </g>\n  </g>\n </g>\n <defs>\n  <clipPath id=\"pd862fe37e8\">\n   <rect x=\"7.2\" y=\"22.318125\" width=\"71.234043\" height=\"71.234043\"/>\n  </clipPath>\n  <clipPath id=\"pe1ea083c6a\">\n   <rect x=\"92.680851\" y=\"22.318125\" width=\"71.234043\" height=\"71.234043\"/>\n  </clipPath>\n  <clipPath id=\"pfa6df88b82\">\n   <rect x=\"178.161702\" y=\"22.318125\" width=\"71.234043\" height=\"71.234043\"/>\n  </clipPath>\n  <clipPath id=\"pb044379857\">\n   <rect x=\"263.642553\" y=\"22.318125\" width=\"71.234043\" height=\"71.234043\"/>\n  </clipPath>\n  <clipPath id=\"p49b539a021\">\n   <rect x=\"349.123404\" y=\"22.318125\" width=\"71.234043\" height=\"71.234043\"/>\n  </clipPath>\n  <clipPath id=\"pa708c1d32e\">\n   <rect x=\"434.604255\" y=\"22.318125\" width=\"71.234043\" height=\"71.234043\"/>\n  </clipPath>\n  <clipPath id=\"pe91a5c3cc4\">\n   <rect x=\"520.085106\" y=\"22.318125\" width=\"71.234043\" height=\"71.234043\"/>\n  </clipPath>\n  <clipPath id=\"p48a44a30ba\">\n   <rect x=\"605.565957\" y=\"22.318125\" width=\"71.234043\" height=\"71.234043\"/>\n  </clipPath>\n </defs>\n</svg>\n"
          },
          "metadata": {}
        }
      ]
    },
    {
      "cell_type": "markdown",
      "source": [
        "## memo"
      ],
      "metadata": {
        "id": "5I1M_LkW3yv0"
      }
    },
    {
      "cell_type": "markdown",
      "source": [
        "Will there be some loader specializing in certain types of input(like image, csv, etc)?"
      ],
      "metadata": {
        "id": "hDG7jgcW3z8H"
      }
    },
    {
      "cell_type": "markdown",
      "source": [
        "#4.3"
      ],
      "metadata": {
        "id": "2Ij2lgnc3dCp"
      }
    },
    {
      "cell_type": "markdown",
      "source": [
        "## code"
      ],
      "metadata": {
        "id": "mgUZQ8Qb3frc"
      }
    },
    {
      "cell_type": "code",
      "source": [
        "import torch\n",
        "from d2l import torch as d2l"
      ],
      "metadata": {
        "id": "9hTRi3EG3gjn"
      },
      "execution_count": null,
      "outputs": []
    },
    {
      "cell_type": "code",
      "source": [
        "class Classifier(d2l.Module):\n",
        "    def validation_step(self, batch):\n",
        "        Y_hat = self(*batch[:-1])\n",
        "        self.plot('loss', self.loss(Y_hat, batch[-1]), train=False)\n",
        "        self.plot('acc', self.accuracy(Y_hat, batch[-1]), train=False)"
      ],
      "metadata": {
        "id": "D7abvrEL3jKV"
      },
      "execution_count": null,
      "outputs": []
    },
    {
      "cell_type": "code",
      "source": [
        "@d2l.add_to_class(d2l.Module)\n",
        "def configure_optimizers(self):\n",
        "    return torch.optim.SGD(self.parameters(), lr=self.lr)"
      ],
      "metadata": {
        "id": "wkdQ9RET3kCT"
      },
      "execution_count": null,
      "outputs": []
    },
    {
      "cell_type": "code",
      "source": [
        "@d2l.add_to_class(Classifier)\n",
        "def accuracy(self, Y_hat, Y, averaged=True):\n",
        "    Y_hat = Y_hat.reshape((-1, Y_hat.shape[-1]))\n",
        "    preds = Y_hat.argmax(axis=1).type(Y.dtype)\n",
        "    compare = (preds == Y.reshape(-1)).type(torch.float32)\n",
        "    return compare.mean() if averaged else compare"
      ],
      "metadata": {
        "id": "6og2SSoi34wL"
      },
      "execution_count": null,
      "outputs": []
    },
    {
      "cell_type": "markdown",
      "source": [
        "# 4.4"
      ],
      "metadata": {
        "id": "9xt6GZ-g3_v3"
      }
    },
    {
      "cell_type": "markdown",
      "source": [
        "## code"
      ],
      "metadata": {
        "id": "lfE-BDMS4BaP"
      }
    },
    {
      "cell_type": "code",
      "source": [
        "import torch\n",
        "from d2l import torch as d2l"
      ],
      "metadata": {
        "id": "lOb8aUNd36I1"
      },
      "execution_count": null,
      "outputs": []
    },
    {
      "cell_type": "code",
      "source": [
        "X = torch.tensor([[1.0, 2.0, 3.0], [4.0, 5.0, 6.0]])\n",
        "X.sum(0, keepdims=True), X.sum(1, keepdims=True)"
      ],
      "metadata": {
        "colab": {
          "base_uri": "https://localhost:8080/"
        },
        "id": "1YTUcwuJ4Cgn",
        "outputId": "a41a96a1-5d40-462a-f1aa-06acda9b0c32"
      },
      "execution_count": null,
      "outputs": [
        {
          "output_type": "execute_result",
          "data": {
            "text/plain": [
              "(tensor([[5., 7., 9.]]),\n",
              " tensor([[ 6.],\n",
              "         [15.]]))"
            ]
          },
          "metadata": {},
          "execution_count": 185
        }
      ]
    },
    {
      "cell_type": "code",
      "source": [
        "def softmax(X):\n",
        "    X_exp = torch.exp(X)\n",
        "    partition = X_exp.sum(1, keepdims=True)\n",
        "    return X_exp / partition"
      ],
      "metadata": {
        "id": "Z4ogOUld4D7w"
      },
      "execution_count": null,
      "outputs": []
    },
    {
      "cell_type": "code",
      "source": [
        "X = torch.rand((2, 5))\n",
        "X_prob = softmax(X)\n",
        "X_prob, X_prob.sum(1)"
      ],
      "metadata": {
        "colab": {
          "base_uri": "https://localhost:8080/"
        },
        "id": "FymKzTq54EzK",
        "outputId": "3ae5ff05-e148-4cf2-bf2d-c7536a2d79df"
      },
      "execution_count": null,
      "outputs": [
        {
          "output_type": "execute_result",
          "data": {
            "text/plain": [
              "(tensor([[0.2194, 0.2386, 0.2450, 0.1722, 0.1247],\n",
              "         [0.2621, 0.1908, 0.2060, 0.1943, 0.1468]]),\n",
              " tensor([1.0000, 1.0000]))"
            ]
          },
          "metadata": {},
          "execution_count": 188
        }
      ]
    },
    {
      "cell_type": "code",
      "source": [
        "class SoftmaxRegressionScratch(d2l.Classifier):\n",
        "    def __init__(self, num_inputs, num_outputs, lr, sigma=0.01):\n",
        "        super().__init__()\n",
        "        self.save_hyperparameters()\n",
        "        self.W = torch.normal(0, sigma, size=(num_inputs, num_outputs),\n",
        "                              requires_grad=True)\n",
        "        self.b = torch.zeros(num_outputs, requires_grad=True)\n",
        "\n",
        "    def parameters(self):\n",
        "        return [self.W, self.b]"
      ],
      "metadata": {
        "id": "jxzAXB5P4G0Q"
      },
      "execution_count": null,
      "outputs": []
    },
    {
      "cell_type": "code",
      "source": [
        "@d2l.add_to_class(SoftmaxRegressionScratch)\n",
        "def forward(self, X):\n",
        "    X = X.reshape((-1, self.W.shape[0]))\n",
        "    return softmax(torch.matmul(X, self.W) + self.b)"
      ],
      "metadata": {
        "id": "-LuvUKss4Hxc"
      },
      "execution_count": null,
      "outputs": []
    },
    {
      "cell_type": "code",
      "source": [
        "y = torch.tensor([0, 2])\n",
        "y_hat = torch.tensor([[0.1, 0.3, 0.6], [0.3, 0.2, 0.5]])\n",
        "y_hat[[0, 1], y]"
      ],
      "metadata": {
        "colab": {
          "base_uri": "https://localhost:8080/"
        },
        "id": "yX3fVShM4Izi",
        "outputId": "2dddbcbe-aea8-4093-8de1-547982543041"
      },
      "execution_count": null,
      "outputs": [
        {
          "output_type": "execute_result",
          "data": {
            "text/plain": [
              "tensor([0.1000, 0.5000])"
            ]
          },
          "metadata": {},
          "execution_count": 191
        }
      ]
    },
    {
      "cell_type": "code",
      "source": [
        "def cross_entropy(y_hat, y):\n",
        "    return -torch.log(y_hat[list(range(len(y_hat))), y]).mean()\n",
        "\n",
        "cross_entropy(y_hat, y)"
      ],
      "metadata": {
        "colab": {
          "base_uri": "https://localhost:8080/"
        },
        "id": "YXRgQQHu4Jaj",
        "outputId": "25790479-e49c-43c2-a0d8-a4a7efbf8f9f"
      },
      "execution_count": null,
      "outputs": [
        {
          "output_type": "execute_result",
          "data": {
            "text/plain": [
              "tensor(1.4979)"
            ]
          },
          "metadata": {},
          "execution_count": 192
        }
      ]
    },
    {
      "cell_type": "code",
      "source": [
        "@d2l.add_to_class(SoftmaxRegressionScratch)\n",
        "def loss(self, y_hat, y):\n",
        "    return cross_entropy(y_hat, y)"
      ],
      "metadata": {
        "id": "s24I5kNM4KnP"
      },
      "execution_count": null,
      "outputs": []
    },
    {
      "cell_type": "code",
      "source": [
        "data = d2l.FashionMNIST(batch_size=256)\n",
        "model = SoftmaxRegressionScratch(num_inputs=784, num_outputs=10, lr=0.1)\n",
        "trainer = d2l.Trainer(max_epochs=10)\n",
        "trainer.fit(model, data)"
      ],
      "metadata": {
        "colab": {
          "base_uri": "https://localhost:8080/",
          "height": 265
        },
        "id": "bdF_mFOm4Lcb",
        "outputId": "b94dfb04-c429-498c-b200-b196b2b54709"
      },
      "execution_count": null,
      "outputs": [
        {
          "output_type": "display_data",
          "data": {
            "text/plain": [
              "<Figure size 350x250 with 1 Axes>"
            ],
            "image/svg+xml": "<?xml version=\"1.0\" encoding=\"utf-8\" standalone=\"no\"?>\n<!DOCTYPE svg PUBLIC \"-//W3C//DTD SVG 1.1//EN\"\n  \"http://www.w3.org/Graphics/SVG/1.1/DTD/svg11.dtd\">\n<svg xmlns:xlink=\"http://www.w3.org/1999/xlink\" width=\"238.965625pt\" height=\"183.35625pt\" viewBox=\"0 0 238.965625 183.35625\" xmlns=\"http://www.w3.org/2000/svg\" version=\"1.1\">\n <metadata>\n  <rdf:RDF xmlns:dc=\"http://purl.org/dc/elements/1.1/\" xmlns:cc=\"http://creativecommons.org/ns#\" xmlns:rdf=\"http://www.w3.org/1999/02/22-rdf-syntax-ns#\">\n   <cc:Work>\n    <dc:type rdf:resource=\"http://purl.org/dc/dcmitype/StillImage\"/>\n    <dc:date>2024-09-23T17:16:53.061797</dc:date>\n    <dc:format>image/svg+xml</dc:format>\n    <dc:creator>\n     <cc:Agent>\n      <dc:title>Matplotlib v3.7.2, https://matplotlib.org/</dc:title>\n     </cc:Agent>\n    </dc:creator>\n   </cc:Work>\n  </rdf:RDF>\n </metadata>\n <defs>\n  <style type=\"text/css\">*{stroke-linejoin: round; stroke-linecap: butt}</style>\n </defs>\n <g id=\"figure_1\">\n  <g id=\"patch_1\">\n   <path d=\"M 0 183.35625 \nL 238.965625 183.35625 \nL 238.965625 0 \nL 0 0 \nz\n\" style=\"fill: #ffffff\"/>\n  </g>\n  <g id=\"axes_1\">\n   <g id=\"patch_2\">\n    <path d=\"M 30.103125 145.8 \nL 225.403125 145.8 \nL 225.403125 7.2 \nL 30.103125 7.2 \nz\n\" style=\"fill: #ffffff\"/>\n   </g>\n   <g id=\"matplotlib.axis_1\">\n    <g id=\"xtick_1\">\n     <g id=\"line2d_1\">\n      <defs>\n       <path id=\"md758b5ca6e\" d=\"M 0 0 \nL 0 3.5 \n\" style=\"stroke: #000000; stroke-width: 0.8\"/>\n      </defs>\n      <g>\n       <use xlink:href=\"#md758b5ca6e\" x=\"30.103125\" y=\"145.8\" style=\"stroke: #000000; stroke-width: 0.8\"/>\n      </g>\n     </g>\n     <g id=\"text_1\">\n      <!-- 0 -->\n      <g transform=\"translate(26.921875 160.398438) scale(0.1 -0.1)\">\n       <defs>\n        <path id=\"DejaVuSans-30\" d=\"M 2034 4250 \nQ 1547 4250 1301 3770 \nQ 1056 3291 1056 2328 \nQ 1056 1369 1301 889 \nQ 1547 409 2034 409 \nQ 2525 409 2770 889 \nQ 3016 1369 3016 2328 \nQ 3016 3291 2770 3770 \nQ 2525 4250 2034 4250 \nz\nM 2034 4750 \nQ 2819 4750 3233 4129 \nQ 3647 3509 3647 2328 \nQ 3647 1150 3233 529 \nQ 2819 -91 2034 -91 \nQ 1250 -91 836 529 \nQ 422 1150 422 2328 \nQ 422 3509 836 4129 \nQ 1250 4750 2034 4750 \nz\n\" transform=\"scale(0.015625)\"/>\n       </defs>\n       <use xlink:href=\"#DejaVuSans-30\"/>\n      </g>\n     </g>\n    </g>\n    <g id=\"xtick_2\">\n     <g id=\"line2d_2\">\n      <g>\n       <use xlink:href=\"#md758b5ca6e\" x=\"69.163125\" y=\"145.8\" style=\"stroke: #000000; stroke-width: 0.8\"/>\n      </g>\n     </g>\n     <g id=\"text_2\">\n      <!-- 2 -->\n      <g transform=\"translate(65.981875 160.398438) scale(0.1 -0.1)\">\n       <defs>\n        <path id=\"DejaVuSans-32\" d=\"M 1228 531 \nL 3431 531 \nL 3431 0 \nL 469 0 \nL 469 531 \nQ 828 903 1448 1529 \nQ 2069 2156 2228 2338 \nQ 2531 2678 2651 2914 \nQ 2772 3150 2772 3378 \nQ 2772 3750 2511 3984 \nQ 2250 4219 1831 4219 \nQ 1534 4219 1204 4116 \nQ 875 4013 500 3803 \nL 500 4441 \nQ 881 4594 1212 4672 \nQ 1544 4750 1819 4750 \nQ 2544 4750 2975 4387 \nQ 3406 4025 3406 3419 \nQ 3406 3131 3298 2873 \nQ 3191 2616 2906 2266 \nQ 2828 2175 2409 1742 \nQ 1991 1309 1228 531 \nz\n\" transform=\"scale(0.015625)\"/>\n       </defs>\n       <use xlink:href=\"#DejaVuSans-32\"/>\n      </g>\n     </g>\n    </g>\n    <g id=\"xtick_3\">\n     <g id=\"line2d_3\">\n      <g>\n       <use xlink:href=\"#md758b5ca6e\" x=\"108.223125\" y=\"145.8\" style=\"stroke: #000000; stroke-width: 0.8\"/>\n      </g>\n     </g>\n     <g id=\"text_3\">\n      <!-- 4 -->\n      <g transform=\"translate(105.041875 160.398438) scale(0.1 -0.1)\">\n       <defs>\n        <path id=\"DejaVuSans-34\" d=\"M 2419 4116 \nL 825 1625 \nL 2419 1625 \nL 2419 4116 \nz\nM 2253 4666 \nL 3047 4666 \nL 3047 1625 \nL 3713 1625 \nL 3713 1100 \nL 3047 1100 \nL 3047 0 \nL 2419 0 \nL 2419 1100 \nL 313 1100 \nL 313 1709 \nL 2253 4666 \nz\n\" transform=\"scale(0.015625)\"/>\n       </defs>\n       <use xlink:href=\"#DejaVuSans-34\"/>\n      </g>\n     </g>\n    </g>\n    <g id=\"xtick_4\">\n     <g id=\"line2d_4\">\n      <g>\n       <use xlink:href=\"#md758b5ca6e\" x=\"147.283125\" y=\"145.8\" style=\"stroke: #000000; stroke-width: 0.8\"/>\n      </g>\n     </g>\n     <g id=\"text_4\">\n      <!-- 6 -->\n      <g transform=\"translate(144.101875 160.398438) scale(0.1 -0.1)\">\n       <defs>\n        <path id=\"DejaVuSans-36\" d=\"M 2113 2584 \nQ 1688 2584 1439 2293 \nQ 1191 2003 1191 1497 \nQ 1191 994 1439 701 \nQ 1688 409 2113 409 \nQ 2538 409 2786 701 \nQ 3034 994 3034 1497 \nQ 3034 2003 2786 2293 \nQ 2538 2584 2113 2584 \nz\nM 3366 4563 \nL 3366 3988 \nQ 3128 4100 2886 4159 \nQ 2644 4219 2406 4219 \nQ 1781 4219 1451 3797 \nQ 1122 3375 1075 2522 \nQ 1259 2794 1537 2939 \nQ 1816 3084 2150 3084 \nQ 2853 3084 3261 2657 \nQ 3669 2231 3669 1497 \nQ 3669 778 3244 343 \nQ 2819 -91 2113 -91 \nQ 1303 -91 875 529 \nQ 447 1150 447 2328 \nQ 447 3434 972 4092 \nQ 1497 4750 2381 4750 \nQ 2619 4750 2861 4703 \nQ 3103 4656 3366 4563 \nz\n\" transform=\"scale(0.015625)\"/>\n       </defs>\n       <use xlink:href=\"#DejaVuSans-36\"/>\n      </g>\n     </g>\n    </g>\n    <g id=\"xtick_5\">\n     <g id=\"line2d_5\">\n      <g>\n       <use xlink:href=\"#md758b5ca6e\" x=\"186.343125\" y=\"145.8\" style=\"stroke: #000000; stroke-width: 0.8\"/>\n      </g>\n     </g>\n     <g id=\"text_5\">\n      <!-- 8 -->\n      <g transform=\"translate(183.161875 160.398438) scale(0.1 -0.1)\">\n       <defs>\n        <path id=\"DejaVuSans-38\" d=\"M 2034 2216 \nQ 1584 2216 1326 1975 \nQ 1069 1734 1069 1313 \nQ 1069 891 1326 650 \nQ 1584 409 2034 409 \nQ 2484 409 2743 651 \nQ 3003 894 3003 1313 \nQ 3003 1734 2745 1975 \nQ 2488 2216 2034 2216 \nz\nM 1403 2484 \nQ 997 2584 770 2862 \nQ 544 3141 544 3541 \nQ 544 4100 942 4425 \nQ 1341 4750 2034 4750 \nQ 2731 4750 3128 4425 \nQ 3525 4100 3525 3541 \nQ 3525 3141 3298 2862 \nQ 3072 2584 2669 2484 \nQ 3125 2378 3379 2068 \nQ 3634 1759 3634 1313 \nQ 3634 634 3220 271 \nQ 2806 -91 2034 -91 \nQ 1263 -91 848 271 \nQ 434 634 434 1313 \nQ 434 1759 690 2068 \nQ 947 2378 1403 2484 \nz\nM 1172 3481 \nQ 1172 3119 1398 2916 \nQ 1625 2713 2034 2713 \nQ 2441 2713 2670 2916 \nQ 2900 3119 2900 3481 \nQ 2900 3844 2670 4047 \nQ 2441 4250 2034 4250 \nQ 1625 4250 1398 4047 \nQ 1172 3844 1172 3481 \nz\n\" transform=\"scale(0.015625)\"/>\n       </defs>\n       <use xlink:href=\"#DejaVuSans-38\"/>\n      </g>\n     </g>\n    </g>\n    <g id=\"xtick_6\">\n     <g id=\"line2d_6\">\n      <g>\n       <use xlink:href=\"#md758b5ca6e\" x=\"225.403125\" y=\"145.8\" style=\"stroke: #000000; stroke-width: 0.8\"/>\n      </g>\n     </g>\n     <g id=\"text_6\">\n      <!-- 10 -->\n      <g transform=\"translate(219.040625 160.398438) scale(0.1 -0.1)\">\n       <defs>\n        <path id=\"DejaVuSans-31\" d=\"M 794 531 \nL 1825 531 \nL 1825 4091 \nL 703 3866 \nL 703 4441 \nL 1819 4666 \nL 2450 4666 \nL 2450 531 \nL 3481 531 \nL 3481 0 \nL 794 0 \nL 794 531 \nz\n\" transform=\"scale(0.015625)\"/>\n       </defs>\n       <use xlink:href=\"#DejaVuSans-31\"/>\n       <use xlink:href=\"#DejaVuSans-30\" x=\"63.623047\"/>\n      </g>\n     </g>\n    </g>\n    <g id=\"text_7\">\n     <!-- epoch -->\n     <g transform=\"translate(112.525 174.076563) scale(0.1 -0.1)\">\n      <defs>\n       <path id=\"DejaVuSans-65\" d=\"M 3597 1894 \nL 3597 1613 \nL 953 1613 \nQ 991 1019 1311 708 \nQ 1631 397 2203 397 \nQ 2534 397 2845 478 \nQ 3156 559 3463 722 \nL 3463 178 \nQ 3153 47 2828 -22 \nQ 2503 -91 2169 -91 \nQ 1331 -91 842 396 \nQ 353 884 353 1716 \nQ 353 2575 817 3079 \nQ 1281 3584 2069 3584 \nQ 2775 3584 3186 3129 \nQ 3597 2675 3597 1894 \nz\nM 3022 2063 \nQ 3016 2534 2758 2815 \nQ 2500 3097 2075 3097 \nQ 1594 3097 1305 2825 \nQ 1016 2553 972 2059 \nL 3022 2063 \nz\n\" transform=\"scale(0.015625)\"/>\n       <path id=\"DejaVuSans-70\" d=\"M 1159 525 \nL 1159 -1331 \nL 581 -1331 \nL 581 3500 \nL 1159 3500 \nL 1159 2969 \nQ 1341 3281 1617 3432 \nQ 1894 3584 2278 3584 \nQ 2916 3584 3314 3078 \nQ 3713 2572 3713 1747 \nQ 3713 922 3314 415 \nQ 2916 -91 2278 -91 \nQ 1894 -91 1617 61 \nQ 1341 213 1159 525 \nz\nM 3116 1747 \nQ 3116 2381 2855 2742 \nQ 2594 3103 2138 3103 \nQ 1681 3103 1420 2742 \nQ 1159 2381 1159 1747 \nQ 1159 1113 1420 752 \nQ 1681 391 2138 391 \nQ 2594 391 2855 752 \nQ 3116 1113 3116 1747 \nz\n\" transform=\"scale(0.015625)\"/>\n       <path id=\"DejaVuSans-6f\" d=\"M 1959 3097 \nQ 1497 3097 1228 2736 \nQ 959 2375 959 1747 \nQ 959 1119 1226 758 \nQ 1494 397 1959 397 \nQ 2419 397 2687 759 \nQ 2956 1122 2956 1747 \nQ 2956 2369 2687 2733 \nQ 2419 3097 1959 3097 \nz\nM 1959 3584 \nQ 2709 3584 3137 3096 \nQ 3566 2609 3566 1747 \nQ 3566 888 3137 398 \nQ 2709 -91 1959 -91 \nQ 1206 -91 779 398 \nQ 353 888 353 1747 \nQ 353 2609 779 3096 \nQ 1206 3584 1959 3584 \nz\n\" transform=\"scale(0.015625)\"/>\n       <path id=\"DejaVuSans-63\" d=\"M 3122 3366 \nL 3122 2828 \nQ 2878 2963 2633 3030 \nQ 2388 3097 2138 3097 \nQ 1578 3097 1268 2742 \nQ 959 2388 959 1747 \nQ 959 1106 1268 751 \nQ 1578 397 2138 397 \nQ 2388 397 2633 464 \nQ 2878 531 3122 666 \nL 3122 134 \nQ 2881 22 2623 -34 \nQ 2366 -91 2075 -91 \nQ 1284 -91 818 406 \nQ 353 903 353 1747 \nQ 353 2603 823 3093 \nQ 1294 3584 2113 3584 \nQ 2378 3584 2631 3529 \nQ 2884 3475 3122 3366 \nz\n\" transform=\"scale(0.015625)\"/>\n       <path id=\"DejaVuSans-68\" d=\"M 3513 2113 \nL 3513 0 \nL 2938 0 \nL 2938 2094 \nQ 2938 2591 2744 2837 \nQ 2550 3084 2163 3084 \nQ 1697 3084 1428 2787 \nQ 1159 2491 1159 1978 \nL 1159 0 \nL 581 0 \nL 581 4863 \nL 1159 4863 \nL 1159 2956 \nQ 1366 3272 1645 3428 \nQ 1925 3584 2291 3584 \nQ 2894 3584 3203 3211 \nQ 3513 2838 3513 2113 \nz\n\" transform=\"scale(0.015625)\"/>\n      </defs>\n      <use xlink:href=\"#DejaVuSans-65\"/>\n      <use xlink:href=\"#DejaVuSans-70\" x=\"61.523438\"/>\n      <use xlink:href=\"#DejaVuSans-6f\" x=\"125\"/>\n      <use xlink:href=\"#DejaVuSans-63\" x=\"186.181641\"/>\n      <use xlink:href=\"#DejaVuSans-68\" x=\"241.162109\"/>\n     </g>\n    </g>\n   </g>\n   <g id=\"matplotlib.axis_2\">\n    <g id=\"ytick_1\">\n     <g id=\"line2d_7\">\n      <defs>\n       <path id=\"m18a8c77952\" d=\"M 0 0 \nL -3.5 0 \n\" style=\"stroke: #000000; stroke-width: 0.8\"/>\n      </defs>\n      <g>\n       <use xlink:href=\"#m18a8c77952\" x=\"30.103125\" y=\"124.876329\" style=\"stroke: #000000; stroke-width: 0.8\"/>\n      </g>\n     </g>\n     <g id=\"text_8\">\n      <!-- 0.5 -->\n      <g transform=\"translate(7.2 128.675548) scale(0.1 -0.1)\">\n       <defs>\n        <path id=\"DejaVuSans-2e\" d=\"M 684 794 \nL 1344 794 \nL 1344 0 \nL 684 0 \nL 684 794 \nz\n\" transform=\"scale(0.015625)\"/>\n        <path id=\"DejaVuSans-35\" d=\"M 691 4666 \nL 3169 4666 \nL 3169 4134 \nL 1269 4134 \nL 1269 2991 \nQ 1406 3038 1543 3061 \nQ 1681 3084 1819 3084 \nQ 2600 3084 3056 2656 \nQ 3513 2228 3513 1497 \nQ 3513 744 3044 326 \nQ 2575 -91 1722 -91 \nQ 1428 -91 1123 -41 \nQ 819 9 494 109 \nL 494 744 \nQ 775 591 1075 516 \nQ 1375 441 1709 441 \nQ 2250 441 2565 725 \nQ 2881 1009 2881 1497 \nQ 2881 1984 2565 2268 \nQ 2250 2553 1709 2553 \nQ 1456 2553 1204 2497 \nQ 953 2441 691 2322 \nL 691 4666 \nz\n\" transform=\"scale(0.015625)\"/>\n       </defs>\n       <use xlink:href=\"#DejaVuSans-30\"/>\n       <use xlink:href=\"#DejaVuSans-2e\" x=\"63.623047\"/>\n       <use xlink:href=\"#DejaVuSans-35\" x=\"95.410156\"/>\n      </g>\n     </g>\n    </g>\n    <g id=\"ytick_2\">\n     <g id=\"line2d_8\">\n      <g>\n       <use xlink:href=\"#m18a8c77952\" x=\"30.103125\" y=\"98.464113\" style=\"stroke: #000000; stroke-width: 0.8\"/>\n      </g>\n     </g>\n     <g id=\"text_9\">\n      <!-- 0.6 -->\n      <g transform=\"translate(7.2 102.263332) scale(0.1 -0.1)\">\n       <use xlink:href=\"#DejaVuSans-30\"/>\n       <use xlink:href=\"#DejaVuSans-2e\" x=\"63.623047\"/>\n       <use xlink:href=\"#DejaVuSans-36\" x=\"95.410156\"/>\n      </g>\n     </g>\n    </g>\n    <g id=\"ytick_3\">\n     <g id=\"line2d_9\">\n      <g>\n       <use xlink:href=\"#m18a8c77952\" x=\"30.103125\" y=\"72.051897\" style=\"stroke: #000000; stroke-width: 0.8\"/>\n      </g>\n     </g>\n     <g id=\"text_10\">\n      <!-- 0.7 -->\n      <g transform=\"translate(7.2 75.851116) scale(0.1 -0.1)\">\n       <defs>\n        <path id=\"DejaVuSans-37\" d=\"M 525 4666 \nL 3525 4666 \nL 3525 4397 \nL 1831 0 \nL 1172 0 \nL 2766 4134 \nL 525 4134 \nL 525 4666 \nz\n\" transform=\"scale(0.015625)\"/>\n       </defs>\n       <use xlink:href=\"#DejaVuSans-30\"/>\n       <use xlink:href=\"#DejaVuSans-2e\" x=\"63.623047\"/>\n       <use xlink:href=\"#DejaVuSans-37\" x=\"95.410156\"/>\n      </g>\n     </g>\n    </g>\n    <g id=\"ytick_4\">\n     <g id=\"line2d_10\">\n      <g>\n       <use xlink:href=\"#m18a8c77952\" x=\"30.103125\" y=\"45.639681\" style=\"stroke: #000000; stroke-width: 0.8\"/>\n      </g>\n     </g>\n     <g id=\"text_11\">\n      <!-- 0.8 -->\n      <g transform=\"translate(7.2 49.4389) scale(0.1 -0.1)\">\n       <use xlink:href=\"#DejaVuSans-30\"/>\n       <use xlink:href=\"#DejaVuSans-2e\" x=\"63.623047\"/>\n       <use xlink:href=\"#DejaVuSans-38\" x=\"95.410156\"/>\n      </g>\n     </g>\n    </g>\n    <g id=\"ytick_5\">\n     <g id=\"line2d_11\">\n      <g>\n       <use xlink:href=\"#m18a8c77952\" x=\"30.103125\" y=\"19.227465\" style=\"stroke: #000000; stroke-width: 0.8\"/>\n      </g>\n     </g>\n     <g id=\"text_12\">\n      <!-- 0.9 -->\n      <g transform=\"translate(7.2 23.026684) scale(0.1 -0.1)\">\n       <defs>\n        <path id=\"DejaVuSans-39\" d=\"M 703 97 \nL 703 672 \nQ 941 559 1184 500 \nQ 1428 441 1663 441 \nQ 2288 441 2617 861 \nQ 2947 1281 2994 2138 \nQ 2813 1869 2534 1725 \nQ 2256 1581 1919 1581 \nQ 1219 1581 811 2004 \nQ 403 2428 403 3163 \nQ 403 3881 828 4315 \nQ 1253 4750 1959 4750 \nQ 2769 4750 3195 4129 \nQ 3622 3509 3622 2328 \nQ 3622 1225 3098 567 \nQ 2575 -91 1691 -91 \nQ 1453 -91 1209 -44 \nQ 966 3 703 97 \nz\nM 1959 2075 \nQ 2384 2075 2632 2365 \nQ 2881 2656 2881 3163 \nQ 2881 3666 2632 3958 \nQ 2384 4250 1959 4250 \nQ 1534 4250 1286 3958 \nQ 1038 3666 1038 3163 \nQ 1038 2656 1286 2365 \nQ 1534 2075 1959 2075 \nz\n\" transform=\"scale(0.015625)\"/>\n       </defs>\n       <use xlink:href=\"#DejaVuSans-30\"/>\n       <use xlink:href=\"#DejaVuSans-2e\" x=\"63.623047\"/>\n       <use xlink:href=\"#DejaVuSans-39\" x=\"95.410156\"/>\n      </g>\n     </g>\n    </g>\n   </g>\n   <g id=\"line2d_12\">\n    <path d=\"M 34.923295 13.5 \n\" clip-path=\"url(#pfba751238b)\" style=\"fill: none; stroke: #1f77b4; stroke-width: 1.5; stroke-linecap: square\"/>\n   </g>\n   <g id=\"line2d_13\">\n    <path d=\"M 34.923295 13.5 \nL 44.646742 86.322172 \n\" clip-path=\"url(#pfba751238b)\" style=\"fill: none; stroke: #1f77b4; stroke-width: 1.5; stroke-linecap: square\"/>\n   </g>\n   <g id=\"line2d_14\">\n    <path d=\"M 34.923295 13.5 \nL 44.646742 86.322172 \n\" clip-path=\"url(#pfba751238b)\" style=\"fill: none; stroke: #1f77b4; stroke-width: 1.5; stroke-linecap: square\"/>\n   </g>\n   <g id=\"line2d_15\">\n    <path d=\"M 49.633125 83.674504 \n\" clip-path=\"url(#pfba751238b)\" style=\"fill: none; stroke-dasharray: 5.55,2.4; stroke-dashoffset: 0; stroke: #ff7f0e; stroke-width: 1.5\"/>\n   </g>\n   <g id=\"line2d_16\"/>\n   <g id=\"line2d_17\">\n    <path d=\"M 34.923295 13.5 \nL 44.646742 86.322172 \n\" clip-path=\"url(#pfba751238b)\" style=\"fill: none; stroke: #1f77b4; stroke-width: 1.5; stroke-linecap: square\"/>\n   </g>\n   <g id=\"line2d_18\">\n    <path d=\"M 49.633125 83.674504 \n\" clip-path=\"url(#pfba751238b)\" style=\"fill: none; stroke-dasharray: 5.55,2.4; stroke-dashoffset: 0; stroke: #ff7f0e; stroke-width: 1.5\"/>\n   </g>\n   <g id=\"line2d_19\">\n    <path d=\"M 49.633125 54.822053 \n\" clip-path=\"url(#pfba751238b)\" style=\"fill: none; stroke-dasharray: 9.6,2.4,1.5,2.4; stroke-dashoffset: 0; stroke: #2ca02c; stroke-width: 1.5\"/>\n   </g>\n   <g id=\"line2d_20\">\n    <path d=\"M 34.923295 13.5 \nL 44.646742 86.322172 \nL 54.370189 101.510838 \n\" clip-path=\"url(#pfba751238b)\" style=\"fill: none; stroke: #1f77b4; stroke-width: 1.5; stroke-linecap: square\"/>\n   </g>\n   <g id=\"line2d_21\">\n    <path d=\"M 49.633125 83.674504 \n\" clip-path=\"url(#pfba751238b)\" style=\"fill: none; stroke-dasharray: 5.55,2.4; stroke-dashoffset: 0; stroke: #ff7f0e; stroke-width: 1.5\"/>\n   </g>\n   <g id=\"line2d_22\">\n    <path d=\"M 49.633125 54.822053 \n\" clip-path=\"url(#pfba751238b)\" style=\"fill: none; stroke-dasharray: 9.6,2.4,1.5,2.4; stroke-dashoffset: 0; stroke: #2ca02c; stroke-width: 1.5\"/>\n   </g>\n   <g id=\"line2d_23\">\n    <path d=\"M 34.923295 13.5 \nL 44.646742 86.322172 \nL 54.370189 101.510838 \nL 64.093636 110.79674 \n\" clip-path=\"url(#pfba751238b)\" style=\"fill: none; stroke: #1f77b4; stroke-width: 1.5; stroke-linecap: square\"/>\n   </g>\n   <g id=\"line2d_24\">\n    <path d=\"M 49.633125 83.674504 \n\" clip-path=\"url(#pfba751238b)\" style=\"fill: none; stroke-dasharray: 5.55,2.4; stroke-dashoffset: 0; stroke: #ff7f0e; stroke-width: 1.5\"/>\n   </g>\n   <g id=\"line2d_25\">\n    <path d=\"M 49.633125 54.822053 \n\" clip-path=\"url(#pfba751238b)\" style=\"fill: none; stroke-dasharray: 9.6,2.4,1.5,2.4; stroke-dashoffset: 0; stroke: #2ca02c; stroke-width: 1.5\"/>\n   </g>\n   <g id=\"line2d_26\">\n    <path d=\"M 34.923295 13.5 \nL 44.646742 86.322172 \nL 54.370189 101.510838 \nL 64.093636 110.79674 \n\" clip-path=\"url(#pfba751238b)\" style=\"fill: none; stroke: #1f77b4; stroke-width: 1.5; stroke-linecap: square\"/>\n   </g>\n   <g id=\"line2d_27\">\n    <path d=\"M 49.633125 83.674504 \nL 69.163125 106.57322 \n\" clip-path=\"url(#pfba751238b)\" style=\"fill: none; stroke-dasharray: 5.55,2.4; stroke-dashoffset: 0; stroke: #ff7f0e; stroke-width: 1.5\"/>\n   </g>\n   <g id=\"line2d_28\">\n    <path d=\"M 49.633125 54.822053 \n\" clip-path=\"url(#pfba751238b)\" style=\"fill: none; stroke-dasharray: 9.6,2.4,1.5,2.4; stroke-dashoffset: 0; stroke: #2ca02c; stroke-width: 1.5\"/>\n   </g>\n   <g id=\"line2d_29\">\n    <path d=\"M 34.923295 13.5 \nL 44.646742 86.322172 \nL 54.370189 101.510838 \nL 64.093636 110.79674 \n\" clip-path=\"url(#pfba751238b)\" style=\"fill: none; stroke: #1f77b4; stroke-width: 1.5; stroke-linecap: square\"/>\n   </g>\n   <g id=\"line2d_30\">\n    <path d=\"M 49.633125 83.674504 \nL 69.163125 106.57322 \n\" clip-path=\"url(#pfba751238b)\" style=\"fill: none; stroke-dasharray: 5.55,2.4; stroke-dashoffset: 0; stroke: #ff7f0e; stroke-width: 1.5\"/>\n   </g>\n   <g id=\"line2d_31\">\n    <path d=\"M 49.633125 54.822053 \nL 69.163125 43.447261 \n\" clip-path=\"url(#pfba751238b)\" style=\"fill: none; stroke-dasharray: 9.6,2.4,1.5,2.4; stroke-dashoffset: 0; stroke: #2ca02c; stroke-width: 1.5\"/>\n   </g>\n   <g id=\"line2d_32\">\n    <path d=\"M 34.923295 13.5 \nL 44.646742 86.322172 \nL 54.370189 101.510838 \nL 64.093636 110.79674 \nL 73.817082 117.562228 \n\" clip-path=\"url(#pfba751238b)\" style=\"fill: none; stroke: #1f77b4; stroke-width: 1.5; stroke-linecap: square\"/>\n   </g>\n   <g id=\"line2d_33\">\n    <path d=\"M 49.633125 83.674504 \nL 69.163125 106.57322 \n\" clip-path=\"url(#pfba751238b)\" style=\"fill: none; stroke-dasharray: 5.55,2.4; stroke-dashoffset: 0; stroke: #ff7f0e; stroke-width: 1.5\"/>\n   </g>\n   <g id=\"line2d_34\">\n    <path d=\"M 49.633125 54.822053 \nL 69.163125 43.447261 \n\" clip-path=\"url(#pfba751238b)\" style=\"fill: none; stroke-dasharray: 9.6,2.4,1.5,2.4; stroke-dashoffset: 0; stroke: #2ca02c; stroke-width: 1.5\"/>\n   </g>\n   <g id=\"line2d_35\">\n    <path d=\"M 34.923295 13.5 \nL 44.646742 86.322172 \nL 54.370189 101.510838 \nL 64.093636 110.79674 \nL 73.817082 117.562228 \nL 83.540529 118.740914 \n\" clip-path=\"url(#pfba751238b)\" style=\"fill: none; stroke: #1f77b4; stroke-width: 1.5; stroke-linecap: square\"/>\n   </g>\n   <g id=\"line2d_36\">\n    <path d=\"M 49.633125 83.674504 \nL 69.163125 106.57322 \n\" clip-path=\"url(#pfba751238b)\" style=\"fill: none; stroke-dasharray: 5.55,2.4; stroke-dashoffset: 0; stroke: #ff7f0e; stroke-width: 1.5\"/>\n   </g>\n   <g id=\"line2d_37\">\n    <path d=\"M 49.633125 54.822053 \nL 69.163125 43.447261 \n\" clip-path=\"url(#pfba751238b)\" style=\"fill: none; stroke-dasharray: 9.6,2.4,1.5,2.4; stroke-dashoffset: 0; stroke: #2ca02c; stroke-width: 1.5\"/>\n   </g>\n   <g id=\"line2d_38\">\n    <path d=\"M 34.923295 13.5 \nL 44.646742 86.322172 \nL 54.370189 101.510838 \nL 64.093636 110.79674 \nL 73.817082 117.562228 \nL 83.540529 118.740914 \n\" clip-path=\"url(#pfba751238b)\" style=\"fill: none; stroke: #1f77b4; stroke-width: 1.5; stroke-linecap: square\"/>\n   </g>\n   <g id=\"line2d_39\">\n    <path d=\"M 49.633125 83.674504 \nL 69.163125 106.57322 \nL 88.693125 113.942267 \n\" clip-path=\"url(#pfba751238b)\" style=\"fill: none; stroke-dasharray: 5.55,2.4; stroke-dashoffset: 0; stroke: #ff7f0e; stroke-width: 1.5\"/>\n   </g>\n   <g id=\"line2d_40\">\n    <path d=\"M 49.633125 54.822053 \nL 69.163125 43.447261 \n\" clip-path=\"url(#pfba751238b)\" style=\"fill: none; stroke-dasharray: 9.6,2.4,1.5,2.4; stroke-dashoffset: 0; stroke: #2ca02c; stroke-width: 1.5\"/>\n   </g>\n   <g id=\"line2d_41\">\n    <path d=\"M 34.923295 13.5 \nL 44.646742 86.322172 \nL 54.370189 101.510838 \nL 64.093636 110.79674 \nL 73.817082 117.562228 \nL 83.540529 118.740914 \n\" clip-path=\"url(#pfba751238b)\" style=\"fill: none; stroke: #1f77b4; stroke-width: 1.5; stroke-linecap: square\"/>\n   </g>\n   <g id=\"line2d_42\">\n    <path d=\"M 49.633125 83.674504 \nL 69.163125 106.57322 \nL 88.693125 113.942267 \n\" clip-path=\"url(#pfba751238b)\" style=\"fill: none; stroke-dasharray: 5.55,2.4; stroke-dashoffset: 0; stroke: #ff7f0e; stroke-width: 1.5\"/>\n   </g>\n   <g id=\"line2d_43\">\n    <path d=\"M 49.633125 54.822053 \nL 69.163125 43.447261 \nL 88.693125 41.822291 \n\" clip-path=\"url(#pfba751238b)\" style=\"fill: none; stroke-dasharray: 9.6,2.4,1.5,2.4; stroke-dashoffset: 0; stroke: #2ca02c; stroke-width: 1.5\"/>\n   </g>\n   <g id=\"line2d_44\">\n    <path d=\"M 34.923295 13.5 \nL 44.646742 86.322172 \nL 54.370189 101.510838 \nL 64.093636 110.79674 \nL 73.817082 117.562228 \nL 83.540529 118.740914 \nL 93.263976 124.480968 \n\" clip-path=\"url(#pfba751238b)\" style=\"fill: none; stroke: #1f77b4; stroke-width: 1.5; stroke-linecap: square\"/>\n   </g>\n   <g id=\"line2d_45\">\n    <path d=\"M 49.633125 83.674504 \nL 69.163125 106.57322 \nL 88.693125 113.942267 \n\" clip-path=\"url(#pfba751238b)\" style=\"fill: none; stroke-dasharray: 5.55,2.4; stroke-dashoffset: 0; stroke: #ff7f0e; stroke-width: 1.5\"/>\n   </g>\n   <g id=\"line2d_46\">\n    <path d=\"M 49.633125 54.822053 \nL 69.163125 43.447261 \nL 88.693125 41.822291 \n\" clip-path=\"url(#pfba751238b)\" style=\"fill: none; stroke-dasharray: 9.6,2.4,1.5,2.4; stroke-dashoffset: 0; stroke: #2ca02c; stroke-width: 1.5\"/>\n   </g>\n   <g id=\"line2d_47\">\n    <path d=\"M 34.923295 13.5 \nL 44.646742 86.322172 \nL 54.370189 101.510838 \nL 64.093636 110.79674 \nL 73.817082 117.562228 \nL 83.540529 118.740914 \nL 93.263976 124.480968 \nL 102.987423 124.419361 \n\" clip-path=\"url(#pfba751238b)\" style=\"fill: none; stroke: #1f77b4; stroke-width: 1.5; stroke-linecap: square\"/>\n   </g>\n   <g id=\"line2d_48\">\n    <path d=\"M 49.633125 83.674504 \nL 69.163125 106.57322 \nL 88.693125 113.942267 \n\" clip-path=\"url(#pfba751238b)\" style=\"fill: none; stroke-dasharray: 5.55,2.4; stroke-dashoffset: 0; stroke: #ff7f0e; stroke-width: 1.5\"/>\n   </g>\n   <g id=\"line2d_49\">\n    <path d=\"M 49.633125 54.822053 \nL 69.163125 43.447261 \nL 88.693125 41.822291 \n\" clip-path=\"url(#pfba751238b)\" style=\"fill: none; stroke-dasharray: 9.6,2.4,1.5,2.4; stroke-dashoffset: 0; stroke: #2ca02c; stroke-width: 1.5\"/>\n   </g>\n   <g id=\"line2d_50\">\n    <path d=\"M 34.923295 13.5 \nL 44.646742 86.322172 \nL 54.370189 101.510838 \nL 64.093636 110.79674 \nL 73.817082 117.562228 \nL 83.540529 118.740914 \nL 93.263976 124.480968 \nL 102.987423 124.419361 \n\" clip-path=\"url(#pfba751238b)\" style=\"fill: none; stroke: #1f77b4; stroke-width: 1.5; stroke-linecap: square\"/>\n   </g>\n   <g id=\"line2d_51\">\n    <path d=\"M 49.633125 83.674504 \nL 69.163125 106.57322 \nL 88.693125 113.942267 \nL 108.223125 118.790644 \n\" clip-path=\"url(#pfba751238b)\" style=\"fill: none; stroke-dasharray: 5.55,2.4; stroke-dashoffset: 0; stroke: #ff7f0e; stroke-width: 1.5\"/>\n   </g>\n   <g id=\"line2d_52\">\n    <path d=\"M 49.633125 54.822053 \nL 69.163125 43.447261 \nL 88.693125 41.822291 \n\" clip-path=\"url(#pfba751238b)\" style=\"fill: none; stroke-dasharray: 9.6,2.4,1.5,2.4; stroke-dashoffset: 0; stroke: #2ca02c; stroke-width: 1.5\"/>\n   </g>\n   <g id=\"line2d_53\">\n    <path d=\"M 34.923295 13.5 \nL 44.646742 86.322172 \nL 54.370189 101.510838 \nL 64.093636 110.79674 \nL 73.817082 117.562228 \nL 83.540529 118.740914 \nL 93.263976 124.480968 \nL 102.987423 124.419361 \n\" clip-path=\"url(#pfba751238b)\" style=\"fill: none; stroke: #1f77b4; stroke-width: 1.5; stroke-linecap: square\"/>\n   </g>\n   <g id=\"line2d_54\">\n    <path d=\"M 49.633125 83.674504 \nL 69.163125 106.57322 \nL 88.693125 113.942267 \nL 108.223125 118.790644 \n\" clip-path=\"url(#pfba751238b)\" style=\"fill: none; stroke-dasharray: 5.55,2.4; stroke-dashoffset: 0; stroke: #ff7f0e; stroke-width: 1.5\"/>\n   </g>\n   <g id=\"line2d_55\">\n    <path d=\"M 49.633125 54.822053 \nL 69.163125 43.447261 \nL 88.693125 41.822291 \nL 108.223125 40.068355 \n\" clip-path=\"url(#pfba751238b)\" style=\"fill: none; stroke-dasharray: 9.6,2.4,1.5,2.4; stroke-dashoffset: 0; stroke: #2ca02c; stroke-width: 1.5\"/>\n   </g>\n   <g id=\"line2d_56\">\n    <path d=\"M 34.923295 13.5 \nL 44.646742 86.322172 \nL 54.370189 101.510838 \nL 64.093636 110.79674 \nL 73.817082 117.562228 \nL 83.540529 118.740914 \nL 93.263976 124.480968 \nL 102.987423 124.419361 \nL 112.71087 129.219653 \n\" clip-path=\"url(#pfba751238b)\" style=\"fill: none; stroke: #1f77b4; stroke-width: 1.5; stroke-linecap: square\"/>\n   </g>\n   <g id=\"line2d_57\">\n    <path d=\"M 49.633125 83.674504 \nL 69.163125 106.57322 \nL 88.693125 113.942267 \nL 108.223125 118.790644 \n\" clip-path=\"url(#pfba751238b)\" style=\"fill: none; stroke-dasharray: 5.55,2.4; stroke-dashoffset: 0; stroke: #ff7f0e; stroke-width: 1.5\"/>\n   </g>\n   <g id=\"line2d_58\">\n    <path d=\"M 49.633125 54.822053 \nL 69.163125 43.447261 \nL 88.693125 41.822291 \nL 108.223125 40.068355 \n\" clip-path=\"url(#pfba751238b)\" style=\"fill: none; stroke-dasharray: 9.6,2.4,1.5,2.4; stroke-dashoffset: 0; stroke: #2ca02c; stroke-width: 1.5\"/>\n   </g>\n   <g id=\"line2d_59\">\n    <path d=\"M 34.923295 13.5 \nL 44.646742 86.322172 \nL 54.370189 101.510838 \nL 64.093636 110.79674 \nL 73.817082 117.562228 \nL 83.540529 118.740914 \nL 93.263976 124.480968 \nL 102.987423 124.419361 \nL 112.71087 129.219653 \nL 122.434316 127.918694 \n\" clip-path=\"url(#pfba751238b)\" style=\"fill: none; stroke: #1f77b4; stroke-width: 1.5; stroke-linecap: square\"/>\n   </g>\n   <g id=\"line2d_60\">\n    <path d=\"M 49.633125 83.674504 \nL 69.163125 106.57322 \nL 88.693125 113.942267 \nL 108.223125 118.790644 \n\" clip-path=\"url(#pfba751238b)\" style=\"fill: none; stroke-dasharray: 5.55,2.4; stroke-dashoffset: 0; stroke: #ff7f0e; stroke-width: 1.5\"/>\n   </g>\n   <g id=\"line2d_61\">\n    <path d=\"M 49.633125 54.822053 \nL 69.163125 43.447261 \nL 88.693125 41.822291 \nL 108.223125 40.068355 \n\" clip-path=\"url(#pfba751238b)\" style=\"fill: none; stroke-dasharray: 9.6,2.4,1.5,2.4; stroke-dashoffset: 0; stroke: #2ca02c; stroke-width: 1.5\"/>\n   </g>\n   <g id=\"line2d_62\">\n    <path d=\"M 34.923295 13.5 \nL 44.646742 86.322172 \nL 54.370189 101.510838 \nL 64.093636 110.79674 \nL 73.817082 117.562228 \nL 83.540529 118.740914 \nL 93.263976 124.480968 \nL 102.987423 124.419361 \nL 112.71087 129.219653 \nL 122.434316 127.918694 \n\" clip-path=\"url(#pfba751238b)\" style=\"fill: none; stroke: #1f77b4; stroke-width: 1.5; stroke-linecap: square\"/>\n   </g>\n   <g id=\"line2d_63\">\n    <path d=\"M 49.633125 83.674504 \nL 69.163125 106.57322 \nL 88.693125 113.942267 \nL 108.223125 118.790644 \nL 127.753125 123.206904 \n\" clip-path=\"url(#pfba751238b)\" style=\"fill: none; stroke-dasharray: 5.55,2.4; stroke-dashoffset: 0; stroke: #ff7f0e; stroke-width: 1.5\"/>\n   </g>\n   <g id=\"line2d_64\">\n    <path d=\"M 49.633125 54.822053 \nL 69.163125 43.447261 \nL 88.693125 41.822291 \nL 108.223125 40.068355 \n\" clip-path=\"url(#pfba751238b)\" style=\"fill: none; stroke-dasharray: 9.6,2.4,1.5,2.4; stroke-dashoffset: 0; stroke: #2ca02c; stroke-width: 1.5\"/>\n   </g>\n   <g id=\"line2d_65\">\n    <path d=\"M 34.923295 13.5 \nL 44.646742 86.322172 \nL 54.370189 101.510838 \nL 64.093636 110.79674 \nL 73.817082 117.562228 \nL 83.540529 118.740914 \nL 93.263976 124.480968 \nL 102.987423 124.419361 \nL 112.71087 129.219653 \nL 122.434316 127.918694 \n\" clip-path=\"url(#pfba751238b)\" style=\"fill: none; stroke: #1f77b4; stroke-width: 1.5; stroke-linecap: square\"/>\n   </g>\n   <g id=\"line2d_66\">\n    <path d=\"M 49.633125 83.674504 \nL 69.163125 106.57322 \nL 88.693125 113.942267 \nL 108.223125 118.790644 \nL 127.753125 123.206904 \n\" clip-path=\"url(#pfba751238b)\" style=\"fill: none; stroke-dasharray: 5.55,2.4; stroke-dashoffset: 0; stroke: #ff7f0e; stroke-width: 1.5\"/>\n   </g>\n   <g id=\"line2d_67\">\n    <path d=\"M 49.633125 54.822053 \nL 69.163125 43.447261 \nL 88.693125 41.822291 \nL 108.223125 40.068355 \nL 127.753125 37.979107 \n\" clip-path=\"url(#pfba751238b)\" style=\"fill: none; stroke-dasharray: 9.6,2.4,1.5,2.4; stroke-dashoffset: 0; stroke: #2ca02c; stroke-width: 1.5\"/>\n   </g>\n   <g id=\"line2d_68\">\n    <path d=\"M 34.923295 13.5 \nL 44.646742 86.322172 \nL 54.370189 101.510838 \nL 64.093636 110.79674 \nL 73.817082 117.562228 \nL 83.540529 118.740914 \nL 93.263976 124.480968 \nL 102.987423 124.419361 \nL 112.71087 129.219653 \nL 122.434316 127.918694 \nL 132.157763 130.034874 \n\" clip-path=\"url(#pfba751238b)\" style=\"fill: none; stroke: #1f77b4; stroke-width: 1.5; stroke-linecap: square\"/>\n   </g>\n   <g id=\"line2d_69\">\n    <path d=\"M 49.633125 83.674504 \nL 69.163125 106.57322 \nL 88.693125 113.942267 \nL 108.223125 118.790644 \nL 127.753125 123.206904 \n\" clip-path=\"url(#pfba751238b)\" style=\"fill: none; stroke-dasharray: 5.55,2.4; stroke-dashoffset: 0; stroke: #ff7f0e; stroke-width: 1.5\"/>\n   </g>\n   <g id=\"line2d_70\">\n    <path d=\"M 49.633125 54.822053 \nL 69.163125 43.447261 \nL 88.693125 41.822291 \nL 108.223125 40.068355 \nL 127.753125 37.979107 \n\" clip-path=\"url(#pfba751238b)\" style=\"fill: none; stroke-dasharray: 9.6,2.4,1.5,2.4; stroke-dashoffset: 0; stroke: #2ca02c; stroke-width: 1.5\"/>\n   </g>\n   <g id=\"line2d_71\">\n    <path d=\"M 34.923295 13.5 \nL 44.646742 86.322172 \nL 54.370189 101.510838 \nL 64.093636 110.79674 \nL 73.817082 117.562228 \nL 83.540529 118.740914 \nL 93.263976 124.480968 \nL 102.987423 124.419361 \nL 112.71087 129.219653 \nL 122.434316 127.918694 \nL 132.157763 130.034874 \nL 141.88121 132.853129 \n\" clip-path=\"url(#pfba751238b)\" style=\"fill: none; stroke: #1f77b4; stroke-width: 1.5; stroke-linecap: square\"/>\n   </g>\n   <g id=\"line2d_72\">\n    <path d=\"M 49.633125 83.674504 \nL 69.163125 106.57322 \nL 88.693125 113.942267 \nL 108.223125 118.790644 \nL 127.753125 123.206904 \n\" clip-path=\"url(#pfba751238b)\" style=\"fill: none; stroke-dasharray: 5.55,2.4; stroke-dashoffset: 0; stroke: #ff7f0e; stroke-width: 1.5\"/>\n   </g>\n   <g id=\"line2d_73\">\n    <path d=\"M 49.633125 54.822053 \nL 69.163125 43.447261 \nL 88.693125 41.822291 \nL 108.223125 40.068355 \nL 127.753125 37.979107 \n\" clip-path=\"url(#pfba751238b)\" style=\"fill: none; stroke-dasharray: 9.6,2.4,1.5,2.4; stroke-dashoffset: 0; stroke: #2ca02c; stroke-width: 1.5\"/>\n   </g>\n   <g id=\"line2d_74\">\n    <path d=\"M 34.923295 13.5 \nL 44.646742 86.322172 \nL 54.370189 101.510838 \nL 64.093636 110.79674 \nL 73.817082 117.562228 \nL 83.540529 118.740914 \nL 93.263976 124.480968 \nL 102.987423 124.419361 \nL 112.71087 129.219653 \nL 122.434316 127.918694 \nL 132.157763 130.034874 \nL 141.88121 132.853129 \n\" clip-path=\"url(#pfba751238b)\" style=\"fill: none; stroke: #1f77b4; stroke-width: 1.5; stroke-linecap: square\"/>\n   </g>\n   <g id=\"line2d_75\">\n    <path d=\"M 49.633125 83.674504 \nL 69.163125 106.57322 \nL 88.693125 113.942267 \nL 108.223125 118.790644 \nL 127.753125 123.206904 \nL 147.283125 125.470939 \n\" clip-path=\"url(#pfba751238b)\" style=\"fill: none; stroke-dasharray: 5.55,2.4; stroke-dashoffset: 0; stroke: #ff7f0e; stroke-width: 1.5\"/>\n   </g>\n   <g id=\"line2d_76\">\n    <path d=\"M 49.633125 54.822053 \nL 69.163125 43.447261 \nL 88.693125 41.822291 \nL 108.223125 40.068355 \nL 127.753125 37.979107 \n\" clip-path=\"url(#pfba751238b)\" style=\"fill: none; stroke-dasharray: 9.6,2.4,1.5,2.4; stroke-dashoffset: 0; stroke: #2ca02c; stroke-width: 1.5\"/>\n   </g>\n   <g id=\"line2d_77\">\n    <path d=\"M 34.923295 13.5 \nL 44.646742 86.322172 \nL 54.370189 101.510838 \nL 64.093636 110.79674 \nL 73.817082 117.562228 \nL 83.540529 118.740914 \nL 93.263976 124.480968 \nL 102.987423 124.419361 \nL 112.71087 129.219653 \nL 122.434316 127.918694 \nL 132.157763 130.034874 \nL 141.88121 132.853129 \n\" clip-path=\"url(#pfba751238b)\" style=\"fill: none; stroke: #1f77b4; stroke-width: 1.5; stroke-linecap: square\"/>\n   </g>\n   <g id=\"line2d_78\">\n    <path d=\"M 49.633125 83.674504 \nL 69.163125 106.57322 \nL 88.693125 113.942267 \nL 108.223125 118.790644 \nL 127.753125 123.206904 \nL 147.283125 125.470939 \n\" clip-path=\"url(#pfba751238b)\" style=\"fill: none; stroke-dasharray: 5.55,2.4; stroke-dashoffset: 0; stroke: #ff7f0e; stroke-width: 1.5\"/>\n   </g>\n   <g id=\"line2d_79\">\n    <path d=\"M 49.633125 54.822053 \nL 69.163125 43.447261 \nL 88.693125 41.822291 \nL 108.223125 40.068355 \nL 127.753125 37.979107 \nL 147.283125 37.798555 \n\" clip-path=\"url(#pfba751238b)\" style=\"fill: none; stroke-dasharray: 9.6,2.4,1.5,2.4; stroke-dashoffset: 0; stroke: #2ca02c; stroke-width: 1.5\"/>\n   </g>\n   <g id=\"line2d_80\">\n    <path d=\"M 34.923295 13.5 \nL 44.646742 86.322172 \nL 54.370189 101.510838 \nL 64.093636 110.79674 \nL 73.817082 117.562228 \nL 83.540529 118.740914 \nL 93.263976 124.480968 \nL 102.987423 124.419361 \nL 112.71087 129.219653 \nL 122.434316 127.918694 \nL 132.157763 130.034874 \nL 141.88121 132.853129 \nL 151.604657 134.011603 \n\" clip-path=\"url(#pfba751238b)\" style=\"fill: none; stroke: #1f77b4; stroke-width: 1.5; stroke-linecap: square\"/>\n   </g>\n   <g id=\"line2d_81\">\n    <path d=\"M 49.633125 83.674504 \nL 69.163125 106.57322 \nL 88.693125 113.942267 \nL 108.223125 118.790644 \nL 127.753125 123.206904 \nL 147.283125 125.470939 \n\" clip-path=\"url(#pfba751238b)\" style=\"fill: none; stroke-dasharray: 5.55,2.4; stroke-dashoffset: 0; stroke: #ff7f0e; stroke-width: 1.5\"/>\n   </g>\n   <g id=\"line2d_82\">\n    <path d=\"M 49.633125 54.822053 \nL 69.163125 43.447261 \nL 88.693125 41.822291 \nL 108.223125 40.068355 \nL 127.753125 37.979107 \nL 147.283125 37.798555 \n\" clip-path=\"url(#pfba751238b)\" style=\"fill: none; stroke-dasharray: 9.6,2.4,1.5,2.4; stroke-dashoffset: 0; stroke: #2ca02c; stroke-width: 1.5\"/>\n   </g>\n   <g id=\"line2d_83\">\n    <path d=\"M 34.923295 13.5 \nL 44.646742 86.322172 \nL 54.370189 101.510838 \nL 64.093636 110.79674 \nL 73.817082 117.562228 \nL 83.540529 118.740914 \nL 93.263976 124.480968 \nL 102.987423 124.419361 \nL 112.71087 129.219653 \nL 122.434316 127.918694 \nL 132.157763 130.034874 \nL 141.88121 132.853129 \nL 151.604657 134.011603 \nL 161.328104 133.493526 \n\" clip-path=\"url(#pfba751238b)\" style=\"fill: none; stroke: #1f77b4; stroke-width: 1.5; stroke-linecap: square\"/>\n   </g>\n   <g id=\"line2d_84\">\n    <path d=\"M 49.633125 83.674504 \nL 69.163125 106.57322 \nL 88.693125 113.942267 \nL 108.223125 118.790644 \nL 127.753125 123.206904 \nL 147.283125 125.470939 \n\" clip-path=\"url(#pfba751238b)\" style=\"fill: none; stroke-dasharray: 5.55,2.4; stroke-dashoffset: 0; stroke: #ff7f0e; stroke-width: 1.5\"/>\n   </g>\n   <g id=\"line2d_85\">\n    <path d=\"M 49.633125 54.822053 \nL 69.163125 43.447261 \nL 88.693125 41.822291 \nL 108.223125 40.068355 \nL 127.753125 37.979107 \nL 147.283125 37.798555 \n\" clip-path=\"url(#pfba751238b)\" style=\"fill: none; stroke-dasharray: 9.6,2.4,1.5,2.4; stroke-dashoffset: 0; stroke: #2ca02c; stroke-width: 1.5\"/>\n   </g>\n   <g id=\"line2d_86\">\n    <path d=\"M 34.923295 13.5 \nL 44.646742 86.322172 \nL 54.370189 101.510838 \nL 64.093636 110.79674 \nL 73.817082 117.562228 \nL 83.540529 118.740914 \nL 93.263976 124.480968 \nL 102.987423 124.419361 \nL 112.71087 129.219653 \nL 122.434316 127.918694 \nL 132.157763 130.034874 \nL 141.88121 132.853129 \nL 151.604657 134.011603 \nL 161.328104 133.493526 \n\" clip-path=\"url(#pfba751238b)\" style=\"fill: none; stroke: #1f77b4; stroke-width: 1.5; stroke-linecap: square\"/>\n   </g>\n   <g id=\"line2d_87\">\n    <path d=\"M 49.633125 83.674504 \nL 69.163125 106.57322 \nL 88.693125 113.942267 \nL 108.223125 118.790644 \nL 127.753125 123.206904 \nL 147.283125 125.470939 \nL 166.813125 127.535806 \n\" clip-path=\"url(#pfba751238b)\" style=\"fill: none; stroke-dasharray: 5.55,2.4; stroke-dashoffset: 0; stroke: #ff7f0e; stroke-width: 1.5\"/>\n   </g>\n   <g id=\"line2d_88\">\n    <path d=\"M 49.633125 54.822053 \nL 69.163125 43.447261 \nL 88.693125 41.822291 \nL 108.223125 40.068355 \nL 127.753125 37.979107 \nL 147.283125 37.798555 \n\" clip-path=\"url(#pfba751238b)\" style=\"fill: none; stroke-dasharray: 9.6,2.4,1.5,2.4; stroke-dashoffset: 0; stroke: #2ca02c; stroke-width: 1.5\"/>\n   </g>\n   <g id=\"line2d_89\">\n    <path d=\"M 34.923295 13.5 \nL 44.646742 86.322172 \nL 54.370189 101.510838 \nL 64.093636 110.79674 \nL 73.817082 117.562228 \nL 83.540529 118.740914 \nL 93.263976 124.480968 \nL 102.987423 124.419361 \nL 112.71087 129.219653 \nL 122.434316 127.918694 \nL 132.157763 130.034874 \nL 141.88121 132.853129 \nL 151.604657 134.011603 \nL 161.328104 133.493526 \n\" clip-path=\"url(#pfba751238b)\" style=\"fill: none; stroke: #1f77b4; stroke-width: 1.5; stroke-linecap: square\"/>\n   </g>\n   <g id=\"line2d_90\">\n    <path d=\"M 49.633125 83.674504 \nL 69.163125 106.57322 \nL 88.693125 113.942267 \nL 108.223125 118.790644 \nL 127.753125 123.206904 \nL 147.283125 125.470939 \nL 166.813125 127.535806 \n\" clip-path=\"url(#pfba751238b)\" style=\"fill: none; stroke-dasharray: 5.55,2.4; stroke-dashoffset: 0; stroke: #ff7f0e; stroke-width: 1.5\"/>\n   </g>\n   <g id=\"line2d_91\">\n    <path d=\"M 49.633125 54.822053 \nL 69.163125 43.447261 \nL 88.693125 41.822291 \nL 108.223125 40.068355 \nL 127.753125 37.979107 \nL 147.283125 37.798555 \nL 166.813125 37.43745 \n\" clip-path=\"url(#pfba751238b)\" style=\"fill: none; stroke-dasharray: 9.6,2.4,1.5,2.4; stroke-dashoffset: 0; stroke: #2ca02c; stroke-width: 1.5\"/>\n   </g>\n   <g id=\"line2d_92\">\n    <path d=\"M 34.923295 13.5 \nL 44.646742 86.322172 \nL 54.370189 101.510838 \nL 64.093636 110.79674 \nL 73.817082 117.562228 \nL 83.540529 118.740914 \nL 93.263976 124.480968 \nL 102.987423 124.419361 \nL 112.71087 129.219653 \nL 122.434316 127.918694 \nL 132.157763 130.034874 \nL 141.88121 132.853129 \nL 151.604657 134.011603 \nL 161.328104 133.493526 \nL 171.051551 136.266719 \n\" clip-path=\"url(#pfba751238b)\" style=\"fill: none; stroke: #1f77b4; stroke-width: 1.5; stroke-linecap: square\"/>\n   </g>\n   <g id=\"line2d_93\">\n    <path d=\"M 49.633125 83.674504 \nL 69.163125 106.57322 \nL 88.693125 113.942267 \nL 108.223125 118.790644 \nL 127.753125 123.206904 \nL 147.283125 125.470939 \nL 166.813125 127.535806 \n\" clip-path=\"url(#pfba751238b)\" style=\"fill: none; stroke-dasharray: 5.55,2.4; stroke-dashoffset: 0; stroke: #ff7f0e; stroke-width: 1.5\"/>\n   </g>\n   <g id=\"line2d_94\">\n    <path d=\"M 49.633125 54.822053 \nL 69.163125 43.447261 \nL 88.693125 41.822291 \nL 108.223125 40.068355 \nL 127.753125 37.979107 \nL 147.283125 37.798555 \nL 166.813125 37.43745 \n\" clip-path=\"url(#pfba751238b)\" style=\"fill: none; stroke-dasharray: 9.6,2.4,1.5,2.4; stroke-dashoffset: 0; stroke: #2ca02c; stroke-width: 1.5\"/>\n   </g>\n   <g id=\"line2d_95\">\n    <path d=\"M 34.923295 13.5 \nL 44.646742 86.322172 \nL 54.370189 101.510838 \nL 64.093636 110.79674 \nL 73.817082 117.562228 \nL 83.540529 118.740914 \nL 93.263976 124.480968 \nL 102.987423 124.419361 \nL 112.71087 129.219653 \nL 122.434316 127.918694 \nL 132.157763 130.034874 \nL 141.88121 132.853129 \nL 151.604657 134.011603 \nL 161.328104 133.493526 \nL 171.051551 136.266719 \nL 180.774997 135.778181 \n\" clip-path=\"url(#pfba751238b)\" style=\"fill: none; stroke: #1f77b4; stroke-width: 1.5; stroke-linecap: square\"/>\n   </g>\n   <g id=\"line2d_96\">\n    <path d=\"M 49.633125 83.674504 \nL 69.163125 106.57322 \nL 88.693125 113.942267 \nL 108.223125 118.790644 \nL 127.753125 123.206904 \nL 147.283125 125.470939 \nL 166.813125 127.535806 \n\" clip-path=\"url(#pfba751238b)\" style=\"fill: none; stroke-dasharray: 5.55,2.4; stroke-dashoffset: 0; stroke: #ff7f0e; stroke-width: 1.5\"/>\n   </g>\n   <g id=\"line2d_97\">\n    <path d=\"M 49.633125 54.822053 \nL 69.163125 43.447261 \nL 88.693125 41.822291 \nL 108.223125 40.068355 \nL 127.753125 37.979107 \nL 147.283125 37.798555 \nL 166.813125 37.43745 \n\" clip-path=\"url(#pfba751238b)\" style=\"fill: none; stroke-dasharray: 9.6,2.4,1.5,2.4; stroke-dashoffset: 0; stroke: #2ca02c; stroke-width: 1.5\"/>\n   </g>\n   <g id=\"line2d_98\">\n    <path d=\"M 34.923295 13.5 \nL 44.646742 86.322172 \nL 54.370189 101.510838 \nL 64.093636 110.79674 \nL 73.817082 117.562228 \nL 83.540529 118.740914 \nL 93.263976 124.480968 \nL 102.987423 124.419361 \nL 112.71087 129.219653 \nL 122.434316 127.918694 \nL 132.157763 130.034874 \nL 141.88121 132.853129 \nL 151.604657 134.011603 \nL 161.328104 133.493526 \nL 171.051551 136.266719 \nL 180.774997 135.778181 \n\" clip-path=\"url(#pfba751238b)\" style=\"fill: none; stroke: #1f77b4; stroke-width: 1.5; stroke-linecap: square\"/>\n   </g>\n   <g id=\"line2d_99\">\n    <path d=\"M 49.633125 83.674504 \nL 69.163125 106.57322 \nL 88.693125 113.942267 \nL 108.223125 118.790644 \nL 127.753125 123.206904 \nL 147.283125 125.470939 \nL 166.813125 127.535806 \nL 186.343125 124.470541 \n\" clip-path=\"url(#pfba751238b)\" style=\"fill: none; stroke-dasharray: 5.55,2.4; stroke-dashoffset: 0; stroke: #ff7f0e; stroke-width: 1.5\"/>\n   </g>\n   <g id=\"line2d_100\">\n    <path d=\"M 49.633125 54.822053 \nL 69.163125 43.447261 \nL 88.693125 41.822291 \nL 108.223125 40.068355 \nL 127.753125 37.979107 \nL 147.283125 37.798555 \nL 166.813125 37.43745 \n\" clip-path=\"url(#pfba751238b)\" style=\"fill: none; stroke-dasharray: 9.6,2.4,1.5,2.4; stroke-dashoffset: 0; stroke: #2ca02c; stroke-width: 1.5\"/>\n   </g>\n   <g id=\"line2d_101\">\n    <path d=\"M 34.923295 13.5 \nL 44.646742 86.322172 \nL 54.370189 101.510838 \nL 64.093636 110.79674 \nL 73.817082 117.562228 \nL 83.540529 118.740914 \nL 93.263976 124.480968 \nL 102.987423 124.419361 \nL 112.71087 129.219653 \nL 122.434316 127.918694 \nL 132.157763 130.034874 \nL 141.88121 132.853129 \nL 151.604657 134.011603 \nL 161.328104 133.493526 \nL 171.051551 136.266719 \nL 180.774997 135.778181 \n\" clip-path=\"url(#pfba751238b)\" style=\"fill: none; stroke: #1f77b4; stroke-width: 1.5; stroke-linecap: square\"/>\n   </g>\n   <g id=\"line2d_102\">\n    <path d=\"M 49.633125 83.674504 \nL 69.163125 106.57322 \nL 88.693125 113.942267 \nL 108.223125 118.790644 \nL 127.753125 123.206904 \nL 147.283125 125.470939 \nL 166.813125 127.535806 \nL 186.343125 124.470541 \n\" clip-path=\"url(#pfba751238b)\" style=\"fill: none; stroke-dasharray: 5.55,2.4; stroke-dashoffset: 0; stroke: #ff7f0e; stroke-width: 1.5\"/>\n   </g>\n   <g id=\"line2d_103\">\n    <path d=\"M 49.633125 54.822053 \nL 69.163125 43.447261 \nL 88.693125 41.822291 \nL 108.223125 40.068355 \nL 127.753125 37.979107 \nL 147.283125 37.798555 \nL 166.813125 37.43745 \nL 186.343125 39.423525 \n\" clip-path=\"url(#pfba751238b)\" style=\"fill: none; stroke-dasharray: 9.6,2.4,1.5,2.4; stroke-dashoffset: 0; stroke: #2ca02c; stroke-width: 1.5\"/>\n   </g>\n   <g id=\"line2d_104\">\n    <path d=\"M 34.923295 13.5 \nL 44.646742 86.322172 \nL 54.370189 101.510838 \nL 64.093636 110.79674 \nL 73.817082 117.562228 \nL 83.540529 118.740914 \nL 93.263976 124.480968 \nL 102.987423 124.419361 \nL 112.71087 129.219653 \nL 122.434316 127.918694 \nL 132.157763 130.034874 \nL 141.88121 132.853129 \nL 151.604657 134.011603 \nL 161.328104 133.493526 \nL 171.051551 136.266719 \nL 180.774997 135.778181 \nL 190.498444 135.789246 \n\" clip-path=\"url(#pfba751238b)\" style=\"fill: none; stroke: #1f77b4; stroke-width: 1.5; stroke-linecap: square\"/>\n   </g>\n   <g id=\"line2d_105\">\n    <path d=\"M 49.633125 83.674504 \nL 69.163125 106.57322 \nL 88.693125 113.942267 \nL 108.223125 118.790644 \nL 127.753125 123.206904 \nL 147.283125 125.470939 \nL 166.813125 127.535806 \nL 186.343125 124.470541 \n\" clip-path=\"url(#pfba751238b)\" style=\"fill: none; stroke-dasharray: 5.55,2.4; stroke-dashoffset: 0; stroke: #ff7f0e; stroke-width: 1.5\"/>\n   </g>\n   <g id=\"line2d_106\">\n    <path d=\"M 49.633125 54.822053 \nL 69.163125 43.447261 \nL 88.693125 41.822291 \nL 108.223125 40.068355 \nL 127.753125 37.979107 \nL 147.283125 37.798555 \nL 166.813125 37.43745 \nL 186.343125 39.423525 \n\" clip-path=\"url(#pfba751238b)\" style=\"fill: none; stroke-dasharray: 9.6,2.4,1.5,2.4; stroke-dashoffset: 0; stroke: #2ca02c; stroke-width: 1.5\"/>\n   </g>\n   <g id=\"line2d_107\">\n    <path d=\"M 34.923295 13.5 \nL 44.646742 86.322172 \nL 54.370189 101.510838 \nL 64.093636 110.79674 \nL 73.817082 117.562228 \nL 83.540529 118.740914 \nL 93.263976 124.480968 \nL 102.987423 124.419361 \nL 112.71087 129.219653 \nL 122.434316 127.918694 \nL 132.157763 130.034874 \nL 141.88121 132.853129 \nL 151.604657 134.011603 \nL 161.328104 133.493526 \nL 171.051551 136.266719 \nL 180.774997 135.778181 \nL 190.498444 135.789246 \nL 200.221891 139.275753 \n\" clip-path=\"url(#pfba751238b)\" style=\"fill: none; stroke: #1f77b4; stroke-width: 1.5; stroke-linecap: square\"/>\n   </g>\n   <g id=\"line2d_108\">\n    <path d=\"M 49.633125 83.674504 \nL 69.163125 106.57322 \nL 88.693125 113.942267 \nL 108.223125 118.790644 \nL 127.753125 123.206904 \nL 147.283125 125.470939 \nL 166.813125 127.535806 \nL 186.343125 124.470541 \n\" clip-path=\"url(#pfba751238b)\" style=\"fill: none; stroke-dasharray: 5.55,2.4; stroke-dashoffset: 0; stroke: #ff7f0e; stroke-width: 1.5\"/>\n   </g>\n   <g id=\"line2d_109\">\n    <path d=\"M 49.633125 54.822053 \nL 69.163125 43.447261 \nL 88.693125 41.822291 \nL 108.223125 40.068355 \nL 127.753125 37.979107 \nL 147.283125 37.798555 \nL 166.813125 37.43745 \nL 186.343125 39.423525 \n\" clip-path=\"url(#pfba751238b)\" style=\"fill: none; stroke-dasharray: 9.6,2.4,1.5,2.4; stroke-dashoffset: 0; stroke: #2ca02c; stroke-width: 1.5\"/>\n   </g>\n   <g id=\"line2d_110\">\n    <path d=\"M 34.923295 13.5 \nL 44.646742 86.322172 \nL 54.370189 101.510838 \nL 64.093636 110.79674 \nL 73.817082 117.562228 \nL 83.540529 118.740914 \nL 93.263976 124.480968 \nL 102.987423 124.419361 \nL 112.71087 129.219653 \nL 122.434316 127.918694 \nL 132.157763 130.034874 \nL 141.88121 132.853129 \nL 151.604657 134.011603 \nL 161.328104 133.493526 \nL 171.051551 136.266719 \nL 180.774997 135.778181 \nL 190.498444 135.789246 \nL 200.221891 139.275753 \n\" clip-path=\"url(#pfba751238b)\" style=\"fill: none; stroke: #1f77b4; stroke-width: 1.5; stroke-linecap: square\"/>\n   </g>\n   <g id=\"line2d_111\">\n    <path d=\"M 49.633125 83.674504 \nL 69.163125 106.57322 \nL 88.693125 113.942267 \nL 108.223125 118.790644 \nL 127.753125 123.206904 \nL 147.283125 125.470939 \nL 166.813125 127.535806 \nL 186.343125 124.470541 \nL 205.873125 130.101978 \n\" clip-path=\"url(#pfba751238b)\" style=\"fill: none; stroke-dasharray: 5.55,2.4; stroke-dashoffset: 0; stroke: #ff7f0e; stroke-width: 1.5\"/>\n   </g>\n   <g id=\"line2d_112\">\n    <path d=\"M 49.633125 54.822053 \nL 69.163125 43.447261 \nL 88.693125 41.822291 \nL 108.223125 40.068355 \nL 127.753125 37.979107 \nL 147.283125 37.798555 \nL 166.813125 37.43745 \nL 186.343125 39.423525 \n\" clip-path=\"url(#pfba751238b)\" style=\"fill: none; stroke-dasharray: 9.6,2.4,1.5,2.4; stroke-dashoffset: 0; stroke: #2ca02c; stroke-width: 1.5\"/>\n   </g>\n   <g id=\"line2d_113\">\n    <path d=\"M 34.923295 13.5 \nL 44.646742 86.322172 \nL 54.370189 101.510838 \nL 64.093636 110.79674 \nL 73.817082 117.562228 \nL 83.540529 118.740914 \nL 93.263976 124.480968 \nL 102.987423 124.419361 \nL 112.71087 129.219653 \nL 122.434316 127.918694 \nL 132.157763 130.034874 \nL 141.88121 132.853129 \nL 151.604657 134.011603 \nL 161.328104 133.493526 \nL 171.051551 136.266719 \nL 180.774997 135.778181 \nL 190.498444 135.789246 \nL 200.221891 139.275753 \n\" clip-path=\"url(#pfba751238b)\" style=\"fill: none; stroke: #1f77b4; stroke-width: 1.5; stroke-linecap: square\"/>\n   </g>\n   <g id=\"line2d_114\">\n    <path d=\"M 49.633125 83.674504 \nL 69.163125 106.57322 \nL 88.693125 113.942267 \nL 108.223125 118.790644 \nL 127.753125 123.206904 \nL 147.283125 125.470939 \nL 166.813125 127.535806 \nL 186.343125 124.470541 \nL 205.873125 130.101978 \n\" clip-path=\"url(#pfba751238b)\" style=\"fill: none; stroke-dasharray: 5.55,2.4; stroke-dashoffset: 0; stroke: #ff7f0e; stroke-width: 1.5\"/>\n   </g>\n   <g id=\"line2d_115\">\n    <path d=\"M 49.633125 54.822053 \nL 69.163125 43.447261 \nL 88.693125 41.822291 \nL 108.223125 40.068355 \nL 127.753125 37.979107 \nL 147.283125 37.798555 \nL 166.813125 37.43745 \nL 186.343125 39.423525 \nL 205.873125 36.741034 \n\" clip-path=\"url(#pfba751238b)\" style=\"fill: none; stroke-dasharray: 9.6,2.4,1.5,2.4; stroke-dashoffset: 0; stroke: #2ca02c; stroke-width: 1.5\"/>\n   </g>\n   <g id=\"line2d_116\">\n    <path d=\"M 34.923295 13.5 \nL 44.646742 86.322172 \nL 54.370189 101.510838 \nL 64.093636 110.79674 \nL 73.817082 117.562228 \nL 83.540529 118.740914 \nL 93.263976 124.480968 \nL 102.987423 124.419361 \nL 112.71087 129.219653 \nL 122.434316 127.918694 \nL 132.157763 130.034874 \nL 141.88121 132.853129 \nL 151.604657 134.011603 \nL 161.328104 133.493526 \nL 171.051551 136.266719 \nL 180.774997 135.778181 \nL 190.498444 135.789246 \nL 200.221891 139.275753 \nL 209.945338 138.337177 \n\" clip-path=\"url(#pfba751238b)\" style=\"fill: none; stroke: #1f77b4; stroke-width: 1.5; stroke-linecap: square\"/>\n   </g>\n   <g id=\"line2d_117\">\n    <path d=\"M 49.633125 83.674504 \nL 69.163125 106.57322 \nL 88.693125 113.942267 \nL 108.223125 118.790644 \nL 127.753125 123.206904 \nL 147.283125 125.470939 \nL 166.813125 127.535806 \nL 186.343125 124.470541 \nL 205.873125 130.101978 \n\" clip-path=\"url(#pfba751238b)\" style=\"fill: none; stroke-dasharray: 5.55,2.4; stroke-dashoffset: 0; stroke: #ff7f0e; stroke-width: 1.5\"/>\n   </g>\n   <g id=\"line2d_118\">\n    <path d=\"M 49.633125 54.822053 \nL 69.163125 43.447261 \nL 88.693125 41.822291 \nL 108.223125 40.068355 \nL 127.753125 37.979107 \nL 147.283125 37.798555 \nL 166.813125 37.43745 \nL 186.343125 39.423525 \nL 205.873125 36.741034 \n\" clip-path=\"url(#pfba751238b)\" style=\"fill: none; stroke-dasharray: 9.6,2.4,1.5,2.4; stroke-dashoffset: 0; stroke: #2ca02c; stroke-width: 1.5\"/>\n   </g>\n   <g id=\"line2d_119\">\n    <path d=\"M 34.923295 13.5 \nL 44.646742 86.322172 \nL 54.370189 101.510838 \nL 64.093636 110.79674 \nL 73.817082 117.562228 \nL 83.540529 118.740914 \nL 93.263976 124.480968 \nL 102.987423 124.419361 \nL 112.71087 129.219653 \nL 122.434316 127.918694 \nL 132.157763 130.034874 \nL 141.88121 132.853129 \nL 151.604657 134.011603 \nL 161.328104 133.493526 \nL 171.051551 136.266719 \nL 180.774997 135.778181 \nL 190.498444 135.789246 \nL 200.221891 139.275753 \nL 209.945338 138.337177 \nL 219.668785 139.5 \n\" clip-path=\"url(#pfba751238b)\" style=\"fill: none; stroke: #1f77b4; stroke-width: 1.5; stroke-linecap: square\"/>\n   </g>\n   <g id=\"line2d_120\">\n    <path d=\"M 49.633125 83.674504 \nL 69.163125 106.57322 \nL 88.693125 113.942267 \nL 108.223125 118.790644 \nL 127.753125 123.206904 \nL 147.283125 125.470939 \nL 166.813125 127.535806 \nL 186.343125 124.470541 \nL 205.873125 130.101978 \n\" clip-path=\"url(#pfba751238b)\" style=\"fill: none; stroke-dasharray: 5.55,2.4; stroke-dashoffset: 0; stroke: #ff7f0e; stroke-width: 1.5\"/>\n   </g>\n   <g id=\"line2d_121\">\n    <path d=\"M 49.633125 54.822053 \nL 69.163125 43.447261 \nL 88.693125 41.822291 \nL 108.223125 40.068355 \nL 127.753125 37.979107 \nL 147.283125 37.798555 \nL 166.813125 37.43745 \nL 186.343125 39.423525 \nL 205.873125 36.741034 \n\" clip-path=\"url(#pfba751238b)\" style=\"fill: none; stroke-dasharray: 9.6,2.4,1.5,2.4; stroke-dashoffset: 0; stroke: #2ca02c; stroke-width: 1.5\"/>\n   </g>\n   <g id=\"line2d_122\">\n    <path d=\"M 34.923295 13.5 \nL 44.646742 86.322172 \nL 54.370189 101.510838 \nL 64.093636 110.79674 \nL 73.817082 117.562228 \nL 83.540529 118.740914 \nL 93.263976 124.480968 \nL 102.987423 124.419361 \nL 112.71087 129.219653 \nL 122.434316 127.918694 \nL 132.157763 130.034874 \nL 141.88121 132.853129 \nL 151.604657 134.011603 \nL 161.328104 133.493526 \nL 171.051551 136.266719 \nL 180.774997 135.778181 \nL 190.498444 135.789246 \nL 200.221891 139.275753 \nL 209.945338 138.337177 \nL 219.668785 139.5 \n\" clip-path=\"url(#pfba751238b)\" style=\"fill: none; stroke: #1f77b4; stroke-width: 1.5; stroke-linecap: square\"/>\n   </g>\n   <g id=\"line2d_123\">\n    <path d=\"M 49.633125 83.674504 \nL 69.163125 106.57322 \nL 88.693125 113.942267 \nL 108.223125 118.790644 \nL 127.753125 123.206904 \nL 147.283125 125.470939 \nL 166.813125 127.535806 \nL 186.343125 124.470541 \nL 205.873125 130.101978 \nL 225.403125 131.471612 \n\" clip-path=\"url(#pfba751238b)\" style=\"fill: none; stroke-dasharray: 5.55,2.4; stroke-dashoffset: 0; stroke: #ff7f0e; stroke-width: 1.5\"/>\n   </g>\n   <g id=\"line2d_124\">\n    <path d=\"M 49.633125 54.822053 \nL 69.163125 43.447261 \nL 88.693125 41.822291 \nL 108.223125 40.068355 \nL 127.753125 37.979107 \nL 147.283125 37.798555 \nL 166.813125 37.43745 \nL 186.343125 39.423525 \nL 205.873125 36.741034 \n\" clip-path=\"url(#pfba751238b)\" style=\"fill: none; stroke-dasharray: 9.6,2.4,1.5,2.4; stroke-dashoffset: 0; stroke: #2ca02c; stroke-width: 1.5\"/>\n   </g>\n   <g id=\"line2d_125\">\n    <path d=\"M 34.923295 13.5 \nL 44.646742 86.322172 \nL 54.370189 101.510838 \nL 64.093636 110.79674 \nL 73.817082 117.562228 \nL 83.540529 118.740914 \nL 93.263976 124.480968 \nL 102.987423 124.419361 \nL 112.71087 129.219653 \nL 122.434316 127.918694 \nL 132.157763 130.034874 \nL 141.88121 132.853129 \nL 151.604657 134.011603 \nL 161.328104 133.493526 \nL 171.051551 136.266719 \nL 180.774997 135.778181 \nL 190.498444 135.789246 \nL 200.221891 139.275753 \nL 209.945338 138.337177 \nL 219.668785 139.5 \n\" clip-path=\"url(#pfba751238b)\" style=\"fill: none; stroke: #1f77b4; stroke-width: 1.5; stroke-linecap: square\"/>\n   </g>\n   <g id=\"line2d_126\">\n    <path d=\"M 49.633125 83.674504 \nL 69.163125 106.57322 \nL 88.693125 113.942267 \nL 108.223125 118.790644 \nL 127.753125 123.206904 \nL 147.283125 125.470939 \nL 166.813125 127.535806 \nL 186.343125 124.470541 \nL 205.873125 130.101978 \nL 225.403125 131.471612 \n\" clip-path=\"url(#pfba751238b)\" style=\"fill: none; stroke-dasharray: 5.55,2.4; stroke-dashoffset: 0; stroke: #ff7f0e; stroke-width: 1.5\"/>\n   </g>\n   <g id=\"line2d_127\">\n    <path d=\"M 49.633125 54.822053 \nL 69.163125 43.447261 \nL 88.693125 41.822291 \nL 108.223125 40.068355 \nL 127.753125 37.979107 \nL 147.283125 37.798555 \nL 166.813125 37.43745 \nL 186.343125 39.423525 \nL 205.873125 36.741034 \nL 225.403125 36.663655 \n\" clip-path=\"url(#pfba751238b)\" style=\"fill: none; stroke-dasharray: 9.6,2.4,1.5,2.4; stroke-dashoffset: 0; stroke: #2ca02c; stroke-width: 1.5\"/>\n   </g>\n   <g id=\"patch_3\">\n    <path d=\"M 30.103125 145.8 \nL 30.103125 7.2 \n\" style=\"fill: none; stroke: #000000; stroke-width: 0.8; stroke-linejoin: miter; stroke-linecap: square\"/>\n   </g>\n   <g id=\"patch_4\">\n    <path d=\"M 225.403125 145.8 \nL 225.403125 7.2 \n\" style=\"fill: none; stroke: #000000; stroke-width: 0.8; stroke-linejoin: miter; stroke-linecap: square\"/>\n   </g>\n   <g id=\"patch_5\">\n    <path d=\"M 30.103125 145.8 \nL 225.403125 145.8 \n\" style=\"fill: none; stroke: #000000; stroke-width: 0.8; stroke-linejoin: miter; stroke-linecap: square\"/>\n   </g>\n   <g id=\"patch_6\">\n    <path d=\"M 30.103125 7.2 \nL 225.403125 7.2 \n\" style=\"fill: none; stroke: #000000; stroke-width: 0.8; stroke-linejoin: miter; stroke-linecap: square\"/>\n   </g>\n   <g id=\"legend_1\">\n    <g id=\"patch_7\">\n     <path d=\"M 138.8125 100.434375 \nL 218.403125 100.434375 \nQ 220.403125 100.434375 220.403125 98.434375 \nL 220.403125 54.565625 \nQ 220.403125 52.565625 218.403125 52.565625 \nL 138.8125 52.565625 \nQ 136.8125 52.565625 136.8125 54.565625 \nL 136.8125 98.434375 \nQ 136.8125 100.434375 138.8125 100.434375 \nz\n\" style=\"fill: #ffffff; opacity: 0.8; stroke: #cccccc; stroke-linejoin: miter\"/>\n    </g>\n    <g id=\"line2d_128\">\n     <path d=\"M 140.8125 60.664063 \nL 150.8125 60.664063 \nL 160.8125 60.664063 \n\" style=\"fill: none; stroke: #1f77b4; stroke-width: 1.5; stroke-linecap: square\"/>\n    </g>\n    <g id=\"text_13\">\n     <!-- train_loss -->\n     <g transform=\"translate(168.8125 64.164063) scale(0.1 -0.1)\">\n      <defs>\n       <path id=\"DejaVuSans-74\" d=\"M 1172 4494 \nL 1172 3500 \nL 2356 3500 \nL 2356 3053 \nL 1172 3053 \nL 1172 1153 \nQ 1172 725 1289 603 \nQ 1406 481 1766 481 \nL 2356 481 \nL 2356 0 \nL 1766 0 \nQ 1100 0 847 248 \nQ 594 497 594 1153 \nL 594 3053 \nL 172 3053 \nL 172 3500 \nL 594 3500 \nL 594 4494 \nL 1172 4494 \nz\n\" transform=\"scale(0.015625)\"/>\n       <path id=\"DejaVuSans-72\" d=\"M 2631 2963 \nQ 2534 3019 2420 3045 \nQ 2306 3072 2169 3072 \nQ 1681 3072 1420 2755 \nQ 1159 2438 1159 1844 \nL 1159 0 \nL 581 0 \nL 581 3500 \nL 1159 3500 \nL 1159 2956 \nQ 1341 3275 1631 3429 \nQ 1922 3584 2338 3584 \nQ 2397 3584 2469 3576 \nQ 2541 3569 2628 3553 \nL 2631 2963 \nz\n\" transform=\"scale(0.015625)\"/>\n       <path id=\"DejaVuSans-61\" d=\"M 2194 1759 \nQ 1497 1759 1228 1600 \nQ 959 1441 959 1056 \nQ 959 750 1161 570 \nQ 1363 391 1709 391 \nQ 2188 391 2477 730 \nQ 2766 1069 2766 1631 \nL 2766 1759 \nL 2194 1759 \nz\nM 3341 1997 \nL 3341 0 \nL 2766 0 \nL 2766 531 \nQ 2569 213 2275 61 \nQ 1981 -91 1556 -91 \nQ 1019 -91 701 211 \nQ 384 513 384 1019 \nQ 384 1609 779 1909 \nQ 1175 2209 1959 2209 \nL 2766 2209 \nL 2766 2266 \nQ 2766 2663 2505 2880 \nQ 2244 3097 1772 3097 \nQ 1472 3097 1187 3025 \nQ 903 2953 641 2809 \nL 641 3341 \nQ 956 3463 1253 3523 \nQ 1550 3584 1831 3584 \nQ 2591 3584 2966 3190 \nQ 3341 2797 3341 1997 \nz\n\" transform=\"scale(0.015625)\"/>\n       <path id=\"DejaVuSans-69\" d=\"M 603 3500 \nL 1178 3500 \nL 1178 0 \nL 603 0 \nL 603 3500 \nz\nM 603 4863 \nL 1178 4863 \nL 1178 4134 \nL 603 4134 \nL 603 4863 \nz\n\" transform=\"scale(0.015625)\"/>\n       <path id=\"DejaVuSans-6e\" d=\"M 3513 2113 \nL 3513 0 \nL 2938 0 \nL 2938 2094 \nQ 2938 2591 2744 2837 \nQ 2550 3084 2163 3084 \nQ 1697 3084 1428 2787 \nQ 1159 2491 1159 1978 \nL 1159 0 \nL 581 0 \nL 581 3500 \nL 1159 3500 \nL 1159 2956 \nQ 1366 3272 1645 3428 \nQ 1925 3584 2291 3584 \nQ 2894 3584 3203 3211 \nQ 3513 2838 3513 2113 \nz\n\" transform=\"scale(0.015625)\"/>\n       <path id=\"DejaVuSans-5f\" d=\"M 3263 -1063 \nL 3263 -1509 \nL -63 -1509 \nL -63 -1063 \nL 3263 -1063 \nz\n\" transform=\"scale(0.015625)\"/>\n       <path id=\"DejaVuSans-6c\" d=\"M 603 4863 \nL 1178 4863 \nL 1178 0 \nL 603 0 \nL 603 4863 \nz\n\" transform=\"scale(0.015625)\"/>\n       <path id=\"DejaVuSans-73\" d=\"M 2834 3397 \nL 2834 2853 \nQ 2591 2978 2328 3040 \nQ 2066 3103 1784 3103 \nQ 1356 3103 1142 2972 \nQ 928 2841 928 2578 \nQ 928 2378 1081 2264 \nQ 1234 2150 1697 2047 \nL 1894 2003 \nQ 2506 1872 2764 1633 \nQ 3022 1394 3022 966 \nQ 3022 478 2636 193 \nQ 2250 -91 1575 -91 \nQ 1294 -91 989 -36 \nQ 684 19 347 128 \nL 347 722 \nQ 666 556 975 473 \nQ 1284 391 1588 391 \nQ 1994 391 2212 530 \nQ 2431 669 2431 922 \nQ 2431 1156 2273 1281 \nQ 2116 1406 1581 1522 \nL 1381 1569 \nQ 847 1681 609 1914 \nQ 372 2147 372 2553 \nQ 372 3047 722 3315 \nQ 1072 3584 1716 3584 \nQ 2034 3584 2315 3537 \nQ 2597 3491 2834 3397 \nz\n\" transform=\"scale(0.015625)\"/>\n      </defs>\n      <use xlink:href=\"#DejaVuSans-74\"/>\n      <use xlink:href=\"#DejaVuSans-72\" x=\"39.208984\"/>\n      <use xlink:href=\"#DejaVuSans-61\" x=\"80.322266\"/>\n      <use xlink:href=\"#DejaVuSans-69\" x=\"141.601562\"/>\n      <use xlink:href=\"#DejaVuSans-6e\" x=\"169.384766\"/>\n      <use xlink:href=\"#DejaVuSans-5f\" x=\"232.763672\"/>\n      <use xlink:href=\"#DejaVuSans-6c\" x=\"282.763672\"/>\n      <use xlink:href=\"#DejaVuSans-6f\" x=\"310.546875\"/>\n      <use xlink:href=\"#DejaVuSans-73\" x=\"371.728516\"/>\n      <use xlink:href=\"#DejaVuSans-73\" x=\"423.828125\"/>\n     </g>\n    </g>\n    <g id=\"line2d_129\">\n     <path d=\"M 140.8125 75.620313 \nL 150.8125 75.620313 \nL 160.8125 75.620313 \n\" style=\"fill: none; stroke-dasharray: 5.55,2.4; stroke-dashoffset: 0; stroke: #ff7f0e; stroke-width: 1.5\"/>\n    </g>\n    <g id=\"text_14\">\n     <!-- val_loss -->\n     <g transform=\"translate(168.8125 79.120313) scale(0.1 -0.1)\">\n      <defs>\n       <path id=\"DejaVuSans-76\" d=\"M 191 3500 \nL 800 3500 \nL 1894 563 \nL 2988 3500 \nL 3597 3500 \nL 2284 0 \nL 1503 0 \nL 191 3500 \nz\n\" transform=\"scale(0.015625)\"/>\n      </defs>\n      <use xlink:href=\"#DejaVuSans-76\"/>\n      <use xlink:href=\"#DejaVuSans-61\" x=\"59.179688\"/>\n      <use xlink:href=\"#DejaVuSans-6c\" x=\"120.458984\"/>\n      <use xlink:href=\"#DejaVuSans-5f\" x=\"148.242188\"/>\n      <use xlink:href=\"#DejaVuSans-6c\" x=\"198.242188\"/>\n      <use xlink:href=\"#DejaVuSans-6f\" x=\"226.025391\"/>\n      <use xlink:href=\"#DejaVuSans-73\" x=\"287.207031\"/>\n      <use xlink:href=\"#DejaVuSans-73\" x=\"339.306641\"/>\n     </g>\n    </g>\n    <g id=\"line2d_130\">\n     <path d=\"M 140.8125 90.576563 \nL 150.8125 90.576563 \nL 160.8125 90.576563 \n\" style=\"fill: none; stroke-dasharray: 9.6,2.4,1.5,2.4; stroke-dashoffset: 0; stroke: #2ca02c; stroke-width: 1.5\"/>\n    </g>\n    <g id=\"text_15\">\n     <!-- val_acc -->\n     <g transform=\"translate(168.8125 94.076563) scale(0.1 -0.1)\">\n      <use xlink:href=\"#DejaVuSans-76\"/>\n      <use xlink:href=\"#DejaVuSans-61\" x=\"59.179688\"/>\n      <use xlink:href=\"#DejaVuSans-6c\" x=\"120.458984\"/>\n      <use xlink:href=\"#DejaVuSans-5f\" x=\"148.242188\"/>\n      <use xlink:href=\"#DejaVuSans-61\" x=\"198.242188\"/>\n      <use xlink:href=\"#DejaVuSans-63\" x=\"259.521484\"/>\n      <use xlink:href=\"#DejaVuSans-63\" x=\"314.501953\"/>\n     </g>\n    </g>\n   </g>\n  </g>\n </g>\n <defs>\n  <clipPath id=\"pfba751238b\">\n   <rect x=\"30.103125\" y=\"7.2\" width=\"195.3\" height=\"138.6\"/>\n  </clipPath>\n </defs>\n</svg>\n"
          },
          "metadata": {}
        }
      ]
    },
    {
      "cell_type": "code",
      "source": [
        "X, y = next(iter(data.val_dataloader()))\n",
        "preds = model(X).argmax(axis=1)\n",
        "preds.shape"
      ],
      "metadata": {
        "colab": {
          "base_uri": "https://localhost:8080/"
        },
        "id": "hN7L3chJ4MNz",
        "outputId": "ca57a844-7378-4306-ee40-3332b73b7fad"
      },
      "execution_count": null,
      "outputs": [
        {
          "output_type": "execute_result",
          "data": {
            "text/plain": [
              "torch.Size([256])"
            ]
          },
          "metadata": {},
          "execution_count": 195
        }
      ]
    },
    {
      "cell_type": "code",
      "source": [
        "wrong = preds.type(y.dtype) != y\n",
        "X, y, preds = X[wrong], y[wrong], preds[wrong]\n",
        "labels = [a+'\\n'+b for a, b in zip(\n",
        "    data.text_labels(y), data.text_labels(preds))]\n",
        "data.visualize([X, y], labels=labels)"
      ],
      "metadata": {
        "colab": {
          "base_uri": "https://localhost:8080/",
          "height": 172
        },
        "id": "A5oonZXd4NfJ",
        "outputId": "fc0fa923-1ad5-41da-dd4d-4c93d1dc0757"
      },
      "execution_count": null,
      "outputs": [
        {
          "output_type": "display_data",
          "data": {
            "text/plain": [
              "<Figure size 1200x150 with 8 Axes>"
            ],
            "image/svg+xml": "<?xml version=\"1.0\" encoding=\"utf-8\" standalone=\"no\"?>\n<!DOCTYPE svg PUBLIC \"-//W3C//DTD SVG 1.1//EN\"\n  \"http://www.w3.org/Graphics/SVG/1.1/DTD/svg11.dtd\">\n<svg xmlns:xlink=\"http://www.w3.org/1999/xlink\" width=\"684pt\" height=\"114.189543pt\" viewBox=\"0 0 684 114.189543\" xmlns=\"http://www.w3.org/2000/svg\" version=\"1.1\">\n <metadata>\n  <rdf:RDF xmlns:dc=\"http://purl.org/dc/elements/1.1/\" xmlns:cc=\"http://creativecommons.org/ns#\" xmlns:rdf=\"http://www.w3.org/1999/02/22-rdf-syntax-ns#\">\n   <cc:Work>\n    <dc:type rdf:resource=\"http://purl.org/dc/dcmitype/StillImage\"/>\n    <dc:date>2024-09-23T17:16:54.047663</dc:date>\n    <dc:format>image/svg+xml</dc:format>\n    <dc:creator>\n     <cc:Agent>\n      <dc:title>Matplotlib v3.7.2, https://matplotlib.org/</dc:title>\n     </cc:Agent>\n    </dc:creator>\n   </cc:Work>\n  </rdf:RDF>\n </metadata>\n <defs>\n  <style type=\"text/css\">*{stroke-linejoin: round; stroke-linecap: butt}</style>\n </defs>\n <g id=\"figure_1\">\n  <g id=\"patch_1\">\n   <path d=\"M 0 114.189543 \nL 684 114.189543 \nL 684 -0 \nL 0 -0 \nz\n\" style=\"fill: #ffffff\"/>\n  </g>\n  <g id=\"axes_1\">\n   <g id=\"patch_2\">\n    <path d=\"M 7.2 106.989543 \nL 78.434043 106.989543 \nL 78.434043 35.7555 \nL 7.2 35.7555 \nz\n\" style=\"fill: #ffffff\"/>\n   </g>\n   <g clip-path=\"url(#pe48f7f4594)\">\n    <image xlink:href=\"data:image/png;base64,\niVBORw0KGgoAAAANSUhEUgAAAGMAAABjCAYAAACPO76VAAAFUUlEQVR4nO2cTW8bVRSGZzzjr9jGdtKGNCGhokQiTVlUgCLYgliCQIh/wF9gV6Fu+AFsoIsukLpCQqKiCBCLLlAF5UOiVLSkITSF0oakTXDs2I49H+zuue8NE0ol0rN4n9U5Pndmbv3mnnvmzNT+C/5rqUdUkHvQEyACxVAExVAExVAExVAExVAExVAExVAExVAExVAExVAExVAExVAExVAExVAExVAExVAExVAExVAExVAExVAExVAExVAExVAExVAExVAExVBEGE48DB9cPXHY2PlN1GowFouTT/BMQxnrl2MI1RpdYyepD7F8IGPjBK8XxeLncvhKcLW0Y+zUOWdvkAe/XBhmxjqdkszbuUbOFz+OcW5pqyDj+nj9gvW9Na/h91T94GsvC64MRVAMRVAMRfjHzp6ARPnV0+8b+621BRi8MagYu5bvQ+xQoWXsX3sHILb4l+xL4yNtiIW+s/dYRKn8rfRjzPU7UfiP4zzP87pDHAvHDUPwO9uyZwShk9/Lsi8drHQg1ij0jO1+Fz1rruVgCLHj1d+M/e6plyHGlaEIiqEI/9nP34Q0NT9629gXPjwOg7tzsmzDYgQxu2SNu5gK9pLcLidzBSyJ83nxkwTLx2gYyFzycWbM8zwvsecT43lsgq5TvlpuUsFrFOryXTRrXYi1tsvGLhcHEHv18CVjz5VuQYwrQxEUQxEUQxHhHytYhp6cPWvsL+aOQqxckxJuZ6UGseId0TXFlO31D0m+TZ02Smqn8z7uNbD3OHuGnfv99RKEigOn5YLVNBBJte6V17AdYv874gKWy2kofrtUxanV5Dyb41janguPGfv6KH73XBmKoBiKCB/9GJfm8y9JSglXCxCLboqfNDHddI9ICRe0MN2ELdE8KWIKiSvZd+DBthwX9PC4xMoag7rTbcVq0ktzcmxSwLFDK6UkIf5t5jDD4PWLYkdlJ72F4hdWMb35UxK7/N6TeL3sy5H9hmIogmIoIhzUsA493ZowdjS5A7HZqTVjzzVWIXZta9zY1Twed6tTF3txHGL1n2R/cRu4fiL5tT+Ge0ZodSCKK3jcThPH2m2NwHkqZ/v2/uF5nhdXZULu0zx7DyvdwdhDN+Q8I7exoxu+Le2mpLsMMa4MRVAMRVAMRYTFTWyFX+4+Yuyc8+RrtS0tkOsXpyEWWC0It87vPiYfPPPUEsRqC7K/nP92HmLFCdkY0qvYcihuWrm+6uwnPXC93kHJ4cNRpxXelJyeW6pA7MAFOe/olzchFv2O/r2SfVfFlaEKiqGIsHxxKTMYd/BWfuScdEenvl/HwX+KH7e2IOQHUj63n3gcYt+90TB2cXIbj7skaXHuRZzn4mezxnbbIY35u+C3bzSNXV3GVs30J5Km4is/ellEmRHP80PnyWZgt3sxLaZR9pm4MhRBMRRBMRThuz8yvPXpEWPnT43B4PJH3/yvkwnOT4K/+MOMsXPO0zu7VeG+oF1ax7FTZ36W4+5uZF7fzf2pk+/vmfT+freZK0MRFEMRoftB43XpzCbtZTdsyNXwhYS018sYiexV2m2cngE/XbCewjljK5PylsH0O3jLHy/+gv4e89lVlsIE9vdn4rkyFEExFEExFLErYSbtPd74uo9x/4X6Gfz/bu2Z54zdP4p70uQrV4z9rwWob5W6zj6w1x6233BlKIJiKGLXHTh5cHBlKIJiKIJiKIJiKIJiKIJiKIJiKIJiKIJiKIJiKIJiKIJiKIJiKIJiKIJiKIJiKIJiKIJiKIJiKIJiKIJiKIJiKIJiKIJiKIJiKIJiKIJiKIJiKIJiKIJiKIJiKOJv/fRtiyaMmuMAAAAASUVORK5CYII=\" id=\"image6859a43b7b\" transform=\"scale(1 -1) translate(0 -71.28)\" x=\"7.2\" y=\"-35.709543\" width=\"71.28\" height=\"71.28\"/>\n   </g>\n   <g id=\"patch_3\">\n    <path d=\"M 7.2 106.989543 \nL 7.2 35.7555 \n\" style=\"fill: none; stroke: #000000; stroke-width: 0.8; stroke-linejoin: miter; stroke-linecap: square\"/>\n   </g>\n   <g id=\"patch_4\">\n    <path d=\"M 78.434043 106.989543 \nL 78.434043 35.7555 \n\" style=\"fill: none; stroke: #000000; stroke-width: 0.8; stroke-linejoin: miter; stroke-linecap: square\"/>\n   </g>\n   <g id=\"patch_5\">\n    <path d=\"M 7.2 106.989543 \nL 78.434043 106.989543 \n\" style=\"fill: none; stroke: #000000; stroke-width: 0.8; stroke-linejoin: miter; stroke-linecap: square\"/>\n   </g>\n   <g id=\"patch_6\">\n    <path d=\"M 7.2 35.7555 \nL 78.434043 35.7555 \n\" style=\"fill: none; stroke: #000000; stroke-width: 0.8; stroke-linejoin: miter; stroke-linecap: square\"/>\n   </g>\n   <g id=\"text_1\">\n    <!-- sneaker -->\n    <g transform=\"translate(19.104834 16.318125) scale(0.12 -0.12)\">\n     <defs>\n      <path id=\"DejaVuSans-73\" d=\"M 2834 3397 \nL 2834 2853 \nQ 2591 2978 2328 3040 \nQ 2066 3103 1784 3103 \nQ 1356 3103 1142 2972 \nQ 928 2841 928 2578 \nQ 928 2378 1081 2264 \nQ 1234 2150 1697 2047 \nL 1894 2003 \nQ 2506 1872 2764 1633 \nQ 3022 1394 3022 966 \nQ 3022 478 2636 193 \nQ 2250 -91 1575 -91 \nQ 1294 -91 989 -36 \nQ 684 19 347 128 \nL 347 722 \nQ 666 556 975 473 \nQ 1284 391 1588 391 \nQ 1994 391 2212 530 \nQ 2431 669 2431 922 \nQ 2431 1156 2273 1281 \nQ 2116 1406 1581 1522 \nL 1381 1569 \nQ 847 1681 609 1914 \nQ 372 2147 372 2553 \nQ 372 3047 722 3315 \nQ 1072 3584 1716 3584 \nQ 2034 3584 2315 3537 \nQ 2597 3491 2834 3397 \nz\n\" transform=\"scale(0.015625)\"/>\n      <path id=\"DejaVuSans-6e\" d=\"M 3513 2113 \nL 3513 0 \nL 2938 0 \nL 2938 2094 \nQ 2938 2591 2744 2837 \nQ 2550 3084 2163 3084 \nQ 1697 3084 1428 2787 \nQ 1159 2491 1159 1978 \nL 1159 0 \nL 581 0 \nL 581 3500 \nL 1159 3500 \nL 1159 2956 \nQ 1366 3272 1645 3428 \nQ 1925 3584 2291 3584 \nQ 2894 3584 3203 3211 \nQ 3513 2838 3513 2113 \nz\n\" transform=\"scale(0.015625)\"/>\n      <path id=\"DejaVuSans-65\" d=\"M 3597 1894 \nL 3597 1613 \nL 953 1613 \nQ 991 1019 1311 708 \nQ 1631 397 2203 397 \nQ 2534 397 2845 478 \nQ 3156 559 3463 722 \nL 3463 178 \nQ 3153 47 2828 -22 \nQ 2503 -91 2169 -91 \nQ 1331 -91 842 396 \nQ 353 884 353 1716 \nQ 353 2575 817 3079 \nQ 1281 3584 2069 3584 \nQ 2775 3584 3186 3129 \nQ 3597 2675 3597 1894 \nz\nM 3022 2063 \nQ 3016 2534 2758 2815 \nQ 2500 3097 2075 3097 \nQ 1594 3097 1305 2825 \nQ 1016 2553 972 2059 \nL 3022 2063 \nz\n\" transform=\"scale(0.015625)\"/>\n      <path id=\"DejaVuSans-61\" d=\"M 2194 1759 \nQ 1497 1759 1228 1600 \nQ 959 1441 959 1056 \nQ 959 750 1161 570 \nQ 1363 391 1709 391 \nQ 2188 391 2477 730 \nQ 2766 1069 2766 1631 \nL 2766 1759 \nL 2194 1759 \nz\nM 3341 1997 \nL 3341 0 \nL 2766 0 \nL 2766 531 \nQ 2569 213 2275 61 \nQ 1981 -91 1556 -91 \nQ 1019 -91 701 211 \nQ 384 513 384 1019 \nQ 384 1609 779 1909 \nQ 1175 2209 1959 2209 \nL 2766 2209 \nL 2766 2266 \nQ 2766 2663 2505 2880 \nQ 2244 3097 1772 3097 \nQ 1472 3097 1187 3025 \nQ 903 2953 641 2809 \nL 641 3341 \nQ 956 3463 1253 3523 \nQ 1550 3584 1831 3584 \nQ 2591 3584 2966 3190 \nQ 3341 2797 3341 1997 \nz\n\" transform=\"scale(0.015625)\"/>\n      <path id=\"DejaVuSans-6b\" d=\"M 581 4863 \nL 1159 4863 \nL 1159 1991 \nL 2875 3500 \nL 3609 3500 \nL 1753 1863 \nL 3688 0 \nL 2938 0 \nL 1159 1709 \nL 1159 0 \nL 581 0 \nL 581 4863 \nz\n\" transform=\"scale(0.015625)\"/>\n      <path id=\"DejaVuSans-72\" d=\"M 2631 2963 \nQ 2534 3019 2420 3045 \nQ 2306 3072 2169 3072 \nQ 1681 3072 1420 2755 \nQ 1159 2438 1159 1844 \nL 1159 0 \nL 581 0 \nL 581 3500 \nL 1159 3500 \nL 1159 2956 \nQ 1341 3275 1631 3429 \nQ 1922 3584 2338 3584 \nQ 2397 3584 2469 3576 \nQ 2541 3569 2628 3553 \nL 2631 2963 \nz\n\" transform=\"scale(0.015625)\"/>\n     </defs>\n     <use xlink:href=\"#DejaVuSans-73\"/>\n     <use xlink:href=\"#DejaVuSans-6e\" x=\"52.099609\"/>\n     <use xlink:href=\"#DejaVuSans-65\" x=\"115.478516\"/>\n     <use xlink:href=\"#DejaVuSans-61\" x=\"177.001953\"/>\n     <use xlink:href=\"#DejaVuSans-6b\" x=\"238.28125\"/>\n     <use xlink:href=\"#DejaVuSans-65\" x=\"292.566406\"/>\n     <use xlink:href=\"#DejaVuSans-72\" x=\"354.089844\"/>\n    </g>\n    <!-- sandal -->\n    <g transform=\"translate(23.059209 29.7555) scale(0.12 -0.12)\">\n     <defs>\n      <path id=\"DejaVuSans-64\" d=\"M 2906 2969 \nL 2906 4863 \nL 3481 4863 \nL 3481 0 \nL 2906 0 \nL 2906 525 \nQ 2725 213 2448 61 \nQ 2172 -91 1784 -91 \nQ 1150 -91 751 415 \nQ 353 922 353 1747 \nQ 353 2572 751 3078 \nQ 1150 3584 1784 3584 \nQ 2172 3584 2448 3432 \nQ 2725 3281 2906 2969 \nz\nM 947 1747 \nQ 947 1113 1208 752 \nQ 1469 391 1925 391 \nQ 2381 391 2643 752 \nQ 2906 1113 2906 1747 \nQ 2906 2381 2643 2742 \nQ 2381 3103 1925 3103 \nQ 1469 3103 1208 2742 \nQ 947 2381 947 1747 \nz\n\" transform=\"scale(0.015625)\"/>\n      <path id=\"DejaVuSans-6c\" d=\"M 603 4863 \nL 1178 4863 \nL 1178 0 \nL 603 0 \nL 603 4863 \nz\n\" transform=\"scale(0.015625)\"/>\n     </defs>\n     <use xlink:href=\"#DejaVuSans-73\"/>\n     <use xlink:href=\"#DejaVuSans-61\" x=\"52.099609\"/>\n     <use xlink:href=\"#DejaVuSans-6e\" x=\"113.378906\"/>\n     <use xlink:href=\"#DejaVuSans-64\" x=\"176.757812\"/>\n     <use xlink:href=\"#DejaVuSans-61\" x=\"240.234375\"/>\n     <use xlink:href=\"#DejaVuSans-6c\" x=\"301.513672\"/>\n    </g>\n   </g>\n  </g>\n  <g id=\"axes_2\">\n   <g id=\"patch_7\">\n    <path d=\"M 92.680851 106.989543 \nL 163.914894 106.989543 \nL 163.914894 35.7555 \nL 92.680851 35.7555 \nz\n\" style=\"fill: #ffffff\"/>\n   </g>\n   <g clip-path=\"url(#pe5710637b2)\">\n    <image xlink:href=\"data:image/png;base64,\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\" id=\"imagea837014d89\" transform=\"scale(1 -1) translate(0 -71.28)\" x=\"92.680851\" y=\"-35.709543\" width=\"71.28\" height=\"71.28\"/>\n   </g>\n   <g id=\"patch_8\">\n    <path d=\"M 92.680851 106.989543 \nL 92.680851 35.7555 \n\" style=\"fill: none; stroke: #000000; stroke-width: 0.8; stroke-linejoin: miter; stroke-linecap: square\"/>\n   </g>\n   <g id=\"patch_9\">\n    <path d=\"M 163.914894 106.989543 \nL 163.914894 35.7555 \n\" style=\"fill: none; stroke: #000000; stroke-width: 0.8; stroke-linejoin: miter; stroke-linecap: square\"/>\n   </g>\n   <g id=\"patch_10\">\n    <path d=\"M 92.680851 106.989543 \nL 163.914894 106.989543 \n\" style=\"fill: none; stroke: #000000; stroke-width: 0.8; stroke-linejoin: miter; stroke-linecap: square\"/>\n   </g>\n   <g id=\"patch_11\">\n    <path d=\"M 92.680851 35.7555 \nL 163.914894 35.7555 \n\" style=\"fill: none; stroke: #000000; stroke-width: 0.8; stroke-linejoin: miter; stroke-linecap: square\"/>\n   </g>\n   <g id=\"text_2\">\n    <!-- pullover -->\n    <g transform=\"translate(103.971622 16.318125) scale(0.12 -0.12)\">\n     <defs>\n      <path id=\"DejaVuSans-70\" d=\"M 1159 525 \nL 1159 -1331 \nL 581 -1331 \nL 581 3500 \nL 1159 3500 \nL 1159 2969 \nQ 1341 3281 1617 3432 \nQ 1894 3584 2278 3584 \nQ 2916 3584 3314 3078 \nQ 3713 2572 3713 1747 \nQ 3713 922 3314 415 \nQ 2916 -91 2278 -91 \nQ 1894 -91 1617 61 \nQ 1341 213 1159 525 \nz\nM 3116 1747 \nQ 3116 2381 2855 2742 \nQ 2594 3103 2138 3103 \nQ 1681 3103 1420 2742 \nQ 1159 2381 1159 1747 \nQ 1159 1113 1420 752 \nQ 1681 391 2138 391 \nQ 2594 391 2855 752 \nQ 3116 1113 3116 1747 \nz\n\" transform=\"scale(0.015625)\"/>\n      <path id=\"DejaVuSans-75\" d=\"M 544 1381 \nL 544 3500 \nL 1119 3500 \nL 1119 1403 \nQ 1119 906 1312 657 \nQ 1506 409 1894 409 \nQ 2359 409 2629 706 \nQ 2900 1003 2900 1516 \nL 2900 3500 \nL 3475 3500 \nL 3475 0 \nL 2900 0 \nL 2900 538 \nQ 2691 219 2414 64 \nQ 2138 -91 1772 -91 \nQ 1169 -91 856 284 \nQ 544 659 544 1381 \nz\nM 1991 3584 \nL 1991 3584 \nz\n\" transform=\"scale(0.015625)\"/>\n      <path id=\"DejaVuSans-6f\" d=\"M 1959 3097 \nQ 1497 3097 1228 2736 \nQ 959 2375 959 1747 \nQ 959 1119 1226 758 \nQ 1494 397 1959 397 \nQ 2419 397 2687 759 \nQ 2956 1122 2956 1747 \nQ 2956 2369 2687 2733 \nQ 2419 3097 1959 3097 \nz\nM 1959 3584 \nQ 2709 3584 3137 3096 \nQ 3566 2609 3566 1747 \nQ 3566 888 3137 398 \nQ 2709 -91 1959 -91 \nQ 1206 -91 779 398 \nQ 353 888 353 1747 \nQ 353 2609 779 3096 \nQ 1206 3584 1959 3584 \nz\n\" transform=\"scale(0.015625)\"/>\n      <path id=\"DejaVuSans-76\" d=\"M 191 3500 \nL 800 3500 \nL 1894 563 \nL 2988 3500 \nL 3597 3500 \nL 2284 0 \nL 1503 0 \nL 191 3500 \nz\n\" transform=\"scale(0.015625)\"/>\n     </defs>\n     <use xlink:href=\"#DejaVuSans-70\"/>\n     <use xlink:href=\"#DejaVuSans-75\" x=\"63.476562\"/>\n     <use xlink:href=\"#DejaVuSans-6c\" x=\"126.855469\"/>\n     <use xlink:href=\"#DejaVuSans-6c\" x=\"154.638672\"/>\n     <use xlink:href=\"#DejaVuSans-6f\" x=\"182.421875\"/>\n     <use xlink:href=\"#DejaVuSans-76\" x=\"243.603516\"/>\n     <use xlink:href=\"#DejaVuSans-65\" x=\"302.783203\"/>\n     <use xlink:href=\"#DejaVuSans-72\" x=\"364.306641\"/>\n    </g>\n    <!-- t-shirt -->\n    <g transform=\"translate(110.367247 29.7555) scale(0.12 -0.12)\">\n     <defs>\n      <path id=\"DejaVuSans-74\" d=\"M 1172 4494 \nL 1172 3500 \nL 2356 3500 \nL 2356 3053 \nL 1172 3053 \nL 1172 1153 \nQ 1172 725 1289 603 \nQ 1406 481 1766 481 \nL 2356 481 \nL 2356 0 \nL 1766 0 \nQ 1100 0 847 248 \nQ 594 497 594 1153 \nL 594 3053 \nL 172 3053 \nL 172 3500 \nL 594 3500 \nL 594 4494 \nL 1172 4494 \nz\n\" transform=\"scale(0.015625)\"/>\n      <path id=\"DejaVuSans-2d\" d=\"M 313 2009 \nL 1997 2009 \nL 1997 1497 \nL 313 1497 \nL 313 2009 \nz\n\" transform=\"scale(0.015625)\"/>\n      <path id=\"DejaVuSans-68\" d=\"M 3513 2113 \nL 3513 0 \nL 2938 0 \nL 2938 2094 \nQ 2938 2591 2744 2837 \nQ 2550 3084 2163 3084 \nQ 1697 3084 1428 2787 \nQ 1159 2491 1159 1978 \nL 1159 0 \nL 581 0 \nL 581 4863 \nL 1159 4863 \nL 1159 2956 \nQ 1366 3272 1645 3428 \nQ 1925 3584 2291 3584 \nQ 2894 3584 3203 3211 \nQ 3513 2838 3513 2113 \nz\n\" transform=\"scale(0.015625)\"/>\n      <path id=\"DejaVuSans-69\" d=\"M 603 3500 \nL 1178 3500 \nL 1178 0 \nL 603 0 \nL 603 3500 \nz\nM 603 4863 \nL 1178 4863 \nL 1178 4134 \nL 603 4134 \nL 603 4863 \nz\n\" transform=\"scale(0.015625)\"/>\n     </defs>\n     <use xlink:href=\"#DejaVuSans-74\"/>\n     <use xlink:href=\"#DejaVuSans-2d\" x=\"39.208984\"/>\n     <use xlink:href=\"#DejaVuSans-73\" x=\"75.292969\"/>\n     <use xlink:href=\"#DejaVuSans-68\" x=\"127.392578\"/>\n     <use xlink:href=\"#DejaVuSans-69\" x=\"190.771484\"/>\n     <use xlink:href=\"#DejaVuSans-72\" x=\"218.554688\"/>\n     <use xlink:href=\"#DejaVuSans-74\" x=\"259.667969\"/>\n    </g>\n   </g>\n  </g>\n  <g id=\"axes_3\">\n   <g id=\"patch_12\">\n    <path d=\"M 178.161702 106.989543 \nL 249.395745 106.989543 \nL 249.395745 35.7555 \nL 178.161702 35.7555 \nz\n\" style=\"fill: #ffffff\"/>\n   </g>\n   <g clip-path=\"url(#p860c8a07c9)\">\n    <image xlink:href=\"data:image/png;base64,\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\" id=\"image060f24a3e0\" transform=\"scale(1 -1) translate(0 -71.28)\" x=\"178.161702\" y=\"-35.709543\" width=\"71.28\" height=\"71.28\"/>\n   </g>\n   <g id=\"patch_13\">\n    <path d=\"M 178.161702 106.989543 \nL 178.161702 35.7555 \n\" style=\"fill: none; stroke: #000000; stroke-width: 0.8; stroke-linejoin: miter; stroke-linecap: square\"/>\n   </g>\n   <g id=\"patch_14\">\n    <path d=\"M 249.395745 106.989543 \nL 249.395745 35.7555 \n\" style=\"fill: none; stroke: #000000; stroke-width: 0.8; stroke-linejoin: miter; stroke-linecap: square\"/>\n   </g>\n   <g id=\"patch_15\">\n    <path d=\"M 178.161702 106.989543 \nL 249.395745 106.989543 \n\" style=\"fill: none; stroke: #000000; stroke-width: 0.8; stroke-linejoin: miter; stroke-linecap: square\"/>\n   </g>\n   <g id=\"patch_16\">\n    <path d=\"M 178.161702 35.7555 \nL 249.395745 35.7555 \n\" style=\"fill: none; stroke: #000000; stroke-width: 0.8; stroke-linejoin: miter; stroke-linecap: square\"/>\n   </g>\n   <g id=\"text_3\">\n    <!-- sandal -->\n    <g transform=\"translate(194.020911 16.318125) scale(0.12 -0.12)\">\n     <use xlink:href=\"#DejaVuSans-73\"/>\n     <use xlink:href=\"#DejaVuSans-61\" x=\"52.099609\"/>\n     <use xlink:href=\"#DejaVuSans-6e\" x=\"113.378906\"/>\n     <use xlink:href=\"#DejaVuSans-64\" x=\"176.757812\"/>\n     <use xlink:href=\"#DejaVuSans-61\" x=\"240.234375\"/>\n     <use xlink:href=\"#DejaVuSans-6c\" x=\"301.513672\"/>\n    </g>\n    <!-- sneaker -->\n    <g transform=\"translate(190.066536 29.7555) scale(0.12 -0.12)\">\n     <use xlink:href=\"#DejaVuSans-73\"/>\n     <use xlink:href=\"#DejaVuSans-6e\" x=\"52.099609\"/>\n     <use xlink:href=\"#DejaVuSans-65\" x=\"115.478516\"/>\n     <use xlink:href=\"#DejaVuSans-61\" x=\"177.001953\"/>\n     <use xlink:href=\"#DejaVuSans-6b\" x=\"238.28125\"/>\n     <use xlink:href=\"#DejaVuSans-65\" x=\"292.566406\"/>\n     <use xlink:href=\"#DejaVuSans-72\" x=\"354.089844\"/>\n    </g>\n   </g>\n  </g>\n  <g id=\"axes_4\">\n   <g id=\"patch_17\">\n    <path d=\"M 263.642553 106.989543 \nL 334.876596 106.989543 \nL 334.876596 35.7555 \nL 263.642553 35.7555 \nz\n\" style=\"fill: #ffffff\"/>\n   </g>\n   <g clip-path=\"url(#p142b62030b)\">\n    <image xlink:href=\"data:image/png;base64,\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\" id=\"imageef47f2f8ca\" transform=\"scale(1 -1) translate(0 -71.28)\" x=\"263.642553\" y=\"-35.709543\" width=\"71.28\" height=\"71.28\"/>\n   </g>\n   <g id=\"patch_18\">\n    <path d=\"M 263.642553 106.989543 \nL 263.642553 35.7555 \n\" style=\"fill: none; stroke: #000000; stroke-width: 0.8; stroke-linejoin: miter; stroke-linecap: square\"/>\n   </g>\n   <g id=\"patch_19\">\n    <path d=\"M 334.876596 106.989543 \nL 334.876596 35.7555 \n\" style=\"fill: none; stroke: #000000; stroke-width: 0.8; stroke-linejoin: miter; stroke-linecap: square\"/>\n   </g>\n   <g id=\"patch_20\">\n    <path d=\"M 263.642553 106.989543 \nL 334.876596 106.989543 \n\" style=\"fill: none; stroke: #000000; stroke-width: 0.8; stroke-linejoin: miter; stroke-linecap: square\"/>\n   </g>\n   <g id=\"patch_21\">\n    <path d=\"M 263.642553 35.7555 \nL 334.876596 35.7555 \n\" style=\"fill: none; stroke: #000000; stroke-width: 0.8; stroke-linejoin: miter; stroke-linecap: square\"/>\n   </g>\n   <g id=\"text_4\">\n    <!-- ankle boot -->\n    <g transform=\"translate(267.536449 16.318125) scale(0.12 -0.12)\">\n     <defs>\n      <path id=\"DejaVuSans-20\" transform=\"scale(0.015625)\"/>\n      <path id=\"DejaVuSans-62\" d=\"M 3116 1747 \nQ 3116 2381 2855 2742 \nQ 2594 3103 2138 3103 \nQ 1681 3103 1420 2742 \nQ 1159 2381 1159 1747 \nQ 1159 1113 1420 752 \nQ 1681 391 2138 391 \nQ 2594 391 2855 752 \nQ 3116 1113 3116 1747 \nz\nM 1159 2969 \nQ 1341 3281 1617 3432 \nQ 1894 3584 2278 3584 \nQ 2916 3584 3314 3078 \nQ 3713 2572 3713 1747 \nQ 3713 922 3314 415 \nQ 2916 -91 2278 -91 \nQ 1894 -91 1617 61 \nQ 1341 213 1159 525 \nL 1159 0 \nL 581 0 \nL 581 4863 \nL 1159 4863 \nL 1159 2969 \nz\n\" transform=\"scale(0.015625)\"/>\n     </defs>\n     <use xlink:href=\"#DejaVuSans-61\"/>\n     <use xlink:href=\"#DejaVuSans-6e\" x=\"61.279297\"/>\n     <use xlink:href=\"#DejaVuSans-6b\" x=\"124.658203\"/>\n     <use xlink:href=\"#DejaVuSans-6c\" x=\"182.568359\"/>\n     <use xlink:href=\"#DejaVuSans-65\" x=\"210.351562\"/>\n     <use xlink:href=\"#DejaVuSans-20\" x=\"271.875\"/>\n     <use xlink:href=\"#DejaVuSans-62\" x=\"303.662109\"/>\n     <use xlink:href=\"#DejaVuSans-6f\" x=\"367.138672\"/>\n     <use xlink:href=\"#DejaVuSans-6f\" x=\"428.320312\"/>\n     <use xlink:href=\"#DejaVuSans-74\" x=\"489.501953\"/>\n    </g>\n    <!-- sneaker -->\n    <g transform=\"translate(275.547387 29.7555) scale(0.12 -0.12)\">\n     <use xlink:href=\"#DejaVuSans-73\"/>\n     <use xlink:href=\"#DejaVuSans-6e\" x=\"52.099609\"/>\n     <use xlink:href=\"#DejaVuSans-65\" x=\"115.478516\"/>\n     <use xlink:href=\"#DejaVuSans-61\" x=\"177.001953\"/>\n     <use xlink:href=\"#DejaVuSans-6b\" x=\"238.28125\"/>\n     <use xlink:href=\"#DejaVuSans-65\" x=\"292.566406\"/>\n     <use xlink:href=\"#DejaVuSans-72\" x=\"354.089844\"/>\n    </g>\n   </g>\n  </g>\n  <g id=\"axes_5\">\n   <g id=\"patch_22\">\n    <path d=\"M 349.123404 106.989543 \nL 420.357447 106.989543 \nL 420.357447 35.7555 \nL 349.123404 35.7555 \nz\n\" style=\"fill: #ffffff\"/>\n   </g>\n   <g clip-path=\"url(#pca011a9e80)\">\n    <image xlink:href=\"data:image/png;base64,\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\" id=\"image5291b8b3b2\" transform=\"scale(1 -1) translate(0 -71.28)\" x=\"349.123404\" y=\"-35.709543\" width=\"71.28\" height=\"71.28\"/>\n   </g>\n   <g id=\"patch_23\">\n    <path d=\"M 349.123404 106.989543 \nL 349.123404 35.7555 \n\" style=\"fill: none; stroke: #000000; stroke-width: 0.8; stroke-linejoin: miter; stroke-linecap: square\"/>\n   </g>\n   <g id=\"patch_24\">\n    <path d=\"M 420.357447 106.989543 \nL 420.357447 35.7555 \n\" style=\"fill: none; stroke: #000000; stroke-width: 0.8; stroke-linejoin: miter; stroke-linecap: square\"/>\n   </g>\n   <g id=\"patch_25\">\n    <path d=\"M 349.123404 106.989543 \nL 420.357447 106.989543 \n\" style=\"fill: none; stroke: #000000; stroke-width: 0.8; stroke-linejoin: miter; stroke-linecap: square\"/>\n   </g>\n   <g id=\"patch_26\">\n    <path d=\"M 349.123404 35.7555 \nL 420.357447 35.7555 \n\" style=\"fill: none; stroke: #000000; stroke-width: 0.8; stroke-linejoin: miter; stroke-linecap: square\"/>\n   </g>\n   <g id=\"text_5\">\n    <!-- coat -->\n    <g transform=\"translate(371.741051 16.318125) scale(0.12 -0.12)\">\n     <defs>\n      <path id=\"DejaVuSans-63\" d=\"M 3122 3366 \nL 3122 2828 \nQ 2878 2963 2633 3030 \nQ 2388 3097 2138 3097 \nQ 1578 3097 1268 2742 \nQ 959 2388 959 1747 \nQ 959 1106 1268 751 \nQ 1578 397 2138 397 \nQ 2388 397 2633 464 \nQ 2878 531 3122 666 \nL 3122 134 \nQ 2881 22 2623 -34 \nQ 2366 -91 2075 -91 \nQ 1284 -91 818 406 \nQ 353 903 353 1747 \nQ 353 2603 823 3093 \nQ 1294 3584 2113 3584 \nQ 2378 3584 2631 3529 \nQ 2884 3475 3122 3366 \nz\n\" transform=\"scale(0.015625)\"/>\n     </defs>\n     <use xlink:href=\"#DejaVuSans-63\"/>\n     <use xlink:href=\"#DejaVuSans-6f\" x=\"54.980469\"/>\n     <use xlink:href=\"#DejaVuSans-61\" x=\"116.162109\"/>\n     <use xlink:href=\"#DejaVuSans-74\" x=\"177.441406\"/>\n    </g>\n    <!-- pullover -->\n    <g transform=\"translate(360.414176 29.7555) scale(0.12 -0.12)\">\n     <use xlink:href=\"#DejaVuSans-70\"/>\n     <use xlink:href=\"#DejaVuSans-75\" x=\"63.476562\"/>\n     <use xlink:href=\"#DejaVuSans-6c\" x=\"126.855469\"/>\n     <use xlink:href=\"#DejaVuSans-6c\" x=\"154.638672\"/>\n     <use xlink:href=\"#DejaVuSans-6f\" x=\"182.421875\"/>\n     <use xlink:href=\"#DejaVuSans-76\" x=\"243.603516\"/>\n     <use xlink:href=\"#DejaVuSans-65\" x=\"302.783203\"/>\n     <use xlink:href=\"#DejaVuSans-72\" x=\"364.306641\"/>\n    </g>\n   </g>\n  </g>\n  <g id=\"axes_6\">\n   <g id=\"patch_27\">\n    <path d=\"M 434.604255 106.989543 \nL 505.838298 106.989543 \nL 505.838298 35.7555 \nL 434.604255 35.7555 \nz\n\" style=\"fill: #ffffff\"/>\n   </g>\n   <g clip-path=\"url(#p894e3b503f)\">\n    <image xlink:href=\"data:image/png;base64,\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\" id=\"imagec2af6289e7\" transform=\"scale(1 -1) translate(0 -71.28)\" x=\"434.604255\" y=\"-35.709543\" width=\"71.28\" height=\"71.28\"/>\n   </g>\n   <g id=\"patch_28\">\n    <path d=\"M 434.604255 106.989543 \nL 434.604255 35.7555 \n\" style=\"fill: none; stroke: #000000; stroke-width: 0.8; stroke-linejoin: miter; stroke-linecap: square\"/>\n   </g>\n   <g id=\"patch_29\">\n    <path d=\"M 505.838298 106.989543 \nL 505.838298 35.7555 \n\" style=\"fill: none; stroke: #000000; stroke-width: 0.8; stroke-linejoin: miter; stroke-linecap: square\"/>\n   </g>\n   <g id=\"patch_30\">\n    <path d=\"M 434.604255 106.989543 \nL 505.838298 106.989543 \n\" style=\"fill: none; stroke: #000000; stroke-width: 0.8; stroke-linejoin: miter; stroke-linecap: square\"/>\n   </g>\n   <g id=\"patch_31\">\n    <path d=\"M 434.604255 35.7555 \nL 505.838298 35.7555 \n\" style=\"fill: none; stroke: #000000; stroke-width: 0.8; stroke-linejoin: miter; stroke-linecap: square\"/>\n   </g>\n   <g id=\"text_6\">\n    <!-- shirt -->\n    <g transform=\"translate(456.807527 16.318125) scale(0.12 -0.12)\">\n     <use xlink:href=\"#DejaVuSans-73\"/>\n     <use xlink:href=\"#DejaVuSans-68\" x=\"52.099609\"/>\n     <use xlink:href=\"#DejaVuSans-69\" x=\"115.478516\"/>\n     <use xlink:href=\"#DejaVuSans-72\" x=\"143.261719\"/>\n     <use xlink:href=\"#DejaVuSans-74\" x=\"184.375\"/>\n    </g>\n    <!-- t-shirt -->\n    <g transform=\"translate(452.290652 29.7555) scale(0.12 -0.12)\">\n     <use xlink:href=\"#DejaVuSans-74\"/>\n     <use xlink:href=\"#DejaVuSans-2d\" x=\"39.208984\"/>\n     <use xlink:href=\"#DejaVuSans-73\" x=\"75.292969\"/>\n     <use xlink:href=\"#DejaVuSans-68\" x=\"127.392578\"/>\n     <use xlink:href=\"#DejaVuSans-69\" x=\"190.771484\"/>\n     <use xlink:href=\"#DejaVuSans-72\" x=\"218.554688\"/>\n     <use xlink:href=\"#DejaVuSans-74\" x=\"259.667969\"/>\n    </g>\n   </g>\n  </g>\n  <g id=\"axes_7\">\n   <g id=\"patch_32\">\n    <path d=\"M 520.085106 106.989543 \nL 591.319149 106.989543 \nL 591.319149 35.7555 \nL 520.085106 35.7555 \nz\n\" style=\"fill: #ffffff\"/>\n   </g>\n   <g clip-path=\"url(#p4634784e87)\">\n    <image xlink:href=\"data:image/png;base64,\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\" id=\"image798b889410\" transform=\"scale(1 -1) translate(0 -71.28)\" x=\"520.085106\" y=\"-35.709543\" width=\"71.28\" height=\"71.28\"/>\n   </g>\n   <g id=\"patch_33\">\n    <path d=\"M 520.085106 106.989543 \nL 520.085106 35.7555 \n\" style=\"fill: none; stroke: #000000; stroke-width: 0.8; stroke-linejoin: miter; stroke-linecap: square\"/>\n   </g>\n   <g id=\"patch_34\">\n    <path d=\"M 591.319149 106.989543 \nL 591.319149 35.7555 \n\" style=\"fill: none; stroke: #000000; stroke-width: 0.8; stroke-linejoin: miter; stroke-linecap: square\"/>\n   </g>\n   <g id=\"patch_35\">\n    <path d=\"M 520.085106 106.989543 \nL 591.319149 106.989543 \n\" style=\"fill: none; stroke: #000000; stroke-width: 0.8; stroke-linejoin: miter; stroke-linecap: square\"/>\n   </g>\n   <g id=\"patch_36\">\n    <path d=\"M 520.085106 35.7555 \nL 591.319149 35.7555 \n\" style=\"fill: none; stroke: #000000; stroke-width: 0.8; stroke-linejoin: miter; stroke-linecap: square\"/>\n   </g>\n   <g id=\"text_7\">\n    <!-- dress -->\n    <g transform=\"translate(539.618378 16.318125) scale(0.12 -0.12)\">\n     <use xlink:href=\"#DejaVuSans-64\"/>\n     <use xlink:href=\"#DejaVuSans-72\" x=\"63.476562\"/>\n     <use xlink:href=\"#DejaVuSans-65\" x=\"102.339844\"/>\n     <use xlink:href=\"#DejaVuSans-73\" x=\"163.863281\"/>\n     <use xlink:href=\"#DejaVuSans-73\" x=\"215.962891\"/>\n    </g>\n    <!-- t-shirt -->\n    <g transform=\"translate(537.771503 29.7555) scale(0.12 -0.12)\">\n     <use xlink:href=\"#DejaVuSans-74\"/>\n     <use xlink:href=\"#DejaVuSans-2d\" x=\"39.208984\"/>\n     <use xlink:href=\"#DejaVuSans-73\" x=\"75.292969\"/>\n     <use xlink:href=\"#DejaVuSans-68\" x=\"127.392578\"/>\n     <use xlink:href=\"#DejaVuSans-69\" x=\"190.771484\"/>\n     <use xlink:href=\"#DejaVuSans-72\" x=\"218.554688\"/>\n     <use xlink:href=\"#DejaVuSans-74\" x=\"259.667969\"/>\n    </g>\n   </g>\n  </g>\n  <g id=\"axes_8\">\n   <g id=\"patch_37\">\n    <path d=\"M 605.565957 106.989543 \nL 676.8 106.989543 \nL 676.8 35.7555 \nL 605.565957 35.7555 \nz\n\" style=\"fill: #ffffff\"/>\n   </g>\n   <g clip-path=\"url(#pa98ffd7476)\">\n    <image xlink:href=\"data:image/png;base64,\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\" id=\"image18d9bda96b\" transform=\"scale(1 -1) translate(0 -71.28)\" x=\"605.565957\" y=\"-35.709543\" width=\"71.28\" height=\"71.28\"/>\n   </g>\n   <g id=\"patch_38\">\n    <path d=\"M 605.565957 106.989543 \nL 605.565957 35.7555 \n\" style=\"fill: none; stroke: #000000; stroke-width: 0.8; stroke-linejoin: miter; stroke-linecap: square\"/>\n   </g>\n   <g id=\"patch_39\">\n    <path d=\"M 676.8 106.989543 \nL 676.8 35.7555 \n\" style=\"fill: none; stroke: #000000; stroke-width: 0.8; stroke-linejoin: miter; stroke-linecap: square\"/>\n   </g>\n   <g id=\"patch_40\">\n    <path d=\"M 605.565957 106.989543 \nL 676.8 106.989543 \n\" style=\"fill: none; stroke: #000000; stroke-width: 0.8; stroke-linejoin: miter; stroke-linecap: square\"/>\n   </g>\n   <g id=\"patch_41\">\n    <path d=\"M 605.565957 35.7555 \nL 676.8 35.7555 \n\" style=\"fill: none; stroke: #000000; stroke-width: 0.8; stroke-linejoin: miter; stroke-linecap: square\"/>\n   </g>\n   <g id=\"text_8\">\n    <!-- sneaker -->\n    <g transform=\"translate(617.470791 16.318125) scale(0.12 -0.12)\">\n     <use xlink:href=\"#DejaVuSans-73\"/>\n     <use xlink:href=\"#DejaVuSans-6e\" x=\"52.099609\"/>\n     <use xlink:href=\"#DejaVuSans-65\" x=\"115.478516\"/>\n     <use xlink:href=\"#DejaVuSans-61\" x=\"177.001953\"/>\n     <use xlink:href=\"#DejaVuSans-6b\" x=\"238.28125\"/>\n     <use xlink:href=\"#DejaVuSans-65\" x=\"292.566406\"/>\n     <use xlink:href=\"#DejaVuSans-72\" x=\"354.089844\"/>\n    </g>\n    <!-- ankle boot -->\n    <g transform=\"translate(609.459854 29.7555) scale(0.12 -0.12)\">\n     <use xlink:href=\"#DejaVuSans-61\"/>\n     <use xlink:href=\"#DejaVuSans-6e\" x=\"61.279297\"/>\n     <use xlink:href=\"#DejaVuSans-6b\" x=\"124.658203\"/>\n     <use xlink:href=\"#DejaVuSans-6c\" x=\"182.568359\"/>\n     <use xlink:href=\"#DejaVuSans-65\" x=\"210.351562\"/>\n     <use xlink:href=\"#DejaVuSans-20\" x=\"271.875\"/>\n     <use xlink:href=\"#DejaVuSans-62\" x=\"303.662109\"/>\n     <use xlink:href=\"#DejaVuSans-6f\" x=\"367.138672\"/>\n     <use xlink:href=\"#DejaVuSans-6f\" x=\"428.320312\"/>\n     <use xlink:href=\"#DejaVuSans-74\" x=\"489.501953\"/>\n    </g>\n   </g>\n  </g>\n </g>\n <defs>\n  <clipPath id=\"pe48f7f4594\">\n   <rect x=\"7.2\" y=\"35.7555\" width=\"71.234043\" height=\"71.234043\"/>\n  </clipPath>\n  <clipPath id=\"pe5710637b2\">\n   <rect x=\"92.680851\" y=\"35.7555\" width=\"71.234043\" height=\"71.234043\"/>\n  </clipPath>\n  <clipPath id=\"p860c8a07c9\">\n   <rect x=\"178.161702\" y=\"35.7555\" width=\"71.234043\" height=\"71.234043\"/>\n  </clipPath>\n  <clipPath id=\"p142b62030b\">\n   <rect x=\"263.642553\" y=\"35.7555\" width=\"71.234043\" height=\"71.234043\"/>\n  </clipPath>\n  <clipPath id=\"pca011a9e80\">\n   <rect x=\"349.123404\" y=\"35.7555\" width=\"71.234043\" height=\"71.234043\"/>\n  </clipPath>\n  <clipPath id=\"p894e3b503f\">\n   <rect x=\"434.604255\" y=\"35.7555\" width=\"71.234043\" height=\"71.234043\"/>\n  </clipPath>\n  <clipPath id=\"p4634784e87\">\n   <rect x=\"520.085106\" y=\"35.7555\" width=\"71.234043\" height=\"71.234043\"/>\n  </clipPath>\n  <clipPath id=\"pa98ffd7476\">\n   <rect x=\"605.565957\" y=\"35.7555\" width=\"71.234043\" height=\"71.234043\"/>\n  </clipPath>\n </defs>\n</svg>\n"
          },
          "metadata": {}
        }
      ]
    },
    {
      "cell_type": "markdown",
      "source": [
        "## exercise"
      ],
      "metadata": {
        "id": "7LOcVAZW4p1E"
      }
    },
    {
      "cell_type": "markdown",
      "source": [
        "3. **Is it always a good idea to return the most likely label? For example, would you do this for medical diagnosis? How would you try to address this?**   \n",
        "I think it depends on the domain knowledge. Let the labels be A, B, C, and corresponding probabilities P(A), P(B), P(C). Also, let's say P(A)>P(B)>P(C). Normal classifier would return A. However, there might be situations where P(B|C) > P(A), and we might need to consider this."
      ],
      "metadata": {
        "id": "TjDR4oET4sKf"
      }
    },
    {
      "cell_type": "markdown",
      "source": [
        "# 5.1"
      ],
      "metadata": {
        "id": "QPYAMY4GMW-n"
      }
    },
    {
      "cell_type": "markdown",
      "source": [
        "## code"
      ],
      "metadata": {
        "id": "z_eDA1KYMiO3"
      }
    },
    {
      "cell_type": "code",
      "source": [
        "%matplotlib inline\n",
        "import torch\n",
        "from d2l import torch as d2l"
      ],
      "metadata": {
        "id": "AkNoN-oR4OaX"
      },
      "execution_count": null,
      "outputs": []
    },
    {
      "cell_type": "code",
      "source": [
        "x = torch.arange(-8.0, 8.0, 0.1, requires_grad=True)\n",
        "y = torch.relu(x)\n",
        "d2l.plot(x.detach(), y.detach(), 'x', 'relu(x)', figsize=(5, 2.5))"
      ],
      "metadata": {
        "colab": {
          "base_uri": "https://localhost:8080/",
          "height": 264
        },
        "id": "JDNLSqE-Mk9t",
        "outputId": "e689f558-f0ee-4138-b57f-1f4eee4b661e"
      },
      "execution_count": null,
      "outputs": [
        {
          "output_type": "display_data",
          "data": {
            "text/plain": [
              "<Figure size 500x250 with 1 Axes>"
            ],
            "image/svg+xml": "<?xml version=\"1.0\" encoding=\"utf-8\" standalone=\"no\"?>\n<!DOCTYPE svg PUBLIC \"-//W3C//DTD SVG 1.1//EN\"\n  \"http://www.w3.org/Graphics/SVG/1.1/DTD/svg11.dtd\">\n<svg xmlns:xlink=\"http://www.w3.org/1999/xlink\" width=\"320.440625pt\" height=\"183.35625pt\" viewBox=\"0 0 320.440625 183.35625\" xmlns=\"http://www.w3.org/2000/svg\" version=\"1.1\">\n <metadata>\n  <rdf:RDF xmlns:dc=\"http://purl.org/dc/elements/1.1/\" xmlns:cc=\"http://creativecommons.org/ns#\" xmlns:rdf=\"http://www.w3.org/1999/02/22-rdf-syntax-ns#\">\n   <cc:Work>\n    <dc:type rdf:resource=\"http://purl.org/dc/dcmitype/StillImage\"/>\n    <dc:date>2024-09-24T04:07:36.487888</dc:date>\n    <dc:format>image/svg+xml</dc:format>\n    <dc:creator>\n     <cc:Agent>\n      <dc:title>Matplotlib v3.7.1, https://matplotlib.org/</dc:title>\n     </cc:Agent>\n    </dc:creator>\n   </cc:Work>\n  </rdf:RDF>\n </metadata>\n <defs>\n  <style type=\"text/css\">*{stroke-linejoin: round; stroke-linecap: butt}</style>\n </defs>\n <g id=\"figure_1\">\n  <g id=\"patch_1\">\n   <path d=\"M 0 183.35625 \nL 320.440625 183.35625 \nL 320.440625 0 \nL 0 0 \nz\n\" style=\"fill: #ffffff\"/>\n  </g>\n  <g id=\"axes_1\">\n   <g id=\"patch_2\">\n    <path d=\"M 34.240625 145.8 \nL 313.240625 145.8 \nL 313.240625 7.2 \nL 34.240625 7.2 \nz\n\" style=\"fill: #ffffff\"/>\n   </g>\n   <g id=\"matplotlib.axis_1\">\n    <g id=\"xtick_1\">\n     <g id=\"line2d_1\">\n      <path d=\"M 46.922443 145.8 \nL 46.922443 7.2 \n\" clip-path=\"url(#p6922a97514)\" style=\"fill: none; stroke: #b0b0b0; stroke-width: 0.8; stroke-linecap: square\"/>\n     </g>\n     <g id=\"line2d_2\">\n      <defs>\n       <path id=\"mc0681cbda6\" d=\"M 0 0 \nL 0 3.5 \n\" style=\"stroke: #000000; stroke-width: 0.8\"/>\n      </defs>\n      <g>\n       <use xlink:href=\"#mc0681cbda6\" x=\"46.922443\" y=\"145.8\" style=\"stroke: #000000; stroke-width: 0.8\"/>\n      </g>\n     </g>\n     <g id=\"text_1\">\n      <!-- −8 -->\n      <g transform=\"translate(39.551349 160.398438) scale(0.1 -0.1)\">\n       <defs>\n        <path id=\"DejaVuSans-2212\" d=\"M 678 2272 \nL 4684 2272 \nL 4684 1741 \nL 678 1741 \nL 678 2272 \nz\n\" transform=\"scale(0.015625)\"/>\n        <path id=\"DejaVuSans-38\" d=\"M 2034 2216 \nQ 1584 2216 1326 1975 \nQ 1069 1734 1069 1313 \nQ 1069 891 1326 650 \nQ 1584 409 2034 409 \nQ 2484 409 2743 651 \nQ 3003 894 3003 1313 \nQ 3003 1734 2745 1975 \nQ 2488 2216 2034 2216 \nz\nM 1403 2484 \nQ 997 2584 770 2862 \nQ 544 3141 544 3541 \nQ 544 4100 942 4425 \nQ 1341 4750 2034 4750 \nQ 2731 4750 3128 4425 \nQ 3525 4100 3525 3541 \nQ 3525 3141 3298 2862 \nQ 3072 2584 2669 2484 \nQ 3125 2378 3379 2068 \nQ 3634 1759 3634 1313 \nQ 3634 634 3220 271 \nQ 2806 -91 2034 -91 \nQ 1263 -91 848 271 \nQ 434 634 434 1313 \nQ 434 1759 690 2068 \nQ 947 2378 1403 2484 \nz\nM 1172 3481 \nQ 1172 3119 1398 2916 \nQ 1625 2713 2034 2713 \nQ 2441 2713 2670 2916 \nQ 2900 3119 2900 3481 \nQ 2900 3844 2670 4047 \nQ 2441 4250 2034 4250 \nQ 1625 4250 1398 4047 \nQ 1172 3844 1172 3481 \nz\n\" transform=\"scale(0.015625)\"/>\n       </defs>\n       <use xlink:href=\"#DejaVuSans-2212\"/>\n       <use xlink:href=\"#DejaVuSans-38\" x=\"83.789062\"/>\n      </g>\n     </g>\n    </g>\n    <g id=\"xtick_2\">\n     <g id=\"line2d_3\">\n      <path d=\"M 78.826389 145.8 \nL 78.826389 7.2 \n\" clip-path=\"url(#p6922a97514)\" style=\"fill: none; stroke: #b0b0b0; stroke-width: 0.8; stroke-linecap: square\"/>\n     </g>\n     <g id=\"line2d_4\">\n      <g>\n       <use xlink:href=\"#mc0681cbda6\" x=\"78.826389\" y=\"145.8\" style=\"stroke: #000000; stroke-width: 0.8\"/>\n      </g>\n     </g>\n     <g id=\"text_2\">\n      <!-- −6 -->\n      <g transform=\"translate(71.455295 160.398438) scale(0.1 -0.1)\">\n       <defs>\n        <path id=\"DejaVuSans-36\" d=\"M 2113 2584 \nQ 1688 2584 1439 2293 \nQ 1191 2003 1191 1497 \nQ 1191 994 1439 701 \nQ 1688 409 2113 409 \nQ 2538 409 2786 701 \nQ 3034 994 3034 1497 \nQ 3034 2003 2786 2293 \nQ 2538 2584 2113 2584 \nz\nM 3366 4563 \nL 3366 3988 \nQ 3128 4100 2886 4159 \nQ 2644 4219 2406 4219 \nQ 1781 4219 1451 3797 \nQ 1122 3375 1075 2522 \nQ 1259 2794 1537 2939 \nQ 1816 3084 2150 3084 \nQ 2853 3084 3261 2657 \nQ 3669 2231 3669 1497 \nQ 3669 778 3244 343 \nQ 2819 -91 2113 -91 \nQ 1303 -91 875 529 \nQ 447 1150 447 2328 \nQ 447 3434 972 4092 \nQ 1497 4750 2381 4750 \nQ 2619 4750 2861 4703 \nQ 3103 4656 3366 4563 \nz\n\" transform=\"scale(0.015625)\"/>\n       </defs>\n       <use xlink:href=\"#DejaVuSans-2212\"/>\n       <use xlink:href=\"#DejaVuSans-36\" x=\"83.789062\"/>\n      </g>\n     </g>\n    </g>\n    <g id=\"xtick_3\">\n     <g id=\"line2d_5\">\n      <path d=\"M 110.730335 145.8 \nL 110.730335 7.2 \n\" clip-path=\"url(#p6922a97514)\" style=\"fill: none; stroke: #b0b0b0; stroke-width: 0.8; stroke-linecap: square\"/>\n     </g>\n     <g id=\"line2d_6\">\n      <g>\n       <use xlink:href=\"#mc0681cbda6\" x=\"110.730335\" y=\"145.8\" style=\"stroke: #000000; stroke-width: 0.8\"/>\n      </g>\n     </g>\n     <g id=\"text_3\">\n      <!-- −4 -->\n      <g transform=\"translate(103.359241 160.398438) scale(0.1 -0.1)\">\n       <defs>\n        <path id=\"DejaVuSans-34\" d=\"M 2419 4116 \nL 825 1625 \nL 2419 1625 \nL 2419 4116 \nz\nM 2253 4666 \nL 3047 4666 \nL 3047 1625 \nL 3713 1625 \nL 3713 1100 \nL 3047 1100 \nL 3047 0 \nL 2419 0 \nL 2419 1100 \nL 313 1100 \nL 313 1709 \nL 2253 4666 \nz\n\" transform=\"scale(0.015625)\"/>\n       </defs>\n       <use xlink:href=\"#DejaVuSans-2212\"/>\n       <use xlink:href=\"#DejaVuSans-34\" x=\"83.789062\"/>\n      </g>\n     </g>\n    </g>\n    <g id=\"xtick_4\">\n     <g id=\"line2d_7\">\n      <path d=\"M 142.634281 145.8 \nL 142.634281 7.2 \n\" clip-path=\"url(#p6922a97514)\" style=\"fill: none; stroke: #b0b0b0; stroke-width: 0.8; stroke-linecap: square\"/>\n     </g>\n     <g id=\"line2d_8\">\n      <g>\n       <use xlink:href=\"#mc0681cbda6\" x=\"142.634281\" y=\"145.8\" style=\"stroke: #000000; stroke-width: 0.8\"/>\n      </g>\n     </g>\n     <g id=\"text_4\">\n      <!-- −2 -->\n      <g transform=\"translate(135.263187 160.398438) scale(0.1 -0.1)\">\n       <defs>\n        <path id=\"DejaVuSans-32\" d=\"M 1228 531 \nL 3431 531 \nL 3431 0 \nL 469 0 \nL 469 531 \nQ 828 903 1448 1529 \nQ 2069 2156 2228 2338 \nQ 2531 2678 2651 2914 \nQ 2772 3150 2772 3378 \nQ 2772 3750 2511 3984 \nQ 2250 4219 1831 4219 \nQ 1534 4219 1204 4116 \nQ 875 4013 500 3803 \nL 500 4441 \nQ 881 4594 1212 4672 \nQ 1544 4750 1819 4750 \nQ 2544 4750 2975 4387 \nQ 3406 4025 3406 3419 \nQ 3406 3131 3298 2873 \nQ 3191 2616 2906 2266 \nQ 2828 2175 2409 1742 \nQ 1991 1309 1228 531 \nz\n\" transform=\"scale(0.015625)\"/>\n       </defs>\n       <use xlink:href=\"#DejaVuSans-2212\"/>\n       <use xlink:href=\"#DejaVuSans-32\" x=\"83.789062\"/>\n      </g>\n     </g>\n    </g>\n    <g id=\"xtick_5\">\n     <g id=\"line2d_9\">\n      <path d=\"M 174.538227 145.8 \nL 174.538227 7.2 \n\" clip-path=\"url(#p6922a97514)\" style=\"fill: none; stroke: #b0b0b0; stroke-width: 0.8; stroke-linecap: square\"/>\n     </g>\n     <g id=\"line2d_10\">\n      <g>\n       <use xlink:href=\"#mc0681cbda6\" x=\"174.538227\" y=\"145.8\" style=\"stroke: #000000; stroke-width: 0.8\"/>\n      </g>\n     </g>\n     <g id=\"text_5\">\n      <!-- 0 -->\n      <g transform=\"translate(171.356977 160.398438) scale(0.1 -0.1)\">\n       <defs>\n        <path id=\"DejaVuSans-30\" d=\"M 2034 4250 \nQ 1547 4250 1301 3770 \nQ 1056 3291 1056 2328 \nQ 1056 1369 1301 889 \nQ 1547 409 2034 409 \nQ 2525 409 2770 889 \nQ 3016 1369 3016 2328 \nQ 3016 3291 2770 3770 \nQ 2525 4250 2034 4250 \nz\nM 2034 4750 \nQ 2819 4750 3233 4129 \nQ 3647 3509 3647 2328 \nQ 3647 1150 3233 529 \nQ 2819 -91 2034 -91 \nQ 1250 -91 836 529 \nQ 422 1150 422 2328 \nQ 422 3509 836 4129 \nQ 1250 4750 2034 4750 \nz\n\" transform=\"scale(0.015625)\"/>\n       </defs>\n       <use xlink:href=\"#DejaVuSans-30\"/>\n      </g>\n     </g>\n    </g>\n    <g id=\"xtick_6\">\n     <g id=\"line2d_11\">\n      <path d=\"M 206.442173 145.8 \nL 206.442173 7.2 \n\" clip-path=\"url(#p6922a97514)\" style=\"fill: none; stroke: #b0b0b0; stroke-width: 0.8; stroke-linecap: square\"/>\n     </g>\n     <g id=\"line2d_12\">\n      <g>\n       <use xlink:href=\"#mc0681cbda6\" x=\"206.442173\" y=\"145.8\" style=\"stroke: #000000; stroke-width: 0.8\"/>\n      </g>\n     </g>\n     <g id=\"text_6\">\n      <!-- 2 -->\n      <g transform=\"translate(203.260923 160.398438) scale(0.1 -0.1)\">\n       <use xlink:href=\"#DejaVuSans-32\"/>\n      </g>\n     </g>\n    </g>\n    <g id=\"xtick_7\">\n     <g id=\"line2d_13\">\n      <path d=\"M 238.346118 145.8 \nL 238.346118 7.2 \n\" clip-path=\"url(#p6922a97514)\" style=\"fill: none; stroke: #b0b0b0; stroke-width: 0.8; stroke-linecap: square\"/>\n     </g>\n     <g id=\"line2d_14\">\n      <g>\n       <use xlink:href=\"#mc0681cbda6\" x=\"238.346118\" y=\"145.8\" style=\"stroke: #000000; stroke-width: 0.8\"/>\n      </g>\n     </g>\n     <g id=\"text_7\">\n      <!-- 4 -->\n      <g transform=\"translate(235.164868 160.398438) scale(0.1 -0.1)\">\n       <use xlink:href=\"#DejaVuSans-34\"/>\n      </g>\n     </g>\n    </g>\n    <g id=\"xtick_8\">\n     <g id=\"line2d_15\">\n      <path d=\"M 270.250064 145.8 \nL 270.250064 7.2 \n\" clip-path=\"url(#p6922a97514)\" style=\"fill: none; stroke: #b0b0b0; stroke-width: 0.8; stroke-linecap: square\"/>\n     </g>\n     <g id=\"line2d_16\">\n      <g>\n       <use xlink:href=\"#mc0681cbda6\" x=\"270.250064\" y=\"145.8\" style=\"stroke: #000000; stroke-width: 0.8\"/>\n      </g>\n     </g>\n     <g id=\"text_8\">\n      <!-- 6 -->\n      <g transform=\"translate(267.068814 160.398438) scale(0.1 -0.1)\">\n       <use xlink:href=\"#DejaVuSans-36\"/>\n      </g>\n     </g>\n    </g>\n    <g id=\"xtick_9\">\n     <g id=\"line2d_17\">\n      <path d=\"M 302.15401 145.8 \nL 302.15401 7.2 \n\" clip-path=\"url(#p6922a97514)\" style=\"fill: none; stroke: #b0b0b0; stroke-width: 0.8; stroke-linecap: square\"/>\n     </g>\n     <g id=\"line2d_18\">\n      <g>\n       <use xlink:href=\"#mc0681cbda6\" x=\"302.15401\" y=\"145.8\" style=\"stroke: #000000; stroke-width: 0.8\"/>\n      </g>\n     </g>\n     <g id=\"text_9\">\n      <!-- 8 -->\n      <g transform=\"translate(298.97276 160.398438) scale(0.1 -0.1)\">\n       <use xlink:href=\"#DejaVuSans-38\"/>\n      </g>\n     </g>\n    </g>\n    <g id=\"text_10\">\n     <!-- x -->\n     <g transform=\"translate(170.78125 174.076563) scale(0.1 -0.1)\">\n      <defs>\n       <path id=\"DejaVuSans-78\" d=\"M 3513 3500 \nL 2247 1797 \nL 3578 0 \nL 2900 0 \nL 1881 1375 \nL 863 0 \nL 184 0 \nL 1544 1831 \nL 300 3500 \nL 978 3500 \nL 1906 2253 \nL 2834 3500 \nL 3513 3500 \nz\n\" transform=\"scale(0.015625)\"/>\n      </defs>\n      <use xlink:href=\"#DejaVuSans-78\"/>\n     </g>\n    </g>\n   </g>\n   <g id=\"matplotlib.axis_2\">\n    <g id=\"ytick_1\">\n     <g id=\"line2d_19\">\n      <path d=\"M 34.240625 139.5 \nL 313.240625 139.5 \n\" clip-path=\"url(#p6922a97514)\" style=\"fill: none; stroke: #b0b0b0; stroke-width: 0.8; stroke-linecap: square\"/>\n     </g>\n     <g id=\"line2d_20\">\n      <defs>\n       <path id=\"meea4d47ede\" d=\"M 0 0 \nL -3.5 0 \n\" style=\"stroke: #000000; stroke-width: 0.8\"/>\n      </defs>\n      <g>\n       <use xlink:href=\"#meea4d47ede\" x=\"34.240625\" y=\"139.5\" style=\"stroke: #000000; stroke-width: 0.8\"/>\n      </g>\n     </g>\n     <g id=\"text_11\">\n      <!-- 0 -->\n      <g transform=\"translate(20.878125 143.299219) scale(0.1 -0.1)\">\n       <use xlink:href=\"#DejaVuSans-30\"/>\n      </g>\n     </g>\n    </g>\n    <g id=\"ytick_2\">\n     <g id=\"line2d_21\">\n      <path d=\"M 34.240625 107.601264 \nL 313.240625 107.601264 \n\" clip-path=\"url(#p6922a97514)\" style=\"fill: none; stroke: #b0b0b0; stroke-width: 0.8; stroke-linecap: square\"/>\n     </g>\n     <g id=\"line2d_22\">\n      <g>\n       <use xlink:href=\"#meea4d47ede\" x=\"34.240625\" y=\"107.601264\" style=\"stroke: #000000; stroke-width: 0.8\"/>\n      </g>\n     </g>\n     <g id=\"text_12\">\n      <!-- 2 -->\n      <g transform=\"translate(20.878125 111.400483) scale(0.1 -0.1)\">\n       <use xlink:href=\"#DejaVuSans-32\"/>\n      </g>\n     </g>\n    </g>\n    <g id=\"ytick_3\">\n     <g id=\"line2d_23\">\n      <path d=\"M 34.240625 75.702529 \nL 313.240625 75.702529 \n\" clip-path=\"url(#p6922a97514)\" style=\"fill: none; stroke: #b0b0b0; stroke-width: 0.8; stroke-linecap: square\"/>\n     </g>\n     <g id=\"line2d_24\">\n      <g>\n       <use xlink:href=\"#meea4d47ede\" x=\"34.240625\" y=\"75.702529\" style=\"stroke: #000000; stroke-width: 0.8\"/>\n      </g>\n     </g>\n     <g id=\"text_13\">\n      <!-- 4 -->\n      <g transform=\"translate(20.878125 79.501747) scale(0.1 -0.1)\">\n       <use xlink:href=\"#DejaVuSans-34\"/>\n      </g>\n     </g>\n    </g>\n    <g id=\"ytick_4\">\n     <g id=\"line2d_25\">\n      <path d=\"M 34.240625 43.803793 \nL 313.240625 43.803793 \n\" clip-path=\"url(#p6922a97514)\" style=\"fill: none; stroke: #b0b0b0; stroke-width: 0.8; stroke-linecap: square\"/>\n     </g>\n     <g id=\"line2d_26\">\n      <g>\n       <use xlink:href=\"#meea4d47ede\" x=\"34.240625\" y=\"43.803793\" style=\"stroke: #000000; stroke-width: 0.8\"/>\n      </g>\n     </g>\n     <g id=\"text_14\">\n      <!-- 6 -->\n      <g transform=\"translate(20.878125 47.603012) scale(0.1 -0.1)\">\n       <use xlink:href=\"#DejaVuSans-36\"/>\n      </g>\n     </g>\n    </g>\n    <g id=\"ytick_5\">\n     <g id=\"line2d_27\">\n      <path d=\"M 34.240625 11.905057 \nL 313.240625 11.905057 \n\" clip-path=\"url(#p6922a97514)\" style=\"fill: none; stroke: #b0b0b0; stroke-width: 0.8; stroke-linecap: square\"/>\n     </g>\n     <g id=\"line2d_28\">\n      <g>\n       <use xlink:href=\"#meea4d47ede\" x=\"34.240625\" y=\"11.905057\" style=\"stroke: #000000; stroke-width: 0.8\"/>\n      </g>\n     </g>\n     <g id=\"text_15\">\n      <!-- 8 -->\n      <g transform=\"translate(20.878125 15.704276) scale(0.1 -0.1)\">\n       <use xlink:href=\"#DejaVuSans-38\"/>\n      </g>\n     </g>\n    </g>\n    <g id=\"text_16\">\n     <!-- relu(x) -->\n     <g transform=\"translate(14.798438 92.938281) rotate(-90) scale(0.1 -0.1)\">\n      <defs>\n       <path id=\"DejaVuSans-72\" d=\"M 2631 2963 \nQ 2534 3019 2420 3045 \nQ 2306 3072 2169 3072 \nQ 1681 3072 1420 2755 \nQ 1159 2438 1159 1844 \nL 1159 0 \nL 581 0 \nL 581 3500 \nL 1159 3500 \nL 1159 2956 \nQ 1341 3275 1631 3429 \nQ 1922 3584 2338 3584 \nQ 2397 3584 2469 3576 \nQ 2541 3569 2628 3553 \nL 2631 2963 \nz\n\" transform=\"scale(0.015625)\"/>\n       <path id=\"DejaVuSans-65\" d=\"M 3597 1894 \nL 3597 1613 \nL 953 1613 \nQ 991 1019 1311 708 \nQ 1631 397 2203 397 \nQ 2534 397 2845 478 \nQ 3156 559 3463 722 \nL 3463 178 \nQ 3153 47 2828 -22 \nQ 2503 -91 2169 -91 \nQ 1331 -91 842 396 \nQ 353 884 353 1716 \nQ 353 2575 817 3079 \nQ 1281 3584 2069 3584 \nQ 2775 3584 3186 3129 \nQ 3597 2675 3597 1894 \nz\nM 3022 2063 \nQ 3016 2534 2758 2815 \nQ 2500 3097 2075 3097 \nQ 1594 3097 1305 2825 \nQ 1016 2553 972 2059 \nL 3022 2063 \nz\n\" transform=\"scale(0.015625)\"/>\n       <path id=\"DejaVuSans-6c\" d=\"M 603 4863 \nL 1178 4863 \nL 1178 0 \nL 603 0 \nL 603 4863 \nz\n\" transform=\"scale(0.015625)\"/>\n       <path id=\"DejaVuSans-75\" d=\"M 544 1381 \nL 544 3500 \nL 1119 3500 \nL 1119 1403 \nQ 1119 906 1312 657 \nQ 1506 409 1894 409 \nQ 2359 409 2629 706 \nQ 2900 1003 2900 1516 \nL 2900 3500 \nL 3475 3500 \nL 3475 0 \nL 2900 0 \nL 2900 538 \nQ 2691 219 2414 64 \nQ 2138 -91 1772 -91 \nQ 1169 -91 856 284 \nQ 544 659 544 1381 \nz\nM 1991 3584 \nL 1991 3584 \nz\n\" transform=\"scale(0.015625)\"/>\n       <path id=\"DejaVuSans-28\" d=\"M 1984 4856 \nQ 1566 4138 1362 3434 \nQ 1159 2731 1159 2009 \nQ 1159 1288 1364 580 \nQ 1569 -128 1984 -844 \nL 1484 -844 \nQ 1016 -109 783 600 \nQ 550 1309 550 2009 \nQ 550 2706 781 3412 \nQ 1013 4119 1484 4856 \nL 1984 4856 \nz\n\" transform=\"scale(0.015625)\"/>\n       <path id=\"DejaVuSans-29\" d=\"M 513 4856 \nL 1013 4856 \nQ 1481 4119 1714 3412 \nQ 1947 2706 1947 2009 \nQ 1947 1309 1714 600 \nQ 1481 -109 1013 -844 \nL 513 -844 \nQ 928 -128 1133 580 \nQ 1338 1288 1338 2009 \nQ 1338 2731 1133 3434 \nQ 928 4138 513 4856 \nz\n\" transform=\"scale(0.015625)\"/>\n      </defs>\n      <use xlink:href=\"#DejaVuSans-72\"/>\n      <use xlink:href=\"#DejaVuSans-65\" x=\"38.863281\"/>\n      <use xlink:href=\"#DejaVuSans-6c\" x=\"100.386719\"/>\n      <use xlink:href=\"#DejaVuSans-75\" x=\"128.169922\"/>\n      <use xlink:href=\"#DejaVuSans-28\" x=\"191.548828\"/>\n      <use xlink:href=\"#DejaVuSans-78\" x=\"230.5625\"/>\n      <use xlink:href=\"#DejaVuSans-29\" x=\"289.742188\"/>\n     </g>\n    </g>\n   </g>\n   <g id=\"line2d_29\">\n    <path d=\"M 46.922443 139.5 \nL 174.538227 139.5 \nL 300.558807 13.5 \nL 300.558807 13.5 \n\" clip-path=\"url(#p6922a97514)\" style=\"fill: none; stroke: #1f77b4; stroke-width: 1.5; stroke-linecap: square\"/>\n   </g>\n   <g id=\"patch_3\">\n    <path d=\"M 34.240625 145.8 \nL 34.240625 7.2 \n\" style=\"fill: none; stroke: #000000; stroke-width: 0.8; stroke-linejoin: miter; stroke-linecap: square\"/>\n   </g>\n   <g id=\"patch_4\">\n    <path d=\"M 313.240625 145.8 \nL 313.240625 7.2 \n\" style=\"fill: none; stroke: #000000; stroke-width: 0.8; stroke-linejoin: miter; stroke-linecap: square\"/>\n   </g>\n   <g id=\"patch_5\">\n    <path d=\"M 34.240625 145.8 \nL 313.240625 145.8 \n\" style=\"fill: none; stroke: #000000; stroke-width: 0.8; stroke-linejoin: miter; stroke-linecap: square\"/>\n   </g>\n   <g id=\"patch_6\">\n    <path d=\"M 34.240625 7.2 \nL 313.240625 7.2 \n\" style=\"fill: none; stroke: #000000; stroke-width: 0.8; stroke-linejoin: miter; stroke-linecap: square\"/>\n   </g>\n  </g>\n </g>\n <defs>\n  <clipPath id=\"p6922a97514\">\n   <rect x=\"34.240625\" y=\"7.2\" width=\"279\" height=\"138.6\"/>\n  </clipPath>\n </defs>\n</svg>\n"
          },
          "metadata": {}
        }
      ]
    },
    {
      "cell_type": "code",
      "source": [
        "y.backward(torch.ones_like(x), retain_graph=True)\n",
        "d2l.plot(x.detach(), x.grad, 'x', 'grad of relu', figsize=(5, 2.5))"
      ],
      "metadata": {
        "colab": {
          "base_uri": "https://localhost:8080/",
          "height": 264
        },
        "id": "yVCZpDIONTYk",
        "outputId": "1e2eb1ff-2411-4965-f610-d2d4988f5b7d"
      },
      "execution_count": null,
      "outputs": [
        {
          "output_type": "display_data",
          "data": {
            "text/plain": [
              "<Figure size 500x250 with 1 Axes>"
            ],
            "image/svg+xml": "<?xml version=\"1.0\" encoding=\"utf-8\" standalone=\"no\"?>\n<!DOCTYPE svg PUBLIC \"-//W3C//DTD SVG 1.1//EN\"\n  \"http://www.w3.org/Graphics/SVG/1.1/DTD/svg11.dtd\">\n<svg xmlns:xlink=\"http://www.w3.org/1999/xlink\" width=\"329.98125pt\" height=\"183.35625pt\" viewBox=\"0 0 329.98125 183.35625\" xmlns=\"http://www.w3.org/2000/svg\" version=\"1.1\">\n <metadata>\n  <rdf:RDF xmlns:dc=\"http://purl.org/dc/elements/1.1/\" xmlns:cc=\"http://creativecommons.org/ns#\" xmlns:rdf=\"http://www.w3.org/1999/02/22-rdf-syntax-ns#\">\n   <cc:Work>\n    <dc:type rdf:resource=\"http://purl.org/dc/dcmitype/StillImage\"/>\n    <dc:date>2024-09-24T04:07:37.033975</dc:date>\n    <dc:format>image/svg+xml</dc:format>\n    <dc:creator>\n     <cc:Agent>\n      <dc:title>Matplotlib v3.7.1, https://matplotlib.org/</dc:title>\n     </cc:Agent>\n    </dc:creator>\n   </cc:Work>\n  </rdf:RDF>\n </metadata>\n <defs>\n  <style type=\"text/css\">*{stroke-linejoin: round; stroke-linecap: butt}</style>\n </defs>\n <g id=\"figure_1\">\n  <g id=\"patch_1\">\n   <path d=\"M 0 183.35625 \nL 329.98125 183.35625 \nL 329.98125 0 \nL 0 0 \nz\n\" style=\"fill: #ffffff\"/>\n  </g>\n  <g id=\"axes_1\">\n   <g id=\"patch_2\">\n    <path d=\"M 43.78125 145.8 \nL 322.78125 145.8 \nL 322.78125 7.2 \nL 43.78125 7.2 \nz\n\" style=\"fill: #ffffff\"/>\n   </g>\n   <g id=\"matplotlib.axis_1\">\n    <g id=\"xtick_1\">\n     <g id=\"line2d_1\">\n      <path d=\"M 56.463068 145.8 \nL 56.463068 7.2 \n\" clip-path=\"url(#p8da812f603)\" style=\"fill: none; stroke: #b0b0b0; stroke-width: 0.8; stroke-linecap: square\"/>\n     </g>\n     <g id=\"line2d_2\">\n      <defs>\n       <path id=\"m885900a9c2\" d=\"M 0 0 \nL 0 3.5 \n\" style=\"stroke: #000000; stroke-width: 0.8\"/>\n      </defs>\n      <g>\n       <use xlink:href=\"#m885900a9c2\" x=\"56.463068\" y=\"145.8\" style=\"stroke: #000000; stroke-width: 0.8\"/>\n      </g>\n     </g>\n     <g id=\"text_1\">\n      <!-- −8 -->\n      <g transform=\"translate(49.091974 160.398438) scale(0.1 -0.1)\">\n       <defs>\n        <path id=\"DejaVuSans-2212\" d=\"M 678 2272 \nL 4684 2272 \nL 4684 1741 \nL 678 1741 \nL 678 2272 \nz\n\" transform=\"scale(0.015625)\"/>\n        <path id=\"DejaVuSans-38\" d=\"M 2034 2216 \nQ 1584 2216 1326 1975 \nQ 1069 1734 1069 1313 \nQ 1069 891 1326 650 \nQ 1584 409 2034 409 \nQ 2484 409 2743 651 \nQ 3003 894 3003 1313 \nQ 3003 1734 2745 1975 \nQ 2488 2216 2034 2216 \nz\nM 1403 2484 \nQ 997 2584 770 2862 \nQ 544 3141 544 3541 \nQ 544 4100 942 4425 \nQ 1341 4750 2034 4750 \nQ 2731 4750 3128 4425 \nQ 3525 4100 3525 3541 \nQ 3525 3141 3298 2862 \nQ 3072 2584 2669 2484 \nQ 3125 2378 3379 2068 \nQ 3634 1759 3634 1313 \nQ 3634 634 3220 271 \nQ 2806 -91 2034 -91 \nQ 1263 -91 848 271 \nQ 434 634 434 1313 \nQ 434 1759 690 2068 \nQ 947 2378 1403 2484 \nz\nM 1172 3481 \nQ 1172 3119 1398 2916 \nQ 1625 2713 2034 2713 \nQ 2441 2713 2670 2916 \nQ 2900 3119 2900 3481 \nQ 2900 3844 2670 4047 \nQ 2441 4250 2034 4250 \nQ 1625 4250 1398 4047 \nQ 1172 3844 1172 3481 \nz\n\" transform=\"scale(0.015625)\"/>\n       </defs>\n       <use xlink:href=\"#DejaVuSans-2212\"/>\n       <use xlink:href=\"#DejaVuSans-38\" x=\"83.789062\"/>\n      </g>\n     </g>\n    </g>\n    <g id=\"xtick_2\">\n     <g id=\"line2d_3\">\n      <path d=\"M 88.367014 145.8 \nL 88.367014 7.2 \n\" clip-path=\"url(#p8da812f603)\" style=\"fill: none; stroke: #b0b0b0; stroke-width: 0.8; stroke-linecap: square\"/>\n     </g>\n     <g id=\"line2d_4\">\n      <g>\n       <use xlink:href=\"#m885900a9c2\" x=\"88.367014\" y=\"145.8\" style=\"stroke: #000000; stroke-width: 0.8\"/>\n      </g>\n     </g>\n     <g id=\"text_2\">\n      <!-- −6 -->\n      <g transform=\"translate(80.99592 160.398438) scale(0.1 -0.1)\">\n       <defs>\n        <path id=\"DejaVuSans-36\" d=\"M 2113 2584 \nQ 1688 2584 1439 2293 \nQ 1191 2003 1191 1497 \nQ 1191 994 1439 701 \nQ 1688 409 2113 409 \nQ 2538 409 2786 701 \nQ 3034 994 3034 1497 \nQ 3034 2003 2786 2293 \nQ 2538 2584 2113 2584 \nz\nM 3366 4563 \nL 3366 3988 \nQ 3128 4100 2886 4159 \nQ 2644 4219 2406 4219 \nQ 1781 4219 1451 3797 \nQ 1122 3375 1075 2522 \nQ 1259 2794 1537 2939 \nQ 1816 3084 2150 3084 \nQ 2853 3084 3261 2657 \nQ 3669 2231 3669 1497 \nQ 3669 778 3244 343 \nQ 2819 -91 2113 -91 \nQ 1303 -91 875 529 \nQ 447 1150 447 2328 \nQ 447 3434 972 4092 \nQ 1497 4750 2381 4750 \nQ 2619 4750 2861 4703 \nQ 3103 4656 3366 4563 \nz\n\" transform=\"scale(0.015625)\"/>\n       </defs>\n       <use xlink:href=\"#DejaVuSans-2212\"/>\n       <use xlink:href=\"#DejaVuSans-36\" x=\"83.789062\"/>\n      </g>\n     </g>\n    </g>\n    <g id=\"xtick_3\">\n     <g id=\"line2d_5\">\n      <path d=\"M 120.27096 145.8 \nL 120.27096 7.2 \n\" clip-path=\"url(#p8da812f603)\" style=\"fill: none; stroke: #b0b0b0; stroke-width: 0.8; stroke-linecap: square\"/>\n     </g>\n     <g id=\"line2d_6\">\n      <g>\n       <use xlink:href=\"#m885900a9c2\" x=\"120.27096\" y=\"145.8\" style=\"stroke: #000000; stroke-width: 0.8\"/>\n      </g>\n     </g>\n     <g id=\"text_3\">\n      <!-- −4 -->\n      <g transform=\"translate(112.899866 160.398438) scale(0.1 -0.1)\">\n       <defs>\n        <path id=\"DejaVuSans-34\" d=\"M 2419 4116 \nL 825 1625 \nL 2419 1625 \nL 2419 4116 \nz\nM 2253 4666 \nL 3047 4666 \nL 3047 1625 \nL 3713 1625 \nL 3713 1100 \nL 3047 1100 \nL 3047 0 \nL 2419 0 \nL 2419 1100 \nL 313 1100 \nL 313 1709 \nL 2253 4666 \nz\n\" transform=\"scale(0.015625)\"/>\n       </defs>\n       <use xlink:href=\"#DejaVuSans-2212\"/>\n       <use xlink:href=\"#DejaVuSans-34\" x=\"83.789062\"/>\n      </g>\n     </g>\n    </g>\n    <g id=\"xtick_4\">\n     <g id=\"line2d_7\">\n      <path d=\"M 152.174906 145.8 \nL 152.174906 7.2 \n\" clip-path=\"url(#p8da812f603)\" style=\"fill: none; stroke: #b0b0b0; stroke-width: 0.8; stroke-linecap: square\"/>\n     </g>\n     <g id=\"line2d_8\">\n      <g>\n       <use xlink:href=\"#m885900a9c2\" x=\"152.174906\" y=\"145.8\" style=\"stroke: #000000; stroke-width: 0.8\"/>\n      </g>\n     </g>\n     <g id=\"text_4\">\n      <!-- −2 -->\n      <g transform=\"translate(144.803812 160.398438) scale(0.1 -0.1)\">\n       <defs>\n        <path id=\"DejaVuSans-32\" d=\"M 1228 531 \nL 3431 531 \nL 3431 0 \nL 469 0 \nL 469 531 \nQ 828 903 1448 1529 \nQ 2069 2156 2228 2338 \nQ 2531 2678 2651 2914 \nQ 2772 3150 2772 3378 \nQ 2772 3750 2511 3984 \nQ 2250 4219 1831 4219 \nQ 1534 4219 1204 4116 \nQ 875 4013 500 3803 \nL 500 4441 \nQ 881 4594 1212 4672 \nQ 1544 4750 1819 4750 \nQ 2544 4750 2975 4387 \nQ 3406 4025 3406 3419 \nQ 3406 3131 3298 2873 \nQ 3191 2616 2906 2266 \nQ 2828 2175 2409 1742 \nQ 1991 1309 1228 531 \nz\n\" transform=\"scale(0.015625)\"/>\n       </defs>\n       <use xlink:href=\"#DejaVuSans-2212\"/>\n       <use xlink:href=\"#DejaVuSans-32\" x=\"83.789062\"/>\n      </g>\n     </g>\n    </g>\n    <g id=\"xtick_5\">\n     <g id=\"line2d_9\">\n      <path d=\"M 184.078852 145.8 \nL 184.078852 7.2 \n\" clip-path=\"url(#p8da812f603)\" style=\"fill: none; stroke: #b0b0b0; stroke-width: 0.8; stroke-linecap: square\"/>\n     </g>\n     <g id=\"line2d_10\">\n      <g>\n       <use xlink:href=\"#m885900a9c2\" x=\"184.078852\" y=\"145.8\" style=\"stroke: #000000; stroke-width: 0.8\"/>\n      </g>\n     </g>\n     <g id=\"text_5\">\n      <!-- 0 -->\n      <g transform=\"translate(180.897602 160.398438) scale(0.1 -0.1)\">\n       <defs>\n        <path id=\"DejaVuSans-30\" d=\"M 2034 4250 \nQ 1547 4250 1301 3770 \nQ 1056 3291 1056 2328 \nQ 1056 1369 1301 889 \nQ 1547 409 2034 409 \nQ 2525 409 2770 889 \nQ 3016 1369 3016 2328 \nQ 3016 3291 2770 3770 \nQ 2525 4250 2034 4250 \nz\nM 2034 4750 \nQ 2819 4750 3233 4129 \nQ 3647 3509 3647 2328 \nQ 3647 1150 3233 529 \nQ 2819 -91 2034 -91 \nQ 1250 -91 836 529 \nQ 422 1150 422 2328 \nQ 422 3509 836 4129 \nQ 1250 4750 2034 4750 \nz\n\" transform=\"scale(0.015625)\"/>\n       </defs>\n       <use xlink:href=\"#DejaVuSans-30\"/>\n      </g>\n     </g>\n    </g>\n    <g id=\"xtick_6\">\n     <g id=\"line2d_11\">\n      <path d=\"M 215.982798 145.8 \nL 215.982798 7.2 \n\" clip-path=\"url(#p8da812f603)\" style=\"fill: none; stroke: #b0b0b0; stroke-width: 0.8; stroke-linecap: square\"/>\n     </g>\n     <g id=\"line2d_12\">\n      <g>\n       <use xlink:href=\"#m885900a9c2\" x=\"215.982798\" y=\"145.8\" style=\"stroke: #000000; stroke-width: 0.8\"/>\n      </g>\n     </g>\n     <g id=\"text_6\">\n      <!-- 2 -->\n      <g transform=\"translate(212.801548 160.398438) scale(0.1 -0.1)\">\n       <use xlink:href=\"#DejaVuSans-32\"/>\n      </g>\n     </g>\n    </g>\n    <g id=\"xtick_7\">\n     <g id=\"line2d_13\">\n      <path d=\"M 247.886743 145.8 \nL 247.886743 7.2 \n\" clip-path=\"url(#p8da812f603)\" style=\"fill: none; stroke: #b0b0b0; stroke-width: 0.8; stroke-linecap: square\"/>\n     </g>\n     <g id=\"line2d_14\">\n      <g>\n       <use xlink:href=\"#m885900a9c2\" x=\"247.886743\" y=\"145.8\" style=\"stroke: #000000; stroke-width: 0.8\"/>\n      </g>\n     </g>\n     <g id=\"text_7\">\n      <!-- 4 -->\n      <g transform=\"translate(244.705493 160.398438) scale(0.1 -0.1)\">\n       <use xlink:href=\"#DejaVuSans-34\"/>\n      </g>\n     </g>\n    </g>\n    <g id=\"xtick_8\">\n     <g id=\"line2d_15\">\n      <path d=\"M 279.790689 145.8 \nL 279.790689 7.2 \n\" clip-path=\"url(#p8da812f603)\" style=\"fill: none; stroke: #b0b0b0; stroke-width: 0.8; stroke-linecap: square\"/>\n     </g>\n     <g id=\"line2d_16\">\n      <g>\n       <use xlink:href=\"#m885900a9c2\" x=\"279.790689\" y=\"145.8\" style=\"stroke: #000000; stroke-width: 0.8\"/>\n      </g>\n     </g>\n     <g id=\"text_8\">\n      <!-- 6 -->\n      <g transform=\"translate(276.609439 160.398438) scale(0.1 -0.1)\">\n       <use xlink:href=\"#DejaVuSans-36\"/>\n      </g>\n     </g>\n    </g>\n    <g id=\"xtick_9\">\n     <g id=\"line2d_17\">\n      <path d=\"M 311.694635 145.8 \nL 311.694635 7.2 \n\" clip-path=\"url(#p8da812f603)\" style=\"fill: none; stroke: #b0b0b0; stroke-width: 0.8; stroke-linecap: square\"/>\n     </g>\n     <g id=\"line2d_18\">\n      <g>\n       <use xlink:href=\"#m885900a9c2\" x=\"311.694635\" y=\"145.8\" style=\"stroke: #000000; stroke-width: 0.8\"/>\n      </g>\n     </g>\n     <g id=\"text_9\">\n      <!-- 8 -->\n      <g transform=\"translate(308.513385 160.398438) scale(0.1 -0.1)\">\n       <use xlink:href=\"#DejaVuSans-38\"/>\n      </g>\n     </g>\n    </g>\n    <g id=\"text_10\">\n     <!-- x -->\n     <g transform=\"translate(180.321875 174.076563) scale(0.1 -0.1)\">\n      <defs>\n       <path id=\"DejaVuSans-78\" d=\"M 3513 3500 \nL 2247 1797 \nL 3578 0 \nL 2900 0 \nL 1881 1375 \nL 863 0 \nL 184 0 \nL 1544 1831 \nL 300 3500 \nL 978 3500 \nL 1906 2253 \nL 2834 3500 \nL 3513 3500 \nz\n\" transform=\"scale(0.015625)\"/>\n      </defs>\n      <use xlink:href=\"#DejaVuSans-78\"/>\n     </g>\n    </g>\n   </g>\n   <g id=\"matplotlib.axis_2\">\n    <g id=\"ytick_1\">\n     <g id=\"line2d_19\">\n      <path d=\"M 43.78125 139.5 \nL 322.78125 139.5 \n\" clip-path=\"url(#p8da812f603)\" style=\"fill: none; stroke: #b0b0b0; stroke-width: 0.8; stroke-linecap: square\"/>\n     </g>\n     <g id=\"line2d_20\">\n      <defs>\n       <path id=\"m0ee12d326b\" d=\"M 0 0 \nL -3.5 0 \n\" style=\"stroke: #000000; stroke-width: 0.8\"/>\n      </defs>\n      <g>\n       <use xlink:href=\"#m0ee12d326b\" x=\"43.78125\" y=\"139.5\" style=\"stroke: #000000; stroke-width: 0.8\"/>\n      </g>\n     </g>\n     <g id=\"text_11\">\n      <!-- 0.0 -->\n      <g transform=\"translate(20.878125 143.299219) scale(0.1 -0.1)\">\n       <defs>\n        <path id=\"DejaVuSans-2e\" d=\"M 684 794 \nL 1344 794 \nL 1344 0 \nL 684 0 \nL 684 794 \nz\n\" transform=\"scale(0.015625)\"/>\n       </defs>\n       <use xlink:href=\"#DejaVuSans-30\"/>\n       <use xlink:href=\"#DejaVuSans-2e\" x=\"63.623047\"/>\n       <use xlink:href=\"#DejaVuSans-30\" x=\"95.410156\"/>\n      </g>\n     </g>\n    </g>\n    <g id=\"ytick_2\">\n     <g id=\"line2d_21\">\n      <path d=\"M 43.78125 114.3 \nL 322.78125 114.3 \n\" clip-path=\"url(#p8da812f603)\" style=\"fill: none; stroke: #b0b0b0; stroke-width: 0.8; stroke-linecap: square\"/>\n     </g>\n     <g id=\"line2d_22\">\n      <g>\n       <use xlink:href=\"#m0ee12d326b\" x=\"43.78125\" y=\"114.3\" style=\"stroke: #000000; stroke-width: 0.8\"/>\n      </g>\n     </g>\n     <g id=\"text_12\">\n      <!-- 0.2 -->\n      <g transform=\"translate(20.878125 118.099219) scale(0.1 -0.1)\">\n       <use xlink:href=\"#DejaVuSans-30\"/>\n       <use xlink:href=\"#DejaVuSans-2e\" x=\"63.623047\"/>\n       <use xlink:href=\"#DejaVuSans-32\" x=\"95.410156\"/>\n      </g>\n     </g>\n    </g>\n    <g id=\"ytick_3\">\n     <g id=\"line2d_23\">\n      <path d=\"M 43.78125 89.1 \nL 322.78125 89.1 \n\" clip-path=\"url(#p8da812f603)\" style=\"fill: none; stroke: #b0b0b0; stroke-width: 0.8; stroke-linecap: square\"/>\n     </g>\n     <g id=\"line2d_24\">\n      <g>\n       <use xlink:href=\"#m0ee12d326b\" x=\"43.78125\" y=\"89.1\" style=\"stroke: #000000; stroke-width: 0.8\"/>\n      </g>\n     </g>\n     <g id=\"text_13\">\n      <!-- 0.4 -->\n      <g transform=\"translate(20.878125 92.899219) scale(0.1 -0.1)\">\n       <use xlink:href=\"#DejaVuSans-30\"/>\n       <use xlink:href=\"#DejaVuSans-2e\" x=\"63.623047\"/>\n       <use xlink:href=\"#DejaVuSans-34\" x=\"95.410156\"/>\n      </g>\n     </g>\n    </g>\n    <g id=\"ytick_4\">\n     <g id=\"line2d_25\">\n      <path d=\"M 43.78125 63.9 \nL 322.78125 63.9 \n\" clip-path=\"url(#p8da812f603)\" style=\"fill: none; stroke: #b0b0b0; stroke-width: 0.8; stroke-linecap: square\"/>\n     </g>\n     <g id=\"line2d_26\">\n      <g>\n       <use xlink:href=\"#m0ee12d326b\" x=\"43.78125\" y=\"63.9\" style=\"stroke: #000000; stroke-width: 0.8\"/>\n      </g>\n     </g>\n     <g id=\"text_14\">\n      <!-- 0.6 -->\n      <g transform=\"translate(20.878125 67.699219) scale(0.1 -0.1)\">\n       <use xlink:href=\"#DejaVuSans-30\"/>\n       <use xlink:href=\"#DejaVuSans-2e\" x=\"63.623047\"/>\n       <use xlink:href=\"#DejaVuSans-36\" x=\"95.410156\"/>\n      </g>\n     </g>\n    </g>\n    <g id=\"ytick_5\">\n     <g id=\"line2d_27\">\n      <path d=\"M 43.78125 38.7 \nL 322.78125 38.7 \n\" clip-path=\"url(#p8da812f603)\" style=\"fill: none; stroke: #b0b0b0; stroke-width: 0.8; stroke-linecap: square\"/>\n     </g>\n     <g id=\"line2d_28\">\n      <g>\n       <use xlink:href=\"#m0ee12d326b\" x=\"43.78125\" y=\"38.7\" style=\"stroke: #000000; stroke-width: 0.8\"/>\n      </g>\n     </g>\n     <g id=\"text_15\">\n      <!-- 0.8 -->\n      <g transform=\"translate(20.878125 42.499219) scale(0.1 -0.1)\">\n       <use xlink:href=\"#DejaVuSans-30\"/>\n       <use xlink:href=\"#DejaVuSans-2e\" x=\"63.623047\"/>\n       <use xlink:href=\"#DejaVuSans-38\" x=\"95.410156\"/>\n      </g>\n     </g>\n    </g>\n    <g id=\"ytick_6\">\n     <g id=\"line2d_29\">\n      <path d=\"M 43.78125 13.5 \nL 322.78125 13.5 \n\" clip-path=\"url(#p8da812f603)\" style=\"fill: none; stroke: #b0b0b0; stroke-width: 0.8; stroke-linecap: square\"/>\n     </g>\n     <g id=\"line2d_30\">\n      <g>\n       <use xlink:href=\"#m0ee12d326b\" x=\"43.78125\" y=\"13.5\" style=\"stroke: #000000; stroke-width: 0.8\"/>\n      </g>\n     </g>\n     <g id=\"text_16\">\n      <!-- 1.0 -->\n      <g transform=\"translate(20.878125 17.299219) scale(0.1 -0.1)\">\n       <defs>\n        <path id=\"DejaVuSans-31\" d=\"M 794 531 \nL 1825 531 \nL 1825 4091 \nL 703 3866 \nL 703 4441 \nL 1819 4666 \nL 2450 4666 \nL 2450 531 \nL 3481 531 \nL 3481 0 \nL 794 0 \nL 794 531 \nz\n\" transform=\"scale(0.015625)\"/>\n       </defs>\n       <use xlink:href=\"#DejaVuSans-31\"/>\n       <use xlink:href=\"#DejaVuSans-2e\" x=\"63.623047\"/>\n       <use xlink:href=\"#DejaVuSans-30\" x=\"95.410156\"/>\n      </g>\n     </g>\n    </g>\n    <g id=\"text_17\">\n     <!-- grad of relu -->\n     <g transform=\"translate(14.798438 105.542969) rotate(-90) scale(0.1 -0.1)\">\n      <defs>\n       <path id=\"DejaVuSans-67\" d=\"M 2906 1791 \nQ 2906 2416 2648 2759 \nQ 2391 3103 1925 3103 \nQ 1463 3103 1205 2759 \nQ 947 2416 947 1791 \nQ 947 1169 1205 825 \nQ 1463 481 1925 481 \nQ 2391 481 2648 825 \nQ 2906 1169 2906 1791 \nz\nM 3481 434 \nQ 3481 -459 3084 -895 \nQ 2688 -1331 1869 -1331 \nQ 1566 -1331 1297 -1286 \nQ 1028 -1241 775 -1147 \nL 775 -588 \nQ 1028 -725 1275 -790 \nQ 1522 -856 1778 -856 \nQ 2344 -856 2625 -561 \nQ 2906 -266 2906 331 \nL 2906 616 \nQ 2728 306 2450 153 \nQ 2172 0 1784 0 \nQ 1141 0 747 490 \nQ 353 981 353 1791 \nQ 353 2603 747 3093 \nQ 1141 3584 1784 3584 \nQ 2172 3584 2450 3431 \nQ 2728 3278 2906 2969 \nL 2906 3500 \nL 3481 3500 \nL 3481 434 \nz\n\" transform=\"scale(0.015625)\"/>\n       <path id=\"DejaVuSans-72\" d=\"M 2631 2963 \nQ 2534 3019 2420 3045 \nQ 2306 3072 2169 3072 \nQ 1681 3072 1420 2755 \nQ 1159 2438 1159 1844 \nL 1159 0 \nL 581 0 \nL 581 3500 \nL 1159 3500 \nL 1159 2956 \nQ 1341 3275 1631 3429 \nQ 1922 3584 2338 3584 \nQ 2397 3584 2469 3576 \nQ 2541 3569 2628 3553 \nL 2631 2963 \nz\n\" transform=\"scale(0.015625)\"/>\n       <path id=\"DejaVuSans-61\" d=\"M 2194 1759 \nQ 1497 1759 1228 1600 \nQ 959 1441 959 1056 \nQ 959 750 1161 570 \nQ 1363 391 1709 391 \nQ 2188 391 2477 730 \nQ 2766 1069 2766 1631 \nL 2766 1759 \nL 2194 1759 \nz\nM 3341 1997 \nL 3341 0 \nL 2766 0 \nL 2766 531 \nQ 2569 213 2275 61 \nQ 1981 -91 1556 -91 \nQ 1019 -91 701 211 \nQ 384 513 384 1019 \nQ 384 1609 779 1909 \nQ 1175 2209 1959 2209 \nL 2766 2209 \nL 2766 2266 \nQ 2766 2663 2505 2880 \nQ 2244 3097 1772 3097 \nQ 1472 3097 1187 3025 \nQ 903 2953 641 2809 \nL 641 3341 \nQ 956 3463 1253 3523 \nQ 1550 3584 1831 3584 \nQ 2591 3584 2966 3190 \nQ 3341 2797 3341 1997 \nz\n\" transform=\"scale(0.015625)\"/>\n       <path id=\"DejaVuSans-64\" d=\"M 2906 2969 \nL 2906 4863 \nL 3481 4863 \nL 3481 0 \nL 2906 0 \nL 2906 525 \nQ 2725 213 2448 61 \nQ 2172 -91 1784 -91 \nQ 1150 -91 751 415 \nQ 353 922 353 1747 \nQ 353 2572 751 3078 \nQ 1150 3584 1784 3584 \nQ 2172 3584 2448 3432 \nQ 2725 3281 2906 2969 \nz\nM 947 1747 \nQ 947 1113 1208 752 \nQ 1469 391 1925 391 \nQ 2381 391 2643 752 \nQ 2906 1113 2906 1747 \nQ 2906 2381 2643 2742 \nQ 2381 3103 1925 3103 \nQ 1469 3103 1208 2742 \nQ 947 2381 947 1747 \nz\n\" transform=\"scale(0.015625)\"/>\n       <path id=\"DejaVuSans-20\" transform=\"scale(0.015625)\"/>\n       <path id=\"DejaVuSans-6f\" d=\"M 1959 3097 \nQ 1497 3097 1228 2736 \nQ 959 2375 959 1747 \nQ 959 1119 1226 758 \nQ 1494 397 1959 397 \nQ 2419 397 2687 759 \nQ 2956 1122 2956 1747 \nQ 2956 2369 2687 2733 \nQ 2419 3097 1959 3097 \nz\nM 1959 3584 \nQ 2709 3584 3137 3096 \nQ 3566 2609 3566 1747 \nQ 3566 888 3137 398 \nQ 2709 -91 1959 -91 \nQ 1206 -91 779 398 \nQ 353 888 353 1747 \nQ 353 2609 779 3096 \nQ 1206 3584 1959 3584 \nz\n\" transform=\"scale(0.015625)\"/>\n       <path id=\"DejaVuSans-66\" d=\"M 2375 4863 \nL 2375 4384 \nL 1825 4384 \nQ 1516 4384 1395 4259 \nQ 1275 4134 1275 3809 \nL 1275 3500 \nL 2222 3500 \nL 2222 3053 \nL 1275 3053 \nL 1275 0 \nL 697 0 \nL 697 3053 \nL 147 3053 \nL 147 3500 \nL 697 3500 \nL 697 3744 \nQ 697 4328 969 4595 \nQ 1241 4863 1831 4863 \nL 2375 4863 \nz\n\" transform=\"scale(0.015625)\"/>\n       <path id=\"DejaVuSans-65\" d=\"M 3597 1894 \nL 3597 1613 \nL 953 1613 \nQ 991 1019 1311 708 \nQ 1631 397 2203 397 \nQ 2534 397 2845 478 \nQ 3156 559 3463 722 \nL 3463 178 \nQ 3153 47 2828 -22 \nQ 2503 -91 2169 -91 \nQ 1331 -91 842 396 \nQ 353 884 353 1716 \nQ 353 2575 817 3079 \nQ 1281 3584 2069 3584 \nQ 2775 3584 3186 3129 \nQ 3597 2675 3597 1894 \nz\nM 3022 2063 \nQ 3016 2534 2758 2815 \nQ 2500 3097 2075 3097 \nQ 1594 3097 1305 2825 \nQ 1016 2553 972 2059 \nL 3022 2063 \nz\n\" transform=\"scale(0.015625)\"/>\n       <path id=\"DejaVuSans-6c\" d=\"M 603 4863 \nL 1178 4863 \nL 1178 0 \nL 603 0 \nL 603 4863 \nz\n\" transform=\"scale(0.015625)\"/>\n       <path id=\"DejaVuSans-75\" d=\"M 544 1381 \nL 544 3500 \nL 1119 3500 \nL 1119 1403 \nQ 1119 906 1312 657 \nQ 1506 409 1894 409 \nQ 2359 409 2629 706 \nQ 2900 1003 2900 1516 \nL 2900 3500 \nL 3475 3500 \nL 3475 0 \nL 2900 0 \nL 2900 538 \nQ 2691 219 2414 64 \nQ 2138 -91 1772 -91 \nQ 1169 -91 856 284 \nQ 544 659 544 1381 \nz\nM 1991 3584 \nL 1991 3584 \nz\n\" transform=\"scale(0.015625)\"/>\n      </defs>\n      <use xlink:href=\"#DejaVuSans-67\"/>\n      <use xlink:href=\"#DejaVuSans-72\" x=\"63.476562\"/>\n      <use xlink:href=\"#DejaVuSans-61\" x=\"104.589844\"/>\n      <use xlink:href=\"#DejaVuSans-64\" x=\"165.869141\"/>\n      <use xlink:href=\"#DejaVuSans-20\" x=\"229.345703\"/>\n      <use xlink:href=\"#DejaVuSans-6f\" x=\"261.132812\"/>\n      <use xlink:href=\"#DejaVuSans-66\" x=\"322.314453\"/>\n      <use xlink:href=\"#DejaVuSans-20\" x=\"357.519531\"/>\n      <use xlink:href=\"#DejaVuSans-72\" x=\"389.306641\"/>\n      <use xlink:href=\"#DejaVuSans-65\" x=\"428.169922\"/>\n      <use xlink:href=\"#DejaVuSans-6c\" x=\"489.693359\"/>\n      <use xlink:href=\"#DejaVuSans-75\" x=\"517.476562\"/>\n     </g>\n    </g>\n   </g>\n   <g id=\"line2d_31\">\n    <path d=\"M 56.463068 139.5 \nL 182.483654 139.5 \nL 184.078852 13.5 \nL 310.099432 13.5 \nL 310.099432 13.5 \n\" clip-path=\"url(#p8da812f603)\" style=\"fill: none; stroke: #1f77b4; stroke-width: 1.5; stroke-linecap: square\"/>\n   </g>\n   <g id=\"patch_3\">\n    <path d=\"M 43.78125 145.8 \nL 43.78125 7.2 \n\" style=\"fill: none; stroke: #000000; stroke-width: 0.8; stroke-linejoin: miter; stroke-linecap: square\"/>\n   </g>\n   <g id=\"patch_4\">\n    <path d=\"M 322.78125 145.8 \nL 322.78125 7.2 \n\" style=\"fill: none; stroke: #000000; stroke-width: 0.8; stroke-linejoin: miter; stroke-linecap: square\"/>\n   </g>\n   <g id=\"patch_5\">\n    <path d=\"M 43.78125 145.8 \nL 322.78125 145.8 \n\" style=\"fill: none; stroke: #000000; stroke-width: 0.8; stroke-linejoin: miter; stroke-linecap: square\"/>\n   </g>\n   <g id=\"patch_6\">\n    <path d=\"M 43.78125 7.2 \nL 322.78125 7.2 \n\" style=\"fill: none; stroke: #000000; stroke-width: 0.8; stroke-linejoin: miter; stroke-linecap: square\"/>\n   </g>\n  </g>\n </g>\n <defs>\n  <clipPath id=\"p8da812f603\">\n   <rect x=\"43.78125\" y=\"7.2\" width=\"279\" height=\"138.6\"/>\n  </clipPath>\n </defs>\n</svg>\n"
          },
          "metadata": {}
        }
      ]
    },
    {
      "cell_type": "code",
      "source": [
        "y = torch.sigmoid(x)\n",
        "d2l.plot(x.detach(), y.detach(), 'x', 'sigmoid(x)', figsize=(5, 2.5))"
      ],
      "metadata": {
        "colab": {
          "base_uri": "https://localhost:8080/",
          "height": 264
        },
        "id": "j4IRM6FlNYM0",
        "outputId": "cf24b91e-9571-4c6b-df2f-d3f804debe0b"
      },
      "execution_count": null,
      "outputs": [
        {
          "output_type": "display_data",
          "data": {
            "text/plain": [
              "<Figure size 500x250 with 1 Axes>"
            ],
            "image/svg+xml": "<?xml version=\"1.0\" encoding=\"utf-8\" standalone=\"no\"?>\n<!DOCTYPE svg PUBLIC \"-//W3C//DTD SVG 1.1//EN\"\n  \"http://www.w3.org/Graphics/SVG/1.1/DTD/svg11.dtd\">\n<svg xmlns:xlink=\"http://www.w3.org/1999/xlink\" width=\"329.98125pt\" height=\"183.35625pt\" viewBox=\"0 0 329.98125 183.35625\" xmlns=\"http://www.w3.org/2000/svg\" version=\"1.1\">\n <metadata>\n  <rdf:RDF xmlns:dc=\"http://purl.org/dc/elements/1.1/\" xmlns:cc=\"http://creativecommons.org/ns#\" xmlns:rdf=\"http://www.w3.org/1999/02/22-rdf-syntax-ns#\">\n   <cc:Work>\n    <dc:type rdf:resource=\"http://purl.org/dc/dcmitype/StillImage\"/>\n    <dc:date>2024-09-24T04:08:03.316355</dc:date>\n    <dc:format>image/svg+xml</dc:format>\n    <dc:creator>\n     <cc:Agent>\n      <dc:title>Matplotlib v3.7.1, https://matplotlib.org/</dc:title>\n     </cc:Agent>\n    </dc:creator>\n   </cc:Work>\n  </rdf:RDF>\n </metadata>\n <defs>\n  <style type=\"text/css\">*{stroke-linejoin: round; stroke-linecap: butt}</style>\n </defs>\n <g id=\"figure_1\">\n  <g id=\"patch_1\">\n   <path d=\"M 0 183.35625 \nL 329.98125 183.35625 \nL 329.98125 0 \nL 0 0 \nz\n\" style=\"fill: #ffffff\"/>\n  </g>\n  <g id=\"axes_1\">\n   <g id=\"patch_2\">\n    <path d=\"M 43.78125 145.8 \nL 322.78125 145.8 \nL 322.78125 7.2 \nL 43.78125 7.2 \nz\n\" style=\"fill: #ffffff\"/>\n   </g>\n   <g id=\"matplotlib.axis_1\">\n    <g id=\"xtick_1\">\n     <g id=\"line2d_1\">\n      <path d=\"M 56.463068 145.8 \nL 56.463068 7.2 \n\" clip-path=\"url(#p93be89943b)\" style=\"fill: none; stroke: #b0b0b0; stroke-width: 0.8; stroke-linecap: square\"/>\n     </g>\n     <g id=\"line2d_2\">\n      <defs>\n       <path id=\"meef123afe4\" d=\"M 0 0 \nL 0 3.5 \n\" style=\"stroke: #000000; stroke-width: 0.8\"/>\n      </defs>\n      <g>\n       <use xlink:href=\"#meef123afe4\" x=\"56.463068\" y=\"145.8\" style=\"stroke: #000000; stroke-width: 0.8\"/>\n      </g>\n     </g>\n     <g id=\"text_1\">\n      <!-- −8 -->\n      <g transform=\"translate(49.091974 160.398438) scale(0.1 -0.1)\">\n       <defs>\n        <path id=\"DejaVuSans-2212\" d=\"M 678 2272 \nL 4684 2272 \nL 4684 1741 \nL 678 1741 \nL 678 2272 \nz\n\" transform=\"scale(0.015625)\"/>\n        <path id=\"DejaVuSans-38\" d=\"M 2034 2216 \nQ 1584 2216 1326 1975 \nQ 1069 1734 1069 1313 \nQ 1069 891 1326 650 \nQ 1584 409 2034 409 \nQ 2484 409 2743 651 \nQ 3003 894 3003 1313 \nQ 3003 1734 2745 1975 \nQ 2488 2216 2034 2216 \nz\nM 1403 2484 \nQ 997 2584 770 2862 \nQ 544 3141 544 3541 \nQ 544 4100 942 4425 \nQ 1341 4750 2034 4750 \nQ 2731 4750 3128 4425 \nQ 3525 4100 3525 3541 \nQ 3525 3141 3298 2862 \nQ 3072 2584 2669 2484 \nQ 3125 2378 3379 2068 \nQ 3634 1759 3634 1313 \nQ 3634 634 3220 271 \nQ 2806 -91 2034 -91 \nQ 1263 -91 848 271 \nQ 434 634 434 1313 \nQ 434 1759 690 2068 \nQ 947 2378 1403 2484 \nz\nM 1172 3481 \nQ 1172 3119 1398 2916 \nQ 1625 2713 2034 2713 \nQ 2441 2713 2670 2916 \nQ 2900 3119 2900 3481 \nQ 2900 3844 2670 4047 \nQ 2441 4250 2034 4250 \nQ 1625 4250 1398 4047 \nQ 1172 3844 1172 3481 \nz\n\" transform=\"scale(0.015625)\"/>\n       </defs>\n       <use xlink:href=\"#DejaVuSans-2212\"/>\n       <use xlink:href=\"#DejaVuSans-38\" x=\"83.789062\"/>\n      </g>\n     </g>\n    </g>\n    <g id=\"xtick_2\">\n     <g id=\"line2d_3\">\n      <path d=\"M 88.367014 145.8 \nL 88.367014 7.2 \n\" clip-path=\"url(#p93be89943b)\" style=\"fill: none; stroke: #b0b0b0; stroke-width: 0.8; stroke-linecap: square\"/>\n     </g>\n     <g id=\"line2d_4\">\n      <g>\n       <use xlink:href=\"#meef123afe4\" x=\"88.367014\" y=\"145.8\" style=\"stroke: #000000; stroke-width: 0.8\"/>\n      </g>\n     </g>\n     <g id=\"text_2\">\n      <!-- −6 -->\n      <g transform=\"translate(80.99592 160.398438) scale(0.1 -0.1)\">\n       <defs>\n        <path id=\"DejaVuSans-36\" d=\"M 2113 2584 \nQ 1688 2584 1439 2293 \nQ 1191 2003 1191 1497 \nQ 1191 994 1439 701 \nQ 1688 409 2113 409 \nQ 2538 409 2786 701 \nQ 3034 994 3034 1497 \nQ 3034 2003 2786 2293 \nQ 2538 2584 2113 2584 \nz\nM 3366 4563 \nL 3366 3988 \nQ 3128 4100 2886 4159 \nQ 2644 4219 2406 4219 \nQ 1781 4219 1451 3797 \nQ 1122 3375 1075 2522 \nQ 1259 2794 1537 2939 \nQ 1816 3084 2150 3084 \nQ 2853 3084 3261 2657 \nQ 3669 2231 3669 1497 \nQ 3669 778 3244 343 \nQ 2819 -91 2113 -91 \nQ 1303 -91 875 529 \nQ 447 1150 447 2328 \nQ 447 3434 972 4092 \nQ 1497 4750 2381 4750 \nQ 2619 4750 2861 4703 \nQ 3103 4656 3366 4563 \nz\n\" transform=\"scale(0.015625)\"/>\n       </defs>\n       <use xlink:href=\"#DejaVuSans-2212\"/>\n       <use xlink:href=\"#DejaVuSans-36\" x=\"83.789062\"/>\n      </g>\n     </g>\n    </g>\n    <g id=\"xtick_3\">\n     <g id=\"line2d_5\">\n      <path d=\"M 120.27096 145.8 \nL 120.27096 7.2 \n\" clip-path=\"url(#p93be89943b)\" style=\"fill: none; stroke: #b0b0b0; stroke-width: 0.8; stroke-linecap: square\"/>\n     </g>\n     <g id=\"line2d_6\">\n      <g>\n       <use xlink:href=\"#meef123afe4\" x=\"120.27096\" y=\"145.8\" style=\"stroke: #000000; stroke-width: 0.8\"/>\n      </g>\n     </g>\n     <g id=\"text_3\">\n      <!-- −4 -->\n      <g transform=\"translate(112.899866 160.398438) scale(0.1 -0.1)\">\n       <defs>\n        <path id=\"DejaVuSans-34\" d=\"M 2419 4116 \nL 825 1625 \nL 2419 1625 \nL 2419 4116 \nz\nM 2253 4666 \nL 3047 4666 \nL 3047 1625 \nL 3713 1625 \nL 3713 1100 \nL 3047 1100 \nL 3047 0 \nL 2419 0 \nL 2419 1100 \nL 313 1100 \nL 313 1709 \nL 2253 4666 \nz\n\" transform=\"scale(0.015625)\"/>\n       </defs>\n       <use xlink:href=\"#DejaVuSans-2212\"/>\n       <use xlink:href=\"#DejaVuSans-34\" x=\"83.789062\"/>\n      </g>\n     </g>\n    </g>\n    <g id=\"xtick_4\">\n     <g id=\"line2d_7\">\n      <path d=\"M 152.174906 145.8 \nL 152.174906 7.2 \n\" clip-path=\"url(#p93be89943b)\" style=\"fill: none; stroke: #b0b0b0; stroke-width: 0.8; stroke-linecap: square\"/>\n     </g>\n     <g id=\"line2d_8\">\n      <g>\n       <use xlink:href=\"#meef123afe4\" x=\"152.174906\" y=\"145.8\" style=\"stroke: #000000; stroke-width: 0.8\"/>\n      </g>\n     </g>\n     <g id=\"text_4\">\n      <!-- −2 -->\n      <g transform=\"translate(144.803812 160.398438) scale(0.1 -0.1)\">\n       <defs>\n        <path id=\"DejaVuSans-32\" d=\"M 1228 531 \nL 3431 531 \nL 3431 0 \nL 469 0 \nL 469 531 \nQ 828 903 1448 1529 \nQ 2069 2156 2228 2338 \nQ 2531 2678 2651 2914 \nQ 2772 3150 2772 3378 \nQ 2772 3750 2511 3984 \nQ 2250 4219 1831 4219 \nQ 1534 4219 1204 4116 \nQ 875 4013 500 3803 \nL 500 4441 \nQ 881 4594 1212 4672 \nQ 1544 4750 1819 4750 \nQ 2544 4750 2975 4387 \nQ 3406 4025 3406 3419 \nQ 3406 3131 3298 2873 \nQ 3191 2616 2906 2266 \nQ 2828 2175 2409 1742 \nQ 1991 1309 1228 531 \nz\n\" transform=\"scale(0.015625)\"/>\n       </defs>\n       <use xlink:href=\"#DejaVuSans-2212\"/>\n       <use xlink:href=\"#DejaVuSans-32\" x=\"83.789062\"/>\n      </g>\n     </g>\n    </g>\n    <g id=\"xtick_5\">\n     <g id=\"line2d_9\">\n      <path d=\"M 184.078852 145.8 \nL 184.078852 7.2 \n\" clip-path=\"url(#p93be89943b)\" style=\"fill: none; stroke: #b0b0b0; stroke-width: 0.8; stroke-linecap: square\"/>\n     </g>\n     <g id=\"line2d_10\">\n      <g>\n       <use xlink:href=\"#meef123afe4\" x=\"184.078852\" y=\"145.8\" style=\"stroke: #000000; stroke-width: 0.8\"/>\n      </g>\n     </g>\n     <g id=\"text_5\">\n      <!-- 0 -->\n      <g transform=\"translate(180.897602 160.398438) scale(0.1 -0.1)\">\n       <defs>\n        <path id=\"DejaVuSans-30\" d=\"M 2034 4250 \nQ 1547 4250 1301 3770 \nQ 1056 3291 1056 2328 \nQ 1056 1369 1301 889 \nQ 1547 409 2034 409 \nQ 2525 409 2770 889 \nQ 3016 1369 3016 2328 \nQ 3016 3291 2770 3770 \nQ 2525 4250 2034 4250 \nz\nM 2034 4750 \nQ 2819 4750 3233 4129 \nQ 3647 3509 3647 2328 \nQ 3647 1150 3233 529 \nQ 2819 -91 2034 -91 \nQ 1250 -91 836 529 \nQ 422 1150 422 2328 \nQ 422 3509 836 4129 \nQ 1250 4750 2034 4750 \nz\n\" transform=\"scale(0.015625)\"/>\n       </defs>\n       <use xlink:href=\"#DejaVuSans-30\"/>\n      </g>\n     </g>\n    </g>\n    <g id=\"xtick_6\">\n     <g id=\"line2d_11\">\n      <path d=\"M 215.982798 145.8 \nL 215.982798 7.2 \n\" clip-path=\"url(#p93be89943b)\" style=\"fill: none; stroke: #b0b0b0; stroke-width: 0.8; stroke-linecap: square\"/>\n     </g>\n     <g id=\"line2d_12\">\n      <g>\n       <use xlink:href=\"#meef123afe4\" x=\"215.982798\" y=\"145.8\" style=\"stroke: #000000; stroke-width: 0.8\"/>\n      </g>\n     </g>\n     <g id=\"text_6\">\n      <!-- 2 -->\n      <g transform=\"translate(212.801548 160.398438) scale(0.1 -0.1)\">\n       <use xlink:href=\"#DejaVuSans-32\"/>\n      </g>\n     </g>\n    </g>\n    <g id=\"xtick_7\">\n     <g id=\"line2d_13\">\n      <path d=\"M 247.886743 145.8 \nL 247.886743 7.2 \n\" clip-path=\"url(#p93be89943b)\" style=\"fill: none; stroke: #b0b0b0; stroke-width: 0.8; stroke-linecap: square\"/>\n     </g>\n     <g id=\"line2d_14\">\n      <g>\n       <use xlink:href=\"#meef123afe4\" x=\"247.886743\" y=\"145.8\" style=\"stroke: #000000; stroke-width: 0.8\"/>\n      </g>\n     </g>\n     <g id=\"text_7\">\n      <!-- 4 -->\n      <g transform=\"translate(244.705493 160.398438) scale(0.1 -0.1)\">\n       <use xlink:href=\"#DejaVuSans-34\"/>\n      </g>\n     </g>\n    </g>\n    <g id=\"xtick_8\">\n     <g id=\"line2d_15\">\n      <path d=\"M 279.790689 145.8 \nL 279.790689 7.2 \n\" clip-path=\"url(#p93be89943b)\" style=\"fill: none; stroke: #b0b0b0; stroke-width: 0.8; stroke-linecap: square\"/>\n     </g>\n     <g id=\"line2d_16\">\n      <g>\n       <use xlink:href=\"#meef123afe4\" x=\"279.790689\" y=\"145.8\" style=\"stroke: #000000; stroke-width: 0.8\"/>\n      </g>\n     </g>\n     <g id=\"text_8\">\n      <!-- 6 -->\n      <g transform=\"translate(276.609439 160.398438) scale(0.1 -0.1)\">\n       <use xlink:href=\"#DejaVuSans-36\"/>\n      </g>\n     </g>\n    </g>\n    <g id=\"xtick_9\">\n     <g id=\"line2d_17\">\n      <path d=\"M 311.694635 145.8 \nL 311.694635 7.2 \n\" clip-path=\"url(#p93be89943b)\" style=\"fill: none; stroke: #b0b0b0; stroke-width: 0.8; stroke-linecap: square\"/>\n     </g>\n     <g id=\"line2d_18\">\n      <g>\n       <use xlink:href=\"#meef123afe4\" x=\"311.694635\" y=\"145.8\" style=\"stroke: #000000; stroke-width: 0.8\"/>\n      </g>\n     </g>\n     <g id=\"text_9\">\n      <!-- 8 -->\n      <g transform=\"translate(308.513385 160.398438) scale(0.1 -0.1)\">\n       <use xlink:href=\"#DejaVuSans-38\"/>\n      </g>\n     </g>\n    </g>\n    <g id=\"text_10\">\n     <!-- x -->\n     <g transform=\"translate(180.321875 174.076563) scale(0.1 -0.1)\">\n      <defs>\n       <path id=\"DejaVuSans-78\" d=\"M 3513 3500 \nL 2247 1797 \nL 3578 0 \nL 2900 0 \nL 1881 1375 \nL 863 0 \nL 184 0 \nL 1544 1831 \nL 300 3500 \nL 978 3500 \nL 1906 2253 \nL 2834 3500 \nL 3513 3500 \nz\n\" transform=\"scale(0.015625)\"/>\n      </defs>\n      <use xlink:href=\"#DejaVuSans-78\"/>\n     </g>\n    </g>\n   </g>\n   <g id=\"matplotlib.axis_2\">\n    <g id=\"ytick_1\">\n     <g id=\"line2d_19\">\n      <path d=\"M 43.78125 139.542284 \nL 322.78125 139.542284 \n\" clip-path=\"url(#p93be89943b)\" style=\"fill: none; stroke: #b0b0b0; stroke-width: 0.8; stroke-linecap: square\"/>\n     </g>\n     <g id=\"line2d_20\">\n      <defs>\n       <path id=\"m8c66194a78\" d=\"M 0 0 \nL -3.5 0 \n\" style=\"stroke: #000000; stroke-width: 0.8\"/>\n      </defs>\n      <g>\n       <use xlink:href=\"#m8c66194a78\" x=\"43.78125\" y=\"139.542284\" style=\"stroke: #000000; stroke-width: 0.8\"/>\n      </g>\n     </g>\n     <g id=\"text_11\">\n      <!-- 0.0 -->\n      <g transform=\"translate(20.878125 143.341503) scale(0.1 -0.1)\">\n       <defs>\n        <path id=\"DejaVuSans-2e\" d=\"M 684 794 \nL 1344 794 \nL 1344 0 \nL 684 0 \nL 684 794 \nz\n\" transform=\"scale(0.015625)\"/>\n       </defs>\n       <use xlink:href=\"#DejaVuSans-30\"/>\n       <use xlink:href=\"#DejaVuSans-2e\" x=\"63.623047\"/>\n       <use xlink:href=\"#DejaVuSans-30\" x=\"95.410156\"/>\n      </g>\n     </g>\n    </g>\n    <g id=\"ytick_2\">\n     <g id=\"line2d_21\">\n      <path d=\"M 43.78125 114.324481 \nL 322.78125 114.324481 \n\" clip-path=\"url(#p93be89943b)\" style=\"fill: none; stroke: #b0b0b0; stroke-width: 0.8; stroke-linecap: square\"/>\n     </g>\n     <g id=\"line2d_22\">\n      <g>\n       <use xlink:href=\"#m8c66194a78\" x=\"43.78125\" y=\"114.324481\" style=\"stroke: #000000; stroke-width: 0.8\"/>\n      </g>\n     </g>\n     <g id=\"text_12\">\n      <!-- 0.2 -->\n      <g transform=\"translate(20.878125 118.1237) scale(0.1 -0.1)\">\n       <use xlink:href=\"#DejaVuSans-30\"/>\n       <use xlink:href=\"#DejaVuSans-2e\" x=\"63.623047\"/>\n       <use xlink:href=\"#DejaVuSans-32\" x=\"95.410156\"/>\n      </g>\n     </g>\n    </g>\n    <g id=\"ytick_3\">\n     <g id=\"line2d_23\">\n      <path d=\"M 43.78125 89.106678 \nL 322.78125 89.106678 \n\" clip-path=\"url(#p93be89943b)\" style=\"fill: none; stroke: #b0b0b0; stroke-width: 0.8; stroke-linecap: square\"/>\n     </g>\n     <g id=\"line2d_24\">\n      <g>\n       <use xlink:href=\"#m8c66194a78\" x=\"43.78125\" y=\"89.106678\" style=\"stroke: #000000; stroke-width: 0.8\"/>\n      </g>\n     </g>\n     <g id=\"text_13\">\n      <!-- 0.4 -->\n      <g transform=\"translate(20.878125 92.905897) scale(0.1 -0.1)\">\n       <use xlink:href=\"#DejaVuSans-30\"/>\n       <use xlink:href=\"#DejaVuSans-2e\" x=\"63.623047\"/>\n       <use xlink:href=\"#DejaVuSans-34\" x=\"95.410156\"/>\n      </g>\n     </g>\n    </g>\n    <g id=\"ytick_4\">\n     <g id=\"line2d_25\">\n      <path d=\"M 43.78125 63.888875 \nL 322.78125 63.888875 \n\" clip-path=\"url(#p93be89943b)\" style=\"fill: none; stroke: #b0b0b0; stroke-width: 0.8; stroke-linecap: square\"/>\n     </g>\n     <g id=\"line2d_26\">\n      <g>\n       <use xlink:href=\"#m8c66194a78\" x=\"43.78125\" y=\"63.888875\" style=\"stroke: #000000; stroke-width: 0.8\"/>\n      </g>\n     </g>\n     <g id=\"text_14\">\n      <!-- 0.6 -->\n      <g transform=\"translate(20.878125 67.688094) scale(0.1 -0.1)\">\n       <use xlink:href=\"#DejaVuSans-30\"/>\n       <use xlink:href=\"#DejaVuSans-2e\" x=\"63.623047\"/>\n       <use xlink:href=\"#DejaVuSans-36\" x=\"95.410156\"/>\n      </g>\n     </g>\n    </g>\n    <g id=\"ytick_5\">\n     <g id=\"line2d_27\">\n      <path d=\"M 43.78125 38.671072 \nL 322.78125 38.671072 \n\" clip-path=\"url(#p93be89943b)\" style=\"fill: none; stroke: #b0b0b0; stroke-width: 0.8; stroke-linecap: square\"/>\n     </g>\n     <g id=\"line2d_28\">\n      <g>\n       <use xlink:href=\"#m8c66194a78\" x=\"43.78125\" y=\"38.671072\" style=\"stroke: #000000; stroke-width: 0.8\"/>\n      </g>\n     </g>\n     <g id=\"text_15\">\n      <!-- 0.8 -->\n      <g transform=\"translate(20.878125 42.47029) scale(0.1 -0.1)\">\n       <use xlink:href=\"#DejaVuSans-30\"/>\n       <use xlink:href=\"#DejaVuSans-2e\" x=\"63.623047\"/>\n       <use xlink:href=\"#DejaVuSans-38\" x=\"95.410156\"/>\n      </g>\n     </g>\n    </g>\n    <g id=\"ytick_6\">\n     <g id=\"line2d_29\">\n      <path d=\"M 43.78125 13.453269 \nL 322.78125 13.453269 \n\" clip-path=\"url(#p93be89943b)\" style=\"fill: none; stroke: #b0b0b0; stroke-width: 0.8; stroke-linecap: square\"/>\n     </g>\n     <g id=\"line2d_30\">\n      <g>\n       <use xlink:href=\"#m8c66194a78\" x=\"43.78125\" y=\"13.453269\" style=\"stroke: #000000; stroke-width: 0.8\"/>\n      </g>\n     </g>\n     <g id=\"text_16\">\n      <!-- 1.0 -->\n      <g transform=\"translate(20.878125 17.252487) scale(0.1 -0.1)\">\n       <defs>\n        <path id=\"DejaVuSans-31\" d=\"M 794 531 \nL 1825 531 \nL 1825 4091 \nL 703 3866 \nL 703 4441 \nL 1819 4666 \nL 2450 4666 \nL 2450 531 \nL 3481 531 \nL 3481 0 \nL 794 0 \nL 794 531 \nz\n\" transform=\"scale(0.015625)\"/>\n       </defs>\n       <use xlink:href=\"#DejaVuSans-31\"/>\n       <use xlink:href=\"#DejaVuSans-2e\" x=\"63.623047\"/>\n       <use xlink:href=\"#DejaVuSans-30\" x=\"95.410156\"/>\n      </g>\n     </g>\n    </g>\n    <g id=\"text_17\">\n     <!-- sigmoid(x) -->\n     <g transform=\"translate(14.798438 103.021875) rotate(-90) scale(0.1 -0.1)\">\n      <defs>\n       <path id=\"DejaVuSans-73\" d=\"M 2834 3397 \nL 2834 2853 \nQ 2591 2978 2328 3040 \nQ 2066 3103 1784 3103 \nQ 1356 3103 1142 2972 \nQ 928 2841 928 2578 \nQ 928 2378 1081 2264 \nQ 1234 2150 1697 2047 \nL 1894 2003 \nQ 2506 1872 2764 1633 \nQ 3022 1394 3022 966 \nQ 3022 478 2636 193 \nQ 2250 -91 1575 -91 \nQ 1294 -91 989 -36 \nQ 684 19 347 128 \nL 347 722 \nQ 666 556 975 473 \nQ 1284 391 1588 391 \nQ 1994 391 2212 530 \nQ 2431 669 2431 922 \nQ 2431 1156 2273 1281 \nQ 2116 1406 1581 1522 \nL 1381 1569 \nQ 847 1681 609 1914 \nQ 372 2147 372 2553 \nQ 372 3047 722 3315 \nQ 1072 3584 1716 3584 \nQ 2034 3584 2315 3537 \nQ 2597 3491 2834 3397 \nz\n\" transform=\"scale(0.015625)\"/>\n       <path id=\"DejaVuSans-69\" d=\"M 603 3500 \nL 1178 3500 \nL 1178 0 \nL 603 0 \nL 603 3500 \nz\nM 603 4863 \nL 1178 4863 \nL 1178 4134 \nL 603 4134 \nL 603 4863 \nz\n\" transform=\"scale(0.015625)\"/>\n       <path id=\"DejaVuSans-67\" d=\"M 2906 1791 \nQ 2906 2416 2648 2759 \nQ 2391 3103 1925 3103 \nQ 1463 3103 1205 2759 \nQ 947 2416 947 1791 \nQ 947 1169 1205 825 \nQ 1463 481 1925 481 \nQ 2391 481 2648 825 \nQ 2906 1169 2906 1791 \nz\nM 3481 434 \nQ 3481 -459 3084 -895 \nQ 2688 -1331 1869 -1331 \nQ 1566 -1331 1297 -1286 \nQ 1028 -1241 775 -1147 \nL 775 -588 \nQ 1028 -725 1275 -790 \nQ 1522 -856 1778 -856 \nQ 2344 -856 2625 -561 \nQ 2906 -266 2906 331 \nL 2906 616 \nQ 2728 306 2450 153 \nQ 2172 0 1784 0 \nQ 1141 0 747 490 \nQ 353 981 353 1791 \nQ 353 2603 747 3093 \nQ 1141 3584 1784 3584 \nQ 2172 3584 2450 3431 \nQ 2728 3278 2906 2969 \nL 2906 3500 \nL 3481 3500 \nL 3481 434 \nz\n\" transform=\"scale(0.015625)\"/>\n       <path id=\"DejaVuSans-6d\" d=\"M 3328 2828 \nQ 3544 3216 3844 3400 \nQ 4144 3584 4550 3584 \nQ 5097 3584 5394 3201 \nQ 5691 2819 5691 2113 \nL 5691 0 \nL 5113 0 \nL 5113 2094 \nQ 5113 2597 4934 2840 \nQ 4756 3084 4391 3084 \nQ 3944 3084 3684 2787 \nQ 3425 2491 3425 1978 \nL 3425 0 \nL 2847 0 \nL 2847 2094 \nQ 2847 2600 2669 2842 \nQ 2491 3084 2119 3084 \nQ 1678 3084 1418 2786 \nQ 1159 2488 1159 1978 \nL 1159 0 \nL 581 0 \nL 581 3500 \nL 1159 3500 \nL 1159 2956 \nQ 1356 3278 1631 3431 \nQ 1906 3584 2284 3584 \nQ 2666 3584 2933 3390 \nQ 3200 3197 3328 2828 \nz\n\" transform=\"scale(0.015625)\"/>\n       <path id=\"DejaVuSans-6f\" d=\"M 1959 3097 \nQ 1497 3097 1228 2736 \nQ 959 2375 959 1747 \nQ 959 1119 1226 758 \nQ 1494 397 1959 397 \nQ 2419 397 2687 759 \nQ 2956 1122 2956 1747 \nQ 2956 2369 2687 2733 \nQ 2419 3097 1959 3097 \nz\nM 1959 3584 \nQ 2709 3584 3137 3096 \nQ 3566 2609 3566 1747 \nQ 3566 888 3137 398 \nQ 2709 -91 1959 -91 \nQ 1206 -91 779 398 \nQ 353 888 353 1747 \nQ 353 2609 779 3096 \nQ 1206 3584 1959 3584 \nz\n\" transform=\"scale(0.015625)\"/>\n       <path id=\"DejaVuSans-64\" d=\"M 2906 2969 \nL 2906 4863 \nL 3481 4863 \nL 3481 0 \nL 2906 0 \nL 2906 525 \nQ 2725 213 2448 61 \nQ 2172 -91 1784 -91 \nQ 1150 -91 751 415 \nQ 353 922 353 1747 \nQ 353 2572 751 3078 \nQ 1150 3584 1784 3584 \nQ 2172 3584 2448 3432 \nQ 2725 3281 2906 2969 \nz\nM 947 1747 \nQ 947 1113 1208 752 \nQ 1469 391 1925 391 \nQ 2381 391 2643 752 \nQ 2906 1113 2906 1747 \nQ 2906 2381 2643 2742 \nQ 2381 3103 1925 3103 \nQ 1469 3103 1208 2742 \nQ 947 2381 947 1747 \nz\n\" transform=\"scale(0.015625)\"/>\n       <path id=\"DejaVuSans-28\" d=\"M 1984 4856 \nQ 1566 4138 1362 3434 \nQ 1159 2731 1159 2009 \nQ 1159 1288 1364 580 \nQ 1569 -128 1984 -844 \nL 1484 -844 \nQ 1016 -109 783 600 \nQ 550 1309 550 2009 \nQ 550 2706 781 3412 \nQ 1013 4119 1484 4856 \nL 1984 4856 \nz\n\" transform=\"scale(0.015625)\"/>\n       <path id=\"DejaVuSans-29\" d=\"M 513 4856 \nL 1013 4856 \nQ 1481 4119 1714 3412 \nQ 1947 2706 1947 2009 \nQ 1947 1309 1714 600 \nQ 1481 -109 1013 -844 \nL 513 -844 \nQ 928 -128 1133 580 \nQ 1338 1288 1338 2009 \nQ 1338 2731 1133 3434 \nQ 928 4138 513 4856 \nz\n\" transform=\"scale(0.015625)\"/>\n      </defs>\n      <use xlink:href=\"#DejaVuSans-73\"/>\n      <use xlink:href=\"#DejaVuSans-69\" x=\"52.099609\"/>\n      <use xlink:href=\"#DejaVuSans-67\" x=\"79.882812\"/>\n      <use xlink:href=\"#DejaVuSans-6d\" x=\"143.359375\"/>\n      <use xlink:href=\"#DejaVuSans-6f\" x=\"240.771484\"/>\n      <use xlink:href=\"#DejaVuSans-69\" x=\"301.953125\"/>\n      <use xlink:href=\"#DejaVuSans-64\" x=\"329.736328\"/>\n      <use xlink:href=\"#DejaVuSans-28\" x=\"393.212891\"/>\n      <use xlink:href=\"#DejaVuSans-78\" x=\"432.226562\"/>\n      <use xlink:href=\"#DejaVuSans-29\" x=\"491.40625\"/>\n     </g>\n    </g>\n   </g>\n   <g id=\"line2d_31\">\n    <path d=\"M 56.463068 139.5 \nL 81.986223 139.333127 \nL 96.343001 139.029084 \nL 105.914183 138.610292 \nL 113.890169 138.013022 \nL 120.27096 137.27442 \nL 125.056551 136.500132 \nL 129.842142 135.470181 \nL 133.032538 134.603917 \nL 136.222933 133.562402 \nL 139.413328 132.314335 \nL 142.60372 130.82469 \nL 145.794115 129.055121 \nL 148.98451 126.964844 \nL 152.174906 124.512105 \nL 155.365299 121.656424 \nL 158.555695 118.361648 \nL 161.74609 114.599846 \nL 164.936483 110.355802 \nL 168.126879 105.631724 \nL 171.317273 100.451472 \nL 174.507668 94.863434 \nL 179.29326 85.884159 \nL 193.650036 58.132118 \nL 196.84043 52.54408 \nL 200.030825 47.363825 \nL 203.22122 42.639745 \nL 206.411613 38.395703 \nL 209.602009 34.633906 \nL 212.792404 31.339138 \nL 215.982798 28.483454 \nL 219.173193 26.030706 \nL 222.363588 23.94043 \nL 225.553984 22.170862 \nL 228.744379 20.681217 \nL 231.934771 19.433149 \nL 235.125166 18.391638 \nL 238.315561 17.525365 \nL 243.101152 16.495419 \nL 247.886743 15.721136 \nL 254.267534 14.982536 \nL 260.648325 14.482478 \nL 268.624311 14.079535 \nL 279.790689 13.765034 \nL 295.742662 13.568135 \nL 310.099432 13.5 \nL 310.099432 13.5 \n\" clip-path=\"url(#p93be89943b)\" style=\"fill: none; stroke: #1f77b4; stroke-width: 1.5; stroke-linecap: square\"/>\n   </g>\n   <g id=\"patch_3\">\n    <path d=\"M 43.78125 145.8 \nL 43.78125 7.2 \n\" style=\"fill: none; stroke: #000000; stroke-width: 0.8; stroke-linejoin: miter; stroke-linecap: square\"/>\n   </g>\n   <g id=\"patch_4\">\n    <path d=\"M 322.78125 145.8 \nL 322.78125 7.2 \n\" style=\"fill: none; stroke: #000000; stroke-width: 0.8; stroke-linejoin: miter; stroke-linecap: square\"/>\n   </g>\n   <g id=\"patch_5\">\n    <path d=\"M 43.78125 145.8 \nL 322.78125 145.8 \n\" style=\"fill: none; stroke: #000000; stroke-width: 0.8; stroke-linejoin: miter; stroke-linecap: square\"/>\n   </g>\n   <g id=\"patch_6\">\n    <path d=\"M 43.78125 7.2 \nL 322.78125 7.2 \n\" style=\"fill: none; stroke: #000000; stroke-width: 0.8; stroke-linejoin: miter; stroke-linecap: square\"/>\n   </g>\n  </g>\n </g>\n <defs>\n  <clipPath id=\"p93be89943b\">\n   <rect x=\"43.78125\" y=\"7.2\" width=\"279\" height=\"138.6\"/>\n  </clipPath>\n </defs>\n</svg>\n"
          },
          "metadata": {}
        }
      ]
    },
    {
      "cell_type": "code",
      "source": [
        "x.grad.data.zero_()\n",
        "y.backward(torch.ones_like(x),retain_graph=True)\n",
        "d2l.plot(x.detach(), x.grad, 'x', 'grad of sigmoid', figsize=(5, 2.5))"
      ],
      "metadata": {
        "colab": {
          "base_uri": "https://localhost:8080/",
          "height": 264
        },
        "id": "XWdl7JnwNva7",
        "outputId": "a3bb435b-ff35-471e-de1f-f14c0b3b2a4a"
      },
      "execution_count": null,
      "outputs": [
        {
          "output_type": "display_data",
          "data": {
            "text/plain": [
              "<Figure size 500x250 with 1 Axes>"
            ],
            "image/svg+xml": "<?xml version=\"1.0\" encoding=\"utf-8\" standalone=\"no\"?>\n<!DOCTYPE svg PUBLIC \"-//W3C//DTD SVG 1.1//EN\"\n  \"http://www.w3.org/Graphics/SVG/1.1/DTD/svg11.dtd\">\n<svg xmlns:xlink=\"http://www.w3.org/1999/xlink\" width=\"336.34375pt\" height=\"183.35625pt\" viewBox=\"0 0 336.34375 183.35625\" xmlns=\"http://www.w3.org/2000/svg\" version=\"1.1\">\n <metadata>\n  <rdf:RDF xmlns:dc=\"http://purl.org/dc/elements/1.1/\" xmlns:cc=\"http://creativecommons.org/ns#\" xmlns:rdf=\"http://www.w3.org/1999/02/22-rdf-syntax-ns#\">\n   <cc:Work>\n    <dc:type rdf:resource=\"http://purl.org/dc/dcmitype/StillImage\"/>\n    <dc:date>2024-09-24T04:08:09.527926</dc:date>\n    <dc:format>image/svg+xml</dc:format>\n    <dc:creator>\n     <cc:Agent>\n      <dc:title>Matplotlib v3.7.1, https://matplotlib.org/</dc:title>\n     </cc:Agent>\n    </dc:creator>\n   </cc:Work>\n  </rdf:RDF>\n </metadata>\n <defs>\n  <style type=\"text/css\">*{stroke-linejoin: round; stroke-linecap: butt}</style>\n </defs>\n <g id=\"figure_1\">\n  <g id=\"patch_1\">\n   <path d=\"M 0 183.35625 \nL 336.34375 183.35625 \nL 336.34375 0 \nL 0 0 \nz\n\" style=\"fill: #ffffff\"/>\n  </g>\n  <g id=\"axes_1\">\n   <g id=\"patch_2\">\n    <path d=\"M 50.14375 145.8 \nL 329.14375 145.8 \nL 329.14375 7.2 \nL 50.14375 7.2 \nz\n\" style=\"fill: #ffffff\"/>\n   </g>\n   <g id=\"matplotlib.axis_1\">\n    <g id=\"xtick_1\">\n     <g id=\"line2d_1\">\n      <path d=\"M 62.825568 145.8 \nL 62.825568 7.2 \n\" clip-path=\"url(#p3160ffc686)\" style=\"fill: none; stroke: #b0b0b0; stroke-width: 0.8; stroke-linecap: square\"/>\n     </g>\n     <g id=\"line2d_2\">\n      <defs>\n       <path id=\"m30abb6fe7c\" d=\"M 0 0 \nL 0 3.5 \n\" style=\"stroke: #000000; stroke-width: 0.8\"/>\n      </defs>\n      <g>\n       <use xlink:href=\"#m30abb6fe7c\" x=\"62.825568\" y=\"145.8\" style=\"stroke: #000000; stroke-width: 0.8\"/>\n      </g>\n     </g>\n     <g id=\"text_1\">\n      <!-- −8 -->\n      <g transform=\"translate(55.454474 160.398438) scale(0.1 -0.1)\">\n       <defs>\n        <path id=\"DejaVuSans-2212\" d=\"M 678 2272 \nL 4684 2272 \nL 4684 1741 \nL 678 1741 \nL 678 2272 \nz\n\" transform=\"scale(0.015625)\"/>\n        <path id=\"DejaVuSans-38\" d=\"M 2034 2216 \nQ 1584 2216 1326 1975 \nQ 1069 1734 1069 1313 \nQ 1069 891 1326 650 \nQ 1584 409 2034 409 \nQ 2484 409 2743 651 \nQ 3003 894 3003 1313 \nQ 3003 1734 2745 1975 \nQ 2488 2216 2034 2216 \nz\nM 1403 2484 \nQ 997 2584 770 2862 \nQ 544 3141 544 3541 \nQ 544 4100 942 4425 \nQ 1341 4750 2034 4750 \nQ 2731 4750 3128 4425 \nQ 3525 4100 3525 3541 \nQ 3525 3141 3298 2862 \nQ 3072 2584 2669 2484 \nQ 3125 2378 3379 2068 \nQ 3634 1759 3634 1313 \nQ 3634 634 3220 271 \nQ 2806 -91 2034 -91 \nQ 1263 -91 848 271 \nQ 434 634 434 1313 \nQ 434 1759 690 2068 \nQ 947 2378 1403 2484 \nz\nM 1172 3481 \nQ 1172 3119 1398 2916 \nQ 1625 2713 2034 2713 \nQ 2441 2713 2670 2916 \nQ 2900 3119 2900 3481 \nQ 2900 3844 2670 4047 \nQ 2441 4250 2034 4250 \nQ 1625 4250 1398 4047 \nQ 1172 3844 1172 3481 \nz\n\" transform=\"scale(0.015625)\"/>\n       </defs>\n       <use xlink:href=\"#DejaVuSans-2212\"/>\n       <use xlink:href=\"#DejaVuSans-38\" x=\"83.789062\"/>\n      </g>\n     </g>\n    </g>\n    <g id=\"xtick_2\">\n     <g id=\"line2d_3\">\n      <path d=\"M 94.729514 145.8 \nL 94.729514 7.2 \n\" clip-path=\"url(#p3160ffc686)\" style=\"fill: none; stroke: #b0b0b0; stroke-width: 0.8; stroke-linecap: square\"/>\n     </g>\n     <g id=\"line2d_4\">\n      <g>\n       <use xlink:href=\"#m30abb6fe7c\" x=\"94.729514\" y=\"145.8\" style=\"stroke: #000000; stroke-width: 0.8\"/>\n      </g>\n     </g>\n     <g id=\"text_2\">\n      <!-- −6 -->\n      <g transform=\"translate(87.35842 160.398438) scale(0.1 -0.1)\">\n       <defs>\n        <path id=\"DejaVuSans-36\" d=\"M 2113 2584 \nQ 1688 2584 1439 2293 \nQ 1191 2003 1191 1497 \nQ 1191 994 1439 701 \nQ 1688 409 2113 409 \nQ 2538 409 2786 701 \nQ 3034 994 3034 1497 \nQ 3034 2003 2786 2293 \nQ 2538 2584 2113 2584 \nz\nM 3366 4563 \nL 3366 3988 \nQ 3128 4100 2886 4159 \nQ 2644 4219 2406 4219 \nQ 1781 4219 1451 3797 \nQ 1122 3375 1075 2522 \nQ 1259 2794 1537 2939 \nQ 1816 3084 2150 3084 \nQ 2853 3084 3261 2657 \nQ 3669 2231 3669 1497 \nQ 3669 778 3244 343 \nQ 2819 -91 2113 -91 \nQ 1303 -91 875 529 \nQ 447 1150 447 2328 \nQ 447 3434 972 4092 \nQ 1497 4750 2381 4750 \nQ 2619 4750 2861 4703 \nQ 3103 4656 3366 4563 \nz\n\" transform=\"scale(0.015625)\"/>\n       </defs>\n       <use xlink:href=\"#DejaVuSans-2212\"/>\n       <use xlink:href=\"#DejaVuSans-36\" x=\"83.789062\"/>\n      </g>\n     </g>\n    </g>\n    <g id=\"xtick_3\">\n     <g id=\"line2d_5\">\n      <path d=\"M 126.63346 145.8 \nL 126.63346 7.2 \n\" clip-path=\"url(#p3160ffc686)\" style=\"fill: none; stroke: #b0b0b0; stroke-width: 0.8; stroke-linecap: square\"/>\n     </g>\n     <g id=\"line2d_6\">\n      <g>\n       <use xlink:href=\"#m30abb6fe7c\" x=\"126.63346\" y=\"145.8\" style=\"stroke: #000000; stroke-width: 0.8\"/>\n      </g>\n     </g>\n     <g id=\"text_3\">\n      <!-- −4 -->\n      <g transform=\"translate(119.262366 160.398438) scale(0.1 -0.1)\">\n       <defs>\n        <path id=\"DejaVuSans-34\" d=\"M 2419 4116 \nL 825 1625 \nL 2419 1625 \nL 2419 4116 \nz\nM 2253 4666 \nL 3047 4666 \nL 3047 1625 \nL 3713 1625 \nL 3713 1100 \nL 3047 1100 \nL 3047 0 \nL 2419 0 \nL 2419 1100 \nL 313 1100 \nL 313 1709 \nL 2253 4666 \nz\n\" transform=\"scale(0.015625)\"/>\n       </defs>\n       <use xlink:href=\"#DejaVuSans-2212\"/>\n       <use xlink:href=\"#DejaVuSans-34\" x=\"83.789062\"/>\n      </g>\n     </g>\n    </g>\n    <g id=\"xtick_4\">\n     <g id=\"line2d_7\">\n      <path d=\"M 158.537406 145.8 \nL 158.537406 7.2 \n\" clip-path=\"url(#p3160ffc686)\" style=\"fill: none; stroke: #b0b0b0; stroke-width: 0.8; stroke-linecap: square\"/>\n     </g>\n     <g id=\"line2d_8\">\n      <g>\n       <use xlink:href=\"#m30abb6fe7c\" x=\"158.537406\" y=\"145.8\" style=\"stroke: #000000; stroke-width: 0.8\"/>\n      </g>\n     </g>\n     <g id=\"text_4\">\n      <!-- −2 -->\n      <g transform=\"translate(151.166312 160.398438) scale(0.1 -0.1)\">\n       <defs>\n        <path id=\"DejaVuSans-32\" d=\"M 1228 531 \nL 3431 531 \nL 3431 0 \nL 469 0 \nL 469 531 \nQ 828 903 1448 1529 \nQ 2069 2156 2228 2338 \nQ 2531 2678 2651 2914 \nQ 2772 3150 2772 3378 \nQ 2772 3750 2511 3984 \nQ 2250 4219 1831 4219 \nQ 1534 4219 1204 4116 \nQ 875 4013 500 3803 \nL 500 4441 \nQ 881 4594 1212 4672 \nQ 1544 4750 1819 4750 \nQ 2544 4750 2975 4387 \nQ 3406 4025 3406 3419 \nQ 3406 3131 3298 2873 \nQ 3191 2616 2906 2266 \nQ 2828 2175 2409 1742 \nQ 1991 1309 1228 531 \nz\n\" transform=\"scale(0.015625)\"/>\n       </defs>\n       <use xlink:href=\"#DejaVuSans-2212\"/>\n       <use xlink:href=\"#DejaVuSans-32\" x=\"83.789062\"/>\n      </g>\n     </g>\n    </g>\n    <g id=\"xtick_5\">\n     <g id=\"line2d_9\">\n      <path d=\"M 190.441352 145.8 \nL 190.441352 7.2 \n\" clip-path=\"url(#p3160ffc686)\" style=\"fill: none; stroke: #b0b0b0; stroke-width: 0.8; stroke-linecap: square\"/>\n     </g>\n     <g id=\"line2d_10\">\n      <g>\n       <use xlink:href=\"#m30abb6fe7c\" x=\"190.441352\" y=\"145.8\" style=\"stroke: #000000; stroke-width: 0.8\"/>\n      </g>\n     </g>\n     <g id=\"text_5\">\n      <!-- 0 -->\n      <g transform=\"translate(187.260102 160.398438) scale(0.1 -0.1)\">\n       <defs>\n        <path id=\"DejaVuSans-30\" d=\"M 2034 4250 \nQ 1547 4250 1301 3770 \nQ 1056 3291 1056 2328 \nQ 1056 1369 1301 889 \nQ 1547 409 2034 409 \nQ 2525 409 2770 889 \nQ 3016 1369 3016 2328 \nQ 3016 3291 2770 3770 \nQ 2525 4250 2034 4250 \nz\nM 2034 4750 \nQ 2819 4750 3233 4129 \nQ 3647 3509 3647 2328 \nQ 3647 1150 3233 529 \nQ 2819 -91 2034 -91 \nQ 1250 -91 836 529 \nQ 422 1150 422 2328 \nQ 422 3509 836 4129 \nQ 1250 4750 2034 4750 \nz\n\" transform=\"scale(0.015625)\"/>\n       </defs>\n       <use xlink:href=\"#DejaVuSans-30\"/>\n      </g>\n     </g>\n    </g>\n    <g id=\"xtick_6\">\n     <g id=\"line2d_11\">\n      <path d=\"M 222.345298 145.8 \nL 222.345298 7.2 \n\" clip-path=\"url(#p3160ffc686)\" style=\"fill: none; stroke: #b0b0b0; stroke-width: 0.8; stroke-linecap: square\"/>\n     </g>\n     <g id=\"line2d_12\">\n      <g>\n       <use xlink:href=\"#m30abb6fe7c\" x=\"222.345298\" y=\"145.8\" style=\"stroke: #000000; stroke-width: 0.8\"/>\n      </g>\n     </g>\n     <g id=\"text_6\">\n      <!-- 2 -->\n      <g transform=\"translate(219.164048 160.398438) scale(0.1 -0.1)\">\n       <use xlink:href=\"#DejaVuSans-32\"/>\n      </g>\n     </g>\n    </g>\n    <g id=\"xtick_7\">\n     <g id=\"line2d_13\">\n      <path d=\"M 254.249243 145.8 \nL 254.249243 7.2 \n\" clip-path=\"url(#p3160ffc686)\" style=\"fill: none; stroke: #b0b0b0; stroke-width: 0.8; stroke-linecap: square\"/>\n     </g>\n     <g id=\"line2d_14\">\n      <g>\n       <use xlink:href=\"#m30abb6fe7c\" x=\"254.249243\" y=\"145.8\" style=\"stroke: #000000; stroke-width: 0.8\"/>\n      </g>\n     </g>\n     <g id=\"text_7\">\n      <!-- 4 -->\n      <g transform=\"translate(251.067993 160.398438) scale(0.1 -0.1)\">\n       <use xlink:href=\"#DejaVuSans-34\"/>\n      </g>\n     </g>\n    </g>\n    <g id=\"xtick_8\">\n     <g id=\"line2d_15\">\n      <path d=\"M 286.153189 145.8 \nL 286.153189 7.2 \n\" clip-path=\"url(#p3160ffc686)\" style=\"fill: none; stroke: #b0b0b0; stroke-width: 0.8; stroke-linecap: square\"/>\n     </g>\n     <g id=\"line2d_16\">\n      <g>\n       <use xlink:href=\"#m30abb6fe7c\" x=\"286.153189\" y=\"145.8\" style=\"stroke: #000000; stroke-width: 0.8\"/>\n      </g>\n     </g>\n     <g id=\"text_8\">\n      <!-- 6 -->\n      <g transform=\"translate(282.971939 160.398438) scale(0.1 -0.1)\">\n       <use xlink:href=\"#DejaVuSans-36\"/>\n      </g>\n     </g>\n    </g>\n    <g id=\"xtick_9\">\n     <g id=\"line2d_17\">\n      <path d=\"M 318.057135 145.8 \nL 318.057135 7.2 \n\" clip-path=\"url(#p3160ffc686)\" style=\"fill: none; stroke: #b0b0b0; stroke-width: 0.8; stroke-linecap: square\"/>\n     </g>\n     <g id=\"line2d_18\">\n      <g>\n       <use xlink:href=\"#m30abb6fe7c\" x=\"318.057135\" y=\"145.8\" style=\"stroke: #000000; stroke-width: 0.8\"/>\n      </g>\n     </g>\n     <g id=\"text_9\">\n      <!-- 8 -->\n      <g transform=\"translate(314.875885 160.398438) scale(0.1 -0.1)\">\n       <use xlink:href=\"#DejaVuSans-38\"/>\n      </g>\n     </g>\n    </g>\n    <g id=\"text_10\">\n     <!-- x -->\n     <g transform=\"translate(186.684375 174.076563) scale(0.1 -0.1)\">\n      <defs>\n       <path id=\"DejaVuSans-78\" d=\"M 3513 3500 \nL 2247 1797 \nL 3578 0 \nL 2900 0 \nL 1881 1375 \nL 863 0 \nL 184 0 \nL 1544 1831 \nL 300 3500 \nL 978 3500 \nL 1906 2253 \nL 2834 3500 \nL 3513 3500 \nz\n\" transform=\"scale(0.015625)\"/>\n      </defs>\n      <use xlink:href=\"#DejaVuSans-78\"/>\n     </g>\n    </g>\n   </g>\n   <g id=\"matplotlib.axis_2\">\n    <g id=\"ytick_1\">\n     <g id=\"line2d_19\">\n      <path d=\"M 50.14375 139.669187 \nL 329.14375 139.669187 \n\" clip-path=\"url(#p3160ffc686)\" style=\"fill: none; stroke: #b0b0b0; stroke-width: 0.8; stroke-linecap: square\"/>\n     </g>\n     <g id=\"line2d_20\">\n      <defs>\n       <path id=\"m39c1948e13\" d=\"M 0 0 \nL -3.5 0 \n\" style=\"stroke: #000000; stroke-width: 0.8\"/>\n      </defs>\n      <g>\n       <use xlink:href=\"#m39c1948e13\" x=\"50.14375\" y=\"139.669187\" style=\"stroke: #000000; stroke-width: 0.8\"/>\n      </g>\n     </g>\n     <g id=\"text_11\">\n      <!-- 0.00 -->\n      <g transform=\"translate(20.878125 143.468405) scale(0.1 -0.1)\">\n       <defs>\n        <path id=\"DejaVuSans-2e\" d=\"M 684 794 \nL 1344 794 \nL 1344 0 \nL 684 0 \nL 684 794 \nz\n\" transform=\"scale(0.015625)\"/>\n       </defs>\n       <use xlink:href=\"#DejaVuSans-30\"/>\n       <use xlink:href=\"#DejaVuSans-2e\" x=\"63.623047\"/>\n       <use xlink:href=\"#DejaVuSans-30\" x=\"95.410156\"/>\n       <use xlink:href=\"#DejaVuSans-30\" x=\"159.033203\"/>\n      </g>\n     </g>\n    </g>\n    <g id=\"ytick_2\">\n     <g id=\"line2d_21\">\n      <path d=\"M 50.14375 114.435349 \nL 329.14375 114.435349 \n\" clip-path=\"url(#p3160ffc686)\" style=\"fill: none; stroke: #b0b0b0; stroke-width: 0.8; stroke-linecap: square\"/>\n     </g>\n     <g id=\"line2d_22\">\n      <g>\n       <use xlink:href=\"#m39c1948e13\" x=\"50.14375\" y=\"114.435349\" style=\"stroke: #000000; stroke-width: 0.8\"/>\n      </g>\n     </g>\n     <g id=\"text_12\">\n      <!-- 0.05 -->\n      <g transform=\"translate(20.878125 118.234568) scale(0.1 -0.1)\">\n       <defs>\n        <path id=\"DejaVuSans-35\" d=\"M 691 4666 \nL 3169 4666 \nL 3169 4134 \nL 1269 4134 \nL 1269 2991 \nQ 1406 3038 1543 3061 \nQ 1681 3084 1819 3084 \nQ 2600 3084 3056 2656 \nQ 3513 2228 3513 1497 \nQ 3513 744 3044 326 \nQ 2575 -91 1722 -91 \nQ 1428 -91 1123 -41 \nQ 819 9 494 109 \nL 494 744 \nQ 775 591 1075 516 \nQ 1375 441 1709 441 \nQ 2250 441 2565 725 \nQ 2881 1009 2881 1497 \nQ 2881 1984 2565 2268 \nQ 2250 2553 1709 2553 \nQ 1456 2553 1204 2497 \nQ 953 2441 691 2322 \nL 691 4666 \nz\n\" transform=\"scale(0.015625)\"/>\n       </defs>\n       <use xlink:href=\"#DejaVuSans-30\"/>\n       <use xlink:href=\"#DejaVuSans-2e\" x=\"63.623047\"/>\n       <use xlink:href=\"#DejaVuSans-30\" x=\"95.410156\"/>\n       <use xlink:href=\"#DejaVuSans-35\" x=\"159.033203\"/>\n      </g>\n     </g>\n    </g>\n    <g id=\"ytick_3\">\n     <g id=\"line2d_23\">\n      <path d=\"M 50.14375 89.201512 \nL 329.14375 89.201512 \n\" clip-path=\"url(#p3160ffc686)\" style=\"fill: none; stroke: #b0b0b0; stroke-width: 0.8; stroke-linecap: square\"/>\n     </g>\n     <g id=\"line2d_24\">\n      <g>\n       <use xlink:href=\"#m39c1948e13\" x=\"50.14375\" y=\"89.201512\" style=\"stroke: #000000; stroke-width: 0.8\"/>\n      </g>\n     </g>\n     <g id=\"text_13\">\n      <!-- 0.10 -->\n      <g transform=\"translate(20.878125 93.000731) scale(0.1 -0.1)\">\n       <defs>\n        <path id=\"DejaVuSans-31\" d=\"M 794 531 \nL 1825 531 \nL 1825 4091 \nL 703 3866 \nL 703 4441 \nL 1819 4666 \nL 2450 4666 \nL 2450 531 \nL 3481 531 \nL 3481 0 \nL 794 0 \nL 794 531 \nz\n\" transform=\"scale(0.015625)\"/>\n       </defs>\n       <use xlink:href=\"#DejaVuSans-30\"/>\n       <use xlink:href=\"#DejaVuSans-2e\" x=\"63.623047\"/>\n       <use xlink:href=\"#DejaVuSans-31\" x=\"95.410156\"/>\n       <use xlink:href=\"#DejaVuSans-30\" x=\"159.033203\"/>\n      </g>\n     </g>\n    </g>\n    <g id=\"ytick_4\">\n     <g id=\"line2d_25\">\n      <path d=\"M 50.14375 63.967675 \nL 329.14375 63.967675 \n\" clip-path=\"url(#p3160ffc686)\" style=\"fill: none; stroke: #b0b0b0; stroke-width: 0.8; stroke-linecap: square\"/>\n     </g>\n     <g id=\"line2d_26\">\n      <g>\n       <use xlink:href=\"#m39c1948e13\" x=\"50.14375\" y=\"63.967675\" style=\"stroke: #000000; stroke-width: 0.8\"/>\n      </g>\n     </g>\n     <g id=\"text_14\">\n      <!-- 0.15 -->\n      <g transform=\"translate(20.878125 67.766893) scale(0.1 -0.1)\">\n       <use xlink:href=\"#DejaVuSans-30\"/>\n       <use xlink:href=\"#DejaVuSans-2e\" x=\"63.623047\"/>\n       <use xlink:href=\"#DejaVuSans-31\" x=\"95.410156\"/>\n       <use xlink:href=\"#DejaVuSans-35\" x=\"159.033203\"/>\n      </g>\n     </g>\n    </g>\n    <g id=\"ytick_5\">\n     <g id=\"line2d_27\">\n      <path d=\"M 50.14375 38.733837 \nL 329.14375 38.733837 \n\" clip-path=\"url(#p3160ffc686)\" style=\"fill: none; stroke: #b0b0b0; stroke-width: 0.8; stroke-linecap: square\"/>\n     </g>\n     <g id=\"line2d_28\">\n      <g>\n       <use xlink:href=\"#m39c1948e13\" x=\"50.14375\" y=\"38.733837\" style=\"stroke: #000000; stroke-width: 0.8\"/>\n      </g>\n     </g>\n     <g id=\"text_15\">\n      <!-- 0.20 -->\n      <g transform=\"translate(20.878125 42.533056) scale(0.1 -0.1)\">\n       <use xlink:href=\"#DejaVuSans-30\"/>\n       <use xlink:href=\"#DejaVuSans-2e\" x=\"63.623047\"/>\n       <use xlink:href=\"#DejaVuSans-32\" x=\"95.410156\"/>\n       <use xlink:href=\"#DejaVuSans-30\" x=\"159.033203\"/>\n      </g>\n     </g>\n    </g>\n    <g id=\"ytick_6\">\n     <g id=\"line2d_29\">\n      <path d=\"M 50.14375 13.5 \nL 329.14375 13.5 \n\" clip-path=\"url(#p3160ffc686)\" style=\"fill: none; stroke: #b0b0b0; stroke-width: 0.8; stroke-linecap: square\"/>\n     </g>\n     <g id=\"line2d_30\">\n      <g>\n       <use xlink:href=\"#m39c1948e13\" x=\"50.14375\" y=\"13.5\" style=\"stroke: #000000; stroke-width: 0.8\"/>\n      </g>\n     </g>\n     <g id=\"text_16\">\n      <!-- 0.25 -->\n      <g transform=\"translate(20.878125 17.299219) scale(0.1 -0.1)\">\n       <use xlink:href=\"#DejaVuSans-30\"/>\n       <use xlink:href=\"#DejaVuSans-2e\" x=\"63.623047\"/>\n       <use xlink:href=\"#DejaVuSans-32\" x=\"95.410156\"/>\n       <use xlink:href=\"#DejaVuSans-35\" x=\"159.033203\"/>\n      </g>\n     </g>\n    </g>\n    <g id=\"text_17\">\n     <!-- grad of sigmoid -->\n     <g transform=\"translate(14.798438 115.626563) rotate(-90) scale(0.1 -0.1)\">\n      <defs>\n       <path id=\"DejaVuSans-67\" d=\"M 2906 1791 \nQ 2906 2416 2648 2759 \nQ 2391 3103 1925 3103 \nQ 1463 3103 1205 2759 \nQ 947 2416 947 1791 \nQ 947 1169 1205 825 \nQ 1463 481 1925 481 \nQ 2391 481 2648 825 \nQ 2906 1169 2906 1791 \nz\nM 3481 434 \nQ 3481 -459 3084 -895 \nQ 2688 -1331 1869 -1331 \nQ 1566 -1331 1297 -1286 \nQ 1028 -1241 775 -1147 \nL 775 -588 \nQ 1028 -725 1275 -790 \nQ 1522 -856 1778 -856 \nQ 2344 -856 2625 -561 \nQ 2906 -266 2906 331 \nL 2906 616 \nQ 2728 306 2450 153 \nQ 2172 0 1784 0 \nQ 1141 0 747 490 \nQ 353 981 353 1791 \nQ 353 2603 747 3093 \nQ 1141 3584 1784 3584 \nQ 2172 3584 2450 3431 \nQ 2728 3278 2906 2969 \nL 2906 3500 \nL 3481 3500 \nL 3481 434 \nz\n\" transform=\"scale(0.015625)\"/>\n       <path id=\"DejaVuSans-72\" d=\"M 2631 2963 \nQ 2534 3019 2420 3045 \nQ 2306 3072 2169 3072 \nQ 1681 3072 1420 2755 \nQ 1159 2438 1159 1844 \nL 1159 0 \nL 581 0 \nL 581 3500 \nL 1159 3500 \nL 1159 2956 \nQ 1341 3275 1631 3429 \nQ 1922 3584 2338 3584 \nQ 2397 3584 2469 3576 \nQ 2541 3569 2628 3553 \nL 2631 2963 \nz\n\" transform=\"scale(0.015625)\"/>\n       <path id=\"DejaVuSans-61\" d=\"M 2194 1759 \nQ 1497 1759 1228 1600 \nQ 959 1441 959 1056 \nQ 959 750 1161 570 \nQ 1363 391 1709 391 \nQ 2188 391 2477 730 \nQ 2766 1069 2766 1631 \nL 2766 1759 \nL 2194 1759 \nz\nM 3341 1997 \nL 3341 0 \nL 2766 0 \nL 2766 531 \nQ 2569 213 2275 61 \nQ 1981 -91 1556 -91 \nQ 1019 -91 701 211 \nQ 384 513 384 1019 \nQ 384 1609 779 1909 \nQ 1175 2209 1959 2209 \nL 2766 2209 \nL 2766 2266 \nQ 2766 2663 2505 2880 \nQ 2244 3097 1772 3097 \nQ 1472 3097 1187 3025 \nQ 903 2953 641 2809 \nL 641 3341 \nQ 956 3463 1253 3523 \nQ 1550 3584 1831 3584 \nQ 2591 3584 2966 3190 \nQ 3341 2797 3341 1997 \nz\n\" transform=\"scale(0.015625)\"/>\n       <path id=\"DejaVuSans-64\" d=\"M 2906 2969 \nL 2906 4863 \nL 3481 4863 \nL 3481 0 \nL 2906 0 \nL 2906 525 \nQ 2725 213 2448 61 \nQ 2172 -91 1784 -91 \nQ 1150 -91 751 415 \nQ 353 922 353 1747 \nQ 353 2572 751 3078 \nQ 1150 3584 1784 3584 \nQ 2172 3584 2448 3432 \nQ 2725 3281 2906 2969 \nz\nM 947 1747 \nQ 947 1113 1208 752 \nQ 1469 391 1925 391 \nQ 2381 391 2643 752 \nQ 2906 1113 2906 1747 \nQ 2906 2381 2643 2742 \nQ 2381 3103 1925 3103 \nQ 1469 3103 1208 2742 \nQ 947 2381 947 1747 \nz\n\" transform=\"scale(0.015625)\"/>\n       <path id=\"DejaVuSans-20\" transform=\"scale(0.015625)\"/>\n       <path id=\"DejaVuSans-6f\" d=\"M 1959 3097 \nQ 1497 3097 1228 2736 \nQ 959 2375 959 1747 \nQ 959 1119 1226 758 \nQ 1494 397 1959 397 \nQ 2419 397 2687 759 \nQ 2956 1122 2956 1747 \nQ 2956 2369 2687 2733 \nQ 2419 3097 1959 3097 \nz\nM 1959 3584 \nQ 2709 3584 3137 3096 \nQ 3566 2609 3566 1747 \nQ 3566 888 3137 398 \nQ 2709 -91 1959 -91 \nQ 1206 -91 779 398 \nQ 353 888 353 1747 \nQ 353 2609 779 3096 \nQ 1206 3584 1959 3584 \nz\n\" transform=\"scale(0.015625)\"/>\n       <path id=\"DejaVuSans-66\" d=\"M 2375 4863 \nL 2375 4384 \nL 1825 4384 \nQ 1516 4384 1395 4259 \nQ 1275 4134 1275 3809 \nL 1275 3500 \nL 2222 3500 \nL 2222 3053 \nL 1275 3053 \nL 1275 0 \nL 697 0 \nL 697 3053 \nL 147 3053 \nL 147 3500 \nL 697 3500 \nL 697 3744 \nQ 697 4328 969 4595 \nQ 1241 4863 1831 4863 \nL 2375 4863 \nz\n\" transform=\"scale(0.015625)\"/>\n       <path id=\"DejaVuSans-73\" d=\"M 2834 3397 \nL 2834 2853 \nQ 2591 2978 2328 3040 \nQ 2066 3103 1784 3103 \nQ 1356 3103 1142 2972 \nQ 928 2841 928 2578 \nQ 928 2378 1081 2264 \nQ 1234 2150 1697 2047 \nL 1894 2003 \nQ 2506 1872 2764 1633 \nQ 3022 1394 3022 966 \nQ 3022 478 2636 193 \nQ 2250 -91 1575 -91 \nQ 1294 -91 989 -36 \nQ 684 19 347 128 \nL 347 722 \nQ 666 556 975 473 \nQ 1284 391 1588 391 \nQ 1994 391 2212 530 \nQ 2431 669 2431 922 \nQ 2431 1156 2273 1281 \nQ 2116 1406 1581 1522 \nL 1381 1569 \nQ 847 1681 609 1914 \nQ 372 2147 372 2553 \nQ 372 3047 722 3315 \nQ 1072 3584 1716 3584 \nQ 2034 3584 2315 3537 \nQ 2597 3491 2834 3397 \nz\n\" transform=\"scale(0.015625)\"/>\n       <path id=\"DejaVuSans-69\" d=\"M 603 3500 \nL 1178 3500 \nL 1178 0 \nL 603 0 \nL 603 3500 \nz\nM 603 4863 \nL 1178 4863 \nL 1178 4134 \nL 603 4134 \nL 603 4863 \nz\n\" transform=\"scale(0.015625)\"/>\n       <path id=\"DejaVuSans-6d\" d=\"M 3328 2828 \nQ 3544 3216 3844 3400 \nQ 4144 3584 4550 3584 \nQ 5097 3584 5394 3201 \nQ 5691 2819 5691 2113 \nL 5691 0 \nL 5113 0 \nL 5113 2094 \nQ 5113 2597 4934 2840 \nQ 4756 3084 4391 3084 \nQ 3944 3084 3684 2787 \nQ 3425 2491 3425 1978 \nL 3425 0 \nL 2847 0 \nL 2847 2094 \nQ 2847 2600 2669 2842 \nQ 2491 3084 2119 3084 \nQ 1678 3084 1418 2786 \nQ 1159 2488 1159 1978 \nL 1159 0 \nL 581 0 \nL 581 3500 \nL 1159 3500 \nL 1159 2956 \nQ 1356 3278 1631 3431 \nQ 1906 3584 2284 3584 \nQ 2666 3584 2933 3390 \nQ 3200 3197 3328 2828 \nz\n\" transform=\"scale(0.015625)\"/>\n      </defs>\n      <use xlink:href=\"#DejaVuSans-67\"/>\n      <use xlink:href=\"#DejaVuSans-72\" x=\"63.476562\"/>\n      <use xlink:href=\"#DejaVuSans-61\" x=\"104.589844\"/>\n      <use xlink:href=\"#DejaVuSans-64\" x=\"165.869141\"/>\n      <use xlink:href=\"#DejaVuSans-20\" x=\"229.345703\"/>\n      <use xlink:href=\"#DejaVuSans-6f\" x=\"261.132812\"/>\n      <use xlink:href=\"#DejaVuSans-66\" x=\"322.314453\"/>\n      <use xlink:href=\"#DejaVuSans-20\" x=\"357.519531\"/>\n      <use xlink:href=\"#DejaVuSans-73\" x=\"389.306641\"/>\n      <use xlink:href=\"#DejaVuSans-69\" x=\"441.40625\"/>\n      <use xlink:href=\"#DejaVuSans-67\" x=\"469.189453\"/>\n      <use xlink:href=\"#DejaVuSans-6d\" x=\"532.666016\"/>\n      <use xlink:href=\"#DejaVuSans-6f\" x=\"630.078125\"/>\n      <use xlink:href=\"#DejaVuSans-69\" x=\"691.259766\"/>\n      <use xlink:href=\"#DejaVuSans-64\" x=\"719.042969\"/>\n     </g>\n    </g>\n   </g>\n   <g id=\"line2d_31\">\n    <path d=\"M 62.825568 139.5 \nL 77.182345 139.253462 \nL 86.753528 138.912712 \nL 94.729514 138.424397 \nL 101.110305 137.816687 \nL 105.8959 137.175007 \nL 110.681487 136.314067 \nL 115.467074 135.161385 \nL 118.657473 134.185253 \nL 121.847865 133.003565 \nL 125.038257 131.575826 \nL 128.228656 129.854907 \nL 131.419051 127.786619 \nL 134.609446 125.309608 \nL 137.799842 122.355806 \nL 140.990233 118.851768 \nL 144.180629 114.721215 \nL 147.371024 109.889367 \nL 150.561419 104.289473 \nL 153.751811 97.872081 \nL 156.942206 90.617285 \nL 160.132602 82.549746 \nL 163.322997 73.755506 \nL 168.10859 59.584618 \nL 174.489379 40.443712 \nL 177.679773 31.713935 \nL 179.274971 27.775856 \nL 180.870168 24.207097 \nL 182.465365 21.068279 \nL 184.060562 18.415173 \nL 185.65576 16.296758 \nL 187.250957 14.753321 \nL 188.846154 13.814889 \nL 190.441352 13.5 \nL 192.036549 13.814896 \nL 193.631746 14.753328 \nL 195.226944 16.296758 \nL 196.822141 18.415173 \nL 198.417338 21.068279 \nL 200.012536 24.207097 \nL 201.607733 27.775848 \nL 203.20293 31.713935 \nL 206.393325 40.44372 \nL 211.178916 54.732931 \nL 215.964509 69.133646 \nL 219.154904 78.235198 \nL 222.345298 86.681345 \nL 225.535693 94.349061 \nL 228.726088 101.185068 \nL 231.916484 107.189056 \nL 235.106879 112.397409 \nL 238.297271 116.869579 \nL 241.487666 120.677302 \nL 244.678061 123.89682 \nL 247.868457 126.603296 \nL 251.058848 128.867818 \nL 254.249243 130.755216 \nL 257.439635 132.323237 \nL 260.630034 133.622466 \nL 263.820426 134.696712 \nL 267.010825 135.583359 \nL 271.79642 136.629496 \nL 276.582007 137.410223 \nL 281.367594 137.991793 \nL 287.748385 138.54229 \nL 295.724372 138.98448 \nL 306.89075 139.328718 \nL 316.461932 139.482212 \nL 316.461932 139.482212 \n\" clip-path=\"url(#p3160ffc686)\" style=\"fill: none; stroke: #1f77b4; stroke-width: 1.5; stroke-linecap: square\"/>\n   </g>\n   <g id=\"patch_3\">\n    <path d=\"M 50.14375 145.8 \nL 50.14375 7.2 \n\" style=\"fill: none; stroke: #000000; stroke-width: 0.8; stroke-linejoin: miter; stroke-linecap: square\"/>\n   </g>\n   <g id=\"patch_4\">\n    <path d=\"M 329.14375 145.8 \nL 329.14375 7.2 \n\" style=\"fill: none; stroke: #000000; stroke-width: 0.8; stroke-linejoin: miter; stroke-linecap: square\"/>\n   </g>\n   <g id=\"patch_5\">\n    <path d=\"M 50.14375 145.8 \nL 329.14375 145.8 \n\" style=\"fill: none; stroke: #000000; stroke-width: 0.8; stroke-linejoin: miter; stroke-linecap: square\"/>\n   </g>\n   <g id=\"patch_6\">\n    <path d=\"M 50.14375 7.2 \nL 329.14375 7.2 \n\" style=\"fill: none; stroke: #000000; stroke-width: 0.8; stroke-linejoin: miter; stroke-linecap: square\"/>\n   </g>\n  </g>\n </g>\n <defs>\n  <clipPath id=\"p3160ffc686\">\n   <rect x=\"50.14375\" y=\"7.2\" width=\"279\" height=\"138.6\"/>\n  </clipPath>\n </defs>\n</svg>\n"
          },
          "metadata": {}
        }
      ]
    },
    {
      "cell_type": "code",
      "source": [
        "y = torch.tanh(x)\n",
        "d2l.plot(x.detach(), y.detach(), 'x', 'tanh(x)', figsize=(5, 2.5))"
      ],
      "metadata": {
        "colab": {
          "base_uri": "https://localhost:8080/",
          "height": 264
        },
        "id": "9iCkQ_h8Nw5A",
        "outputId": "e457d071-12aa-4a6d-8b29-a2462a9ce978"
      },
      "execution_count": null,
      "outputs": [
        {
          "output_type": "display_data",
          "data": {
            "text/plain": [
              "<Figure size 500x250 with 1 Axes>"
            ],
            "image/svg+xml": "<?xml version=\"1.0\" encoding=\"utf-8\" standalone=\"no\"?>\n<!DOCTYPE svg PUBLIC \"-//W3C//DTD SVG 1.1//EN\"\n  \"http://www.w3.org/Graphics/SVG/1.1/DTD/svg11.dtd\">\n<svg xmlns:xlink=\"http://www.w3.org/1999/xlink\" width=\"338.360937pt\" height=\"183.35625pt\" viewBox=\"0 0 338.360937 183.35625\" xmlns=\"http://www.w3.org/2000/svg\" version=\"1.1\">\n <metadata>\n  <rdf:RDF xmlns:dc=\"http://purl.org/dc/elements/1.1/\" xmlns:cc=\"http://creativecommons.org/ns#\" xmlns:rdf=\"http://www.w3.org/1999/02/22-rdf-syntax-ns#\">\n   <cc:Work>\n    <dc:type rdf:resource=\"http://purl.org/dc/dcmitype/StillImage\"/>\n    <dc:date>2024-09-24T04:08:16.743212</dc:date>\n    <dc:format>image/svg+xml</dc:format>\n    <dc:creator>\n     <cc:Agent>\n      <dc:title>Matplotlib v3.7.1, https://matplotlib.org/</dc:title>\n     </cc:Agent>\n    </dc:creator>\n   </cc:Work>\n  </rdf:RDF>\n </metadata>\n <defs>\n  <style type=\"text/css\">*{stroke-linejoin: round; stroke-linecap: butt}</style>\n </defs>\n <g id=\"figure_1\">\n  <g id=\"patch_1\">\n   <path d=\"M 0 183.35625 \nL 338.360937 183.35625 \nL 338.360937 0 \nL 0 0 \nz\n\" style=\"fill: #ffffff\"/>\n  </g>\n  <g id=\"axes_1\">\n   <g id=\"patch_2\">\n    <path d=\"M 52.160938 145.8 \nL 331.160937 145.8 \nL 331.160937 7.2 \nL 52.160938 7.2 \nz\n\" style=\"fill: #ffffff\"/>\n   </g>\n   <g id=\"matplotlib.axis_1\">\n    <g id=\"xtick_1\">\n     <g id=\"line2d_1\">\n      <path d=\"M 64.842756 145.8 \nL 64.842756 7.2 \n\" clip-path=\"url(#pc2987a7696)\" style=\"fill: none; stroke: #b0b0b0; stroke-width: 0.8; stroke-linecap: square\"/>\n     </g>\n     <g id=\"line2d_2\">\n      <defs>\n       <path id=\"mbaea3dc036\" d=\"M 0 0 \nL 0 3.5 \n\" style=\"stroke: #000000; stroke-width: 0.8\"/>\n      </defs>\n      <g>\n       <use xlink:href=\"#mbaea3dc036\" x=\"64.842756\" y=\"145.8\" style=\"stroke: #000000; stroke-width: 0.8\"/>\n      </g>\n     </g>\n     <g id=\"text_1\">\n      <!-- −8 -->\n      <g transform=\"translate(57.471662 160.398438) scale(0.1 -0.1)\">\n       <defs>\n        <path id=\"DejaVuSans-2212\" d=\"M 678 2272 \nL 4684 2272 \nL 4684 1741 \nL 678 1741 \nL 678 2272 \nz\n\" transform=\"scale(0.015625)\"/>\n        <path id=\"DejaVuSans-38\" d=\"M 2034 2216 \nQ 1584 2216 1326 1975 \nQ 1069 1734 1069 1313 \nQ 1069 891 1326 650 \nQ 1584 409 2034 409 \nQ 2484 409 2743 651 \nQ 3003 894 3003 1313 \nQ 3003 1734 2745 1975 \nQ 2488 2216 2034 2216 \nz\nM 1403 2484 \nQ 997 2584 770 2862 \nQ 544 3141 544 3541 \nQ 544 4100 942 4425 \nQ 1341 4750 2034 4750 \nQ 2731 4750 3128 4425 \nQ 3525 4100 3525 3541 \nQ 3525 3141 3298 2862 \nQ 3072 2584 2669 2484 \nQ 3125 2378 3379 2068 \nQ 3634 1759 3634 1313 \nQ 3634 634 3220 271 \nQ 2806 -91 2034 -91 \nQ 1263 -91 848 271 \nQ 434 634 434 1313 \nQ 434 1759 690 2068 \nQ 947 2378 1403 2484 \nz\nM 1172 3481 \nQ 1172 3119 1398 2916 \nQ 1625 2713 2034 2713 \nQ 2441 2713 2670 2916 \nQ 2900 3119 2900 3481 \nQ 2900 3844 2670 4047 \nQ 2441 4250 2034 4250 \nQ 1625 4250 1398 4047 \nQ 1172 3844 1172 3481 \nz\n\" transform=\"scale(0.015625)\"/>\n       </defs>\n       <use xlink:href=\"#DejaVuSans-2212\"/>\n       <use xlink:href=\"#DejaVuSans-38\" x=\"83.789062\"/>\n      </g>\n     </g>\n    </g>\n    <g id=\"xtick_2\">\n     <g id=\"line2d_3\">\n      <path d=\"M 96.746702 145.8 \nL 96.746702 7.2 \n\" clip-path=\"url(#pc2987a7696)\" style=\"fill: none; stroke: #b0b0b0; stroke-width: 0.8; stroke-linecap: square\"/>\n     </g>\n     <g id=\"line2d_4\">\n      <g>\n       <use xlink:href=\"#mbaea3dc036\" x=\"96.746702\" y=\"145.8\" style=\"stroke: #000000; stroke-width: 0.8\"/>\n      </g>\n     </g>\n     <g id=\"text_2\">\n      <!-- −6 -->\n      <g transform=\"translate(89.375608 160.398438) scale(0.1 -0.1)\">\n       <defs>\n        <path id=\"DejaVuSans-36\" d=\"M 2113 2584 \nQ 1688 2584 1439 2293 \nQ 1191 2003 1191 1497 \nQ 1191 994 1439 701 \nQ 1688 409 2113 409 \nQ 2538 409 2786 701 \nQ 3034 994 3034 1497 \nQ 3034 2003 2786 2293 \nQ 2538 2584 2113 2584 \nz\nM 3366 4563 \nL 3366 3988 \nQ 3128 4100 2886 4159 \nQ 2644 4219 2406 4219 \nQ 1781 4219 1451 3797 \nQ 1122 3375 1075 2522 \nQ 1259 2794 1537 2939 \nQ 1816 3084 2150 3084 \nQ 2853 3084 3261 2657 \nQ 3669 2231 3669 1497 \nQ 3669 778 3244 343 \nQ 2819 -91 2113 -91 \nQ 1303 -91 875 529 \nQ 447 1150 447 2328 \nQ 447 3434 972 4092 \nQ 1497 4750 2381 4750 \nQ 2619 4750 2861 4703 \nQ 3103 4656 3366 4563 \nz\n\" transform=\"scale(0.015625)\"/>\n       </defs>\n       <use xlink:href=\"#DejaVuSans-2212\"/>\n       <use xlink:href=\"#DejaVuSans-36\" x=\"83.789062\"/>\n      </g>\n     </g>\n    </g>\n    <g id=\"xtick_3\">\n     <g id=\"line2d_5\">\n      <path d=\"M 128.650647 145.8 \nL 128.650647 7.2 \n\" clip-path=\"url(#pc2987a7696)\" style=\"fill: none; stroke: #b0b0b0; stroke-width: 0.8; stroke-linecap: square\"/>\n     </g>\n     <g id=\"line2d_6\">\n      <g>\n       <use xlink:href=\"#mbaea3dc036\" x=\"128.650647\" y=\"145.8\" style=\"stroke: #000000; stroke-width: 0.8\"/>\n      </g>\n     </g>\n     <g id=\"text_3\">\n      <!-- −4 -->\n      <g transform=\"translate(121.279554 160.398438) scale(0.1 -0.1)\">\n       <defs>\n        <path id=\"DejaVuSans-34\" d=\"M 2419 4116 \nL 825 1625 \nL 2419 1625 \nL 2419 4116 \nz\nM 2253 4666 \nL 3047 4666 \nL 3047 1625 \nL 3713 1625 \nL 3713 1100 \nL 3047 1100 \nL 3047 0 \nL 2419 0 \nL 2419 1100 \nL 313 1100 \nL 313 1709 \nL 2253 4666 \nz\n\" transform=\"scale(0.015625)\"/>\n       </defs>\n       <use xlink:href=\"#DejaVuSans-2212\"/>\n       <use xlink:href=\"#DejaVuSans-34\" x=\"83.789062\"/>\n      </g>\n     </g>\n    </g>\n    <g id=\"xtick_4\">\n     <g id=\"line2d_7\">\n      <path d=\"M 160.554593 145.8 \nL 160.554593 7.2 \n\" clip-path=\"url(#pc2987a7696)\" style=\"fill: none; stroke: #b0b0b0; stroke-width: 0.8; stroke-linecap: square\"/>\n     </g>\n     <g id=\"line2d_8\">\n      <g>\n       <use xlink:href=\"#mbaea3dc036\" x=\"160.554593\" y=\"145.8\" style=\"stroke: #000000; stroke-width: 0.8\"/>\n      </g>\n     </g>\n     <g id=\"text_4\">\n      <!-- −2 -->\n      <g transform=\"translate(153.1835 160.398438) scale(0.1 -0.1)\">\n       <defs>\n        <path id=\"DejaVuSans-32\" d=\"M 1228 531 \nL 3431 531 \nL 3431 0 \nL 469 0 \nL 469 531 \nQ 828 903 1448 1529 \nQ 2069 2156 2228 2338 \nQ 2531 2678 2651 2914 \nQ 2772 3150 2772 3378 \nQ 2772 3750 2511 3984 \nQ 2250 4219 1831 4219 \nQ 1534 4219 1204 4116 \nQ 875 4013 500 3803 \nL 500 4441 \nQ 881 4594 1212 4672 \nQ 1544 4750 1819 4750 \nQ 2544 4750 2975 4387 \nQ 3406 4025 3406 3419 \nQ 3406 3131 3298 2873 \nQ 3191 2616 2906 2266 \nQ 2828 2175 2409 1742 \nQ 1991 1309 1228 531 \nz\n\" transform=\"scale(0.015625)\"/>\n       </defs>\n       <use xlink:href=\"#DejaVuSans-2212\"/>\n       <use xlink:href=\"#DejaVuSans-32\" x=\"83.789062\"/>\n      </g>\n     </g>\n    </g>\n    <g id=\"xtick_5\">\n     <g id=\"line2d_9\">\n      <path d=\"M 192.458539 145.8 \nL 192.458539 7.2 \n\" clip-path=\"url(#pc2987a7696)\" style=\"fill: none; stroke: #b0b0b0; stroke-width: 0.8; stroke-linecap: square\"/>\n     </g>\n     <g id=\"line2d_10\">\n      <g>\n       <use xlink:href=\"#mbaea3dc036\" x=\"192.458539\" y=\"145.8\" style=\"stroke: #000000; stroke-width: 0.8\"/>\n      </g>\n     </g>\n     <g id=\"text_5\">\n      <!-- 0 -->\n      <g transform=\"translate(189.277289 160.398438) scale(0.1 -0.1)\">\n       <defs>\n        <path id=\"DejaVuSans-30\" d=\"M 2034 4250 \nQ 1547 4250 1301 3770 \nQ 1056 3291 1056 2328 \nQ 1056 1369 1301 889 \nQ 1547 409 2034 409 \nQ 2525 409 2770 889 \nQ 3016 1369 3016 2328 \nQ 3016 3291 2770 3770 \nQ 2525 4250 2034 4250 \nz\nM 2034 4750 \nQ 2819 4750 3233 4129 \nQ 3647 3509 3647 2328 \nQ 3647 1150 3233 529 \nQ 2819 -91 2034 -91 \nQ 1250 -91 836 529 \nQ 422 1150 422 2328 \nQ 422 3509 836 4129 \nQ 1250 4750 2034 4750 \nz\n\" transform=\"scale(0.015625)\"/>\n       </defs>\n       <use xlink:href=\"#DejaVuSans-30\"/>\n      </g>\n     </g>\n    </g>\n    <g id=\"xtick_6\">\n     <g id=\"line2d_11\">\n      <path d=\"M 224.362485 145.8 \nL 224.362485 7.2 \n\" clip-path=\"url(#pc2987a7696)\" style=\"fill: none; stroke: #b0b0b0; stroke-width: 0.8; stroke-linecap: square\"/>\n     </g>\n     <g id=\"line2d_12\">\n      <g>\n       <use xlink:href=\"#mbaea3dc036\" x=\"224.362485\" y=\"145.8\" style=\"stroke: #000000; stroke-width: 0.8\"/>\n      </g>\n     </g>\n     <g id=\"text_6\">\n      <!-- 2 -->\n      <g transform=\"translate(221.181235 160.398438) scale(0.1 -0.1)\">\n       <use xlink:href=\"#DejaVuSans-32\"/>\n      </g>\n     </g>\n    </g>\n    <g id=\"xtick_7\">\n     <g id=\"line2d_13\">\n      <path d=\"M 256.266431 145.8 \nL 256.266431 7.2 \n\" clip-path=\"url(#pc2987a7696)\" style=\"fill: none; stroke: #b0b0b0; stroke-width: 0.8; stroke-linecap: square\"/>\n     </g>\n     <g id=\"line2d_14\">\n      <g>\n       <use xlink:href=\"#mbaea3dc036\" x=\"256.266431\" y=\"145.8\" style=\"stroke: #000000; stroke-width: 0.8\"/>\n      </g>\n     </g>\n     <g id=\"text_7\">\n      <!-- 4 -->\n      <g transform=\"translate(253.085181 160.398438) scale(0.1 -0.1)\">\n       <use xlink:href=\"#DejaVuSans-34\"/>\n      </g>\n     </g>\n    </g>\n    <g id=\"xtick_8\">\n     <g id=\"line2d_15\">\n      <path d=\"M 288.170377 145.8 \nL 288.170377 7.2 \n\" clip-path=\"url(#pc2987a7696)\" style=\"fill: none; stroke: #b0b0b0; stroke-width: 0.8; stroke-linecap: square\"/>\n     </g>\n     <g id=\"line2d_16\">\n      <g>\n       <use xlink:href=\"#mbaea3dc036\" x=\"288.170377\" y=\"145.8\" style=\"stroke: #000000; stroke-width: 0.8\"/>\n      </g>\n     </g>\n     <g id=\"text_8\">\n      <!-- 6 -->\n      <g transform=\"translate(284.989127 160.398438) scale(0.1 -0.1)\">\n       <use xlink:href=\"#DejaVuSans-36\"/>\n      </g>\n     </g>\n    </g>\n    <g id=\"xtick_9\">\n     <g id=\"line2d_17\">\n      <path d=\"M 320.074323 145.8 \nL 320.074323 7.2 \n\" clip-path=\"url(#pc2987a7696)\" style=\"fill: none; stroke: #b0b0b0; stroke-width: 0.8; stroke-linecap: square\"/>\n     </g>\n     <g id=\"line2d_18\">\n      <g>\n       <use xlink:href=\"#mbaea3dc036\" x=\"320.074323\" y=\"145.8\" style=\"stroke: #000000; stroke-width: 0.8\"/>\n      </g>\n     </g>\n     <g id=\"text_9\">\n      <!-- 8 -->\n      <g transform=\"translate(316.893073 160.398438) scale(0.1 -0.1)\">\n       <use xlink:href=\"#DejaVuSans-38\"/>\n      </g>\n     </g>\n    </g>\n    <g id=\"text_10\">\n     <!-- x -->\n     <g transform=\"translate(188.701562 174.076563) scale(0.1 -0.1)\">\n      <defs>\n       <path id=\"DejaVuSans-78\" d=\"M 3513 3500 \nL 2247 1797 \nL 3578 0 \nL 2900 0 \nL 1881 1375 \nL 863 0 \nL 184 0 \nL 1544 1831 \nL 300 3500 \nL 978 3500 \nL 1906 2253 \nL 2834 3500 \nL 3513 3500 \nz\n\" transform=\"scale(0.015625)\"/>\n      </defs>\n      <use xlink:href=\"#DejaVuSans-78\"/>\n     </g>\n    </g>\n   </g>\n   <g id=\"matplotlib.axis_2\">\n    <g id=\"ytick_1\">\n     <g id=\"line2d_19\">\n      <path d=\"M 52.160938 139.500015 \nL 331.160937 139.500015 \n\" clip-path=\"url(#pc2987a7696)\" style=\"fill: none; stroke: #b0b0b0; stroke-width: 0.8; stroke-linecap: square\"/>\n     </g>\n     <g id=\"line2d_20\">\n      <defs>\n       <path id=\"mc0d1e84e7b\" d=\"M 0 0 \nL -3.5 0 \n\" style=\"stroke: #000000; stroke-width: 0.8\"/>\n      </defs>\n      <g>\n       <use xlink:href=\"#mc0d1e84e7b\" x=\"52.160938\" y=\"139.500015\" style=\"stroke: #000000; stroke-width: 0.8\"/>\n      </g>\n     </g>\n     <g id=\"text_11\">\n      <!-- −1.0 -->\n      <g transform=\"translate(20.878125 143.299234) scale(0.1 -0.1)\">\n       <defs>\n        <path id=\"DejaVuSans-31\" d=\"M 794 531 \nL 1825 531 \nL 1825 4091 \nL 703 3866 \nL 703 4441 \nL 1819 4666 \nL 2450 4666 \nL 2450 531 \nL 3481 531 \nL 3481 0 \nL 794 0 \nL 794 531 \nz\n\" transform=\"scale(0.015625)\"/>\n        <path id=\"DejaVuSans-2e\" d=\"M 684 794 \nL 1344 794 \nL 1344 0 \nL 684 0 \nL 684 794 \nz\n\" transform=\"scale(0.015625)\"/>\n       </defs>\n       <use xlink:href=\"#DejaVuSans-2212\"/>\n       <use xlink:href=\"#DejaVuSans-31\" x=\"83.789062\"/>\n       <use xlink:href=\"#DejaVuSans-2e\" x=\"147.412109\"/>\n       <use xlink:href=\"#DejaVuSans-30\" x=\"179.199219\"/>\n      </g>\n     </g>\n    </g>\n    <g id=\"ytick_2\">\n     <g id=\"line2d_21\">\n      <path d=\"M 52.160938 108.000007 \nL 331.160937 108.000007 \n\" clip-path=\"url(#pc2987a7696)\" style=\"fill: none; stroke: #b0b0b0; stroke-width: 0.8; stroke-linecap: square\"/>\n     </g>\n     <g id=\"line2d_22\">\n      <g>\n       <use xlink:href=\"#mc0d1e84e7b\" x=\"52.160938\" y=\"108.000007\" style=\"stroke: #000000; stroke-width: 0.8\"/>\n      </g>\n     </g>\n     <g id=\"text_12\">\n      <!-- −0.5 -->\n      <g transform=\"translate(20.878125 111.799225) scale(0.1 -0.1)\">\n       <defs>\n        <path id=\"DejaVuSans-35\" d=\"M 691 4666 \nL 3169 4666 \nL 3169 4134 \nL 1269 4134 \nL 1269 2991 \nQ 1406 3038 1543 3061 \nQ 1681 3084 1819 3084 \nQ 2600 3084 3056 2656 \nQ 3513 2228 3513 1497 \nQ 3513 744 3044 326 \nQ 2575 -91 1722 -91 \nQ 1428 -91 1123 -41 \nQ 819 9 494 109 \nL 494 744 \nQ 775 591 1075 516 \nQ 1375 441 1709 441 \nQ 2250 441 2565 725 \nQ 2881 1009 2881 1497 \nQ 2881 1984 2565 2268 \nQ 2250 2553 1709 2553 \nQ 1456 2553 1204 2497 \nQ 953 2441 691 2322 \nL 691 4666 \nz\n\" transform=\"scale(0.015625)\"/>\n       </defs>\n       <use xlink:href=\"#DejaVuSans-2212\"/>\n       <use xlink:href=\"#DejaVuSans-30\" x=\"83.789062\"/>\n       <use xlink:href=\"#DejaVuSans-2e\" x=\"147.412109\"/>\n       <use xlink:href=\"#DejaVuSans-35\" x=\"179.199219\"/>\n      </g>\n     </g>\n    </g>\n    <g id=\"ytick_3\">\n     <g id=\"line2d_23\">\n      <path d=\"M 52.160938 76.499998 \nL 331.160937 76.499998 \n\" clip-path=\"url(#pc2987a7696)\" style=\"fill: none; stroke: #b0b0b0; stroke-width: 0.8; stroke-linecap: square\"/>\n     </g>\n     <g id=\"line2d_24\">\n      <g>\n       <use xlink:href=\"#mc0d1e84e7b\" x=\"52.160938\" y=\"76.499998\" style=\"stroke: #000000; stroke-width: 0.8\"/>\n      </g>\n     </g>\n     <g id=\"text_13\">\n      <!-- 0.0 -->\n      <g transform=\"translate(29.257812 80.299217) scale(0.1 -0.1)\">\n       <use xlink:href=\"#DejaVuSans-30\"/>\n       <use xlink:href=\"#DejaVuSans-2e\" x=\"63.623047\"/>\n       <use xlink:href=\"#DejaVuSans-30\" x=\"95.410156\"/>\n      </g>\n     </g>\n    </g>\n    <g id=\"ytick_4\">\n     <g id=\"line2d_25\">\n      <path d=\"M 52.160938 44.99999 \nL 331.160937 44.99999 \n\" clip-path=\"url(#pc2987a7696)\" style=\"fill: none; stroke: #b0b0b0; stroke-width: 0.8; stroke-linecap: square\"/>\n     </g>\n     <g id=\"line2d_26\">\n      <g>\n       <use xlink:href=\"#mc0d1e84e7b\" x=\"52.160938\" y=\"44.99999\" style=\"stroke: #000000; stroke-width: 0.8\"/>\n      </g>\n     </g>\n     <g id=\"text_14\">\n      <!-- 0.5 -->\n      <g transform=\"translate(29.257812 48.799208) scale(0.1 -0.1)\">\n       <use xlink:href=\"#DejaVuSans-30\"/>\n       <use xlink:href=\"#DejaVuSans-2e\" x=\"63.623047\"/>\n       <use xlink:href=\"#DejaVuSans-35\" x=\"95.410156\"/>\n      </g>\n     </g>\n    </g>\n    <g id=\"ytick_5\">\n     <g id=\"line2d_27\">\n      <path d=\"M 52.160938 13.499981 \nL 331.160937 13.499981 \n\" clip-path=\"url(#pc2987a7696)\" style=\"fill: none; stroke: #b0b0b0; stroke-width: 0.8; stroke-linecap: square\"/>\n     </g>\n     <g id=\"line2d_28\">\n      <g>\n       <use xlink:href=\"#mc0d1e84e7b\" x=\"52.160938\" y=\"13.499981\" style=\"stroke: #000000; stroke-width: 0.8\"/>\n      </g>\n     </g>\n     <g id=\"text_15\">\n      <!-- 1.0 -->\n      <g transform=\"translate(29.257812 17.2992) scale(0.1 -0.1)\">\n       <use xlink:href=\"#DejaVuSans-31\"/>\n       <use xlink:href=\"#DejaVuSans-2e\" x=\"63.623047\"/>\n       <use xlink:href=\"#DejaVuSans-30\" x=\"95.410156\"/>\n      </g>\n     </g>\n    </g>\n    <g id=\"text_16\">\n     <!-- tanh(x) -->\n     <g transform=\"translate(14.798437 94.722656) rotate(-90) scale(0.1 -0.1)\">\n      <defs>\n       <path id=\"DejaVuSans-74\" d=\"M 1172 4494 \nL 1172 3500 \nL 2356 3500 \nL 2356 3053 \nL 1172 3053 \nL 1172 1153 \nQ 1172 725 1289 603 \nQ 1406 481 1766 481 \nL 2356 481 \nL 2356 0 \nL 1766 0 \nQ 1100 0 847 248 \nQ 594 497 594 1153 \nL 594 3053 \nL 172 3053 \nL 172 3500 \nL 594 3500 \nL 594 4494 \nL 1172 4494 \nz\n\" transform=\"scale(0.015625)\"/>\n       <path id=\"DejaVuSans-61\" d=\"M 2194 1759 \nQ 1497 1759 1228 1600 \nQ 959 1441 959 1056 \nQ 959 750 1161 570 \nQ 1363 391 1709 391 \nQ 2188 391 2477 730 \nQ 2766 1069 2766 1631 \nL 2766 1759 \nL 2194 1759 \nz\nM 3341 1997 \nL 3341 0 \nL 2766 0 \nL 2766 531 \nQ 2569 213 2275 61 \nQ 1981 -91 1556 -91 \nQ 1019 -91 701 211 \nQ 384 513 384 1019 \nQ 384 1609 779 1909 \nQ 1175 2209 1959 2209 \nL 2766 2209 \nL 2766 2266 \nQ 2766 2663 2505 2880 \nQ 2244 3097 1772 3097 \nQ 1472 3097 1187 3025 \nQ 903 2953 641 2809 \nL 641 3341 \nQ 956 3463 1253 3523 \nQ 1550 3584 1831 3584 \nQ 2591 3584 2966 3190 \nQ 3341 2797 3341 1997 \nz\n\" transform=\"scale(0.015625)\"/>\n       <path id=\"DejaVuSans-6e\" d=\"M 3513 2113 \nL 3513 0 \nL 2938 0 \nL 2938 2094 \nQ 2938 2591 2744 2837 \nQ 2550 3084 2163 3084 \nQ 1697 3084 1428 2787 \nQ 1159 2491 1159 1978 \nL 1159 0 \nL 581 0 \nL 581 3500 \nL 1159 3500 \nL 1159 2956 \nQ 1366 3272 1645 3428 \nQ 1925 3584 2291 3584 \nQ 2894 3584 3203 3211 \nQ 3513 2838 3513 2113 \nz\n\" transform=\"scale(0.015625)\"/>\n       <path id=\"DejaVuSans-68\" d=\"M 3513 2113 \nL 3513 0 \nL 2938 0 \nL 2938 2094 \nQ 2938 2591 2744 2837 \nQ 2550 3084 2163 3084 \nQ 1697 3084 1428 2787 \nQ 1159 2491 1159 1978 \nL 1159 0 \nL 581 0 \nL 581 4863 \nL 1159 4863 \nL 1159 2956 \nQ 1366 3272 1645 3428 \nQ 1925 3584 2291 3584 \nQ 2894 3584 3203 3211 \nQ 3513 2838 3513 2113 \nz\n\" transform=\"scale(0.015625)\"/>\n       <path id=\"DejaVuSans-28\" d=\"M 1984 4856 \nQ 1566 4138 1362 3434 \nQ 1159 2731 1159 2009 \nQ 1159 1288 1364 580 \nQ 1569 -128 1984 -844 \nL 1484 -844 \nQ 1016 -109 783 600 \nQ 550 1309 550 2009 \nQ 550 2706 781 3412 \nQ 1013 4119 1484 4856 \nL 1984 4856 \nz\n\" transform=\"scale(0.015625)\"/>\n       <path id=\"DejaVuSans-29\" d=\"M 513 4856 \nL 1013 4856 \nQ 1481 4119 1714 3412 \nQ 1947 2706 1947 2009 \nQ 1947 1309 1714 600 \nQ 1481 -109 1013 -844 \nL 513 -844 \nQ 928 -128 1133 580 \nQ 1338 1288 1338 2009 \nQ 1338 2731 1133 3434 \nQ 928 4138 513 4856 \nz\n\" transform=\"scale(0.015625)\"/>\n      </defs>\n      <use xlink:href=\"#DejaVuSans-74\"/>\n      <use xlink:href=\"#DejaVuSans-61\" x=\"39.208984\"/>\n      <use xlink:href=\"#DejaVuSans-6e\" x=\"100.488281\"/>\n      <use xlink:href=\"#DejaVuSans-68\" x=\"163.867188\"/>\n      <use xlink:href=\"#DejaVuSans-28\" x=\"227.246094\"/>\n      <use xlink:href=\"#DejaVuSans-78\" x=\"266.259766\"/>\n      <use xlink:href=\"#DejaVuSans-29\" x=\"325.439453\"/>\n     </g>\n    </g>\n   </g>\n   <g id=\"line2d_29\">\n    <path d=\"M 64.842756 139.5 \nL 135.031438 139.406014 \nL 144.60262 139.188466 \nL 150.983407 138.80874 \nL 155.768998 138.246088 \nL 158.959394 137.638487 \nL 162.149789 136.742976 \nL 163.744987 136.148793 \nL 165.340184 135.430785 \nL 166.935382 134.565131 \nL 168.53058 133.524354 \nL 170.125777 132.277168 \nL 171.720973 130.788573 \nL 173.316171 129.020255 \nL 174.911369 126.93145 \nL 176.506566 124.480444 \nL 178.101763 121.626776 \nL 179.696961 118.334325 \nL 181.292158 114.575179 \nL 182.887355 110.334131 \nL 184.482553 105.613387 \nL 186.07775 100.43679 \nL 189.268144 88.934648 \nL 197.244131 58.147297 \nL 198.839328 52.563206 \nL 200.434526 47.386609 \nL 202.029723 42.665865 \nL 203.62492 38.424817 \nL 205.220118 34.665672 \nL 206.815315 31.373221 \nL 208.410512 28.519552 \nL 210.00571 26.068546 \nL 211.600907 23.979742 \nL 213.196103 22.211427 \nL 214.791301 20.722829 \nL 216.386499 19.475642 \nL 217.981696 18.434865 \nL 219.576894 17.569211 \nL 221.172092 16.851203 \nL 224.362485 15.766244 \nL 227.55288 15.028165 \nL 230.743276 14.528464 \nL 235.528867 14.066512 \nL 241.909658 13.75517 \nL 251.48084 13.576953 \nL 272.218404 13.5057 \nL 318.479119 13.5 \nL 318.479119 13.5 \n\" clip-path=\"url(#pc2987a7696)\" style=\"fill: none; stroke: #1f77b4; stroke-width: 1.5; stroke-linecap: square\"/>\n   </g>\n   <g id=\"patch_3\">\n    <path d=\"M 52.160938 145.8 \nL 52.160938 7.2 \n\" style=\"fill: none; stroke: #000000; stroke-width: 0.8; stroke-linejoin: miter; stroke-linecap: square\"/>\n   </g>\n   <g id=\"patch_4\">\n    <path d=\"M 331.160937 145.8 \nL 331.160937 7.2 \n\" style=\"fill: none; stroke: #000000; stroke-width: 0.8; stroke-linejoin: miter; stroke-linecap: square\"/>\n   </g>\n   <g id=\"patch_5\">\n    <path d=\"M 52.160938 145.8 \nL 331.160938 145.8 \n\" style=\"fill: none; stroke: #000000; stroke-width: 0.8; stroke-linejoin: miter; stroke-linecap: square\"/>\n   </g>\n   <g id=\"patch_6\">\n    <path d=\"M 52.160938 7.2 \nL 331.160938 7.2 \n\" style=\"fill: none; stroke: #000000; stroke-width: 0.8; stroke-linejoin: miter; stroke-linecap: square\"/>\n   </g>\n  </g>\n </g>\n <defs>\n  <clipPath id=\"pc2987a7696\">\n   <rect x=\"52.160938\" y=\"7.2\" width=\"279\" height=\"138.6\"/>\n  </clipPath>\n </defs>\n</svg>\n"
          },
          "metadata": {}
        }
      ]
    },
    {
      "cell_type": "code",
      "source": [
        "x.grad.data.zero_()\n",
        "y.backward(torch.ones_like(x),retain_graph=True)\n",
        "d2l.plot(x.detach(), x.grad, 'x', 'grad of tanh', figsize=(5, 2.5))"
      ],
      "metadata": {
        "colab": {
          "base_uri": "https://localhost:8080/",
          "height": 264
        },
        "id": "dPBBdGdxNysm",
        "outputId": "7e336f4b-f2ab-4d18-8ded-c695bf2680d1"
      },
      "execution_count": null,
      "outputs": [
        {
          "output_type": "display_data",
          "data": {
            "text/plain": [
              "<Figure size 500x250 with 1 Axes>"
            ],
            "image/svg+xml": "<?xml version=\"1.0\" encoding=\"utf-8\" standalone=\"no\"?>\n<!DOCTYPE svg PUBLIC \"-//W3C//DTD SVG 1.1//EN\"\n  \"http://www.w3.org/Graphics/SVG/1.1/DTD/svg11.dtd\">\n<svg xmlns:xlink=\"http://www.w3.org/1999/xlink\" width=\"329.98125pt\" height=\"183.35625pt\" viewBox=\"0 0 329.98125 183.35625\" xmlns=\"http://www.w3.org/2000/svg\" version=\"1.1\">\n <metadata>\n  <rdf:RDF xmlns:dc=\"http://purl.org/dc/elements/1.1/\" xmlns:cc=\"http://creativecommons.org/ns#\" xmlns:rdf=\"http://www.w3.org/1999/02/22-rdf-syntax-ns#\">\n   <cc:Work>\n    <dc:type rdf:resource=\"http://purl.org/dc/dcmitype/StillImage\"/>\n    <dc:date>2024-09-24T04:08:25.344583</dc:date>\n    <dc:format>image/svg+xml</dc:format>\n    <dc:creator>\n     <cc:Agent>\n      <dc:title>Matplotlib v3.7.1, https://matplotlib.org/</dc:title>\n     </cc:Agent>\n    </dc:creator>\n   </cc:Work>\n  </rdf:RDF>\n </metadata>\n <defs>\n  <style type=\"text/css\">*{stroke-linejoin: round; stroke-linecap: butt}</style>\n </defs>\n <g id=\"figure_1\">\n  <g id=\"patch_1\">\n   <path d=\"M 0 183.35625 \nL 329.98125 183.35625 \nL 329.98125 0 \nL 0 0 \nz\n\" style=\"fill: #ffffff\"/>\n  </g>\n  <g id=\"axes_1\">\n   <g id=\"patch_2\">\n    <path d=\"M 43.78125 145.8 \nL 322.78125 145.8 \nL 322.78125 7.2 \nL 43.78125 7.2 \nz\n\" style=\"fill: #ffffff\"/>\n   </g>\n   <g id=\"matplotlib.axis_1\">\n    <g id=\"xtick_1\">\n     <g id=\"line2d_1\">\n      <path d=\"M 56.463068 145.8 \nL 56.463068 7.2 \n\" clip-path=\"url(#p8d6454e0c9)\" style=\"fill: none; stroke: #b0b0b0; stroke-width: 0.8; stroke-linecap: square\"/>\n     </g>\n     <g id=\"line2d_2\">\n      <defs>\n       <path id=\"medfe33bc13\" d=\"M 0 0 \nL 0 3.5 \n\" style=\"stroke: #000000; stroke-width: 0.8\"/>\n      </defs>\n      <g>\n       <use xlink:href=\"#medfe33bc13\" x=\"56.463068\" y=\"145.8\" style=\"stroke: #000000; stroke-width: 0.8\"/>\n      </g>\n     </g>\n     <g id=\"text_1\">\n      <!-- −8 -->\n      <g transform=\"translate(49.091974 160.398438) scale(0.1 -0.1)\">\n       <defs>\n        <path id=\"DejaVuSans-2212\" d=\"M 678 2272 \nL 4684 2272 \nL 4684 1741 \nL 678 1741 \nL 678 2272 \nz\n\" transform=\"scale(0.015625)\"/>\n        <path id=\"DejaVuSans-38\" d=\"M 2034 2216 \nQ 1584 2216 1326 1975 \nQ 1069 1734 1069 1313 \nQ 1069 891 1326 650 \nQ 1584 409 2034 409 \nQ 2484 409 2743 651 \nQ 3003 894 3003 1313 \nQ 3003 1734 2745 1975 \nQ 2488 2216 2034 2216 \nz\nM 1403 2484 \nQ 997 2584 770 2862 \nQ 544 3141 544 3541 \nQ 544 4100 942 4425 \nQ 1341 4750 2034 4750 \nQ 2731 4750 3128 4425 \nQ 3525 4100 3525 3541 \nQ 3525 3141 3298 2862 \nQ 3072 2584 2669 2484 \nQ 3125 2378 3379 2068 \nQ 3634 1759 3634 1313 \nQ 3634 634 3220 271 \nQ 2806 -91 2034 -91 \nQ 1263 -91 848 271 \nQ 434 634 434 1313 \nQ 434 1759 690 2068 \nQ 947 2378 1403 2484 \nz\nM 1172 3481 \nQ 1172 3119 1398 2916 \nQ 1625 2713 2034 2713 \nQ 2441 2713 2670 2916 \nQ 2900 3119 2900 3481 \nQ 2900 3844 2670 4047 \nQ 2441 4250 2034 4250 \nQ 1625 4250 1398 4047 \nQ 1172 3844 1172 3481 \nz\n\" transform=\"scale(0.015625)\"/>\n       </defs>\n       <use xlink:href=\"#DejaVuSans-2212\"/>\n       <use xlink:href=\"#DejaVuSans-38\" x=\"83.789062\"/>\n      </g>\n     </g>\n    </g>\n    <g id=\"xtick_2\">\n     <g id=\"line2d_3\">\n      <path d=\"M 88.367014 145.8 \nL 88.367014 7.2 \n\" clip-path=\"url(#p8d6454e0c9)\" style=\"fill: none; stroke: #b0b0b0; stroke-width: 0.8; stroke-linecap: square\"/>\n     </g>\n     <g id=\"line2d_4\">\n      <g>\n       <use xlink:href=\"#medfe33bc13\" x=\"88.367014\" y=\"145.8\" style=\"stroke: #000000; stroke-width: 0.8\"/>\n      </g>\n     </g>\n     <g id=\"text_2\">\n      <!-- −6 -->\n      <g transform=\"translate(80.99592 160.398438) scale(0.1 -0.1)\">\n       <defs>\n        <path id=\"DejaVuSans-36\" d=\"M 2113 2584 \nQ 1688 2584 1439 2293 \nQ 1191 2003 1191 1497 \nQ 1191 994 1439 701 \nQ 1688 409 2113 409 \nQ 2538 409 2786 701 \nQ 3034 994 3034 1497 \nQ 3034 2003 2786 2293 \nQ 2538 2584 2113 2584 \nz\nM 3366 4563 \nL 3366 3988 \nQ 3128 4100 2886 4159 \nQ 2644 4219 2406 4219 \nQ 1781 4219 1451 3797 \nQ 1122 3375 1075 2522 \nQ 1259 2794 1537 2939 \nQ 1816 3084 2150 3084 \nQ 2853 3084 3261 2657 \nQ 3669 2231 3669 1497 \nQ 3669 778 3244 343 \nQ 2819 -91 2113 -91 \nQ 1303 -91 875 529 \nQ 447 1150 447 2328 \nQ 447 3434 972 4092 \nQ 1497 4750 2381 4750 \nQ 2619 4750 2861 4703 \nQ 3103 4656 3366 4563 \nz\n\" transform=\"scale(0.015625)\"/>\n       </defs>\n       <use xlink:href=\"#DejaVuSans-2212\"/>\n       <use xlink:href=\"#DejaVuSans-36\" x=\"83.789062\"/>\n      </g>\n     </g>\n    </g>\n    <g id=\"xtick_3\">\n     <g id=\"line2d_5\">\n      <path d=\"M 120.27096 145.8 \nL 120.27096 7.2 \n\" clip-path=\"url(#p8d6454e0c9)\" style=\"fill: none; stroke: #b0b0b0; stroke-width: 0.8; stroke-linecap: square\"/>\n     </g>\n     <g id=\"line2d_6\">\n      <g>\n       <use xlink:href=\"#medfe33bc13\" x=\"120.27096\" y=\"145.8\" style=\"stroke: #000000; stroke-width: 0.8\"/>\n      </g>\n     </g>\n     <g id=\"text_3\">\n      <!-- −4 -->\n      <g transform=\"translate(112.899866 160.398438) scale(0.1 -0.1)\">\n       <defs>\n        <path id=\"DejaVuSans-34\" d=\"M 2419 4116 \nL 825 1625 \nL 2419 1625 \nL 2419 4116 \nz\nM 2253 4666 \nL 3047 4666 \nL 3047 1625 \nL 3713 1625 \nL 3713 1100 \nL 3047 1100 \nL 3047 0 \nL 2419 0 \nL 2419 1100 \nL 313 1100 \nL 313 1709 \nL 2253 4666 \nz\n\" transform=\"scale(0.015625)\"/>\n       </defs>\n       <use xlink:href=\"#DejaVuSans-2212\"/>\n       <use xlink:href=\"#DejaVuSans-34\" x=\"83.789062\"/>\n      </g>\n     </g>\n    </g>\n    <g id=\"xtick_4\">\n     <g id=\"line2d_7\">\n      <path d=\"M 152.174906 145.8 \nL 152.174906 7.2 \n\" clip-path=\"url(#p8d6454e0c9)\" style=\"fill: none; stroke: #b0b0b0; stroke-width: 0.8; stroke-linecap: square\"/>\n     </g>\n     <g id=\"line2d_8\">\n      <g>\n       <use xlink:href=\"#medfe33bc13\" x=\"152.174906\" y=\"145.8\" style=\"stroke: #000000; stroke-width: 0.8\"/>\n      </g>\n     </g>\n     <g id=\"text_4\">\n      <!-- −2 -->\n      <g transform=\"translate(144.803812 160.398438) scale(0.1 -0.1)\">\n       <defs>\n        <path id=\"DejaVuSans-32\" d=\"M 1228 531 \nL 3431 531 \nL 3431 0 \nL 469 0 \nL 469 531 \nQ 828 903 1448 1529 \nQ 2069 2156 2228 2338 \nQ 2531 2678 2651 2914 \nQ 2772 3150 2772 3378 \nQ 2772 3750 2511 3984 \nQ 2250 4219 1831 4219 \nQ 1534 4219 1204 4116 \nQ 875 4013 500 3803 \nL 500 4441 \nQ 881 4594 1212 4672 \nQ 1544 4750 1819 4750 \nQ 2544 4750 2975 4387 \nQ 3406 4025 3406 3419 \nQ 3406 3131 3298 2873 \nQ 3191 2616 2906 2266 \nQ 2828 2175 2409 1742 \nQ 1991 1309 1228 531 \nz\n\" transform=\"scale(0.015625)\"/>\n       </defs>\n       <use xlink:href=\"#DejaVuSans-2212\"/>\n       <use xlink:href=\"#DejaVuSans-32\" x=\"83.789062\"/>\n      </g>\n     </g>\n    </g>\n    <g id=\"xtick_5\">\n     <g id=\"line2d_9\">\n      <path d=\"M 184.078852 145.8 \nL 184.078852 7.2 \n\" clip-path=\"url(#p8d6454e0c9)\" style=\"fill: none; stroke: #b0b0b0; stroke-width: 0.8; stroke-linecap: square\"/>\n     </g>\n     <g id=\"line2d_10\">\n      <g>\n       <use xlink:href=\"#medfe33bc13\" x=\"184.078852\" y=\"145.8\" style=\"stroke: #000000; stroke-width: 0.8\"/>\n      </g>\n     </g>\n     <g id=\"text_5\">\n      <!-- 0 -->\n      <g transform=\"translate(180.897602 160.398438) scale(0.1 -0.1)\">\n       <defs>\n        <path id=\"DejaVuSans-30\" d=\"M 2034 4250 \nQ 1547 4250 1301 3770 \nQ 1056 3291 1056 2328 \nQ 1056 1369 1301 889 \nQ 1547 409 2034 409 \nQ 2525 409 2770 889 \nQ 3016 1369 3016 2328 \nQ 3016 3291 2770 3770 \nQ 2525 4250 2034 4250 \nz\nM 2034 4750 \nQ 2819 4750 3233 4129 \nQ 3647 3509 3647 2328 \nQ 3647 1150 3233 529 \nQ 2819 -91 2034 -91 \nQ 1250 -91 836 529 \nQ 422 1150 422 2328 \nQ 422 3509 836 4129 \nQ 1250 4750 2034 4750 \nz\n\" transform=\"scale(0.015625)\"/>\n       </defs>\n       <use xlink:href=\"#DejaVuSans-30\"/>\n      </g>\n     </g>\n    </g>\n    <g id=\"xtick_6\">\n     <g id=\"line2d_11\">\n      <path d=\"M 215.982798 145.8 \nL 215.982798 7.2 \n\" clip-path=\"url(#p8d6454e0c9)\" style=\"fill: none; stroke: #b0b0b0; stroke-width: 0.8; stroke-linecap: square\"/>\n     </g>\n     <g id=\"line2d_12\">\n      <g>\n       <use xlink:href=\"#medfe33bc13\" x=\"215.982798\" y=\"145.8\" style=\"stroke: #000000; stroke-width: 0.8\"/>\n      </g>\n     </g>\n     <g id=\"text_6\">\n      <!-- 2 -->\n      <g transform=\"translate(212.801548 160.398438) scale(0.1 -0.1)\">\n       <use xlink:href=\"#DejaVuSans-32\"/>\n      </g>\n     </g>\n    </g>\n    <g id=\"xtick_7\">\n     <g id=\"line2d_13\">\n      <path d=\"M 247.886743 145.8 \nL 247.886743 7.2 \n\" clip-path=\"url(#p8d6454e0c9)\" style=\"fill: none; stroke: #b0b0b0; stroke-width: 0.8; stroke-linecap: square\"/>\n     </g>\n     <g id=\"line2d_14\">\n      <g>\n       <use xlink:href=\"#medfe33bc13\" x=\"247.886743\" y=\"145.8\" style=\"stroke: #000000; stroke-width: 0.8\"/>\n      </g>\n     </g>\n     <g id=\"text_7\">\n      <!-- 4 -->\n      <g transform=\"translate(244.705493 160.398438) scale(0.1 -0.1)\">\n       <use xlink:href=\"#DejaVuSans-34\"/>\n      </g>\n     </g>\n    </g>\n    <g id=\"xtick_8\">\n     <g id=\"line2d_15\">\n      <path d=\"M 279.790689 145.8 \nL 279.790689 7.2 \n\" clip-path=\"url(#p8d6454e0c9)\" style=\"fill: none; stroke: #b0b0b0; stroke-width: 0.8; stroke-linecap: square\"/>\n     </g>\n     <g id=\"line2d_16\">\n      <g>\n       <use xlink:href=\"#medfe33bc13\" x=\"279.790689\" y=\"145.8\" style=\"stroke: #000000; stroke-width: 0.8\"/>\n      </g>\n     </g>\n     <g id=\"text_8\">\n      <!-- 6 -->\n      <g transform=\"translate(276.609439 160.398438) scale(0.1 -0.1)\">\n       <use xlink:href=\"#DejaVuSans-36\"/>\n      </g>\n     </g>\n    </g>\n    <g id=\"xtick_9\">\n     <g id=\"line2d_17\">\n      <path d=\"M 311.694635 145.8 \nL 311.694635 7.2 \n\" clip-path=\"url(#p8d6454e0c9)\" style=\"fill: none; stroke: #b0b0b0; stroke-width: 0.8; stroke-linecap: square\"/>\n     </g>\n     <g id=\"line2d_18\">\n      <g>\n       <use xlink:href=\"#medfe33bc13\" x=\"311.694635\" y=\"145.8\" style=\"stroke: #000000; stroke-width: 0.8\"/>\n      </g>\n     </g>\n     <g id=\"text_9\">\n      <!-- 8 -->\n      <g transform=\"translate(308.513385 160.398438) scale(0.1 -0.1)\">\n       <use xlink:href=\"#DejaVuSans-38\"/>\n      </g>\n     </g>\n    </g>\n    <g id=\"text_10\">\n     <!-- x -->\n     <g transform=\"translate(180.321875 174.076563) scale(0.1 -0.1)\">\n      <defs>\n       <path id=\"DejaVuSans-78\" d=\"M 3513 3500 \nL 2247 1797 \nL 3578 0 \nL 2900 0 \nL 1881 1375 \nL 863 0 \nL 184 0 \nL 1544 1831 \nL 300 3500 \nL 978 3500 \nL 1906 2253 \nL 2834 3500 \nL 3513 3500 \nz\n\" transform=\"scale(0.015625)\"/>\n      </defs>\n      <use xlink:href=\"#DejaVuSans-78\"/>\n     </g>\n    </g>\n   </g>\n   <g id=\"matplotlib.axis_2\">\n    <g id=\"ytick_1\">\n     <g id=\"line2d_19\">\n      <path d=\"M 43.78125 139.50006 \nL 322.78125 139.50006 \n\" clip-path=\"url(#p8d6454e0c9)\" style=\"fill: none; stroke: #b0b0b0; stroke-width: 0.8; stroke-linecap: square\"/>\n     </g>\n     <g id=\"line2d_20\">\n      <defs>\n       <path id=\"mde5bf98ad5\" d=\"M 0 0 \nL -3.5 0 \n\" style=\"stroke: #000000; stroke-width: 0.8\"/>\n      </defs>\n      <g>\n       <use xlink:href=\"#mde5bf98ad5\" x=\"43.78125\" y=\"139.50006\" style=\"stroke: #000000; stroke-width: 0.8\"/>\n      </g>\n     </g>\n     <g id=\"text_11\">\n      <!-- 0.0 -->\n      <g transform=\"translate(20.878125 143.299279) scale(0.1 -0.1)\">\n       <defs>\n        <path id=\"DejaVuSans-2e\" d=\"M 684 794 \nL 1344 794 \nL 1344 0 \nL 684 0 \nL 684 794 \nz\n\" transform=\"scale(0.015625)\"/>\n       </defs>\n       <use xlink:href=\"#DejaVuSans-30\"/>\n       <use xlink:href=\"#DejaVuSans-2e\" x=\"63.623047\"/>\n       <use xlink:href=\"#DejaVuSans-30\" x=\"95.410156\"/>\n      </g>\n     </g>\n    </g>\n    <g id=\"ytick_2\">\n     <g id=\"line2d_21\">\n      <path d=\"M 43.78125 114.300048 \nL 322.78125 114.300048 \n\" clip-path=\"url(#p8d6454e0c9)\" style=\"fill: none; stroke: #b0b0b0; stroke-width: 0.8; stroke-linecap: square\"/>\n     </g>\n     <g id=\"line2d_22\">\n      <g>\n       <use xlink:href=\"#mde5bf98ad5\" x=\"43.78125\" y=\"114.300048\" style=\"stroke: #000000; stroke-width: 0.8\"/>\n      </g>\n     </g>\n     <g id=\"text_12\">\n      <!-- 0.2 -->\n      <g transform=\"translate(20.878125 118.099267) scale(0.1 -0.1)\">\n       <use xlink:href=\"#DejaVuSans-30\"/>\n       <use xlink:href=\"#DejaVuSans-2e\" x=\"63.623047\"/>\n       <use xlink:href=\"#DejaVuSans-32\" x=\"95.410156\"/>\n      </g>\n     </g>\n    </g>\n    <g id=\"ytick_3\">\n     <g id=\"line2d_23\">\n      <path d=\"M 43.78125 89.100036 \nL 322.78125 89.100036 \n\" clip-path=\"url(#p8d6454e0c9)\" style=\"fill: none; stroke: #b0b0b0; stroke-width: 0.8; stroke-linecap: square\"/>\n     </g>\n     <g id=\"line2d_24\">\n      <g>\n       <use xlink:href=\"#mde5bf98ad5\" x=\"43.78125\" y=\"89.100036\" style=\"stroke: #000000; stroke-width: 0.8\"/>\n      </g>\n     </g>\n     <g id=\"text_13\">\n      <!-- 0.4 -->\n      <g transform=\"translate(20.878125 92.899255) scale(0.1 -0.1)\">\n       <use xlink:href=\"#DejaVuSans-30\"/>\n       <use xlink:href=\"#DejaVuSans-2e\" x=\"63.623047\"/>\n       <use xlink:href=\"#DejaVuSans-34\" x=\"95.410156\"/>\n      </g>\n     </g>\n    </g>\n    <g id=\"ytick_4\">\n     <g id=\"line2d_25\">\n      <path d=\"M 43.78125 63.900024 \nL 322.78125 63.900024 \n\" clip-path=\"url(#p8d6454e0c9)\" style=\"fill: none; stroke: #b0b0b0; stroke-width: 0.8; stroke-linecap: square\"/>\n     </g>\n     <g id=\"line2d_26\">\n      <g>\n       <use xlink:href=\"#mde5bf98ad5\" x=\"43.78125\" y=\"63.900024\" style=\"stroke: #000000; stroke-width: 0.8\"/>\n      </g>\n     </g>\n     <g id=\"text_14\">\n      <!-- 0.6 -->\n      <g transform=\"translate(20.878125 67.699243) scale(0.1 -0.1)\">\n       <use xlink:href=\"#DejaVuSans-30\"/>\n       <use xlink:href=\"#DejaVuSans-2e\" x=\"63.623047\"/>\n       <use xlink:href=\"#DejaVuSans-36\" x=\"95.410156\"/>\n      </g>\n     </g>\n    </g>\n    <g id=\"ytick_5\">\n     <g id=\"line2d_27\">\n      <path d=\"M 43.78125 38.700012 \nL 322.78125 38.700012 \n\" clip-path=\"url(#p8d6454e0c9)\" style=\"fill: none; stroke: #b0b0b0; stroke-width: 0.8; stroke-linecap: square\"/>\n     </g>\n     <g id=\"line2d_28\">\n      <g>\n       <use xlink:href=\"#mde5bf98ad5\" x=\"43.78125\" y=\"38.700012\" style=\"stroke: #000000; stroke-width: 0.8\"/>\n      </g>\n     </g>\n     <g id=\"text_15\">\n      <!-- 0.8 -->\n      <g transform=\"translate(20.878125 42.499231) scale(0.1 -0.1)\">\n       <use xlink:href=\"#DejaVuSans-30\"/>\n       <use xlink:href=\"#DejaVuSans-2e\" x=\"63.623047\"/>\n       <use xlink:href=\"#DejaVuSans-38\" x=\"95.410156\"/>\n      </g>\n     </g>\n    </g>\n    <g id=\"ytick_6\">\n     <g id=\"line2d_29\">\n      <path d=\"M 43.78125 13.5 \nL 322.78125 13.5 \n\" clip-path=\"url(#p8d6454e0c9)\" style=\"fill: none; stroke: #b0b0b0; stroke-width: 0.8; stroke-linecap: square\"/>\n     </g>\n     <g id=\"line2d_30\">\n      <g>\n       <use xlink:href=\"#mde5bf98ad5\" x=\"43.78125\" y=\"13.5\" style=\"stroke: #000000; stroke-width: 0.8\"/>\n      </g>\n     </g>\n     <g id=\"text_16\">\n      <!-- 1.0 -->\n      <g transform=\"translate(20.878125 17.299219) scale(0.1 -0.1)\">\n       <defs>\n        <path id=\"DejaVuSans-31\" d=\"M 794 531 \nL 1825 531 \nL 1825 4091 \nL 703 3866 \nL 703 4441 \nL 1819 4666 \nL 2450 4666 \nL 2450 531 \nL 3481 531 \nL 3481 0 \nL 794 0 \nL 794 531 \nz\n\" transform=\"scale(0.015625)\"/>\n       </defs>\n       <use xlink:href=\"#DejaVuSans-31\"/>\n       <use xlink:href=\"#DejaVuSans-2e\" x=\"63.623047\"/>\n       <use xlink:href=\"#DejaVuSans-30\" x=\"95.410156\"/>\n      </g>\n     </g>\n    </g>\n    <g id=\"text_17\">\n     <!-- grad of tanh -->\n     <g transform=\"translate(14.798438 107.327344) rotate(-90) scale(0.1 -0.1)\">\n      <defs>\n       <path id=\"DejaVuSans-67\" d=\"M 2906 1791 \nQ 2906 2416 2648 2759 \nQ 2391 3103 1925 3103 \nQ 1463 3103 1205 2759 \nQ 947 2416 947 1791 \nQ 947 1169 1205 825 \nQ 1463 481 1925 481 \nQ 2391 481 2648 825 \nQ 2906 1169 2906 1791 \nz\nM 3481 434 \nQ 3481 -459 3084 -895 \nQ 2688 -1331 1869 -1331 \nQ 1566 -1331 1297 -1286 \nQ 1028 -1241 775 -1147 \nL 775 -588 \nQ 1028 -725 1275 -790 \nQ 1522 -856 1778 -856 \nQ 2344 -856 2625 -561 \nQ 2906 -266 2906 331 \nL 2906 616 \nQ 2728 306 2450 153 \nQ 2172 0 1784 0 \nQ 1141 0 747 490 \nQ 353 981 353 1791 \nQ 353 2603 747 3093 \nQ 1141 3584 1784 3584 \nQ 2172 3584 2450 3431 \nQ 2728 3278 2906 2969 \nL 2906 3500 \nL 3481 3500 \nL 3481 434 \nz\n\" transform=\"scale(0.015625)\"/>\n       <path id=\"DejaVuSans-72\" d=\"M 2631 2963 \nQ 2534 3019 2420 3045 \nQ 2306 3072 2169 3072 \nQ 1681 3072 1420 2755 \nQ 1159 2438 1159 1844 \nL 1159 0 \nL 581 0 \nL 581 3500 \nL 1159 3500 \nL 1159 2956 \nQ 1341 3275 1631 3429 \nQ 1922 3584 2338 3584 \nQ 2397 3584 2469 3576 \nQ 2541 3569 2628 3553 \nL 2631 2963 \nz\n\" transform=\"scale(0.015625)\"/>\n       <path id=\"DejaVuSans-61\" d=\"M 2194 1759 \nQ 1497 1759 1228 1600 \nQ 959 1441 959 1056 \nQ 959 750 1161 570 \nQ 1363 391 1709 391 \nQ 2188 391 2477 730 \nQ 2766 1069 2766 1631 \nL 2766 1759 \nL 2194 1759 \nz\nM 3341 1997 \nL 3341 0 \nL 2766 0 \nL 2766 531 \nQ 2569 213 2275 61 \nQ 1981 -91 1556 -91 \nQ 1019 -91 701 211 \nQ 384 513 384 1019 \nQ 384 1609 779 1909 \nQ 1175 2209 1959 2209 \nL 2766 2209 \nL 2766 2266 \nQ 2766 2663 2505 2880 \nQ 2244 3097 1772 3097 \nQ 1472 3097 1187 3025 \nQ 903 2953 641 2809 \nL 641 3341 \nQ 956 3463 1253 3523 \nQ 1550 3584 1831 3584 \nQ 2591 3584 2966 3190 \nQ 3341 2797 3341 1997 \nz\n\" transform=\"scale(0.015625)\"/>\n       <path id=\"DejaVuSans-64\" d=\"M 2906 2969 \nL 2906 4863 \nL 3481 4863 \nL 3481 0 \nL 2906 0 \nL 2906 525 \nQ 2725 213 2448 61 \nQ 2172 -91 1784 -91 \nQ 1150 -91 751 415 \nQ 353 922 353 1747 \nQ 353 2572 751 3078 \nQ 1150 3584 1784 3584 \nQ 2172 3584 2448 3432 \nQ 2725 3281 2906 2969 \nz\nM 947 1747 \nQ 947 1113 1208 752 \nQ 1469 391 1925 391 \nQ 2381 391 2643 752 \nQ 2906 1113 2906 1747 \nQ 2906 2381 2643 2742 \nQ 2381 3103 1925 3103 \nQ 1469 3103 1208 2742 \nQ 947 2381 947 1747 \nz\n\" transform=\"scale(0.015625)\"/>\n       <path id=\"DejaVuSans-20\" transform=\"scale(0.015625)\"/>\n       <path id=\"DejaVuSans-6f\" d=\"M 1959 3097 \nQ 1497 3097 1228 2736 \nQ 959 2375 959 1747 \nQ 959 1119 1226 758 \nQ 1494 397 1959 397 \nQ 2419 397 2687 759 \nQ 2956 1122 2956 1747 \nQ 2956 2369 2687 2733 \nQ 2419 3097 1959 3097 \nz\nM 1959 3584 \nQ 2709 3584 3137 3096 \nQ 3566 2609 3566 1747 \nQ 3566 888 3137 398 \nQ 2709 -91 1959 -91 \nQ 1206 -91 779 398 \nQ 353 888 353 1747 \nQ 353 2609 779 3096 \nQ 1206 3584 1959 3584 \nz\n\" transform=\"scale(0.015625)\"/>\n       <path id=\"DejaVuSans-66\" d=\"M 2375 4863 \nL 2375 4384 \nL 1825 4384 \nQ 1516 4384 1395 4259 \nQ 1275 4134 1275 3809 \nL 1275 3500 \nL 2222 3500 \nL 2222 3053 \nL 1275 3053 \nL 1275 0 \nL 697 0 \nL 697 3053 \nL 147 3053 \nL 147 3500 \nL 697 3500 \nL 697 3744 \nQ 697 4328 969 4595 \nQ 1241 4863 1831 4863 \nL 2375 4863 \nz\n\" transform=\"scale(0.015625)\"/>\n       <path id=\"DejaVuSans-74\" d=\"M 1172 4494 \nL 1172 3500 \nL 2356 3500 \nL 2356 3053 \nL 1172 3053 \nL 1172 1153 \nQ 1172 725 1289 603 \nQ 1406 481 1766 481 \nL 2356 481 \nL 2356 0 \nL 1766 0 \nQ 1100 0 847 248 \nQ 594 497 594 1153 \nL 594 3053 \nL 172 3053 \nL 172 3500 \nL 594 3500 \nL 594 4494 \nL 1172 4494 \nz\n\" transform=\"scale(0.015625)\"/>\n       <path id=\"DejaVuSans-6e\" d=\"M 3513 2113 \nL 3513 0 \nL 2938 0 \nL 2938 2094 \nQ 2938 2591 2744 2837 \nQ 2550 3084 2163 3084 \nQ 1697 3084 1428 2787 \nQ 1159 2491 1159 1978 \nL 1159 0 \nL 581 0 \nL 581 3500 \nL 1159 3500 \nL 1159 2956 \nQ 1366 3272 1645 3428 \nQ 1925 3584 2291 3584 \nQ 2894 3584 3203 3211 \nQ 3513 2838 3513 2113 \nz\n\" transform=\"scale(0.015625)\"/>\n       <path id=\"DejaVuSans-68\" d=\"M 3513 2113 \nL 3513 0 \nL 2938 0 \nL 2938 2094 \nQ 2938 2591 2744 2837 \nQ 2550 3084 2163 3084 \nQ 1697 3084 1428 2787 \nQ 1159 2491 1159 1978 \nL 1159 0 \nL 581 0 \nL 581 4863 \nL 1159 4863 \nL 1159 2956 \nQ 1366 3272 1645 3428 \nQ 1925 3584 2291 3584 \nQ 2894 3584 3203 3211 \nQ 3513 2838 3513 2113 \nz\n\" transform=\"scale(0.015625)\"/>\n      </defs>\n      <use xlink:href=\"#DejaVuSans-67\"/>\n      <use xlink:href=\"#DejaVuSans-72\" x=\"63.476562\"/>\n      <use xlink:href=\"#DejaVuSans-61\" x=\"104.589844\"/>\n      <use xlink:href=\"#DejaVuSans-64\" x=\"165.869141\"/>\n      <use xlink:href=\"#DejaVuSans-20\" x=\"229.345703\"/>\n      <use xlink:href=\"#DejaVuSans-6f\" x=\"261.132812\"/>\n      <use xlink:href=\"#DejaVuSans-66\" x=\"322.314453\"/>\n      <use xlink:href=\"#DejaVuSans-20\" x=\"357.519531\"/>\n      <use xlink:href=\"#DejaVuSans-74\" x=\"389.306641\"/>\n      <use xlink:href=\"#DejaVuSans-61\" x=\"428.515625\"/>\n      <use xlink:href=\"#DejaVuSans-6e\" x=\"489.794922\"/>\n      <use xlink:href=\"#DejaVuSans-68\" x=\"553.173828\"/>\n     </g>\n    </g>\n   </g>\n   <g id=\"line2d_31\">\n    <path d=\"M 56.463068 139.5 \nL 115.485365 139.407311 \nL 125.056551 139.19236 \nL 131.437342 138.816301 \nL 136.222933 138.256946 \nL 139.413328 137.650037 \nL 142.60372 136.750129 \nL 144.198919 136.149435 \nL 145.794115 135.419709 \nL 147.389311 134.534266 \nL 148.98451 133.46146 \nL 150.579706 132.163957 \nL 152.174906 130.598053 \nL 153.770102 128.713213 \nL 155.365299 126.451699 \nL 156.960497 123.748808 \nL 158.555695 120.533634 \nL 160.150892 116.731015 \nL 161.74609 112.264839 \nL 163.341286 107.063468 \nL 164.936483 101.067529 \nL 166.531681 94.240673 \nL 168.126879 86.583273 \nL 169.722075 78.148441 \nL 172.912471 59.522835 \nL 176.102865 40.407602 \nL 177.698062 31.68952 \nL 179.29326 24.192751 \nL 180.888457 18.408584 \nL 182.483654 14.751648 \nL 184.078852 13.5 \nL 185.674049 14.751648 \nL 187.269246 18.408584 \nL 188.864444 24.192751 \nL 190.459641 31.68952 \nL 192.054838 40.407602 \nL 198.435628 78.148441 \nL 200.030825 86.583273 \nL 201.626022 94.240673 \nL 203.22122 101.067529 \nL 204.816416 107.063453 \nL 206.411613 112.264839 \nL 208.006811 116.731015 \nL 209.602009 120.533634 \nL 211.197206 123.748808 \nL 212.792404 126.451699 \nL 214.3876 128.713199 \nL 215.982798 130.598053 \nL 217.577993 132.163957 \nL 219.173193 133.46146 \nL 220.768389 134.534266 \nL 222.363588 135.419709 \nL 223.958784 136.149435 \nL 227.149179 137.244125 \nL 230.339575 137.983373 \nL 233.52997 138.481373 \nL 238.315561 138.939958 \nL 244.696348 139.248084 \nL 254.267534 139.424113 \nL 275.005094 139.494412 \nL 310.099432 139.499985 \nL 310.099432 139.499985 \n\" clip-path=\"url(#p8d6454e0c9)\" style=\"fill: none; stroke: #1f77b4; stroke-width: 1.5; stroke-linecap: square\"/>\n   </g>\n   <g id=\"patch_3\">\n    <path d=\"M 43.78125 145.8 \nL 43.78125 7.2 \n\" style=\"fill: none; stroke: #000000; stroke-width: 0.8; stroke-linejoin: miter; stroke-linecap: square\"/>\n   </g>\n   <g id=\"patch_4\">\n    <path d=\"M 322.78125 145.8 \nL 322.78125 7.2 \n\" style=\"fill: none; stroke: #000000; stroke-width: 0.8; stroke-linejoin: miter; stroke-linecap: square\"/>\n   </g>\n   <g id=\"patch_5\">\n    <path d=\"M 43.78125 145.8 \nL 322.78125 145.8 \n\" style=\"fill: none; stroke: #000000; stroke-width: 0.8; stroke-linejoin: miter; stroke-linecap: square\"/>\n   </g>\n   <g id=\"patch_6\">\n    <path d=\"M 43.78125 7.2 \nL 322.78125 7.2 \n\" style=\"fill: none; stroke: #000000; stroke-width: 0.8; stroke-linejoin: miter; stroke-linecap: square\"/>\n   </g>\n  </g>\n </g>\n <defs>\n  <clipPath id=\"p8d6454e0c9\">\n   <rect x=\"43.78125\" y=\"7.2\" width=\"279\" height=\"138.6\"/>\n  </clipPath>\n </defs>\n</svg>\n"
          },
          "metadata": {}
        }
      ]
    },
    {
      "cell_type": "markdown",
      "source": [
        "## exercise"
      ],
      "metadata": {
        "id": "qaL1ZfP96m0F"
      }
    },
    {
      "cell_type": "markdown",
      "source": [
        "7. When x -> inf or x -> -inf, the sigmoid function is very flat, as converging to +-1. Also, the gradient itself is usually smaller than 1. If this get repeatedly multiplied, the gradient will keep decreasing, thus disappearing. We can use ReLU to counteract these issues."
      ],
      "metadata": {
        "id": "WfBPDvW06o7l"
      }
    },
    {
      "cell_type": "markdown",
      "source": [
        "# 5.2"
      ],
      "metadata": {
        "id": "ZWrE9iNtN4gg"
      }
    },
    {
      "cell_type": "markdown",
      "source": [
        "## code"
      ],
      "metadata": {
        "id": "BShTQGW2N6Ek"
      }
    },
    {
      "cell_type": "code",
      "source": [
        "import torch\n",
        "from torch import nn\n",
        "from d2l import torch as d2l"
      ],
      "metadata": {
        "id": "hVSe4uOWNz6q"
      },
      "execution_count": null,
      "outputs": []
    },
    {
      "cell_type": "code",
      "source": [
        "class MLPScratch(d2l.Classifier):\n",
        "    def __init__(self, num_inputs, num_outputs, num_hiddens, lr, sigma=0.01):\n",
        "        super().__init__()\n",
        "        self.save_hyperparameters()\n",
        "        self.W1 = nn.Parameter(torch.randn(num_inputs, num_hiddens) * sigma)\n",
        "        self.b1 = nn.Parameter(torch.zeros(num_hiddens))\n",
        "        self.W2 = nn.Parameter(torch.randn(num_hiddens, num_outputs) * sigma)\n",
        "        self.b2 = nn.Parameter(torch.zeros(num_outputs))"
      ],
      "metadata": {
        "id": "KGHqLjDGN8KD"
      },
      "execution_count": null,
      "outputs": []
    },
    {
      "cell_type": "code",
      "source": [
        "def relu(X):\n",
        "    a = torch.zeros_like(X)\n",
        "    return torch.max(X, a)"
      ],
      "metadata": {
        "id": "tErGVNGqOAKH"
      },
      "execution_count": null,
      "outputs": []
    },
    {
      "cell_type": "code",
      "source": [
        "@d2l.add_to_class(MLPScratch)\n",
        "def forward(self, X):\n",
        "    X = X.reshape((-1, self.num_inputs))\n",
        "    H = relu(torch.matmul(X, self.W1) + self.b1)\n",
        "    return torch.matmul(H, self.W2) + self.b2"
      ],
      "metadata": {
        "id": "JLsH0bUqOBO_"
      },
      "execution_count": null,
      "outputs": []
    },
    {
      "cell_type": "code",
      "source": [
        "model = MLPScratch(num_inputs=784, num_outputs=10, num_hiddens=256, lr=0.1)\n",
        "data = d2l.FashionMNIST(batch_size=256)\n",
        "trainer = d2l.Trainer(max_epochs=10)\n",
        "trainer.fit(model, data)"
      ],
      "metadata": {
        "colab": {
          "base_uri": "https://localhost:8080/",
          "height": 265
        },
        "id": "Hi_FxkQxOCug",
        "outputId": "eec2cde4-f832-49fb-f46e-ae841aaf2801"
      },
      "execution_count": null,
      "outputs": [
        {
          "output_type": "display_data",
          "data": {
            "text/plain": [
              "<Figure size 350x250 with 1 Axes>"
            ],
            "image/svg+xml": "<?xml version=\"1.0\" encoding=\"utf-8\" standalone=\"no\"?>\n<!DOCTYPE svg PUBLIC \"-//W3C//DTD SVG 1.1//EN\"\n  \"http://www.w3.org/Graphics/SVG/1.1/DTD/svg11.dtd\">\n<svg xmlns:xlink=\"http://www.w3.org/1999/xlink\" width=\"238.965625pt\" height=\"183.35625pt\" viewBox=\"0 0 238.965625 183.35625\" xmlns=\"http://www.w3.org/2000/svg\" version=\"1.1\">\n <metadata>\n  <rdf:RDF xmlns:dc=\"http://purl.org/dc/elements/1.1/\" xmlns:cc=\"http://creativecommons.org/ns#\" xmlns:rdf=\"http://www.w3.org/1999/02/22-rdf-syntax-ns#\">\n   <cc:Work>\n    <dc:type rdf:resource=\"http://purl.org/dc/dcmitype/StillImage\"/>\n    <dc:date>2024-09-24T12:17:10.873148</dc:date>\n    <dc:format>image/svg+xml</dc:format>\n    <dc:creator>\n     <cc:Agent>\n      <dc:title>Matplotlib v3.7.2, https://matplotlib.org/</dc:title>\n     </cc:Agent>\n    </dc:creator>\n   </cc:Work>\n  </rdf:RDF>\n </metadata>\n <defs>\n  <style type=\"text/css\">*{stroke-linejoin: round; stroke-linecap: butt}</style>\n </defs>\n <g id=\"figure_1\">\n  <g id=\"patch_1\">\n   <path d=\"M 0 183.35625 \nL 238.965625 183.35625 \nL 238.965625 0 \nL 0 0 \nz\n\" style=\"fill: #ffffff\"/>\n  </g>\n  <g id=\"axes_1\">\n   <g id=\"patch_2\">\n    <path d=\"M 30.103125 145.8 \nL 225.403125 145.8 \nL 225.403125 7.2 \nL 30.103125 7.2 \nz\n\" style=\"fill: #ffffff\"/>\n   </g>\n   <g id=\"matplotlib.axis_1\">\n    <g id=\"xtick_1\">\n     <g id=\"line2d_1\">\n      <defs>\n       <path id=\"mf13dcaf93e\" d=\"M 0 0 \nL 0 3.5 \n\" style=\"stroke: #000000; stroke-width: 0.8\"/>\n      </defs>\n      <g>\n       <use xlink:href=\"#mf13dcaf93e\" x=\"30.103125\" y=\"145.8\" style=\"stroke: #000000; stroke-width: 0.8\"/>\n      </g>\n     </g>\n     <g id=\"text_1\">\n      <!-- 0 -->\n      <g transform=\"translate(26.921875 160.398438) scale(0.1 -0.1)\">\n       <defs>\n        <path id=\"DejaVuSans-30\" d=\"M 2034 4250 \nQ 1547 4250 1301 3770 \nQ 1056 3291 1056 2328 \nQ 1056 1369 1301 889 \nQ 1547 409 2034 409 \nQ 2525 409 2770 889 \nQ 3016 1369 3016 2328 \nQ 3016 3291 2770 3770 \nQ 2525 4250 2034 4250 \nz\nM 2034 4750 \nQ 2819 4750 3233 4129 \nQ 3647 3509 3647 2328 \nQ 3647 1150 3233 529 \nQ 2819 -91 2034 -91 \nQ 1250 -91 836 529 \nQ 422 1150 422 2328 \nQ 422 3509 836 4129 \nQ 1250 4750 2034 4750 \nz\n\" transform=\"scale(0.015625)\"/>\n       </defs>\n       <use xlink:href=\"#DejaVuSans-30\"/>\n      </g>\n     </g>\n    </g>\n    <g id=\"xtick_2\">\n     <g id=\"line2d_2\">\n      <g>\n       <use xlink:href=\"#mf13dcaf93e\" x=\"69.163125\" y=\"145.8\" style=\"stroke: #000000; stroke-width: 0.8\"/>\n      </g>\n     </g>\n     <g id=\"text_2\">\n      <!-- 2 -->\n      <g transform=\"translate(65.981875 160.398438) scale(0.1 -0.1)\">\n       <defs>\n        <path id=\"DejaVuSans-32\" d=\"M 1228 531 \nL 3431 531 \nL 3431 0 \nL 469 0 \nL 469 531 \nQ 828 903 1448 1529 \nQ 2069 2156 2228 2338 \nQ 2531 2678 2651 2914 \nQ 2772 3150 2772 3378 \nQ 2772 3750 2511 3984 \nQ 2250 4219 1831 4219 \nQ 1534 4219 1204 4116 \nQ 875 4013 500 3803 \nL 500 4441 \nQ 881 4594 1212 4672 \nQ 1544 4750 1819 4750 \nQ 2544 4750 2975 4387 \nQ 3406 4025 3406 3419 \nQ 3406 3131 3298 2873 \nQ 3191 2616 2906 2266 \nQ 2828 2175 2409 1742 \nQ 1991 1309 1228 531 \nz\n\" transform=\"scale(0.015625)\"/>\n       </defs>\n       <use xlink:href=\"#DejaVuSans-32\"/>\n      </g>\n     </g>\n    </g>\n    <g id=\"xtick_3\">\n     <g id=\"line2d_3\">\n      <g>\n       <use xlink:href=\"#mf13dcaf93e\" x=\"108.223125\" y=\"145.8\" style=\"stroke: #000000; stroke-width: 0.8\"/>\n      </g>\n     </g>\n     <g id=\"text_3\">\n      <!-- 4 -->\n      <g transform=\"translate(105.041875 160.398438) scale(0.1 -0.1)\">\n       <defs>\n        <path id=\"DejaVuSans-34\" d=\"M 2419 4116 \nL 825 1625 \nL 2419 1625 \nL 2419 4116 \nz\nM 2253 4666 \nL 3047 4666 \nL 3047 1625 \nL 3713 1625 \nL 3713 1100 \nL 3047 1100 \nL 3047 0 \nL 2419 0 \nL 2419 1100 \nL 313 1100 \nL 313 1709 \nL 2253 4666 \nz\n\" transform=\"scale(0.015625)\"/>\n       </defs>\n       <use xlink:href=\"#DejaVuSans-34\"/>\n      </g>\n     </g>\n    </g>\n    <g id=\"xtick_4\">\n     <g id=\"line2d_4\">\n      <g>\n       <use xlink:href=\"#mf13dcaf93e\" x=\"147.283125\" y=\"145.8\" style=\"stroke: #000000; stroke-width: 0.8\"/>\n      </g>\n     </g>\n     <g id=\"text_4\">\n      <!-- 6 -->\n      <g transform=\"translate(144.101875 160.398438) scale(0.1 -0.1)\">\n       <defs>\n        <path id=\"DejaVuSans-36\" d=\"M 2113 2584 \nQ 1688 2584 1439 2293 \nQ 1191 2003 1191 1497 \nQ 1191 994 1439 701 \nQ 1688 409 2113 409 \nQ 2538 409 2786 701 \nQ 3034 994 3034 1497 \nQ 3034 2003 2786 2293 \nQ 2538 2584 2113 2584 \nz\nM 3366 4563 \nL 3366 3988 \nQ 3128 4100 2886 4159 \nQ 2644 4219 2406 4219 \nQ 1781 4219 1451 3797 \nQ 1122 3375 1075 2522 \nQ 1259 2794 1537 2939 \nQ 1816 3084 2150 3084 \nQ 2853 3084 3261 2657 \nQ 3669 2231 3669 1497 \nQ 3669 778 3244 343 \nQ 2819 -91 2113 -91 \nQ 1303 -91 875 529 \nQ 447 1150 447 2328 \nQ 447 3434 972 4092 \nQ 1497 4750 2381 4750 \nQ 2619 4750 2861 4703 \nQ 3103 4656 3366 4563 \nz\n\" transform=\"scale(0.015625)\"/>\n       </defs>\n       <use xlink:href=\"#DejaVuSans-36\"/>\n      </g>\n     </g>\n    </g>\n    <g id=\"xtick_5\">\n     <g id=\"line2d_5\">\n      <g>\n       <use xlink:href=\"#mf13dcaf93e\" x=\"186.343125\" y=\"145.8\" style=\"stroke: #000000; stroke-width: 0.8\"/>\n      </g>\n     </g>\n     <g id=\"text_5\">\n      <!-- 8 -->\n      <g transform=\"translate(183.161875 160.398438) scale(0.1 -0.1)\">\n       <defs>\n        <path id=\"DejaVuSans-38\" d=\"M 2034 2216 \nQ 1584 2216 1326 1975 \nQ 1069 1734 1069 1313 \nQ 1069 891 1326 650 \nQ 1584 409 2034 409 \nQ 2484 409 2743 651 \nQ 3003 894 3003 1313 \nQ 3003 1734 2745 1975 \nQ 2488 2216 2034 2216 \nz\nM 1403 2484 \nQ 997 2584 770 2862 \nQ 544 3141 544 3541 \nQ 544 4100 942 4425 \nQ 1341 4750 2034 4750 \nQ 2731 4750 3128 4425 \nQ 3525 4100 3525 3541 \nQ 3525 3141 3298 2862 \nQ 3072 2584 2669 2484 \nQ 3125 2378 3379 2068 \nQ 3634 1759 3634 1313 \nQ 3634 634 3220 271 \nQ 2806 -91 2034 -91 \nQ 1263 -91 848 271 \nQ 434 634 434 1313 \nQ 434 1759 690 2068 \nQ 947 2378 1403 2484 \nz\nM 1172 3481 \nQ 1172 3119 1398 2916 \nQ 1625 2713 2034 2713 \nQ 2441 2713 2670 2916 \nQ 2900 3119 2900 3481 \nQ 2900 3844 2670 4047 \nQ 2441 4250 2034 4250 \nQ 1625 4250 1398 4047 \nQ 1172 3844 1172 3481 \nz\n\" transform=\"scale(0.015625)\"/>\n       </defs>\n       <use xlink:href=\"#DejaVuSans-38\"/>\n      </g>\n     </g>\n    </g>\n    <g id=\"xtick_6\">\n     <g id=\"line2d_6\">\n      <g>\n       <use xlink:href=\"#mf13dcaf93e\" x=\"225.403125\" y=\"145.8\" style=\"stroke: #000000; stroke-width: 0.8\"/>\n      </g>\n     </g>\n     <g id=\"text_6\">\n      <!-- 10 -->\n      <g transform=\"translate(219.040625 160.398438) scale(0.1 -0.1)\">\n       <defs>\n        <path id=\"DejaVuSans-31\" d=\"M 794 531 \nL 1825 531 \nL 1825 4091 \nL 703 3866 \nL 703 4441 \nL 1819 4666 \nL 2450 4666 \nL 2450 531 \nL 3481 531 \nL 3481 0 \nL 794 0 \nL 794 531 \nz\n\" transform=\"scale(0.015625)\"/>\n       </defs>\n       <use xlink:href=\"#DejaVuSans-31\"/>\n       <use xlink:href=\"#DejaVuSans-30\" x=\"63.623047\"/>\n      </g>\n     </g>\n    </g>\n    <g id=\"text_7\">\n     <!-- epoch -->\n     <g transform=\"translate(112.525 174.076563) scale(0.1 -0.1)\">\n      <defs>\n       <path id=\"DejaVuSans-65\" d=\"M 3597 1894 \nL 3597 1613 \nL 953 1613 \nQ 991 1019 1311 708 \nQ 1631 397 2203 397 \nQ 2534 397 2845 478 \nQ 3156 559 3463 722 \nL 3463 178 \nQ 3153 47 2828 -22 \nQ 2503 -91 2169 -91 \nQ 1331 -91 842 396 \nQ 353 884 353 1716 \nQ 353 2575 817 3079 \nQ 1281 3584 2069 3584 \nQ 2775 3584 3186 3129 \nQ 3597 2675 3597 1894 \nz\nM 3022 2063 \nQ 3016 2534 2758 2815 \nQ 2500 3097 2075 3097 \nQ 1594 3097 1305 2825 \nQ 1016 2553 972 2059 \nL 3022 2063 \nz\n\" transform=\"scale(0.015625)\"/>\n       <path id=\"DejaVuSans-70\" d=\"M 1159 525 \nL 1159 -1331 \nL 581 -1331 \nL 581 3500 \nL 1159 3500 \nL 1159 2969 \nQ 1341 3281 1617 3432 \nQ 1894 3584 2278 3584 \nQ 2916 3584 3314 3078 \nQ 3713 2572 3713 1747 \nQ 3713 922 3314 415 \nQ 2916 -91 2278 -91 \nQ 1894 -91 1617 61 \nQ 1341 213 1159 525 \nz\nM 3116 1747 \nQ 3116 2381 2855 2742 \nQ 2594 3103 2138 3103 \nQ 1681 3103 1420 2742 \nQ 1159 2381 1159 1747 \nQ 1159 1113 1420 752 \nQ 1681 391 2138 391 \nQ 2594 391 2855 752 \nQ 3116 1113 3116 1747 \nz\n\" transform=\"scale(0.015625)\"/>\n       <path id=\"DejaVuSans-6f\" d=\"M 1959 3097 \nQ 1497 3097 1228 2736 \nQ 959 2375 959 1747 \nQ 959 1119 1226 758 \nQ 1494 397 1959 397 \nQ 2419 397 2687 759 \nQ 2956 1122 2956 1747 \nQ 2956 2369 2687 2733 \nQ 2419 3097 1959 3097 \nz\nM 1959 3584 \nQ 2709 3584 3137 3096 \nQ 3566 2609 3566 1747 \nQ 3566 888 3137 398 \nQ 2709 -91 1959 -91 \nQ 1206 -91 779 398 \nQ 353 888 353 1747 \nQ 353 2609 779 3096 \nQ 1206 3584 1959 3584 \nz\n\" transform=\"scale(0.015625)\"/>\n       <path id=\"DejaVuSans-63\" d=\"M 3122 3366 \nL 3122 2828 \nQ 2878 2963 2633 3030 \nQ 2388 3097 2138 3097 \nQ 1578 3097 1268 2742 \nQ 959 2388 959 1747 \nQ 959 1106 1268 751 \nQ 1578 397 2138 397 \nQ 2388 397 2633 464 \nQ 2878 531 3122 666 \nL 3122 134 \nQ 2881 22 2623 -34 \nQ 2366 -91 2075 -91 \nQ 1284 -91 818 406 \nQ 353 903 353 1747 \nQ 353 2603 823 3093 \nQ 1294 3584 2113 3584 \nQ 2378 3584 2631 3529 \nQ 2884 3475 3122 3366 \nz\n\" transform=\"scale(0.015625)\"/>\n       <path id=\"DejaVuSans-68\" d=\"M 3513 2113 \nL 3513 0 \nL 2938 0 \nL 2938 2094 \nQ 2938 2591 2744 2837 \nQ 2550 3084 2163 3084 \nQ 1697 3084 1428 2787 \nQ 1159 2491 1159 1978 \nL 1159 0 \nL 581 0 \nL 581 4863 \nL 1159 4863 \nL 1159 2956 \nQ 1366 3272 1645 3428 \nQ 1925 3584 2291 3584 \nQ 2894 3584 3203 3211 \nQ 3513 2838 3513 2113 \nz\n\" transform=\"scale(0.015625)\"/>\n      </defs>\n      <use xlink:href=\"#DejaVuSans-65\"/>\n      <use xlink:href=\"#DejaVuSans-70\" x=\"61.523438\"/>\n      <use xlink:href=\"#DejaVuSans-6f\" x=\"125\"/>\n      <use xlink:href=\"#DejaVuSans-63\" x=\"186.181641\"/>\n      <use xlink:href=\"#DejaVuSans-68\" x=\"241.162109\"/>\n     </g>\n    </g>\n   </g>\n   <g id=\"matplotlib.axis_2\">\n    <g id=\"ytick_1\">\n     <g id=\"line2d_7\">\n      <defs>\n       <path id=\"m4cd8406ed8\" d=\"M 0 0 \nL -3.5 0 \n\" style=\"stroke: #000000; stroke-width: 0.8\"/>\n      </defs>\n      <g>\n       <use xlink:href=\"#m4cd8406ed8\" x=\"30.103125\" y=\"137.582345\" style=\"stroke: #000000; stroke-width: 0.8\"/>\n      </g>\n     </g>\n     <g id=\"text_8\">\n      <!-- 0.4 -->\n      <g transform=\"translate(7.2 141.381564) scale(0.1 -0.1)\">\n       <defs>\n        <path id=\"DejaVuSans-2e\" d=\"M 684 794 \nL 1344 794 \nL 1344 0 \nL 684 0 \nL 684 794 \nz\n\" transform=\"scale(0.015625)\"/>\n       </defs>\n       <use xlink:href=\"#DejaVuSans-30\"/>\n       <use xlink:href=\"#DejaVuSans-2e\" x=\"63.623047\"/>\n       <use xlink:href=\"#DejaVuSans-34\" x=\"95.410156\"/>\n      </g>\n     </g>\n    </g>\n    <g id=\"ytick_2\">\n     <g id=\"line2d_8\">\n      <g>\n       <use xlink:href=\"#m4cd8406ed8\" x=\"30.103125\" y=\"111.375312\" style=\"stroke: #000000; stroke-width: 0.8\"/>\n      </g>\n     </g>\n     <g id=\"text_9\">\n      <!-- 0.6 -->\n      <g transform=\"translate(7.2 115.17453) scale(0.1 -0.1)\">\n       <use xlink:href=\"#DejaVuSans-30\"/>\n       <use xlink:href=\"#DejaVuSans-2e\" x=\"63.623047\"/>\n       <use xlink:href=\"#DejaVuSans-36\" x=\"95.410156\"/>\n      </g>\n     </g>\n    </g>\n    <g id=\"ytick_3\">\n     <g id=\"line2d_9\">\n      <g>\n       <use xlink:href=\"#m4cd8406ed8\" x=\"30.103125\" y=\"85.168278\" style=\"stroke: #000000; stroke-width: 0.8\"/>\n      </g>\n     </g>\n     <g id=\"text_10\">\n      <!-- 0.8 -->\n      <g transform=\"translate(7.2 88.967497) scale(0.1 -0.1)\">\n       <use xlink:href=\"#DejaVuSans-30\"/>\n       <use xlink:href=\"#DejaVuSans-2e\" x=\"63.623047\"/>\n       <use xlink:href=\"#DejaVuSans-38\" x=\"95.410156\"/>\n      </g>\n     </g>\n    </g>\n    <g id=\"ytick_4\">\n     <g id=\"line2d_10\">\n      <g>\n       <use xlink:href=\"#m4cd8406ed8\" x=\"30.103125\" y=\"58.961244\" style=\"stroke: #000000; stroke-width: 0.8\"/>\n      </g>\n     </g>\n     <g id=\"text_11\">\n      <!-- 1.0 -->\n      <g transform=\"translate(7.2 62.760463) scale(0.1 -0.1)\">\n       <use xlink:href=\"#DejaVuSans-31\"/>\n       <use xlink:href=\"#DejaVuSans-2e\" x=\"63.623047\"/>\n       <use xlink:href=\"#DejaVuSans-30\" x=\"95.410156\"/>\n      </g>\n     </g>\n    </g>\n    <g id=\"ytick_5\">\n     <g id=\"line2d_11\">\n      <g>\n       <use xlink:href=\"#m4cd8406ed8\" x=\"30.103125\" y=\"32.75421\" style=\"stroke: #000000; stroke-width: 0.8\"/>\n      </g>\n     </g>\n     <g id=\"text_12\">\n      <!-- 1.2 -->\n      <g transform=\"translate(7.2 36.553429) scale(0.1 -0.1)\">\n       <use xlink:href=\"#DejaVuSans-31\"/>\n       <use xlink:href=\"#DejaVuSans-2e\" x=\"63.623047\"/>\n       <use xlink:href=\"#DejaVuSans-32\" x=\"95.410156\"/>\n      </g>\n     </g>\n    </g>\n   </g>\n   <g id=\"line2d_12\">\n    <path d=\"M 34.923295 13.5 \n\" clip-path=\"url(#p6bf0ec9751)\" style=\"fill: none; stroke: #1f77b4; stroke-width: 1.5; stroke-linecap: square\"/>\n   </g>\n   <g id=\"line2d_13\">\n    <path d=\"M 34.923295 13.5 \nL 44.646742 90.655272 \n\" clip-path=\"url(#p6bf0ec9751)\" style=\"fill: none; stroke: #1f77b4; stroke-width: 1.5; stroke-linecap: square\"/>\n   </g>\n   <g id=\"line2d_14\">\n    <path d=\"M 34.923295 13.5 \nL 44.646742 90.655272 \n\" clip-path=\"url(#p6bf0ec9751)\" style=\"fill: none; stroke: #1f77b4; stroke-width: 1.5; stroke-linecap: square\"/>\n   </g>\n   <g id=\"line2d_15\">\n    <path d=\"M 49.633125 92.99219 \n\" clip-path=\"url(#p6bf0ec9751)\" style=\"fill: none; stroke-dasharray: 5.55,2.4; stroke-dashoffset: 0; stroke: #ff7f0e; stroke-width: 1.5\"/>\n   </g>\n   <g id=\"line2d_16\"/>\n   <g id=\"line2d_17\">\n    <path d=\"M 34.923295 13.5 \nL 44.646742 90.655272 \n\" clip-path=\"url(#p6bf0ec9751)\" style=\"fill: none; stroke: #1f77b4; stroke-width: 1.5; stroke-linecap: square\"/>\n   </g>\n   <g id=\"line2d_18\">\n    <path d=\"M 49.633125 92.99219 \n\" clip-path=\"url(#p6bf0ec9751)\" style=\"fill: none; stroke-dasharray: 5.55,2.4; stroke-dashoffset: 0; stroke: #ff7f0e; stroke-width: 1.5\"/>\n   </g>\n   <g id=\"line2d_19\">\n    <path d=\"M 49.633125 94.509652 \n\" clip-path=\"url(#p6bf0ec9751)\" style=\"fill: none; stroke-dasharray: 9.6,2.4,1.5,2.4; stroke-dashoffset: 0; stroke: #2ca02c; stroke-width: 1.5\"/>\n   </g>\n   <g id=\"line2d_20\">\n    <path d=\"M 34.923295 13.5 \nL 44.646742 90.655272 \nL 54.370189 106.474652 \n\" clip-path=\"url(#p6bf0ec9751)\" style=\"fill: none; stroke: #1f77b4; stroke-width: 1.5; stroke-linecap: square\"/>\n   </g>\n   <g id=\"line2d_21\">\n    <path d=\"M 49.633125 92.99219 \n\" clip-path=\"url(#p6bf0ec9751)\" style=\"fill: none; stroke-dasharray: 5.55,2.4; stroke-dashoffset: 0; stroke: #ff7f0e; stroke-width: 1.5\"/>\n   </g>\n   <g id=\"line2d_22\">\n    <path d=\"M 49.633125 94.509652 \n\" clip-path=\"url(#p6bf0ec9751)\" style=\"fill: none; stroke-dasharray: 9.6,2.4,1.5,2.4; stroke-dashoffset: 0; stroke: #2ca02c; stroke-width: 1.5\"/>\n   </g>\n   <g id=\"line2d_23\">\n    <path d=\"M 34.923295 13.5 \nL 44.646742 90.655272 \nL 54.370189 106.474652 \nL 64.093636 115.402501 \n\" clip-path=\"url(#p6bf0ec9751)\" style=\"fill: none; stroke: #1f77b4; stroke-width: 1.5; stroke-linecap: square\"/>\n   </g>\n   <g id=\"line2d_24\">\n    <path d=\"M 49.633125 92.99219 \n\" clip-path=\"url(#p6bf0ec9751)\" style=\"fill: none; stroke-dasharray: 5.55,2.4; stroke-dashoffset: 0; stroke: #ff7f0e; stroke-width: 1.5\"/>\n   </g>\n   <g id=\"line2d_25\">\n    <path d=\"M 49.633125 94.509652 \n\" clip-path=\"url(#p6bf0ec9751)\" style=\"fill: none; stroke-dasharray: 9.6,2.4,1.5,2.4; stroke-dashoffset: 0; stroke: #2ca02c; stroke-width: 1.5\"/>\n   </g>\n   <g id=\"line2d_26\">\n    <path d=\"M 34.923295 13.5 \nL 44.646742 90.655272 \nL 54.370189 106.474652 \nL 64.093636 115.402501 \n\" clip-path=\"url(#p6bf0ec9751)\" style=\"fill: none; stroke: #1f77b4; stroke-width: 1.5; stroke-linecap: square\"/>\n   </g>\n   <g id=\"line2d_27\">\n    <path d=\"M 49.633125 92.99219 \nL 69.163125 114.970889 \n\" clip-path=\"url(#p6bf0ec9751)\" style=\"fill: none; stroke-dasharray: 5.55,2.4; stroke-dashoffset: 0; stroke: #ff7f0e; stroke-width: 1.5\"/>\n   </g>\n   <g id=\"line2d_28\">\n    <path d=\"M 49.633125 94.509652 \n\" clip-path=\"url(#p6bf0ec9751)\" style=\"fill: none; stroke-dasharray: 9.6,2.4,1.5,2.4; stroke-dashoffset: 0; stroke: #2ca02c; stroke-width: 1.5\"/>\n   </g>\n   <g id=\"line2d_29\">\n    <path d=\"M 34.923295 13.5 \nL 44.646742 90.655272 \nL 54.370189 106.474652 \nL 64.093636 115.402501 \n\" clip-path=\"url(#p6bf0ec9751)\" style=\"fill: none; stroke: #1f77b4; stroke-width: 1.5; stroke-linecap: square\"/>\n   </g>\n   <g id=\"line2d_30\">\n    <path d=\"M 49.633125 92.99219 \nL 69.163125 114.970889 \n\" clip-path=\"url(#p6bf0ec9751)\" style=\"fill: none; stroke-dasharray: 5.55,2.4; stroke-dashoffset: 0; stroke: #ff7f0e; stroke-width: 1.5\"/>\n   </g>\n   <g id=\"line2d_31\">\n    <path d=\"M 49.633125 94.509652 \nL 69.163125 86.268769 \n\" clip-path=\"url(#p6bf0ec9751)\" style=\"fill: none; stroke-dasharray: 9.6,2.4,1.5,2.4; stroke-dashoffset: 0; stroke: #2ca02c; stroke-width: 1.5\"/>\n   </g>\n   <g id=\"line2d_32\">\n    <path d=\"M 34.923295 13.5 \nL 44.646742 90.655272 \nL 54.370189 106.474652 \nL 64.093636 115.402501 \nL 73.817082 119.750044 \n\" clip-path=\"url(#p6bf0ec9751)\" style=\"fill: none; stroke: #1f77b4; stroke-width: 1.5; stroke-linecap: square\"/>\n   </g>\n   <g id=\"line2d_33\">\n    <path d=\"M 49.633125 92.99219 \nL 69.163125 114.970889 \n\" clip-path=\"url(#p6bf0ec9751)\" style=\"fill: none; stroke-dasharray: 5.55,2.4; stroke-dashoffset: 0; stroke: #ff7f0e; stroke-width: 1.5\"/>\n   </g>\n   <g id=\"line2d_34\">\n    <path d=\"M 49.633125 94.509652 \nL 69.163125 86.268769 \n\" clip-path=\"url(#p6bf0ec9751)\" style=\"fill: none; stroke-dasharray: 9.6,2.4,1.5,2.4; stroke-dashoffset: 0; stroke: #2ca02c; stroke-width: 1.5\"/>\n   </g>\n   <g id=\"line2d_35\">\n    <path d=\"M 34.923295 13.5 \nL 44.646742 90.655272 \nL 54.370189 106.474652 \nL 64.093636 115.402501 \nL 73.817082 119.750044 \nL 83.540529 122.745503 \n\" clip-path=\"url(#p6bf0ec9751)\" style=\"fill: none; stroke: #1f77b4; stroke-width: 1.5; stroke-linecap: square\"/>\n   </g>\n   <g id=\"line2d_36\">\n    <path d=\"M 49.633125 92.99219 \nL 69.163125 114.970889 \n\" clip-path=\"url(#p6bf0ec9751)\" style=\"fill: none; stroke-dasharray: 5.55,2.4; stroke-dashoffset: 0; stroke: #ff7f0e; stroke-width: 1.5\"/>\n   </g>\n   <g id=\"line2d_37\">\n    <path d=\"M 49.633125 94.509652 \nL 69.163125 86.268769 \n\" clip-path=\"url(#p6bf0ec9751)\" style=\"fill: none; stroke-dasharray: 9.6,2.4,1.5,2.4; stroke-dashoffset: 0; stroke: #2ca02c; stroke-width: 1.5\"/>\n   </g>\n   <g id=\"line2d_38\">\n    <path d=\"M 34.923295 13.5 \nL 44.646742 90.655272 \nL 54.370189 106.474652 \nL 64.093636 115.402501 \nL 73.817082 119.750044 \nL 83.540529 122.745503 \n\" clip-path=\"url(#p6bf0ec9751)\" style=\"fill: none; stroke: #1f77b4; stroke-width: 1.5; stroke-linecap: square\"/>\n   </g>\n   <g id=\"line2d_39\">\n    <path d=\"M 49.633125 92.99219 \nL 69.163125 114.970889 \nL 88.693125 116.679831 \n\" clip-path=\"url(#p6bf0ec9751)\" style=\"fill: none; stroke-dasharray: 5.55,2.4; stroke-dashoffset: 0; stroke: #ff7f0e; stroke-width: 1.5\"/>\n   </g>\n   <g id=\"line2d_40\">\n    <path d=\"M 49.633125 94.509652 \nL 69.163125 86.268769 \n\" clip-path=\"url(#p6bf0ec9751)\" style=\"fill: none; stroke-dasharray: 9.6,2.4,1.5,2.4; stroke-dashoffset: 0; stroke: #2ca02c; stroke-width: 1.5\"/>\n   </g>\n   <g id=\"line2d_41\">\n    <path d=\"M 34.923295 13.5 \nL 44.646742 90.655272 \nL 54.370189 106.474652 \nL 64.093636 115.402501 \nL 73.817082 119.750044 \nL 83.540529 122.745503 \n\" clip-path=\"url(#p6bf0ec9751)\" style=\"fill: none; stroke: #1f77b4; stroke-width: 1.5; stroke-linecap: square\"/>\n   </g>\n   <g id=\"line2d_42\">\n    <path d=\"M 49.633125 92.99219 \nL 69.163125 114.970889 \nL 88.693125 116.679831 \n\" clip-path=\"url(#p6bf0ec9751)\" style=\"fill: none; stroke-dasharray: 5.55,2.4; stroke-dashoffset: 0; stroke: #ff7f0e; stroke-width: 1.5\"/>\n   </g>\n   <g id=\"line2d_43\">\n    <path d=\"M 49.633125 94.509652 \nL 69.163125 86.268769 \nL 88.693125 86.396733 \n\" clip-path=\"url(#p6bf0ec9751)\" style=\"fill: none; stroke-dasharray: 9.6,2.4,1.5,2.4; stroke-dashoffset: 0; stroke: #2ca02c; stroke-width: 1.5\"/>\n   </g>\n   <g id=\"line2d_44\">\n    <path d=\"M 34.923295 13.5 \nL 44.646742 90.655272 \nL 54.370189 106.474652 \nL 64.093636 115.402501 \nL 73.817082 119.750044 \nL 83.540529 122.745503 \nL 93.263976 125.416602 \n\" clip-path=\"url(#p6bf0ec9751)\" style=\"fill: none; stroke: #1f77b4; stroke-width: 1.5; stroke-linecap: square\"/>\n   </g>\n   <g id=\"line2d_45\">\n    <path d=\"M 49.633125 92.99219 \nL 69.163125 114.970889 \nL 88.693125 116.679831 \n\" clip-path=\"url(#p6bf0ec9751)\" style=\"fill: none; stroke-dasharray: 5.55,2.4; stroke-dashoffset: 0; stroke: #ff7f0e; stroke-width: 1.5\"/>\n   </g>\n   <g id=\"line2d_46\">\n    <path d=\"M 49.633125 94.509652 \nL 69.163125 86.268769 \nL 88.693125 86.396733 \n\" clip-path=\"url(#p6bf0ec9751)\" style=\"fill: none; stroke-dasharray: 9.6,2.4,1.5,2.4; stroke-dashoffset: 0; stroke: #2ca02c; stroke-width: 1.5\"/>\n   </g>\n   <g id=\"line2d_47\">\n    <path d=\"M 34.923295 13.5 \nL 44.646742 90.655272 \nL 54.370189 106.474652 \nL 64.093636 115.402501 \nL 73.817082 119.750044 \nL 83.540529 122.745503 \nL 93.263976 125.416602 \nL 102.987423 128.367432 \n\" clip-path=\"url(#p6bf0ec9751)\" style=\"fill: none; stroke: #1f77b4; stroke-width: 1.5; stroke-linecap: square\"/>\n   </g>\n   <g id=\"line2d_48\">\n    <path d=\"M 49.633125 92.99219 \nL 69.163125 114.970889 \nL 88.693125 116.679831 \n\" clip-path=\"url(#p6bf0ec9751)\" style=\"fill: none; stroke-dasharray: 5.55,2.4; stroke-dashoffset: 0; stroke: #ff7f0e; stroke-width: 1.5\"/>\n   </g>\n   <g id=\"line2d_49\">\n    <path d=\"M 49.633125 94.509652 \nL 69.163125 86.268769 \nL 88.693125 86.396733 \n\" clip-path=\"url(#p6bf0ec9751)\" style=\"fill: none; stroke-dasharray: 9.6,2.4,1.5,2.4; stroke-dashoffset: 0; stroke: #2ca02c; stroke-width: 1.5\"/>\n   </g>\n   <g id=\"line2d_50\">\n    <path d=\"M 34.923295 13.5 \nL 44.646742 90.655272 \nL 54.370189 106.474652 \nL 64.093636 115.402501 \nL 73.817082 119.750044 \nL 83.540529 122.745503 \nL 93.263976 125.416602 \nL 102.987423 128.367432 \n\" clip-path=\"url(#p6bf0ec9751)\" style=\"fill: none; stroke: #1f77b4; stroke-width: 1.5; stroke-linecap: square\"/>\n   </g>\n   <g id=\"line2d_51\">\n    <path d=\"M 49.633125 92.99219 \nL 69.163125 114.970889 \nL 88.693125 116.679831 \nL 108.223125 99.73393 \n\" clip-path=\"url(#p6bf0ec9751)\" style=\"fill: none; stroke-dasharray: 5.55,2.4; stroke-dashoffset: 0; stroke: #ff7f0e; stroke-width: 1.5\"/>\n   </g>\n   <g id=\"line2d_52\">\n    <path d=\"M 49.633125 94.509652 \nL 69.163125 86.268769 \nL 88.693125 86.396733 \n\" clip-path=\"url(#p6bf0ec9751)\" style=\"fill: none; stroke-dasharray: 9.6,2.4,1.5,2.4; stroke-dashoffset: 0; stroke: #2ca02c; stroke-width: 1.5\"/>\n   </g>\n   <g id=\"line2d_53\">\n    <path d=\"M 34.923295 13.5 \nL 44.646742 90.655272 \nL 54.370189 106.474652 \nL 64.093636 115.402501 \nL 73.817082 119.750044 \nL 83.540529 122.745503 \nL 93.263976 125.416602 \nL 102.987423 128.367432 \n\" clip-path=\"url(#p6bf0ec9751)\" style=\"fill: none; stroke: #1f77b4; stroke-width: 1.5; stroke-linecap: square\"/>\n   </g>\n   <g id=\"line2d_54\">\n    <path d=\"M 49.633125 92.99219 \nL 69.163125 114.970889 \nL 88.693125 116.679831 \nL 108.223125 99.73393 \n\" clip-path=\"url(#p6bf0ec9751)\" style=\"fill: none; stroke-dasharray: 5.55,2.4; stroke-dashoffset: 0; stroke: #ff7f0e; stroke-width: 1.5\"/>\n   </g>\n   <g id=\"line2d_55\">\n    <path d=\"M 49.633125 94.509652 \nL 69.163125 86.268769 \nL 88.693125 86.396733 \nL 108.223125 94.381688 \n\" clip-path=\"url(#p6bf0ec9751)\" style=\"fill: none; stroke-dasharray: 9.6,2.4,1.5,2.4; stroke-dashoffset: 0; stroke: #2ca02c; stroke-width: 1.5\"/>\n   </g>\n   <g id=\"line2d_56\">\n    <path d=\"M 34.923295 13.5 \nL 44.646742 90.655272 \nL 54.370189 106.474652 \nL 64.093636 115.402501 \nL 73.817082 119.750044 \nL 83.540529 122.745503 \nL 93.263976 125.416602 \nL 102.987423 128.367432 \nL 112.71087 128.966254 \n\" clip-path=\"url(#p6bf0ec9751)\" style=\"fill: none; stroke: #1f77b4; stroke-width: 1.5; stroke-linecap: square\"/>\n   </g>\n   <g id=\"line2d_57\">\n    <path d=\"M 49.633125 92.99219 \nL 69.163125 114.970889 \nL 88.693125 116.679831 \nL 108.223125 99.73393 \n\" clip-path=\"url(#p6bf0ec9751)\" style=\"fill: none; stroke-dasharray: 5.55,2.4; stroke-dashoffset: 0; stroke: #ff7f0e; stroke-width: 1.5\"/>\n   </g>\n   <g id=\"line2d_58\">\n    <path d=\"M 49.633125 94.509652 \nL 69.163125 86.268769 \nL 88.693125 86.396733 \nL 108.223125 94.381688 \n\" clip-path=\"url(#p6bf0ec9751)\" style=\"fill: none; stroke-dasharray: 9.6,2.4,1.5,2.4; stroke-dashoffset: 0; stroke: #2ca02c; stroke-width: 1.5\"/>\n   </g>\n   <g id=\"line2d_59\">\n    <path d=\"M 34.923295 13.5 \nL 44.646742 90.655272 \nL 54.370189 106.474652 \nL 64.093636 115.402501 \nL 73.817082 119.750044 \nL 83.540529 122.745503 \nL 93.263976 125.416602 \nL 102.987423 128.367432 \nL 112.71087 128.966254 \nL 122.434316 131.292789 \n\" clip-path=\"url(#p6bf0ec9751)\" style=\"fill: none; stroke: #1f77b4; stroke-width: 1.5; stroke-linecap: square\"/>\n   </g>\n   <g id=\"line2d_60\">\n    <path d=\"M 49.633125 92.99219 \nL 69.163125 114.970889 \nL 88.693125 116.679831 \nL 108.223125 99.73393 \n\" clip-path=\"url(#p6bf0ec9751)\" style=\"fill: none; stroke-dasharray: 5.55,2.4; stroke-dashoffset: 0; stroke: #ff7f0e; stroke-width: 1.5\"/>\n   </g>\n   <g id=\"line2d_61\">\n    <path d=\"M 49.633125 94.509652 \nL 69.163125 86.268769 \nL 88.693125 86.396733 \nL 108.223125 94.381688 \n\" clip-path=\"url(#p6bf0ec9751)\" style=\"fill: none; stroke-dasharray: 9.6,2.4,1.5,2.4; stroke-dashoffset: 0; stroke: #2ca02c; stroke-width: 1.5\"/>\n   </g>\n   <g id=\"line2d_62\">\n    <path d=\"M 34.923295 13.5 \nL 44.646742 90.655272 \nL 54.370189 106.474652 \nL 64.093636 115.402501 \nL 73.817082 119.750044 \nL 83.540529 122.745503 \nL 93.263976 125.416602 \nL 102.987423 128.367432 \nL 112.71087 128.966254 \nL 122.434316 131.292789 \n\" clip-path=\"url(#p6bf0ec9751)\" style=\"fill: none; stroke: #1f77b4; stroke-width: 1.5; stroke-linecap: square\"/>\n   </g>\n   <g id=\"line2d_63\">\n    <path d=\"M 49.633125 92.99219 \nL 69.163125 114.970889 \nL 88.693125 116.679831 \nL 108.223125 99.73393 \nL 127.753125 129.617827 \n\" clip-path=\"url(#p6bf0ec9751)\" style=\"fill: none; stroke-dasharray: 5.55,2.4; stroke-dashoffset: 0; stroke: #ff7f0e; stroke-width: 1.5\"/>\n   </g>\n   <g id=\"line2d_64\">\n    <path d=\"M 49.633125 94.509652 \nL 69.163125 86.268769 \nL 88.693125 86.396733 \nL 108.223125 94.381688 \n\" clip-path=\"url(#p6bf0ec9751)\" style=\"fill: none; stroke-dasharray: 9.6,2.4,1.5,2.4; stroke-dashoffset: 0; stroke: #2ca02c; stroke-width: 1.5\"/>\n   </g>\n   <g id=\"line2d_65\">\n    <path d=\"M 34.923295 13.5 \nL 44.646742 90.655272 \nL 54.370189 106.474652 \nL 64.093636 115.402501 \nL 73.817082 119.750044 \nL 83.540529 122.745503 \nL 93.263976 125.416602 \nL 102.987423 128.367432 \nL 112.71087 128.966254 \nL 122.434316 131.292789 \n\" clip-path=\"url(#p6bf0ec9751)\" style=\"fill: none; stroke: #1f77b4; stroke-width: 1.5; stroke-linecap: square\"/>\n   </g>\n   <g id=\"line2d_66\">\n    <path d=\"M 49.633125 92.99219 \nL 69.163125 114.970889 \nL 88.693125 116.679831 \nL 108.223125 99.73393 \nL 127.753125 129.617827 \n\" clip-path=\"url(#p6bf0ec9751)\" style=\"fill: none; stroke-dasharray: 5.55,2.4; stroke-dashoffset: 0; stroke: #ff7f0e; stroke-width: 1.5\"/>\n   </g>\n   <g id=\"line2d_67\">\n    <path d=\"M 49.633125 94.509652 \nL 69.163125 86.268769 \nL 88.693125 86.396733 \nL 108.223125 94.381688 \nL 127.753125 80.574369 \n\" clip-path=\"url(#p6bf0ec9751)\" style=\"fill: none; stroke-dasharray: 9.6,2.4,1.5,2.4; stroke-dashoffset: 0; stroke: #2ca02c; stroke-width: 1.5\"/>\n   </g>\n   <g id=\"line2d_68\">\n    <path d=\"M 34.923295 13.5 \nL 44.646742 90.655272 \nL 54.370189 106.474652 \nL 64.093636 115.402501 \nL 73.817082 119.750044 \nL 83.540529 122.745503 \nL 93.263976 125.416602 \nL 102.987423 128.367432 \nL 112.71087 128.966254 \nL 122.434316 131.292789 \nL 132.157763 132.296003 \n\" clip-path=\"url(#p6bf0ec9751)\" style=\"fill: none; stroke: #1f77b4; stroke-width: 1.5; stroke-linecap: square\"/>\n   </g>\n   <g id=\"line2d_69\">\n    <path d=\"M 49.633125 92.99219 \nL 69.163125 114.970889 \nL 88.693125 116.679831 \nL 108.223125 99.73393 \nL 127.753125 129.617827 \n\" clip-path=\"url(#p6bf0ec9751)\" style=\"fill: none; stroke-dasharray: 5.55,2.4; stroke-dashoffset: 0; stroke: #ff7f0e; stroke-width: 1.5\"/>\n   </g>\n   <g id=\"line2d_70\">\n    <path d=\"M 49.633125 94.509652 \nL 69.163125 86.268769 \nL 88.693125 86.396733 \nL 108.223125 94.381688 \nL 127.753125 80.574369 \n\" clip-path=\"url(#p6bf0ec9751)\" style=\"fill: none; stroke-dasharray: 9.6,2.4,1.5,2.4; stroke-dashoffset: 0; stroke: #2ca02c; stroke-width: 1.5\"/>\n   </g>\n   <g id=\"line2d_71\">\n    <path d=\"M 34.923295 13.5 \nL 44.646742 90.655272 \nL 54.370189 106.474652 \nL 64.093636 115.402501 \nL 73.817082 119.750044 \nL 83.540529 122.745503 \nL 93.263976 125.416602 \nL 102.987423 128.367432 \nL 112.71087 128.966254 \nL 122.434316 131.292789 \nL 132.157763 132.296003 \nL 141.88121 133.654856 \n\" clip-path=\"url(#p6bf0ec9751)\" style=\"fill: none; stroke: #1f77b4; stroke-width: 1.5; stroke-linecap: square\"/>\n   </g>\n   <g id=\"line2d_72\">\n    <path d=\"M 49.633125 92.99219 \nL 69.163125 114.970889 \nL 88.693125 116.679831 \nL 108.223125 99.73393 \nL 127.753125 129.617827 \n\" clip-path=\"url(#p6bf0ec9751)\" style=\"fill: none; stroke-dasharray: 5.55,2.4; stroke-dashoffset: 0; stroke: #ff7f0e; stroke-width: 1.5\"/>\n   </g>\n   <g id=\"line2d_73\">\n    <path d=\"M 49.633125 94.509652 \nL 69.163125 86.268769 \nL 88.693125 86.396733 \nL 108.223125 94.381688 \nL 127.753125 80.574369 \n\" clip-path=\"url(#p6bf0ec9751)\" style=\"fill: none; stroke-dasharray: 9.6,2.4,1.5,2.4; stroke-dashoffset: 0; stroke: #2ca02c; stroke-width: 1.5\"/>\n   </g>\n   <g id=\"line2d_74\">\n    <path d=\"M 34.923295 13.5 \nL 44.646742 90.655272 \nL 54.370189 106.474652 \nL 64.093636 115.402501 \nL 73.817082 119.750044 \nL 83.540529 122.745503 \nL 93.263976 125.416602 \nL 102.987423 128.367432 \nL 112.71087 128.966254 \nL 122.434316 131.292789 \nL 132.157763 132.296003 \nL 141.88121 133.654856 \n\" clip-path=\"url(#p6bf0ec9751)\" style=\"fill: none; stroke: #1f77b4; stroke-width: 1.5; stroke-linecap: square\"/>\n   </g>\n   <g id=\"line2d_75\">\n    <path d=\"M 49.633125 92.99219 \nL 69.163125 114.970889 \nL 88.693125 116.679831 \nL 108.223125 99.73393 \nL 127.753125 129.617827 \nL 147.283125 124.989486 \n\" clip-path=\"url(#p6bf0ec9751)\" style=\"fill: none; stroke-dasharray: 5.55,2.4; stroke-dashoffset: 0; stroke: #ff7f0e; stroke-width: 1.5\"/>\n   </g>\n   <g id=\"line2d_76\">\n    <path d=\"M 49.633125 94.509652 \nL 69.163125 86.268769 \nL 88.693125 86.396733 \nL 108.223125 94.381688 \nL 127.753125 80.574369 \n\" clip-path=\"url(#p6bf0ec9751)\" style=\"fill: none; stroke-dasharray: 9.6,2.4,1.5,2.4; stroke-dashoffset: 0; stroke: #2ca02c; stroke-width: 1.5\"/>\n   </g>\n   <g id=\"line2d_77\">\n    <path d=\"M 34.923295 13.5 \nL 44.646742 90.655272 \nL 54.370189 106.474652 \nL 64.093636 115.402501 \nL 73.817082 119.750044 \nL 83.540529 122.745503 \nL 93.263976 125.416602 \nL 102.987423 128.367432 \nL 112.71087 128.966254 \nL 122.434316 131.292789 \nL 132.157763 132.296003 \nL 141.88121 133.654856 \n\" clip-path=\"url(#p6bf0ec9751)\" style=\"fill: none; stroke: #1f77b4; stroke-width: 1.5; stroke-linecap: square\"/>\n   </g>\n   <g id=\"line2d_78\">\n    <path d=\"M 49.633125 92.99219 \nL 69.163125 114.970889 \nL 88.693125 116.679831 \nL 108.223125 99.73393 \nL 127.753125 129.617827 \nL 147.283125 124.989486 \n\" clip-path=\"url(#p6bf0ec9751)\" style=\"fill: none; stroke-dasharray: 5.55,2.4; stroke-dashoffset: 0; stroke: #ff7f0e; stroke-width: 1.5\"/>\n   </g>\n   <g id=\"line2d_79\">\n    <path d=\"M 49.633125 94.509652 \nL 69.163125 86.268769 \nL 88.693125 86.396733 \nL 108.223125 94.381688 \nL 127.753125 80.574369 \nL 147.283125 82.071548 \n\" clip-path=\"url(#p6bf0ec9751)\" style=\"fill: none; stroke-dasharray: 9.6,2.4,1.5,2.4; stroke-dashoffset: 0; stroke: #2ca02c; stroke-width: 1.5\"/>\n   </g>\n   <g id=\"line2d_80\">\n    <path d=\"M 34.923295 13.5 \nL 44.646742 90.655272 \nL 54.370189 106.474652 \nL 64.093636 115.402501 \nL 73.817082 119.750044 \nL 83.540529 122.745503 \nL 93.263976 125.416602 \nL 102.987423 128.367432 \nL 112.71087 128.966254 \nL 122.434316 131.292789 \nL 132.157763 132.296003 \nL 141.88121 133.654856 \nL 151.604657 135.206236 \n\" clip-path=\"url(#p6bf0ec9751)\" style=\"fill: none; stroke: #1f77b4; stroke-width: 1.5; stroke-linecap: square\"/>\n   </g>\n   <g id=\"line2d_81\">\n    <path d=\"M 49.633125 92.99219 \nL 69.163125 114.970889 \nL 88.693125 116.679831 \nL 108.223125 99.73393 \nL 127.753125 129.617827 \nL 147.283125 124.989486 \n\" clip-path=\"url(#p6bf0ec9751)\" style=\"fill: none; stroke-dasharray: 5.55,2.4; stroke-dashoffset: 0; stroke: #ff7f0e; stroke-width: 1.5\"/>\n   </g>\n   <g id=\"line2d_82\">\n    <path d=\"M 49.633125 94.509652 \nL 69.163125 86.268769 \nL 88.693125 86.396733 \nL 108.223125 94.381688 \nL 127.753125 80.574369 \nL 147.283125 82.071548 \n\" clip-path=\"url(#p6bf0ec9751)\" style=\"fill: none; stroke-dasharray: 9.6,2.4,1.5,2.4; stroke-dashoffset: 0; stroke: #2ca02c; stroke-width: 1.5\"/>\n   </g>\n   <g id=\"line2d_83\">\n    <path d=\"M 34.923295 13.5 \nL 44.646742 90.655272 \nL 54.370189 106.474652 \nL 64.093636 115.402501 \nL 73.817082 119.750044 \nL 83.540529 122.745503 \nL 93.263976 125.416602 \nL 102.987423 128.367432 \nL 112.71087 128.966254 \nL 122.434316 131.292789 \nL 132.157763 132.296003 \nL 141.88121 133.654856 \nL 151.604657 135.206236 \nL 161.328104 135.024873 \n\" clip-path=\"url(#p6bf0ec9751)\" style=\"fill: none; stroke: #1f77b4; stroke-width: 1.5; stroke-linecap: square\"/>\n   </g>\n   <g id=\"line2d_84\">\n    <path d=\"M 49.633125 92.99219 \nL 69.163125 114.970889 \nL 88.693125 116.679831 \nL 108.223125 99.73393 \nL 127.753125 129.617827 \nL 147.283125 124.989486 \n\" clip-path=\"url(#p6bf0ec9751)\" style=\"fill: none; stroke-dasharray: 5.55,2.4; stroke-dashoffset: 0; stroke: #ff7f0e; stroke-width: 1.5\"/>\n   </g>\n   <g id=\"line2d_85\">\n    <path d=\"M 49.633125 94.509652 \nL 69.163125 86.268769 \nL 88.693125 86.396733 \nL 108.223125 94.381688 \nL 127.753125 80.574369 \nL 147.283125 82.071548 \n\" clip-path=\"url(#p6bf0ec9751)\" style=\"fill: none; stroke-dasharray: 9.6,2.4,1.5,2.4; stroke-dashoffset: 0; stroke: #2ca02c; stroke-width: 1.5\"/>\n   </g>\n   <g id=\"line2d_86\">\n    <path d=\"M 34.923295 13.5 \nL 44.646742 90.655272 \nL 54.370189 106.474652 \nL 64.093636 115.402501 \nL 73.817082 119.750044 \nL 83.540529 122.745503 \nL 93.263976 125.416602 \nL 102.987423 128.367432 \nL 112.71087 128.966254 \nL 122.434316 131.292789 \nL 132.157763 132.296003 \nL 141.88121 133.654856 \nL 151.604657 135.206236 \nL 161.328104 135.024873 \n\" clip-path=\"url(#p6bf0ec9751)\" style=\"fill: none; stroke: #1f77b4; stroke-width: 1.5; stroke-linecap: square\"/>\n   </g>\n   <g id=\"line2d_87\">\n    <path d=\"M 49.633125 92.99219 \nL 69.163125 114.970889 \nL 88.693125 116.679831 \nL 108.223125 99.73393 \nL 127.753125 129.617827 \nL 147.283125 124.989486 \nL 166.813125 131.473377 \n\" clip-path=\"url(#p6bf0ec9751)\" style=\"fill: none; stroke-dasharray: 5.55,2.4; stroke-dashoffset: 0; stroke: #ff7f0e; stroke-width: 1.5\"/>\n   </g>\n   <g id=\"line2d_88\">\n    <path d=\"M 49.633125 94.509652 \nL 69.163125 86.268769 \nL 88.693125 86.396733 \nL 108.223125 94.381688 \nL 127.753125 80.574369 \nL 147.283125 82.071548 \n\" clip-path=\"url(#p6bf0ec9751)\" style=\"fill: none; stroke-dasharray: 9.6,2.4,1.5,2.4; stroke-dashoffset: 0; stroke: #2ca02c; stroke-width: 1.5\"/>\n   </g>\n   <g id=\"line2d_89\">\n    <path d=\"M 34.923295 13.5 \nL 44.646742 90.655272 \nL 54.370189 106.474652 \nL 64.093636 115.402501 \nL 73.817082 119.750044 \nL 83.540529 122.745503 \nL 93.263976 125.416602 \nL 102.987423 128.367432 \nL 112.71087 128.966254 \nL 122.434316 131.292789 \nL 132.157763 132.296003 \nL 141.88121 133.654856 \nL 151.604657 135.206236 \nL 161.328104 135.024873 \n\" clip-path=\"url(#p6bf0ec9751)\" style=\"fill: none; stroke: #1f77b4; stroke-width: 1.5; stroke-linecap: square\"/>\n   </g>\n   <g id=\"line2d_90\">\n    <path d=\"M 49.633125 92.99219 \nL 69.163125 114.970889 \nL 88.693125 116.679831 \nL 108.223125 99.73393 \nL 127.753125 129.617827 \nL 147.283125 124.989486 \nL 166.813125 131.473377 \n\" clip-path=\"url(#p6bf0ec9751)\" style=\"fill: none; stroke-dasharray: 5.55,2.4; stroke-dashoffset: 0; stroke: #ff7f0e; stroke-width: 1.5\"/>\n   </g>\n   <g id=\"line2d_91\">\n    <path d=\"M 49.633125 94.509652 \nL 69.163125 86.268769 \nL 88.693125 86.396733 \nL 108.223125 94.381688 \nL 127.753125 80.574369 \nL 147.283125 82.071548 \nL 166.813125 79.179561 \n\" clip-path=\"url(#p6bf0ec9751)\" style=\"fill: none; stroke-dasharray: 9.6,2.4,1.5,2.4; stroke-dashoffset: 0; stroke: #2ca02c; stroke-width: 1.5\"/>\n   </g>\n   <g id=\"line2d_92\">\n    <path d=\"M 34.923295 13.5 \nL 44.646742 90.655272 \nL 54.370189 106.474652 \nL 64.093636 115.402501 \nL 73.817082 119.750044 \nL 83.540529 122.745503 \nL 93.263976 125.416602 \nL 102.987423 128.367432 \nL 112.71087 128.966254 \nL 122.434316 131.292789 \nL 132.157763 132.296003 \nL 141.88121 133.654856 \nL 151.604657 135.206236 \nL 161.328104 135.024873 \nL 171.051551 135.841257 \n\" clip-path=\"url(#p6bf0ec9751)\" style=\"fill: none; stroke: #1f77b4; stroke-width: 1.5; stroke-linecap: square\"/>\n   </g>\n   <g id=\"line2d_93\">\n    <path d=\"M 49.633125 92.99219 \nL 69.163125 114.970889 \nL 88.693125 116.679831 \nL 108.223125 99.73393 \nL 127.753125 129.617827 \nL 147.283125 124.989486 \nL 166.813125 131.473377 \n\" clip-path=\"url(#p6bf0ec9751)\" style=\"fill: none; stroke-dasharray: 5.55,2.4; stroke-dashoffset: 0; stroke: #ff7f0e; stroke-width: 1.5\"/>\n   </g>\n   <g id=\"line2d_94\">\n    <path d=\"M 49.633125 94.509652 \nL 69.163125 86.268769 \nL 88.693125 86.396733 \nL 108.223125 94.381688 \nL 127.753125 80.574369 \nL 147.283125 82.071548 \nL 166.813125 79.179561 \n\" clip-path=\"url(#p6bf0ec9751)\" style=\"fill: none; stroke-dasharray: 9.6,2.4,1.5,2.4; stroke-dashoffset: 0; stroke: #2ca02c; stroke-width: 1.5\"/>\n   </g>\n   <g id=\"line2d_95\">\n    <path d=\"M 34.923295 13.5 \nL 44.646742 90.655272 \nL 54.370189 106.474652 \nL 64.093636 115.402501 \nL 73.817082 119.750044 \nL 83.540529 122.745503 \nL 93.263976 125.416602 \nL 102.987423 128.367432 \nL 112.71087 128.966254 \nL 122.434316 131.292789 \nL 132.157763 132.296003 \nL 141.88121 133.654856 \nL 151.604657 135.206236 \nL 161.328104 135.024873 \nL 171.051551 135.841257 \nL 180.774997 137.342248 \n\" clip-path=\"url(#p6bf0ec9751)\" style=\"fill: none; stroke: #1f77b4; stroke-width: 1.5; stroke-linecap: square\"/>\n   </g>\n   <g id=\"line2d_96\">\n    <path d=\"M 49.633125 92.99219 \nL 69.163125 114.970889 \nL 88.693125 116.679831 \nL 108.223125 99.73393 \nL 127.753125 129.617827 \nL 147.283125 124.989486 \nL 166.813125 131.473377 \n\" clip-path=\"url(#p6bf0ec9751)\" style=\"fill: none; stroke-dasharray: 5.55,2.4; stroke-dashoffset: 0; stroke: #ff7f0e; stroke-width: 1.5\"/>\n   </g>\n   <g id=\"line2d_97\">\n    <path d=\"M 49.633125 94.509652 \nL 69.163125 86.268769 \nL 88.693125 86.396733 \nL 108.223125 94.381688 \nL 127.753125 80.574369 \nL 147.283125 82.071548 \nL 166.813125 79.179561 \n\" clip-path=\"url(#p6bf0ec9751)\" style=\"fill: none; stroke-dasharray: 9.6,2.4,1.5,2.4; stroke-dashoffset: 0; stroke: #2ca02c; stroke-width: 1.5\"/>\n   </g>\n   <g id=\"line2d_98\">\n    <path d=\"M 34.923295 13.5 \nL 44.646742 90.655272 \nL 54.370189 106.474652 \nL 64.093636 115.402501 \nL 73.817082 119.750044 \nL 83.540529 122.745503 \nL 93.263976 125.416602 \nL 102.987423 128.367432 \nL 112.71087 128.966254 \nL 122.434316 131.292789 \nL 132.157763 132.296003 \nL 141.88121 133.654856 \nL 151.604657 135.206236 \nL 161.328104 135.024873 \nL 171.051551 135.841257 \nL 180.774997 137.342248 \n\" clip-path=\"url(#p6bf0ec9751)\" style=\"fill: none; stroke: #1f77b4; stroke-width: 1.5; stroke-linecap: square\"/>\n   </g>\n   <g id=\"line2d_99\">\n    <path d=\"M 49.633125 92.99219 \nL 69.163125 114.970889 \nL 88.693125 116.679831 \nL 108.223125 99.73393 \nL 127.753125 129.617827 \nL 147.283125 124.989486 \nL 166.813125 131.473377 \nL 186.343125 128.385404 \n\" clip-path=\"url(#p6bf0ec9751)\" style=\"fill: none; stroke-dasharray: 5.55,2.4; stroke-dashoffset: 0; stroke: #ff7f0e; stroke-width: 1.5\"/>\n   </g>\n   <g id=\"line2d_100\">\n    <path d=\"M 49.633125 94.509652 \nL 69.163125 86.268769 \nL 88.693125 86.396733 \nL 108.223125 94.381688 \nL 127.753125 80.574369 \nL 147.283125 82.071548 \nL 166.813125 79.179561 \n\" clip-path=\"url(#p6bf0ec9751)\" style=\"fill: none; stroke-dasharray: 9.6,2.4,1.5,2.4; stroke-dashoffset: 0; stroke: #2ca02c; stroke-width: 1.5\"/>\n   </g>\n   <g id=\"line2d_101\">\n    <path d=\"M 34.923295 13.5 \nL 44.646742 90.655272 \nL 54.370189 106.474652 \nL 64.093636 115.402501 \nL 73.817082 119.750044 \nL 83.540529 122.745503 \nL 93.263976 125.416602 \nL 102.987423 128.367432 \nL 112.71087 128.966254 \nL 122.434316 131.292789 \nL 132.157763 132.296003 \nL 141.88121 133.654856 \nL 151.604657 135.206236 \nL 161.328104 135.024873 \nL 171.051551 135.841257 \nL 180.774997 137.342248 \n\" clip-path=\"url(#p6bf0ec9751)\" style=\"fill: none; stroke: #1f77b4; stroke-width: 1.5; stroke-linecap: square\"/>\n   </g>\n   <g id=\"line2d_102\">\n    <path d=\"M 49.633125 92.99219 \nL 69.163125 114.970889 \nL 88.693125 116.679831 \nL 108.223125 99.73393 \nL 127.753125 129.617827 \nL 147.283125 124.989486 \nL 166.813125 131.473377 \nL 186.343125 128.385404 \n\" clip-path=\"url(#p6bf0ec9751)\" style=\"fill: none; stroke-dasharray: 5.55,2.4; stroke-dashoffset: 0; stroke: #ff7f0e; stroke-width: 1.5\"/>\n   </g>\n   <g id=\"line2d_103\">\n    <path d=\"M 49.633125 94.509652 \nL 69.163125 86.268769 \nL 88.693125 86.396733 \nL 108.223125 94.381688 \nL 127.753125 80.574369 \nL 147.283125 82.071548 \nL 166.813125 79.179561 \nL 186.343125 81.81562 \n\" clip-path=\"url(#p6bf0ec9751)\" style=\"fill: none; stroke-dasharray: 9.6,2.4,1.5,2.4; stroke-dashoffset: 0; stroke: #2ca02c; stroke-width: 1.5\"/>\n   </g>\n   <g id=\"line2d_104\">\n    <path d=\"M 34.923295 13.5 \nL 44.646742 90.655272 \nL 54.370189 106.474652 \nL 64.093636 115.402501 \nL 73.817082 119.750044 \nL 83.540529 122.745503 \nL 93.263976 125.416602 \nL 102.987423 128.367432 \nL 112.71087 128.966254 \nL 122.434316 131.292789 \nL 132.157763 132.296003 \nL 141.88121 133.654856 \nL 151.604657 135.206236 \nL 161.328104 135.024873 \nL 171.051551 135.841257 \nL 180.774997 137.342248 \nL 190.498444 138.243559 \n\" clip-path=\"url(#p6bf0ec9751)\" style=\"fill: none; stroke: #1f77b4; stroke-width: 1.5; stroke-linecap: square\"/>\n   </g>\n   <g id=\"line2d_105\">\n    <path d=\"M 49.633125 92.99219 \nL 69.163125 114.970889 \nL 88.693125 116.679831 \nL 108.223125 99.73393 \nL 127.753125 129.617827 \nL 147.283125 124.989486 \nL 166.813125 131.473377 \nL 186.343125 128.385404 \n\" clip-path=\"url(#p6bf0ec9751)\" style=\"fill: none; stroke-dasharray: 5.55,2.4; stroke-dashoffset: 0; stroke: #ff7f0e; stroke-width: 1.5\"/>\n   </g>\n   <g id=\"line2d_106\">\n    <path d=\"M 49.633125 94.509652 \nL 69.163125 86.268769 \nL 88.693125 86.396733 \nL 108.223125 94.381688 \nL 127.753125 80.574369 \nL 147.283125 82.071548 \nL 166.813125 79.179561 \nL 186.343125 81.81562 \n\" clip-path=\"url(#p6bf0ec9751)\" style=\"fill: none; stroke-dasharray: 9.6,2.4,1.5,2.4; stroke-dashoffset: 0; stroke: #2ca02c; stroke-width: 1.5\"/>\n   </g>\n   <g id=\"line2d_107\">\n    <path d=\"M 34.923295 13.5 \nL 44.646742 90.655272 \nL 54.370189 106.474652 \nL 64.093636 115.402501 \nL 73.817082 119.750044 \nL 83.540529 122.745503 \nL 93.263976 125.416602 \nL 102.987423 128.367432 \nL 112.71087 128.966254 \nL 122.434316 131.292789 \nL 132.157763 132.296003 \nL 141.88121 133.654856 \nL 151.604657 135.206236 \nL 161.328104 135.024873 \nL 171.051551 135.841257 \nL 180.774997 137.342248 \nL 190.498444 138.243559 \nL 200.221891 138.98642 \n\" clip-path=\"url(#p6bf0ec9751)\" style=\"fill: none; stroke: #1f77b4; stroke-width: 1.5; stroke-linecap: square\"/>\n   </g>\n   <g id=\"line2d_108\">\n    <path d=\"M 49.633125 92.99219 \nL 69.163125 114.970889 \nL 88.693125 116.679831 \nL 108.223125 99.73393 \nL 127.753125 129.617827 \nL 147.283125 124.989486 \nL 166.813125 131.473377 \nL 186.343125 128.385404 \n\" clip-path=\"url(#p6bf0ec9751)\" style=\"fill: none; stroke-dasharray: 5.55,2.4; stroke-dashoffset: 0; stroke: #ff7f0e; stroke-width: 1.5\"/>\n   </g>\n   <g id=\"line2d_109\">\n    <path d=\"M 49.633125 94.509652 \nL 69.163125 86.268769 \nL 88.693125 86.396733 \nL 108.223125 94.381688 \nL 127.753125 80.574369 \nL 147.283125 82.071548 \nL 166.813125 79.179561 \nL 186.343125 81.81562 \n\" clip-path=\"url(#p6bf0ec9751)\" style=\"fill: none; stroke-dasharray: 9.6,2.4,1.5,2.4; stroke-dashoffset: 0; stroke: #2ca02c; stroke-width: 1.5\"/>\n   </g>\n   <g id=\"line2d_110\">\n    <path d=\"M 34.923295 13.5 \nL 44.646742 90.655272 \nL 54.370189 106.474652 \nL 64.093636 115.402501 \nL 73.817082 119.750044 \nL 83.540529 122.745503 \nL 93.263976 125.416602 \nL 102.987423 128.367432 \nL 112.71087 128.966254 \nL 122.434316 131.292789 \nL 132.157763 132.296003 \nL 141.88121 133.654856 \nL 151.604657 135.206236 \nL 161.328104 135.024873 \nL 171.051551 135.841257 \nL 180.774997 137.342248 \nL 190.498444 138.243559 \nL 200.221891 138.98642 \n\" clip-path=\"url(#p6bf0ec9751)\" style=\"fill: none; stroke: #1f77b4; stroke-width: 1.5; stroke-linecap: square\"/>\n   </g>\n   <g id=\"line2d_111\">\n    <path d=\"M 49.633125 92.99219 \nL 69.163125 114.970889 \nL 88.693125 116.679831 \nL 108.223125 99.73393 \nL 127.753125 129.617827 \nL 147.283125 124.989486 \nL 166.813125 131.473377 \nL 186.343125 128.385404 \nL 205.873125 134.162288 \n\" clip-path=\"url(#p6bf0ec9751)\" style=\"fill: none; stroke-dasharray: 5.55,2.4; stroke-dashoffset: 0; stroke: #ff7f0e; stroke-width: 1.5\"/>\n   </g>\n   <g id=\"line2d_112\">\n    <path d=\"M 49.633125 94.509652 \nL 69.163125 86.268769 \nL 88.693125 86.396733 \nL 108.223125 94.381688 \nL 127.753125 80.574369 \nL 147.283125 82.071548 \nL 166.813125 79.179561 \nL 186.343125 81.81562 \n\" clip-path=\"url(#p6bf0ec9751)\" style=\"fill: none; stroke-dasharray: 9.6,2.4,1.5,2.4; stroke-dashoffset: 0; stroke: #2ca02c; stroke-width: 1.5\"/>\n   </g>\n   <g id=\"line2d_113\">\n    <path d=\"M 34.923295 13.5 \nL 44.646742 90.655272 \nL 54.370189 106.474652 \nL 64.093636 115.402501 \nL 73.817082 119.750044 \nL 83.540529 122.745503 \nL 93.263976 125.416602 \nL 102.987423 128.367432 \nL 112.71087 128.966254 \nL 122.434316 131.292789 \nL 132.157763 132.296003 \nL 141.88121 133.654856 \nL 151.604657 135.206236 \nL 161.328104 135.024873 \nL 171.051551 135.841257 \nL 180.774997 137.342248 \nL 190.498444 138.243559 \nL 200.221891 138.98642 \n\" clip-path=\"url(#p6bf0ec9751)\" style=\"fill: none; stroke: #1f77b4; stroke-width: 1.5; stroke-linecap: square\"/>\n   </g>\n   <g id=\"line2d_114\">\n    <path d=\"M 49.633125 92.99219 \nL 69.163125 114.970889 \nL 88.693125 116.679831 \nL 108.223125 99.73393 \nL 127.753125 129.617827 \nL 147.283125 124.989486 \nL 166.813125 131.473377 \nL 186.343125 128.385404 \nL 205.873125 134.162288 \n\" clip-path=\"url(#p6bf0ec9751)\" style=\"fill: none; stroke-dasharray: 5.55,2.4; stroke-dashoffset: 0; stroke: #ff7f0e; stroke-width: 1.5\"/>\n   </g>\n   <g id=\"line2d_115\">\n    <path d=\"M 49.633125 94.509652 \nL 69.163125 86.268769 \nL 88.693125 86.396733 \nL 108.223125 94.381688 \nL 127.753125 80.574369 \nL 147.283125 82.071548 \nL 166.813125 79.179561 \nL 186.343125 81.81562 \nL 205.873125 79.064393 \n\" clip-path=\"url(#p6bf0ec9751)\" style=\"fill: none; stroke-dasharray: 9.6,2.4,1.5,2.4; stroke-dashoffset: 0; stroke: #2ca02c; stroke-width: 1.5\"/>\n   </g>\n   <g id=\"line2d_116\">\n    <path d=\"M 34.923295 13.5 \nL 44.646742 90.655272 \nL 54.370189 106.474652 \nL 64.093636 115.402501 \nL 73.817082 119.750044 \nL 83.540529 122.745503 \nL 93.263976 125.416602 \nL 102.987423 128.367432 \nL 112.71087 128.966254 \nL 122.434316 131.292789 \nL 132.157763 132.296003 \nL 141.88121 133.654856 \nL 151.604657 135.206236 \nL 161.328104 135.024873 \nL 171.051551 135.841257 \nL 180.774997 137.342248 \nL 190.498444 138.243559 \nL 200.221891 138.98642 \nL 209.945338 139.238971 \n\" clip-path=\"url(#p6bf0ec9751)\" style=\"fill: none; stroke: #1f77b4; stroke-width: 1.5; stroke-linecap: square\"/>\n   </g>\n   <g id=\"line2d_117\">\n    <path d=\"M 49.633125 92.99219 \nL 69.163125 114.970889 \nL 88.693125 116.679831 \nL 108.223125 99.73393 \nL 127.753125 129.617827 \nL 147.283125 124.989486 \nL 166.813125 131.473377 \nL 186.343125 128.385404 \nL 205.873125 134.162288 \n\" clip-path=\"url(#p6bf0ec9751)\" style=\"fill: none; stroke-dasharray: 5.55,2.4; stroke-dashoffset: 0; stroke: #ff7f0e; stroke-width: 1.5\"/>\n   </g>\n   <g id=\"line2d_118\">\n    <path d=\"M 49.633125 94.509652 \nL 69.163125 86.268769 \nL 88.693125 86.396733 \nL 108.223125 94.381688 \nL 127.753125 80.574369 \nL 147.283125 82.071548 \nL 166.813125 79.179561 \nL 186.343125 81.81562 \nL 205.873125 79.064393 \n\" clip-path=\"url(#p6bf0ec9751)\" style=\"fill: none; stroke-dasharray: 9.6,2.4,1.5,2.4; stroke-dashoffset: 0; stroke: #2ca02c; stroke-width: 1.5\"/>\n   </g>\n   <g id=\"line2d_119\">\n    <path d=\"M 34.923295 13.5 \nL 44.646742 90.655272 \nL 54.370189 106.474652 \nL 64.093636 115.402501 \nL 73.817082 119.750044 \nL 83.540529 122.745503 \nL 93.263976 125.416602 \nL 102.987423 128.367432 \nL 112.71087 128.966254 \nL 122.434316 131.292789 \nL 132.157763 132.296003 \nL 141.88121 133.654856 \nL 151.604657 135.206236 \nL 161.328104 135.024873 \nL 171.051551 135.841257 \nL 180.774997 137.342248 \nL 190.498444 138.243559 \nL 200.221891 138.98642 \nL 209.945338 139.238971 \nL 219.668785 139.5 \n\" clip-path=\"url(#p6bf0ec9751)\" style=\"fill: none; stroke: #1f77b4; stroke-width: 1.5; stroke-linecap: square\"/>\n   </g>\n   <g id=\"line2d_120\">\n    <path d=\"M 49.633125 92.99219 \nL 69.163125 114.970889 \nL 88.693125 116.679831 \nL 108.223125 99.73393 \nL 127.753125 129.617827 \nL 147.283125 124.989486 \nL 166.813125 131.473377 \nL 186.343125 128.385404 \nL 205.873125 134.162288 \n\" clip-path=\"url(#p6bf0ec9751)\" style=\"fill: none; stroke-dasharray: 5.55,2.4; stroke-dashoffset: 0; stroke: #ff7f0e; stroke-width: 1.5\"/>\n   </g>\n   <g id=\"line2d_121\">\n    <path d=\"M 49.633125 94.509652 \nL 69.163125 86.268769 \nL 88.693125 86.396733 \nL 108.223125 94.381688 \nL 127.753125 80.574369 \nL 147.283125 82.071548 \nL 166.813125 79.179561 \nL 186.343125 81.81562 \nL 205.873125 79.064393 \n\" clip-path=\"url(#p6bf0ec9751)\" style=\"fill: none; stroke-dasharray: 9.6,2.4,1.5,2.4; stroke-dashoffset: 0; stroke: #2ca02c; stroke-width: 1.5\"/>\n   </g>\n   <g id=\"line2d_122\">\n    <path d=\"M 34.923295 13.5 \nL 44.646742 90.655272 \nL 54.370189 106.474652 \nL 64.093636 115.402501 \nL 73.817082 119.750044 \nL 83.540529 122.745503 \nL 93.263976 125.416602 \nL 102.987423 128.367432 \nL 112.71087 128.966254 \nL 122.434316 131.292789 \nL 132.157763 132.296003 \nL 141.88121 133.654856 \nL 151.604657 135.206236 \nL 161.328104 135.024873 \nL 171.051551 135.841257 \nL 180.774997 137.342248 \nL 190.498444 138.243559 \nL 200.221891 138.98642 \nL 209.945338 139.238971 \nL 219.668785 139.5 \n\" clip-path=\"url(#p6bf0ec9751)\" style=\"fill: none; stroke: #1f77b4; stroke-width: 1.5; stroke-linecap: square\"/>\n   </g>\n   <g id=\"line2d_123\">\n    <path d=\"M 49.633125 92.99219 \nL 69.163125 114.970889 \nL 88.693125 116.679831 \nL 108.223125 99.73393 \nL 127.753125 129.617827 \nL 147.283125 124.989486 \nL 166.813125 131.473377 \nL 186.343125 128.385404 \nL 205.873125 134.162288 \nL 225.403125 121.85914 \n\" clip-path=\"url(#p6bf0ec9751)\" style=\"fill: none; stroke-dasharray: 5.55,2.4; stroke-dashoffset: 0; stroke: #ff7f0e; stroke-width: 1.5\"/>\n   </g>\n   <g id=\"line2d_124\">\n    <path d=\"M 49.633125 94.509652 \nL 69.163125 86.268769 \nL 88.693125 86.396733 \nL 108.223125 94.381688 \nL 127.753125 80.574369 \nL 147.283125 82.071548 \nL 166.813125 79.179561 \nL 186.343125 81.81562 \nL 205.873125 79.064393 \n\" clip-path=\"url(#p6bf0ec9751)\" style=\"fill: none; stroke-dasharray: 9.6,2.4,1.5,2.4; stroke-dashoffset: 0; stroke: #2ca02c; stroke-width: 1.5\"/>\n   </g>\n   <g id=\"line2d_125\">\n    <path d=\"M 34.923295 13.5 \nL 44.646742 90.655272 \nL 54.370189 106.474652 \nL 64.093636 115.402501 \nL 73.817082 119.750044 \nL 83.540529 122.745503 \nL 93.263976 125.416602 \nL 102.987423 128.367432 \nL 112.71087 128.966254 \nL 122.434316 131.292789 \nL 132.157763 132.296003 \nL 141.88121 133.654856 \nL 151.604657 135.206236 \nL 161.328104 135.024873 \nL 171.051551 135.841257 \nL 180.774997 137.342248 \nL 190.498444 138.243559 \nL 200.221891 138.98642 \nL 209.945338 139.238971 \nL 219.668785 139.5 \n\" clip-path=\"url(#p6bf0ec9751)\" style=\"fill: none; stroke: #1f77b4; stroke-width: 1.5; stroke-linecap: square\"/>\n   </g>\n   <g id=\"line2d_126\">\n    <path d=\"M 49.633125 92.99219 \nL 69.163125 114.970889 \nL 88.693125 116.679831 \nL 108.223125 99.73393 \nL 127.753125 129.617827 \nL 147.283125 124.989486 \nL 166.813125 131.473377 \nL 186.343125 128.385404 \nL 205.873125 134.162288 \nL 225.403125 121.85914 \n\" clip-path=\"url(#p6bf0ec9751)\" style=\"fill: none; stroke-dasharray: 5.55,2.4; stroke-dashoffset: 0; stroke: #ff7f0e; stroke-width: 1.5\"/>\n   </g>\n   <g id=\"line2d_127\">\n    <path d=\"M 49.633125 94.509652 \nL 69.163125 86.268769 \nL 88.693125 86.396733 \nL 108.223125 94.381688 \nL 127.753125 80.574369 \nL 147.283125 82.071548 \nL 166.813125 79.179561 \nL 186.343125 81.81562 \nL 205.873125 79.064393 \nL 225.403125 83.747877 \n\" clip-path=\"url(#p6bf0ec9751)\" style=\"fill: none; stroke-dasharray: 9.6,2.4,1.5,2.4; stroke-dashoffset: 0; stroke: #2ca02c; stroke-width: 1.5\"/>\n   </g>\n   <g id=\"patch_3\">\n    <path d=\"M 30.103125 145.8 \nL 30.103125 7.2 \n\" style=\"fill: none; stroke: #000000; stroke-width: 0.8; stroke-linejoin: miter; stroke-linecap: square\"/>\n   </g>\n   <g id=\"patch_4\">\n    <path d=\"M 225.403125 145.8 \nL 225.403125 7.2 \n\" style=\"fill: none; stroke: #000000; stroke-width: 0.8; stroke-linejoin: miter; stroke-linecap: square\"/>\n   </g>\n   <g id=\"patch_5\">\n    <path d=\"M 30.103125 145.8 \nL 225.403125 145.8 \n\" style=\"fill: none; stroke: #000000; stroke-width: 0.8; stroke-linejoin: miter; stroke-linecap: square\"/>\n   </g>\n   <g id=\"patch_6\">\n    <path d=\"M 30.103125 7.2 \nL 225.403125 7.2 \n\" style=\"fill: none; stroke: #000000; stroke-width: 0.8; stroke-linejoin: miter; stroke-linecap: square\"/>\n   </g>\n   <g id=\"legend_1\">\n    <g id=\"patch_7\">\n     <path d=\"M 138.8125 60.06875 \nL 218.403125 60.06875 \nQ 220.403125 60.06875 220.403125 58.06875 \nL 220.403125 14.2 \nQ 220.403125 12.2 218.403125 12.2 \nL 138.8125 12.2 \nQ 136.8125 12.2 136.8125 14.2 \nL 136.8125 58.06875 \nQ 136.8125 60.06875 138.8125 60.06875 \nz\n\" style=\"fill: #ffffff; opacity: 0.8; stroke: #cccccc; stroke-linejoin: miter\"/>\n    </g>\n    <g id=\"line2d_128\">\n     <path d=\"M 140.8125 20.298438 \nL 150.8125 20.298438 \nL 160.8125 20.298438 \n\" style=\"fill: none; stroke: #1f77b4; stroke-width: 1.5; stroke-linecap: square\"/>\n    </g>\n    <g id=\"text_13\">\n     <!-- train_loss -->\n     <g transform=\"translate(168.8125 23.798438) scale(0.1 -0.1)\">\n      <defs>\n       <path id=\"DejaVuSans-74\" d=\"M 1172 4494 \nL 1172 3500 \nL 2356 3500 \nL 2356 3053 \nL 1172 3053 \nL 1172 1153 \nQ 1172 725 1289 603 \nQ 1406 481 1766 481 \nL 2356 481 \nL 2356 0 \nL 1766 0 \nQ 1100 0 847 248 \nQ 594 497 594 1153 \nL 594 3053 \nL 172 3053 \nL 172 3500 \nL 594 3500 \nL 594 4494 \nL 1172 4494 \nz\n\" transform=\"scale(0.015625)\"/>\n       <path id=\"DejaVuSans-72\" d=\"M 2631 2963 \nQ 2534 3019 2420 3045 \nQ 2306 3072 2169 3072 \nQ 1681 3072 1420 2755 \nQ 1159 2438 1159 1844 \nL 1159 0 \nL 581 0 \nL 581 3500 \nL 1159 3500 \nL 1159 2956 \nQ 1341 3275 1631 3429 \nQ 1922 3584 2338 3584 \nQ 2397 3584 2469 3576 \nQ 2541 3569 2628 3553 \nL 2631 2963 \nz\n\" transform=\"scale(0.015625)\"/>\n       <path id=\"DejaVuSans-61\" d=\"M 2194 1759 \nQ 1497 1759 1228 1600 \nQ 959 1441 959 1056 \nQ 959 750 1161 570 \nQ 1363 391 1709 391 \nQ 2188 391 2477 730 \nQ 2766 1069 2766 1631 \nL 2766 1759 \nL 2194 1759 \nz\nM 3341 1997 \nL 3341 0 \nL 2766 0 \nL 2766 531 \nQ 2569 213 2275 61 \nQ 1981 -91 1556 -91 \nQ 1019 -91 701 211 \nQ 384 513 384 1019 \nQ 384 1609 779 1909 \nQ 1175 2209 1959 2209 \nL 2766 2209 \nL 2766 2266 \nQ 2766 2663 2505 2880 \nQ 2244 3097 1772 3097 \nQ 1472 3097 1187 3025 \nQ 903 2953 641 2809 \nL 641 3341 \nQ 956 3463 1253 3523 \nQ 1550 3584 1831 3584 \nQ 2591 3584 2966 3190 \nQ 3341 2797 3341 1997 \nz\n\" transform=\"scale(0.015625)\"/>\n       <path id=\"DejaVuSans-69\" d=\"M 603 3500 \nL 1178 3500 \nL 1178 0 \nL 603 0 \nL 603 3500 \nz\nM 603 4863 \nL 1178 4863 \nL 1178 4134 \nL 603 4134 \nL 603 4863 \nz\n\" transform=\"scale(0.015625)\"/>\n       <path id=\"DejaVuSans-6e\" d=\"M 3513 2113 \nL 3513 0 \nL 2938 0 \nL 2938 2094 \nQ 2938 2591 2744 2837 \nQ 2550 3084 2163 3084 \nQ 1697 3084 1428 2787 \nQ 1159 2491 1159 1978 \nL 1159 0 \nL 581 0 \nL 581 3500 \nL 1159 3500 \nL 1159 2956 \nQ 1366 3272 1645 3428 \nQ 1925 3584 2291 3584 \nQ 2894 3584 3203 3211 \nQ 3513 2838 3513 2113 \nz\n\" transform=\"scale(0.015625)\"/>\n       <path id=\"DejaVuSans-5f\" d=\"M 3263 -1063 \nL 3263 -1509 \nL -63 -1509 \nL -63 -1063 \nL 3263 -1063 \nz\n\" transform=\"scale(0.015625)\"/>\n       <path id=\"DejaVuSans-6c\" d=\"M 603 4863 \nL 1178 4863 \nL 1178 0 \nL 603 0 \nL 603 4863 \nz\n\" transform=\"scale(0.015625)\"/>\n       <path id=\"DejaVuSans-73\" d=\"M 2834 3397 \nL 2834 2853 \nQ 2591 2978 2328 3040 \nQ 2066 3103 1784 3103 \nQ 1356 3103 1142 2972 \nQ 928 2841 928 2578 \nQ 928 2378 1081 2264 \nQ 1234 2150 1697 2047 \nL 1894 2003 \nQ 2506 1872 2764 1633 \nQ 3022 1394 3022 966 \nQ 3022 478 2636 193 \nQ 2250 -91 1575 -91 \nQ 1294 -91 989 -36 \nQ 684 19 347 128 \nL 347 722 \nQ 666 556 975 473 \nQ 1284 391 1588 391 \nQ 1994 391 2212 530 \nQ 2431 669 2431 922 \nQ 2431 1156 2273 1281 \nQ 2116 1406 1581 1522 \nL 1381 1569 \nQ 847 1681 609 1914 \nQ 372 2147 372 2553 \nQ 372 3047 722 3315 \nQ 1072 3584 1716 3584 \nQ 2034 3584 2315 3537 \nQ 2597 3491 2834 3397 \nz\n\" transform=\"scale(0.015625)\"/>\n      </defs>\n      <use xlink:href=\"#DejaVuSans-74\"/>\n      <use xlink:href=\"#DejaVuSans-72\" x=\"39.208984\"/>\n      <use xlink:href=\"#DejaVuSans-61\" x=\"80.322266\"/>\n      <use xlink:href=\"#DejaVuSans-69\" x=\"141.601562\"/>\n      <use xlink:href=\"#DejaVuSans-6e\" x=\"169.384766\"/>\n      <use xlink:href=\"#DejaVuSans-5f\" x=\"232.763672\"/>\n      <use xlink:href=\"#DejaVuSans-6c\" x=\"282.763672\"/>\n      <use xlink:href=\"#DejaVuSans-6f\" x=\"310.546875\"/>\n      <use xlink:href=\"#DejaVuSans-73\" x=\"371.728516\"/>\n      <use xlink:href=\"#DejaVuSans-73\" x=\"423.828125\"/>\n     </g>\n    </g>\n    <g id=\"line2d_129\">\n     <path d=\"M 140.8125 35.254688 \nL 150.8125 35.254688 \nL 160.8125 35.254688 \n\" style=\"fill: none; stroke-dasharray: 5.55,2.4; stroke-dashoffset: 0; stroke: #ff7f0e; stroke-width: 1.5\"/>\n    </g>\n    <g id=\"text_14\">\n     <!-- val_loss -->\n     <g transform=\"translate(168.8125 38.754688) scale(0.1 -0.1)\">\n      <defs>\n       <path id=\"DejaVuSans-76\" d=\"M 191 3500 \nL 800 3500 \nL 1894 563 \nL 2988 3500 \nL 3597 3500 \nL 2284 0 \nL 1503 0 \nL 191 3500 \nz\n\" transform=\"scale(0.015625)\"/>\n      </defs>\n      <use xlink:href=\"#DejaVuSans-76\"/>\n      <use xlink:href=\"#DejaVuSans-61\" x=\"59.179688\"/>\n      <use xlink:href=\"#DejaVuSans-6c\" x=\"120.458984\"/>\n      <use xlink:href=\"#DejaVuSans-5f\" x=\"148.242188\"/>\n      <use xlink:href=\"#DejaVuSans-6c\" x=\"198.242188\"/>\n      <use xlink:href=\"#DejaVuSans-6f\" x=\"226.025391\"/>\n      <use xlink:href=\"#DejaVuSans-73\" x=\"287.207031\"/>\n      <use xlink:href=\"#DejaVuSans-73\" x=\"339.306641\"/>\n     </g>\n    </g>\n    <g id=\"line2d_130\">\n     <path d=\"M 140.8125 50.210938 \nL 150.8125 50.210938 \nL 160.8125 50.210938 \n\" style=\"fill: none; stroke-dasharray: 9.6,2.4,1.5,2.4; stroke-dashoffset: 0; stroke: #2ca02c; stroke-width: 1.5\"/>\n    </g>\n    <g id=\"text_15\">\n     <!-- val_acc -->\n     <g transform=\"translate(168.8125 53.710938) scale(0.1 -0.1)\">\n      <use xlink:href=\"#DejaVuSans-76\"/>\n      <use xlink:href=\"#DejaVuSans-61\" x=\"59.179688\"/>\n      <use xlink:href=\"#DejaVuSans-6c\" x=\"120.458984\"/>\n      <use xlink:href=\"#DejaVuSans-5f\" x=\"148.242188\"/>\n      <use xlink:href=\"#DejaVuSans-61\" x=\"198.242188\"/>\n      <use xlink:href=\"#DejaVuSans-63\" x=\"259.521484\"/>\n      <use xlink:href=\"#DejaVuSans-63\" x=\"314.501953\"/>\n     </g>\n    </g>\n   </g>\n  </g>\n </g>\n <defs>\n  <clipPath id=\"p6bf0ec9751\">\n   <rect x=\"30.103125\" y=\"7.2\" width=\"195.3\" height=\"138.6\"/>\n  </clipPath>\n </defs>\n</svg>\n"
          },
          "metadata": {}
        }
      ]
    },
    {
      "cell_type": "code",
      "source": [
        "class MLP(d2l.Classifier):\n",
        "    def __init__(self, num_outputs, num_hiddens, lr):\n",
        "        super().__init__()\n",
        "        self.save_hyperparameters()\n",
        "        self.net = nn.Sequential(nn.Flatten(), nn.LazyLinear(num_hiddens), nn.ReLU(), nn.LazyLinear(num_outputs))"
      ],
      "metadata": {
        "id": "mLoPAolXOD0n"
      },
      "execution_count": null,
      "outputs": []
    },
    {
      "cell_type": "code",
      "source": [
        "model = MLP(num_outputs=10, num_hiddens=256, lr=0.1)\n",
        "trainer.fit(model, data)"
      ],
      "metadata": {
        "colab": {
          "base_uri": "https://localhost:8080/",
          "height": 264
        },
        "id": "GsuJBdpOOFLT",
        "outputId": "01fcd47c-2952-4521-9a6a-9ae93163df36"
      },
      "execution_count": null,
      "outputs": [
        {
          "output_type": "display_data",
          "data": {
            "text/plain": [
              "<Figure size 350x250 with 1 Axes>"
            ],
            "image/svg+xml": "<?xml version=\"1.0\" encoding=\"utf-8\" standalone=\"no\"?>\n<!DOCTYPE svg PUBLIC \"-//W3C//DTD SVG 1.1//EN\"\n  \"http://www.w3.org/Graphics/SVG/1.1/DTD/svg11.dtd\">\n<svg xmlns:xlink=\"http://www.w3.org/1999/xlink\" width=\"238.965625pt\" height=\"183.35625pt\" viewBox=\"0 0 238.965625 183.35625\" xmlns=\"http://www.w3.org/2000/svg\" version=\"1.1\">\n <metadata>\n  <rdf:RDF xmlns:dc=\"http://purl.org/dc/elements/1.1/\" xmlns:cc=\"http://creativecommons.org/ns#\" xmlns:rdf=\"http://www.w3.org/1999/02/22-rdf-syntax-ns#\">\n   <cc:Work>\n    <dc:type rdf:resource=\"http://purl.org/dc/dcmitype/StillImage\"/>\n    <dc:date>2024-09-24T04:14:55.853353</dc:date>\n    <dc:format>image/svg+xml</dc:format>\n    <dc:creator>\n     <cc:Agent>\n      <dc:title>Matplotlib v3.7.1, https://matplotlib.org/</dc:title>\n     </cc:Agent>\n    </dc:creator>\n   </cc:Work>\n  </rdf:RDF>\n </metadata>\n <defs>\n  <style type=\"text/css\">*{stroke-linejoin: round; stroke-linecap: butt}</style>\n </defs>\n <g id=\"figure_1\">\n  <g id=\"patch_1\">\n   <path d=\"M 0 183.35625 \nL 238.965625 183.35625 \nL 238.965625 0 \nL 0 0 \nz\n\" style=\"fill: #ffffff\"/>\n  </g>\n  <g id=\"axes_1\">\n   <g id=\"patch_2\">\n    <path d=\"M 30.103125 145.8 \nL 225.403125 145.8 \nL 225.403125 7.2 \nL 30.103125 7.2 \nz\n\" style=\"fill: #ffffff\"/>\n   </g>\n   <g id=\"matplotlib.axis_1\">\n    <g id=\"xtick_1\">\n     <g id=\"line2d_1\">\n      <defs>\n       <path id=\"m7a8f5d6514\" d=\"M 0 0 \nL 0 3.5 \n\" style=\"stroke: #000000; stroke-width: 0.8\"/>\n      </defs>\n      <g>\n       <use xlink:href=\"#m7a8f5d6514\" x=\"30.103125\" y=\"145.8\" style=\"stroke: #000000; stroke-width: 0.8\"/>\n      </g>\n     </g>\n     <g id=\"text_1\">\n      <!-- 0 -->\n      <g transform=\"translate(26.921875 160.398438) scale(0.1 -0.1)\">\n       <defs>\n        <path id=\"DejaVuSans-30\" d=\"M 2034 4250 \nQ 1547 4250 1301 3770 \nQ 1056 3291 1056 2328 \nQ 1056 1369 1301 889 \nQ 1547 409 2034 409 \nQ 2525 409 2770 889 \nQ 3016 1369 3016 2328 \nQ 3016 3291 2770 3770 \nQ 2525 4250 2034 4250 \nz\nM 2034 4750 \nQ 2819 4750 3233 4129 \nQ 3647 3509 3647 2328 \nQ 3647 1150 3233 529 \nQ 2819 -91 2034 -91 \nQ 1250 -91 836 529 \nQ 422 1150 422 2328 \nQ 422 3509 836 4129 \nQ 1250 4750 2034 4750 \nz\n\" transform=\"scale(0.015625)\"/>\n       </defs>\n       <use xlink:href=\"#DejaVuSans-30\"/>\n      </g>\n     </g>\n    </g>\n    <g id=\"xtick_2\">\n     <g id=\"line2d_2\">\n      <g>\n       <use xlink:href=\"#m7a8f5d6514\" x=\"69.163125\" y=\"145.8\" style=\"stroke: #000000; stroke-width: 0.8\"/>\n      </g>\n     </g>\n     <g id=\"text_2\">\n      <!-- 2 -->\n      <g transform=\"translate(65.981875 160.398438) scale(0.1 -0.1)\">\n       <defs>\n        <path id=\"DejaVuSans-32\" d=\"M 1228 531 \nL 3431 531 \nL 3431 0 \nL 469 0 \nL 469 531 \nQ 828 903 1448 1529 \nQ 2069 2156 2228 2338 \nQ 2531 2678 2651 2914 \nQ 2772 3150 2772 3378 \nQ 2772 3750 2511 3984 \nQ 2250 4219 1831 4219 \nQ 1534 4219 1204 4116 \nQ 875 4013 500 3803 \nL 500 4441 \nQ 881 4594 1212 4672 \nQ 1544 4750 1819 4750 \nQ 2544 4750 2975 4387 \nQ 3406 4025 3406 3419 \nQ 3406 3131 3298 2873 \nQ 3191 2616 2906 2266 \nQ 2828 2175 2409 1742 \nQ 1991 1309 1228 531 \nz\n\" transform=\"scale(0.015625)\"/>\n       </defs>\n       <use xlink:href=\"#DejaVuSans-32\"/>\n      </g>\n     </g>\n    </g>\n    <g id=\"xtick_3\">\n     <g id=\"line2d_3\">\n      <g>\n       <use xlink:href=\"#m7a8f5d6514\" x=\"108.223125\" y=\"145.8\" style=\"stroke: #000000; stroke-width: 0.8\"/>\n      </g>\n     </g>\n     <g id=\"text_3\">\n      <!-- 4 -->\n      <g transform=\"translate(105.041875 160.398438) scale(0.1 -0.1)\">\n       <defs>\n        <path id=\"DejaVuSans-34\" d=\"M 2419 4116 \nL 825 1625 \nL 2419 1625 \nL 2419 4116 \nz\nM 2253 4666 \nL 3047 4666 \nL 3047 1625 \nL 3713 1625 \nL 3713 1100 \nL 3047 1100 \nL 3047 0 \nL 2419 0 \nL 2419 1100 \nL 313 1100 \nL 313 1709 \nL 2253 4666 \nz\n\" transform=\"scale(0.015625)\"/>\n       </defs>\n       <use xlink:href=\"#DejaVuSans-34\"/>\n      </g>\n     </g>\n    </g>\n    <g id=\"xtick_4\">\n     <g id=\"line2d_4\">\n      <g>\n       <use xlink:href=\"#m7a8f5d6514\" x=\"147.283125\" y=\"145.8\" style=\"stroke: #000000; stroke-width: 0.8\"/>\n      </g>\n     </g>\n     <g id=\"text_4\">\n      <!-- 6 -->\n      <g transform=\"translate(144.101875 160.398438) scale(0.1 -0.1)\">\n       <defs>\n        <path id=\"DejaVuSans-36\" d=\"M 2113 2584 \nQ 1688 2584 1439 2293 \nQ 1191 2003 1191 1497 \nQ 1191 994 1439 701 \nQ 1688 409 2113 409 \nQ 2538 409 2786 701 \nQ 3034 994 3034 1497 \nQ 3034 2003 2786 2293 \nQ 2538 2584 2113 2584 \nz\nM 3366 4563 \nL 3366 3988 \nQ 3128 4100 2886 4159 \nQ 2644 4219 2406 4219 \nQ 1781 4219 1451 3797 \nQ 1122 3375 1075 2522 \nQ 1259 2794 1537 2939 \nQ 1816 3084 2150 3084 \nQ 2853 3084 3261 2657 \nQ 3669 2231 3669 1497 \nQ 3669 778 3244 343 \nQ 2819 -91 2113 -91 \nQ 1303 -91 875 529 \nQ 447 1150 447 2328 \nQ 447 3434 972 4092 \nQ 1497 4750 2381 4750 \nQ 2619 4750 2861 4703 \nQ 3103 4656 3366 4563 \nz\n\" transform=\"scale(0.015625)\"/>\n       </defs>\n       <use xlink:href=\"#DejaVuSans-36\"/>\n      </g>\n     </g>\n    </g>\n    <g id=\"xtick_5\">\n     <g id=\"line2d_5\">\n      <g>\n       <use xlink:href=\"#m7a8f5d6514\" x=\"186.343125\" y=\"145.8\" style=\"stroke: #000000; stroke-width: 0.8\"/>\n      </g>\n     </g>\n     <g id=\"text_5\">\n      <!-- 8 -->\n      <g transform=\"translate(183.161875 160.398438) scale(0.1 -0.1)\">\n       <defs>\n        <path id=\"DejaVuSans-38\" d=\"M 2034 2216 \nQ 1584 2216 1326 1975 \nQ 1069 1734 1069 1313 \nQ 1069 891 1326 650 \nQ 1584 409 2034 409 \nQ 2484 409 2743 651 \nQ 3003 894 3003 1313 \nQ 3003 1734 2745 1975 \nQ 2488 2216 2034 2216 \nz\nM 1403 2484 \nQ 997 2584 770 2862 \nQ 544 3141 544 3541 \nQ 544 4100 942 4425 \nQ 1341 4750 2034 4750 \nQ 2731 4750 3128 4425 \nQ 3525 4100 3525 3541 \nQ 3525 3141 3298 2862 \nQ 3072 2584 2669 2484 \nQ 3125 2378 3379 2068 \nQ 3634 1759 3634 1313 \nQ 3634 634 3220 271 \nQ 2806 -91 2034 -91 \nQ 1263 -91 848 271 \nQ 434 634 434 1313 \nQ 434 1759 690 2068 \nQ 947 2378 1403 2484 \nz\nM 1172 3481 \nQ 1172 3119 1398 2916 \nQ 1625 2713 2034 2713 \nQ 2441 2713 2670 2916 \nQ 2900 3119 2900 3481 \nQ 2900 3844 2670 4047 \nQ 2441 4250 2034 4250 \nQ 1625 4250 1398 4047 \nQ 1172 3844 1172 3481 \nz\n\" transform=\"scale(0.015625)\"/>\n       </defs>\n       <use xlink:href=\"#DejaVuSans-38\"/>\n      </g>\n     </g>\n    </g>\n    <g id=\"xtick_6\">\n     <g id=\"line2d_6\">\n      <g>\n       <use xlink:href=\"#m7a8f5d6514\" x=\"225.403125\" y=\"145.8\" style=\"stroke: #000000; stroke-width: 0.8\"/>\n      </g>\n     </g>\n     <g id=\"text_6\">\n      <!-- 10 -->\n      <g transform=\"translate(219.040625 160.398438) scale(0.1 -0.1)\">\n       <defs>\n        <path id=\"DejaVuSans-31\" d=\"M 794 531 \nL 1825 531 \nL 1825 4091 \nL 703 3866 \nL 703 4441 \nL 1819 4666 \nL 2450 4666 \nL 2450 531 \nL 3481 531 \nL 3481 0 \nL 794 0 \nL 794 531 \nz\n\" transform=\"scale(0.015625)\"/>\n       </defs>\n       <use xlink:href=\"#DejaVuSans-31\"/>\n       <use xlink:href=\"#DejaVuSans-30\" x=\"63.623047\"/>\n      </g>\n     </g>\n    </g>\n    <g id=\"text_7\">\n     <!-- epoch -->\n     <g transform=\"translate(112.525 174.076563) scale(0.1 -0.1)\">\n      <defs>\n       <path id=\"DejaVuSans-65\" d=\"M 3597 1894 \nL 3597 1613 \nL 953 1613 \nQ 991 1019 1311 708 \nQ 1631 397 2203 397 \nQ 2534 397 2845 478 \nQ 3156 559 3463 722 \nL 3463 178 \nQ 3153 47 2828 -22 \nQ 2503 -91 2169 -91 \nQ 1331 -91 842 396 \nQ 353 884 353 1716 \nQ 353 2575 817 3079 \nQ 1281 3584 2069 3584 \nQ 2775 3584 3186 3129 \nQ 3597 2675 3597 1894 \nz\nM 3022 2063 \nQ 3016 2534 2758 2815 \nQ 2500 3097 2075 3097 \nQ 1594 3097 1305 2825 \nQ 1016 2553 972 2059 \nL 3022 2063 \nz\n\" transform=\"scale(0.015625)\"/>\n       <path id=\"DejaVuSans-70\" d=\"M 1159 525 \nL 1159 -1331 \nL 581 -1331 \nL 581 3500 \nL 1159 3500 \nL 1159 2969 \nQ 1341 3281 1617 3432 \nQ 1894 3584 2278 3584 \nQ 2916 3584 3314 3078 \nQ 3713 2572 3713 1747 \nQ 3713 922 3314 415 \nQ 2916 -91 2278 -91 \nQ 1894 -91 1617 61 \nQ 1341 213 1159 525 \nz\nM 3116 1747 \nQ 3116 2381 2855 2742 \nQ 2594 3103 2138 3103 \nQ 1681 3103 1420 2742 \nQ 1159 2381 1159 1747 \nQ 1159 1113 1420 752 \nQ 1681 391 2138 391 \nQ 2594 391 2855 752 \nQ 3116 1113 3116 1747 \nz\n\" transform=\"scale(0.015625)\"/>\n       <path id=\"DejaVuSans-6f\" d=\"M 1959 3097 \nQ 1497 3097 1228 2736 \nQ 959 2375 959 1747 \nQ 959 1119 1226 758 \nQ 1494 397 1959 397 \nQ 2419 397 2687 759 \nQ 2956 1122 2956 1747 \nQ 2956 2369 2687 2733 \nQ 2419 3097 1959 3097 \nz\nM 1959 3584 \nQ 2709 3584 3137 3096 \nQ 3566 2609 3566 1747 \nQ 3566 888 3137 398 \nQ 2709 -91 1959 -91 \nQ 1206 -91 779 398 \nQ 353 888 353 1747 \nQ 353 2609 779 3096 \nQ 1206 3584 1959 3584 \nz\n\" transform=\"scale(0.015625)\"/>\n       <path id=\"DejaVuSans-63\" d=\"M 3122 3366 \nL 3122 2828 \nQ 2878 2963 2633 3030 \nQ 2388 3097 2138 3097 \nQ 1578 3097 1268 2742 \nQ 959 2388 959 1747 \nQ 959 1106 1268 751 \nQ 1578 397 2138 397 \nQ 2388 397 2633 464 \nQ 2878 531 3122 666 \nL 3122 134 \nQ 2881 22 2623 -34 \nQ 2366 -91 2075 -91 \nQ 1284 -91 818 406 \nQ 353 903 353 1747 \nQ 353 2603 823 3093 \nQ 1294 3584 2113 3584 \nQ 2378 3584 2631 3529 \nQ 2884 3475 3122 3366 \nz\n\" transform=\"scale(0.015625)\"/>\n       <path id=\"DejaVuSans-68\" d=\"M 3513 2113 \nL 3513 0 \nL 2938 0 \nL 2938 2094 \nQ 2938 2591 2744 2837 \nQ 2550 3084 2163 3084 \nQ 1697 3084 1428 2787 \nQ 1159 2491 1159 1978 \nL 1159 0 \nL 581 0 \nL 581 4863 \nL 1159 4863 \nL 1159 2956 \nQ 1366 3272 1645 3428 \nQ 1925 3584 2291 3584 \nQ 2894 3584 3203 3211 \nQ 3513 2838 3513 2113 \nz\n\" transform=\"scale(0.015625)\"/>\n      </defs>\n      <use xlink:href=\"#DejaVuSans-65\"/>\n      <use xlink:href=\"#DejaVuSans-70\" x=\"61.523438\"/>\n      <use xlink:href=\"#DejaVuSans-6f\" x=\"125\"/>\n      <use xlink:href=\"#DejaVuSans-63\" x=\"186.181641\"/>\n      <use xlink:href=\"#DejaVuSans-68\" x=\"241.162109\"/>\n     </g>\n    </g>\n   </g>\n   <g id=\"matplotlib.axis_2\">\n    <g id=\"ytick_1\">\n     <g id=\"line2d_7\">\n      <defs>\n       <path id=\"m112ef93d25\" d=\"M 0 0 \nL -3.5 0 \n\" style=\"stroke: #000000; stroke-width: 0.8\"/>\n      </defs>\n      <g>\n       <use xlink:href=\"#m112ef93d25\" x=\"30.103125\" y=\"134.386605\" style=\"stroke: #000000; stroke-width: 0.8\"/>\n      </g>\n     </g>\n     <g id=\"text_8\">\n      <!-- 0.4 -->\n      <g transform=\"translate(7.2 138.185824) scale(0.1 -0.1)\">\n       <defs>\n        <path id=\"DejaVuSans-2e\" d=\"M 684 794 \nL 1344 794 \nL 1344 0 \nL 684 0 \nL 684 794 \nz\n\" transform=\"scale(0.015625)\"/>\n       </defs>\n       <use xlink:href=\"#DejaVuSans-30\"/>\n       <use xlink:href=\"#DejaVuSans-2e\" x=\"63.623047\"/>\n       <use xlink:href=\"#DejaVuSans-34\" x=\"95.410156\"/>\n      </g>\n     </g>\n    </g>\n    <g id=\"ytick_2\">\n     <g id=\"line2d_8\">\n      <g>\n       <use xlink:href=\"#m112ef93d25\" x=\"30.103125\" y=\"98.344471\" style=\"stroke: #000000; stroke-width: 0.8\"/>\n      </g>\n     </g>\n     <g id=\"text_9\">\n      <!-- 0.6 -->\n      <g transform=\"translate(7.2 102.14369) scale(0.1 -0.1)\">\n       <use xlink:href=\"#DejaVuSans-30\"/>\n       <use xlink:href=\"#DejaVuSans-2e\" x=\"63.623047\"/>\n       <use xlink:href=\"#DejaVuSans-36\" x=\"95.410156\"/>\n      </g>\n     </g>\n    </g>\n    <g id=\"ytick_3\">\n     <g id=\"line2d_9\">\n      <g>\n       <use xlink:href=\"#m112ef93d25\" x=\"30.103125\" y=\"62.302337\" style=\"stroke: #000000; stroke-width: 0.8\"/>\n      </g>\n     </g>\n     <g id=\"text_10\">\n      <!-- 0.8 -->\n      <g transform=\"translate(7.2 66.101556) scale(0.1 -0.1)\">\n       <use xlink:href=\"#DejaVuSans-30\"/>\n       <use xlink:href=\"#DejaVuSans-2e\" x=\"63.623047\"/>\n       <use xlink:href=\"#DejaVuSans-38\" x=\"95.410156\"/>\n      </g>\n     </g>\n    </g>\n    <g id=\"ytick_4\">\n     <g id=\"line2d_10\">\n      <g>\n       <use xlink:href=\"#m112ef93d25\" x=\"30.103125\" y=\"26.260203\" style=\"stroke: #000000; stroke-width: 0.8\"/>\n      </g>\n     </g>\n     <g id=\"text_11\">\n      <!-- 1.0 -->\n      <g transform=\"translate(7.2 30.059422) scale(0.1 -0.1)\">\n       <use xlink:href=\"#DejaVuSans-31\"/>\n       <use xlink:href=\"#DejaVuSans-2e\" x=\"63.623047\"/>\n       <use xlink:href=\"#DejaVuSans-30\" x=\"95.410156\"/>\n      </g>\n     </g>\n    </g>\n   </g>\n   <g id=\"line2d_11\">\n    <path d=\"M 34.923295 13.5 \n\" clip-path=\"url(#pdaea448cbc)\" style=\"fill: none; stroke: #1f77b4; stroke-width: 1.5; stroke-linecap: square\"/>\n   </g>\n   <g id=\"line2d_12\">\n    <path d=\"M 34.923295 13.5 \nL 44.646742 86.083061 \n\" clip-path=\"url(#pdaea448cbc)\" style=\"fill: none; stroke: #1f77b4; stroke-width: 1.5; stroke-linecap: square\"/>\n   </g>\n   <g id=\"line2d_13\">\n    <path d=\"M 34.923295 13.5 \nL 44.646742 86.083061 \n\" clip-path=\"url(#pdaea448cbc)\" style=\"fill: none; stroke: #1f77b4; stroke-width: 1.5; stroke-linecap: square\"/>\n   </g>\n   <g id=\"line2d_14\">\n    <path d=\"M 49.633125 89.324542 \n\" clip-path=\"url(#pdaea448cbc)\" style=\"fill: none; stroke-dasharray: 5.55,2.4; stroke-dashoffset: 0; stroke: #ff7f0e; stroke-width: 1.5\"/>\n   </g>\n   <g id=\"line2d_15\"/>\n   <g id=\"line2d_16\">\n    <path d=\"M 34.923295 13.5 \nL 44.646742 86.083061 \n\" clip-path=\"url(#pdaea448cbc)\" style=\"fill: none; stroke: #1f77b4; stroke-width: 1.5; stroke-linecap: square\"/>\n   </g>\n   <g id=\"line2d_17\">\n    <path d=\"M 49.633125 89.324542 \n\" clip-path=\"url(#pdaea448cbc)\" style=\"fill: none; stroke-dasharray: 5.55,2.4; stroke-dashoffset: 0; stroke: #ff7f0e; stroke-width: 1.5\"/>\n   </g>\n   <g id=\"line2d_18\">\n    <path d=\"M 49.633125 69.02504 \n\" clip-path=\"url(#pdaea448cbc)\" style=\"fill: none; stroke-dasharray: 9.6,2.4,1.5,2.4; stroke-dashoffset: 0; stroke: #2ca02c; stroke-width: 1.5\"/>\n   </g>\n   <g id=\"line2d_19\">\n    <path d=\"M 34.923295 13.5 \nL 44.646742 86.083061 \nL 54.370189 101.378101 \n\" clip-path=\"url(#pdaea448cbc)\" style=\"fill: none; stroke: #1f77b4; stroke-width: 1.5; stroke-linecap: square\"/>\n   </g>\n   <g id=\"line2d_20\">\n    <path d=\"M 49.633125 89.324542 \n\" clip-path=\"url(#pdaea448cbc)\" style=\"fill: none; stroke-dasharray: 5.55,2.4; stroke-dashoffset: 0; stroke: #ff7f0e; stroke-width: 1.5\"/>\n   </g>\n   <g id=\"line2d_21\">\n    <path d=\"M 49.633125 69.02504 \n\" clip-path=\"url(#pdaea448cbc)\" style=\"fill: none; stroke-dasharray: 9.6,2.4,1.5,2.4; stroke-dashoffset: 0; stroke: #2ca02c; stroke-width: 1.5\"/>\n   </g>\n   <g id=\"line2d_22\">\n    <path d=\"M 34.923295 13.5 \nL 44.646742 86.083061 \nL 54.370189 101.378101 \nL 64.093636 111.612412 \n\" clip-path=\"url(#pdaea448cbc)\" style=\"fill: none; stroke: #1f77b4; stroke-width: 1.5; stroke-linecap: square\"/>\n   </g>\n   <g id=\"line2d_23\">\n    <path d=\"M 49.633125 89.324542 \n\" clip-path=\"url(#pdaea448cbc)\" style=\"fill: none; stroke-dasharray: 5.55,2.4; stroke-dashoffset: 0; stroke: #ff7f0e; stroke-width: 1.5\"/>\n   </g>\n   <g id=\"line2d_24\">\n    <path d=\"M 49.633125 69.02504 \n\" clip-path=\"url(#pdaea448cbc)\" style=\"fill: none; stroke-dasharray: 9.6,2.4,1.5,2.4; stroke-dashoffset: 0; stroke: #2ca02c; stroke-width: 1.5\"/>\n   </g>\n   <g id=\"line2d_25\">\n    <path d=\"M 34.923295 13.5 \nL 44.646742 86.083061 \nL 54.370189 101.378101 \nL 64.093636 111.612412 \n\" clip-path=\"url(#pdaea448cbc)\" style=\"fill: none; stroke: #1f77b4; stroke-width: 1.5; stroke-linecap: square\"/>\n   </g>\n   <g id=\"line2d_26\">\n    <path d=\"M 49.633125 89.324542 \nL 69.163125 75.580435 \n\" clip-path=\"url(#pdaea448cbc)\" style=\"fill: none; stroke-dasharray: 5.55,2.4; stroke-dashoffset: 0; stroke: #ff7f0e; stroke-width: 1.5\"/>\n   </g>\n   <g id=\"line2d_27\">\n    <path d=\"M 49.633125 69.02504 \n\" clip-path=\"url(#pdaea448cbc)\" style=\"fill: none; stroke-dasharray: 9.6,2.4,1.5,2.4; stroke-dashoffset: 0; stroke: #2ca02c; stroke-width: 1.5\"/>\n   </g>\n   <g id=\"line2d_28\">\n    <path d=\"M 34.923295 13.5 \nL 44.646742 86.083061 \nL 54.370189 101.378101 \nL 64.093636 111.612412 \n\" clip-path=\"url(#pdaea448cbc)\" style=\"fill: none; stroke: #1f77b4; stroke-width: 1.5; stroke-linecap: square\"/>\n   </g>\n   <g id=\"line2d_29\">\n    <path d=\"M 49.633125 89.324542 \nL 69.163125 75.580435 \n\" clip-path=\"url(#pdaea448cbc)\" style=\"fill: none; stroke-dasharray: 5.55,2.4; stroke-dashoffset: 0; stroke: #ff7f0e; stroke-width: 1.5\"/>\n   </g>\n   <g id=\"line2d_30\">\n    <path d=\"M 49.633125 69.02504 \nL 69.163125 79.249884 \n\" clip-path=\"url(#pdaea448cbc)\" style=\"fill: none; stroke-dasharray: 9.6,2.4,1.5,2.4; stroke-dashoffset: 0; stroke: #2ca02c; stroke-width: 1.5\"/>\n   </g>\n   <g id=\"line2d_31\">\n    <path d=\"M 34.923295 13.5 \nL 44.646742 86.083061 \nL 54.370189 101.378101 \nL 64.093636 111.612412 \nL 73.817082 114.555045 \n\" clip-path=\"url(#pdaea448cbc)\" style=\"fill: none; stroke: #1f77b4; stroke-width: 1.5; stroke-linecap: square\"/>\n   </g>\n   <g id=\"line2d_32\">\n    <path d=\"M 49.633125 89.324542 \nL 69.163125 75.580435 \n\" clip-path=\"url(#pdaea448cbc)\" style=\"fill: none; stroke-dasharray: 5.55,2.4; stroke-dashoffset: 0; stroke: #ff7f0e; stroke-width: 1.5\"/>\n   </g>\n   <g id=\"line2d_33\">\n    <path d=\"M 49.633125 69.02504 \nL 69.163125 79.249884 \n\" clip-path=\"url(#pdaea448cbc)\" style=\"fill: none; stroke-dasharray: 9.6,2.4,1.5,2.4; stroke-dashoffset: 0; stroke: #2ca02c; stroke-width: 1.5\"/>\n   </g>\n   <g id=\"line2d_34\">\n    <path d=\"M 34.923295 13.5 \nL 44.646742 86.083061 \nL 54.370189 101.378101 \nL 64.093636 111.612412 \nL 73.817082 114.555045 \nL 83.540529 119.474221 \n\" clip-path=\"url(#pdaea448cbc)\" style=\"fill: none; stroke: #1f77b4; stroke-width: 1.5; stroke-linecap: square\"/>\n   </g>\n   <g id=\"line2d_35\">\n    <path d=\"M 49.633125 89.324542 \nL 69.163125 75.580435 \n\" clip-path=\"url(#pdaea448cbc)\" style=\"fill: none; stroke-dasharray: 5.55,2.4; stroke-dashoffset: 0; stroke: #ff7f0e; stroke-width: 1.5\"/>\n   </g>\n   <g id=\"line2d_36\">\n    <path d=\"M 49.633125 69.02504 \nL 69.163125 79.249884 \n\" clip-path=\"url(#pdaea448cbc)\" style=\"fill: none; stroke-dasharray: 9.6,2.4,1.5,2.4; stroke-dashoffset: 0; stroke: #2ca02c; stroke-width: 1.5\"/>\n   </g>\n   <g id=\"line2d_37\">\n    <path d=\"M 34.923295 13.5 \nL 44.646742 86.083061 \nL 54.370189 101.378101 \nL 64.093636 111.612412 \nL 73.817082 114.555045 \nL 83.540529 119.474221 \n\" clip-path=\"url(#pdaea448cbc)\" style=\"fill: none; stroke: #1f77b4; stroke-width: 1.5; stroke-linecap: square\"/>\n   </g>\n   <g id=\"line2d_38\">\n    <path d=\"M 49.633125 89.324542 \nL 69.163125 75.580435 \nL 88.693125 98.250919 \n\" clip-path=\"url(#pdaea448cbc)\" style=\"fill: none; stroke-dasharray: 5.55,2.4; stroke-dashoffset: 0; stroke: #ff7f0e; stroke-width: 1.5\"/>\n   </g>\n   <g id=\"line2d_39\">\n    <path d=\"M 49.633125 69.02504 \nL 69.163125 79.249884 \n\" clip-path=\"url(#pdaea448cbc)\" style=\"fill: none; stroke-dasharray: 9.6,2.4,1.5,2.4; stroke-dashoffset: 0; stroke: #2ca02c; stroke-width: 1.5\"/>\n   </g>\n   <g id=\"line2d_40\">\n    <path d=\"M 34.923295 13.5 \nL 44.646742 86.083061 \nL 54.370189 101.378101 \nL 64.093636 111.612412 \nL 73.817082 114.555045 \nL 83.540529 119.474221 \n\" clip-path=\"url(#pdaea448cbc)\" style=\"fill: none; stroke: #1f77b4; stroke-width: 1.5; stroke-linecap: square\"/>\n   </g>\n   <g id=\"line2d_41\">\n    <path d=\"M 49.633125 89.324542 \nL 69.163125 75.580435 \nL 88.693125 98.250919 \n\" clip-path=\"url(#pdaea448cbc)\" style=\"fill: none; stroke-dasharray: 5.55,2.4; stroke-dashoffset: 0; stroke: #ff7f0e; stroke-width: 1.5\"/>\n   </g>\n   <g id=\"line2d_42\">\n    <path d=\"M 49.633125 69.02504 \nL 69.163125 79.249884 \nL 88.693125 69.042639 \n\" clip-path=\"url(#pdaea448cbc)\" style=\"fill: none; stroke-dasharray: 9.6,2.4,1.5,2.4; stroke-dashoffset: 0; stroke: #2ca02c; stroke-width: 1.5\"/>\n   </g>\n   <g id=\"line2d_43\">\n    <path d=\"M 34.923295 13.5 \nL 44.646742 86.083061 \nL 54.370189 101.378101 \nL 64.093636 111.612412 \nL 73.817082 114.555045 \nL 83.540529 119.474221 \nL 93.263976 123.386936 \n\" clip-path=\"url(#pdaea448cbc)\" style=\"fill: none; stroke: #1f77b4; stroke-width: 1.5; stroke-linecap: square\"/>\n   </g>\n   <g id=\"line2d_44\">\n    <path d=\"M 49.633125 89.324542 \nL 69.163125 75.580435 \nL 88.693125 98.250919 \n\" clip-path=\"url(#pdaea448cbc)\" style=\"fill: none; stroke-dasharray: 5.55,2.4; stroke-dashoffset: 0; stroke: #ff7f0e; stroke-width: 1.5\"/>\n   </g>\n   <g id=\"line2d_45\">\n    <path d=\"M 49.633125 69.02504 \nL 69.163125 79.249884 \nL 88.693125 69.042639 \n\" clip-path=\"url(#pdaea448cbc)\" style=\"fill: none; stroke-dasharray: 9.6,2.4,1.5,2.4; stroke-dashoffset: 0; stroke: #2ca02c; stroke-width: 1.5\"/>\n   </g>\n   <g id=\"line2d_46\">\n    <path d=\"M 34.923295 13.5 \nL 44.646742 86.083061 \nL 54.370189 101.378101 \nL 64.093636 111.612412 \nL 73.817082 114.555045 \nL 83.540529 119.474221 \nL 93.263976 123.386936 \nL 102.987423 124.656414 \n\" clip-path=\"url(#pdaea448cbc)\" style=\"fill: none; stroke: #1f77b4; stroke-width: 1.5; stroke-linecap: square\"/>\n   </g>\n   <g id=\"line2d_47\">\n    <path d=\"M 49.633125 89.324542 \nL 69.163125 75.580435 \nL 88.693125 98.250919 \n\" clip-path=\"url(#pdaea448cbc)\" style=\"fill: none; stroke-dasharray: 5.55,2.4; stroke-dashoffset: 0; stroke: #ff7f0e; stroke-width: 1.5\"/>\n   </g>\n   <g id=\"line2d_48\">\n    <path d=\"M 49.633125 69.02504 \nL 69.163125 79.249884 \nL 88.693125 69.042639 \n\" clip-path=\"url(#pdaea448cbc)\" style=\"fill: none; stroke-dasharray: 9.6,2.4,1.5,2.4; stroke-dashoffset: 0; stroke: #2ca02c; stroke-width: 1.5\"/>\n   </g>\n   <g id=\"line2d_49\">\n    <path d=\"M 34.923295 13.5 \nL 44.646742 86.083061 \nL 54.370189 101.378101 \nL 64.093636 111.612412 \nL 73.817082 114.555045 \nL 83.540529 119.474221 \nL 93.263976 123.386936 \nL 102.987423 124.656414 \n\" clip-path=\"url(#pdaea448cbc)\" style=\"fill: none; stroke: #1f77b4; stroke-width: 1.5; stroke-linecap: square\"/>\n   </g>\n   <g id=\"line2d_50\">\n    <path d=\"M 49.633125 89.324542 \nL 69.163125 75.580435 \nL 88.693125 98.250919 \nL 108.223125 114.24735 \n\" clip-path=\"url(#pdaea448cbc)\" style=\"fill: none; stroke-dasharray: 5.55,2.4; stroke-dashoffset: 0; stroke: #ff7f0e; stroke-width: 1.5\"/>\n   </g>\n   <g id=\"line2d_51\">\n    <path d=\"M 49.633125 69.02504 \nL 69.163125 79.249884 \nL 88.693125 69.042639 \n\" clip-path=\"url(#pdaea448cbc)\" style=\"fill: none; stroke-dasharray: 9.6,2.4,1.5,2.4; stroke-dashoffset: 0; stroke: #2ca02c; stroke-width: 1.5\"/>\n   </g>\n   <g id=\"line2d_52\">\n    <path d=\"M 34.923295 13.5 \nL 44.646742 86.083061 \nL 54.370189 101.378101 \nL 64.093636 111.612412 \nL 73.817082 114.555045 \nL 83.540529 119.474221 \nL 93.263976 123.386936 \nL 102.987423 124.656414 \n\" clip-path=\"url(#pdaea448cbc)\" style=\"fill: none; stroke: #1f77b4; stroke-width: 1.5; stroke-linecap: square\"/>\n   </g>\n   <g id=\"line2d_53\">\n    <path d=\"M 49.633125 89.324542 \nL 69.163125 75.580435 \nL 88.693125 98.250919 \nL 108.223125 114.24735 \n\" clip-path=\"url(#pdaea448cbc)\" style=\"fill: none; stroke-dasharray: 5.55,2.4; stroke-dashoffset: 0; stroke: #ff7f0e; stroke-width: 1.5\"/>\n   </g>\n   <g id=\"line2d_54\">\n    <path d=\"M 49.633125 69.02504 \nL 69.163125 79.249884 \nL 88.693125 69.042639 \nL 108.223125 60.084901 \n\" clip-path=\"url(#pdaea448cbc)\" style=\"fill: none; stroke-dasharray: 9.6,2.4,1.5,2.4; stroke-dashoffset: 0; stroke: #2ca02c; stroke-width: 1.5\"/>\n   </g>\n   <g id=\"line2d_55\">\n    <path d=\"M 34.923295 13.5 \nL 44.646742 86.083061 \nL 54.370189 101.378101 \nL 64.093636 111.612412 \nL 73.817082 114.555045 \nL 83.540529 119.474221 \nL 93.263976 123.386936 \nL 102.987423 124.656414 \nL 112.71087 127.26892 \n\" clip-path=\"url(#pdaea448cbc)\" style=\"fill: none; stroke: #1f77b4; stroke-width: 1.5; stroke-linecap: square\"/>\n   </g>\n   <g id=\"line2d_56\">\n    <path d=\"M 49.633125 89.324542 \nL 69.163125 75.580435 \nL 88.693125 98.250919 \nL 108.223125 114.24735 \n\" clip-path=\"url(#pdaea448cbc)\" style=\"fill: none; stroke-dasharray: 5.55,2.4; stroke-dashoffset: 0; stroke: #ff7f0e; stroke-width: 1.5\"/>\n   </g>\n   <g id=\"line2d_57\">\n    <path d=\"M 49.633125 69.02504 \nL 69.163125 79.249884 \nL 88.693125 69.042639 \nL 108.223125 60.084901 \n\" clip-path=\"url(#pdaea448cbc)\" style=\"fill: none; stroke-dasharray: 9.6,2.4,1.5,2.4; stroke-dashoffset: 0; stroke: #2ca02c; stroke-width: 1.5\"/>\n   </g>\n   <g id=\"line2d_58\">\n    <path d=\"M 34.923295 13.5 \nL 44.646742 86.083061 \nL 54.370189 101.378101 \nL 64.093636 111.612412 \nL 73.817082 114.555045 \nL 83.540529 119.474221 \nL 93.263976 123.386936 \nL 102.987423 124.656414 \nL 112.71087 127.26892 \nL 122.434316 127.856556 \n\" clip-path=\"url(#pdaea448cbc)\" style=\"fill: none; stroke: #1f77b4; stroke-width: 1.5; stroke-linecap: square\"/>\n   </g>\n   <g id=\"line2d_59\">\n    <path d=\"M 49.633125 89.324542 \nL 69.163125 75.580435 \nL 88.693125 98.250919 \nL 108.223125 114.24735 \n\" clip-path=\"url(#pdaea448cbc)\" style=\"fill: none; stroke-dasharray: 5.55,2.4; stroke-dashoffset: 0; stroke: #ff7f0e; stroke-width: 1.5\"/>\n   </g>\n   <g id=\"line2d_60\">\n    <path d=\"M 49.633125 69.02504 \nL 69.163125 79.249884 \nL 88.693125 69.042639 \nL 108.223125 60.084901 \n\" clip-path=\"url(#pdaea448cbc)\" style=\"fill: none; stroke-dasharray: 9.6,2.4,1.5,2.4; stroke-dashoffset: 0; stroke: #2ca02c; stroke-width: 1.5\"/>\n   </g>\n   <g id=\"line2d_61\">\n    <path d=\"M 34.923295 13.5 \nL 44.646742 86.083061 \nL 54.370189 101.378101 \nL 64.093636 111.612412 \nL 73.817082 114.555045 \nL 83.540529 119.474221 \nL 93.263976 123.386936 \nL 102.987423 124.656414 \nL 112.71087 127.26892 \nL 122.434316 127.856556 \n\" clip-path=\"url(#pdaea448cbc)\" style=\"fill: none; stroke: #1f77b4; stroke-width: 1.5; stroke-linecap: square\"/>\n   </g>\n   <g id=\"line2d_62\">\n    <path d=\"M 49.633125 89.324542 \nL 69.163125 75.580435 \nL 88.693125 98.250919 \nL 108.223125 114.24735 \nL 127.753125 122.949183 \n\" clip-path=\"url(#pdaea448cbc)\" style=\"fill: none; stroke-dasharray: 5.55,2.4; stroke-dashoffset: 0; stroke: #ff7f0e; stroke-width: 1.5\"/>\n   </g>\n   <g id=\"line2d_63\">\n    <path d=\"M 49.633125 69.02504 \nL 69.163125 79.249884 \nL 88.693125 69.042639 \nL 108.223125 60.084901 \n\" clip-path=\"url(#pdaea448cbc)\" style=\"fill: none; stroke-dasharray: 9.6,2.4,1.5,2.4; stroke-dashoffset: 0; stroke: #2ca02c; stroke-width: 1.5\"/>\n   </g>\n   <g id=\"line2d_64\">\n    <path d=\"M 34.923295 13.5 \nL 44.646742 86.083061 \nL 54.370189 101.378101 \nL 64.093636 111.612412 \nL 73.817082 114.555045 \nL 83.540529 119.474221 \nL 93.263976 123.386936 \nL 102.987423 124.656414 \nL 112.71087 127.26892 \nL 122.434316 127.856556 \n\" clip-path=\"url(#pdaea448cbc)\" style=\"fill: none; stroke: #1f77b4; stroke-width: 1.5; stroke-linecap: square\"/>\n   </g>\n   <g id=\"line2d_65\">\n    <path d=\"M 49.633125 89.324542 \nL 69.163125 75.580435 \nL 88.693125 98.250919 \nL 108.223125 114.24735 \nL 127.753125 122.949183 \n\" clip-path=\"url(#pdaea448cbc)\" style=\"fill: none; stroke-dasharray: 5.55,2.4; stroke-dashoffset: 0; stroke: #ff7f0e; stroke-width: 1.5\"/>\n   </g>\n   <g id=\"line2d_66\">\n    <path d=\"M 49.633125 69.02504 \nL 69.163125 79.249884 \nL 88.693125 69.042639 \nL 108.223125 60.084901 \nL 127.753125 55.562036 \n\" clip-path=\"url(#pdaea448cbc)\" style=\"fill: none; stroke-dasharray: 9.6,2.4,1.5,2.4; stroke-dashoffset: 0; stroke: #2ca02c; stroke-width: 1.5\"/>\n   </g>\n   <g id=\"line2d_67\">\n    <path d=\"M 34.923295 13.5 \nL 44.646742 86.083061 \nL 54.370189 101.378101 \nL 64.093636 111.612412 \nL 73.817082 114.555045 \nL 83.540529 119.474221 \nL 93.263976 123.386936 \nL 102.987423 124.656414 \nL 112.71087 127.26892 \nL 122.434316 127.856556 \nL 132.157763 131.519532 \n\" clip-path=\"url(#pdaea448cbc)\" style=\"fill: none; stroke: #1f77b4; stroke-width: 1.5; stroke-linecap: square\"/>\n   </g>\n   <g id=\"line2d_68\">\n    <path d=\"M 49.633125 89.324542 \nL 69.163125 75.580435 \nL 88.693125 98.250919 \nL 108.223125 114.24735 \nL 127.753125 122.949183 \n\" clip-path=\"url(#pdaea448cbc)\" style=\"fill: none; stroke-dasharray: 5.55,2.4; stroke-dashoffset: 0; stroke: #ff7f0e; stroke-width: 1.5\"/>\n   </g>\n   <g id=\"line2d_69\">\n    <path d=\"M 49.633125 69.02504 \nL 69.163125 79.249884 \nL 88.693125 69.042639 \nL 108.223125 60.084901 \nL 127.753125 55.562036 \n\" clip-path=\"url(#pdaea448cbc)\" style=\"fill: none; stroke-dasharray: 9.6,2.4,1.5,2.4; stroke-dashoffset: 0; stroke: #2ca02c; stroke-width: 1.5\"/>\n   </g>\n   <g id=\"line2d_70\">\n    <path d=\"M 34.923295 13.5 \nL 44.646742 86.083061 \nL 54.370189 101.378101 \nL 64.093636 111.612412 \nL 73.817082 114.555045 \nL 83.540529 119.474221 \nL 93.263976 123.386936 \nL 102.987423 124.656414 \nL 112.71087 127.26892 \nL 122.434316 127.856556 \nL 132.157763 131.519532 \nL 141.88121 130.766353 \n\" clip-path=\"url(#pdaea448cbc)\" style=\"fill: none; stroke: #1f77b4; stroke-width: 1.5; stroke-linecap: square\"/>\n   </g>\n   <g id=\"line2d_71\">\n    <path d=\"M 49.633125 89.324542 \nL 69.163125 75.580435 \nL 88.693125 98.250919 \nL 108.223125 114.24735 \nL 127.753125 122.949183 \n\" clip-path=\"url(#pdaea448cbc)\" style=\"fill: none; stroke-dasharray: 5.55,2.4; stroke-dashoffset: 0; stroke: #ff7f0e; stroke-width: 1.5\"/>\n   </g>\n   <g id=\"line2d_72\">\n    <path d=\"M 49.633125 69.02504 \nL 69.163125 79.249884 \nL 88.693125 69.042639 \nL 108.223125 60.084901 \nL 127.753125 55.562036 \n\" clip-path=\"url(#pdaea448cbc)\" style=\"fill: none; stroke-dasharray: 9.6,2.4,1.5,2.4; stroke-dashoffset: 0; stroke: #2ca02c; stroke-width: 1.5\"/>\n   </g>\n   <g id=\"line2d_73\">\n    <path d=\"M 34.923295 13.5 \nL 44.646742 86.083061 \nL 54.370189 101.378101 \nL 64.093636 111.612412 \nL 73.817082 114.555045 \nL 83.540529 119.474221 \nL 93.263976 123.386936 \nL 102.987423 124.656414 \nL 112.71087 127.26892 \nL 122.434316 127.856556 \nL 132.157763 131.519532 \nL 141.88121 130.766353 \n\" clip-path=\"url(#pdaea448cbc)\" style=\"fill: none; stroke: #1f77b4; stroke-width: 1.5; stroke-linecap: square\"/>\n   </g>\n   <g id=\"line2d_74\">\n    <path d=\"M 49.633125 89.324542 \nL 69.163125 75.580435 \nL 88.693125 98.250919 \nL 108.223125 114.24735 \nL 127.753125 122.949183 \nL 147.283125 121.533896 \n\" clip-path=\"url(#pdaea448cbc)\" style=\"fill: none; stroke-dasharray: 5.55,2.4; stroke-dashoffset: 0; stroke: #ff7f0e; stroke-width: 1.5\"/>\n   </g>\n   <g id=\"line2d_75\">\n    <path d=\"M 49.633125 69.02504 \nL 69.163125 79.249884 \nL 88.693125 69.042639 \nL 108.223125 60.084901 \nL 127.753125 55.562036 \n\" clip-path=\"url(#pdaea448cbc)\" style=\"fill: none; stroke-dasharray: 9.6,2.4,1.5,2.4; stroke-dashoffset: 0; stroke: #2ca02c; stroke-width: 1.5\"/>\n   </g>\n   <g id=\"line2d_76\">\n    <path d=\"M 34.923295 13.5 \nL 44.646742 86.083061 \nL 54.370189 101.378101 \nL 64.093636 111.612412 \nL 73.817082 114.555045 \nL 83.540529 119.474221 \nL 93.263976 123.386936 \nL 102.987423 124.656414 \nL 112.71087 127.26892 \nL 122.434316 127.856556 \nL 132.157763 131.519532 \nL 141.88121 130.766353 \n\" clip-path=\"url(#pdaea448cbc)\" style=\"fill: none; stroke: #1f77b4; stroke-width: 1.5; stroke-linecap: square\"/>\n   </g>\n   <g id=\"line2d_77\">\n    <path d=\"M 49.633125 89.324542 \nL 69.163125 75.580435 \nL 88.693125 98.250919 \nL 108.223125 114.24735 \nL 127.753125 122.949183 \nL 147.283125 121.533896 \n\" clip-path=\"url(#pdaea448cbc)\" style=\"fill: none; stroke-dasharray: 5.55,2.4; stroke-dashoffset: 0; stroke: #ff7f0e; stroke-width: 1.5\"/>\n   </g>\n   <g id=\"line2d_78\">\n    <path d=\"M 49.633125 69.02504 \nL 69.163125 79.249884 \nL 88.693125 69.042639 \nL 108.223125 60.084901 \nL 127.753125 55.562036 \nL 147.283125 56.917136 \n\" clip-path=\"url(#pdaea448cbc)\" style=\"fill: none; stroke-dasharray: 9.6,2.4,1.5,2.4; stroke-dashoffset: 0; stroke: #2ca02c; stroke-width: 1.5\"/>\n   </g>\n   <g id=\"line2d_79\">\n    <path d=\"M 34.923295 13.5 \nL 44.646742 86.083061 \nL 54.370189 101.378101 \nL 64.093636 111.612412 \nL 73.817082 114.555045 \nL 83.540529 119.474221 \nL 93.263976 123.386936 \nL 102.987423 124.656414 \nL 112.71087 127.26892 \nL 122.434316 127.856556 \nL 132.157763 131.519532 \nL 141.88121 130.766353 \nL 151.604657 133.062534 \n\" clip-path=\"url(#pdaea448cbc)\" style=\"fill: none; stroke: #1f77b4; stroke-width: 1.5; stroke-linecap: square\"/>\n   </g>\n   <g id=\"line2d_80\">\n    <path d=\"M 49.633125 89.324542 \nL 69.163125 75.580435 \nL 88.693125 98.250919 \nL 108.223125 114.24735 \nL 127.753125 122.949183 \nL 147.283125 121.533896 \n\" clip-path=\"url(#pdaea448cbc)\" style=\"fill: none; stroke-dasharray: 5.55,2.4; stroke-dashoffset: 0; stroke: #ff7f0e; stroke-width: 1.5\"/>\n   </g>\n   <g id=\"line2d_81\">\n    <path d=\"M 49.633125 69.02504 \nL 69.163125 79.249884 \nL 88.693125 69.042639 \nL 108.223125 60.084901 \nL 127.753125 55.562036 \nL 147.283125 56.917136 \n\" clip-path=\"url(#pdaea448cbc)\" style=\"fill: none; stroke-dasharray: 9.6,2.4,1.5,2.4; stroke-dashoffset: 0; stroke: #2ca02c; stroke-width: 1.5\"/>\n   </g>\n   <g id=\"line2d_82\">\n    <path d=\"M 34.923295 13.5 \nL 44.646742 86.083061 \nL 54.370189 101.378101 \nL 64.093636 111.612412 \nL 73.817082 114.555045 \nL 83.540529 119.474221 \nL 93.263976 123.386936 \nL 102.987423 124.656414 \nL 112.71087 127.26892 \nL 122.434316 127.856556 \nL 132.157763 131.519532 \nL 141.88121 130.766353 \nL 151.604657 133.062534 \nL 161.328104 133.703733 \n\" clip-path=\"url(#pdaea448cbc)\" style=\"fill: none; stroke: #1f77b4; stroke-width: 1.5; stroke-linecap: square\"/>\n   </g>\n   <g id=\"line2d_83\">\n    <path d=\"M 49.633125 89.324542 \nL 69.163125 75.580435 \nL 88.693125 98.250919 \nL 108.223125 114.24735 \nL 127.753125 122.949183 \nL 147.283125 121.533896 \n\" clip-path=\"url(#pdaea448cbc)\" style=\"fill: none; stroke-dasharray: 5.55,2.4; stroke-dashoffset: 0; stroke: #ff7f0e; stroke-width: 1.5\"/>\n   </g>\n   <g id=\"line2d_84\">\n    <path d=\"M 49.633125 69.02504 \nL 69.163125 79.249884 \nL 88.693125 69.042639 \nL 108.223125 60.084901 \nL 127.753125 55.562036 \nL 147.283125 56.917136 \n\" clip-path=\"url(#pdaea448cbc)\" style=\"fill: none; stroke-dasharray: 9.6,2.4,1.5,2.4; stroke-dashoffset: 0; stroke: #2ca02c; stroke-width: 1.5\"/>\n   </g>\n   <g id=\"line2d_85\">\n    <path d=\"M 34.923295 13.5 \nL 44.646742 86.083061 \nL 54.370189 101.378101 \nL 64.093636 111.612412 \nL 73.817082 114.555045 \nL 83.540529 119.474221 \nL 93.263976 123.386936 \nL 102.987423 124.656414 \nL 112.71087 127.26892 \nL 122.434316 127.856556 \nL 132.157763 131.519532 \nL 141.88121 130.766353 \nL 151.604657 133.062534 \nL 161.328104 133.703733 \n\" clip-path=\"url(#pdaea448cbc)\" style=\"fill: none; stroke: #1f77b4; stroke-width: 1.5; stroke-linecap: square\"/>\n   </g>\n   <g id=\"line2d_86\">\n    <path d=\"M 49.633125 89.324542 \nL 69.163125 75.580435 \nL 88.693125 98.250919 \nL 108.223125 114.24735 \nL 127.753125 122.949183 \nL 147.283125 121.533896 \nL 166.813125 123.179184 \n\" clip-path=\"url(#pdaea448cbc)\" style=\"fill: none; stroke-dasharray: 5.55,2.4; stroke-dashoffset: 0; stroke: #ff7f0e; stroke-width: 1.5\"/>\n   </g>\n   <g id=\"line2d_87\">\n    <path d=\"M 49.633125 69.02504 \nL 69.163125 79.249884 \nL 88.693125 69.042639 \nL 108.223125 60.084901 \nL 127.753125 55.562036 \nL 147.283125 56.917136 \n\" clip-path=\"url(#pdaea448cbc)\" style=\"fill: none; stroke-dasharray: 9.6,2.4,1.5,2.4; stroke-dashoffset: 0; stroke: #2ca02c; stroke-width: 1.5\"/>\n   </g>\n   <g id=\"line2d_88\">\n    <path d=\"M 34.923295 13.5 \nL 44.646742 86.083061 \nL 54.370189 101.378101 \nL 64.093636 111.612412 \nL 73.817082 114.555045 \nL 83.540529 119.474221 \nL 93.263976 123.386936 \nL 102.987423 124.656414 \nL 112.71087 127.26892 \nL 122.434316 127.856556 \nL 132.157763 131.519532 \nL 141.88121 130.766353 \nL 151.604657 133.062534 \nL 161.328104 133.703733 \n\" clip-path=\"url(#pdaea448cbc)\" style=\"fill: none; stroke: #1f77b4; stroke-width: 1.5; stroke-linecap: square\"/>\n   </g>\n   <g id=\"line2d_89\">\n    <path d=\"M 49.633125 89.324542 \nL 69.163125 75.580435 \nL 88.693125 98.250919 \nL 108.223125 114.24735 \nL 127.753125 122.949183 \nL 147.283125 121.533896 \nL 166.813125 123.179184 \n\" clip-path=\"url(#pdaea448cbc)\" style=\"fill: none; stroke-dasharray: 5.55,2.4; stroke-dashoffset: 0; stroke: #ff7f0e; stroke-width: 1.5\"/>\n   </g>\n   <g id=\"line2d_90\">\n    <path d=\"M 49.633125 69.02504 \nL 69.163125 79.249884 \nL 88.693125 69.042639 \nL 108.223125 60.084901 \nL 127.753125 55.562036 \nL 147.283125 56.917136 \nL 166.813125 56.969932 \n\" clip-path=\"url(#pdaea448cbc)\" style=\"fill: none; stroke-dasharray: 9.6,2.4,1.5,2.4; stroke-dashoffset: 0; stroke: #2ca02c; stroke-width: 1.5\"/>\n   </g>\n   <g id=\"line2d_91\">\n    <path d=\"M 34.923295 13.5 \nL 44.646742 86.083061 \nL 54.370189 101.378101 \nL 64.093636 111.612412 \nL 73.817082 114.555045 \nL 83.540529 119.474221 \nL 93.263976 123.386936 \nL 102.987423 124.656414 \nL 112.71087 127.26892 \nL 122.434316 127.856556 \nL 132.157763 131.519532 \nL 141.88121 130.766353 \nL 151.604657 133.062534 \nL 161.328104 133.703733 \nL 171.051551 134.11175 \n\" clip-path=\"url(#pdaea448cbc)\" style=\"fill: none; stroke: #1f77b4; stroke-width: 1.5; stroke-linecap: square\"/>\n   </g>\n   <g id=\"line2d_92\">\n    <path d=\"M 49.633125 89.324542 \nL 69.163125 75.580435 \nL 88.693125 98.250919 \nL 108.223125 114.24735 \nL 127.753125 122.949183 \nL 147.283125 121.533896 \nL 166.813125 123.179184 \n\" clip-path=\"url(#pdaea448cbc)\" style=\"fill: none; stroke-dasharray: 5.55,2.4; stroke-dashoffset: 0; stroke: #ff7f0e; stroke-width: 1.5\"/>\n   </g>\n   <g id=\"line2d_93\">\n    <path d=\"M 49.633125 69.02504 \nL 69.163125 79.249884 \nL 88.693125 69.042639 \nL 108.223125 60.084901 \nL 127.753125 55.562036 \nL 147.283125 56.917136 \nL 166.813125 56.969932 \n\" clip-path=\"url(#pdaea448cbc)\" style=\"fill: none; stroke-dasharray: 9.6,2.4,1.5,2.4; stroke-dashoffset: 0; stroke: #2ca02c; stroke-width: 1.5\"/>\n   </g>\n   <g id=\"line2d_94\">\n    <path d=\"M 34.923295 13.5 \nL 44.646742 86.083061 \nL 54.370189 101.378101 \nL 64.093636 111.612412 \nL 73.817082 114.555045 \nL 83.540529 119.474221 \nL 93.263976 123.386936 \nL 102.987423 124.656414 \nL 112.71087 127.26892 \nL 122.434316 127.856556 \nL 132.157763 131.519532 \nL 141.88121 130.766353 \nL 151.604657 133.062534 \nL 161.328104 133.703733 \nL 171.051551 134.11175 \nL 180.774997 136.922126 \n\" clip-path=\"url(#pdaea448cbc)\" style=\"fill: none; stroke: #1f77b4; stroke-width: 1.5; stroke-linecap: square\"/>\n   </g>\n   <g id=\"line2d_95\">\n    <path d=\"M 49.633125 89.324542 \nL 69.163125 75.580435 \nL 88.693125 98.250919 \nL 108.223125 114.24735 \nL 127.753125 122.949183 \nL 147.283125 121.533896 \nL 166.813125 123.179184 \n\" clip-path=\"url(#pdaea448cbc)\" style=\"fill: none; stroke-dasharray: 5.55,2.4; stroke-dashoffset: 0; stroke: #ff7f0e; stroke-width: 1.5\"/>\n   </g>\n   <g id=\"line2d_96\">\n    <path d=\"M 49.633125 69.02504 \nL 69.163125 79.249884 \nL 88.693125 69.042639 \nL 108.223125 60.084901 \nL 127.753125 55.562036 \nL 147.283125 56.917136 \nL 166.813125 56.969932 \n\" clip-path=\"url(#pdaea448cbc)\" style=\"fill: none; stroke-dasharray: 9.6,2.4,1.5,2.4; stroke-dashoffset: 0; stroke: #2ca02c; stroke-width: 1.5\"/>\n   </g>\n   <g id=\"line2d_97\">\n    <path d=\"M 34.923295 13.5 \nL 44.646742 86.083061 \nL 54.370189 101.378101 \nL 64.093636 111.612412 \nL 73.817082 114.555045 \nL 83.540529 119.474221 \nL 93.263976 123.386936 \nL 102.987423 124.656414 \nL 112.71087 127.26892 \nL 122.434316 127.856556 \nL 132.157763 131.519532 \nL 141.88121 130.766353 \nL 151.604657 133.062534 \nL 161.328104 133.703733 \nL 171.051551 134.11175 \nL 180.774997 136.922126 \n\" clip-path=\"url(#pdaea448cbc)\" style=\"fill: none; stroke: #1f77b4; stroke-width: 1.5; stroke-linecap: square\"/>\n   </g>\n   <g id=\"line2d_98\">\n    <path d=\"M 49.633125 89.324542 \nL 69.163125 75.580435 \nL 88.693125 98.250919 \nL 108.223125 114.24735 \nL 127.753125 122.949183 \nL 147.283125 121.533896 \nL 166.813125 123.179184 \nL 186.343125 128.508105 \n\" clip-path=\"url(#pdaea448cbc)\" style=\"fill: none; stroke-dasharray: 5.55,2.4; stroke-dashoffset: 0; stroke: #ff7f0e; stroke-width: 1.5\"/>\n   </g>\n   <g id=\"line2d_99\">\n    <path d=\"M 49.633125 69.02504 \nL 69.163125 79.249884 \nL 88.693125 69.042639 \nL 108.223125 60.084901 \nL 127.753125 55.562036 \nL 147.283125 56.917136 \nL 166.813125 56.969932 \n\" clip-path=\"url(#pdaea448cbc)\" style=\"fill: none; stroke-dasharray: 9.6,2.4,1.5,2.4; stroke-dashoffset: 0; stroke: #2ca02c; stroke-width: 1.5\"/>\n   </g>\n   <g id=\"line2d_100\">\n    <path d=\"M 34.923295 13.5 \nL 44.646742 86.083061 \nL 54.370189 101.378101 \nL 64.093636 111.612412 \nL 73.817082 114.555045 \nL 83.540529 119.474221 \nL 93.263976 123.386936 \nL 102.987423 124.656414 \nL 112.71087 127.26892 \nL 122.434316 127.856556 \nL 132.157763 131.519532 \nL 141.88121 130.766353 \nL 151.604657 133.062534 \nL 161.328104 133.703733 \nL 171.051551 134.11175 \nL 180.774997 136.922126 \n\" clip-path=\"url(#pdaea448cbc)\" style=\"fill: none; stroke: #1f77b4; stroke-width: 1.5; stroke-linecap: square\"/>\n   </g>\n   <g id=\"line2d_101\">\n    <path d=\"M 49.633125 89.324542 \nL 69.163125 75.580435 \nL 88.693125 98.250919 \nL 108.223125 114.24735 \nL 127.753125 122.949183 \nL 147.283125 121.533896 \nL 166.813125 123.179184 \nL 186.343125 128.508105 \n\" clip-path=\"url(#pdaea448cbc)\" style=\"fill: none; stroke-dasharray: 5.55,2.4; stroke-dashoffset: 0; stroke: #ff7f0e; stroke-width: 1.5\"/>\n   </g>\n   <g id=\"line2d_102\">\n    <path d=\"M 49.633125 69.02504 \nL 69.163125 79.249884 \nL 88.693125 69.042639 \nL 108.223125 60.084901 \nL 127.753125 55.562036 \nL 147.283125 56.917136 \nL 166.813125 56.969932 \nL 186.343125 54.418121 \n\" clip-path=\"url(#pdaea448cbc)\" style=\"fill: none; stroke-dasharray: 9.6,2.4,1.5,2.4; stroke-dashoffset: 0; stroke: #2ca02c; stroke-width: 1.5\"/>\n   </g>\n   <g id=\"line2d_103\">\n    <path d=\"M 34.923295 13.5 \nL 44.646742 86.083061 \nL 54.370189 101.378101 \nL 64.093636 111.612412 \nL 73.817082 114.555045 \nL 83.540529 119.474221 \nL 93.263976 123.386936 \nL 102.987423 124.656414 \nL 112.71087 127.26892 \nL 122.434316 127.856556 \nL 132.157763 131.519532 \nL 141.88121 130.766353 \nL 151.604657 133.062534 \nL 161.328104 133.703733 \nL 171.051551 134.11175 \nL 180.774997 136.922126 \nL 190.498444 136.972529 \n\" clip-path=\"url(#pdaea448cbc)\" style=\"fill: none; stroke: #1f77b4; stroke-width: 1.5; stroke-linecap: square\"/>\n   </g>\n   <g id=\"line2d_104\">\n    <path d=\"M 49.633125 89.324542 \nL 69.163125 75.580435 \nL 88.693125 98.250919 \nL 108.223125 114.24735 \nL 127.753125 122.949183 \nL 147.283125 121.533896 \nL 166.813125 123.179184 \nL 186.343125 128.508105 \n\" clip-path=\"url(#pdaea448cbc)\" style=\"fill: none; stroke-dasharray: 5.55,2.4; stroke-dashoffset: 0; stroke: #ff7f0e; stroke-width: 1.5\"/>\n   </g>\n   <g id=\"line2d_105\">\n    <path d=\"M 49.633125 69.02504 \nL 69.163125 79.249884 \nL 88.693125 69.042639 \nL 108.223125 60.084901 \nL 127.753125 55.562036 \nL 147.283125 56.917136 \nL 166.813125 56.969932 \nL 186.343125 54.418121 \n\" clip-path=\"url(#pdaea448cbc)\" style=\"fill: none; stroke-dasharray: 9.6,2.4,1.5,2.4; stroke-dashoffset: 0; stroke: #2ca02c; stroke-width: 1.5\"/>\n   </g>\n   <g id=\"line2d_106\">\n    <path d=\"M 34.923295 13.5 \nL 44.646742 86.083061 \nL 54.370189 101.378101 \nL 64.093636 111.612412 \nL 73.817082 114.555045 \nL 83.540529 119.474221 \nL 93.263976 123.386936 \nL 102.987423 124.656414 \nL 112.71087 127.26892 \nL 122.434316 127.856556 \nL 132.157763 131.519532 \nL 141.88121 130.766353 \nL 151.604657 133.062534 \nL 161.328104 133.703733 \nL 171.051551 134.11175 \nL 180.774997 136.922126 \nL 190.498444 136.972529 \nL 200.221891 138.444879 \n\" clip-path=\"url(#pdaea448cbc)\" style=\"fill: none; stroke: #1f77b4; stroke-width: 1.5; stroke-linecap: square\"/>\n   </g>\n   <g id=\"line2d_107\">\n    <path d=\"M 49.633125 89.324542 \nL 69.163125 75.580435 \nL 88.693125 98.250919 \nL 108.223125 114.24735 \nL 127.753125 122.949183 \nL 147.283125 121.533896 \nL 166.813125 123.179184 \nL 186.343125 128.508105 \n\" clip-path=\"url(#pdaea448cbc)\" style=\"fill: none; stroke-dasharray: 5.55,2.4; stroke-dashoffset: 0; stroke: #ff7f0e; stroke-width: 1.5\"/>\n   </g>\n   <g id=\"line2d_108\">\n    <path d=\"M 49.633125 69.02504 \nL 69.163125 79.249884 \nL 88.693125 69.042639 \nL 108.223125 60.084901 \nL 127.753125 55.562036 \nL 147.283125 56.917136 \nL 166.813125 56.969932 \nL 186.343125 54.418121 \n\" clip-path=\"url(#pdaea448cbc)\" style=\"fill: none; stroke-dasharray: 9.6,2.4,1.5,2.4; stroke-dashoffset: 0; stroke: #2ca02c; stroke-width: 1.5\"/>\n   </g>\n   <g id=\"line2d_109\">\n    <path d=\"M 34.923295 13.5 \nL 44.646742 86.083061 \nL 54.370189 101.378101 \nL 64.093636 111.612412 \nL 73.817082 114.555045 \nL 83.540529 119.474221 \nL 93.263976 123.386936 \nL 102.987423 124.656414 \nL 112.71087 127.26892 \nL 122.434316 127.856556 \nL 132.157763 131.519532 \nL 141.88121 130.766353 \nL 151.604657 133.062534 \nL 161.328104 133.703733 \nL 171.051551 134.11175 \nL 180.774997 136.922126 \nL 190.498444 136.972529 \nL 200.221891 138.444879 \n\" clip-path=\"url(#pdaea448cbc)\" style=\"fill: none; stroke: #1f77b4; stroke-width: 1.5; stroke-linecap: square\"/>\n   </g>\n   <g id=\"line2d_110\">\n    <path d=\"M 49.633125 89.324542 \nL 69.163125 75.580435 \nL 88.693125 98.250919 \nL 108.223125 114.24735 \nL 127.753125 122.949183 \nL 147.283125 121.533896 \nL 166.813125 123.179184 \nL 186.343125 128.508105 \nL 205.873125 132.836557 \n\" clip-path=\"url(#pdaea448cbc)\" style=\"fill: none; stroke-dasharray: 5.55,2.4; stroke-dashoffset: 0; stroke: #ff7f0e; stroke-width: 1.5\"/>\n   </g>\n   <g id=\"line2d_111\">\n    <path d=\"M 49.633125 69.02504 \nL 69.163125 79.249884 \nL 88.693125 69.042639 \nL 108.223125 60.084901 \nL 127.753125 55.562036 \nL 147.283125 56.917136 \nL 166.813125 56.969932 \nL 186.343125 54.418121 \n\" clip-path=\"url(#pdaea448cbc)\" style=\"fill: none; stroke-dasharray: 9.6,2.4,1.5,2.4; stroke-dashoffset: 0; stroke: #2ca02c; stroke-width: 1.5\"/>\n   </g>\n   <g id=\"line2d_112\">\n    <path d=\"M 34.923295 13.5 \nL 44.646742 86.083061 \nL 54.370189 101.378101 \nL 64.093636 111.612412 \nL 73.817082 114.555045 \nL 83.540529 119.474221 \nL 93.263976 123.386936 \nL 102.987423 124.656414 \nL 112.71087 127.26892 \nL 122.434316 127.856556 \nL 132.157763 131.519532 \nL 141.88121 130.766353 \nL 151.604657 133.062534 \nL 161.328104 133.703733 \nL 171.051551 134.11175 \nL 180.774997 136.922126 \nL 190.498444 136.972529 \nL 200.221891 138.444879 \n\" clip-path=\"url(#pdaea448cbc)\" style=\"fill: none; stroke: #1f77b4; stroke-width: 1.5; stroke-linecap: square\"/>\n   </g>\n   <g id=\"line2d_113\">\n    <path d=\"M 49.633125 89.324542 \nL 69.163125 75.580435 \nL 88.693125 98.250919 \nL 108.223125 114.24735 \nL 127.753125 122.949183 \nL 147.283125 121.533896 \nL 166.813125 123.179184 \nL 186.343125 128.508105 \nL 205.873125 132.836557 \n\" clip-path=\"url(#pdaea448cbc)\" style=\"fill: none; stroke-dasharray: 5.55,2.4; stroke-dashoffset: 0; stroke: #ff7f0e; stroke-width: 1.5\"/>\n   </g>\n   <g id=\"line2d_114\">\n    <path d=\"M 49.633125 69.02504 \nL 69.163125 79.249884 \nL 88.693125 69.042639 \nL 108.223125 60.084901 \nL 127.753125 55.562036 \nL 147.283125 56.917136 \nL 166.813125 56.969932 \nL 186.343125 54.418121 \nL 205.873125 52.411869 \n\" clip-path=\"url(#pdaea448cbc)\" style=\"fill: none; stroke-dasharray: 9.6,2.4,1.5,2.4; stroke-dashoffset: 0; stroke: #2ca02c; stroke-width: 1.5\"/>\n   </g>\n   <g id=\"line2d_115\">\n    <path d=\"M 34.923295 13.5 \nL 44.646742 86.083061 \nL 54.370189 101.378101 \nL 64.093636 111.612412 \nL 73.817082 114.555045 \nL 83.540529 119.474221 \nL 93.263976 123.386936 \nL 102.987423 124.656414 \nL 112.71087 127.26892 \nL 122.434316 127.856556 \nL 132.157763 131.519532 \nL 141.88121 130.766353 \nL 151.604657 133.062534 \nL 161.328104 133.703733 \nL 171.051551 134.11175 \nL 180.774997 136.922126 \nL 190.498444 136.972529 \nL 200.221891 138.444879 \nL 209.945338 139.5 \n\" clip-path=\"url(#pdaea448cbc)\" style=\"fill: none; stroke: #1f77b4; stroke-width: 1.5; stroke-linecap: square\"/>\n   </g>\n   <g id=\"line2d_116\">\n    <path d=\"M 49.633125 89.324542 \nL 69.163125 75.580435 \nL 88.693125 98.250919 \nL 108.223125 114.24735 \nL 127.753125 122.949183 \nL 147.283125 121.533896 \nL 166.813125 123.179184 \nL 186.343125 128.508105 \nL 205.873125 132.836557 \n\" clip-path=\"url(#pdaea448cbc)\" style=\"fill: none; stroke-dasharray: 5.55,2.4; stroke-dashoffset: 0; stroke: #ff7f0e; stroke-width: 1.5\"/>\n   </g>\n   <g id=\"line2d_117\">\n    <path d=\"M 49.633125 69.02504 \nL 69.163125 79.249884 \nL 88.693125 69.042639 \nL 108.223125 60.084901 \nL 127.753125 55.562036 \nL 147.283125 56.917136 \nL 166.813125 56.969932 \nL 186.343125 54.418121 \nL 205.873125 52.411869 \n\" clip-path=\"url(#pdaea448cbc)\" style=\"fill: none; stroke-dasharray: 9.6,2.4,1.5,2.4; stroke-dashoffset: 0; stroke: #2ca02c; stroke-width: 1.5\"/>\n   </g>\n   <g id=\"line2d_118\">\n    <path d=\"M 34.923295 13.5 \nL 44.646742 86.083061 \nL 54.370189 101.378101 \nL 64.093636 111.612412 \nL 73.817082 114.555045 \nL 83.540529 119.474221 \nL 93.263976 123.386936 \nL 102.987423 124.656414 \nL 112.71087 127.26892 \nL 122.434316 127.856556 \nL 132.157763 131.519532 \nL 141.88121 130.766353 \nL 151.604657 133.062534 \nL 161.328104 133.703733 \nL 171.051551 134.11175 \nL 180.774997 136.922126 \nL 190.498444 136.972529 \nL 200.221891 138.444879 \nL 209.945338 139.5 \nL 219.668785 138.878505 \n\" clip-path=\"url(#pdaea448cbc)\" style=\"fill: none; stroke: #1f77b4; stroke-width: 1.5; stroke-linecap: square\"/>\n   </g>\n   <g id=\"line2d_119\">\n    <path d=\"M 49.633125 89.324542 \nL 69.163125 75.580435 \nL 88.693125 98.250919 \nL 108.223125 114.24735 \nL 127.753125 122.949183 \nL 147.283125 121.533896 \nL 166.813125 123.179184 \nL 186.343125 128.508105 \nL 205.873125 132.836557 \n\" clip-path=\"url(#pdaea448cbc)\" style=\"fill: none; stroke-dasharray: 5.55,2.4; stroke-dashoffset: 0; stroke: #ff7f0e; stroke-width: 1.5\"/>\n   </g>\n   <g id=\"line2d_120\">\n    <path d=\"M 49.633125 69.02504 \nL 69.163125 79.249884 \nL 88.693125 69.042639 \nL 108.223125 60.084901 \nL 127.753125 55.562036 \nL 147.283125 56.917136 \nL 166.813125 56.969932 \nL 186.343125 54.418121 \nL 205.873125 52.411869 \n\" clip-path=\"url(#pdaea448cbc)\" style=\"fill: none; stroke-dasharray: 9.6,2.4,1.5,2.4; stroke-dashoffset: 0; stroke: #2ca02c; stroke-width: 1.5\"/>\n   </g>\n   <g id=\"line2d_121\">\n    <path d=\"M 34.923295 13.5 \nL 44.646742 86.083061 \nL 54.370189 101.378101 \nL 64.093636 111.612412 \nL 73.817082 114.555045 \nL 83.540529 119.474221 \nL 93.263976 123.386936 \nL 102.987423 124.656414 \nL 112.71087 127.26892 \nL 122.434316 127.856556 \nL 132.157763 131.519532 \nL 141.88121 130.766353 \nL 151.604657 133.062534 \nL 161.328104 133.703733 \nL 171.051551 134.11175 \nL 180.774997 136.922126 \nL 190.498444 136.972529 \nL 200.221891 138.444879 \nL 209.945338 139.5 \nL 219.668785 138.878505 \n\" clip-path=\"url(#pdaea448cbc)\" style=\"fill: none; stroke: #1f77b4; stroke-width: 1.5; stroke-linecap: square\"/>\n   </g>\n   <g id=\"line2d_122\">\n    <path d=\"M 49.633125 89.324542 \nL 69.163125 75.580435 \nL 88.693125 98.250919 \nL 108.223125 114.24735 \nL 127.753125 122.949183 \nL 147.283125 121.533896 \nL 166.813125 123.179184 \nL 186.343125 128.508105 \nL 205.873125 132.836557 \nL 225.403125 132.743 \n\" clip-path=\"url(#pdaea448cbc)\" style=\"fill: none; stroke-dasharray: 5.55,2.4; stroke-dashoffset: 0; stroke: #ff7f0e; stroke-width: 1.5\"/>\n   </g>\n   <g id=\"line2d_123\">\n    <path d=\"M 49.633125 69.02504 \nL 69.163125 79.249884 \nL 88.693125 69.042639 \nL 108.223125 60.084901 \nL 127.753125 55.562036 \nL 147.283125 56.917136 \nL 166.813125 56.969932 \nL 186.343125 54.418121 \nL 205.873125 52.411869 \n\" clip-path=\"url(#pdaea448cbc)\" style=\"fill: none; stroke-dasharray: 9.6,2.4,1.5,2.4; stroke-dashoffset: 0; stroke: #2ca02c; stroke-width: 1.5\"/>\n   </g>\n   <g id=\"line2d_124\">\n    <path d=\"M 34.923295 13.5 \nL 44.646742 86.083061 \nL 54.370189 101.378101 \nL 64.093636 111.612412 \nL 73.817082 114.555045 \nL 83.540529 119.474221 \nL 93.263976 123.386936 \nL 102.987423 124.656414 \nL 112.71087 127.26892 \nL 122.434316 127.856556 \nL 132.157763 131.519532 \nL 141.88121 130.766353 \nL 151.604657 133.062534 \nL 161.328104 133.703733 \nL 171.051551 134.11175 \nL 180.774997 136.922126 \nL 190.498444 136.972529 \nL 200.221891 138.444879 \nL 209.945338 139.5 \nL 219.668785 138.878505 \n\" clip-path=\"url(#pdaea448cbc)\" style=\"fill: none; stroke: #1f77b4; stroke-width: 1.5; stroke-linecap: square\"/>\n   </g>\n   <g id=\"line2d_125\">\n    <path d=\"M 49.633125 89.324542 \nL 69.163125 75.580435 \nL 88.693125 98.250919 \nL 108.223125 114.24735 \nL 127.753125 122.949183 \nL 147.283125 121.533896 \nL 166.813125 123.179184 \nL 186.343125 128.508105 \nL 205.873125 132.836557 \nL 225.403125 132.743 \n\" clip-path=\"url(#pdaea448cbc)\" style=\"fill: none; stroke-dasharray: 5.55,2.4; stroke-dashoffset: 0; stroke: #ff7f0e; stroke-width: 1.5\"/>\n   </g>\n   <g id=\"line2d_126\">\n    <path d=\"M 49.633125 69.02504 \nL 69.163125 79.249884 \nL 88.693125 69.042639 \nL 108.223125 60.084901 \nL 127.753125 55.562036 \nL 147.283125 56.917136 \nL 166.813125 56.969932 \nL 186.343125 54.418121 \nL 205.873125 52.411869 \nL 225.403125 52.887034 \n\" clip-path=\"url(#pdaea448cbc)\" style=\"fill: none; stroke-dasharray: 9.6,2.4,1.5,2.4; stroke-dashoffset: 0; stroke: #2ca02c; stroke-width: 1.5\"/>\n   </g>\n   <g id=\"patch_3\">\n    <path d=\"M 30.103125 145.8 \nL 30.103125 7.2 \n\" style=\"fill: none; stroke: #000000; stroke-width: 0.8; stroke-linejoin: miter; stroke-linecap: square\"/>\n   </g>\n   <g id=\"patch_4\">\n    <path d=\"M 225.403125 145.8 \nL 225.403125 7.2 \n\" style=\"fill: none; stroke: #000000; stroke-width: 0.8; stroke-linejoin: miter; stroke-linecap: square\"/>\n   </g>\n   <g id=\"patch_5\">\n    <path d=\"M 30.103125 145.8 \nL 225.403125 145.8 \n\" style=\"fill: none; stroke: #000000; stroke-width: 0.8; stroke-linejoin: miter; stroke-linecap: square\"/>\n   </g>\n   <g id=\"patch_6\">\n    <path d=\"M 30.103125 7.2 \nL 225.403125 7.2 \n\" style=\"fill: none; stroke: #000000; stroke-width: 0.8; stroke-linejoin: miter; stroke-linecap: square\"/>\n   </g>\n   <g id=\"legend_1\">\n    <g id=\"patch_7\">\n     <path d=\"M 138.8125 100.434375 \nL 218.403125 100.434375 \nQ 220.403125 100.434375 220.403125 98.434375 \nL 220.403125 54.565625 \nQ 220.403125 52.565625 218.403125 52.565625 \nL 138.8125 52.565625 \nQ 136.8125 52.565625 136.8125 54.565625 \nL 136.8125 98.434375 \nQ 136.8125 100.434375 138.8125 100.434375 \nz\n\" style=\"fill: #ffffff; opacity: 0.8; stroke: #cccccc; stroke-linejoin: miter\"/>\n    </g>\n    <g id=\"line2d_127\">\n     <path d=\"M 140.8125 60.664063 \nL 150.8125 60.664063 \nL 160.8125 60.664063 \n\" style=\"fill: none; stroke: #1f77b4; stroke-width: 1.5; stroke-linecap: square\"/>\n    </g>\n    <g id=\"text_12\">\n     <!-- train_loss -->\n     <g transform=\"translate(168.8125 64.164063) scale(0.1 -0.1)\">\n      <defs>\n       <path id=\"DejaVuSans-74\" d=\"M 1172 4494 \nL 1172 3500 \nL 2356 3500 \nL 2356 3053 \nL 1172 3053 \nL 1172 1153 \nQ 1172 725 1289 603 \nQ 1406 481 1766 481 \nL 2356 481 \nL 2356 0 \nL 1766 0 \nQ 1100 0 847 248 \nQ 594 497 594 1153 \nL 594 3053 \nL 172 3053 \nL 172 3500 \nL 594 3500 \nL 594 4494 \nL 1172 4494 \nz\n\" transform=\"scale(0.015625)\"/>\n       <path id=\"DejaVuSans-72\" d=\"M 2631 2963 \nQ 2534 3019 2420 3045 \nQ 2306 3072 2169 3072 \nQ 1681 3072 1420 2755 \nQ 1159 2438 1159 1844 \nL 1159 0 \nL 581 0 \nL 581 3500 \nL 1159 3500 \nL 1159 2956 \nQ 1341 3275 1631 3429 \nQ 1922 3584 2338 3584 \nQ 2397 3584 2469 3576 \nQ 2541 3569 2628 3553 \nL 2631 2963 \nz\n\" transform=\"scale(0.015625)\"/>\n       <path id=\"DejaVuSans-61\" d=\"M 2194 1759 \nQ 1497 1759 1228 1600 \nQ 959 1441 959 1056 \nQ 959 750 1161 570 \nQ 1363 391 1709 391 \nQ 2188 391 2477 730 \nQ 2766 1069 2766 1631 \nL 2766 1759 \nL 2194 1759 \nz\nM 3341 1997 \nL 3341 0 \nL 2766 0 \nL 2766 531 \nQ 2569 213 2275 61 \nQ 1981 -91 1556 -91 \nQ 1019 -91 701 211 \nQ 384 513 384 1019 \nQ 384 1609 779 1909 \nQ 1175 2209 1959 2209 \nL 2766 2209 \nL 2766 2266 \nQ 2766 2663 2505 2880 \nQ 2244 3097 1772 3097 \nQ 1472 3097 1187 3025 \nQ 903 2953 641 2809 \nL 641 3341 \nQ 956 3463 1253 3523 \nQ 1550 3584 1831 3584 \nQ 2591 3584 2966 3190 \nQ 3341 2797 3341 1997 \nz\n\" transform=\"scale(0.015625)\"/>\n       <path id=\"DejaVuSans-69\" d=\"M 603 3500 \nL 1178 3500 \nL 1178 0 \nL 603 0 \nL 603 3500 \nz\nM 603 4863 \nL 1178 4863 \nL 1178 4134 \nL 603 4134 \nL 603 4863 \nz\n\" transform=\"scale(0.015625)\"/>\n       <path id=\"DejaVuSans-6e\" d=\"M 3513 2113 \nL 3513 0 \nL 2938 0 \nL 2938 2094 \nQ 2938 2591 2744 2837 \nQ 2550 3084 2163 3084 \nQ 1697 3084 1428 2787 \nQ 1159 2491 1159 1978 \nL 1159 0 \nL 581 0 \nL 581 3500 \nL 1159 3500 \nL 1159 2956 \nQ 1366 3272 1645 3428 \nQ 1925 3584 2291 3584 \nQ 2894 3584 3203 3211 \nQ 3513 2838 3513 2113 \nz\n\" transform=\"scale(0.015625)\"/>\n       <path id=\"DejaVuSans-5f\" d=\"M 3263 -1063 \nL 3263 -1509 \nL -63 -1509 \nL -63 -1063 \nL 3263 -1063 \nz\n\" transform=\"scale(0.015625)\"/>\n       <path id=\"DejaVuSans-6c\" d=\"M 603 4863 \nL 1178 4863 \nL 1178 0 \nL 603 0 \nL 603 4863 \nz\n\" transform=\"scale(0.015625)\"/>\n       <path id=\"DejaVuSans-73\" d=\"M 2834 3397 \nL 2834 2853 \nQ 2591 2978 2328 3040 \nQ 2066 3103 1784 3103 \nQ 1356 3103 1142 2972 \nQ 928 2841 928 2578 \nQ 928 2378 1081 2264 \nQ 1234 2150 1697 2047 \nL 1894 2003 \nQ 2506 1872 2764 1633 \nQ 3022 1394 3022 966 \nQ 3022 478 2636 193 \nQ 2250 -91 1575 -91 \nQ 1294 -91 989 -36 \nQ 684 19 347 128 \nL 347 722 \nQ 666 556 975 473 \nQ 1284 391 1588 391 \nQ 1994 391 2212 530 \nQ 2431 669 2431 922 \nQ 2431 1156 2273 1281 \nQ 2116 1406 1581 1522 \nL 1381 1569 \nQ 847 1681 609 1914 \nQ 372 2147 372 2553 \nQ 372 3047 722 3315 \nQ 1072 3584 1716 3584 \nQ 2034 3584 2315 3537 \nQ 2597 3491 2834 3397 \nz\n\" transform=\"scale(0.015625)\"/>\n      </defs>\n      <use xlink:href=\"#DejaVuSans-74\"/>\n      <use xlink:href=\"#DejaVuSans-72\" x=\"39.208984\"/>\n      <use xlink:href=\"#DejaVuSans-61\" x=\"80.322266\"/>\n      <use xlink:href=\"#DejaVuSans-69\" x=\"141.601562\"/>\n      <use xlink:href=\"#DejaVuSans-6e\" x=\"169.384766\"/>\n      <use xlink:href=\"#DejaVuSans-5f\" x=\"232.763672\"/>\n      <use xlink:href=\"#DejaVuSans-6c\" x=\"282.763672\"/>\n      <use xlink:href=\"#DejaVuSans-6f\" x=\"310.546875\"/>\n      <use xlink:href=\"#DejaVuSans-73\" x=\"371.728516\"/>\n      <use xlink:href=\"#DejaVuSans-73\" x=\"423.828125\"/>\n     </g>\n    </g>\n    <g id=\"line2d_128\">\n     <path d=\"M 140.8125 75.620313 \nL 150.8125 75.620313 \nL 160.8125 75.620313 \n\" style=\"fill: none; stroke-dasharray: 5.55,2.4; stroke-dashoffset: 0; stroke: #ff7f0e; stroke-width: 1.5\"/>\n    </g>\n    <g id=\"text_13\">\n     <!-- val_loss -->\n     <g transform=\"translate(168.8125 79.120313) scale(0.1 -0.1)\">\n      <defs>\n       <path id=\"DejaVuSans-76\" d=\"M 191 3500 \nL 800 3500 \nL 1894 563 \nL 2988 3500 \nL 3597 3500 \nL 2284 0 \nL 1503 0 \nL 191 3500 \nz\n\" transform=\"scale(0.015625)\"/>\n      </defs>\n      <use xlink:href=\"#DejaVuSans-76\"/>\n      <use xlink:href=\"#DejaVuSans-61\" x=\"59.179688\"/>\n      <use xlink:href=\"#DejaVuSans-6c\" x=\"120.458984\"/>\n      <use xlink:href=\"#DejaVuSans-5f\" x=\"148.242188\"/>\n      <use xlink:href=\"#DejaVuSans-6c\" x=\"198.242188\"/>\n      <use xlink:href=\"#DejaVuSans-6f\" x=\"226.025391\"/>\n      <use xlink:href=\"#DejaVuSans-73\" x=\"287.207031\"/>\n      <use xlink:href=\"#DejaVuSans-73\" x=\"339.306641\"/>\n     </g>\n    </g>\n    <g id=\"line2d_129\">\n     <path d=\"M 140.8125 90.576563 \nL 150.8125 90.576563 \nL 160.8125 90.576563 \n\" style=\"fill: none; stroke-dasharray: 9.6,2.4,1.5,2.4; stroke-dashoffset: 0; stroke: #2ca02c; stroke-width: 1.5\"/>\n    </g>\n    <g id=\"text_14\">\n     <!-- val_acc -->\n     <g transform=\"translate(168.8125 94.076563) scale(0.1 -0.1)\">\n      <use xlink:href=\"#DejaVuSans-76\"/>\n      <use xlink:href=\"#DejaVuSans-61\" x=\"59.179688\"/>\n      <use xlink:href=\"#DejaVuSans-6c\" x=\"120.458984\"/>\n      <use xlink:href=\"#DejaVuSans-5f\" x=\"148.242188\"/>\n      <use xlink:href=\"#DejaVuSans-61\" x=\"198.242188\"/>\n      <use xlink:href=\"#DejaVuSans-63\" x=\"259.521484\"/>\n      <use xlink:href=\"#DejaVuSans-63\" x=\"314.501953\"/>\n     </g>\n    </g>\n   </g>\n  </g>\n </g>\n <defs>\n  <clipPath id=\"pdaea448cbc\">\n   <rect x=\"30.103125\" y=\"7.2\" width=\"195.3\" height=\"138.6\"/>\n  </clipPath>\n </defs>\n</svg>\n"
          },
          "metadata": {}
        }
      ]
    },
    {
      "cell_type": "markdown",
      "source": [
        "# 5.3"
      ],
      "metadata": {
        "id": "lNI6U3rl96FL"
      }
    },
    {
      "cell_type": "markdown",
      "source": [
        "## exercise"
      ],
      "metadata": {
        "id": "nxlJx5ku97Y0"
      }
    },
    {
      "cell_type": "markdown",
      "source": [
        "5. **Assume that the computational graph is too large for your GPU.**   \n",
        "We might use multiple GPU. Making a pipeline and scheduling those might be quite hard, but I want to try it when I'm available. Maybe use virtual machines or containers to do it on one physical machine?"
      ],
      "metadata": {
        "id": "vVjrJbia98ha"
      }
    },
    {
      "cell_type": "markdown",
      "source": [
        "# Discussions"
      ],
      "metadata": {
        "id": "m97F0jIT-fQc"
      }
    },
    {
      "cell_type": "markdown",
      "source": [
        "##some exercise questions I liked"
      ],
      "metadata": {
        "id": "6DpAA5RN_VRW"
      }
    },
    {
      "cell_type": "markdown",
      "source": [
        "**3.4 #4 What are the problems you might encounter if you wanted to compute the second derivatives of the loss? How would you fix them?**    \n",
        "    \n",
        "It might take up quadratic memory space and much more computation time. So, we can use approximations like Gauss-Newton approximation or limited-memory quasi-Newton method to conteract."
      ],
      "metadata": {
        "id": "xaH9U_cCAFEo"
      }
    },
    {
      "cell_type": "markdown",
      "source": [
        "**4.4 #3 Is it always a good idea to return the most likely label? For example, would you do this for medical diagnosis? How would you try to address this?**      \n",
        "\n",
        "I think it depends on the domain knowledge. Let the labels be A, B, C, and corresponding probabilities P(A), P(B), P(C). Also, let's say P(A)>P(B)>P(C). Normal classifier would return A. However, there might be situations where P(B|C) > P(A), and we might need to consider this."
      ],
      "metadata": {
        "id": "hkAarAyfAyK-"
      }
    },
    {
      "cell_type": "markdown",
      "source": [
        "**5.1 #7 Provide an example where the gradients vanish for the sigmoid activation function.**   \n",
        "\n",
        "When x -> inf or x -> -inf, the sigmoid function is very flat, as converging to +-1. Also, the gradient itself is usually smaller than 1. If this get repeatedly multiplied, the gradient will keep decreasing, thus disappearing. We can use other activatoin functions like ReLU to counteract these issues."
      ],
      "metadata": {
        "id": "-VwjQNAyBfwf"
      }
    },
    {
      "cell_type": "markdown",
      "source": [
        "**5.3 #5 Assume that the computational graph is too large for your GPU.**\n",
        "\n",
        "I might use multiple GPUs to solve this problem. First thought that comes to me is to simply make minibatches smaller (by slicing more) and send them to GPU. One thing I'm concerned is when updating the weights. When multiple calculations occur at once really fast, the weights might not be updated correctly. Also, I'm not familiar with hardware scheduling, so this might be much harder on pracitce. But once the pipeline is constructed, time taken for each epoch might decrease, therefore being able to test on more hyperparameters and initialization.   \n",
        "Another idea is to use virtual machines or containers to divide one physical GPU into many of them.   \n",
        "Also, using cloud computing may help (or devastate due to maintenance issues) solving this issue."
      ],
      "metadata": {
        "id": "l81q0qklB2O5"
      }
    },
    {
      "cell_type": "markdown",
      "source": [
        "# end of file\n",
        "\n"
      ],
      "metadata": {
        "id": "woUPnVGhE9Ia"
      }
    },
    {
      "cell_type": "markdown",
      "source": [
        "# end of file 2"
      ],
      "metadata": {
        "id": "1PIii48oFC38"
      }
    },
    {
      "cell_type": "markdown",
      "source": [
        "# end of file 3"
      ],
      "metadata": {
        "id": "jd4I_ILnFGu_"
      }
    },
    {
      "cell_type": "markdown",
      "source": [
        "# end of file 4"
      ],
      "metadata": {
        "id": "-1vNegYDFLHp"
      }
    }
  ]
}